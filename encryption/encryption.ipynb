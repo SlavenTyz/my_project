{
 "cells": [
  {
   "cell_type": "markdown",
   "metadata": {},
   "source": [
    "# Защита персональных данных клиентов"
   ]
  },
  {
   "cell_type": "markdown",
   "metadata": {},
   "source": [
    "Нужно защитить данные клиентов страховой компании «Хоть потоп». Разработайте такой метод преобразования данных, чтобы по ним было сложно восстановить персональную информацию. Обоснуйте корректность его работы.\n",
    "\n",
    "Нужно защитить данные, чтобы при преобразовании качество моделей машинного обучения не ухудшилось. Подбирать наилучшую модель не требуется."
   ]
  },
  {
   "cell_type": "markdown",
   "metadata": {},
   "source": [
    "## Загрузка данных"
   ]
  },
  {
   "cell_type": "code",
   "execution_count": 1,
   "metadata": {},
   "outputs": [],
   "source": [
    "import pandas as pd\n",
    "import numpy as np\n",
    "import seaborn as sns\n",
    "import matplotlib.pyplot as plt\n",
    "from IPython.display import display\n",
    "from sklearn.datasets import make_spd_matrix\n",
    "from sklearn.model_selection import train_test_split\n",
    "from sklearn.linear_model import LinearRegression\n",
    "from sklearn.metrics import r2_score\n",
    "pd.set_option('display.max_columns', 100)"
   ]
  },
  {
   "cell_type": "code",
   "execution_count": 2,
   "metadata": {},
   "outputs": [],
   "source": [
    "df= pd.read_csv('/datasets/insurance.csv')"
   ]
  },
  {
   "cell_type": "code",
   "execution_count": 3,
   "metadata": {},
   "outputs": [
    {
     "data": {
      "text/html": [
       "<div>\n",
       "<style scoped>\n",
       "    .dataframe tbody tr th:only-of-type {\n",
       "        vertical-align: middle;\n",
       "    }\n",
       "\n",
       "    .dataframe tbody tr th {\n",
       "        vertical-align: top;\n",
       "    }\n",
       "\n",
       "    .dataframe thead th {\n",
       "        text-align: right;\n",
       "    }\n",
       "</style>\n",
       "<table border=\"1\" class=\"dataframe\">\n",
       "  <thead>\n",
       "    <tr style=\"text-align: right;\">\n",
       "      <th></th>\n",
       "      <th>Пол</th>\n",
       "      <th>Возраст</th>\n",
       "      <th>Зарплата</th>\n",
       "      <th>Члены семьи</th>\n",
       "      <th>Страховые выплаты</th>\n",
       "    </tr>\n",
       "  </thead>\n",
       "  <tbody>\n",
       "    <tr>\n",
       "      <th>0</th>\n",
       "      <td>1</td>\n",
       "      <td>41.0</td>\n",
       "      <td>49600.0</td>\n",
       "      <td>1</td>\n",
       "      <td>0</td>\n",
       "    </tr>\n",
       "    <tr>\n",
       "      <th>1</th>\n",
       "      <td>0</td>\n",
       "      <td>46.0</td>\n",
       "      <td>38000.0</td>\n",
       "      <td>1</td>\n",
       "      <td>1</td>\n",
       "    </tr>\n",
       "    <tr>\n",
       "      <th>2</th>\n",
       "      <td>0</td>\n",
       "      <td>29.0</td>\n",
       "      <td>21000.0</td>\n",
       "      <td>0</td>\n",
       "      <td>0</td>\n",
       "    </tr>\n",
       "    <tr>\n",
       "      <th>3</th>\n",
       "      <td>0</td>\n",
       "      <td>21.0</td>\n",
       "      <td>41700.0</td>\n",
       "      <td>2</td>\n",
       "      <td>0</td>\n",
       "    </tr>\n",
       "    <tr>\n",
       "      <th>4</th>\n",
       "      <td>1</td>\n",
       "      <td>28.0</td>\n",
       "      <td>26100.0</td>\n",
       "      <td>0</td>\n",
       "      <td>0</td>\n",
       "    </tr>\n",
       "  </tbody>\n",
       "</table>\n",
       "</div>"
      ],
      "text/plain": [
       "   Пол  Возраст  Зарплата  Члены семьи  Страховые выплаты\n",
       "0    1     41.0   49600.0            1                  0\n",
       "1    0     46.0   38000.0            1                  1\n",
       "2    0     29.0   21000.0            0                  0\n",
       "3    0     21.0   41700.0            2                  0\n",
       "4    1     28.0   26100.0            0                  0"
      ]
     },
     "execution_count": 3,
     "metadata": {},
     "output_type": "execute_result"
    }
   ],
   "source": [
    "df.head()"
   ]
  },
  {
   "cell_type": "code",
   "execution_count": 4,
   "metadata": {},
   "outputs": [
    {
     "name": "stdout",
     "output_type": "stream",
     "text": [
      "<class 'pandas.core.frame.DataFrame'>\n",
      "RangeIndex: 5000 entries, 0 to 4999\n",
      "Data columns (total 5 columns):\n",
      " #   Column             Non-Null Count  Dtype  \n",
      "---  ------             --------------  -----  \n",
      " 0   Пол                5000 non-null   int64  \n",
      " 1   Возраст            5000 non-null   float64\n",
      " 2   Зарплата           5000 non-null   float64\n",
      " 3   Члены семьи        5000 non-null   int64  \n",
      " 4   Страховые выплаты  5000 non-null   int64  \n",
      "dtypes: float64(2), int64(3)\n",
      "memory usage: 195.4 KB\n"
     ]
    }
   ],
   "source": [
    "df.info()"
   ]
  },
  {
   "cell_type": "markdown",
   "metadata": {},
   "source": [
    "Как видно пропусков нет, посмотрим как данные распределены"
   ]
  },
  {
   "cell_type": "code",
   "execution_count": 5,
   "metadata": {},
   "outputs": [
    {
     "data": {
      "text/plain": [
       "<AxesSubplot:>"
      ]
     },
     "execution_count": 5,
     "metadata": {},
     "output_type": "execute_result"
    },
    {
     "data": {
      "image/png": "[encoded data removed]",
      "text/plain": [
       "<Figure size 432x288 with 1 Axes>"
      ]
     },
     "metadata": {
      "needs_background": "light"
     },
     "output_type": "display_data"
    }
   ],
   "source": [
    "df['Пол'].hist()"
   ]
  },
  {
   "cell_type": "code",
   "execution_count": 6,
   "metadata": {},
   "outputs": [
    {
     "data": {
      "text/plain": [
       "<AxesSubplot:>"
      ]
     },
     "execution_count": 6,
     "metadata": {},
     "output_type": "execute_result"
    },
    {
     "data": {
      "image/png": "[encoded data removed]",
      "text/plain": [
       "<Figure size 432x288 with 1 Axes>"
      ]
     },
     "metadata": {
      "needs_background": "light"
     },
     "output_type": "display_data"
    }
   ],
   "source": [
    "df['Возраст'].hist()"
   ]
  },
  {
   "cell_type": "code",
   "execution_count": 7,
   "metadata": {},
   "outputs": [
    {
     "data": {
      "text/plain": [
       "<AxesSubplot:>"
      ]
     },
     "execution_count": 7,
     "metadata": {},
     "output_type": "execute_result"
    },
    {
     "data": {
      "image/png": "[encoded data removed]",
      "text/plain": [
       "<Figure size 432x288 with 1 Axes>"
      ]
     },
     "metadata": {
      "needs_background": "light"
     },
     "output_type": "display_data"
    }
   ],
   "source": [
    "df['Зарплата'].hist()"
   ]
  },
  {
   "cell_type": "code",
   "execution_count": 8,
   "metadata": {},
   "outputs": [
    {
     "data": {
      "text/plain": [
       "<AxesSubplot:>"
      ]
     },
     "execution_count": 8,
     "metadata": {},
     "output_type": "execute_result"
    },
    {
     "data": {
      "image/png": "[encoded data removed]",
      "text/plain": [
       "<Figure size 432x288 with 1 Axes>"
      ]
     },
     "metadata": {
      "needs_background": "light"
     },
     "output_type": "display_data"
    }
   ],
   "source": [
    "df['Члены семьи'].hist()"
   ]
  },
  {
   "cell_type": "code",
   "execution_count": 9,
   "metadata": {},
   "outputs": [
    {
     "data": {
      "text/plain": [
       "<AxesSubplot:>"
      ]
     },
     "execution_count": 9,
     "metadata": {},
     "output_type": "execute_result"
    },
    {
     "data": {
      "image/png": "[encoded data removed]",
      "text/plain": [
       "<Figure size 432x288 with 1 Axes>"
      ]
     },
     "metadata": {
      "needs_background": "light"
     },
     "output_type": "display_data"
    }
   ],
   "source": [
    "df['Страховые выплаты'].hist()"
   ]
  },
  {
   "cell_type": "markdown",
   "metadata": {},
   "source": [
    "Посмотрим на корреляцию числовых признаков:"
   ]
  },
  {
   "cell_type": "code",
   "execution_count": 10,
   "metadata": {},
   "outputs": [
    {
     "data": {
      "image/png": "[encoded data removed]",
      "text/plain": [
       "<Figure size 432x288 with 2 Axes>"
      ]
     },
     "metadata": {
      "needs_background": "light"
     },
     "output_type": "display_data"
    }
   ],
   "source": [
    "sns.heatmap(df[['Возраст', 'Зарплата', 'Члены семьи', 'Страховые выплаты']].corr(), cmap='RdYlGn', annot=True)\n",
    "plt.title('Корреляция числовых признаков')\n",
    "plt.show()"
   ]
  },
  {
   "cell_type": "code",
   "execution_count": 11,
   "metadata": {},
   "outputs": [
    {
     "name": "stdout",
     "output_type": "stream",
     "text": [
      "Количество дубликатов: 153\n",
      "Доля дубликатов: 3.06 %\n"
     ]
    }
   ],
   "source": [
    "print('Количество дубликатов:', df.duplicated().sum())\n",
    "print('Доля дубликатов:', df.duplicated().sum()/len(df)*100,'%')"
   ]
  },
  {
   "cell_type": "markdown",
   "metadata": {},
   "source": [
    "Так как дубликатов очень мало, по этому их можно удалить"
   ]
  },
  {
   "cell_type": "code",
   "execution_count": 12,
   "metadata": {},
   "outputs": [],
   "source": [
    "df= df.drop_duplicates()"
   ]
  },
  {
   "cell_type": "code",
   "execution_count": 13,
   "metadata": {},
   "outputs": [
    {
     "data": {
      "text/html": [
       "<div>\n",
       "<style scoped>\n",
       "    .dataframe tbody tr th:only-of-type {\n",
       "        vertical-align: middle;\n",
       "    }\n",
       "\n",
       "    .dataframe tbody tr th {\n",
       "        vertical-align: top;\n",
       "    }\n",
       "\n",
       "    .dataframe thead th {\n",
       "        text-align: right;\n",
       "    }\n",
       "</style>\n",
       "<table border=\"1\" class=\"dataframe\">\n",
       "  <thead>\n",
       "    <tr style=\"text-align: right;\">\n",
       "      <th></th>\n",
       "      <th>Пол</th>\n",
       "      <th>Возраст</th>\n",
       "      <th>Зарплата</th>\n",
       "      <th>Члены семьи</th>\n",
       "      <th>Страховые выплаты</th>\n",
       "    </tr>\n",
       "  </thead>\n",
       "  <tbody>\n",
       "    <tr>\n",
       "      <th>count</th>\n",
       "      <td>4847.000000</td>\n",
       "      <td>4847.000000</td>\n",
       "      <td>4847.000000</td>\n",
       "      <td>4847.000000</td>\n",
       "      <td>4847.000000</td>\n",
       "    </tr>\n",
       "    <tr>\n",
       "      <th>mean</th>\n",
       "      <td>0.498453</td>\n",
       "      <td>31.023932</td>\n",
       "      <td>39895.811842</td>\n",
       "      <td>1.203425</td>\n",
       "      <td>0.152259</td>\n",
       "    </tr>\n",
       "    <tr>\n",
       "      <th>std</th>\n",
       "      <td>0.500049</td>\n",
       "      <td>8.487995</td>\n",
       "      <td>9972.953985</td>\n",
       "      <td>1.098664</td>\n",
       "      <td>0.468934</td>\n",
       "    </tr>\n",
       "    <tr>\n",
       "      <th>min</th>\n",
       "      <td>0.000000</td>\n",
       "      <td>18.000000</td>\n",
       "      <td>5300.000000</td>\n",
       "      <td>0.000000</td>\n",
       "      <td>0.000000</td>\n",
       "    </tr>\n",
       "    <tr>\n",
       "      <th>25%</th>\n",
       "      <td>0.000000</td>\n",
       "      <td>24.000000</td>\n",
       "      <td>33200.000000</td>\n",
       "      <td>0.000000</td>\n",
       "      <td>0.000000</td>\n",
       "    </tr>\n",
       "    <tr>\n",
       "      <th>50%</th>\n",
       "      <td>0.000000</td>\n",
       "      <td>30.000000</td>\n",
       "      <td>40200.000000</td>\n",
       "      <td>1.000000</td>\n",
       "      <td>0.000000</td>\n",
       "    </tr>\n",
       "    <tr>\n",
       "      <th>75%</th>\n",
       "      <td>1.000000</td>\n",
       "      <td>37.000000</td>\n",
       "      <td>46600.000000</td>\n",
       "      <td>2.000000</td>\n",
       "      <td>0.000000</td>\n",
       "    </tr>\n",
       "    <tr>\n",
       "      <th>max</th>\n",
       "      <td>1.000000</td>\n",
       "      <td>65.000000</td>\n",
       "      <td>79000.000000</td>\n",
       "      <td>6.000000</td>\n",
       "      <td>5.000000</td>\n",
       "    </tr>\n",
       "  </tbody>\n",
       "</table>\n",
       "</div>"
      ],
      "text/plain": [
       "               Пол      Возраст      Зарплата  Члены семьи  Страховые выплаты\n",
       "count  4847.000000  4847.000000   4847.000000  4847.000000        4847.000000\n",
       "mean      0.498453    31.023932  39895.811842     1.203425           0.152259\n",
       "std       0.500049     8.487995   9972.953985     1.098664           0.468934\n",
       "min       0.000000    18.000000   5300.000000     0.000000           0.000000\n",
       "25%       0.000000    24.000000  33200.000000     0.000000           0.000000\n",
       "50%       0.000000    30.000000  40200.000000     1.000000           0.000000\n",
       "75%       1.000000    37.000000  46600.000000     2.000000           0.000000\n",
       "max       1.000000    65.000000  79000.000000     6.000000           5.000000"
      ]
     },
     "execution_count": 13,
     "metadata": {},
     "output_type": "execute_result"
    }
   ],
   "source": [
    "df.describe()"
   ]
  },
  {
   "cell_type": "markdown",
   "metadata": {},
   "source": [
    "### Вывод данные заполнены корректно, пропусков и аномальных значений не наблюдается. Значит обрабатывать данные не нужно"
   ]
  },
  {
   "cell_type": "markdown",
   "metadata": {},
   "source": [
    "## Умножение матриц"
   ]
  },
  {
   "cell_type": "markdown",
   "metadata": {},
   "source": [
    "Обозначения:\n",
    "\n",
    "- $X$ — матрица признаков (нулевой столбец состоит из единиц)\n",
    "\n",
    "- $y$ — вектор целевого признака\n",
    "\n",
    "- $P$ — матрица, на которую умножаются признаки\n",
    "\n",
    "- $w$ — вектор весов линейной регрессии (нулевой элемент равен сдвигу)"
   ]
  },
  {
   "cell_type": "markdown",
   "metadata": {},
   "source": [
    "Предсказания:\n",
    "\n",
    "$$\n",
    "a = Xw\n",
    "$$\n",
    "\n",
    "Задача обучения:\n",
    "\n",
    "$$\n",
    "w = \\arg\\min_w MSE(Xw, y)\n",
    "$$\n",
    "\n",
    "Формула обучения:\n",
    "\n",
    "$$\n",
    "w = (X^T X)^{-1} X^T y\n",
    "$$\n",
    "\n",
    "Вопрос: Признаки умножают на обратимую матрицу. Изменится ли качество линейной регрессии?\n",
    "\n",
    "Ответ: Не изменится.\n",
    "\n",
    "Обоснование:\n",
    "\n",
    "Посмотрим как должен выглядеть расчет.\n",
    "\n",
    "Подставим в формулу  $$ a = X1w   расчет   w = (X^T X)^{-1} X^T y $$\n",
    "\n",
    "$$ a=X1*((X^T X)^{-1} X^T y) $$\n",
    "Раскроем скобки, используя следующее свойство обратной матрицы: $$ (AB)^{-1}=B^{-1}A^{-1}$$\n",
    "$$ a=X1*X^{-1}*(X^T)^{-1}*X^T*y $$\n",
    "Преобразую вырожение используя следующие свойство Е-единичная матрица $$ X^T*X^{-1}=E$$ \n",
    "$$ a=X1*X^{-1}*Е*у=X1*X^{-1}*у $$\n",
    "Теперь умножим матрицу на обратимую матрицу P:\n",
    "\n",
    "$$ a1=(X1*P)((X*P)^T*(X*P))^{-1}*(X*P)^T*y $$ \n",
    "Раскроем скобки, используя свойство обратной матрицы: $$  (AB)^{-1}=B^{-1}A^{-1} $$  и свойство транспорнированной матрицы: $$ (AB)^T=B^T*A^T $$\n",
    "\n",
    "$$ a1=(X1*P)*(X*P)^{-1}*((X*P)^T)^{-1}*(X*P)^T*y=(X1*P)*P^{-1}*X^{-1}*(X^T)^{-1}*(P^T)^{-1}*P^T*X^T*y=X1*P*P^{-1}*X*X^{-1}*(X^T)^{-1}*(P^T)^{-1}*P^T*X^T*y $$\n",
    "\n",
    "Результатом умножения матрицы на обратную матрицу будет единичная мартица E:\n",
    "$$ P*P^{-1}=E $$ \n",
    "$$(P^T)^{-1}*P^T=E  $$ \n",
    "$$(X^T)^{-1}*X^T=E $$\n",
    "Преобразую вырожение\n",
    "\n",
    "$$ a1=X1*E*X^{-1}*(X^T)^{-1}*E*X^T*y=X1*X^{-1}*(X^T)^{-1}*X^T*y=X1*X^{-1}*E*y=X1*X^{-1}*y $$\n",
    "\n",
    "Получается a1=a\n",
    "\n"
   ]
  },
  {
   "cell_type": "markdown",
   "metadata": {},
   "source": [
    "Для защиты информации умножим матрицу признаков на обратимую матрицу, которая генерируется случайным образом.\n",
    "\n",
    "Этапы алгоритма:\n",
    "\n",
    "Создание случайной матрицы размерностью n, где n- ширина матрицы признаков.\n",
    "\n",
    "Проверка матрицы на обратимость.\n",
    "\n",
    "Умножение матрицы признаков на случайную обратимую матрицу\n",
    "\n",
    "Применение модели на преобразованных признаках\n",
    "\n",
    "Обоснование\n",
    "\n",
    "Матрица признаков имеет размерность m x n, где n- ширина матрицы, те количество признаков для регрессии. Случайная матрица должна быть квадратной размера nxn, тк обратимая матрица может быть только квадратной"
   ]
  },
  {
   "cell_type": "markdown",
   "metadata": {},
   "source": [
    "Выделим признаки"
   ]
  },
  {
   "cell_type": "code",
   "execution_count": 14,
   "metadata": {},
   "outputs": [],
   "source": [
    "df_features = df.drop('Страховые выплаты', axis=1)\n",
    "df_target = df['Страховые выплаты']"
   ]
  },
  {
   "cell_type": "markdown",
   "metadata": {},
   "source": [
    "### Создаем обратимую матрицу"
   ]
  },
  {
   "cell_type": "markdown",
   "metadata": {},
   "source": [
    "В таблице признаков 4 признака. Значит необходимо создать случайную матрицу размера 4х4"
   ]
  },
  {
   "cell_type": "code",
   "execution_count": 15,
   "metadata": {},
   "outputs": [
    {
     "name": "stdout",
     "output_type": "stream",
     "text": [
      "[[ 1.26706064  1.22421705  0.21835987  1.48152609]\n",
      " [ 0.21019619  2.47116735  1.79534533 -1.15408966]\n",
      " [-0.44178028  0.13140961  0.06081529  0.9880662 ]\n",
      " [-0.60057818 -0.71131501 -0.82091273 -1.54951442]]\n"
     ]
    }
   ],
   "source": [
    "random_matrix= np.random.normal(size =(4,4))\n",
    "print(random_matrix)"
   ]
  },
  {
   "cell_type": "markdown",
   "metadata": {},
   "source": [
    "Проверим является ли она обратимой"
   ]
  },
  {
   "cell_type": "code",
   "execution_count": 16,
   "metadata": {},
   "outputs": [
    {
     "name": "stdout",
     "output_type": "stream",
     "text": [
      "Матрица обратима\n",
      "[[ 0.23384528 -0.16565546 -1.14811621 -0.38514367]\n",
      " [ 0.64116911  0.30051847  0.77820088  0.88543706]\n",
      " [-0.86334848  0.08603924 -0.65666944 -1.30828286]\n",
      " [ 0.0724215  -0.1193309   0.4356564  -0.20943963]]\n"
     ]
    }
   ],
   "source": [
    "invert = []\n",
    "\n",
    "try:\n",
    "    invert = np.linalg.inv(random_matrix)\n",
    "    print('Матрица обратима')\n",
    "except:\n",
    "    random_matrix= np.random.normal(size =(4,4))\n",
    "    invert = np.linalg.inv(random_matrix)\n",
    "    print('Матрица не обратима,  заново сгенерировал матрицу')\n",
    "\n",
    "print(invert)"
   ]
  },
  {
   "cell_type": "markdown",
   "metadata": {},
   "source": [
    "### Умножим матрицу с признаками на случайную обратимую матрицу"
   ]
  },
  {
   "cell_type": "code",
   "execution_count": 17,
   "metadata": {},
   "outputs": [
    {
     "data": {
      "text/plain": [
       "(4847, 4)"
      ]
     },
     "execution_count": 17,
     "metadata": {},
     "output_type": "execute_result"
    }
   ],
   "source": [
    "features_reversible=df_features@random_matrix\n",
    "features_reversible.shape"
   ]
  },
  {
   "cell_type": "code",
   "execution_count": 18,
   "metadata": {},
   "outputs": [
    {
     "data": {
      "text/html": [
       "<div>\n",
       "<style scoped>\n",
       "    .dataframe tbody tr th:only-of-type {\n",
       "        vertical-align: middle;\n",
       "    }\n",
       "\n",
       "    .dataframe tbody tr th {\n",
       "        vertical-align: top;\n",
       "    }\n",
       "\n",
       "    .dataframe thead th {\n",
       "        text-align: right;\n",
       "    }\n",
       "</style>\n",
       "<table border=\"1\" class=\"dataframe\">\n",
       "  <thead>\n",
       "    <tr style=\"text-align: right;\">\n",
       "      <th></th>\n",
       "      <th>0</th>\n",
       "      <th>1</th>\n",
       "      <th>2</th>\n",
       "      <th>3</th>\n",
       "    </tr>\n",
       "  </thead>\n",
       "  <tbody>\n",
       "    <tr>\n",
       "      <th>0</th>\n",
       "      <td>-21903.017484</td>\n",
       "      <td>6619.747335</td>\n",
       "      <td>3089.444894</td>\n",
       "      <td>48960.697786</td>\n",
       "    </tr>\n",
       "    <tr>\n",
       "      <th>1</th>\n",
       "      <td>-16778.582287</td>\n",
       "      <td>5106.527498</td>\n",
       "      <td>2392.745919</td>\n",
       "      <td>37491.877908</td>\n",
       "    </tr>\n",
       "    <tr>\n",
       "      <th>2</th>\n",
       "      <td>-9271.290242</td>\n",
       "      <td>2831.265627</td>\n",
       "      <td>1329.186064</td>\n",
       "      <td>20715.921570</td>\n",
       "    </tr>\n",
       "    <tr>\n",
       "      <th>3</th>\n",
       "      <td>-18419.024815</td>\n",
       "      <td>5530.252551</td>\n",
       "      <td>2572.057939</td>\n",
       "      <td>41175.025569</td>\n",
       "    </tr>\n",
       "    <tr>\n",
       "      <th>4</th>\n",
       "      <td>-11523.312818</td>\n",
       "      <td>3500.207679</td>\n",
       "      <td>1637.767048</td>\n",
       "      <td>25757.694799</td>\n",
       "    </tr>\n",
       "    <tr>\n",
       "      <th>...</th>\n",
       "      <td>...</td>\n",
       "      <td>...</td>\n",
       "      <td>...</td>\n",
       "      <td>...</td>\n",
       "    </tr>\n",
       "    <tr>\n",
       "      <th>4995</th>\n",
       "      <td>-15766.871747</td>\n",
       "      <td>4759.093072</td>\n",
       "      <td>2219.733628</td>\n",
       "      <td>35238.549750</td>\n",
       "    </tr>\n",
       "    <tr>\n",
       "      <th>4996</th>\n",
       "      <td>-23142.740709</td>\n",
       "      <td>6969.171850</td>\n",
       "      <td>3246.941924</td>\n",
       "      <td>51733.880243</td>\n",
       "    </tr>\n",
       "    <tr>\n",
       "      <th>4997</th>\n",
       "      <td>-14973.348808</td>\n",
       "      <td>4502.786438</td>\n",
       "      <td>2095.903347</td>\n",
       "      <td>33469.263310</td>\n",
       "    </tr>\n",
       "    <tr>\n",
       "      <th>4998</th>\n",
       "      <td>-14442.125594</td>\n",
       "      <td>4350.550145</td>\n",
       "      <td>2025.913139</td>\n",
       "      <td>32281.207704</td>\n",
       "    </tr>\n",
       "    <tr>\n",
       "      <th>4999</th>\n",
       "      <td>-17929.727492</td>\n",
       "      <td>5404.935685</td>\n",
       "      <td>2518.767812</td>\n",
       "      <td>40083.105164</td>\n",
       "    </tr>\n",
       "  </tbody>\n",
       "</table>\n",
       "<p>4847 rows × 4 columns</p>\n",
       "</div>"
      ],
      "text/plain": [
       "                 0            1            2             3\n",
       "0    -21903.017484  6619.747335  3089.444894  48960.697786\n",
       "1    -16778.582287  5106.527498  2392.745919  37491.877908\n",
       "2     -9271.290242  2831.265627  1329.186064  20715.921570\n",
       "3    -18419.024815  5530.252551  2572.057939  41175.025569\n",
       "4    -11523.312818  3500.207679  1637.767048  25757.694799\n",
       "...            ...          ...          ...           ...\n",
       "4995 -15766.871747  4759.093072  2219.733628  35238.549750\n",
       "4996 -23142.740709  6969.171850  3246.941924  51733.880243\n",
       "4997 -14973.348808  4502.786438  2095.903347  33469.263310\n",
       "4998 -14442.125594  4350.550145  2025.913139  32281.207704\n",
       "4999 -17929.727492  5404.935685  2518.767812  40083.105164\n",
       "\n",
       "[4847 rows x 4 columns]"
      ]
     },
     "execution_count": 18,
     "metadata": {},
     "output_type": "execute_result"
    }
   ],
   "source": [
    "features_reversible"
   ]
  },
  {
   "cell_type": "code",
   "execution_count": 19,
   "metadata": {},
   "outputs": [
    {
     "data": {
      "text/html": [
       "<div>\n",
       "<style scoped>\n",
       "    .dataframe tbody tr th:only-of-type {\n",
       "        vertical-align: middle;\n",
       "    }\n",
       "\n",
       "    .dataframe tbody tr th {\n",
       "        vertical-align: top;\n",
       "    }\n",
       "\n",
       "    .dataframe thead th {\n",
       "        text-align: right;\n",
       "    }\n",
       "</style>\n",
       "<table border=\"1\" class=\"dataframe\">\n",
       "  <thead>\n",
       "    <tr style=\"text-align: right;\">\n",
       "      <th></th>\n",
       "      <th>Пол</th>\n",
       "      <th>Возраст</th>\n",
       "      <th>Зарплата</th>\n",
       "      <th>Члены семьи</th>\n",
       "    </tr>\n",
       "  </thead>\n",
       "  <tbody>\n",
       "    <tr>\n",
       "      <th>0</th>\n",
       "      <td>1</td>\n",
       "      <td>41.0</td>\n",
       "      <td>49600.0</td>\n",
       "      <td>1</td>\n",
       "    </tr>\n",
       "    <tr>\n",
       "      <th>1</th>\n",
       "      <td>0</td>\n",
       "      <td>46.0</td>\n",
       "      <td>38000.0</td>\n",
       "      <td>1</td>\n",
       "    </tr>\n",
       "    <tr>\n",
       "      <th>2</th>\n",
       "      <td>0</td>\n",
       "      <td>29.0</td>\n",
       "      <td>21000.0</td>\n",
       "      <td>0</td>\n",
       "    </tr>\n",
       "    <tr>\n",
       "      <th>3</th>\n",
       "      <td>0</td>\n",
       "      <td>21.0</td>\n",
       "      <td>41700.0</td>\n",
       "      <td>2</td>\n",
       "    </tr>\n",
       "    <tr>\n",
       "      <th>4</th>\n",
       "      <td>1</td>\n",
       "      <td>28.0</td>\n",
       "      <td>26100.0</td>\n",
       "      <td>0</td>\n",
       "    </tr>\n",
       "  </tbody>\n",
       "</table>\n",
       "</div>"
      ],
      "text/plain": [
       "   Пол  Возраст  Зарплата  Члены семьи\n",
       "0    1     41.0   49600.0            1\n",
       "1    0     46.0   38000.0            1\n",
       "2    0     29.0   21000.0            0\n",
       "3    0     21.0   41700.0            2\n",
       "4    1     28.0   26100.0            0"
      ]
     },
     "execution_count": 19,
     "metadata": {},
     "output_type": "execute_result"
    }
   ],
   "source": [
    "df_features.head()"
   ]
  },
  {
   "cell_type": "markdown",
   "metadata": {},
   "source": [
    "## Алгоритм преобразования"
   ]
  },
  {
   "cell_type": "markdown",
   "metadata": {},
   "source": [
    "### В исходных данных разделю выборки на обучающию и тестовую"
   ]
  },
  {
   "cell_type": "code",
   "execution_count": 20,
   "metadata": {},
   "outputs": [
    {
     "name": "stdout",
     "output_type": "stream",
     "text": [
      "df_features= (4847, 4)\n",
      "df_target= (4847,)\n"
     ]
    }
   ],
   "source": [
    "print('df_features=',df_features.shape)\n",
    "print('df_target=',df_target.shape)"
   ]
  },
  {
   "cell_type": "code",
   "execution_count": 21,
   "metadata": {},
   "outputs": [
    {
     "name": "stdout",
     "output_type": "stream",
     "text": [
      "features_train= (3392, 4)\n",
      "features_test_valid1= (1455, 4)\n",
      "target_train= (3392,)\n",
      "target_test_valid1= (1455,)\n"
     ]
    }
   ],
   "source": [
    "features_train, features_test_valid, target_train, target_test_valid = train_test_split(df_features, df_target, \n",
    "                                                                              test_size=0.3, \n",
    "                                                                              random_state=12345)\n",
    "print('features_train=',features_train.shape)\n",
    "print('features_test_valid1=',features_test_valid.shape)\n",
    "print('target_train=',target_train.shape)\n",
    "print('target_test_valid1=',target_test_valid.shape)"
   ]
  },
  {
   "cell_type": "markdown",
   "metadata": {},
   "source": [
    "Обучаю на \n",
    "\n",
    "         features_train \n",
    " \n",
    "         target_train\n",
    "\n",
    "Тестирую на\n",
    "\n",
    "            features_test_valid\n",
    "\n",
    "            target_test_valid"
   ]
  },
  {
   "cell_type": "markdown",
   "metadata": {},
   "source": [
    "### Напишу функцию линейной регрессии"
   ]
  },
  {
   "cell_type": "code",
   "execution_count": 22,
   "metadata": {},
   "outputs": [],
   "source": [
    "class LinearRegression:\n",
    "    def fit(self, train_features, train_target):\n",
    "        X = np.concatenate((np.ones((train_features.shape[0], 1)), train_features), axis=1)\n",
    "        y = train_target\n",
    "        w = np.linalg.inv(X.T.dot(X)).dot(X.T).dot(y)\n",
    "        self.w = w[1:]\n",
    "        self.w0 = w[0]\n",
    "\n",
    "    def predict(self, test_features):\n",
    "        return test_features.dot(self.w) + self.w0 "
   ]
  },
  {
   "cell_type": "code",
   "execution_count": 23,
   "metadata": {},
   "outputs": [
    {
     "name": "stdout",
     "output_type": "stream",
     "text": [
      "r2= 0.43287552621918113\n"
     ]
    }
   ],
   "source": [
    "model = LinearRegression()\n",
    "model.fit(features_train, target_train)\n",
    "predictions = model.predict(features_test_valid)\n",
    "r2=r2_score(target_test_valid, predictions)\n",
    "print('r2=',r2_score(target_test_valid, predictions))"
   ]
  },
  {
   "cell_type": "markdown",
   "metadata": {},
   "source": [
    "## Проверка алгоритма"
   ]
  },
  {
   "cell_type": "markdown",
   "metadata": {},
   "source": [
    "Проверим наличие изминений после шифрования т.е умножение марицу  с признаками на обратимую матрицу"
   ]
  },
  {
   "cell_type": "code",
   "execution_count": 24,
   "metadata": {},
   "outputs": [
    {
     "name": "stdout",
     "output_type": "stream",
     "text": [
      "(4847, 4)\n",
      "(4847,)\n"
     ]
    }
   ],
   "source": [
    "print(features_reversible.shape) \n",
    "print(df_target.shape)"
   ]
  },
  {
   "cell_type": "markdown",
   "metadata": {},
   "source": [
    "### Данные с обратимой матрицей разделю  на обучающие и тестовые признаки"
   ]
  },
  {
   "cell_type": "code",
   "execution_count": 25,
   "metadata": {},
   "outputs": [
    {
     "name": "stdout",
     "output_type": "stream",
     "text": [
      "features_train= (3392, 4)\n",
      "features_test_valid1= (1455, 4)\n",
      "target_train= (3392,)\n",
      "target_test_valid1= (1455,)\n"
     ]
    }
   ],
   "source": [
    "features_train2, features_test_valid2, target_train2, target_test_valid2 = train_test_split(features_reversible, df_target, \n",
    "                                                                              test_size=0.3, \n",
    "                                                                              random_state=12345)\n",
    "print('features_train=',features_train2.shape)\n",
    "print('features_test_valid1=',features_test_valid2.shape)\n",
    "print('target_train=',target_train2.shape)\n",
    "print('target_test_valid1=',target_test_valid2.shape)"
   ]
  },
  {
   "cell_type": "code",
   "execution_count": 26,
   "metadata": {},
   "outputs": [
    {
     "name": "stdout",
     "output_type": "stream",
     "text": [
      "0.43287552626909775\n"
     ]
    }
   ],
   "source": [
    "model = LinearRegression()\n",
    "model.fit(features_train2, target_train2)\n",
    "predictions = model.predict(features_test_valid2)\n",
    "r2__reversible=r2_score(target_test_valid2, predictions)\n",
    "print(r2_score(target_test_valid2, predictions))"
   ]
  },
  {
   "cell_type": "markdown",
   "metadata": {},
   "source": [
    "### Проверю разницу R2 у исходных данных и данных которые зашифровал обратимой матрицой"
   ]
  },
  {
   "cell_type": "code",
   "execution_count": 27,
   "metadata": {},
   "outputs": [
    {
     "data": {
      "text/plain": [
       "-4.99166263878692e-11"
      ]
     },
     "execution_count": 27,
     "metadata": {},
     "output_type": "execute_result"
    }
   ],
   "source": [
    "delta=r2-r2__reversible\n",
    "delta"
   ]
  },
  {
   "cell_type": "markdown",
   "metadata": {},
   "source": [
    "## Заключение Метрика R2 изминилась не значительно Качество линейной ригрессии практически не изменилась на преобразованых(зашифрованых данных). Значит данные можно шифровать если подобрать обратную матрицу"
   ]
  }
 ],
 "metadata": {
  "ExecuteTimeLog": [
   {
    "duration": 74,
    "start_time": "2022-04-09T05:02:17.247Z"
   },
   {
    "duration": 542,
    "start_time": "2022-04-09T05:02:28.951Z"
   },
   {
    "duration": 41,
    "start_time": "2022-04-09T05:02:30.836Z"
   },
   {
    "duration": 3,
    "start_time": "2022-04-09T05:02:39.536Z"
   },
   {
    "duration": 9,
    "start_time": "2022-04-09T05:02:41.368Z"
   },
   {
    "duration": 10,
    "start_time": "2022-04-09T05:03:36.572Z"
   },
   {
    "duration": 4,
    "start_time": "2022-04-09T05:04:55.005Z"
   },
   {
    "duration": 315,
    "start_time": "2022-04-09T05:05:01.345Z"
   },
   {
    "duration": 14,
    "start_time": "2022-04-09T05:05:33.401Z"
   },
   {
    "duration": 28,
    "start_time": "2022-04-09T05:06:04.269Z"
   },
   {
    "duration": 22,
    "start_time": "2022-04-09T05:07:03.454Z"
   },
   {
    "duration": 805,
    "start_time": "2022-04-09T05:08:06.258Z"
   },
   {
    "duration": 191,
    "start_time": "2022-04-09T05:08:23.215Z"
   },
   {
    "duration": 216,
    "start_time": "2022-04-09T05:08:41.451Z"
   },
   {
    "duration": 213,
    "start_time": "2022-04-09T05:09:08.932Z"
   },
   {
    "duration": 256,
    "start_time": "2022-04-09T05:09:39.128Z"
   },
   {
    "duration": 16,
    "start_time": "2022-04-09T05:23:52.085Z"
   },
   {
    "duration": 6,
    "start_time": "2022-04-09T05:24:24.157Z"
   },
   {
    "duration": 19,
    "start_time": "2022-04-09T05:24:30.389Z"
   },
   {
    "duration": 27,
    "start_time": "2022-04-09T05:27:10.970Z"
   },
   {
    "duration": 4,
    "start_time": "2022-04-09T05:27:30.494Z"
   },
   {
    "duration": 5,
    "start_time": "2022-04-09T05:27:36.142Z"
   },
   {
    "duration": 8,
    "start_time": "2022-04-09T05:27:49.925Z"
   },
   {
    "duration": 7,
    "start_time": "2022-04-09T05:28:07.402Z"
   },
   {
    "duration": 6,
    "start_time": "2022-04-09T05:29:14.254Z"
   },
   {
    "duration": 5,
    "start_time": "2022-04-09T05:32:26.260Z"
   },
   {
    "duration": 7,
    "start_time": "2022-04-09T05:33:17.672Z"
   },
   {
    "duration": 6,
    "start_time": "2022-04-09T05:33:25.227Z"
   },
   {
    "duration": 673,
    "start_time": "2022-04-09T06:12:13.563Z"
   },
   {
    "duration": 483,
    "start_time": "2022-04-09T06:12:18.090Z"
   },
   {
    "duration": 619,
    "start_time": "2022-04-09T06:12:57.591Z"
   },
   {
    "duration": 477,
    "start_time": "2022-04-09T06:12:59.919Z"
   },
   {
    "duration": 2004,
    "start_time": "2022-04-09T06:13:39.913Z"
   },
   {
    "duration": 18,
    "start_time": "2022-04-09T06:13:41.920Z"
   },
   {
    "duration": 45,
    "start_time": "2022-04-09T06:13:41.941Z"
   },
   {
    "duration": 21,
    "start_time": "2022-04-09T06:13:41.990Z"
   },
   {
    "duration": 327,
    "start_time": "2022-04-09T06:13:42.014Z"
   },
   {
    "duration": 292,
    "start_time": "2022-04-09T06:13:42.344Z"
   },
   {
    "duration": 332,
    "start_time": "2022-04-09T06:13:42.638Z"
   },
   {
    "duration": 315,
    "start_time": "2022-04-09T06:13:42.972Z"
   },
   {
    "duration": 202,
    "start_time": "2022-04-09T06:13:43.289Z"
   },
   {
    "duration": 104,
    "start_time": "2022-04-09T06:13:43.495Z"
   },
   {
    "duration": 0,
    "start_time": "2022-04-09T06:13:43.601Z"
   },
   {
    "duration": 0,
    "start_time": "2022-04-09T06:13:43.603Z"
   },
   {
    "duration": 0,
    "start_time": "2022-04-09T06:13:43.604Z"
   },
   {
    "duration": 0,
    "start_time": "2022-04-09T06:13:43.606Z"
   },
   {
    "duration": 0,
    "start_time": "2022-04-09T06:13:43.607Z"
   },
   {
    "duration": 0,
    "start_time": "2022-04-09T06:13:43.609Z"
   },
   {
    "duration": 0,
    "start_time": "2022-04-09T06:13:43.610Z"
   },
   {
    "duration": 568,
    "start_time": "2022-04-09T06:14:03.667Z"
   },
   {
    "duration": 9,
    "start_time": "2022-04-09T06:31:07.313Z"
   },
   {
    "duration": 12,
    "start_time": "2022-04-09T06:31:41.125Z"
   },
   {
    "duration": 166,
    "start_time": "2022-04-09T06:31:52.485Z"
   },
   {
    "duration": 11,
    "start_time": "2022-04-09T06:32:03.145Z"
   },
   {
    "duration": 13,
    "start_time": "2022-04-09T06:32:12.002Z"
   },
   {
    "duration": 8,
    "start_time": "2022-04-09T06:32:33.681Z"
   },
   {
    "duration": 11,
    "start_time": "2022-04-09T06:32:35.790Z"
   },
   {
    "duration": 122,
    "start_time": "2022-04-09T08:00:28.226Z"
   },
   {
    "duration": 1052,
    "start_time": "2022-04-09T08:00:56.835Z"
   },
   {
    "duration": 103,
    "start_time": "2022-04-09T08:01:04.990Z"
   },
   {
    "duration": 8,
    "start_time": "2022-04-09T08:01:17.216Z"
   },
   {
    "duration": 11,
    "start_time": "2022-04-09T08:01:30.896Z"
   },
   {
    "duration": 33,
    "start_time": "2022-04-09T08:01:53.883Z"
   },
   {
    "duration": 12,
    "start_time": "2022-04-09T08:02:13.937Z"
   },
   {
    "duration": 12,
    "start_time": "2022-04-09T08:02:16.599Z"
   },
   {
    "duration": 9,
    "start_time": "2022-04-09T08:02:30.303Z"
   },
   {
    "duration": 7,
    "start_time": "2022-04-09T08:02:34.095Z"
   },
   {
    "duration": 7,
    "start_time": "2022-04-09T08:02:37.491Z"
   },
   {
    "duration": 8,
    "start_time": "2022-04-09T08:02:38.239Z"
   },
   {
    "duration": 7,
    "start_time": "2022-04-09T08:02:43.535Z"
   },
   {
    "duration": 6,
    "start_time": "2022-04-09T08:12:48.961Z"
   },
   {
    "duration": 7,
    "start_time": "2022-04-09T08:12:59.858Z"
   },
   {
    "duration": 5,
    "start_time": "2022-04-09T08:15:09.720Z"
   },
   {
    "duration": 6,
    "start_time": "2022-04-09T08:15:14.719Z"
   },
   {
    "duration": 8,
    "start_time": "2022-04-09T08:23:03.326Z"
   },
   {
    "duration": 6,
    "start_time": "2022-04-09T08:23:15.605Z"
   },
   {
    "duration": 9,
    "start_time": "2022-04-09T08:23:29.054Z"
   },
   {
    "duration": 16,
    "start_time": "2022-04-09T08:25:19.274Z"
   },
   {
    "duration": 7,
    "start_time": "2022-04-09T08:25:39.478Z"
   },
   {
    "duration": 6,
    "start_time": "2022-04-09T08:25:43.998Z"
   },
   {
    "duration": 6,
    "start_time": "2022-04-09T08:25:48.582Z"
   },
   {
    "duration": 5,
    "start_time": "2022-04-09T08:26:01.597Z"
   },
   {
    "duration": 117,
    "start_time": "2022-04-09T08:27:41.955Z"
   },
   {
    "duration": 53,
    "start_time": "2022-04-09T08:29:43.640Z"
   },
   {
    "duration": 8,
    "start_time": "2022-04-09T08:31:45.341Z"
   },
   {
    "duration": 7,
    "start_time": "2022-04-09T08:32:08.625Z"
   },
   {
    "duration": 9,
    "start_time": "2022-04-09T08:32:29.449Z"
   },
   {
    "duration": 11,
    "start_time": "2022-04-09T08:32:40.737Z"
   },
   {
    "duration": 4,
    "start_time": "2022-04-09T08:33:21.950Z"
   },
   {
    "duration": 11,
    "start_time": "2022-04-09T08:33:46.981Z"
   },
   {
    "duration": 11,
    "start_time": "2022-04-09T08:33:59.594Z"
   },
   {
    "duration": 11,
    "start_time": "2022-04-09T08:34:06.925Z"
   },
   {
    "duration": 214,
    "start_time": "2022-04-09T08:34:23.862Z"
   },
   {
    "duration": 232,
    "start_time": "2022-04-09T08:34:33.789Z"
   },
   {
    "duration": 10,
    "start_time": "2022-04-09T08:36:23.366Z"
   },
   {
    "duration": 206,
    "start_time": "2022-04-09T09:04:47.693Z"
   },
   {
    "duration": 16,
    "start_time": "2022-04-09T09:13:38.197Z"
   },
   {
    "duration": 5,
    "start_time": "2022-04-09T09:14:07.942Z"
   },
   {
    "duration": 5,
    "start_time": "2022-04-09T09:14:30.053Z"
   },
   {
    "duration": 5,
    "start_time": "2022-04-09T09:14:52.426Z"
   },
   {
    "duration": 8,
    "start_time": "2022-04-09T09:15:34.910Z"
   },
   {
    "duration": 6,
    "start_time": "2022-04-09T09:15:39.390Z"
   },
   {
    "duration": 12,
    "start_time": "2022-04-09T09:16:43.921Z"
   },
   {
    "duration": 8,
    "start_time": "2022-04-09T09:16:47.135Z"
   },
   {
    "duration": 11,
    "start_time": "2022-04-09T09:17:57.724Z"
   },
   {
    "duration": 6,
    "start_time": "2022-04-09T09:17:58.999Z"
   },
   {
    "duration": 10,
    "start_time": "2022-04-09T09:18:00.581Z"
   },
   {
    "duration": 6,
    "start_time": "2022-04-09T09:18:02.423Z"
   },
   {
    "duration": 11,
    "start_time": "2022-04-09T09:18:03.688Z"
   },
   {
    "duration": 16,
    "start_time": "2022-04-09T09:18:05.007Z"
   },
   {
    "duration": 8,
    "start_time": "2022-04-09T09:18:23.832Z"
   },
   {
    "duration": 6,
    "start_time": "2022-04-09T09:31:24.751Z"
   },
   {
    "duration": 6,
    "start_time": "2022-04-09T09:31:36.383Z"
   },
   {
    "duration": 8,
    "start_time": "2022-04-09T09:32:42.683Z"
   },
   {
    "duration": 7,
    "start_time": "2022-04-09T09:33:10.456Z"
   },
   {
    "duration": 5,
    "start_time": "2022-04-09T09:33:15.168Z"
   },
   {
    "duration": 15,
    "start_time": "2022-04-09T09:40:32.495Z"
   },
   {
    "duration": 6,
    "start_time": "2022-04-09T09:41:03.154Z"
   },
   {
    "duration": 5,
    "start_time": "2022-04-09T09:41:18.036Z"
   },
   {
    "duration": 8,
    "start_time": "2022-04-09T09:41:38.479Z"
   },
   {
    "duration": 7,
    "start_time": "2022-04-09T09:42:37.115Z"
   },
   {
    "duration": 18,
    "start_time": "2022-04-09T09:43:34.044Z"
   },
   {
    "duration": 5,
    "start_time": "2022-04-09T09:47:39.362Z"
   },
   {
    "duration": 5,
    "start_time": "2022-04-09T09:47:40.541Z"
   },
   {
    "duration": 11,
    "start_time": "2022-04-09T09:47:41.077Z"
   },
   {
    "duration": 8,
    "start_time": "2022-04-09T09:48:19.489Z"
   },
   {
    "duration": 12,
    "start_time": "2022-04-09T09:48:38.125Z"
   },
   {
    "duration": 10,
    "start_time": "2022-04-09T09:48:45.238Z"
   },
   {
    "duration": 11,
    "start_time": "2022-04-09T09:49:00.614Z"
   },
   {
    "duration": 5,
    "start_time": "2022-04-09T09:49:24.970Z"
   },
   {
    "duration": 11,
    "start_time": "2022-04-09T09:50:21.466Z"
   },
   {
    "duration": 9,
    "start_time": "2022-04-09T09:50:23.574Z"
   },
   {
    "duration": 10,
    "start_time": "2022-04-09T09:50:50.747Z"
   },
   {
    "duration": 6,
    "start_time": "2022-04-09T09:53:26.984Z"
   },
   {
    "duration": 107,
    "start_time": "2022-04-09T09:53:42.872Z"
   },
   {
    "duration": 6,
    "start_time": "2022-04-09T09:53:47.016Z"
   },
   {
    "duration": 4,
    "start_time": "2022-04-09T09:55:42.909Z"
   },
   {
    "duration": 7,
    "start_time": "2022-04-09T09:55:44.429Z"
   },
   {
    "duration": 11,
    "start_time": "2022-04-09T09:55:45.772Z"
   },
   {
    "duration": 5,
    "start_time": "2022-04-09T09:55:50.428Z"
   },
   {
    "duration": 5,
    "start_time": "2022-04-09T09:55:51.290Z"
   },
   {
    "duration": 10,
    "start_time": "2022-04-09T09:55:52.245Z"
   },
   {
    "duration": 11,
    "start_time": "2022-04-09T09:55:53.877Z"
   },
   {
    "duration": 6,
    "start_time": "2022-04-09T09:55:55.657Z"
   },
   {
    "duration": 5,
    "start_time": "2022-04-09T09:56:09.921Z"
   },
   {
    "duration": 2783,
    "start_time": "2022-04-09T09:58:21.859Z"
   },
   {
    "duration": 16,
    "start_time": "2022-04-09T09:58:24.645Z"
   },
   {
    "duration": 33,
    "start_time": "2022-04-09T09:58:24.663Z"
   },
   {
    "duration": 18,
    "start_time": "2022-04-09T09:58:24.698Z"
   },
   {
    "duration": 248,
    "start_time": "2022-04-09T09:58:24.719Z"
   },
   {
    "duration": 216,
    "start_time": "2022-04-09T09:58:24.970Z"
   },
   {
    "duration": 345,
    "start_time": "2022-04-09T09:58:25.188Z"
   },
   {
    "duration": 237,
    "start_time": "2022-04-09T09:58:25.536Z"
   },
   {
    "duration": 207,
    "start_time": "2022-04-09T09:58:25.776Z"
   },
   {
    "duration": 134,
    "start_time": "2022-04-09T09:58:25.986Z"
   },
   {
    "duration": 0,
    "start_time": "2022-04-09T09:58:26.123Z"
   },
   {
    "duration": 0,
    "start_time": "2022-04-09T09:58:26.125Z"
   },
   {
    "duration": 1,
    "start_time": "2022-04-09T09:58:26.126Z"
   },
   {
    "duration": 0,
    "start_time": "2022-04-09T09:58:26.129Z"
   },
   {
    "duration": 0,
    "start_time": "2022-04-09T09:58:26.130Z"
   },
   {
    "duration": 0,
    "start_time": "2022-04-09T09:58:26.131Z"
   },
   {
    "duration": 0,
    "start_time": "2022-04-09T09:58:26.133Z"
   },
   {
    "duration": 0,
    "start_time": "2022-04-09T09:58:26.135Z"
   },
   {
    "duration": 0,
    "start_time": "2022-04-09T09:58:26.137Z"
   },
   {
    "duration": 0,
    "start_time": "2022-04-09T09:58:26.138Z"
   },
   {
    "duration": 0,
    "start_time": "2022-04-09T09:58:26.140Z"
   },
   {
    "duration": 0,
    "start_time": "2022-04-09T09:58:26.142Z"
   },
   {
    "duration": 0,
    "start_time": "2022-04-09T09:58:26.144Z"
   },
   {
    "duration": 0,
    "start_time": "2022-04-09T09:58:26.145Z"
   },
   {
    "duration": 0,
    "start_time": "2022-04-09T09:58:26.146Z"
   },
   {
    "duration": 0,
    "start_time": "2022-04-09T09:58:26.147Z"
   },
   {
    "duration": 0,
    "start_time": "2022-04-09T09:58:26.245Z"
   },
   {
    "duration": 0,
    "start_time": "2022-04-09T09:58:26.247Z"
   },
   {
    "duration": 2328,
    "start_time": "2022-04-09T09:58:40.480Z"
   },
   {
    "duration": 16,
    "start_time": "2022-04-09T09:58:42.811Z"
   },
   {
    "duration": 24,
    "start_time": "2022-04-09T09:58:42.829Z"
   },
   {
    "duration": 38,
    "start_time": "2022-04-09T09:58:42.856Z"
   },
   {
    "duration": 230,
    "start_time": "2022-04-09T09:58:42.897Z"
   },
   {
    "duration": 207,
    "start_time": "2022-04-09T09:58:43.129Z"
   },
   {
    "duration": 239,
    "start_time": "2022-04-09T09:58:43.338Z"
   },
   {
    "duration": 233,
    "start_time": "2022-04-09T09:58:43.580Z"
   },
   {
    "duration": 210,
    "start_time": "2022-04-09T09:58:43.816Z"
   },
   {
    "duration": 593,
    "start_time": "2022-04-09T09:58:44.028Z"
   },
   {
    "duration": 10,
    "start_time": "2022-04-09T09:58:44.623Z"
   },
   {
    "duration": 13,
    "start_time": "2022-04-09T09:58:44.635Z"
   },
   {
    "duration": 12,
    "start_time": "2022-04-09T09:58:44.650Z"
   },
   {
    "duration": 6,
    "start_time": "2022-04-09T09:58:44.685Z"
   },
   {
    "duration": 8,
    "start_time": "2022-04-09T09:58:44.693Z"
   },
   {
    "duration": 80,
    "start_time": "2022-04-09T09:58:44.704Z"
   },
   {
    "duration": 98,
    "start_time": "2022-04-09T09:58:44.788Z"
   },
   {
    "duration": 21,
    "start_time": "2022-04-09T09:58:44.888Z"
   },
   {
    "duration": 7,
    "start_time": "2022-04-09T09:58:44.911Z"
   },
   {
    "duration": 11,
    "start_time": "2022-04-09T09:58:44.920Z"
   },
   {
    "duration": 3,
    "start_time": "2022-04-09T09:58:44.933Z"
   },
   {
    "duration": 46,
    "start_time": "2022-04-09T09:58:44.938Z"
   },
   {
    "duration": 21,
    "start_time": "2022-04-09T09:58:44.986Z"
   },
   {
    "duration": 79,
    "start_time": "2022-04-09T09:58:45.010Z"
   },
   {
    "duration": 96,
    "start_time": "2022-04-09T09:58:45.092Z"
   },
   {
    "duration": 10,
    "start_time": "2022-04-09T09:58:45.190Z"
   },
   {
    "duration": 88,
    "start_time": "2022-04-09T09:58:45.203Z"
   },
   {
    "duration": 6,
    "start_time": "2022-04-09T09:59:20.530Z"
   },
   {
    "duration": 16,
    "start_time": "2022-04-09T10:00:40.710Z"
   },
   {
    "duration": 2315,
    "start_time": "2022-04-09T10:00:47.333Z"
   },
   {
    "duration": 15,
    "start_time": "2022-04-09T10:00:49.650Z"
   },
   {
    "duration": 28,
    "start_time": "2022-04-09T10:00:49.667Z"
   },
   {
    "duration": 16,
    "start_time": "2022-04-09T10:00:49.698Z"
   },
   {
    "duration": 236,
    "start_time": "2022-04-09T10:00:49.716Z"
   },
   {
    "duration": 207,
    "start_time": "2022-04-09T10:00:49.954Z"
   },
   {
    "duration": 243,
    "start_time": "2022-04-09T10:00:50.163Z"
   },
   {
    "duration": 230,
    "start_time": "2022-04-09T10:00:50.408Z"
   },
   {
    "duration": 206,
    "start_time": "2022-04-09T10:00:50.640Z"
   },
   {
    "duration": 564,
    "start_time": "2022-04-09T10:00:50.850Z"
   },
   {
    "duration": 11,
    "start_time": "2022-04-09T10:00:51.416Z"
   },
   {
    "duration": 6,
    "start_time": "2022-04-09T10:00:51.429Z"
   },
   {
    "duration": 5,
    "start_time": "2022-04-09T10:00:51.437Z"
   },
   {
    "duration": 39,
    "start_time": "2022-04-09T10:00:51.445Z"
   },
   {
    "duration": 10,
    "start_time": "2022-04-09T10:00:51.487Z"
   },
   {
    "duration": 85,
    "start_time": "2022-04-09T10:00:51.500Z"
   },
   {
    "duration": 96,
    "start_time": "2022-04-09T10:00:51.588Z"
   },
   {
    "duration": 18,
    "start_time": "2022-04-09T10:00:51.686Z"
   },
   {
    "duration": 6,
    "start_time": "2022-04-09T10:00:51.706Z"
   },
   {
    "duration": 16,
    "start_time": "2022-04-09T10:00:51.715Z"
   },
   {
    "duration": 6,
    "start_time": "2022-04-09T10:00:51.733Z"
   },
   {
    "duration": 52,
    "start_time": "2022-04-09T10:00:51.741Z"
   },
   {
    "duration": 86,
    "start_time": "2022-04-09T10:00:51.801Z"
   },
   {
    "duration": 21,
    "start_time": "2022-04-09T10:00:51.892Z"
   },
   {
    "duration": 75,
    "start_time": "2022-04-09T10:00:51.915Z"
   },
   {
    "duration": 93,
    "start_time": "2022-04-09T10:00:51.993Z"
   },
   {
    "duration": 2042,
    "start_time": "2022-04-09T13:36:42.901Z"
   },
   {
    "duration": 18,
    "start_time": "2022-04-09T13:36:44.945Z"
   },
   {
    "duration": 17,
    "start_time": "2022-04-09T13:36:44.965Z"
   },
   {
    "duration": 12,
    "start_time": "2022-04-09T13:36:44.985Z"
   },
   {
    "duration": 170,
    "start_time": "2022-04-09T13:36:44.998Z"
   },
   {
    "duration": 138,
    "start_time": "2022-04-09T13:36:45.170Z"
   },
   {
    "duration": 166,
    "start_time": "2022-04-09T13:36:45.310Z"
   },
   {
    "duration": 153,
    "start_time": "2022-04-09T13:36:45.478Z"
   },
   {
    "duration": 140,
    "start_time": "2022-04-09T13:36:45.633Z"
   },
   {
    "duration": 460,
    "start_time": "2022-04-09T13:36:45.776Z"
   },
   {
    "duration": 8,
    "start_time": "2022-04-09T13:36:46.238Z"
   },
   {
    "duration": 5,
    "start_time": "2022-04-09T13:36:46.247Z"
   },
   {
    "duration": 5,
    "start_time": "2022-04-09T13:36:46.254Z"
   },
   {
    "duration": 6,
    "start_time": "2022-04-09T13:36:46.261Z"
   },
   {
    "duration": 5,
    "start_time": "2022-04-09T13:36:46.269Z"
   },
   {
    "duration": 57,
    "start_time": "2022-04-09T13:36:46.276Z"
   },
   {
    "duration": 19,
    "start_time": "2022-04-09T13:36:46.336Z"
   },
   {
    "duration": 13,
    "start_time": "2022-04-09T13:36:46.432Z"
   },
   {
    "duration": 5,
    "start_time": "2022-04-09T13:36:46.447Z"
   },
   {
    "duration": 8,
    "start_time": "2022-04-09T13:36:46.454Z"
   },
   {
    "duration": 10,
    "start_time": "2022-04-09T13:36:46.464Z"
   },
   {
    "duration": 11,
    "start_time": "2022-04-09T13:36:46.475Z"
   },
   {
    "duration": 5,
    "start_time": "2022-04-09T13:36:46.533Z"
   },
   {
    "duration": 96,
    "start_time": "2022-04-09T13:36:46.540Z"
   },
   {
    "duration": 12,
    "start_time": "2022-04-09T13:36:46.637Z"
   },
   {
    "duration": 80,
    "start_time": "2022-04-09T13:36:46.652Z"
   },
   {
    "duration": 4,
    "start_time": "2022-04-09T14:02:50.389Z"
   },
   {
    "duration": 29,
    "start_time": "2022-04-09T14:02:50.395Z"
   },
   {
    "duration": 14,
    "start_time": "2022-04-09T14:02:50.425Z"
   },
   {
    "duration": 15,
    "start_time": "2022-04-09T14:02:50.441Z"
   },
   {
    "duration": 157,
    "start_time": "2022-04-09T14:02:50.459Z"
   },
   {
    "duration": 149,
    "start_time": "2022-04-09T14:02:50.617Z"
   },
   {
    "duration": 162,
    "start_time": "2022-04-09T14:02:50.767Z"
   },
   {
    "duration": 153,
    "start_time": "2022-04-09T14:02:50.932Z"
   },
   {
    "duration": 136,
    "start_time": "2022-04-09T14:02:51.087Z"
   },
   {
    "duration": 349,
    "start_time": "2022-04-09T14:02:51.231Z"
   },
   {
    "duration": 8,
    "start_time": "2022-04-09T14:02:51.581Z"
   },
   {
    "duration": 11,
    "start_time": "2022-04-09T14:02:51.591Z"
   },
   {
    "duration": 12,
    "start_time": "2022-04-09T14:02:51.603Z"
   },
   {
    "duration": 13,
    "start_time": "2022-04-09T14:02:51.618Z"
   },
   {
    "duration": 6,
    "start_time": "2022-04-09T14:02:51.633Z"
   },
   {
    "duration": 12,
    "start_time": "2022-04-09T14:02:51.641Z"
   },
   {
    "duration": 94,
    "start_time": "2022-04-09T14:02:51.655Z"
   },
   {
    "duration": 91,
    "start_time": "2022-04-09T14:02:51.750Z"
   },
   {
    "duration": 5,
    "start_time": "2022-04-09T14:02:51.844Z"
   },
   {
    "duration": 9,
    "start_time": "2022-04-09T14:02:51.851Z"
   },
   {
    "duration": 7,
    "start_time": "2022-04-09T14:02:51.861Z"
   },
   {
    "duration": 9,
    "start_time": "2022-04-09T14:02:51.870Z"
   },
   {
    "duration": 6,
    "start_time": "2022-04-09T14:02:51.932Z"
   },
   {
    "duration": 96,
    "start_time": "2022-04-09T14:02:51.940Z"
   },
   {
    "duration": 8,
    "start_time": "2022-04-09T14:02:52.038Z"
   },
   {
    "duration": 84,
    "start_time": "2022-04-09T14:02:52.049Z"
   },
   {
    "duration": 2257,
    "start_time": "2022-04-10T05:43:36.594Z"
   },
   {
    "duration": 18,
    "start_time": "2022-04-10T05:43:38.854Z"
   },
   {
    "duration": 14,
    "start_time": "2022-04-10T05:43:38.874Z"
   },
   {
    "duration": 13,
    "start_time": "2022-04-10T05:43:38.890Z"
   },
   {
    "duration": 150,
    "start_time": "2022-04-10T05:43:38.905Z"
   },
   {
    "duration": 126,
    "start_time": "2022-04-10T05:43:39.057Z"
   },
   {
    "duration": 146,
    "start_time": "2022-04-10T05:43:39.184Z"
   },
   {
    "duration": 142,
    "start_time": "2022-04-10T05:43:39.332Z"
   },
   {
    "duration": 123,
    "start_time": "2022-04-10T05:43:39.476Z"
   },
   {
    "duration": 505,
    "start_time": "2022-04-10T05:43:39.601Z"
   },
   {
    "duration": 8,
    "start_time": "2022-04-10T05:43:40.107Z"
   },
   {
    "duration": 9,
    "start_time": "2022-04-10T05:43:40.117Z"
   },
   {
    "duration": 32,
    "start_time": "2022-04-10T05:43:40.128Z"
   },
   {
    "duration": 4,
    "start_time": "2022-04-10T05:43:40.163Z"
   },
   {
    "duration": 11,
    "start_time": "2022-04-10T05:43:40.169Z"
   },
   {
    "duration": 12,
    "start_time": "2022-04-10T05:43:40.181Z"
   },
   {
    "duration": 51,
    "start_time": "2022-04-10T05:43:40.195Z"
   },
   {
    "duration": 92,
    "start_time": "2022-04-10T05:43:40.248Z"
   },
   {
    "duration": 14,
    "start_time": "2022-04-10T05:43:40.342Z"
   },
   {
    "duration": 13,
    "start_time": "2022-04-10T05:43:40.357Z"
   },
   {
    "duration": 11,
    "start_time": "2022-04-10T05:43:40.372Z"
   },
   {
    "duration": 7,
    "start_time": "2022-04-10T05:43:40.385Z"
   },
   {
    "duration": 14,
    "start_time": "2022-04-10T05:43:40.394Z"
   },
   {
    "duration": 34,
    "start_time": "2022-04-10T05:43:40.410Z"
   },
   {
    "duration": 96,
    "start_time": "2022-04-10T05:43:40.446Z"
   },
   {
    "duration": 8,
    "start_time": "2022-04-10T05:43:40.544Z"
   },
   {
    "duration": 87,
    "start_time": "2022-04-10T05:43:40.554Z"
   }
  ],
  "kernelspec": {
   "display_name": "Python 3 (ipykernel)",
   "language": "python",
   "name": "python3"
  },
  "language_info": {
   "codemirror_mode": {
    "name": "ipython",
    "version": 3
   },
   "file_extension": ".py",
   "mimetype": "text/x-python",
   "name": "python",
   "nbconvert_exporter": "python",
   "pygments_lexer": "ipython3",
   "version": "3.9.5"
  },
  "toc": {
   "base_numbering": 1,
   "nav_menu": {},
   "number_sections": true,
   "sideBar": true,
   "skip_h1_title": true,
   "title_cell": "Содержание",
   "title_sidebar": "Contents",
   "toc_cell": true,
   "toc_position": {
    "height": "740px",
    "left": "226px",
    "top": "387.133px",
    "width": "292px"
   },
   "toc_section_display": true,
   "toc_window_display": true
  }
 },
 "nbformat": 4,
 "nbformat_minor": 2
}
