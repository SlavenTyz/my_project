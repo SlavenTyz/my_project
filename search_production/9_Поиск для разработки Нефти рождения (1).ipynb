{
 "cells": [
  {
   "cell_type": "markdown",
   "metadata": {},
   "source": [
    "# Выбор локации для скважины"
   ]
  },
  {
   "cell_type": "markdown",
   "metadata": {},
   "source": [
    "Допустим, вы работаете в добывающей компании «ГлавРосГосНефть». Нужно решить, где бурить новую скважину.\n",
    "\n",
    "Вам предоставлены пробы нефти в трёх регионах: в каждом 10 000 месторождений, где измерили качество нефти и объём её запасов. Постройте модель машинного обучения, которая поможет определить регион, где добыча принесёт наибольшую прибыль. Проанализируйте возможную прибыль и риски техникой *Bootstrap.*\n",
    "\n",
    "Шаги для выбора локации:\n",
    "\n",
    "- В избранном регионе ищут месторождения, для каждого определяют значения признаков;\n",
    "- Строят модель и оценивают объём запасов;\n",
    "- Выбирают месторождения с самым высокими оценками значений. Количество месторождений зависит от бюджета компании и стоимости разработки одной скважины;\n",
    "- Прибыль равна суммарной прибыли отобранных месторождений."
   ]
  },
  {
   "cell_type": "markdown",
   "metadata": {},
   "source": [
    "## Загрузка и подготовка данных"
   ]
  },
  {
   "cell_type": "code",
   "execution_count": 1,
   "metadata": {},
   "outputs": [],
   "source": [
    "import pandas as pd\n",
    "from sklearn.metrics import precision_score\n",
    "from sklearn.metrics import confusion_matrix\n",
    "from sklearn.tree import DecisionTreeClassifier\n",
    "\n",
    "from sklearn.model_selection import train_test_split\n",
    "from sklearn.metrics import recall_score \n",
    "from sklearn.metrics import f1_score\n",
    "from sklearn.model_selection import train_test_split\n",
    "from sklearn.linear_model import LogisticRegression\n",
    "from sklearn.utils import shuffle\n",
    "import numpy as np\n",
    "from sklearn.metrics import precision_score, recall_score\n",
    "import matplotlib.pyplot as plt\n",
    "from sklearn.metrics import precision_recall_curve\n",
    "from sklearn.metrics import roc_auc_score \n",
    "from sklearn.preprocessing import StandardScaler\n",
    "from sklearn.metrics import mean_squared_error\n",
    "from sklearn.linear_model import LinearRegression\n",
    "from sklearn.metrics import r2_score\n",
    "from sklearn.linear_model import LinearRegression\n",
    "from sklearn.tree import DecisionTreeRegressor\n",
    "from sklearn.ensemble import RandomForestRegressor\n",
    "from sklearn.metrics import mean_absolute_error \n",
    "from sklearn.preprocessing import OrdinalEncoder \n",
    "from sklearn.ensemble import RandomForestClassifier\n",
    "from sklearn.metrics import accuracy_score\n",
    "import matplotlib.pyplot as plt\n",
    "import math\n",
    "from scipy import stats as st"
   ]
  },
  {
   "cell_type": "code",
   "execution_count": 2,
   "metadata": {},
   "outputs": [],
   "source": [
    "df0 = pd.read_csv('/datasets/geo_data_0.csv')"
   ]
  },
  {
   "cell_type": "code",
   "execution_count": 3,
   "metadata": {},
   "outputs": [
    {
     "data": {
      "text/html": [
       "<div>\n",
       "<style scoped>\n",
       "    .dataframe tbody tr th:only-of-type {\n",
       "        vertical-align: middle;\n",
       "    }\n",
       "\n",
       "    .dataframe tbody tr th {\n",
       "        vertical-align: top;\n",
       "    }\n",
       "\n",
       "    .dataframe thead th {\n",
       "        text-align: right;\n",
       "    }\n",
       "</style>\n",
       "<table border=\"1\" class=\"dataframe\">\n",
       "  <thead>\n",
       "    <tr style=\"text-align: right;\">\n",
       "      <th></th>\n",
       "      <th>id</th>\n",
       "      <th>f0</th>\n",
       "      <th>f1</th>\n",
       "      <th>f2</th>\n",
       "      <th>product</th>\n",
       "    </tr>\n",
       "  </thead>\n",
       "  <tbody>\n",
       "    <tr>\n",
       "      <th>0</th>\n",
       "      <td>txEyH</td>\n",
       "      <td>0.705745</td>\n",
       "      <td>-0.497823</td>\n",
       "      <td>1.221170</td>\n",
       "      <td>105.280062</td>\n",
       "    </tr>\n",
       "    <tr>\n",
       "      <th>1</th>\n",
       "      <td>2acmU</td>\n",
       "      <td>1.334711</td>\n",
       "      <td>-0.340164</td>\n",
       "      <td>4.365080</td>\n",
       "      <td>73.037750</td>\n",
       "    </tr>\n",
       "    <tr>\n",
       "      <th>2</th>\n",
       "      <td>409Wp</td>\n",
       "      <td>1.022732</td>\n",
       "      <td>0.151990</td>\n",
       "      <td>1.419926</td>\n",
       "      <td>85.265647</td>\n",
       "    </tr>\n",
       "    <tr>\n",
       "      <th>3</th>\n",
       "      <td>iJLyR</td>\n",
       "      <td>-0.032172</td>\n",
       "      <td>0.139033</td>\n",
       "      <td>2.978566</td>\n",
       "      <td>168.620776</td>\n",
       "    </tr>\n",
       "    <tr>\n",
       "      <th>4</th>\n",
       "      <td>Xdl7t</td>\n",
       "      <td>1.988431</td>\n",
       "      <td>0.155413</td>\n",
       "      <td>4.751769</td>\n",
       "      <td>154.036647</td>\n",
       "    </tr>\n",
       "    <tr>\n",
       "      <th>...</th>\n",
       "      <td>...</td>\n",
       "      <td>...</td>\n",
       "      <td>...</td>\n",
       "      <td>...</td>\n",
       "      <td>...</td>\n",
       "    </tr>\n",
       "    <tr>\n",
       "      <th>99995</th>\n",
       "      <td>DLsed</td>\n",
       "      <td>0.971957</td>\n",
       "      <td>0.370953</td>\n",
       "      <td>6.075346</td>\n",
       "      <td>110.744026</td>\n",
       "    </tr>\n",
       "    <tr>\n",
       "      <th>99996</th>\n",
       "      <td>QKivN</td>\n",
       "      <td>1.392429</td>\n",
       "      <td>-0.382606</td>\n",
       "      <td>1.273912</td>\n",
       "      <td>122.346843</td>\n",
       "    </tr>\n",
       "    <tr>\n",
       "      <th>99997</th>\n",
       "      <td>3rnvd</td>\n",
       "      <td>1.029585</td>\n",
       "      <td>0.018787</td>\n",
       "      <td>-1.348308</td>\n",
       "      <td>64.375443</td>\n",
       "    </tr>\n",
       "    <tr>\n",
       "      <th>99998</th>\n",
       "      <td>7kl59</td>\n",
       "      <td>0.998163</td>\n",
       "      <td>-0.528582</td>\n",
       "      <td>1.583869</td>\n",
       "      <td>74.040764</td>\n",
       "    </tr>\n",
       "    <tr>\n",
       "      <th>99999</th>\n",
       "      <td>1CWhH</td>\n",
       "      <td>1.764754</td>\n",
       "      <td>-0.266417</td>\n",
       "      <td>5.722849</td>\n",
       "      <td>149.633246</td>\n",
       "    </tr>\n",
       "  </tbody>\n",
       "</table>\n",
       "<p>100000 rows × 5 columns</p>\n",
       "</div>"
      ],
      "text/plain": [
       "          id        f0        f1        f2     product\n",
       "0      txEyH  0.705745 -0.497823  1.221170  105.280062\n",
       "1      2acmU  1.334711 -0.340164  4.365080   73.037750\n",
       "2      409Wp  1.022732  0.151990  1.419926   85.265647\n",
       "3      iJLyR -0.032172  0.139033  2.978566  168.620776\n",
       "4      Xdl7t  1.988431  0.155413  4.751769  154.036647\n",
       "...      ...       ...       ...       ...         ...\n",
       "99995  DLsed  0.971957  0.370953  6.075346  110.744026\n",
       "99996  QKivN  1.392429 -0.382606  1.273912  122.346843\n",
       "99997  3rnvd  1.029585  0.018787 -1.348308   64.375443\n",
       "99998  7kl59  0.998163 -0.528582  1.583869   74.040764\n",
       "99999  1CWhH  1.764754 -0.266417  5.722849  149.633246\n",
       "\n",
       "[100000 rows x 5 columns]"
      ]
     },
     "execution_count": 3,
     "metadata": {},
     "output_type": "execute_result"
    }
   ],
   "source": [
    "df0"
   ]
  },
  {
   "cell_type": "code",
   "execution_count": 4,
   "metadata": {},
   "outputs": [
    {
     "name": "stdout",
     "output_type": "stream",
     "text": [
      "<class 'pandas.core.frame.DataFrame'>\n",
      "RangeIndex: 100000 entries, 0 to 99999\n",
      "Data columns (total 5 columns):\n",
      " #   Column   Non-Null Count   Dtype  \n",
      "---  ------   --------------   -----  \n",
      " 0   id       100000 non-null  object \n",
      " 1   f0       100000 non-null  float64\n",
      " 2   f1       100000 non-null  float64\n",
      " 3   f2       100000 non-null  float64\n",
      " 4   product  100000 non-null  float64\n",
      "dtypes: float64(4), object(1)\n",
      "memory usage: 3.8+ MB\n"
     ]
    }
   ],
   "source": [
    "df0.info()"
   ]
  },
  {
   "cell_type": "code",
   "execution_count": 5,
   "metadata": {},
   "outputs": [],
   "source": [
    "df1 = pd.read_csv('/datasets/geo_data_1.csv')"
   ]
  },
  {
   "cell_type": "code",
   "execution_count": 6,
   "metadata": {},
   "outputs": [
    {
     "data": {
      "text/html": [
       "<div>\n",
       "<style scoped>\n",
       "    .dataframe tbody tr th:only-of-type {\n",
       "        vertical-align: middle;\n",
       "    }\n",
       "\n",
       "    .dataframe tbody tr th {\n",
       "        vertical-align: top;\n",
       "    }\n",
       "\n",
       "    .dataframe thead th {\n",
       "        text-align: right;\n",
       "    }\n",
       "</style>\n",
       "<table border=\"1\" class=\"dataframe\">\n",
       "  <thead>\n",
       "    <tr style=\"text-align: right;\">\n",
       "      <th></th>\n",
       "      <th>id</th>\n",
       "      <th>f0</th>\n",
       "      <th>f1</th>\n",
       "      <th>f2</th>\n",
       "      <th>product</th>\n",
       "    </tr>\n",
       "  </thead>\n",
       "  <tbody>\n",
       "    <tr>\n",
       "      <th>0</th>\n",
       "      <td>kBEdx</td>\n",
       "      <td>-15.001348</td>\n",
       "      <td>-8.276000</td>\n",
       "      <td>-0.005876</td>\n",
       "      <td>3.179103</td>\n",
       "    </tr>\n",
       "    <tr>\n",
       "      <th>1</th>\n",
       "      <td>62mP7</td>\n",
       "      <td>14.272088</td>\n",
       "      <td>-3.475083</td>\n",
       "      <td>0.999183</td>\n",
       "      <td>26.953261</td>\n",
       "    </tr>\n",
       "    <tr>\n",
       "      <th>2</th>\n",
       "      <td>vyE1P</td>\n",
       "      <td>6.263187</td>\n",
       "      <td>-5.948386</td>\n",
       "      <td>5.001160</td>\n",
       "      <td>134.766305</td>\n",
       "    </tr>\n",
       "    <tr>\n",
       "      <th>3</th>\n",
       "      <td>KcrkZ</td>\n",
       "      <td>-13.081196</td>\n",
       "      <td>-11.506057</td>\n",
       "      <td>4.999415</td>\n",
       "      <td>137.945408</td>\n",
       "    </tr>\n",
       "    <tr>\n",
       "      <th>4</th>\n",
       "      <td>AHL4O</td>\n",
       "      <td>12.702195</td>\n",
       "      <td>-8.147433</td>\n",
       "      <td>5.004363</td>\n",
       "      <td>134.766305</td>\n",
       "    </tr>\n",
       "    <tr>\n",
       "      <th>...</th>\n",
       "      <td>...</td>\n",
       "      <td>...</td>\n",
       "      <td>...</td>\n",
       "      <td>...</td>\n",
       "      <td>...</td>\n",
       "    </tr>\n",
       "    <tr>\n",
       "      <th>99995</th>\n",
       "      <td>QywKC</td>\n",
       "      <td>9.535637</td>\n",
       "      <td>-6.878139</td>\n",
       "      <td>1.998296</td>\n",
       "      <td>53.906522</td>\n",
       "    </tr>\n",
       "    <tr>\n",
       "      <th>99996</th>\n",
       "      <td>ptvty</td>\n",
       "      <td>-10.160631</td>\n",
       "      <td>-12.558096</td>\n",
       "      <td>5.005581</td>\n",
       "      <td>137.945408</td>\n",
       "    </tr>\n",
       "    <tr>\n",
       "      <th>99997</th>\n",
       "      <td>09gWa</td>\n",
       "      <td>-7.378891</td>\n",
       "      <td>-3.084104</td>\n",
       "      <td>4.998651</td>\n",
       "      <td>137.945408</td>\n",
       "    </tr>\n",
       "    <tr>\n",
       "      <th>99998</th>\n",
       "      <td>rqwUm</td>\n",
       "      <td>0.665714</td>\n",
       "      <td>-6.152593</td>\n",
       "      <td>1.000146</td>\n",
       "      <td>30.132364</td>\n",
       "    </tr>\n",
       "    <tr>\n",
       "      <th>99999</th>\n",
       "      <td>relB0</td>\n",
       "      <td>-3.426139</td>\n",
       "      <td>-7.794274</td>\n",
       "      <td>-0.003299</td>\n",
       "      <td>3.179103</td>\n",
       "    </tr>\n",
       "  </tbody>\n",
       "</table>\n",
       "<p>100000 rows × 5 columns</p>\n",
       "</div>"
      ],
      "text/plain": [
       "          id         f0         f1        f2     product\n",
       "0      kBEdx -15.001348  -8.276000 -0.005876    3.179103\n",
       "1      62mP7  14.272088  -3.475083  0.999183   26.953261\n",
       "2      vyE1P   6.263187  -5.948386  5.001160  134.766305\n",
       "3      KcrkZ -13.081196 -11.506057  4.999415  137.945408\n",
       "4      AHL4O  12.702195  -8.147433  5.004363  134.766305\n",
       "...      ...        ...        ...       ...         ...\n",
       "99995  QywKC   9.535637  -6.878139  1.998296   53.906522\n",
       "99996  ptvty -10.160631 -12.558096  5.005581  137.945408\n",
       "99997  09gWa  -7.378891  -3.084104  4.998651  137.945408\n",
       "99998  rqwUm   0.665714  -6.152593  1.000146   30.132364\n",
       "99999  relB0  -3.426139  -7.794274 -0.003299    3.179103\n",
       "\n",
       "[100000 rows x 5 columns]"
      ]
     },
     "execution_count": 6,
     "metadata": {},
     "output_type": "execute_result"
    }
   ],
   "source": [
    "df1"
   ]
  },
  {
   "cell_type": "code",
   "execution_count": 7,
   "metadata": {},
   "outputs": [
    {
     "name": "stdout",
     "output_type": "stream",
     "text": [
      "<class 'pandas.core.frame.DataFrame'>\n",
      "RangeIndex: 100000 entries, 0 to 99999\n",
      "Data columns (total 5 columns):\n",
      " #   Column   Non-Null Count   Dtype  \n",
      "---  ------   --------------   -----  \n",
      " 0   id       100000 non-null  object \n",
      " 1   f0       100000 non-null  float64\n",
      " 2   f1       100000 non-null  float64\n",
      " 3   f2       100000 non-null  float64\n",
      " 4   product  100000 non-null  float64\n",
      "dtypes: float64(4), object(1)\n",
      "memory usage: 3.8+ MB\n"
     ]
    }
   ],
   "source": [
    "df1.info()"
   ]
  },
  {
   "cell_type": "code",
   "execution_count": 8,
   "metadata": {},
   "outputs": [],
   "source": [
    "df2 = pd.read_csv('/datasets/geo_data_2.csv')"
   ]
  },
  {
   "cell_type": "code",
   "execution_count": 9,
   "metadata": {},
   "outputs": [
    {
     "data": {
      "text/html": [
       "<div>\n",
       "<style scoped>\n",
       "    .dataframe tbody tr th:only-of-type {\n",
       "        vertical-align: middle;\n",
       "    }\n",
       "\n",
       "    .dataframe tbody tr th {\n",
       "        vertical-align: top;\n",
       "    }\n",
       "\n",
       "    .dataframe thead th {\n",
       "        text-align: right;\n",
       "    }\n",
       "</style>\n",
       "<table border=\"1\" class=\"dataframe\">\n",
       "  <thead>\n",
       "    <tr style=\"text-align: right;\">\n",
       "      <th></th>\n",
       "      <th>id</th>\n",
       "      <th>f0</th>\n",
       "      <th>f1</th>\n",
       "      <th>f2</th>\n",
       "      <th>product</th>\n",
       "    </tr>\n",
       "  </thead>\n",
       "  <tbody>\n",
       "    <tr>\n",
       "      <th>0</th>\n",
       "      <td>fwXo0</td>\n",
       "      <td>-1.146987</td>\n",
       "      <td>0.963328</td>\n",
       "      <td>-0.828965</td>\n",
       "      <td>27.758673</td>\n",
       "    </tr>\n",
       "    <tr>\n",
       "      <th>1</th>\n",
       "      <td>WJtFt</td>\n",
       "      <td>0.262778</td>\n",
       "      <td>0.269839</td>\n",
       "      <td>-2.530187</td>\n",
       "      <td>56.069697</td>\n",
       "    </tr>\n",
       "    <tr>\n",
       "      <th>2</th>\n",
       "      <td>ovLUW</td>\n",
       "      <td>0.194587</td>\n",
       "      <td>0.289035</td>\n",
       "      <td>-5.586433</td>\n",
       "      <td>62.871910</td>\n",
       "    </tr>\n",
       "    <tr>\n",
       "      <th>3</th>\n",
       "      <td>q6cA6</td>\n",
       "      <td>2.236060</td>\n",
       "      <td>-0.553760</td>\n",
       "      <td>0.930038</td>\n",
       "      <td>114.572842</td>\n",
       "    </tr>\n",
       "    <tr>\n",
       "      <th>4</th>\n",
       "      <td>WPMUX</td>\n",
       "      <td>-0.515993</td>\n",
       "      <td>1.716266</td>\n",
       "      <td>5.899011</td>\n",
       "      <td>149.600746</td>\n",
       "    </tr>\n",
       "    <tr>\n",
       "      <th>...</th>\n",
       "      <td>...</td>\n",
       "      <td>...</td>\n",
       "      <td>...</td>\n",
       "      <td>...</td>\n",
       "      <td>...</td>\n",
       "    </tr>\n",
       "    <tr>\n",
       "      <th>99995</th>\n",
       "      <td>4GxBu</td>\n",
       "      <td>-1.777037</td>\n",
       "      <td>1.125220</td>\n",
       "      <td>6.263374</td>\n",
       "      <td>172.327046</td>\n",
       "    </tr>\n",
       "    <tr>\n",
       "      <th>99996</th>\n",
       "      <td>YKFjq</td>\n",
       "      <td>-1.261523</td>\n",
       "      <td>-0.894828</td>\n",
       "      <td>2.524545</td>\n",
       "      <td>138.748846</td>\n",
       "    </tr>\n",
       "    <tr>\n",
       "      <th>99997</th>\n",
       "      <td>tKPY3</td>\n",
       "      <td>-1.199934</td>\n",
       "      <td>-2.957637</td>\n",
       "      <td>5.219411</td>\n",
       "      <td>157.080080</td>\n",
       "    </tr>\n",
       "    <tr>\n",
       "      <th>99998</th>\n",
       "      <td>nmxp2</td>\n",
       "      <td>-2.419896</td>\n",
       "      <td>2.417221</td>\n",
       "      <td>-5.548444</td>\n",
       "      <td>51.795253</td>\n",
       "    </tr>\n",
       "    <tr>\n",
       "      <th>99999</th>\n",
       "      <td>V9kWn</td>\n",
       "      <td>-2.551421</td>\n",
       "      <td>-2.025625</td>\n",
       "      <td>6.090891</td>\n",
       "      <td>102.775767</td>\n",
       "    </tr>\n",
       "  </tbody>\n",
       "</table>\n",
       "<p>100000 rows × 5 columns</p>\n",
       "</div>"
      ],
      "text/plain": [
       "          id        f0        f1        f2     product\n",
       "0      fwXo0 -1.146987  0.963328 -0.828965   27.758673\n",
       "1      WJtFt  0.262778  0.269839 -2.530187   56.069697\n",
       "2      ovLUW  0.194587  0.289035 -5.586433   62.871910\n",
       "3      q6cA6  2.236060 -0.553760  0.930038  114.572842\n",
       "4      WPMUX -0.515993  1.716266  5.899011  149.600746\n",
       "...      ...       ...       ...       ...         ...\n",
       "99995  4GxBu -1.777037  1.125220  6.263374  172.327046\n",
       "99996  YKFjq -1.261523 -0.894828  2.524545  138.748846\n",
       "99997  tKPY3 -1.199934 -2.957637  5.219411  157.080080\n",
       "99998  nmxp2 -2.419896  2.417221 -5.548444   51.795253\n",
       "99999  V9kWn -2.551421 -2.025625  6.090891  102.775767\n",
       "\n",
       "[100000 rows x 5 columns]"
      ]
     },
     "execution_count": 9,
     "metadata": {},
     "output_type": "execute_result"
    }
   ],
   "source": [
    "df2"
   ]
  },
  {
   "cell_type": "code",
   "execution_count": 10,
   "metadata": {},
   "outputs": [
    {
     "name": "stdout",
     "output_type": "stream",
     "text": [
      "<class 'pandas.core.frame.DataFrame'>\n",
      "RangeIndex: 100000 entries, 0 to 99999\n",
      "Data columns (total 5 columns):\n",
      " #   Column   Non-Null Count   Dtype  \n",
      "---  ------   --------------   -----  \n",
      " 0   id       100000 non-null  object \n",
      " 1   f0       100000 non-null  float64\n",
      " 2   f1       100000 non-null  float64\n",
      " 3   f2       100000 non-null  float64\n",
      " 4   product  100000 non-null  float64\n",
      "dtypes: float64(4), object(1)\n",
      "memory usage: 3.8+ MB\n"
     ]
    }
   ],
   "source": [
    "df2.info()"
   ]
  },
  {
   "cell_type": "markdown",
   "metadata": {},
   "source": [
    "#### Вывод пропущеных данных нет"
   ]
  },
  {
   "cell_type": "markdown",
   "metadata": {},
   "source": [
    "### Сравнение данных в таблицах"
   ]
  },
  {
   "cell_type": "code",
   "execution_count": 11,
   "metadata": {},
   "outputs": [
    {
     "data": {
      "text/html": [
       "<div>\n",
       "<style scoped>\n",
       "    .dataframe tbody tr th:only-of-type {\n",
       "        vertical-align: middle;\n",
       "    }\n",
       "\n",
       "    .dataframe tbody tr th {\n",
       "        vertical-align: top;\n",
       "    }\n",
       "\n",
       "    .dataframe thead th {\n",
       "        text-align: right;\n",
       "    }\n",
       "</style>\n",
       "<table border=\"1\" class=\"dataframe\">\n",
       "  <thead>\n",
       "    <tr style=\"text-align: right;\">\n",
       "      <th></th>\n",
       "      <th>f0</th>\n",
       "      <th>f1</th>\n",
       "      <th>f2</th>\n",
       "      <th>product</th>\n",
       "    </tr>\n",
       "  </thead>\n",
       "  <tbody>\n",
       "    <tr>\n",
       "      <th>count</th>\n",
       "      <td>100000.000000</td>\n",
       "      <td>100000.000000</td>\n",
       "      <td>100000.000000</td>\n",
       "      <td>100000.000000</td>\n",
       "    </tr>\n",
       "    <tr>\n",
       "      <th>mean</th>\n",
       "      <td>0.500419</td>\n",
       "      <td>0.250143</td>\n",
       "      <td>2.502647</td>\n",
       "      <td>92.500000</td>\n",
       "    </tr>\n",
       "    <tr>\n",
       "      <th>std</th>\n",
       "      <td>0.871832</td>\n",
       "      <td>0.504433</td>\n",
       "      <td>3.248248</td>\n",
       "      <td>44.288691</td>\n",
       "    </tr>\n",
       "    <tr>\n",
       "      <th>min</th>\n",
       "      <td>-1.408605</td>\n",
       "      <td>-0.848218</td>\n",
       "      <td>-12.088328</td>\n",
       "      <td>0.000000</td>\n",
       "    </tr>\n",
       "    <tr>\n",
       "      <th>25%</th>\n",
       "      <td>-0.072580</td>\n",
       "      <td>-0.200881</td>\n",
       "      <td>0.287748</td>\n",
       "      <td>56.497507</td>\n",
       "    </tr>\n",
       "    <tr>\n",
       "      <th>50%</th>\n",
       "      <td>0.502360</td>\n",
       "      <td>0.250252</td>\n",
       "      <td>2.515969</td>\n",
       "      <td>91.849972</td>\n",
       "    </tr>\n",
       "    <tr>\n",
       "      <th>75%</th>\n",
       "      <td>1.073581</td>\n",
       "      <td>0.700646</td>\n",
       "      <td>4.715088</td>\n",
       "      <td>128.564089</td>\n",
       "    </tr>\n",
       "    <tr>\n",
       "      <th>max</th>\n",
       "      <td>2.362331</td>\n",
       "      <td>1.343769</td>\n",
       "      <td>16.003790</td>\n",
       "      <td>185.364347</td>\n",
       "    </tr>\n",
       "  </tbody>\n",
       "</table>\n",
       "</div>"
      ],
      "text/plain": [
       "                  f0             f1             f2        product\n",
       "count  100000.000000  100000.000000  100000.000000  100000.000000\n",
       "mean        0.500419       0.250143       2.502647      92.500000\n",
       "std         0.871832       0.504433       3.248248      44.288691\n",
       "min        -1.408605      -0.848218     -12.088328       0.000000\n",
       "25%        -0.072580      -0.200881       0.287748      56.497507\n",
       "50%         0.502360       0.250252       2.515969      91.849972\n",
       "75%         1.073581       0.700646       4.715088     128.564089\n",
       "max         2.362331       1.343769      16.003790     185.364347"
      ]
     },
     "execution_count": 11,
     "metadata": {},
     "output_type": "execute_result"
    }
   ],
   "source": [
    "df0.describe()"
   ]
  },
  {
   "cell_type": "code",
   "execution_count": 12,
   "metadata": {},
   "outputs": [
    {
     "data": {
      "text/html": [
       "<div>\n",
       "<style scoped>\n",
       "    .dataframe tbody tr th:only-of-type {\n",
       "        vertical-align: middle;\n",
       "    }\n",
       "\n",
       "    .dataframe tbody tr th {\n",
       "        vertical-align: top;\n",
       "    }\n",
       "\n",
       "    .dataframe thead th {\n",
       "        text-align: right;\n",
       "    }\n",
       "</style>\n",
       "<table border=\"1\" class=\"dataframe\">\n",
       "  <thead>\n",
       "    <tr style=\"text-align: right;\">\n",
       "      <th></th>\n",
       "      <th>f0</th>\n",
       "      <th>f1</th>\n",
       "      <th>f2</th>\n",
       "      <th>product</th>\n",
       "    </tr>\n",
       "  </thead>\n",
       "  <tbody>\n",
       "    <tr>\n",
       "      <th>count</th>\n",
       "      <td>100000.000000</td>\n",
       "      <td>100000.000000</td>\n",
       "      <td>100000.000000</td>\n",
       "      <td>100000.000000</td>\n",
       "    </tr>\n",
       "    <tr>\n",
       "      <th>mean</th>\n",
       "      <td>1.141296</td>\n",
       "      <td>-4.796579</td>\n",
       "      <td>2.494541</td>\n",
       "      <td>68.825000</td>\n",
       "    </tr>\n",
       "    <tr>\n",
       "      <th>std</th>\n",
       "      <td>8.965932</td>\n",
       "      <td>5.119872</td>\n",
       "      <td>1.703572</td>\n",
       "      <td>45.944423</td>\n",
       "    </tr>\n",
       "    <tr>\n",
       "      <th>min</th>\n",
       "      <td>-31.609576</td>\n",
       "      <td>-26.358598</td>\n",
       "      <td>-0.018144</td>\n",
       "      <td>0.000000</td>\n",
       "    </tr>\n",
       "    <tr>\n",
       "      <th>25%</th>\n",
       "      <td>-6.298551</td>\n",
       "      <td>-8.267985</td>\n",
       "      <td>1.000021</td>\n",
       "      <td>26.953261</td>\n",
       "    </tr>\n",
       "    <tr>\n",
       "      <th>50%</th>\n",
       "      <td>1.153055</td>\n",
       "      <td>-4.813172</td>\n",
       "      <td>2.011479</td>\n",
       "      <td>57.085625</td>\n",
       "    </tr>\n",
       "    <tr>\n",
       "      <th>75%</th>\n",
       "      <td>8.621015</td>\n",
       "      <td>-1.332816</td>\n",
       "      <td>3.999904</td>\n",
       "      <td>107.813044</td>\n",
       "    </tr>\n",
       "    <tr>\n",
       "      <th>max</th>\n",
       "      <td>29.421755</td>\n",
       "      <td>18.734063</td>\n",
       "      <td>5.019721</td>\n",
       "      <td>137.945408</td>\n",
       "    </tr>\n",
       "  </tbody>\n",
       "</table>\n",
       "</div>"
      ],
      "text/plain": [
       "                  f0             f1             f2        product\n",
       "count  100000.000000  100000.000000  100000.000000  100000.000000\n",
       "mean        1.141296      -4.796579       2.494541      68.825000\n",
       "std         8.965932       5.119872       1.703572      45.944423\n",
       "min       -31.609576     -26.358598      -0.018144       0.000000\n",
       "25%        -6.298551      -8.267985       1.000021      26.953261\n",
       "50%         1.153055      -4.813172       2.011479      57.085625\n",
       "75%         8.621015      -1.332816       3.999904     107.813044\n",
       "max        29.421755      18.734063       5.019721     137.945408"
      ]
     },
     "execution_count": 12,
     "metadata": {},
     "output_type": "execute_result"
    }
   ],
   "source": [
    "df1.describe()"
   ]
  },
  {
   "cell_type": "code",
   "execution_count": 13,
   "metadata": {},
   "outputs": [
    {
     "data": {
      "text/html": [
       "<div>\n",
       "<style scoped>\n",
       "    .dataframe tbody tr th:only-of-type {\n",
       "        vertical-align: middle;\n",
       "    }\n",
       "\n",
       "    .dataframe tbody tr th {\n",
       "        vertical-align: top;\n",
       "    }\n",
       "\n",
       "    .dataframe thead th {\n",
       "        text-align: right;\n",
       "    }\n",
       "</style>\n",
       "<table border=\"1\" class=\"dataframe\">\n",
       "  <thead>\n",
       "    <tr style=\"text-align: right;\">\n",
       "      <th></th>\n",
       "      <th>f0</th>\n",
       "      <th>f1</th>\n",
       "      <th>f2</th>\n",
       "      <th>product</th>\n",
       "    </tr>\n",
       "  </thead>\n",
       "  <tbody>\n",
       "    <tr>\n",
       "      <th>count</th>\n",
       "      <td>100000.000000</td>\n",
       "      <td>100000.000000</td>\n",
       "      <td>100000.000000</td>\n",
       "      <td>100000.000000</td>\n",
       "    </tr>\n",
       "    <tr>\n",
       "      <th>mean</th>\n",
       "      <td>0.002023</td>\n",
       "      <td>-0.002081</td>\n",
       "      <td>2.495128</td>\n",
       "      <td>95.000000</td>\n",
       "    </tr>\n",
       "    <tr>\n",
       "      <th>std</th>\n",
       "      <td>1.732045</td>\n",
       "      <td>1.730417</td>\n",
       "      <td>3.473445</td>\n",
       "      <td>44.749921</td>\n",
       "    </tr>\n",
       "    <tr>\n",
       "      <th>min</th>\n",
       "      <td>-8.760004</td>\n",
       "      <td>-7.084020</td>\n",
       "      <td>-11.970335</td>\n",
       "      <td>0.000000</td>\n",
       "    </tr>\n",
       "    <tr>\n",
       "      <th>25%</th>\n",
       "      <td>-1.162288</td>\n",
       "      <td>-1.174820</td>\n",
       "      <td>0.130359</td>\n",
       "      <td>59.450441</td>\n",
       "    </tr>\n",
       "    <tr>\n",
       "      <th>50%</th>\n",
       "      <td>0.009424</td>\n",
       "      <td>-0.009482</td>\n",
       "      <td>2.484236</td>\n",
       "      <td>94.925613</td>\n",
       "    </tr>\n",
       "    <tr>\n",
       "      <th>75%</th>\n",
       "      <td>1.158535</td>\n",
       "      <td>1.163678</td>\n",
       "      <td>4.858794</td>\n",
       "      <td>130.595027</td>\n",
       "    </tr>\n",
       "    <tr>\n",
       "      <th>max</th>\n",
       "      <td>7.238262</td>\n",
       "      <td>7.844801</td>\n",
       "      <td>16.739402</td>\n",
       "      <td>190.029838</td>\n",
       "    </tr>\n",
       "  </tbody>\n",
       "</table>\n",
       "</div>"
      ],
      "text/plain": [
       "                  f0             f1             f2        product\n",
       "count  100000.000000  100000.000000  100000.000000  100000.000000\n",
       "mean        0.002023      -0.002081       2.495128      95.000000\n",
       "std         1.732045       1.730417       3.473445      44.749921\n",
       "min        -8.760004      -7.084020     -11.970335       0.000000\n",
       "25%        -1.162288      -1.174820       0.130359      59.450441\n",
       "50%         0.009424      -0.009482       2.484236      94.925613\n",
       "75%         1.158535       1.163678       4.858794     130.595027\n",
       "max         7.238262       7.844801      16.739402     190.029838"
      ]
     },
     "execution_count": 13,
     "metadata": {},
     "output_type": "execute_result"
    }
   ],
   "source": [
    "df2.describe()"
   ]
  },
  {
   "cell_type": "markdown",
   "metadata": {},
   "source": [
    "#### Вывод по место рождениям\n",
    "\n",
    "1) df1 разброс данным между средней и медианной гораздо меньше, чем в df0 b df2\n",
    "\n",
    "2) df1 меньше всего запасов, потому что max менньше других\n",
    "\n",
    "3) df2 имеет больше всего запасов, мах самый большой"
   ]
  },
  {
   "cell_type": "markdown",
   "metadata": {},
   "source": [
    "### Расмотрим распределение признаков в 3-х регионах"
   ]
  },
  {
   "cell_type": "markdown",
   "metadata": {},
   "source": [
    "#### Распределение признаков df0"
   ]
  },
  {
   "cell_type": "code",
   "execution_count": 14,
   "metadata": {},
   "outputs": [
    {
     "data": {
      "text/plain": [
       "<AxesSubplot:>"
      ]
     },
     "execution_count": 14,
     "metadata": {},
     "output_type": "execute_result"
    },
    {
     "data": {
      "image/png": "[encoded data removed]",
      "text/plain": [
       "<Figure size 432x288 with 1 Axes>"
      ]
     },
     "metadata": {
      "needs_background": "light"
     },
     "output_type": "display_data"
    }
   ],
   "source": [
    "df0['f0'].hist(alpha=0.75 )\n",
    "df0['f1'].hist(alpha=0.75 )\n",
    "df0['f2'].hist(alpha=0.7 )"
   ]
  },
  {
   "cell_type": "code",
   "execution_count": 15,
   "metadata": {},
   "outputs": [
    {
     "data": {
      "text/plain": [
       "<AxesSubplot:>"
      ]
     },
     "execution_count": 15,
     "metadata": {},
     "output_type": "execute_result"
    },
    {
     "data": {
      "image/png": "[encoded data removed]",
      "text/plain": [
       "<Figure size 432x288 with 1 Axes>"
      ]
     },
     "metadata": {
      "needs_background": "light"
     },
     "output_type": "display_data"
    }
   ],
   "source": [
    "df0['product'].hist()"
   ]
  },
  {
   "cell_type": "markdown",
   "metadata": {},
   "source": [
    "#### Распределение признаков df1"
   ]
  },
  {
   "cell_type": "code",
   "execution_count": 16,
   "metadata": {},
   "outputs": [
    {
     "data": {
      "text/plain": [
       "<AxesSubplot:>"
      ]
     },
     "execution_count": 16,
     "metadata": {},
     "output_type": "execute_result"
    },
    {
     "data": {
      "image/png": "[encoded data removed]",
      "text/plain": [
       "<Figure size 432x288 with 1 Axes>"
      ]
     },
     "metadata": {
      "needs_background": "light"
     },
     "output_type": "display_data"
    }
   ],
   "source": [
    "df1['f0'].hist(alpha=0.5 )\n",
    "df1['f1'].hist(alpha=0.55 )\n",
    "df1['f2'].hist(alpha=0.5 )"
   ]
  },
  {
   "cell_type": "code",
   "execution_count": 17,
   "metadata": {},
   "outputs": [
    {
     "data": {
      "text/plain": [
       "<AxesSubplot:>"
      ]
     },
     "execution_count": 17,
     "metadata": {},
     "output_type": "execute_result"
    },
    {
     "data": {
      "image/png": "[encoded data removed]",
      "text/plain": [
       "<Figure size 432x288 with 1 Axes>"
      ]
     },
     "metadata": {
      "needs_background": "light"
     },
     "output_type": "display_data"
    }
   ],
   "source": [
    "df1['product'].hist()"
   ]
  },
  {
   "cell_type": "markdown",
   "metadata": {},
   "source": [
    "#### Распределение признаков df2"
   ]
  },
  {
   "cell_type": "code",
   "execution_count": 18,
   "metadata": {},
   "outputs": [
    {
     "data": {
      "text/plain": [
       "<AxesSubplot:>"
      ]
     },
     "execution_count": 18,
     "metadata": {},
     "output_type": "execute_result"
    },
    {
     "data": {
      "image/png": "[encoded data removed]",
      "text/plain": [
       "<Figure size 432x288 with 1 Axes>"
      ]
     },
     "metadata": {
      "needs_background": "light"
     },
     "output_type": "display_data"
    }
   ],
   "source": [
    "df2['f0'].hist(alpha=0.5 )\n",
    "df2['f1'].hist(alpha=0.55 )\n",
    "df2['f2'].hist(alpha=0.5 )"
   ]
  },
  {
   "cell_type": "code",
   "execution_count": 19,
   "metadata": {},
   "outputs": [
    {
     "data": {
      "text/plain": [
       "<AxesSubplot:>"
      ]
     },
     "execution_count": 19,
     "metadata": {},
     "output_type": "execute_result"
    },
    {
     "data": {
      "image/png": "[encoded data removed]",
      "text/plain": [
       "<Figure size 432x288 with 1 Axes>"
      ]
     },
     "metadata": {
      "needs_background": "light"
     },
     "output_type": "display_data"
    }
   ],
   "source": [
    "df2['product'].hist()"
   ]
  },
  {
   "cell_type": "markdown",
   "metadata": {},
   "source": [
    "#### Вывод распределение признаков у df0и df2 немного похожи ,в отличие от df1 "
   ]
  },
  {
   "cell_type": "markdown",
   "metadata": {},
   "source": [
    "## Обучение и проверка модели"
   ]
  },
  {
   "cell_type": "code",
   "execution_count": 20,
   "metadata": {},
   "outputs": [],
   "source": [
    "df0_sort=df0\n",
    "df1_sort=df1\n",
    "df2_sort=df2"
   ]
  },
  {
   "cell_type": "markdown",
   "metadata": {},
   "source": [
    "### Раздиляю на обучающию и валидную выборку"
   ]
  },
  {
   "cell_type": "markdown",
   "metadata": {},
   "source": [
    "Разделяю выборки в df0"
   ]
  },
  {
   "cell_type": "code",
   "execution_count": 21,
   "metadata": {},
   "outputs": [],
   "source": [
    "features0 = df0_sort[['f0','f1','f2']] # извлеките признаки \n",
    "target0 = df0_sort['product']  # извлеките целевой признак\n",
    "features_train0, features_valid0, target_train0, target_valid0 = train_test_split(features0, target0, test_size=0.25, random_state=12345) # отделите 25% данных #для валидационной \n"
   ]
  },
  {
   "cell_type": "markdown",
   "metadata": {},
   "source": [
    "Разделяю выборки в df1"
   ]
  },
  {
   "cell_type": "code",
   "execution_count": 22,
   "metadata": {},
   "outputs": [],
   "source": [
    "features1 = df1_sort[['f0','f1','f2']] # извлеките признаки \n",
    "target1 = df1_sort['product']  # извлеките целевой признак\n",
    "features_train1, features_valid1, target_train1, target_valid1= train_test_split(features1, target1, test_size=0.25, random_state=12345) # отделите 25% данных #для валидационной \n"
   ]
  },
  {
   "cell_type": "markdown",
   "metadata": {},
   "source": [
    "Разделяю выборки в df2"
   ]
  },
  {
   "cell_type": "code",
   "execution_count": 23,
   "metadata": {},
   "outputs": [],
   "source": [
    "features2 = df2_sort[['f0','f1','f2']] # извлеките признаки \n",
    "target2 = df2_sort['product']  # извлеките целевой признак\n",
    "features_train2, features_valid2, target_train2, target_valid2 = train_test_split(features2, target2, test_size=0.25, random_state=12345) # отделите 25% данных #для валидационной \n"
   ]
  },
  {
   "cell_type": "markdown",
   "metadata": {},
   "source": [
    "### Обучаю  модель  и анализирую RMSE и Средний запас предсказаного сырья"
   ]
  },
  {
   "cell_type": "markdown",
   "metadata": {},
   "source": [
    "Для региона df0"
   ]
  },
  {
   "cell_type": "code",
   "execution_count": 24,
   "metadata": {},
   "outputs": [
    {
     "name": "stdout",
     "output_type": "stream",
     "text": [
      "RMSE модели линейной регрессии на валидационной выборке df0: 37.5794217150813\n",
      "Средний запас предсказаного сырья df0: 92.59256778438035 тыс.баралей\n"
     ]
    }
   ],
   "source": [
    "model = LinearRegression()# инициализируйте модель LinearRegression\n",
    "model.fit(features_train0,target_train0) # обучите модель на тренировочной выборке\n",
    "predictions_valid0 = model.predict(features_valid0) # получите предсказания модели на валидационной выборке\n",
    "\n",
    "result0=mean_squared_error(target_valid0, predictions_valid0)**0.5# посчитайте значение метрики rmse на валидационной выборке # посчитайте значение #метрики rmse на валидационной выборке # посчитайте значение метрики RMSE на валидационной выборке\n",
    "\n",
    "best_modeld_f0 =model\n",
    "\n",
    "\n",
    "\n",
    "df0_mean_reserve=predictions_valid0.mean()\n",
    "print(\"RMSE модели линейной регрессии на валидационной выборке df0:\", result0)\n",
    "print(\"Средний запас предсказаного сырья df0:\", predictions_valid0.mean(),'тыс.баралей')"
   ]
  },
  {
   "cell_type": "markdown",
   "metadata": {},
   "source": [
    "Для региона df1"
   ]
  },
  {
   "cell_type": "code",
   "execution_count": 25,
   "metadata": {},
   "outputs": [
    {
     "name": "stdout",
     "output_type": "stream",
     "text": [
      "RMSE модели линейной регрессии на валидационной выборке df1: 0.893099286775617\n",
      "Средний запас предсказаного сырья df0: 68.728546895446 тыс.баралей\n"
     ]
    }
   ],
   "source": [
    "model.fit(features_train1,target_train1) # обучите модель на тренировочной выборке\n",
    "predictions_valid1 = model.predict(features_valid1) # получите предсказания модели на валидационной выборке\n",
    "\n",
    "result1=mean_squared_error(target_valid1, predictions_valid1)**0.5# посчитайте значение метрики rmse на валидационной выборке # посчитайте значение #метрики rmse на валидационной выборке # посчитайте значение метрики RMSE на валидационной выборке\n",
    "best_modeld_f1 =model\n",
    "df1_mean_reserve=predictions_valid1.mean()\n",
    "print(\"RMSE модели линейной регрессии на валидационной выборке df1:\", result1)\n",
    "print(\"Средний запас предсказаного сырья df0:\", predictions_valid1.mean(),'тыс.баралей')"
   ]
  },
  {
   "cell_type": "markdown",
   "metadata": {},
   "source": [
    "Для региона df2"
   ]
  },
  {
   "cell_type": "code",
   "execution_count": 26,
   "metadata": {},
   "outputs": [
    {
     "name": "stdout",
     "output_type": "stream",
     "text": [
      "RMSE модели линейной регрессии на валидационной выборке df2: 40.02970873393434\n",
      "Средний запас предсказаного сырья df2: 94.96504596800489 тыс.баралей\n"
     ]
    }
   ],
   "source": [
    "model.fit(features_train2,target_train2) # обучите модель на тренировочной выборке\n",
    "predictions_valid2 = model.predict(features_valid2) # получите предсказания модели на валидационной выборке\n",
    "\n",
    "result2=mean_squared_error(target_valid2, predictions_valid2)**0.5# посчитайте значение метрики rmse на валидационной выборке # посчитайте значение #метрики rmse на валидационной выборке # посчитайте значение метрики RMSE на валидационной выборке\n",
    "best_modeld_f2 =model\n",
    "df2_mean_reserve=predictions_valid2.mean()\n",
    "print(\"RMSE модели линейной регрессии на валидационной выборке df2:\", result2)\n",
    "print(\"Средний запас предсказаного сырья df2:\", predictions_valid2.mean(),'тыс.баралей')"
   ]
  },
  {
   "cell_type": "markdown",
   "metadata": {},
   "source": [
    "### Вывод  региоы 0 и 2 по многим показателям похожи\n",
    "Похожи по следующим параметрам\n",
    "\n",
    "1) RMSE \n",
    "\n",
    "2) Средний запас предсказаного сырья\n",
    "\n",
    "3) Распределения параметров f0,f1,f2"
   ]
  },
  {
   "cell_type": "markdown",
   "metadata": {},
   "source": [
    "## Подготовка к расчёту прибыли"
   ]
  },
  {
   "cell_type": "markdown",
   "metadata": {},
   "source": [
    "### Ключевые значения для расчетов"
   ]
  },
  {
   "cell_type": "markdown",
   "metadata": {},
   "source": [
    "### Сформирую таблицу в которой будут неоходимые значения для расчетов"
   ]
  },
  {
   "cell_type": "markdown",
   "metadata": {},
   "source": [
    "Создам таблицы в которые буду записывать заначения"
   ]
  },
  {
   "cell_type": "code",
   "execution_count": 27,
   "metadata": {},
   "outputs": [],
   "source": [
    "df0_predictions=pd.DataFrame()\n",
    "df1_predictions=pd.DataFrame()\n",
    "df2_predictions=pd.DataFrame()"
   ]
  },
  {
   "cell_type": "markdown",
   "metadata": {},
   "source": [
    "Заполню значениями для 0 региона"
   ]
  },
  {
   "cell_type": "code",
   "execution_count": 28,
   "metadata": {},
   "outputs": [
    {
     "data": {
      "text/html": [
       "<div>\n",
       "<style scoped>\n",
       "    .dataframe tbody tr th:only-of-type {\n",
       "        vertical-align: middle;\n",
       "    }\n",
       "\n",
       "    .dataframe tbody tr th {\n",
       "        vertical-align: top;\n",
       "    }\n",
       "\n",
       "    .dataframe thead th {\n",
       "        text-align: right;\n",
       "    }\n",
       "</style>\n",
       "<table border=\"1\" class=\"dataframe\">\n",
       "  <thead>\n",
       "    <tr style=\"text-align: right;\">\n",
       "      <th></th>\n",
       "      <th>predictions</th>\n",
       "      <th>product</th>\n",
       "    </tr>\n",
       "  </thead>\n",
       "  <tbody>\n",
       "    <tr>\n",
       "      <th>0</th>\n",
       "      <td>95.894952</td>\n",
       "      <td>10.038645</td>\n",
       "    </tr>\n",
       "    <tr>\n",
       "      <th>1</th>\n",
       "      <td>77.572583</td>\n",
       "      <td>114.551489</td>\n",
       "    </tr>\n",
       "    <tr>\n",
       "      <th>2</th>\n",
       "      <td>77.892640</td>\n",
       "      <td>132.603635</td>\n",
       "    </tr>\n",
       "    <tr>\n",
       "      <th>3</th>\n",
       "      <td>90.175134</td>\n",
       "      <td>169.072125</td>\n",
       "    </tr>\n",
       "    <tr>\n",
       "      <th>4</th>\n",
       "      <td>70.510088</td>\n",
       "      <td>122.325180</td>\n",
       "    </tr>\n",
       "    <tr>\n",
       "      <th>...</th>\n",
       "      <td>...</td>\n",
       "      <td>...</td>\n",
       "    </tr>\n",
       "    <tr>\n",
       "      <th>24995</th>\n",
       "      <td>103.037104</td>\n",
       "      <td>170.116726</td>\n",
       "    </tr>\n",
       "    <tr>\n",
       "      <th>24996</th>\n",
       "      <td>85.403255</td>\n",
       "      <td>93.632175</td>\n",
       "    </tr>\n",
       "    <tr>\n",
       "      <th>24997</th>\n",
       "      <td>61.509833</td>\n",
       "      <td>127.352259</td>\n",
       "    </tr>\n",
       "    <tr>\n",
       "      <th>24998</th>\n",
       "      <td>118.180397</td>\n",
       "      <td>99.782700</td>\n",
       "    </tr>\n",
       "    <tr>\n",
       "      <th>24999</th>\n",
       "      <td>118.169392</td>\n",
       "      <td>177.821022</td>\n",
       "    </tr>\n",
       "  </tbody>\n",
       "</table>\n",
       "<p>25000 rows × 2 columns</p>\n",
       "</div>"
      ],
      "text/plain": [
       "       predictions     product\n",
       "0        95.894952   10.038645\n",
       "1        77.572583  114.551489\n",
       "2        77.892640  132.603635\n",
       "3        90.175134  169.072125\n",
       "4        70.510088  122.325180\n",
       "...            ...         ...\n",
       "24995   103.037104  170.116726\n",
       "24996    85.403255   93.632175\n",
       "24997    61.509833  127.352259\n",
       "24998   118.180397   99.782700\n",
       "24999   118.169392  177.821022\n",
       "\n",
       "[25000 rows x 2 columns]"
      ]
     },
     "execution_count": 28,
     "metadata": {},
     "output_type": "execute_result"
    }
   ],
   "source": [
    "df0_predictions['predictions']= pd.Series(predictions_valid0)\n",
    "df0_predictions['product']=target_valid0\n",
    "df0_predictions['product']=target_valid0.reset_index()['product']\n",
    "df0_predictions"
   ]
  },
  {
   "cell_type": "markdown",
   "metadata": {},
   "source": [
    "Заполню значениями для 1 региона"
   ]
  },
  {
   "cell_type": "code",
   "execution_count": 29,
   "metadata": {},
   "outputs": [
    {
     "data": {
      "text/html": [
       "<div>\n",
       "<style scoped>\n",
       "    .dataframe tbody tr th:only-of-type {\n",
       "        vertical-align: middle;\n",
       "    }\n",
       "\n",
       "    .dataframe tbody tr th {\n",
       "        vertical-align: top;\n",
       "    }\n",
       "\n",
       "    .dataframe thead th {\n",
       "        text-align: right;\n",
       "    }\n",
       "</style>\n",
       "<table border=\"1\" class=\"dataframe\">\n",
       "  <thead>\n",
       "    <tr style=\"text-align: right;\">\n",
       "      <th></th>\n",
       "      <th>predictions</th>\n",
       "      <th>product</th>\n",
       "    </tr>\n",
       "  </thead>\n",
       "  <tbody>\n",
       "    <tr>\n",
       "      <th>0</th>\n",
       "      <td>82.663314</td>\n",
       "      <td>80.859783</td>\n",
       "    </tr>\n",
       "    <tr>\n",
       "      <th>1</th>\n",
       "      <td>54.431786</td>\n",
       "      <td>53.906522</td>\n",
       "    </tr>\n",
       "    <tr>\n",
       "      <th>2</th>\n",
       "      <td>29.748760</td>\n",
       "      <td>30.132364</td>\n",
       "    </tr>\n",
       "    <tr>\n",
       "      <th>3</th>\n",
       "      <td>53.552133</td>\n",
       "      <td>53.906522</td>\n",
       "    </tr>\n",
       "    <tr>\n",
       "      <th>4</th>\n",
       "      <td>1.243856</td>\n",
       "      <td>0.000000</td>\n",
       "    </tr>\n",
       "    <tr>\n",
       "      <th>...</th>\n",
       "      <td>...</td>\n",
       "      <td>...</td>\n",
       "    </tr>\n",
       "    <tr>\n",
       "      <th>24995</th>\n",
       "      <td>136.869211</td>\n",
       "      <td>137.945408</td>\n",
       "    </tr>\n",
       "    <tr>\n",
       "      <th>24996</th>\n",
       "      <td>110.693465</td>\n",
       "      <td>110.992147</td>\n",
       "    </tr>\n",
       "    <tr>\n",
       "      <th>24997</th>\n",
       "      <td>137.879341</td>\n",
       "      <td>137.945408</td>\n",
       "    </tr>\n",
       "    <tr>\n",
       "      <th>24998</th>\n",
       "      <td>83.761966</td>\n",
       "      <td>84.038886</td>\n",
       "    </tr>\n",
       "    <tr>\n",
       "      <th>24999</th>\n",
       "      <td>53.958466</td>\n",
       "      <td>53.906522</td>\n",
       "    </tr>\n",
       "  </tbody>\n",
       "</table>\n",
       "<p>25000 rows × 2 columns</p>\n",
       "</div>"
      ],
      "text/plain": [
       "       predictions     product\n",
       "0        82.663314   80.859783\n",
       "1        54.431786   53.906522\n",
       "2        29.748760   30.132364\n",
       "3        53.552133   53.906522\n",
       "4         1.243856    0.000000\n",
       "...            ...         ...\n",
       "24995   136.869211  137.945408\n",
       "24996   110.693465  110.992147\n",
       "24997   137.879341  137.945408\n",
       "24998    83.761966   84.038886\n",
       "24999    53.958466   53.906522\n",
       "\n",
       "[25000 rows x 2 columns]"
      ]
     },
     "execution_count": 29,
     "metadata": {},
     "output_type": "execute_result"
    }
   ],
   "source": [
    "df1_predictions['predictions']= pd.Series(predictions_valid1)\n",
    "df1_predictions['product']=target_valid1\n",
    "df1_predictions['product']=target_valid1.reset_index()['product']\n",
    "df1_predictions"
   ]
  },
  {
   "cell_type": "markdown",
   "metadata": {},
   "source": [
    "Заполню значениями для 2 региона"
   ]
  },
  {
   "cell_type": "code",
   "execution_count": 30,
   "metadata": {},
   "outputs": [
    {
     "data": {
      "text/html": [
       "<div>\n",
       "<style scoped>\n",
       "    .dataframe tbody tr th:only-of-type {\n",
       "        vertical-align: middle;\n",
       "    }\n",
       "\n",
       "    .dataframe tbody tr th {\n",
       "        vertical-align: top;\n",
       "    }\n",
       "\n",
       "    .dataframe thead th {\n",
       "        text-align: right;\n",
       "    }\n",
       "</style>\n",
       "<table border=\"1\" class=\"dataframe\">\n",
       "  <thead>\n",
       "    <tr style=\"text-align: right;\">\n",
       "      <th></th>\n",
       "      <th>predictions</th>\n",
       "      <th>product</th>\n",
       "    </tr>\n",
       "  </thead>\n",
       "  <tbody>\n",
       "    <tr>\n",
       "      <th>0</th>\n",
       "      <td>93.599633</td>\n",
       "      <td>61.212375</td>\n",
       "    </tr>\n",
       "    <tr>\n",
       "      <th>1</th>\n",
       "      <td>75.105159</td>\n",
       "      <td>41.850118</td>\n",
       "    </tr>\n",
       "    <tr>\n",
       "      <th>2</th>\n",
       "      <td>90.066809</td>\n",
       "      <td>57.776581</td>\n",
       "    </tr>\n",
       "    <tr>\n",
       "      <th>3</th>\n",
       "      <td>105.162375</td>\n",
       "      <td>100.053761</td>\n",
       "    </tr>\n",
       "    <tr>\n",
       "      <th>4</th>\n",
       "      <td>115.303310</td>\n",
       "      <td>109.897122</td>\n",
       "    </tr>\n",
       "    <tr>\n",
       "      <th>...</th>\n",
       "      <td>...</td>\n",
       "      <td>...</td>\n",
       "    </tr>\n",
       "    <tr>\n",
       "      <th>24995</th>\n",
       "      <td>78.765887</td>\n",
       "      <td>28.492402</td>\n",
       "    </tr>\n",
       "    <tr>\n",
       "      <th>24996</th>\n",
       "      <td>95.603394</td>\n",
       "      <td>21.431303</td>\n",
       "    </tr>\n",
       "    <tr>\n",
       "      <th>24997</th>\n",
       "      <td>99.407281</td>\n",
       "      <td>125.487229</td>\n",
       "    </tr>\n",
       "    <tr>\n",
       "      <th>24998</th>\n",
       "      <td>77.779912</td>\n",
       "      <td>99.422903</td>\n",
       "    </tr>\n",
       "    <tr>\n",
       "      <th>24999</th>\n",
       "      <td>129.032417</td>\n",
       "      <td>127.445075</td>\n",
       "    </tr>\n",
       "  </tbody>\n",
       "</table>\n",
       "<p>25000 rows × 2 columns</p>\n",
       "</div>"
      ],
      "text/plain": [
       "       predictions     product\n",
       "0        93.599633   61.212375\n",
       "1        75.105159   41.850118\n",
       "2        90.066809   57.776581\n",
       "3       105.162375  100.053761\n",
       "4       115.303310  109.897122\n",
       "...            ...         ...\n",
       "24995    78.765887   28.492402\n",
       "24996    95.603394   21.431303\n",
       "24997    99.407281  125.487229\n",
       "24998    77.779912   99.422903\n",
       "24999   129.032417  127.445075\n",
       "\n",
       "[25000 rows x 2 columns]"
      ]
     },
     "execution_count": 30,
     "metadata": {},
     "output_type": "execute_result"
    }
   ],
   "source": [
    "df2_predictions['predictions']= pd.Series(predictions_valid2)\n",
    "df2_predictions['product']=target_valid2\n",
    "df2_predictions['product']=target_valid2.reset_index()['product']\n",
    "df2_predictions"
   ]
  },
  {
   "cell_type": "markdown",
   "metadata": {},
   "source": [
    "### Рассчитаю достаточный объём сырья для безубыточной разработки новой скважины. Сравню полученный объём сырья со средним запасом в каждом регионе"
   ]
  },
  {
   "cell_type": "code",
   "execution_count": 31,
   "metadata": {},
   "outputs": [
    {
     "name": "stdout",
     "output_type": "stream",
     "text": [
      "Кол-во тыс.барелей нефти для самоукупаемости в регионе= 22222.222222222223\n"
     ]
    }
   ],
   "source": [
    "good_materials=10**10/450000\n",
    "print(\"Кол-во тыс.барелей нефти для самоукупаемости в регионе=\",good_materials)"
   ]
  },
  {
   "cell_type": "code",
   "execution_count": 32,
   "metadata": {},
   "outputs": [],
   "source": [
    "#mean_reserve=df0_mean_reserve=predictions_valid0.mean()"
   ]
  },
  {
   "cell_type": "code",
   "execution_count": 33,
   "metadata": {},
   "outputs": [
    {
     "name": "stdout",
     "output_type": "stream",
     "text": [
      "Средний запас нефти в регионах. Для без убыточной работы необходимое кол-во нефти= 22222.222222222223\n",
      "===============================================================================================================\n",
      "   в Регионе 0    в Регионе 1   в Регионе 2\n",
      "0  18518.513557  13745.709379  18993.009194\n"
     ]
    }
   ],
   "source": [
    "print(\"Средний запас нефти в регионах. Для без убыточной работы необходимое кол-во нефти=\",good_materials)\n",
    "print(\"===============================================================================================================\")\n",
    "dictOne = {\"в Регионе 0 \":[df0_mean_reserve*200],\n",
    "\t\t   \"в Регионе 1\":[df1_mean_reserve*200],\n",
    "\t\t   \"в Регионе 2\":[df2_mean_reserve*200]}\n",
    "print(pd.DataFrame(dictOne))"
   ]
  },
  {
   "cell_type": "markdown",
   "metadata": {},
   "source": [
    "#### Вывод как видно средний запас нефти в регионах больше чем запаса нефтии для без убыточной добычи"
   ]
  },
  {
   "cell_type": "markdown",
   "metadata": {},
   "source": [
    "## Предсказания модели"
   ]
  },
  {
   "cell_type": "markdown",
   "metadata": {},
   "source": [
    "### Функция для расчета прибыли в регионе"
   ]
  },
  {
   "cell_type": "markdown",
   "metadata": {},
   "source": [
    "На вход я получаю предсказания из 25 тыс значений, из них я выбираю 500 с мах по предсказаниям и из 500 выбираю 200  и суммирую значения"
   ]
  },
  {
   "cell_type": "code",
   "execution_count": 34,
   "metadata": {},
   "outputs": [],
   "source": [
    "def revenue(target, probabilities,count):\n",
    "    probs_sorted = probabilities.sort_values(ascending=False) # сортируем предсказания по убыванию т.е вверху мах\n",
    "    selected = target[probs_sorted.index][:count] # из отсортированых значений отбираем count-значений фактических запасов\n",
    "    return 450000 * selected.sum()-10**10\n",
    "    \n",
    "    \n",
    "    "
   ]
  },
  {
   "cell_type": "markdown",
   "metadata": {},
   "source": [
    "## Расчёт прибыли и рисков \n",
    "Посчитаю риски и прибыль для каждого региона\n",
    "Применю технику Bootstrap с 1000 выборок, чтобы найти распределение прибыли. Найдйду среднюю прибыль, 95%-й доверительный интервал и риск убытков. Убыток — это отрицательная прибыль."
   ]
  },
  {
   "cell_type": "markdown",
   "metadata": {},
   "source": [
    "### Для 0 региона"
   ]
  },
  {
   "cell_type": "code",
   "execution_count": 35,
   "metadata": {},
   "outputs": [
    {
     "name": "stdout",
     "output_type": "stream",
     "text": [
      "выручка:         435938526910.5924\n",
      "Валовая прибыль: 425938526910.5924\n",
      "Средняя выручка: 425938526.91059244\n",
      "2,5%-квантиль: -102090094.83793654\n",
      "97,5%-квантиль: 947976353.3583689\n",
      "95% Доверительный интервал (408732207.06869864, 443144846.7524862)\n",
      "Распределение прибыли с границами доверительного интервала\n"
     ]
    },
    {
     "data": {
      "image/png": "[encoded data removed]",
      "text/plain": [
       "<Figure size 432x288 with 1 Axes>"
      ]
     },
     "metadata": {
      "needs_background": "light"
     },
     "output_type": "display_data"
    }
   ],
   "source": [
    "check=df0_predictions\n",
    "\n",
    "target=check['product']#факт значения\n",
    "probabilities=check['predictions']# предсказания\n",
    "state = np.random.RandomState(12345)\n",
    "values = []\n",
    "for i in range(1000):\n",
    "    # < напишите код здесь>\n",
    "  \n",
    "    target_subsample = target.sample(n=500, replace=True, random_state=state)# взяли случайно 500 строк факт значения\n",
    "    probs_subsample = probabilities[target_subsample.index] # из этих же строк взяли предсказания\n",
    "    value=revenue(target_subsample,probs_subsample, 200) # функция которая считает выручку из 200 значений\n",
    "    values.append(value)\n",
    "    # Мы взяли отсортировали target на основании вероятностей и проссумировали 1-ые 200 шт и *450000\n",
    "values_profit_df0 = pd.Series(values) # Трансформирование\n",
    "values=pd.Series(values)\n",
    "mean = values.mean()\n",
    "#print(values.unique())   \n",
    "lower = values.quantile(0.025) \n",
    "higher = values.quantile(0.975)\n",
    "\n",
    "#profit=values.sum()\n",
    "profit=values.sum()+10**10\n",
    "profit_val0=values.sum()\n",
    "print(\"выручка:        \", profit)\n",
    "print(\"Валовая прибыль:\", profit_val0)\n",
    "print(\"Средняя выручка:\", mean)\n",
    "print(\"2,5%-квантиль:\", lower) \n",
    "print(\"97,5%-квантиль:\", higher) \n",
    "print(\"95% Доверительный интервал\",st.t.interval(\n",
    "    0.95, len(values)-1, values.mean(),values.sem()) )\n",
    "\n",
    "print(\"Распределение прибыли с границами доверительного интервала\")\n",
    "\n",
    "# левая граница доверительного интервала\n",
    "x1, y1 = [lower, lower], [0, 30]\n",
    "    # правая граница доверительного интервала\n",
    "x2, y2 = [higher,higher], [0, 30]\n",
    "plt.figure()\n",
    "x = plt.hist(values,  bins=100)\n",
    "plt.plot(x1, y1, x2, y2 ,marker = 'o')\n",
    "plt.title(\"Гистограмма распределения прибыли, с доверительным интервалом\")\n",
    "plt.xlabel('Прибыль в руб')\n",
    "plt.show()\n",
    "\n"
   ]
  },
  {
   "cell_type": "markdown",
   "metadata": {},
   "source": [
    "### Для 1 региона"
   ]
  },
  {
   "cell_type": "code",
   "execution_count": 36,
   "metadata": {},
   "outputs": [
    {
     "name": "stdout",
     "output_type": "stream",
     "text": [
      "выручка:         525222773443.28986\n",
      "Валовая прибыль: 515222773443.28986\n",
      "Средняя выручка: 515222773.4432899\n",
      "2,5%-квантиль: 68873225.37050176\n",
      "97,5%-квантиль: 931547591.2570494\n",
      "95% Доверительный интервал (501621476.17632174, 528824070.710258)\n",
      "Распределение прибыли с границами доверительного интервала\n"
     ]
    },
    {
     "data": {
      "image/png": "[encoded data removed]",
      "text/plain": [
       "<Figure size 432x288 with 1 Axes>"
      ]
     },
     "metadata": {
      "needs_background": "light"
     },
     "output_type": "display_data"
    }
   ],
   "source": [
    "check=df1_predictions\n",
    "\n",
    "target=check['product']#факт значения\n",
    "probabilities=check['predictions']# предсказания\n",
    "state = np.random.RandomState(12345)\n",
    "values = []\n",
    "for i in range(1000):\n",
    "    # < напишите код здесь>\n",
    "  \n",
    "    target_subsample = target.sample(n=500, replace=True, random_state=state)# взяли случайно 500 строк факт значения\n",
    "    probs_subsample = probabilities[target_subsample.index] # из этих же строк взяли предсказания\n",
    "    value=revenue(target_subsample,probs_subsample, 200) # функция которая считает выручку из 200 значений\n",
    "    values.append(value)\n",
    "    # Мы взяли отсортировали target на основании вероятностей и проссумировали 1-ые 200 шт и *450000\n",
    "values_profit_df1 = pd.Series(values) # Трансформирование\n",
    "values=pd.Series(values)\n",
    "mean = values.mean()\n",
    "#print(values.unique())   \n",
    "lower = values.quantile(0.025) \n",
    "higher = values.quantile(0.975)\n",
    "\n",
    "#profit=values.sum()\n",
    "profit=values.sum()+10**10\n",
    "profit_val1=values.sum()\n",
    "print(\"выручка:        \", profit)\n",
    "print(\"Валовая прибыль:\", profit_val1)\n",
    "print(\"Средняя выручка:\", mean)\n",
    "print(\"2,5%-квантиль:\", lower) \n",
    "print(\"97,5%-квантиль:\", higher) \n",
    "print(\"95% Доверительный интервал\",st.t.interval(\n",
    "    0.95, len(values)-1, values.mean(),values.sem()) )\n",
    "\n",
    "print(\"Распределение прибыли с границами доверительного интервала\")\n",
    "\n",
    "# левая граница доверительного интервала\n",
    "x1, y1 = [lower, lower], [0, 30]\n",
    "    # правая граница доверительного интервала\n",
    "x2, y2 = [higher,higher], [0, 30]\n",
    "plt.figure()\n",
    "x = plt.hist(values,  bins=100)\n",
    "plt.plot(x1, y1, x2, y2 ,marker = 'o')\n",
    "plt.title(\"Гистограмма распределения прибыли\")\n",
    "plt.xlabel('Прибыль в руб')\n",
    "plt.show()"
   ]
  },
  {
   "cell_type": "markdown",
   "metadata": {},
   "source": [
    "### Для 2 региона"
   ]
  },
  {
   "cell_type": "code",
   "execution_count": 37,
   "metadata": {
    "scrolled": true
   },
   "outputs": [
    {
     "name": "stdout",
     "output_type": "stream",
     "text": [
      "выручка:         445008362782.7556\n",
      "Валовая прибыль: 435008362782.7556\n",
      "Средняя выручка: 435008362.7827556\n",
      "2,55%-квантиль: -128880547.32978901\n",
      "97,5%-квантиль: 969706954.1802661\n",
      "95% Доверительный интервал (417453552.0413578, 452563173.5241534)\n",
      "Распределение прибыли с границами доверительного интервала\n"
     ]
    },
    {
     "data": {
      "image/png": "[encoded data removed]",
      "text/plain": [
       "<Figure size 432x288 with 1 Axes>"
      ]
     },
     "metadata": {
      "needs_background": "light"
     },
     "output_type": "display_data"
    }
   ],
   "source": [
    "check=df2_predictions\n",
    "\n",
    "target=check['product']#факт значения\n",
    "probabilities=check['predictions']# предсказания\n",
    "state = np.random.RandomState(12345)\n",
    "values = []\n",
    "for i in range(1000):\n",
    "    # < напишите код здесь>\n",
    "  \n",
    "    target_subsample = target.sample(n=500, replace=True, random_state=state)# взяли случайно 500 строк факт значения\n",
    "    probs_subsample = probabilities[target_subsample.index] # из этих же строк взяли предсказания\n",
    "    value=revenue(target_subsample,probs_subsample, 200) # функция которая считает выручку из 200 значений\n",
    "    values.append(value)\n",
    "    # Мы взяли отсортировали target на основании вероятностей и проссумировали 1-ые 200 шт и *450000\n",
    "values_profit_df2 = pd.Series(values) # Трансформирование\n",
    "values=pd.Series(values)\n",
    "mean = values.mean()\n",
    "#print(values.unique())   \n",
    "lower = values.quantile(0.025) \n",
    "higher = values.quantile(0.975)\n",
    "\n",
    "#profit=values.sum()\n",
    "profit=values.sum()+10**10\n",
    "profit_val2=values.sum()\n",
    "print(\"выручка:        \", profit)\n",
    "print(\"Валовая прибыль:\", profit_val2)\n",
    "print(\"Средняя выручка:\", mean)\n",
    "print(\"2,55%-квантиль:\", lower) \n",
    "print(\"97,5%-квантиль:\", higher) \n",
    "print(\"95% Доверительный интервал\",st.t.interval(\n",
    "    0.95, len(values)-1, values.mean(),values.sem()) )\n",
    "\n",
    "print(\"Распределение прибыли с границами доверительного интервала\")\n",
    "\n",
    "# левая граница доверительного интервала\n",
    "x1, y1 = [lower, lower], [0, 30]\n",
    "    # правая граница доверительного интервала\n",
    "x2, y2 = [higher,higher], [0, 30]\n",
    "plt.figure()\n",
    "x = plt.hist(values,  bins=100)\n",
    "plt.plot(x1, y1, x2, y2 ,marker = 'o')\n",
    "plt.title(\"Гистограмма распределения прибыли\")\n",
    "plt.xlabel('Прибыль в руб')\n",
    "plt.show()"
   ]
  },
  {
   "cell_type": "code",
   "execution_count": 38,
   "metadata": {},
   "outputs": [
    {
     "name": "stdout",
     "output_type": "stream",
     "text": [
      "Вероятность убытков=6.40% и является меньше допустимой\n",
      "выручка:         445008362782.7556\n",
      "Валовая прибыль: 435008362782.7556\n",
      "Средняя прибыль: 435008362.7827556 руб\n",
      "2,55%-квантиль: -128880547.32978901\n",
      "97,5%-квантиль: 969706954.1802661\n",
      "95% Доверительный интервал (417453552.0413578, 452563173.5241534)\n"
     ]
    },
    {
     "data": {
      "text/plain": [
       "Text(0.5, 0, 'Прибыль в руб')"
      ]
     },
     "execution_count": 38,
     "metadata": {},
     "output_type": "execute_result"
    },
    {
     "data": {
      "image/png": "[encoded data removed]",
      "text/plain": [
       "<Figure size 432x288 with 1 Axes>"
      ]
     },
     "metadata": {
      "needs_background": "light"
     },
     "output_type": "display_data"
    }
   ],
   "source": [
    "check=df2_predictions\n",
    "count=0\n",
    "target=check['product']#факт значения\n",
    "probabilities=check['predictions']# предсказания\n",
    "state = np.random.RandomState(12345)\n",
    "values = []\n",
    "for i in range(1000):\n",
    "    # < напишите код здесь>\n",
    "  \n",
    "    target_subsample = target.sample(n=500, replace=True, random_state=state)# взяли случайно 500 строк факт значения\n",
    "    probs_subsample = probabilities[target_subsample.index] # из этих же строк взяли предсказания\n",
    "    value=revenue(target_subsample,probs_subsample, 200) # функция которая считает выручку из 200 значений\n",
    "    if value<0:\n",
    "        count+=1\n",
    "    \n",
    "    values.append(value)\n",
    "    # Мы взяли отсортировали target на основании вероятностей и проссумировали 1-ые 200 шт и *450000\n",
    "values_profit_df2 = pd.Series(values) # Трансформирование\n",
    "values=pd.Series(values)\n",
    "mean = values.mean()\n",
    "#print(values.unique())   \n",
    "lower = values.quantile(0.025) \n",
    "higher = values.quantile(0.975)\n",
    "\n",
    "#profit=values.sum()\n",
    "profit=values.sum()+10**10\n",
    "profit_val2=values.sum()\n",
    "\n",
    "confidence_interval=st.t.interval(\n",
    "    0.95, len(values)-1, values.mean(),values.sem())\n",
    "pvalue=count/1000\n",
    "if pvalue<2.5:\n",
    "    print(f'Вероятность убытков={pvalue:.2%} и является меньше допустимой')\n",
    "else:\n",
    "    print(f'Вероятность убытков={pvalue:.2%} и является БОЛЬШЕ допустимой')      \n",
    "print(\"выручка:        \", profit)\n",
    "print(\"Валовая прибыль:\", profit_val2)\n",
    "print(\"Средняя прибыль:\", mean,'руб')\n",
    "print(\"2,55%-квантиль:\", lower) \n",
    "print(\"97,5%-квантиль:\", higher) \n",
    "print(\"95% Доверительный интервал\",st.t.interval(\n",
    "    0.95, len(values)-1, values.mean(),values.sem()) )\n",
    "\n",
    "# левая граница доверительного интервала\n",
    "x1, y1 = [confidence_interval[0], confidence_interval[0]], [0, 30]\n",
    "    # правая граница доверительного интервала\n",
    "x2, y2 = [confidence_interval[1],confidence_interval[1]], [0, 30]\n",
    "plt.figure()\n",
    "x = plt.hist(values,  bins=100)\n",
    "plt.plot(x1, y1, x2, y2 ,marker = 'o')\n",
    "plt.title(\"Гистограмма распределения прибыли\")\n",
    "plt.xlabel('Прибыль в руб')"
   ]
  },
  {
   "cell_type": "markdown",
   "metadata": {},
   "source": [
    "### Распределение прибыли/убытков в различных регионах"
   ]
  },
  {
   "cell_type": "code",
   "execution_count": 39,
   "metadata": {},
   "outputs": [
    {
     "data": {
      "text/plain": [
       "<AxesSubplot:>"
      ]
     },
     "execution_count": 39,
     "metadata": {},
     "output_type": "execute_result"
    },
    {
     "data": {
      "image/png": "[encoded data removed]",
      "text/plain": [
       "<Figure size 432x288 with 1 Axes>"
      ]
     },
     "metadata": {
      "needs_background": "light"
     },
     "output_type": "display_data"
    }
   ],
   "source": [
    "values_profit_df0.hist(alpha=0.4,edgecolor='blue')\n",
    "values_profit_df1.hist(alpha=0.4,edgecolor='red')\n",
    "values_profit_df2.hist(alpha=0.4,edgecolor='green')"
   ]
  },
  {
   "cell_type": "markdown",
   "metadata": {},
   "source": [
    "Регион 0"
   ]
  },
  {
   "cell_type": "code",
   "execution_count": 40,
   "metadata": {},
   "outputs": [
    {
     "data": {
      "text/plain": [
       "<AxesSubplot:>"
      ]
     },
     "execution_count": 40,
     "metadata": {},
     "output_type": "execute_result"
    },
    {
     "data": {
      "image/png": "[encoded data removed]",
      "text/plain": [
       "<Figure size 432x288 with 1 Axes>"
      ]
     },
     "metadata": {
      "needs_background": "light"
     },
     "output_type": "display_data"
    }
   ],
   "source": [
    "values_profit_df0.hist( bins=100)\n",
    "\n"
   ]
  },
  {
   "cell_type": "markdown",
   "metadata": {},
   "source": [
    "Регион 1"
   ]
  },
  {
   "cell_type": "code",
   "execution_count": 41,
   "metadata": {},
   "outputs": [
    {
     "data": {
      "text/plain": [
       "<AxesSubplot:>"
      ]
     },
     "execution_count": 41,
     "metadata": {},
     "output_type": "execute_result"
    },
    {
     "data": {
      "image/png": "[encoded data removed]",
      "text/plain": [
       "<Figure size 432x288 with 1 Axes>"
      ]
     },
     "metadata": {
      "needs_background": "light"
     },
     "output_type": "display_data"
    }
   ],
   "source": [
    "values_profit_df1.hist(bins=100)"
   ]
  },
  {
   "cell_type": "markdown",
   "metadata": {},
   "source": [
    "Регион 2"
   ]
  },
  {
   "cell_type": "code",
   "execution_count": 42,
   "metadata": {},
   "outputs": [
    {
     "data": {
      "text/plain": [
       "<AxesSubplot:>"
      ]
     },
     "execution_count": 42,
     "metadata": {},
     "output_type": "execute_result"
    },
    {
     "data": {
      "image/png": "[encoded data removed]",
      "text/plain": [
       "<Figure size 432x288 with 1 Axes>"
      ]
     },
     "metadata": {
      "needs_background": "light"
     },
     "output_type": "display_data"
    }
   ],
   "source": [
    "values_profit_df2.hist(bins=100)"
   ]
  },
  {
   "cell_type": "markdown",
   "metadata": {},
   "source": [
    "### Доходы "
   ]
  },
  {
   "cell_type": "code",
   "execution_count": 43,
   "metadata": {},
   "outputs": [
    {
     "data": {
      "text/plain": [
       "{'Валовая прибыль для 0 Региона, милиард руб': [42.59385269105924],\n",
       " 'Валовая прибыль для 1 Региона милиард руб': [51.522277344328984],\n",
       " 'Валовая прибыль для 2 Региона милиард руб': [43.500836278275564]}"
      ]
     },
     "execution_count": 43,
     "metadata": {},
     "output_type": "execute_result"
    }
   ],
   "source": [
    "dictOne = {\"Валовая прибыль для 0 Региона, милиард руб\":[profit_val0/(10**10)],\n",
    "\t\t   \"Валовая прибыль для 1 Региона милиард руб\":[profit_val1/(10**10)],\n",
    "\t\t   \"Валовая прибыль для 2 Региона милиард руб\":[profit_val2/(10**10)]}\n",
    "dictOne\n",
    "\n",
    "\n",
    "\n"
   ]
  },
  {
   "cell_type": "markdown",
   "metadata": {},
   "source": [
    "### Риск убыток"
   ]
  },
  {
   "cell_type": "code",
   "execution_count": 44,
   "metadata": {},
   "outputs": [],
   "source": [
    "def calculation_profit(values):\n",
    "    summ=0\n",
    "    for i in range(0,len(values)):\n",
    "        value=values[i]\n",
    "        if value<0:\n",
    "            summ+=1\n",
    "\n",
    "    return summ/len(values)*100 "
   ]
  },
  {
   "cell_type": "markdown",
   "metadata": {},
   "source": [
    "<div class=\"alert alert-block alert-info\">\n",
    "    \n",
    "<b>Совет:</b> Риски можно было бы считать лаконичнее: `(values < 0).mean() `\n",
    "</div>"
   ]
  },
  {
   "cell_type": "code",
   "execution_count": 45,
   "metadata": {},
   "outputs": [],
   "source": [
    "losses_percentage_df0=calculation_profit(values_profit_df0)\n",
    "losses_percentage_df1=calculation_profit(values_profit_df1)\n",
    "losses_percentage_df2=calculation_profit(values_profit_df2)\n"
   ]
  },
  {
   "cell_type": "code",
   "execution_count": 46,
   "metadata": {},
   "outputs": [
    {
     "data": {
      "text/plain": [
       "{'Риски для 0 Региона': [6.0],\n",
       " 'Риски для 1 Региона': [1.0],\n",
       " 'Риски для 2 Региона': [6.4]}"
      ]
     },
     "execution_count": 46,
     "metadata": {},
     "output_type": "execute_result"
    }
   ],
   "source": [
    "dictOne = {\"Риски для 0 Региона\":[losses_percentage_df0],\n",
    "\t\t   \"Риски для 1 Региона\":[losses_percentage_df1],\n",
    "\t\t   \"Риски для 2 Региона\":[losses_percentage_df2]}\n",
    "dictOne"
   ]
  },
  {
   "cell_type": "markdown",
   "metadata": {},
   "source": [
    "# Заключение самый оптимальный вариант для добычи нефти это регион 1, по следующим причинам\n",
    "\n",
    "1) Минимальные риски 1%\n",
    "\n",
    "2) мах Валовая прибыль 51 милиард рублей"
   ]
  },
  {
   "cell_type": "markdown",
   "metadata": {},
   "source": [
    "## Чек-лист готовности проекта"
   ]
  },
  {
   "cell_type": "markdown",
   "metadata": {},
   "source": [
    "Поставьте 'x' в выполненных пунктах. Далее нажмите Shift+Enter."
   ]
  },
  {
   "cell_type": "markdown",
   "metadata": {},
   "source": [
    "- [x]  Jupyter Notebook открыт\n",
    "- [ ]  Весь код выполняется без ошибок\n",
    "- [ ]  Ячейки с кодом расположены в порядке исполнения\n",
    "- [ ]  Выполнен шаг 1: данные подготовлены\n",
    "- [ ]  Выполнен шаг 2: модели обучены и проверены\n",
    "    - [ ]  Данные корректно разбиты на обучающую и валидационную выборки\n",
    "    - [ ]  Модели обучены, предсказания сделаны\n",
    "    - [ ]  Предсказания и правильные ответы на валидационной выборке сохранены\n",
    "    - [ ]  На экране напечатаны результаты\n",
    "    - [ ]  Сделаны выводы\n",
    "- [ ]  Выполнен шаг 3: проведена подготовка к расчёту прибыли\n",
    "    - [ ]  Для всех ключевых значений созданы константы Python\n",
    "    - [ ]  Посчитано минимальное среднее количество продукта в месторождениях региона, достаточное для разработки\n",
    "    - [ ]  По предыдущему пункту сделаны выводы\n",
    "    - [ ]  Написана функция расчёта прибыли\n",
    "- [ ]  Выполнен шаг 4: посчитаны риски и прибыль\n",
    "    - [ ]  Проведена процедура *Bootstrap*\n",
    "    - [ ]  Все параметры бутстрепа соответствуют условию\n",
    "    - [ ]  Найдены все нужные величины\n",
    "    - [ ]  Предложен регион для разработки месторождения\n",
    "    - [ ]  Выбор региона обоснован"
   ]
  },
  {
   "cell_type": "code",
   "execution_count": null,
   "metadata": {},
   "outputs": [],
   "source": []
  }
 ],
 "metadata": {
  "ExecuteTimeLog": [
   {
    "duration": 1090,
    "start_time": "2022-03-13T04:55:45.977Z"
   },
   {
    "duration": 111,
    "start_time": "2022-03-13T04:57:37.429Z"
   },
   {
    "duration": 13,
    "start_time": "2022-03-13T04:57:41.379Z"
   },
   {
    "duration": 113,
    "start_time": "2022-03-13T05:07:43.304Z"
   },
   {
    "duration": 11,
    "start_time": "2022-03-13T05:07:44.184Z"
   },
   {
    "duration": 113,
    "start_time": "2022-03-13T05:07:46.745Z"
   },
   {
    "duration": 10,
    "start_time": "2022-03-13T05:07:47.401Z"
   },
   {
    "duration": 363,
    "start_time": "2022-03-13T05:08:02.761Z"
   },
   {
    "duration": 130,
    "start_time": "2022-03-13T05:08:05.374Z"
   },
   {
    "duration": 10,
    "start_time": "2022-03-13T05:08:05.894Z"
   },
   {
    "duration": 32,
    "start_time": "2022-03-13T05:08:45.093Z"
   },
   {
    "duration": 31,
    "start_time": "2022-03-13T05:09:36.422Z"
   },
   {
    "duration": 31,
    "start_time": "2022-03-13T05:09:37.325Z"
   },
   {
    "duration": 31,
    "start_time": "2022-03-13T05:09:37.974Z"
   },
   {
    "duration": 30,
    "start_time": "2022-03-13T05:09:38.606Z"
   },
   {
    "duration": 5,
    "start_time": "2022-03-13T05:22:24.412Z"
   },
   {
    "duration": 176,
    "start_time": "2022-03-13T05:22:31.207Z"
   },
   {
    "duration": 146,
    "start_time": "2022-03-13T05:22:47.597Z"
   },
   {
    "duration": 151,
    "start_time": "2022-03-13T05:22:57.539Z"
   },
   {
    "duration": 166,
    "start_time": "2022-03-13T05:23:11.043Z"
   },
   {
    "duration": 185,
    "start_time": "2022-03-13T05:23:28.993Z"
   },
   {
    "duration": 192,
    "start_time": "2022-03-13T05:24:40.302Z"
   },
   {
    "duration": 186,
    "start_time": "2022-03-13T05:24:47.077Z"
   },
   {
    "duration": 188,
    "start_time": "2022-03-13T05:24:51.900Z"
   },
   {
    "duration": 187,
    "start_time": "2022-03-13T05:24:55.044Z"
   },
   {
    "duration": 454,
    "start_time": "2022-03-13T05:25:20.433Z"
   },
   {
    "duration": 191,
    "start_time": "2022-03-13T05:25:31.440Z"
   },
   {
    "duration": 195,
    "start_time": "2022-03-13T05:25:38.505Z"
   },
   {
    "duration": 187,
    "start_time": "2022-03-13T05:25:42.627Z"
   },
   {
    "duration": 211,
    "start_time": "2022-03-13T05:25:46.328Z"
   },
   {
    "duration": 554,
    "start_time": "2022-03-13T05:26:05.956Z"
   },
   {
    "duration": 157,
    "start_time": "2022-03-13T05:34:08.520Z"
   },
   {
    "duration": 166,
    "start_time": "2022-03-13T05:34:31.861Z"
   },
   {
    "duration": 156,
    "start_time": "2022-03-13T05:34:43.309Z"
   },
   {
    "duration": 11,
    "start_time": "2022-03-13T05:36:05.641Z"
   },
   {
    "duration": 9,
    "start_time": "2022-03-13T05:36:20.785Z"
   },
   {
    "duration": 9,
    "start_time": "2022-03-13T05:36:30.793Z"
   },
   {
    "duration": 3,
    "start_time": "2022-03-13T05:44:53.665Z"
   },
   {
    "duration": 10,
    "start_time": "2022-03-13T05:45:28.523Z"
   },
   {
    "duration": 28,
    "start_time": "2022-03-13T05:45:54.926Z"
   },
   {
    "duration": 30,
    "start_time": "2022-03-13T05:46:19.333Z"
   },
   {
    "duration": 7,
    "start_time": "2022-03-13T05:52:34.132Z"
   },
   {
    "duration": 21,
    "start_time": "2022-03-13T05:53:52.509Z"
   },
   {
    "duration": 369,
    "start_time": "2022-03-13T05:54:09.732Z"
   },
   {
    "duration": 160,
    "start_time": "2022-03-13T05:58:16.626Z"
   },
   {
    "duration": 443,
    "start_time": "2022-03-13T05:58:23.240Z"
   },
   {
    "duration": 356,
    "start_time": "2022-03-13T05:59:04.095Z"
   },
   {
    "duration": 285,
    "start_time": "2022-03-13T05:59:11.943Z"
   },
   {
    "duration": 307,
    "start_time": "2022-03-13T05:59:23.851Z"
   },
   {
    "duration": 5,
    "start_time": "2022-03-13T05:59:38.979Z"
   },
   {
    "duration": 13,
    "start_time": "2022-03-13T05:59:41.682Z"
   },
   {
    "duration": 20,
    "start_time": "2022-03-13T05:59:43.521Z"
   },
   {
    "duration": 297,
    "start_time": "2022-03-13T06:11:49.235Z"
   },
   {
    "duration": 13,
    "start_time": "2022-03-13T06:11:56.044Z"
   },
   {
    "duration": 16,
    "start_time": "2022-03-13T06:11:57.194Z"
   },
   {
    "duration": 16,
    "start_time": "2022-03-13T06:11:58.332Z"
   },
   {
    "duration": 401,
    "start_time": "2022-03-13T06:12:00.306Z"
   },
   {
    "duration": 19,
    "start_time": "2022-03-13T06:12:09.645Z"
   },
   {
    "duration": 12,
    "start_time": "2022-03-13T06:12:16.647Z"
   },
   {
    "duration": 15,
    "start_time": "2022-03-13T06:13:05.676Z"
   },
   {
    "duration": 21,
    "start_time": "2022-03-13T06:13:07.700Z"
   },
   {
    "duration": 5,
    "start_time": "2022-03-13T06:14:21.499Z"
   },
   {
    "duration": 7,
    "start_time": "2022-03-13T06:14:39.410Z"
   },
   {
    "duration": 3,
    "start_time": "2022-03-13T06:53:10.788Z"
   },
   {
    "duration": 376,
    "start_time": "2022-03-13T06:53:56.948Z"
   },
   {
    "duration": 22,
    "start_time": "2022-03-13T06:54:02.656Z"
   },
   {
    "duration": 296,
    "start_time": "2022-03-13T06:54:04.988Z"
   },
   {
    "duration": 324,
    "start_time": "2022-03-13T06:54:54.688Z"
   },
   {
    "duration": 6,
    "start_time": "2022-03-13T06:55:00.375Z"
   },
   {
    "duration": 5,
    "start_time": "2022-03-13T06:55:05.073Z"
   },
   {
    "duration": 317,
    "start_time": "2022-03-13T06:55:09.665Z"
   },
   {
    "duration": 328,
    "start_time": "2022-03-13T06:55:15.693Z"
   },
   {
    "duration": 11,
    "start_time": "2022-03-13T06:55:53.297Z"
   },
   {
    "duration": 4,
    "start_time": "2022-03-13T06:56:03.569Z"
   },
   {
    "duration": 4,
    "start_time": "2022-03-13T06:56:12.481Z"
   },
   {
    "duration": 4,
    "start_time": "2022-03-13T06:56:18.473Z"
   },
   {
    "duration": 107,
    "start_time": "2022-03-13T06:56:49.957Z"
   },
   {
    "duration": 8,
    "start_time": "2022-03-13T06:56:55.845Z"
   },
   {
    "duration": 9,
    "start_time": "2022-03-13T06:57:00.573Z"
   },
   {
    "duration": 11,
    "start_time": "2022-03-13T06:57:25.242Z"
   },
   {
    "duration": 27,
    "start_time": "2022-03-13T06:58:32.237Z"
   },
   {
    "duration": 24,
    "start_time": "2022-03-13T06:58:33.284Z"
   },
   {
    "duration": 12,
    "start_time": "2022-03-13T06:58:33.801Z"
   },
   {
    "duration": 18,
    "start_time": "2022-03-13T06:59:10.194Z"
   },
   {
    "duration": 24,
    "start_time": "2022-03-13T06:59:10.698Z"
   },
   {
    "duration": 5,
    "start_time": "2022-03-13T06:59:53.283Z"
   },
   {
    "duration": 5,
    "start_time": "2022-03-13T06:59:54.170Z"
   },
   {
    "duration": 6,
    "start_time": "2022-03-13T06:59:55.254Z"
   },
   {
    "duration": 6,
    "start_time": "2022-03-13T06:59:58.770Z"
   },
   {
    "duration": 6,
    "start_time": "2022-03-13T07:00:02.459Z"
   },
   {
    "duration": 6,
    "start_time": "2022-03-13T07:00:07.367Z"
   },
   {
    "duration": 7,
    "start_time": "2022-03-13T07:00:11.178Z"
   },
   {
    "duration": 326,
    "start_time": "2022-03-13T07:01:23.907Z"
   },
   {
    "duration": 2,
    "start_time": "2022-03-13T07:01:32.969Z"
   },
   {
    "duration": 13,
    "start_time": "2022-03-13T07:01:37.055Z"
   },
   {
    "duration": 13,
    "start_time": "2022-03-13T07:01:37.987Z"
   },
   {
    "duration": 14,
    "start_time": "2022-03-13T07:01:39.481Z"
   },
   {
    "duration": 16,
    "start_time": "2022-03-13T07:01:42.930Z"
   },
   {
    "duration": 10,
    "start_time": "2022-03-13T07:01:45.227Z"
   },
   {
    "duration": 11,
    "start_time": "2022-03-13T07:01:47.538Z"
   },
   {
    "duration": 5,
    "start_time": "2022-03-13T07:02:51.884Z"
   },
   {
    "duration": 10,
    "start_time": "2022-03-13T07:16:23.764Z"
   },
   {
    "duration": 291,
    "start_time": "2022-03-13T07:29:26.437Z"
   },
   {
    "duration": -1211,
    "start_time": "2022-03-13T07:30:03.881Z"
   },
   {
    "duration": 7897,
    "start_time": "2022-03-13T07:30:05.861Z"
   },
   {
    "duration": 7505,
    "start_time": "2022-03-13T07:30:21.753Z"
   },
   {
    "duration": 5,
    "start_time": "2022-03-13T07:30:33.930Z"
   },
   {
    "duration": 3,
    "start_time": "2022-03-13T07:30:41.578Z"
   },
   {
    "duration": 3,
    "start_time": "2022-03-13T07:30:51.346Z"
   },
   {
    "duration": 10,
    "start_time": "2022-03-13T07:32:35.126Z"
   },
   {
    "duration": 14,
    "start_time": "2022-03-13T07:36:40.180Z"
   },
   {
    "duration": 12,
    "start_time": "2022-03-13T07:36:47.532Z"
   },
   {
    "duration": 12,
    "start_time": "2022-03-13T07:37:31.295Z"
   },
   {
    "duration": 15,
    "start_time": "2022-03-13T07:37:35.734Z"
   },
   {
    "duration": 12,
    "start_time": "2022-03-13T07:39:13.877Z"
   },
   {
    "duration": 50,
    "start_time": "2022-03-13T07:39:18.157Z"
   },
   {
    "duration": 19,
    "start_time": "2022-03-13T07:40:35.377Z"
   },
   {
    "duration": 15,
    "start_time": "2022-03-13T07:40:52.916Z"
   },
   {
    "duration": 16,
    "start_time": "2022-03-13T07:41:11.457Z"
   },
   {
    "duration": 5,
    "start_time": "2022-03-13T07:41:28.552Z"
   },
   {
    "duration": 5,
    "start_time": "2022-03-13T07:41:31.416Z"
   },
   {
    "duration": 25,
    "start_time": "2022-03-13T07:48:58.952Z"
   },
   {
    "duration": 176,
    "start_time": "2022-03-13T07:49:21.453Z"
   },
   {
    "duration": 238,
    "start_time": "2022-03-13T07:49:43.488Z"
   },
   {
    "duration": 224,
    "start_time": "2022-03-13T07:52:32.106Z"
   },
   {
    "duration": 182,
    "start_time": "2022-03-13T07:53:16.043Z"
   },
   {
    "duration": 219,
    "start_time": "2022-03-13T07:53:46.104Z"
   },
   {
    "duration": 114,
    "start_time": "2022-03-13T07:55:21.114Z"
   },
   {
    "duration": 193,
    "start_time": "2022-03-13T07:55:31.839Z"
   },
   {
    "duration": 183,
    "start_time": "2022-03-13T07:55:49.245Z"
   },
   {
    "duration": 215,
    "start_time": "2022-03-13T07:56:25.307Z"
   },
   {
    "duration": 175,
    "start_time": "2022-03-13T07:57:02.547Z"
   },
   {
    "duration": 176,
    "start_time": "2022-03-13T07:58:53.152Z"
   },
   {
    "duration": 11,
    "start_time": "2022-03-13T08:15:22.394Z"
   },
   {
    "duration": 19,
    "start_time": "2022-03-13T08:16:19.846Z"
   },
   {
    "duration": 1467,
    "start_time": "2022-03-13T11:35:44.464Z"
   },
   {
    "duration": 4,
    "start_time": "2022-03-13T11:35:45.933Z"
   },
   {
    "duration": 163,
    "start_time": "2022-03-13T11:35:45.940Z"
   },
   {
    "duration": 21,
    "start_time": "2022-03-13T11:35:46.105Z"
   },
   {
    "duration": 30,
    "start_time": "2022-03-13T11:35:46.128Z"
   },
   {
    "duration": 155,
    "start_time": "2022-03-13T11:35:46.161Z"
   },
   {
    "duration": 17,
    "start_time": "2022-03-13T11:35:46.319Z"
   },
   {
    "duration": 13,
    "start_time": "2022-03-13T11:35:46.352Z"
   },
   {
    "duration": 165,
    "start_time": "2022-03-13T11:35:46.369Z"
   },
   {
    "duration": 20,
    "start_time": "2022-03-13T11:35:46.537Z"
   },
   {
    "duration": 14,
    "start_time": "2022-03-13T11:35:46.559Z"
   },
   {
    "duration": 75,
    "start_time": "2022-03-13T11:35:46.576Z"
   },
   {
    "duration": 47,
    "start_time": "2022-03-13T11:35:46.653Z"
   },
   {
    "duration": 66,
    "start_time": "2022-03-13T11:35:46.702Z"
   },
   {
    "duration": 371,
    "start_time": "2022-03-13T11:35:46.770Z"
   },
   {
    "duration": 315,
    "start_time": "2022-03-13T11:35:47.152Z"
   },
   {
    "duration": 374,
    "start_time": "2022-03-13T11:35:47.469Z"
   },
   {
    "duration": 329,
    "start_time": "2022-03-13T11:35:47.852Z"
   },
   {
    "duration": 401,
    "start_time": "2022-03-13T11:35:48.183Z"
   },
   {
    "duration": 323,
    "start_time": "2022-03-13T11:35:48.587Z"
   },
   {
    "duration": 18,
    "start_time": "2022-03-13T11:35:48.913Z"
   },
   {
    "duration": 40,
    "start_time": "2022-03-13T11:35:48.950Z"
   },
   {
    "duration": 17,
    "start_time": "2022-03-13T11:35:48.997Z"
   },
   {
    "duration": 57,
    "start_time": "2022-03-13T11:35:49.017Z"
   },
   {
    "duration": 40,
    "start_time": "2022-03-13T11:35:49.077Z"
   },
   {
    "duration": 3,
    "start_time": "2022-03-13T11:35:49.120Z"
   },
   {
    "duration": 46,
    "start_time": "2022-03-13T11:35:49.125Z"
   },
   {
    "duration": 20,
    "start_time": "2022-03-13T11:35:49.174Z"
   },
   {
    "duration": 20,
    "start_time": "2022-03-13T11:35:49.197Z"
   },
   {
    "duration": 49,
    "start_time": "2022-03-13T11:35:49.219Z"
   },
   {
    "duration": 191,
    "start_time": "2022-03-13T11:35:49.272Z"
   },
   {
    "duration": 243,
    "start_time": "2022-03-13T11:35:49.466Z"
   },
   {
    "duration": 44,
    "start_time": "2022-03-13T11:35:49.713Z"
   },
   {
    "duration": 193,
    "start_time": "2022-03-13T11:35:49.760Z"
   },
   {
    "duration": 16,
    "start_time": "2022-03-13T11:35:49.955Z"
   },
   {
    "duration": 7,
    "start_time": "2022-03-13T11:35:49.973Z"
   },
   {
    "duration": 4,
    "start_time": "2022-03-13T11:35:49.983Z"
   },
   {
    "duration": 9,
    "start_time": "2022-03-13T11:35:49.989Z"
   },
   {
    "duration": 59,
    "start_time": "2022-03-13T11:35:50.001Z"
   },
   {
    "duration": 241,
    "start_time": "2022-03-13T11:35:50.062Z"
   },
   {
    "duration": 48,
    "start_time": "2022-03-13T11:35:50.306Z"
   },
   {
    "duration": 231,
    "start_time": "2022-03-13T11:35:50.356Z"
   },
   {
    "duration": 208,
    "start_time": "2022-03-13T11:35:50.590Z"
   },
   {
    "duration": 3,
    "start_time": "2022-03-13T11:37:56.472Z"
   },
   {
    "duration": 6,
    "start_time": "2022-03-13T11:38:02.524Z"
   },
   {
    "duration": 5,
    "start_time": "2022-03-13T11:38:49.648Z"
   },
   {
    "duration": 5,
    "start_time": "2022-03-13T11:38:55.658Z"
   },
   {
    "duration": 19,
    "start_time": "2022-03-13T11:39:37.230Z"
   },
   {
    "duration": 7,
    "start_time": "2022-03-13T11:40:08.559Z"
   },
   {
    "duration": 7,
    "start_time": "2022-03-13T11:40:38.661Z"
   },
   {
    "duration": 7,
    "start_time": "2022-03-13T11:42:34.824Z"
   },
   {
    "duration": 7,
    "start_time": "2022-03-13T11:42:39.848Z"
   },
   {
    "duration": 7,
    "start_time": "2022-03-13T11:42:43.266Z"
   },
   {
    "duration": 7,
    "start_time": "2022-03-13T11:42:58.926Z"
   },
   {
    "duration": 18,
    "start_time": "2022-03-13T11:52:55.963Z"
   },
   {
    "duration": 19,
    "start_time": "2022-03-13T11:55:27.824Z"
   },
   {
    "duration": 17,
    "start_time": "2022-03-13T11:55:40.643Z"
   },
   {
    "duration": 17,
    "start_time": "2022-03-13T11:55:53.929Z"
   },
   {
    "duration": 236,
    "start_time": "2022-03-13T12:05:04.140Z"
   },
   {
    "duration": 232,
    "start_time": "2022-03-13T12:05:19.652Z"
   },
   {
    "duration": 18,
    "start_time": "2022-03-13T12:05:39.383Z"
   },
   {
    "duration": 202,
    "start_time": "2022-03-13T12:05:53.578Z"
   },
   {
    "duration": 18,
    "start_time": "2022-03-13T12:06:08.031Z"
   },
   {
    "duration": 24,
    "start_time": "2022-03-13T12:06:35.776Z"
   },
   {
    "duration": 19,
    "start_time": "2022-03-13T12:06:48.132Z"
   },
   {
    "duration": 179,
    "start_time": "2022-03-13T12:08:16.075Z"
   },
   {
    "duration": 18,
    "start_time": "2022-03-13T12:08:22.304Z"
   },
   {
    "duration": 23,
    "start_time": "2022-03-13T12:08:36.264Z"
   },
   {
    "duration": 19,
    "start_time": "2022-03-13T12:08:51.649Z"
   },
   {
    "duration": 235,
    "start_time": "2022-03-13T12:09:08.428Z"
   },
   {
    "duration": 189,
    "start_time": "2022-03-13T12:09:57.994Z"
   },
   {
    "duration": 199,
    "start_time": "2022-03-13T12:10:39.277Z"
   },
   {
    "duration": 202,
    "start_time": "2022-03-13T12:11:10.774Z"
   },
   {
    "duration": 240,
    "start_time": "2022-03-13T12:12:01.842Z"
   },
   {
    "duration": 17,
    "start_time": "2022-03-13T12:12:20.066Z"
   },
   {
    "duration": 19,
    "start_time": "2022-03-13T12:12:36.633Z"
   },
   {
    "duration": 18,
    "start_time": "2022-03-13T12:12:50.830Z"
   },
   {
    "duration": 262,
    "start_time": "2022-03-13T12:13:28.203Z"
   },
   {
    "duration": 24,
    "start_time": "2022-03-13T12:13:40.034Z"
   },
   {
    "duration": 242,
    "start_time": "2022-03-13T12:13:55.727Z"
   },
   {
    "duration": 249,
    "start_time": "2022-03-13T12:14:24.335Z"
   },
   {
    "duration": 201,
    "start_time": "2022-03-13T12:15:23.391Z"
   },
   {
    "duration": 259,
    "start_time": "2022-03-13T12:15:59.731Z"
   },
   {
    "duration": 1622,
    "start_time": "2022-03-13T12:17:50.947Z"
   },
   {
    "duration": 1430,
    "start_time": "2022-03-13T12:18:26.693Z"
   },
   {
    "duration": 251,
    "start_time": "2022-03-13T12:18:43.032Z"
   },
   {
    "duration": 218,
    "start_time": "2022-03-13T12:20:48.353Z"
   },
   {
    "duration": 242,
    "start_time": "2022-03-13T12:20:52.822Z"
   },
   {
    "duration": 225,
    "start_time": "2022-03-13T12:21:05.549Z"
   },
   {
    "duration": 256,
    "start_time": "2022-03-13T12:21:14.412Z"
   },
   {
    "duration": 246,
    "start_time": "2022-03-13T12:21:22.229Z"
   },
   {
    "duration": 7325,
    "start_time": "2022-03-13T12:21:34.641Z"
   },
   {
    "duration": 235,
    "start_time": "2022-03-13T12:21:43.242Z"
   },
   {
    "duration": 222,
    "start_time": "2022-03-13T12:24:02.963Z"
   },
   {
    "duration": 251,
    "start_time": "2022-03-13T12:24:06.926Z"
   },
   {
    "duration": 252,
    "start_time": "2022-03-13T12:24:11.722Z"
   },
   {
    "duration": 240,
    "start_time": "2022-03-13T12:24:17.539Z"
   },
   {
    "duration": 525,
    "start_time": "2022-03-13T12:24:31.315Z"
   },
   {
    "duration": 86,
    "start_time": "2022-03-13T12:24:53.279Z"
   },
   {
    "duration": 218,
    "start_time": "2022-03-13T12:25:16.872Z"
   },
   {
    "duration": 247,
    "start_time": "2022-03-13T12:25:38.235Z"
   },
   {
    "duration": 204,
    "start_time": "2022-03-13T12:25:46.483Z"
   },
   {
    "duration": 204,
    "start_time": "2022-03-13T12:27:33.680Z"
   },
   {
    "duration": 240,
    "start_time": "2022-03-13T12:27:46.848Z"
   },
   {
    "duration": 20,
    "start_time": "2022-03-13T12:28:18.608Z"
   },
   {
    "duration": 17,
    "start_time": "2022-03-13T12:28:19.812Z"
   },
   {
    "duration": 18,
    "start_time": "2022-03-13T12:28:20.853Z"
   },
   {
    "duration": 300,
    "start_time": "2022-03-13T12:28:30.237Z"
   },
   {
    "duration": 413,
    "start_time": "2022-03-13T12:28:35.404Z"
   },
   {
    "duration": 211,
    "start_time": "2022-03-13T12:28:52.568Z"
   },
   {
    "duration": 239,
    "start_time": "2022-03-13T12:29:19.645Z"
   },
   {
    "duration": 236,
    "start_time": "2022-03-13T12:29:56.042Z"
   },
   {
    "duration": 205,
    "start_time": "2022-03-13T12:30:10.589Z"
   },
   {
    "duration": 216,
    "start_time": "2022-03-13T12:30:16.561Z"
   },
   {
    "duration": 247,
    "start_time": "2022-03-13T12:30:37.706Z"
   },
   {
    "duration": 233,
    "start_time": "2022-03-13T12:30:59.253Z"
   },
   {
    "duration": 257,
    "start_time": "2022-03-13T12:31:13.121Z"
   },
   {
    "duration": 218,
    "start_time": "2022-03-13T12:31:36.974Z"
   },
   {
    "duration": 241,
    "start_time": "2022-03-13T12:31:55.044Z"
   },
   {
    "duration": 230,
    "start_time": "2022-03-13T12:32:11.550Z"
   },
   {
    "duration": 251,
    "start_time": "2022-03-13T12:32:19.130Z"
   },
   {
    "duration": 261,
    "start_time": "2022-03-13T12:32:45.812Z"
   },
   {
    "duration": 258,
    "start_time": "2022-03-13T12:34:33.840Z"
   },
   {
    "duration": 197,
    "start_time": "2022-03-13T12:34:35.887Z"
   },
   {
    "duration": 167,
    "start_time": "2022-03-13T12:35:00.110Z"
   },
   {
    "duration": 166,
    "start_time": "2022-03-13T12:35:13.003Z"
   },
   {
    "duration": 17,
    "start_time": "2022-03-13T12:35:19.519Z"
   },
   {
    "duration": 216,
    "start_time": "2022-03-13T12:35:40.464Z"
   },
   {
    "duration": 229,
    "start_time": "2022-03-13T12:35:45.656Z"
   },
   {
    "duration": 249,
    "start_time": "2022-03-13T12:35:51.007Z"
   },
   {
    "duration": 215,
    "start_time": "2022-03-13T12:35:56.377Z"
   },
   {
    "duration": 199,
    "start_time": "2022-03-13T12:37:47.188Z"
   },
   {
    "duration": 249,
    "start_time": "2022-03-13T12:37:58.913Z"
   },
   {
    "duration": 250,
    "start_time": "2022-03-13T12:38:10.624Z"
   },
   {
    "duration": 182,
    "start_time": "2022-03-13T12:38:21.008Z"
   },
   {
    "duration": 19,
    "start_time": "2022-03-13T12:41:39.159Z"
   },
   {
    "duration": 132,
    "start_time": "2022-03-13T12:42:35.622Z"
   },
   {
    "duration": 518,
    "start_time": "2022-03-13T12:44:51.327Z"
   },
   {
    "duration": 17,
    "start_time": "2022-03-13T12:46:09.594Z"
   },
   {
    "duration": 23,
    "start_time": "2022-03-13T12:46:14.468Z"
   },
   {
    "duration": 244,
    "start_time": "2022-03-13T12:47:06.536Z"
   },
   {
    "duration": 207,
    "start_time": "2022-03-13T12:47:09.780Z"
   },
   {
    "duration": 175,
    "start_time": "2022-03-13T12:47:15.508Z"
   },
   {
    "duration": 11,
    "start_time": "2022-03-13T12:47:23.652Z"
   },
   {
    "duration": 22,
    "start_time": "2022-03-13T12:47:25.369Z"
   },
   {
    "duration": 16,
    "start_time": "2022-03-13T12:57:08.480Z"
   },
   {
    "duration": 15,
    "start_time": "2022-03-13T12:57:10.576Z"
   },
   {
    "duration": 16,
    "start_time": "2022-03-13T12:57:12.232Z"
   },
   {
    "duration": 729,
    "start_time": "2022-03-13T12:59:15.373Z"
   },
   {
    "duration": 491,
    "start_time": "2022-03-13T12:59:44.634Z"
   },
   {
    "duration": 4,
    "start_time": "2022-03-13T13:00:49.673Z"
   },
   {
    "duration": 4,
    "start_time": "2022-03-13T13:01:02.769Z"
   },
   {
    "duration": 20,
    "start_time": "2022-03-13T13:01:07.273Z"
   },
   {
    "duration": 20,
    "start_time": "2022-03-13T13:01:21.021Z"
   },
   {
    "duration": 287,
    "start_time": "2022-03-13T13:02:33.366Z"
   },
   {
    "duration": 26,
    "start_time": "2022-03-13T13:02:41.021Z"
   },
   {
    "duration": 24,
    "start_time": "2022-03-13T13:03:05.414Z"
   },
   {
    "duration": 23,
    "start_time": "2022-03-13T13:03:37.587Z"
   },
   {
    "duration": 294,
    "start_time": "2022-03-13T13:03:47.587Z"
   },
   {
    "duration": 20,
    "start_time": "2022-03-13T13:04:36.183Z"
   },
   {
    "duration": 21,
    "start_time": "2022-03-13T13:04:51.619Z"
   },
   {
    "duration": 24,
    "start_time": "2022-03-13T13:05:01.939Z"
   },
   {
    "duration": 516,
    "start_time": "2022-03-13T13:15:29.835Z"
   },
   {
    "duration": 366,
    "start_time": "2022-03-13T13:16:33.140Z"
   },
   {
    "duration": 256,
    "start_time": "2022-03-13T13:16:49.022Z"
   },
   {
    "duration": 24,
    "start_time": "2022-03-13T13:17:03.243Z"
   },
   {
    "duration": 26,
    "start_time": "2022-03-13T13:17:29.192Z"
   },
   {
    "duration": 23,
    "start_time": "2022-03-13T13:17:44.825Z"
   },
   {
    "duration": 5,
    "start_time": "2022-03-13T13:18:38.928Z"
   },
   {
    "duration": 23,
    "start_time": "2022-03-13T13:18:43.688Z"
   },
   {
    "duration": 23,
    "start_time": "2022-03-13T13:19:01.793Z"
   },
   {
    "duration": 89,
    "start_time": "2022-03-13T13:19:38.401Z"
   },
   {
    "duration": 21,
    "start_time": "2022-03-13T13:19:44.437Z"
   },
   {
    "duration": 556,
    "start_time": "2022-03-13T13:23:39.371Z"
   },
   {
    "duration": 468,
    "start_time": "2022-03-13T13:23:58.218Z"
   },
   {
    "duration": 6,
    "start_time": "2022-03-13T13:25:37.687Z"
   },
   {
    "duration": 96,
    "start_time": "2022-03-13T13:43:46.755Z"
   },
   {
    "duration": 6,
    "start_time": "2022-03-13T13:44:41.255Z"
   },
   {
    "duration": 84,
    "start_time": "2022-03-13T13:44:50.443Z"
   },
   {
    "duration": 6,
    "start_time": "2022-03-13T13:44:51.487Z"
   },
   {
    "duration": 89,
    "start_time": "2022-03-13T13:44:56.703Z"
   },
   {
    "duration": 6,
    "start_time": "2022-03-13T13:44:57.303Z"
   },
   {
    "duration": 4,
    "start_time": "2022-03-13T13:45:51.503Z"
   },
   {
    "duration": 87,
    "start_time": "2022-03-13T13:45:55.494Z"
   },
   {
    "duration": 91,
    "start_time": "2022-03-13T13:46:00.463Z"
   },
   {
    "duration": 5,
    "start_time": "2022-03-13T13:46:07.503Z"
   },
   {
    "duration": 5,
    "start_time": "2022-03-13T13:46:08.983Z"
   },
   {
    "duration": 94,
    "start_time": "2022-03-13T13:46:09.695Z"
   },
   {
    "duration": 5,
    "start_time": "2022-03-13T13:46:13.791Z"
   },
   {
    "duration": 87,
    "start_time": "2022-03-13T13:46:14.511Z"
   },
   {
    "duration": 25,
    "start_time": "2022-03-13T13:46:37.051Z"
   },
   {
    "duration": 22,
    "start_time": "2022-03-13T13:46:49.168Z"
   },
   {
    "duration": 24,
    "start_time": "2022-03-13T13:47:23.471Z"
   },
   {
    "duration": 22,
    "start_time": "2022-03-13T13:47:28.696Z"
   },
   {
    "duration": 23,
    "start_time": "2022-03-13T13:47:37.176Z"
   },
   {
    "duration": 23,
    "start_time": "2022-03-13T13:48:29.948Z"
   },
   {
    "duration": 5,
    "start_time": "2022-03-13T13:48:33.728Z"
   },
   {
    "duration": 22,
    "start_time": "2022-03-13T13:48:54.654Z"
   },
   {
    "duration": 22,
    "start_time": "2022-03-13T13:50:00.273Z"
   },
   {
    "duration": 21,
    "start_time": "2022-03-13T13:50:15.328Z"
   },
   {
    "duration": 246,
    "start_time": "2022-03-13T13:50:48.425Z"
   },
   {
    "duration": 242,
    "start_time": "2022-03-13T13:50:51.941Z"
   },
   {
    "duration": 211,
    "start_time": "2022-03-13T13:50:54.677Z"
   },
   {
    "duration": 18,
    "start_time": "2022-03-13T13:51:02.173Z"
   },
   {
    "duration": 23,
    "start_time": "2022-03-13T13:51:17.737Z"
   },
   {
    "duration": 252,
    "start_time": "2022-03-13T13:51:59.726Z"
   },
   {
    "duration": 366,
    "start_time": "2022-03-13T13:52:05.050Z"
   },
   {
    "duration": 277,
    "start_time": "2022-03-13T13:53:04.868Z"
   },
   {
    "duration": 4,
    "start_time": "2022-03-13T13:53:28.011Z"
   },
   {
    "duration": 8,
    "start_time": "2022-03-13T13:53:31.882Z"
   },
   {
    "duration": 363,
    "start_time": "2022-03-13T13:53:43.387Z"
   },
   {
    "duration": 265,
    "start_time": "2022-03-13T13:54:01.082Z"
   },
   {
    "duration": 267,
    "start_time": "2022-03-13T13:54:20.550Z"
   },
   {
    "duration": 336,
    "start_time": "2022-03-13T13:54:53.299Z"
   },
   {
    "duration": 20,
    "start_time": "2022-03-13T13:55:16.283Z"
   },
   {
    "duration": 20,
    "start_time": "2022-03-13T13:55:31.567Z"
   },
   {
    "duration": 19,
    "start_time": "2022-03-13T14:00:12.844Z"
   },
   {
    "duration": 11,
    "start_time": "2022-03-13T14:00:18.589Z"
   },
   {
    "duration": 301,
    "start_time": "2022-03-13T14:00:34.937Z"
   },
   {
    "duration": 18,
    "start_time": "2022-03-13T14:01:09.057Z"
   },
   {
    "duration": 20,
    "start_time": "2022-03-13T14:01:27.185Z"
   },
   {
    "duration": 21,
    "start_time": "2022-03-13T14:05:09.854Z"
   },
   {
    "duration": 20,
    "start_time": "2022-03-13T14:05:15.158Z"
   },
   {
    "duration": 20,
    "start_time": "2022-03-13T14:05:20.727Z"
   },
   {
    "duration": 20,
    "start_time": "2022-03-13T14:05:27.449Z"
   },
   {
    "duration": 1477,
    "start_time": "2022-03-14T03:58:01.966Z"
   },
   {
    "duration": 3,
    "start_time": "2022-03-14T03:58:03.446Z"
   },
   {
    "duration": 172,
    "start_time": "2022-03-14T03:58:03.453Z"
   },
   {
    "duration": 21,
    "start_time": "2022-03-14T03:58:03.628Z"
   },
   {
    "duration": 36,
    "start_time": "2022-03-14T03:58:03.651Z"
   },
   {
    "duration": 154,
    "start_time": "2022-03-14T03:58:03.690Z"
   },
   {
    "duration": 17,
    "start_time": "2022-03-14T03:58:03.846Z"
   },
   {
    "duration": 26,
    "start_time": "2022-03-14T03:58:03.865Z"
   },
   {
    "duration": 156,
    "start_time": "2022-03-14T03:58:03.895Z"
   },
   {
    "duration": 16,
    "start_time": "2022-03-14T03:58:04.054Z"
   },
   {
    "duration": 26,
    "start_time": "2022-03-14T03:58:04.072Z"
   },
   {
    "duration": 54,
    "start_time": "2022-03-14T03:58:04.100Z"
   },
   {
    "duration": 65,
    "start_time": "2022-03-14T03:58:04.156Z"
   },
   {
    "duration": 65,
    "start_time": "2022-03-14T03:58:04.223Z"
   },
   {
    "duration": 370,
    "start_time": "2022-03-14T03:58:04.290Z"
   },
   {
    "duration": 316,
    "start_time": "2022-03-14T03:58:04.662Z"
   },
   {
    "duration": 384,
    "start_time": "2022-03-14T03:58:04.981Z"
   },
   {
    "duration": 327,
    "start_time": "2022-03-14T03:58:05.368Z"
   },
   {
    "duration": 383,
    "start_time": "2022-03-14T03:58:05.697Z"
   },
   {
    "duration": 324,
    "start_time": "2022-03-14T03:58:06.082Z"
   },
   {
    "duration": 16,
    "start_time": "2022-03-14T03:58:06.409Z"
   },
   {
    "duration": 64,
    "start_time": "2022-03-14T03:58:06.427Z"
   },
   {
    "duration": 17,
    "start_time": "2022-03-14T03:58:06.493Z"
   },
   {
    "duration": 36,
    "start_time": "2022-03-14T03:58:06.512Z"
   },
   {
    "duration": 60,
    "start_time": "2022-03-14T03:58:06.551Z"
   },
   {
    "duration": 4,
    "start_time": "2022-03-14T03:58:06.613Z"
   },
   {
    "duration": 28,
    "start_time": "2022-03-14T03:58:06.622Z"
   },
   {
    "duration": 38,
    "start_time": "2022-03-14T03:58:06.653Z"
   },
   {
    "duration": 21,
    "start_time": "2022-03-14T03:58:06.693Z"
   },
   {
    "duration": 72,
    "start_time": "2022-03-14T03:58:06.717Z"
   },
   {
    "duration": 113,
    "start_time": "2022-03-14T03:58:06.792Z"
   },
   {
    "duration": 106,
    "start_time": "2022-03-14T03:58:06.989Z"
   },
   {
    "duration": 99,
    "start_time": "2022-03-14T03:58:07.190Z"
   },
   {
    "duration": 11,
    "start_time": "2022-03-14T03:58:07.291Z"
   },
   {
    "duration": 105,
    "start_time": "2022-03-14T03:58:07.305Z"
   },
   {
    "duration": 17,
    "start_time": "2022-03-14T03:58:07.412Z"
   },
   {
    "duration": 13,
    "start_time": "2022-03-14T03:58:07.432Z"
   },
   {
    "duration": 11,
    "start_time": "2022-03-14T03:58:07.447Z"
   },
   {
    "duration": 263,
    "start_time": "2022-03-14T03:58:07.461Z"
   },
   {
    "duration": 202,
    "start_time": "2022-03-14T03:58:07.726Z"
   },
   {
    "duration": 198,
    "start_time": "2022-03-14T03:58:07.931Z"
   },
   {
    "duration": 19,
    "start_time": "2022-03-14T03:58:08.132Z"
   },
   {
    "duration": 4,
    "start_time": "2022-03-14T03:58:08.154Z"
   },
   {
    "duration": 46,
    "start_time": "2022-03-14T03:58:08.161Z"
   },
   {
    "duration": 20,
    "start_time": "2022-03-14T03:58:08.209Z"
   },
   {
    "duration": 6394,
    "start_time": "2022-03-14T03:58:08.232Z"
   },
   {
    "duration": -651,
    "start_time": "2022-03-14T03:58:15.279Z"
   },
   {
    "duration": 86,
    "start_time": "2022-03-14T04:12:42.003Z"
   },
   {
    "duration": 17,
    "start_time": "2022-03-14T04:13:05.990Z"
   },
   {
    "duration": 64,
    "start_time": "2022-03-14T04:13:27.326Z"
   },
   {
    "duration": 17,
    "start_time": "2022-03-14T04:13:43.731Z"
   },
   {
    "duration": 5,
    "start_time": "2022-03-14T04:20:18.241Z"
   },
   {
    "duration": 4,
    "start_time": "2022-03-14T04:20:40.050Z"
   },
   {
    "duration": 5,
    "start_time": "2022-03-14T04:20:49.814Z"
   },
   {
    "duration": 19,
    "start_time": "2022-03-14T04:47:31.100Z"
   },
   {
    "duration": 20,
    "start_time": "2022-03-14T04:48:29.703Z"
   },
   {
    "duration": 23,
    "start_time": "2022-03-14T04:54:41.627Z"
   },
   {
    "duration": 25,
    "start_time": "2022-03-14T04:55:30.091Z"
   },
   {
    "duration": 17,
    "start_time": "2022-03-14T04:57:11.646Z"
   },
   {
    "duration": 11,
    "start_time": "2022-03-14T04:57:27.384Z"
   },
   {
    "duration": 12,
    "start_time": "2022-03-14T04:58:04.580Z"
   },
   {
    "duration": 11,
    "start_time": "2022-03-14T04:58:18.193Z"
   },
   {
    "duration": 11,
    "start_time": "2022-03-14T04:58:31.092Z"
   },
   {
    "duration": 11,
    "start_time": "2022-03-14T04:58:35.769Z"
   },
   {
    "duration": 11,
    "start_time": "2022-03-14T04:59:36.109Z"
   },
   {
    "duration": 11,
    "start_time": "2022-03-14T05:11:24.869Z"
   },
   {
    "duration": 11,
    "start_time": "2022-03-14T05:11:35.023Z"
   },
   {
    "duration": 1411,
    "start_time": "2022-03-14T05:12:56.404Z"
   },
   {
    "duration": 4,
    "start_time": "2022-03-14T05:12:57.817Z"
   },
   {
    "duration": 163,
    "start_time": "2022-03-14T05:12:57.824Z"
   },
   {
    "duration": 21,
    "start_time": "2022-03-14T05:12:57.990Z"
   },
   {
    "duration": 13,
    "start_time": "2022-03-14T05:12:58.013Z"
   },
   {
    "duration": 174,
    "start_time": "2022-03-14T05:12:58.028Z"
   },
   {
    "duration": 16,
    "start_time": "2022-03-14T05:12:58.204Z"
   },
   {
    "duration": 14,
    "start_time": "2022-03-14T05:12:58.224Z"
   },
   {
    "duration": 173,
    "start_time": "2022-03-14T05:12:58.241Z"
   },
   {
    "duration": 15,
    "start_time": "2022-03-14T05:12:58.417Z"
   },
   {
    "duration": 16,
    "start_time": "2022-03-14T05:12:58.434Z"
   },
   {
    "duration": 70,
    "start_time": "2022-03-14T05:12:58.453Z"
   },
   {
    "duration": 67,
    "start_time": "2022-03-14T05:12:58.526Z"
   },
   {
    "duration": 46,
    "start_time": "2022-03-14T05:12:58.596Z"
   },
   {
    "duration": 379,
    "start_time": "2022-03-14T05:12:58.644Z"
   },
   {
    "duration": 322,
    "start_time": "2022-03-14T05:12:59.025Z"
   },
   {
    "duration": 380,
    "start_time": "2022-03-14T05:12:59.350Z"
   },
   {
    "duration": 320,
    "start_time": "2022-03-14T05:12:59.732Z"
   },
   {
    "duration": 393,
    "start_time": "2022-03-14T05:13:00.055Z"
   },
   {
    "duration": 324,
    "start_time": "2022-03-14T05:13:00.450Z"
   },
   {
    "duration": 25,
    "start_time": "2022-03-14T05:13:00.777Z"
   },
   {
    "duration": 54,
    "start_time": "2022-03-14T05:13:00.805Z"
   },
   {
    "duration": 25,
    "start_time": "2022-03-14T05:13:00.864Z"
   },
   {
    "duration": 42,
    "start_time": "2022-03-14T05:13:00.892Z"
   },
   {
    "duration": 54,
    "start_time": "2022-03-14T05:13:00.937Z"
   },
   {
    "duration": 4,
    "start_time": "2022-03-14T05:13:00.994Z"
   },
   {
    "duration": 46,
    "start_time": "2022-03-14T05:13:01.001Z"
   },
   {
    "duration": 25,
    "start_time": "2022-03-14T05:13:01.050Z"
   },
   {
    "duration": 28,
    "start_time": "2022-03-14T05:13:01.077Z"
   },
   {
    "duration": 79,
    "start_time": "2022-03-14T05:13:01.108Z"
   },
   {
    "duration": 113,
    "start_time": "2022-03-14T05:13:01.191Z"
   },
   {
    "duration": 282,
    "start_time": "2022-03-14T05:13:01.307Z"
   },
   {
    "duration": 109,
    "start_time": "2022-03-14T05:13:01.592Z"
   },
   {
    "duration": 13,
    "start_time": "2022-03-14T05:13:01.703Z"
   },
   {
    "duration": 77,
    "start_time": "2022-03-14T05:13:01.718Z"
   },
   {
    "duration": 27,
    "start_time": "2022-03-14T05:13:01.798Z"
   },
   {
    "duration": 13,
    "start_time": "2022-03-14T05:13:01.828Z"
   },
   {
    "duration": 10,
    "start_time": "2022-03-14T05:13:01.843Z"
   },
   {
    "duration": 273,
    "start_time": "2022-03-14T05:13:01.855Z"
   },
   {
    "duration": 197,
    "start_time": "2022-03-14T05:13:02.131Z"
   },
   {
    "duration": 198,
    "start_time": "2022-03-14T05:13:02.330Z"
   },
   {
    "duration": 15,
    "start_time": "2022-03-14T05:13:02.530Z"
   },
   {
    "duration": 3,
    "start_time": "2022-03-14T05:16:40.950Z"
   },
   {
    "duration": 4,
    "start_time": "2022-03-14T05:27:42.318Z"
   },
   {
    "duration": 2484,
    "start_time": "2022-03-14T05:32:37.128Z"
   },
   {
    "duration": 1273,
    "start_time": "2022-03-14T05:37:13.782Z"
   },
   {
    "duration": 19,
    "start_time": "2022-03-14T05:37:34.873Z"
   },
   {
    "duration": 1275,
    "start_time": "2022-03-14T05:42:01.142Z"
   },
   {
    "duration": 1228,
    "start_time": "2022-03-14T05:42:18.304Z"
   },
   {
    "duration": 1266,
    "start_time": "2022-03-14T05:42:30.648Z"
   },
   {
    "duration": 1303,
    "start_time": "2022-03-14T05:42:50.097Z"
   },
   {
    "duration": 1228,
    "start_time": "2022-03-14T05:42:57.540Z"
   },
   {
    "duration": 1299,
    "start_time": "2022-03-14T05:51:36.547Z"
   },
   {
    "duration": 1255,
    "start_time": "2022-03-14T05:51:49.992Z"
   },
   {
    "duration": 1087,
    "start_time": "2022-03-15T02:40:04.657Z"
   },
   {
    "duration": 3,
    "start_time": "2022-03-15T02:40:05.746Z"
   },
   {
    "duration": 126,
    "start_time": "2022-03-15T02:40:05.751Z"
   },
   {
    "duration": 15,
    "start_time": "2022-03-15T02:40:05.879Z"
   },
   {
    "duration": 10,
    "start_time": "2022-03-15T02:40:05.896Z"
   },
   {
    "duration": 137,
    "start_time": "2022-03-15T02:40:05.908Z"
   },
   {
    "duration": 12,
    "start_time": "2022-03-15T02:40:06.047Z"
   },
   {
    "duration": 9,
    "start_time": "2022-03-15T02:40:06.061Z"
   },
   {
    "duration": 132,
    "start_time": "2022-03-15T02:40:06.073Z"
   },
   {
    "duration": 11,
    "start_time": "2022-03-15T02:40:06.207Z"
   },
   {
    "duration": 21,
    "start_time": "2022-03-15T02:40:06.220Z"
   },
   {
    "duration": 35,
    "start_time": "2022-03-15T02:40:06.243Z"
   },
   {
    "duration": 33,
    "start_time": "2022-03-15T02:40:06.279Z"
   },
   {
    "duration": 49,
    "start_time": "2022-03-15T02:40:06.313Z"
   },
   {
    "duration": 222,
    "start_time": "2022-03-15T02:40:06.363Z"
   },
   {
    "duration": 181,
    "start_time": "2022-03-15T02:40:06.586Z"
   },
   {
    "duration": 219,
    "start_time": "2022-03-15T02:40:06.769Z"
   },
   {
    "duration": 194,
    "start_time": "2022-03-15T02:40:06.990Z"
   },
   {
    "duration": 216,
    "start_time": "2022-03-15T02:40:07.185Z"
   },
   {
    "duration": 189,
    "start_time": "2022-03-15T02:40:07.403Z"
   },
   {
    "duration": 10,
    "start_time": "2022-03-15T02:40:07.594Z"
   },
   {
    "duration": 42,
    "start_time": "2022-03-15T02:40:07.606Z"
   },
   {
    "duration": 11,
    "start_time": "2022-03-15T02:40:07.649Z"
   },
   {
    "duration": 25,
    "start_time": "2022-03-15T02:40:07.661Z"
   },
   {
    "duration": 45,
    "start_time": "2022-03-15T02:40:07.688Z"
   },
   {
    "duration": 2,
    "start_time": "2022-03-15T02:40:07.735Z"
   },
   {
    "duration": 20,
    "start_time": "2022-03-15T02:40:07.740Z"
   },
   {
    "duration": 17,
    "start_time": "2022-03-15T02:40:07.762Z"
   },
   {
    "duration": 18,
    "start_time": "2022-03-15T02:40:07.780Z"
   },
   {
    "duration": 50,
    "start_time": "2022-03-15T02:40:07.800Z"
   },
   {
    "duration": 109,
    "start_time": "2022-03-15T02:40:07.935Z"
   },
   {
    "duration": 190,
    "start_time": "2022-03-15T02:40:08.047Z"
   },
   {
    "duration": 106,
    "start_time": "2022-03-15T02:40:08.239Z"
   },
   {
    "duration": 86,
    "start_time": "2022-03-15T02:40:08.348Z"
   },
   {
    "duration": 76,
    "start_time": "2022-03-15T02:40:08.436Z"
   },
   {
    "duration": 24,
    "start_time": "2022-03-15T02:40:08.514Z"
   },
   {
    "duration": 5,
    "start_time": "2022-03-15T02:40:08.540Z"
   },
   {
    "duration": 6,
    "start_time": "2022-03-15T02:40:08.546Z"
   },
   {
    "duration": 212,
    "start_time": "2022-03-15T02:40:08.553Z"
   },
   {
    "duration": 195,
    "start_time": "2022-03-15T02:40:08.767Z"
   },
   {
    "duration": 199,
    "start_time": "2022-03-15T02:40:08.964Z"
   },
   {
    "duration": 8,
    "start_time": "2022-03-15T02:40:09.164Z"
   },
   {
    "duration": 729,
    "start_time": "2022-03-15T02:40:09.174Z"
   },
   {
    "duration": 696,
    "start_time": "2022-03-15T02:59:58.741Z"
   },
   {
    "duration": 6643,
    "start_time": "2022-03-15T03:20:35.366Z"
   },
   {
    "duration": 697,
    "start_time": "2022-03-15T03:20:50.975Z"
   },
   {
    "duration": 13,
    "start_time": "2022-03-15T04:42:03.055Z"
   },
   {
    "duration": 8,
    "start_time": "2022-03-15T05:02:04.823Z"
   },
   {
    "duration": 7,
    "start_time": "2022-03-15T05:06:43.745Z"
   },
   {
    "duration": 7,
    "start_time": "2022-03-15T05:09:40.346Z"
   },
   {
    "duration": 8,
    "start_time": "2022-03-15T05:09:51.605Z"
   },
   {
    "duration": 8,
    "start_time": "2022-03-15T05:09:57.141Z"
   },
   {
    "duration": 8,
    "start_time": "2022-03-15T05:10:01.523Z"
   },
   {
    "duration": 255,
    "start_time": "2022-03-15T05:55:22.117Z"
   },
   {
    "duration": 2759,
    "start_time": "2022-03-15T05:55:38.397Z"
   },
   {
    "duration": 9,
    "start_time": "2022-03-15T05:59:09.803Z"
   },
   {
    "duration": 173,
    "start_time": "2022-03-15T05:59:21.339Z"
   },
   {
    "duration": 2139,
    "start_time": "2022-03-15T05:59:57.223Z"
   },
   {
    "duration": 10,
    "start_time": "2022-03-15T06:00:11.151Z"
   },
   {
    "duration": 165,
    "start_time": "2022-03-15T06:03:52.868Z"
   },
   {
    "duration": 3,
    "start_time": "2022-03-15T06:04:50.157Z"
   },
   {
    "duration": 214,
    "start_time": "2022-03-15T06:04:50.837Z"
   },
   {
    "duration": 2030,
    "start_time": "2022-03-15T06:05:26.818Z"
   },
   {
    "duration": 2155,
    "start_time": "2022-03-15T06:09:31.863Z"
   },
   {
    "duration": 6,
    "start_time": "2022-03-15T06:33:36.606Z"
   },
   {
    "duration": 3,
    "start_time": "2022-03-15T06:45:28.385Z"
   },
   {
    "duration": 4,
    "start_time": "2022-03-15T06:45:48.161Z"
   },
   {
    "duration": 2090,
    "start_time": "2022-03-15T06:47:51.974Z"
   },
   {
    "duration": 12,
    "start_time": "2022-03-15T06:58:10.983Z"
   },
   {
    "duration": 2027,
    "start_time": "2022-03-15T06:58:46.239Z"
   },
   {
    "duration": 2064,
    "start_time": "2022-03-15T06:59:07.488Z"
   },
   {
    "duration": 2017,
    "start_time": "2022-03-15T06:59:35.248Z"
   },
   {
    "duration": 2210,
    "start_time": "2022-03-15T07:33:23.050Z"
   },
   {
    "duration": 2036,
    "start_time": "2022-03-15T07:34:12.259Z"
   },
   {
    "duration": 2064,
    "start_time": "2022-03-15T07:34:18.475Z"
   },
   {
    "duration": 3,
    "start_time": "2022-03-15T08:30:30.902Z"
   },
   {
    "duration": 6,
    "start_time": "2022-03-15T08:30:38.856Z"
   },
   {
    "duration": 3,
    "start_time": "2022-03-15T08:30:51.010Z"
   },
   {
    "duration": 5,
    "start_time": "2022-03-15T08:30:54.234Z"
   },
   {
    "duration": 1142,
    "start_time": "2022-03-16T02:43:38.648Z"
   },
   {
    "duration": 3,
    "start_time": "2022-03-16T02:43:39.792Z"
   },
   {
    "duration": 130,
    "start_time": "2022-03-16T02:43:39.797Z"
   },
   {
    "duration": 16,
    "start_time": "2022-03-16T02:43:39.929Z"
   },
   {
    "duration": 27,
    "start_time": "2022-03-16T02:43:39.946Z"
   },
   {
    "duration": 164,
    "start_time": "2022-03-16T02:43:39.975Z"
   },
   {
    "duration": 12,
    "start_time": "2022-03-16T02:43:40.141Z"
   },
   {
    "duration": 19,
    "start_time": "2022-03-16T02:43:40.155Z"
   },
   {
    "duration": 133,
    "start_time": "2022-03-16T02:43:40.176Z"
   },
   {
    "duration": 11,
    "start_time": "2022-03-16T02:43:40.311Z"
   },
   {
    "duration": 17,
    "start_time": "2022-03-16T02:43:40.324Z"
   },
   {
    "duration": 49,
    "start_time": "2022-03-16T02:43:40.343Z"
   },
   {
    "duration": 34,
    "start_time": "2022-03-16T02:43:40.393Z"
   },
   {
    "duration": 52,
    "start_time": "2022-03-16T02:43:40.429Z"
   },
   {
    "duration": 222,
    "start_time": "2022-03-16T02:43:40.482Z"
   },
   {
    "duration": 179,
    "start_time": "2022-03-16T02:43:40.709Z"
   },
   {
    "duration": 215,
    "start_time": "2022-03-16T02:43:40.889Z"
   },
   {
    "duration": 190,
    "start_time": "2022-03-16T02:43:41.106Z"
   },
   {
    "duration": 220,
    "start_time": "2022-03-16T02:43:41.298Z"
   },
   {
    "duration": 183,
    "start_time": "2022-03-16T02:43:41.519Z"
   },
   {
    "duration": 10,
    "start_time": "2022-03-16T02:43:41.703Z"
   },
   {
    "duration": 33,
    "start_time": "2022-03-16T02:43:41.715Z"
   },
   {
    "duration": 20,
    "start_time": "2022-03-16T02:43:41.751Z"
   },
   {
    "duration": 28,
    "start_time": "2022-03-16T02:43:41.773Z"
   },
   {
    "duration": 30,
    "start_time": "2022-03-16T02:43:41.803Z"
   },
   {
    "duration": 2,
    "start_time": "2022-03-16T02:43:41.834Z"
   },
   {
    "duration": 37,
    "start_time": "2022-03-16T02:43:41.838Z"
   },
   {
    "duration": 18,
    "start_time": "2022-03-16T02:43:41.876Z"
   },
   {
    "duration": 17,
    "start_time": "2022-03-16T02:43:41.896Z"
   },
   {
    "duration": 51,
    "start_time": "2022-03-16T02:43:41.915Z"
   },
   {
    "duration": 197,
    "start_time": "2022-03-16T02:43:41.968Z"
   },
   {
    "duration": 107,
    "start_time": "2022-03-16T02:43:42.167Z"
   },
   {
    "duration": 187,
    "start_time": "2022-03-16T02:43:42.277Z"
   },
   {
    "duration": 3,
    "start_time": "2022-03-16T02:43:42.466Z"
   },
   {
    "duration": 6,
    "start_time": "2022-03-16T02:43:42.471Z"
   },
   {
    "duration": 10,
    "start_time": "2022-03-16T02:43:42.478Z"
   },
   {
    "duration": 9,
    "start_time": "2022-03-16T02:43:42.490Z"
   },
   {
    "duration": 9,
    "start_time": "2022-03-16T02:43:42.501Z"
   },
   {
    "duration": 4,
    "start_time": "2022-03-16T02:43:42.512Z"
   },
   {
    "duration": 183,
    "start_time": "2022-03-16T02:43:42.517Z"
   },
   {
    "duration": 189,
    "start_time": "2022-03-16T02:43:42.702Z"
   },
   {
    "duration": 198,
    "start_time": "2022-03-16T02:43:42.893Z"
   },
   {
    "duration": 11,
    "start_time": "2022-03-16T02:43:43.092Z"
   },
   {
    "duration": 725,
    "start_time": "2022-03-16T02:43:43.105Z"
   },
   {
    "duration": 10,
    "start_time": "2022-03-16T02:43:43.832Z"
   },
   {
    "duration": 22,
    "start_time": "2022-03-16T02:43:43.844Z"
   },
   {
    "duration": 11,
    "start_time": "2022-03-16T02:43:43.867Z"
   },
   {
    "duration": 2073,
    "start_time": "2022-03-16T02:43:43.880Z"
   },
   {
    "duration": 10,
    "start_time": "2022-03-16T02:43:45.954Z"
   },
   {
    "duration": 6,
    "start_time": "2022-03-16T02:43:45.965Z"
   },
   {
    "duration": 87,
    "start_time": "2022-03-16T02:43:45.973Z"
   },
   {
    "duration": -342,
    "start_time": "2022-03-16T02:43:46.404Z"
   },
   {
    "duration": -344,
    "start_time": "2022-03-16T02:43:46.407Z"
   },
   {
    "duration": -347,
    "start_time": "2022-03-16T02:43:46.411Z"
   },
   {
    "duration": -350,
    "start_time": "2022-03-16T02:43:46.415Z"
   },
   {
    "duration": 4,
    "start_time": "2022-03-16T03:17:50.642Z"
   },
   {
    "duration": 15,
    "start_time": "2022-03-16T03:19:26.562Z"
   },
   {
    "duration": 13,
    "start_time": "2022-03-16T03:19:47.465Z"
   },
   {
    "duration": 14,
    "start_time": "2022-03-16T03:20:01.547Z"
   },
   {
    "duration": 4,
    "start_time": "2022-03-16T03:21:44.275Z"
   },
   {
    "duration": 4,
    "start_time": "2022-03-16T03:21:53.512Z"
   },
   {
    "duration": 7,
    "start_time": "2022-03-16T03:23:23.374Z"
   },
   {
    "duration": 14,
    "start_time": "2022-03-16T03:25:39.017Z"
   },
   {
    "duration": 14,
    "start_time": "2022-03-16T03:25:46.905Z"
   },
   {
    "duration": 12,
    "start_time": "2022-03-16T03:38:17.390Z"
   },
   {
    "duration": 7,
    "start_time": "2022-03-16T03:51:41.600Z"
   },
   {
    "duration": 7,
    "start_time": "2022-03-16T03:53:31.989Z"
   },
   {
    "duration": 7,
    "start_time": "2022-03-16T03:53:54.940Z"
   },
   {
    "duration": 13,
    "start_time": "2022-03-16T03:58:44.802Z"
   },
   {
    "duration": 181,
    "start_time": "2022-03-16T04:07:35.410Z"
   },
   {
    "duration": 231,
    "start_time": "2022-03-16T04:18:22.849Z"
   },
   {
    "duration": 4,
    "start_time": "2022-03-16T04:18:48.433Z"
   },
   {
    "duration": 4,
    "start_time": "2022-03-16T04:19:00.482Z"
   },
   {
    "duration": 4,
    "start_time": "2022-03-16T04:19:28.245Z"
   },
   {
    "duration": 3,
    "start_time": "2022-03-16T04:19:39.186Z"
   },
   {
    "duration": 11,
    "start_time": "2022-03-16T04:27:21.765Z"
   },
   {
    "duration": 4,
    "start_time": "2022-03-16T05:01:52.234Z"
   },
   {
    "duration": 3,
    "start_time": "2022-03-16T05:02:33.665Z"
   },
   {
    "duration": 4,
    "start_time": "2022-03-16T05:07:44.901Z"
   },
   {
    "duration": 3,
    "start_time": "2022-03-16T05:09:43.490Z"
   },
   {
    "duration": 4,
    "start_time": "2022-03-16T05:10:09.258Z"
   },
   {
    "duration": 3,
    "start_time": "2022-03-16T05:10:17.700Z"
   },
   {
    "duration": 4,
    "start_time": "2022-03-16T05:10:47.978Z"
   },
   {
    "duration": 3,
    "start_time": "2022-03-16T05:18:23.321Z"
   },
   {
    "duration": 2063,
    "start_time": "2022-03-16T05:20:30.579Z"
   },
   {
    "duration": 1048,
    "start_time": "2022-03-16T05:20:55.018Z"
   },
   {
    "duration": 3,
    "start_time": "2022-03-16T05:20:56.068Z"
   },
   {
    "duration": 123,
    "start_time": "2022-03-16T05:20:56.073Z"
   },
   {
    "duration": 13,
    "start_time": "2022-03-16T05:20:56.198Z"
   },
   {
    "duration": 14,
    "start_time": "2022-03-16T05:20:56.213Z"
   },
   {
    "duration": 119,
    "start_time": "2022-03-16T05:20:56.228Z"
   },
   {
    "duration": 18,
    "start_time": "2022-03-16T05:20:56.349Z"
   },
   {
    "duration": 13,
    "start_time": "2022-03-16T05:20:56.369Z"
   },
   {
    "duration": 125,
    "start_time": "2022-03-16T05:20:56.385Z"
   },
   {
    "duration": 11,
    "start_time": "2022-03-16T05:20:56.512Z"
   },
   {
    "duration": 12,
    "start_time": "2022-03-16T05:20:56.524Z"
   },
   {
    "duration": 48,
    "start_time": "2022-03-16T05:20:56.537Z"
   },
   {
    "duration": 34,
    "start_time": "2022-03-16T05:20:56.587Z"
   },
   {
    "duration": 48,
    "start_time": "2022-03-16T05:20:56.623Z"
   },
   {
    "duration": 224,
    "start_time": "2022-03-16T05:20:56.673Z"
   },
   {
    "duration": 184,
    "start_time": "2022-03-16T05:20:56.899Z"
   },
   {
    "duration": 221,
    "start_time": "2022-03-16T05:20:57.085Z"
   },
   {
    "duration": 192,
    "start_time": "2022-03-16T05:20:57.308Z"
   },
   {
    "duration": 223,
    "start_time": "2022-03-16T05:20:57.502Z"
   },
   {
    "duration": 194,
    "start_time": "2022-03-16T05:20:57.727Z"
   },
   {
    "duration": 2,
    "start_time": "2022-03-16T05:20:57.923Z"
   },
   {
    "duration": 31,
    "start_time": "2022-03-16T05:20:57.927Z"
   },
   {
    "duration": 18,
    "start_time": "2022-03-16T05:20:57.959Z"
   },
   {
    "duration": 27,
    "start_time": "2022-03-16T05:20:57.979Z"
   },
   {
    "duration": 83,
    "start_time": "2022-03-16T05:20:58.008Z"
   },
   {
    "duration": 169,
    "start_time": "2022-03-16T05:20:58.094Z"
   },
   {
    "duration": 14,
    "start_time": "2022-03-16T05:20:58.267Z"
   },
   {
    "duration": 93,
    "start_time": "2022-03-16T05:20:58.284Z"
   },
   {
    "duration": 90,
    "start_time": "2022-03-16T05:20:58.378Z"
   },
   {
    "duration": 102,
    "start_time": "2022-03-16T05:20:58.471Z"
   },
   {
    "duration": 12,
    "start_time": "2022-03-16T05:20:58.574Z"
   },
   {
    "duration": 9,
    "start_time": "2022-03-16T05:20:58.588Z"
   },
   {
    "duration": 6,
    "start_time": "2022-03-16T05:20:58.599Z"
   },
   {
    "duration": 3,
    "start_time": "2022-03-16T05:20:58.607Z"
   },
   {
    "duration": 5,
    "start_time": "2022-03-16T05:20:58.612Z"
   },
   {
    "duration": 5,
    "start_time": "2022-03-16T05:20:58.618Z"
   },
   {
    "duration": 9,
    "start_time": "2022-03-16T05:20:58.625Z"
   },
   {
    "duration": 28,
    "start_time": "2022-03-16T05:20:58.635Z"
   },
   {
    "duration": 300,
    "start_time": "2022-03-16T05:20:58.665Z"
   },
   {
    "duration": -1196,
    "start_time": "2022-03-16T05:21:00.163Z"
   },
   {
    "duration": -1203,
    "start_time": "2022-03-16T05:21:00.171Z"
   },
   {
    "duration": -1211,
    "start_time": "2022-03-16T05:21:00.179Z"
   },
   {
    "duration": -1217,
    "start_time": "2022-03-16T05:21:00.186Z"
   },
   {
    "duration": -1220,
    "start_time": "2022-03-16T05:21:00.190Z"
   },
   {
    "duration": -1223,
    "start_time": "2022-03-16T05:21:00.194Z"
   },
   {
    "duration": -1226,
    "start_time": "2022-03-16T05:21:00.198Z"
   },
   {
    "duration": -1228,
    "start_time": "2022-03-16T05:21:00.201Z"
   },
   {
    "duration": -1231,
    "start_time": "2022-03-16T05:21:00.205Z"
   },
   {
    "duration": -1233,
    "start_time": "2022-03-16T05:21:00.208Z"
   },
   {
    "duration": -1236,
    "start_time": "2022-03-16T05:21:00.212Z"
   },
   {
    "duration": -1240,
    "start_time": "2022-03-16T05:21:00.216Z"
   },
   {
    "duration": -1243,
    "start_time": "2022-03-16T05:21:00.220Z"
   },
   {
    "duration": -1253,
    "start_time": "2022-03-16T05:21:00.231Z"
   },
   {
    "duration": -1255,
    "start_time": "2022-03-16T05:21:00.234Z"
   },
   {
    "duration": -1258,
    "start_time": "2022-03-16T05:21:00.238Z"
   },
   {
    "duration": -1261,
    "start_time": "2022-03-16T05:21:00.241Z"
   },
   {
    "duration": 202,
    "start_time": "2022-03-16T05:22:32.895Z"
   },
   {
    "duration": 4,
    "start_time": "2022-03-16T05:23:54.536Z"
   },
   {
    "duration": 12,
    "start_time": "2022-03-16T05:30:58.114Z"
   },
   {
    "duration": 221,
    "start_time": "2022-03-16T05:32:01.795Z"
   },
   {
    "duration": 4,
    "start_time": "2022-03-16T05:32:40.438Z"
   },
   {
    "duration": 4,
    "start_time": "2022-03-16T05:32:41.627Z"
   },
   {
    "duration": 8,
    "start_time": "2022-03-16T05:32:42.307Z"
   },
   {
    "duration": 10,
    "start_time": "2022-03-16T05:32:47.999Z"
   },
   {
    "duration": 6,
    "start_time": "2022-03-16T05:33:02.539Z"
   },
   {
    "duration": 4,
    "start_time": "2022-03-16T05:33:27.283Z"
   },
   {
    "duration": 5,
    "start_time": "2022-03-16T05:33:38.668Z"
   },
   {
    "duration": 6,
    "start_time": "2022-03-16T05:36:15.116Z"
   },
   {
    "duration": 11,
    "start_time": "2022-03-16T05:36:20.936Z"
   },
   {
    "duration": 6,
    "start_time": "2022-03-16T05:36:30.112Z"
   },
   {
    "duration": 11,
    "start_time": "2022-03-16T05:36:32.660Z"
   },
   {
    "duration": 7,
    "start_time": "2022-03-16T05:36:39.317Z"
   },
   {
    "duration": 5,
    "start_time": "2022-03-16T05:36:52.533Z"
   },
   {
    "duration": 6,
    "start_time": "2022-03-16T05:37:03.126Z"
   },
   {
    "duration": 6,
    "start_time": "2022-03-16T05:37:03.363Z"
   },
   {
    "duration": 10,
    "start_time": "2022-03-16T05:37:07.958Z"
   },
   {
    "duration": 5,
    "start_time": "2022-03-16T05:37:27.145Z"
   },
   {
    "duration": 6,
    "start_time": "2022-03-16T05:37:39.801Z"
   },
   {
    "duration": 11,
    "start_time": "2022-03-16T05:38:18.007Z"
   },
   {
    "duration": 8,
    "start_time": "2022-03-16T05:38:22.674Z"
   },
   {
    "duration": 233,
    "start_time": "2022-03-16T05:39:18.390Z"
   },
   {
    "duration": 4,
    "start_time": "2022-03-16T05:39:59.262Z"
   },
   {
    "duration": 5645,
    "start_time": "2022-03-16T05:40:00.062Z"
   },
   {
    "duration": -1517,
    "start_time": "2022-03-16T05:40:07.226Z"
   },
   {
    "duration": 5458,
    "start_time": "2022-03-16T05:40:41.126Z"
   },
   {
    "duration": 4,
    "start_time": "2022-03-16T05:40:51.843Z"
   },
   {
    "duration": 9,
    "start_time": "2022-03-16T05:40:58.483Z"
   },
   {
    "duration": 5184,
    "start_time": "2022-03-16T05:41:06.175Z"
   },
   {
    "duration": 5,
    "start_time": "2022-03-16T05:41:28.587Z"
   },
   {
    "duration": 4,
    "start_time": "2022-03-16T05:41:38.695Z"
   },
   {
    "duration": 11,
    "start_time": "2022-03-16T05:41:53.291Z"
   },
   {
    "duration": 12,
    "start_time": "2022-03-16T05:42:07.555Z"
   },
   {
    "duration": 4,
    "start_time": "2022-03-16T05:42:18.490Z"
   },
   {
    "duration": 5202,
    "start_time": "2022-03-16T05:42:20.739Z"
   },
   {
    "duration": 3,
    "start_time": "2022-03-16T05:42:36.303Z"
   },
   {
    "duration": 5140,
    "start_time": "2022-03-16T05:42:38.655Z"
   },
   {
    "duration": 3,
    "start_time": "2022-03-16T05:52:48.067Z"
   },
   {
    "duration": 7,
    "start_time": "2022-03-16T05:52:50.479Z"
   },
   {
    "duration": 5713,
    "start_time": "2022-03-16T05:52:59.651Z"
   },
   {
    "duration": 15,
    "start_time": "2022-03-16T05:53:29.151Z"
   },
   {
    "duration": 11,
    "start_time": "2022-03-16T05:54:01.340Z"
   },
   {
    "duration": 11,
    "start_time": "2022-03-16T05:54:12.900Z"
   },
   {
    "duration": 14,
    "start_time": "2022-03-16T05:58:50.449Z"
   },
   {
    "duration": 10,
    "start_time": "2022-03-16T05:59:15.378Z"
   },
   {
    "duration": 10,
    "start_time": "2022-03-16T06:04:02.204Z"
   },
   {
    "duration": 220,
    "start_time": "2022-03-16T06:04:17.684Z"
   },
   {
    "duration": 215,
    "start_time": "2022-03-16T06:08:22.250Z"
   },
   {
    "duration": 283,
    "start_time": "2022-03-16T06:09:28.402Z"
   },
   {
    "duration": 3,
    "start_time": "2022-03-16T06:09:35.612Z"
   },
   {
    "duration": 430,
    "start_time": "2022-03-16T06:09:38.558Z"
   },
   {
    "duration": 463,
    "start_time": "2022-03-16T06:10:28.830Z"
   },
   {
    "duration": 2,
    "start_time": "2022-03-16T06:10:37.671Z"
   },
   {
    "duration": 8,
    "start_time": "2022-03-16T06:10:42.911Z"
   },
   {
    "duration": 2064,
    "start_time": "2022-03-16T06:11:08.388Z"
   },
   {
    "duration": 3122,
    "start_time": "2022-03-16T06:13:41.656Z"
   },
   {
    "duration": 3048,
    "start_time": "2022-03-16T06:22:03.898Z"
   },
   {
    "duration": 3134,
    "start_time": "2022-03-16T06:28:40.873Z"
   },
   {
    "duration": 95,
    "start_time": "2022-03-16T06:29:31.027Z"
   },
   {
    "duration": 3140,
    "start_time": "2022-03-16T06:29:35.809Z"
   },
   {
    "duration": 3101,
    "start_time": "2022-03-16T06:30:12.474Z"
   },
   {
    "duration": 3312,
    "start_time": "2022-03-16T06:30:57.063Z"
   },
   {
    "duration": 3466,
    "start_time": "2022-03-16T06:32:59.143Z"
   },
   {
    "duration": 3343,
    "start_time": "2022-03-16T06:33:13.744Z"
   },
   {
    "duration": 3276,
    "start_time": "2022-03-16T06:33:37.617Z"
   },
   {
    "duration": 3146,
    "start_time": "2022-03-16T06:35:17.020Z"
   },
   {
    "duration": 77,
    "start_time": "2022-03-16T06:38:19.086Z"
   },
   {
    "duration": 3372,
    "start_time": "2022-03-16T06:38:40.006Z"
   },
   {
    "duration": 3,
    "start_time": "2022-03-16T06:38:57.598Z"
   },
   {
    "duration": 4,
    "start_time": "2022-03-16T06:39:09.822Z"
   },
   {
    "duration": 4,
    "start_time": "2022-03-16T06:39:20.629Z"
   },
   {
    "duration": 3082,
    "start_time": "2022-03-16T06:43:43.464Z"
   },
   {
    "duration": 3131,
    "start_time": "2022-03-16T06:52:24.756Z"
   },
   {
    "duration": 3126,
    "start_time": "2022-03-16T06:52:37.428Z"
   },
   {
    "duration": 3105,
    "start_time": "2022-03-16T06:53:53.408Z"
   },
   {
    "duration": 3136,
    "start_time": "2022-03-16T06:54:05.619Z"
   },
   {
    "duration": 10,
    "start_time": "2022-03-16T06:54:19.180Z"
   },
   {
    "duration": 10,
    "start_time": "2022-03-16T06:54:24.804Z"
   },
   {
    "duration": 9,
    "start_time": "2022-03-16T06:54:29.630Z"
   },
   {
    "duration": 6,
    "start_time": "2022-03-16T06:55:16.952Z"
   },
   {
    "duration": 5,
    "start_time": "2022-03-16T06:55:22.629Z"
   },
   {
    "duration": 6,
    "start_time": "2022-03-16T06:55:30.935Z"
   },
   {
    "duration": 1268,
    "start_time": "2022-03-16T06:56:00.090Z"
   },
   {
    "duration": 2,
    "start_time": "2022-03-16T06:56:01.360Z"
   },
   {
    "duration": 156,
    "start_time": "2022-03-16T06:56:01.365Z"
   },
   {
    "duration": 15,
    "start_time": "2022-03-16T06:56:01.524Z"
   },
   {
    "duration": 35,
    "start_time": "2022-03-16T06:56:01.541Z"
   },
   {
    "duration": 131,
    "start_time": "2022-03-16T06:56:01.578Z"
   },
   {
    "duration": 11,
    "start_time": "2022-03-16T06:56:01.711Z"
   },
   {
    "duration": 28,
    "start_time": "2022-03-16T06:56:01.724Z"
   },
   {
    "duration": 137,
    "start_time": "2022-03-16T06:56:01.755Z"
   },
   {
    "duration": 11,
    "start_time": "2022-03-16T06:56:01.894Z"
   },
   {
    "duration": 32,
    "start_time": "2022-03-16T06:56:01.907Z"
   },
   {
    "duration": 48,
    "start_time": "2022-03-16T06:56:01.941Z"
   },
   {
    "duration": 51,
    "start_time": "2022-03-16T06:56:01.991Z"
   },
   {
    "duration": 35,
    "start_time": "2022-03-16T06:56:02.044Z"
   },
   {
    "duration": 228,
    "start_time": "2022-03-16T06:56:02.082Z"
   },
   {
    "duration": 196,
    "start_time": "2022-03-16T06:56:02.312Z"
   },
   {
    "duration": 228,
    "start_time": "2022-03-16T06:56:02.510Z"
   },
   {
    "duration": 208,
    "start_time": "2022-03-16T06:56:02.740Z"
   },
   {
    "duration": 228,
    "start_time": "2022-03-16T06:56:02.950Z"
   },
   {
    "duration": 190,
    "start_time": "2022-03-16T06:56:03.179Z"
   },
   {
    "duration": 2,
    "start_time": "2022-03-16T06:56:03.371Z"
   },
   {
    "duration": 59,
    "start_time": "2022-03-16T06:56:03.375Z"
   },
   {
    "duration": 18,
    "start_time": "2022-03-16T06:56:03.436Z"
   },
   {
    "duration": 19,
    "start_time": "2022-03-16T06:56:03.456Z"
   },
   {
    "duration": 96,
    "start_time": "2022-03-16T06:56:03.477Z"
   },
   {
    "duration": 197,
    "start_time": "2022-03-16T06:56:03.575Z"
   },
   {
    "duration": 36,
    "start_time": "2022-03-16T06:56:03.776Z"
   },
   {
    "duration": 157,
    "start_time": "2022-03-16T06:56:03.816Z"
   },
   {
    "duration": 89,
    "start_time": "2022-03-16T06:56:03.976Z"
   },
   {
    "duration": 335,
    "start_time": "2022-03-16T06:56:04.068Z"
   },
   {
    "duration": -1722,
    "start_time": "2022-03-16T06:56:06.127Z"
   },
   {
    "duration": -1725,
    "start_time": "2022-03-16T06:56:06.131Z"
   },
   {
    "duration": -1726,
    "start_time": "2022-03-16T06:56:06.134Z"
   },
   {
    "duration": -1729,
    "start_time": "2022-03-16T06:56:06.138Z"
   },
   {
    "duration": -1732,
    "start_time": "2022-03-16T06:56:06.142Z"
   },
   {
    "duration": -1733,
    "start_time": "2022-03-16T06:56:06.145Z"
   },
   {
    "duration": -1743,
    "start_time": "2022-03-16T06:56:06.156Z"
   },
   {
    "duration": -1746,
    "start_time": "2022-03-16T06:56:06.161Z"
   },
   {
    "duration": -1749,
    "start_time": "2022-03-16T06:56:06.165Z"
   },
   {
    "duration": -1754,
    "start_time": "2022-03-16T06:56:06.172Z"
   },
   {
    "duration": -1756,
    "start_time": "2022-03-16T06:56:06.175Z"
   },
   {
    "duration": -1759,
    "start_time": "2022-03-16T06:56:06.179Z"
   },
   {
    "duration": -1760,
    "start_time": "2022-03-16T06:56:06.182Z"
   },
   {
    "duration": -1764,
    "start_time": "2022-03-16T06:56:06.187Z"
   },
   {
    "duration": -1765,
    "start_time": "2022-03-16T06:56:06.190Z"
   },
   {
    "duration": -1769,
    "start_time": "2022-03-16T06:56:06.195Z"
   },
   {
    "duration": -1772,
    "start_time": "2022-03-16T06:56:06.199Z"
   },
   {
    "duration": -1775,
    "start_time": "2022-03-16T06:56:06.203Z"
   },
   {
    "duration": -1776,
    "start_time": "2022-03-16T06:56:06.206Z"
   },
   {
    "duration": -1779,
    "start_time": "2022-03-16T06:56:06.210Z"
   },
   {
    "duration": -1781,
    "start_time": "2022-03-16T06:56:06.213Z"
   },
   {
    "duration": -1783,
    "start_time": "2022-03-16T06:56:06.217Z"
   },
   {
    "duration": -1786,
    "start_time": "2022-03-16T06:56:06.221Z"
   },
   {
    "duration": -1789,
    "start_time": "2022-03-16T06:56:06.225Z"
   },
   {
    "duration": -1798,
    "start_time": "2022-03-16T06:56:06.236Z"
   },
   {
    "duration": -1801,
    "start_time": "2022-03-16T06:56:06.240Z"
   },
   {
    "duration": -1804,
    "start_time": "2022-03-16T06:56:06.244Z"
   },
   {
    "duration": -1806,
    "start_time": "2022-03-16T06:56:06.247Z"
   },
   {
    "duration": -1808,
    "start_time": "2022-03-16T06:56:06.251Z"
   },
   {
    "duration": -1811,
    "start_time": "2022-03-16T06:56:06.255Z"
   },
   {
    "duration": 5,
    "start_time": "2022-03-16T06:57:51.726Z"
   },
   {
    "duration": 18,
    "start_time": "2022-03-16T06:58:02.303Z"
   },
   {
    "duration": 16,
    "start_time": "2022-03-16T06:58:10.623Z"
   },
   {
    "duration": 6,
    "start_time": "2022-03-16T07:17:45.766Z"
   },
   {
    "duration": 5,
    "start_time": "2022-03-16T07:17:48.779Z"
   },
   {
    "duration": 12,
    "start_time": "2022-03-16T07:18:07.878Z"
   },
   {
    "duration": 6,
    "start_time": "2022-03-16T07:18:33.395Z"
   },
   {
    "duration": 11,
    "start_time": "2022-03-16T07:18:35.923Z"
   },
   {
    "duration": 1119,
    "start_time": "2022-03-16T07:20:55.547Z"
   },
   {
    "duration": 3,
    "start_time": "2022-03-16T07:20:56.667Z"
   },
   {
    "duration": 123,
    "start_time": "2022-03-16T07:20:56.672Z"
   },
   {
    "duration": 14,
    "start_time": "2022-03-16T07:20:56.797Z"
   },
   {
    "duration": 14,
    "start_time": "2022-03-16T07:20:56.812Z"
   },
   {
    "duration": 119,
    "start_time": "2022-03-16T07:20:56.827Z"
   },
   {
    "duration": 16,
    "start_time": "2022-03-16T07:20:56.948Z"
   },
   {
    "duration": 13,
    "start_time": "2022-03-16T07:20:56.965Z"
   },
   {
    "duration": 116,
    "start_time": "2022-03-16T07:20:56.981Z"
   },
   {
    "duration": 10,
    "start_time": "2022-03-16T07:20:57.099Z"
   },
   {
    "duration": 13,
    "start_time": "2022-03-16T07:20:57.111Z"
   },
   {
    "duration": 47,
    "start_time": "2022-03-16T07:20:57.125Z"
   },
   {
    "duration": 32,
    "start_time": "2022-03-16T07:20:57.173Z"
   },
   {
    "duration": 30,
    "start_time": "2022-03-16T07:20:57.207Z"
   },
   {
    "duration": 237,
    "start_time": "2022-03-16T07:20:57.239Z"
   },
   {
    "duration": 186,
    "start_time": "2022-03-16T07:20:57.478Z"
   },
   {
    "duration": 216,
    "start_time": "2022-03-16T07:20:57.666Z"
   },
   {
    "duration": 186,
    "start_time": "2022-03-16T07:20:57.883Z"
   },
   {
    "duration": 230,
    "start_time": "2022-03-16T07:20:58.070Z"
   },
   {
    "duration": 191,
    "start_time": "2022-03-16T07:20:58.302Z"
   },
   {
    "duration": 2,
    "start_time": "2022-03-16T07:20:58.495Z"
   },
   {
    "duration": 19,
    "start_time": "2022-03-16T07:20:58.499Z"
   },
   {
    "duration": 17,
    "start_time": "2022-03-16T07:20:58.520Z"
   },
   {
    "duration": 36,
    "start_time": "2022-03-16T07:20:58.539Z"
   },
   {
    "duration": 92,
    "start_time": "2022-03-16T07:20:58.577Z"
   },
   {
    "duration": 194,
    "start_time": "2022-03-16T07:20:58.671Z"
   },
   {
    "duration": 12,
    "start_time": "2022-03-16T07:20:58.869Z"
   },
   {
    "duration": 181,
    "start_time": "2022-03-16T07:20:58.883Z"
   },
   {
    "duration": 6,
    "start_time": "2022-03-16T07:20:59.066Z"
   },
   {
    "duration": 336,
    "start_time": "2022-03-16T07:20:59.164Z"
   },
   {
    "duration": -1854,
    "start_time": "2022-03-16T07:21:01.355Z"
   },
   {
    "duration": -1857,
    "start_time": "2022-03-16T07:21:01.359Z"
   },
   {
    "duration": -1860,
    "start_time": "2022-03-16T07:21:01.363Z"
   },
   {
    "duration": -1862,
    "start_time": "2022-03-16T07:21:01.366Z"
   },
   {
    "duration": -1865,
    "start_time": "2022-03-16T07:21:01.370Z"
   },
   {
    "duration": -1867,
    "start_time": "2022-03-16T07:21:01.373Z"
   },
   {
    "duration": -1871,
    "start_time": "2022-03-16T07:21:01.377Z"
   },
   {
    "duration": -1874,
    "start_time": "2022-03-16T07:21:01.381Z"
   },
   {
    "duration": -1877,
    "start_time": "2022-03-16T07:21:01.385Z"
   },
   {
    "duration": -1881,
    "start_time": "2022-03-16T07:21:01.390Z"
   },
   {
    "duration": -1884,
    "start_time": "2022-03-16T07:21:01.394Z"
   },
   {
    "duration": -1887,
    "start_time": "2022-03-16T07:21:01.398Z"
   },
   {
    "duration": -1889,
    "start_time": "2022-03-16T07:21:01.401Z"
   },
   {
    "duration": -1893,
    "start_time": "2022-03-16T07:21:01.405Z"
   },
   {
    "duration": -1895,
    "start_time": "2022-03-16T07:21:01.408Z"
   },
   {
    "duration": -1899,
    "start_time": "2022-03-16T07:21:01.413Z"
   },
   {
    "duration": -1901,
    "start_time": "2022-03-16T07:21:01.416Z"
   },
   {
    "duration": -1905,
    "start_time": "2022-03-16T07:21:01.421Z"
   },
   {
    "duration": -1908,
    "start_time": "2022-03-16T07:21:01.425Z"
   },
   {
    "duration": -1910,
    "start_time": "2022-03-16T07:21:01.428Z"
   },
   {
    "duration": -1913,
    "start_time": "2022-03-16T07:21:01.432Z"
   },
   {
    "duration": -1916,
    "start_time": "2022-03-16T07:21:01.435Z"
   },
   {
    "duration": -1919,
    "start_time": "2022-03-16T07:21:01.439Z"
   },
   {
    "duration": -1921,
    "start_time": "2022-03-16T07:21:01.443Z"
   },
   {
    "duration": -1924,
    "start_time": "2022-03-16T07:21:01.446Z"
   },
   {
    "duration": -1928,
    "start_time": "2022-03-16T07:21:01.451Z"
   },
   {
    "duration": -1940,
    "start_time": "2022-03-16T07:21:01.464Z"
   },
   {
    "duration": -1943,
    "start_time": "2022-03-16T07:21:01.468Z"
   },
   {
    "duration": -1945,
    "start_time": "2022-03-16T07:21:01.471Z"
   },
   {
    "duration": -1948,
    "start_time": "2022-03-16T07:21:01.475Z"
   },
   {
    "duration": -1951,
    "start_time": "2022-03-16T07:21:01.479Z"
   },
   {
    "duration": 5,
    "start_time": "2022-03-16T07:21:55.196Z"
   },
   {
    "duration": 5,
    "start_time": "2022-03-16T07:22:01.767Z"
   },
   {
    "duration": 12,
    "start_time": "2022-03-16T07:22:09.420Z"
   },
   {
    "duration": 17,
    "start_time": "2022-03-16T07:22:36.945Z"
   },
   {
    "duration": 8,
    "start_time": "2022-03-16T07:23:26.957Z"
   },
   {
    "duration": 13,
    "start_time": "2022-03-16T07:24:06.478Z"
   },
   {
    "duration": 16,
    "start_time": "2022-03-16T07:24:31.546Z"
   },
   {
    "duration": 17,
    "start_time": "2022-03-16T07:24:36.486Z"
   },
   {
    "duration": 4,
    "start_time": "2022-03-16T07:40:52.320Z"
   },
   {
    "duration": 3,
    "start_time": "2022-03-16T07:40:53.324Z"
   },
   {
    "duration": 7,
    "start_time": "2022-03-16T07:41:05.173Z"
   },
   {
    "duration": 3,
    "start_time": "2022-03-16T07:41:12.245Z"
   },
   {
    "duration": 3115,
    "start_time": "2022-03-16T07:41:17.413Z"
   },
   {
    "duration": 3807,
    "start_time": "2022-03-16T07:41:28.445Z"
   },
   {
    "duration": 10,
    "start_time": "2022-03-16T07:41:56.973Z"
   },
   {
    "duration": 11,
    "start_time": "2022-03-16T07:41:58.297Z"
   },
   {
    "duration": 10,
    "start_time": "2022-03-16T07:41:59.545Z"
   },
   {
    "duration": 3165,
    "start_time": "2022-03-16T07:42:30.811Z"
   },
   {
    "duration": 3177,
    "start_time": "2022-03-16T07:42:41.817Z"
   },
   {
    "duration": 3091,
    "start_time": "2022-03-16T07:42:56.545Z"
   },
   {
    "duration": 3216,
    "start_time": "2022-03-16T07:43:09.626Z"
   },
   {
    "duration": 5,
    "start_time": "2022-03-16T07:53:52.484Z"
   },
   {
    "duration": 5,
    "start_time": "2022-03-16T07:54:07.250Z"
   },
   {
    "duration": 4,
    "start_time": "2022-03-16T07:54:29.231Z"
   },
   {
    "duration": 4,
    "start_time": "2022-03-16T07:54:41.943Z"
   },
   {
    "duration": 3184,
    "start_time": "2022-03-16T07:55:07.987Z"
   },
   {
    "duration": 3209,
    "start_time": "2022-03-16T08:05:08.715Z"
   },
   {
    "duration": 3369,
    "start_time": "2022-03-16T08:05:33.018Z"
   },
   {
    "duration": 3,
    "start_time": "2022-03-16T08:22:59.590Z"
   },
   {
    "duration": 3,
    "start_time": "2022-03-16T08:23:00.720Z"
   },
   {
    "duration": 3262,
    "start_time": "2022-03-16T08:23:01.787Z"
   },
   {
    "duration": 7,
    "start_time": "2022-03-16T09:03:48.122Z"
   },
   {
    "duration": 40,
    "start_time": "2022-03-16T09:05:20.127Z"
   },
   {
    "duration": 21,
    "start_time": "2022-03-16T09:05:53.336Z"
   },
   {
    "duration": 14,
    "start_time": "2022-03-16T09:06:22.250Z"
   },
   {
    "duration": 14,
    "start_time": "2022-03-16T09:06:23.487Z"
   },
   {
    "duration": 13,
    "start_time": "2022-03-16T09:06:24.788Z"
   },
   {
    "duration": 4,
    "start_time": "2022-03-16T09:07:15.584Z"
   },
   {
    "duration": 4,
    "start_time": "2022-03-16T09:07:17.644Z"
   },
   {
    "duration": 4,
    "start_time": "2022-03-16T09:07:18.331Z"
   },
   {
    "duration": 3,
    "start_time": "2022-03-16T09:07:19.079Z"
   },
   {
    "duration": 7,
    "start_time": "2022-03-16T09:07:26.643Z"
   },
   {
    "duration": 3128,
    "start_time": "2022-03-16T10:04:30.885Z"
   },
   {
    "duration": 3321,
    "start_time": "2022-03-16T10:15:28.402Z"
   },
   {
    "duration": 3301,
    "start_time": "2022-03-16T10:16:28.974Z"
   },
   {
    "duration": 3749,
    "start_time": "2022-03-16T10:16:45.227Z"
   },
   {
    "duration": 3213,
    "start_time": "2022-03-16T10:17:01.255Z"
   },
   {
    "duration": 3191,
    "start_time": "2022-03-16T10:17:14.373Z"
   },
   {
    "duration": 6,
    "start_time": "2022-03-16T15:22:39.961Z"
   },
   {
    "duration": 8,
    "start_time": "2022-03-16T15:25:42.339Z"
   },
   {
    "duration": 4,
    "start_time": "2022-03-16T15:25:46.358Z"
   },
   {
    "duration": 5,
    "start_time": "2022-03-16T15:26:00.247Z"
   },
   {
    "duration": 1206,
    "start_time": "2022-03-17T05:34:34.431Z"
   },
   {
    "duration": 3,
    "start_time": "2022-03-17T05:34:35.640Z"
   },
   {
    "duration": 157,
    "start_time": "2022-03-17T05:34:35.646Z"
   },
   {
    "duration": 17,
    "start_time": "2022-03-17T05:34:35.806Z"
   },
   {
    "duration": 17,
    "start_time": "2022-03-17T05:34:35.825Z"
   },
   {
    "duration": 140,
    "start_time": "2022-03-17T05:34:35.844Z"
   },
   {
    "duration": 16,
    "start_time": "2022-03-17T05:34:35.986Z"
   },
   {
    "duration": 33,
    "start_time": "2022-03-17T05:34:36.005Z"
   },
   {
    "duration": 133,
    "start_time": "2022-03-17T05:34:36.041Z"
   },
   {
    "duration": 12,
    "start_time": "2022-03-17T05:34:36.176Z"
   },
   {
    "duration": 21,
    "start_time": "2022-03-17T05:34:36.190Z"
   },
   {
    "duration": 55,
    "start_time": "2022-03-17T05:34:36.212Z"
   },
   {
    "duration": 43,
    "start_time": "2022-03-17T05:34:36.269Z"
   },
   {
    "duration": 37,
    "start_time": "2022-03-17T05:34:36.314Z"
   },
   {
    "duration": 254,
    "start_time": "2022-03-17T05:34:36.353Z"
   },
   {
    "duration": 212,
    "start_time": "2022-03-17T05:34:36.609Z"
   },
   {
    "duration": 251,
    "start_time": "2022-03-17T05:34:36.823Z"
   },
   {
    "duration": 209,
    "start_time": "2022-03-17T05:34:37.076Z"
   },
   {
    "duration": 245,
    "start_time": "2022-03-17T05:34:37.287Z"
   },
   {
    "duration": 215,
    "start_time": "2022-03-17T05:34:37.534Z"
   },
   {
    "duration": 3,
    "start_time": "2022-03-17T05:34:37.751Z"
   },
   {
    "duration": 27,
    "start_time": "2022-03-17T05:34:37.756Z"
   },
   {
    "duration": 29,
    "start_time": "2022-03-17T05:34:37.787Z"
   },
   {
    "duration": 18,
    "start_time": "2022-03-17T05:34:37.818Z"
   },
   {
    "duration": 72,
    "start_time": "2022-03-17T05:34:37.838Z"
   },
   {
    "duration": 190,
    "start_time": "2022-03-17T05:34:37.913Z"
   },
   {
    "duration": 106,
    "start_time": "2022-03-17T05:34:38.106Z"
   },
   {
    "duration": 88,
    "start_time": "2022-03-17T05:34:38.215Z"
   },
   {
    "duration": 189,
    "start_time": "2022-03-17T05:34:38.306Z"
   },
   {
    "duration": 17,
    "start_time": "2022-03-17T05:34:38.497Z"
   },
   {
    "duration": 19,
    "start_time": "2022-03-17T05:34:38.516Z"
   },
   {
    "duration": 4,
    "start_time": "2022-03-17T05:34:38.537Z"
   },
   {
    "duration": 8,
    "start_time": "2022-03-17T05:34:38.543Z"
   },
   {
    "duration": 10,
    "start_time": "2022-03-17T05:34:38.553Z"
   },
   {
    "duration": 5,
    "start_time": "2022-03-17T05:34:38.565Z"
   },
   {
    "duration": 3581,
    "start_time": "2022-03-17T05:34:38.572Z"
   },
   {
    "duration": 3,
    "start_time": "2022-03-17T05:34:42.155Z"
   },
   {
    "duration": 3435,
    "start_time": "2022-03-17T05:34:42.160Z"
   },
   {
    "duration": 6,
    "start_time": "2022-03-17T05:34:45.605Z"
   },
   {
    "duration": 32,
    "start_time": "2022-03-17T05:34:45.614Z"
   },
   {
    "duration": 37,
    "start_time": "2022-03-17T05:34:45.648Z"
   },
   {
    "duration": 40,
    "start_time": "2022-03-17T05:34:45.686Z"
   },
   {
    "duration": 51,
    "start_time": "2022-03-17T05:34:45.728Z"
   },
   {
    "duration": 130,
    "start_time": "2022-03-17T05:34:45.781Z"
   },
   {
    "duration": -1282,
    "start_time": "2022-03-17T05:34:47.195Z"
   },
   {
    "duration": -1287,
    "start_time": "2022-03-17T05:34:47.201Z"
   },
   {
    "duration": -1293,
    "start_time": "2022-03-17T05:34:47.208Z"
   },
   {
    "duration": -1297,
    "start_time": "2022-03-17T05:34:47.212Z"
   },
   {
    "duration": 4,
    "start_time": "2022-03-17T05:46:39.155Z"
   },
   {
    "duration": 6,
    "start_time": "2022-03-17T05:47:01.559Z"
   },
   {
    "duration": 4,
    "start_time": "2022-03-17T05:47:20.731Z"
   },
   {
    "duration": 4,
    "start_time": "2022-03-17T05:47:32.875Z"
   },
   {
    "duration": 3,
    "start_time": "2022-03-17T05:51:19.008Z"
   },
   {
    "duration": 3603,
    "start_time": "2022-03-17T05:53:45.124Z"
   },
   {
    "duration": 6,
    "start_time": "2022-03-17T05:54:17.320Z"
   },
   {
    "duration": 194,
    "start_time": "2022-03-17T05:56:32.785Z"
   },
   {
    "duration": 4129,
    "start_time": "2022-03-17T05:57:32.817Z"
   },
   {
    "duration": 3457,
    "start_time": "2022-03-17T05:57:49.204Z"
   },
   {
    "duration": 197,
    "start_time": "2022-03-17T05:57:54.797Z"
   },
   {
    "duration": 3728,
    "start_time": "2022-03-17T06:00:59.622Z"
   },
   {
    "duration": 193,
    "start_time": "2022-03-17T06:01:06.138Z"
   },
   {
    "duration": 3509,
    "start_time": "2022-03-17T06:01:16.262Z"
   },
   {
    "duration": 197,
    "start_time": "2022-03-17T06:01:22.695Z"
   },
   {
    "duration": 3587,
    "start_time": "2022-03-17T06:11:23.280Z"
   },
   {
    "duration": 3517,
    "start_time": "2022-03-17T06:12:51.525Z"
   },
   {
    "duration": 3728,
    "start_time": "2022-03-17T06:16:48.902Z"
   },
   {
    "duration": 6,
    "start_time": "2022-03-17T06:17:18.494Z"
   },
   {
    "duration": 301,
    "start_time": "2022-03-17T06:17:40.653Z"
   },
   {
    "duration": 6,
    "start_time": "2022-03-17T06:20:06.054Z"
   },
   {
    "duration": 402,
    "start_time": "2022-03-17T06:21:02.374Z"
   },
   {
    "duration": 431,
    "start_time": "2022-03-17T06:21:14.302Z"
   },
   {
    "duration": 246,
    "start_time": "2022-03-17T06:30:20.129Z"
   },
   {
    "duration": 260,
    "start_time": "2022-03-17T06:30:32.777Z"
   },
   {
    "duration": 268,
    "start_time": "2022-03-17T06:31:30.836Z"
   },
   {
    "duration": 261,
    "start_time": "2022-03-17T06:31:42.677Z"
   },
   {
    "duration": 636,
    "start_time": "2022-03-17T06:32:04.552Z"
   },
   {
    "duration": 251,
    "start_time": "2022-03-17T06:32:20.805Z"
   },
   {
    "duration": 248,
    "start_time": "2022-03-17T06:32:49.953Z"
   },
   {
    "duration": 15,
    "start_time": "2022-03-17T06:42:38.109Z"
   },
   {
    "duration": 14,
    "start_time": "2022-03-17T06:42:51.497Z"
   },
   {
    "duration": 4,
    "start_time": "2022-03-17T06:44:22.646Z"
   },
   {
    "duration": 14,
    "start_time": "2022-03-17T06:46:32.214Z"
   },
   {
    "duration": 13,
    "start_time": "2022-03-17T06:46:36.821Z"
   },
   {
    "duration": 13,
    "start_time": "2022-03-17T06:46:40.771Z"
   },
   {
    "duration": 6,
    "start_time": "2022-03-17T06:48:30.431Z"
   },
   {
    "duration": 184,
    "start_time": "2022-03-17T06:48:37.728Z"
   },
   {
    "duration": 193,
    "start_time": "2022-03-17T06:48:41.808Z"
   },
   {
    "duration": 194,
    "start_time": "2022-03-17T06:48:46.768Z"
   },
   {
    "duration": 29,
    "start_time": "2022-03-17T06:52:46.935Z"
   },
   {
    "duration": 7,
    "start_time": "2022-03-17T06:54:42.148Z"
   },
   {
    "duration": 3503,
    "start_time": "2022-03-17T06:55:52.845Z"
   },
   {
    "duration": 6,
    "start_time": "2022-03-17T06:56:02.649Z"
   },
   {
    "duration": 3772,
    "start_time": "2022-03-17T07:03:08.802Z"
   },
   {
    "duration": 3551,
    "start_time": "2022-03-17T07:03:37.366Z"
   },
   {
    "duration": 3595,
    "start_time": "2022-03-17T07:03:50.393Z"
   },
   {
    "duration": 3712,
    "start_time": "2022-03-17T07:04:06.868Z"
   },
   {
    "duration": 7,
    "start_time": "2022-03-17T07:05:25.574Z"
   },
   {
    "duration": 445,
    "start_time": "2022-03-17T07:05:53.114Z"
   },
   {
    "duration": 205,
    "start_time": "2022-03-17T07:06:12.746Z"
   },
   {
    "duration": 7,
    "start_time": "2022-03-17T07:06:36.279Z"
   },
   {
    "duration": 5,
    "start_time": "2022-03-17T07:11:19.950Z"
   },
   {
    "duration": 5,
    "start_time": "2022-03-17T07:11:39.330Z"
   },
   {
    "duration": 1206,
    "start_time": "2022-03-17T07:13:21.837Z"
   },
   {
    "duration": 4,
    "start_time": "2022-03-17T07:13:23.046Z"
   },
   {
    "duration": 152,
    "start_time": "2022-03-17T07:13:23.053Z"
   },
   {
    "duration": 17,
    "start_time": "2022-03-17T07:13:23.208Z"
   },
   {
    "duration": 12,
    "start_time": "2022-03-17T07:13:23.227Z"
   },
   {
    "duration": 156,
    "start_time": "2022-03-17T07:13:23.242Z"
   },
   {
    "duration": 12,
    "start_time": "2022-03-17T07:13:23.402Z"
   },
   {
    "duration": 23,
    "start_time": "2022-03-17T07:13:23.416Z"
   },
   {
    "duration": 144,
    "start_time": "2022-03-17T07:13:23.443Z"
   },
   {
    "duration": 17,
    "start_time": "2022-03-17T07:13:23.590Z"
   },
   {
    "duration": 28,
    "start_time": "2022-03-17T07:13:23.609Z"
   },
   {
    "duration": 45,
    "start_time": "2022-03-17T07:13:23.639Z"
   },
   {
    "duration": 55,
    "start_time": "2022-03-17T07:13:23.687Z"
   },
   {
    "duration": 57,
    "start_time": "2022-03-17T07:13:23.745Z"
   },
   {
    "duration": 264,
    "start_time": "2022-03-17T07:13:23.805Z"
   },
   {
    "duration": 233,
    "start_time": "2022-03-17T07:13:24.071Z"
   },
   {
    "duration": 263,
    "start_time": "2022-03-17T07:13:24.306Z"
   },
   {
    "duration": 225,
    "start_time": "2022-03-17T07:13:24.571Z"
   },
   {
    "duration": 260,
    "start_time": "2022-03-17T07:13:24.801Z"
   },
   {
    "duration": 228,
    "start_time": "2022-03-17T07:13:25.063Z"
   },
   {
    "duration": 7,
    "start_time": "2022-03-17T07:13:25.294Z"
   },
   {
    "duration": 21,
    "start_time": "2022-03-17T07:13:25.304Z"
   },
   {
    "duration": 23,
    "start_time": "2022-03-17T07:13:25.328Z"
   },
   {
    "duration": 56,
    "start_time": "2022-03-17T07:13:25.353Z"
   },
   {
    "duration": 100,
    "start_time": "2022-03-17T07:13:25.411Z"
   },
   {
    "duration": 188,
    "start_time": "2022-03-17T07:13:25.515Z"
   },
   {
    "duration": 108,
    "start_time": "2022-03-17T07:13:25.710Z"
   },
   {
    "duration": 80,
    "start_time": "2022-03-17T07:13:25.822Z"
   },
   {
    "duration": 111,
    "start_time": "2022-03-17T07:13:25.906Z"
   },
   {
    "duration": 29,
    "start_time": "2022-03-17T07:13:26.020Z"
   },
   {
    "duration": 27,
    "start_time": "2022-03-17T07:13:26.052Z"
   },
   {
    "duration": 5,
    "start_time": "2022-03-17T07:13:26.101Z"
   },
   {
    "duration": 27,
    "start_time": "2022-03-17T07:13:26.108Z"
   },
   {
    "duration": 23,
    "start_time": "2022-03-17T07:13:26.137Z"
   },
   {
    "duration": 13,
    "start_time": "2022-03-17T07:13:26.162Z"
   },
   {
    "duration": 5754,
    "start_time": "2022-03-17T07:13:26.177Z"
   },
   {
    "duration": 7,
    "start_time": "2022-03-17T07:13:31.934Z"
   },
   {
    "duration": 3784,
    "start_time": "2022-03-17T07:13:31.943Z"
   },
   {
    "duration": 3661,
    "start_time": "2022-03-17T07:13:35.729Z"
   },
   {
    "duration": 92,
    "start_time": "2022-03-17T07:13:39.392Z"
   },
   {
    "duration": -1822,
    "start_time": "2022-03-17T07:13:41.309Z"
   },
   {
    "duration": -1824,
    "start_time": "2022-03-17T07:13:41.313Z"
   },
   {
    "duration": -1827,
    "start_time": "2022-03-17T07:13:41.317Z"
   },
   {
    "duration": -1835,
    "start_time": "2022-03-17T07:13:41.327Z"
   },
   {
    "duration": -1837,
    "start_time": "2022-03-17T07:13:41.331Z"
   },
   {
    "duration": -1847,
    "start_time": "2022-03-17T07:13:41.342Z"
   },
   {
    "duration": -1850,
    "start_time": "2022-03-17T07:13:41.346Z"
   },
   {
    "duration": -1852,
    "start_time": "2022-03-17T07:13:41.350Z"
   },
   {
    "duration": -1854,
    "start_time": "2022-03-17T07:13:41.353Z"
   },
   {
    "duration": 254,
    "start_time": "2022-03-17T07:19:03.844Z"
   },
   {
    "duration": 203,
    "start_time": "2022-03-17T07:19:07.086Z"
   },
   {
    "duration": 198,
    "start_time": "2022-03-17T07:19:09.636Z"
   },
   {
    "duration": 205,
    "start_time": "2022-03-17T07:19:11.877Z"
   },
   {
    "duration": 7,
    "start_time": "2022-03-17T07:19:14.205Z"
   },
   {
    "duration": 5,
    "start_time": "2022-03-17T07:19:16.475Z"
   },
   {
    "duration": 4,
    "start_time": "2022-03-17T07:19:19.569Z"
   },
   {
    "duration": 41,
    "start_time": "2022-03-17T07:19:20.913Z"
   },
   {
    "duration": 6,
    "start_time": "2022-03-17T07:19:21.937Z"
   },
   {
    "duration": 3581,
    "start_time": "2022-03-17T07:44:46.223Z"
   },
   {
    "duration": 5256,
    "start_time": "2022-03-17T07:45:11.310Z"
   },
   {
    "duration": 3698,
    "start_time": "2022-03-17T07:45:16.568Z"
   },
   {
    "duration": 4644,
    "start_time": "2022-03-17T07:50:31.248Z"
   },
   {
    "duration": 4045,
    "start_time": "2022-03-17T07:51:22.562Z"
   },
   {
    "duration": 3797,
    "start_time": "2022-03-17T07:51:56.449Z"
   },
   {
    "duration": 3598,
    "start_time": "2022-03-17T07:52:10.003Z"
   },
   {
    "duration": 3540,
    "start_time": "2022-03-17T07:57:24.450Z"
   },
   {
    "duration": 3654,
    "start_time": "2022-03-17T07:57:42.403Z"
   },
   {
    "duration": 3625,
    "start_time": "2022-03-17T07:58:00.802Z"
   },
   {
    "duration": 8,
    "start_time": "2022-03-17T08:31:01.510Z"
   },
   {
    "duration": 7,
    "start_time": "2022-03-17T08:31:08.527Z"
   },
   {
    "duration": 5915,
    "start_time": "2022-03-17T08:48:12.698Z"
   },
   {
    "duration": 339,
    "start_time": "2022-03-17T09:17:36.775Z"
   },
   {
    "duration": 6,
    "start_time": "2022-03-17T09:17:56.178Z"
   },
   {
    "duration": 361,
    "start_time": "2022-03-17T09:17:57.012Z"
   },
   {
    "duration": 242,
    "start_time": "2022-03-17T09:18:11.957Z"
   },
   {
    "duration": 10,
    "start_time": "2022-03-17T09:24:40.283Z"
   },
   {
    "duration": 89,
    "start_time": "2022-03-17T09:25:07.947Z"
   },
   {
    "duration": 216,
    "start_time": "2022-03-17T09:25:12.409Z"
   },
   {
    "duration": 255,
    "start_time": "2022-03-17T09:26:00.052Z"
   },
   {
    "duration": 216,
    "start_time": "2022-03-17T09:26:41.788Z"
   },
   {
    "duration": 3,
    "start_time": "2022-03-17T09:27:16.002Z"
   },
   {
    "duration": 230,
    "start_time": "2022-03-17T09:27:24.073Z"
   },
   {
    "duration": 86,
    "start_time": "2022-03-17T09:59:14.136Z"
   },
   {
    "duration": 257,
    "start_time": "2022-03-17T09:59:23.036Z"
   },
   {
    "duration": 344,
    "start_time": "2022-03-17T10:01:18.562Z"
   },
   {
    "duration": 476,
    "start_time": "2022-03-17T10:01:25.469Z"
   },
   {
    "duration": 1900,
    "start_time": "2022-03-17T10:01:53.826Z"
   },
   {
    "duration": 2388,
    "start_time": "2022-03-17T10:02:10.754Z"
   },
   {
    "duration": 2107,
    "start_time": "2022-03-17T10:02:27.683Z"
   },
   {
    "duration": 364,
    "start_time": "2022-03-17T10:02:34.215Z"
   },
   {
    "duration": 811,
    "start_time": "2022-03-17T10:02:47.990Z"
   },
   {
    "duration": 6,
    "start_time": "2022-03-17T10:06:09.064Z"
   },
   {
    "duration": 530,
    "start_time": "2022-03-17T10:11:15.886Z"
   },
   {
    "duration": 507,
    "start_time": "2022-03-17T10:11:28.718Z"
   },
   {
    "duration": 5,
    "start_time": "2022-03-17T10:11:47.431Z"
   },
   {
    "duration": 5,
    "start_time": "2022-03-17T10:15:05.252Z"
   },
   {
    "duration": 7,
    "start_time": "2022-03-17T10:15:11.896Z"
   },
   {
    "duration": 464,
    "start_time": "2022-03-17T10:16:19.387Z"
   },
   {
    "duration": 386,
    "start_time": "2022-03-17T10:16:36.815Z"
   },
   {
    "duration": 10,
    "start_time": "2022-03-17T10:16:57.339Z"
   },
   {
    "duration": 1004,
    "start_time": "2022-03-17T10:18:10.073Z"
   },
   {
    "duration": 715,
    "start_time": "2022-03-17T10:18:25.977Z"
   },
   {
    "duration": 356,
    "start_time": "2022-03-17T10:18:34.688Z"
   },
   {
    "duration": 562,
    "start_time": "2022-03-17T10:19:11.892Z"
   },
   {
    "duration": 391,
    "start_time": "2022-03-17T10:19:21.180Z"
   },
   {
    "duration": 726,
    "start_time": "2022-03-17T10:22:30.235Z"
   },
   {
    "duration": 618,
    "start_time": "2022-03-17T10:22:49.263Z"
   },
   {
    "duration": 642,
    "start_time": "2022-03-17T10:22:59.671Z"
   },
   {
    "duration": 425,
    "start_time": "2022-03-17T10:23:49.262Z"
   },
   {
    "duration": 4267,
    "start_time": "2022-03-17T10:25:28.234Z"
   },
   {
    "duration": 5748,
    "start_time": "2022-03-17T10:25:47.288Z"
   },
   {
    "duration": 4200,
    "start_time": "2022-03-17T10:27:52.580Z"
   },
   {
    "duration": 4591,
    "start_time": "2022-03-17T10:28:05.716Z"
   },
   {
    "duration": 400,
    "start_time": "2022-03-17T12:42:23.362Z"
   },
   {
    "duration": 515,
    "start_time": "2022-03-17T12:42:30.737Z"
   },
   {
    "duration": 897,
    "start_time": "2022-03-17T12:42:39.224Z"
   },
   {
    "duration": 4493,
    "start_time": "2022-03-17T12:54:47.523Z"
   },
   {
    "duration": 4764,
    "start_time": "2022-03-17T13:03:59.786Z"
   },
   {
    "duration": 6689,
    "start_time": "2022-03-17T13:06:13.459Z"
   },
   {
    "duration": 6643,
    "start_time": "2022-03-17T13:07:14.413Z"
   },
   {
    "duration": 4609,
    "start_time": "2022-03-17T13:07:57.574Z"
   },
   {
    "duration": 4504,
    "start_time": "2022-03-17T13:08:10.776Z"
   },
   {
    "duration": 4609,
    "start_time": "2022-03-17T13:08:52.875Z"
   },
   {
    "duration": 4622,
    "start_time": "2022-03-17T13:09:04.098Z"
   },
   {
    "duration": 4739,
    "start_time": "2022-03-17T13:09:14.088Z"
   },
   {
    "duration": 5,
    "start_time": "2022-03-17T13:14:11.738Z"
   },
   {
    "duration": 10,
    "start_time": "2022-03-17T13:15:11.934Z"
   },
   {
    "duration": 7,
    "start_time": "2022-03-17T13:15:27.842Z"
   },
   {
    "duration": 1709,
    "start_time": "2022-03-17T13:16:23.858Z"
   },
   {
    "duration": 3,
    "start_time": "2022-03-17T13:16:25.570Z"
   },
   {
    "duration": 555,
    "start_time": "2022-03-17T13:16:25.575Z"
   },
   {
    "duration": 16,
    "start_time": "2022-03-17T13:16:26.132Z"
   },
   {
    "duration": 19,
    "start_time": "2022-03-17T13:16:26.150Z"
   },
   {
    "duration": 255,
    "start_time": "2022-03-17T13:16:26.171Z"
   },
   {
    "duration": 14,
    "start_time": "2022-03-17T13:16:26.428Z"
   },
   {
    "duration": 14,
    "start_time": "2022-03-17T13:16:26.444Z"
   },
   {
    "duration": 251,
    "start_time": "2022-03-17T13:16:26.463Z"
   },
   {
    "duration": 14,
    "start_time": "2022-03-17T13:16:26.717Z"
   },
   {
    "duration": 27,
    "start_time": "2022-03-17T13:16:26.733Z"
   },
   {
    "duration": 57,
    "start_time": "2022-03-17T13:16:26.762Z"
   },
   {
    "duration": 44,
    "start_time": "2022-03-17T13:16:26.822Z"
   },
   {
    "duration": 62,
    "start_time": "2022-03-17T13:16:26.867Z"
   },
   {
    "duration": 303,
    "start_time": "2022-03-17T13:16:26.931Z"
   },
   {
    "duration": 241,
    "start_time": "2022-03-17T13:16:27.236Z"
   },
   {
    "duration": 282,
    "start_time": "2022-03-17T13:16:27.479Z"
   },
   {
    "duration": 260,
    "start_time": "2022-03-17T13:16:27.764Z"
   },
   {
    "duration": 302,
    "start_time": "2022-03-17T13:16:28.026Z"
   },
   {
    "duration": 247,
    "start_time": "2022-03-17T13:16:28.330Z"
   },
   {
    "duration": 3,
    "start_time": "2022-03-17T13:16:28.579Z"
   },
   {
    "duration": 57,
    "start_time": "2022-03-17T13:16:28.584Z"
   },
   {
    "duration": 47,
    "start_time": "2022-03-17T13:16:28.643Z"
   },
   {
    "duration": 45,
    "start_time": "2022-03-17T13:16:28.692Z"
   },
   {
    "duration": 266,
    "start_time": "2022-03-17T13:16:28.739Z"
   },
   {
    "duration": 193,
    "start_time": "2022-03-17T13:16:29.009Z"
   },
   {
    "duration": 103,
    "start_time": "2022-03-17T13:16:29.221Z"
   },
   {
    "duration": 181,
    "start_time": "2022-03-17T13:16:29.329Z"
   },
   {
    "duration": 32,
    "start_time": "2022-03-17T13:16:29.513Z"
   },
   {
    "duration": 28,
    "start_time": "2022-03-17T13:16:29.548Z"
   },
   {
    "duration": 41,
    "start_time": "2022-03-17T13:16:29.578Z"
   },
   {
    "duration": 6,
    "start_time": "2022-03-17T13:16:29.622Z"
   },
   {
    "duration": 7,
    "start_time": "2022-03-17T13:16:29.631Z"
   },
   {
    "duration": 13,
    "start_time": "2022-03-17T13:16:29.641Z"
   },
   {
    "duration": 6,
    "start_time": "2022-03-17T13:16:29.656Z"
   },
   {
    "duration": 4805,
    "start_time": "2022-03-17T13:16:29.665Z"
   },
   {
    "duration": 4593,
    "start_time": "2022-03-17T13:16:34.472Z"
   },
   {
    "duration": 4498,
    "start_time": "2022-03-17T13:16:39.067Z"
   },
   {
    "duration": 4691,
    "start_time": "2022-03-17T13:16:43.568Z"
   },
   {
    "duration": 291,
    "start_time": "2022-03-17T13:16:48.261Z"
   },
   {
    "duration": 547,
    "start_time": "2022-03-17T13:16:48.554Z"
   },
   {
    "duration": 420,
    "start_time": "2022-03-17T13:16:49.104Z"
   },
   {
    "duration": 401,
    "start_time": "2022-03-17T13:16:49.526Z"
   },
   {
    "duration": 5,
    "start_time": "2022-03-17T13:16:49.930Z"
   },
   {
    "duration": 8,
    "start_time": "2022-03-17T13:16:49.937Z"
   },
   {
    "duration": 36,
    "start_time": "2022-03-17T13:16:49.947Z"
   },
   {
    "duration": 17,
    "start_time": "2022-03-17T13:16:50.000Z"
   },
   {
    "duration": 9,
    "start_time": "2022-03-17T13:16:50.019Z"
   },
   {
    "duration": 1164,
    "start_time": "2022-03-19T08:01:46.496Z"
   },
   {
    "duration": 125,
    "start_time": "2022-03-19T08:01:47.662Z"
   },
   {
    "duration": 23,
    "start_time": "2022-03-19T08:01:47.789Z"
   },
   {
    "duration": 14,
    "start_time": "2022-03-19T08:01:47.814Z"
   },
   {
    "duration": 128,
    "start_time": "2022-03-19T08:01:47.830Z"
   },
   {
    "duration": 12,
    "start_time": "2022-03-19T08:01:47.959Z"
   },
   {
    "duration": 16,
    "start_time": "2022-03-19T08:01:47.973Z"
   },
   {
    "duration": 130,
    "start_time": "2022-03-19T08:01:47.991Z"
   },
   {
    "duration": 12,
    "start_time": "2022-03-19T08:01:48.122Z"
   },
   {
    "duration": 15,
    "start_time": "2022-03-19T08:01:48.135Z"
   },
   {
    "duration": 57,
    "start_time": "2022-03-19T08:01:48.152Z"
   },
   {
    "duration": 35,
    "start_time": "2022-03-19T08:01:48.211Z"
   },
   {
    "duration": 32,
    "start_time": "2022-03-19T08:01:48.247Z"
   },
   {
    "duration": 610,
    "start_time": "2022-03-19T08:01:48.282Z"
   },
   {
    "duration": 154,
    "start_time": "2022-03-19T08:01:48.894Z"
   },
   {
    "duration": 185,
    "start_time": "2022-03-19T08:01:49.050Z"
   },
   {
    "duration": 169,
    "start_time": "2022-03-19T08:01:49.237Z"
   },
   {
    "duration": 183,
    "start_time": "2022-03-19T08:01:49.409Z"
   },
   {
    "duration": 228,
    "start_time": "2022-03-19T08:01:49.594Z"
   },
   {
    "duration": 2,
    "start_time": "2022-03-19T08:01:49.824Z"
   },
   {
    "duration": 18,
    "start_time": "2022-03-19T08:01:49.828Z"
   },
   {
    "duration": 17,
    "start_time": "2022-03-19T08:01:49.847Z"
   },
   {
    "duration": 17,
    "start_time": "2022-03-19T08:01:49.865Z"
   },
   {
    "duration": 126,
    "start_time": "2022-03-19T08:01:49.884Z"
   },
   {
    "duration": 107,
    "start_time": "2022-03-19T08:01:50.013Z"
   },
   {
    "duration": 191,
    "start_time": "2022-03-19T08:01:50.122Z"
   },
   {
    "duration": 94,
    "start_time": "2022-03-19T08:01:50.315Z"
   },
   {
    "duration": 107,
    "start_time": "2022-03-19T08:01:50.412Z"
   },
   {
    "duration": 15,
    "start_time": "2022-03-19T08:01:50.521Z"
   },
   {
    "duration": 16,
    "start_time": "2022-03-19T08:01:50.537Z"
   },
   {
    "duration": 3,
    "start_time": "2022-03-19T08:01:50.554Z"
   },
   {
    "duration": 4,
    "start_time": "2022-03-19T08:01:50.559Z"
   },
   {
    "duration": 8,
    "start_time": "2022-03-19T08:01:50.564Z"
   },
   {
    "duration": 3,
    "start_time": "2022-03-19T08:01:50.609Z"
   },
   {
    "duration": 1329,
    "start_time": "2022-03-19T08:01:50.614Z"
   },
   {
    "duration": 0,
    "start_time": "2022-03-19T08:01:51.945Z"
   },
   {
    "duration": 0,
    "start_time": "2022-03-19T08:01:51.946Z"
   },
   {
    "duration": 0,
    "start_time": "2022-03-19T08:01:51.948Z"
   },
   {
    "duration": 0,
    "start_time": "2022-03-19T08:01:51.949Z"
   },
   {
    "duration": 0,
    "start_time": "2022-03-19T08:01:51.950Z"
   },
   {
    "duration": 0,
    "start_time": "2022-03-19T08:01:51.951Z"
   },
   {
    "duration": 0,
    "start_time": "2022-03-19T08:01:51.952Z"
   },
   {
    "duration": 0,
    "start_time": "2022-03-19T08:01:51.953Z"
   },
   {
    "duration": 0,
    "start_time": "2022-03-19T08:01:51.954Z"
   },
   {
    "duration": 1,
    "start_time": "2022-03-19T08:01:51.955Z"
   },
   {
    "duration": 0,
    "start_time": "2022-03-19T08:01:51.957Z"
   },
   {
    "duration": 0,
    "start_time": "2022-03-19T08:01:51.957Z"
   },
   {
    "duration": 1114,
    "start_time": "2022-03-19T08:03:51.941Z"
   },
   {
    "duration": 121,
    "start_time": "2022-03-19T08:03:53.057Z"
   },
   {
    "duration": 19,
    "start_time": "2022-03-19T08:03:53.179Z"
   },
   {
    "duration": 20,
    "start_time": "2022-03-19T08:03:53.200Z"
   },
   {
    "duration": 120,
    "start_time": "2022-03-19T08:03:53.222Z"
   },
   {
    "duration": 12,
    "start_time": "2022-03-19T08:03:53.344Z"
   },
   {
    "duration": 16,
    "start_time": "2022-03-19T08:03:53.357Z"
   },
   {
    "duration": 131,
    "start_time": "2022-03-19T08:03:53.374Z"
   },
   {
    "duration": 12,
    "start_time": "2022-03-19T08:03:53.509Z"
   },
   {
    "duration": 17,
    "start_time": "2022-03-19T08:03:53.524Z"
   },
   {
    "duration": 67,
    "start_time": "2022-03-19T08:03:53.543Z"
   },
   {
    "duration": 41,
    "start_time": "2022-03-19T08:03:53.612Z"
   },
   {
    "duration": 54,
    "start_time": "2022-03-19T08:03:53.655Z"
   },
   {
    "duration": 402,
    "start_time": "2022-03-19T08:03:53.711Z"
   },
   {
    "duration": 157,
    "start_time": "2022-03-19T08:03:54.115Z"
   },
   {
    "duration": 181,
    "start_time": "2022-03-19T08:03:54.274Z"
   },
   {
    "duration": 165,
    "start_time": "2022-03-19T08:03:54.456Z"
   },
   {
    "duration": 188,
    "start_time": "2022-03-19T08:03:54.623Z"
   },
   {
    "duration": 149,
    "start_time": "2022-03-19T08:03:54.813Z"
   },
   {
    "duration": 2,
    "start_time": "2022-03-19T08:03:54.964Z"
   },
   {
    "duration": 19,
    "start_time": "2022-03-19T08:03:54.967Z"
   },
   {
    "duration": 35,
    "start_time": "2022-03-19T08:03:54.988Z"
   },
   {
    "duration": 17,
    "start_time": "2022-03-19T08:03:55.025Z"
   },
   {
    "duration": 109,
    "start_time": "2022-03-19T08:03:55.044Z"
   },
   {
    "duration": 105,
    "start_time": "2022-03-19T08:03:55.211Z"
   },
   {
    "duration": 195,
    "start_time": "2022-03-19T08:03:55.318Z"
   },
   {
    "duration": 94,
    "start_time": "2022-03-19T08:03:55.515Z"
   },
   {
    "duration": 95,
    "start_time": "2022-03-19T08:03:55.615Z"
   },
   {
    "duration": 22,
    "start_time": "2022-03-19T08:03:55.712Z"
   },
   {
    "duration": 19,
    "start_time": "2022-03-19T08:03:55.736Z"
   },
   {
    "duration": 3,
    "start_time": "2022-03-19T08:03:55.757Z"
   },
   {
    "duration": 4,
    "start_time": "2022-03-19T08:03:55.762Z"
   },
   {
    "duration": 9,
    "start_time": "2022-03-19T08:03:55.768Z"
   },
   {
    "duration": 4,
    "start_time": "2022-03-19T08:03:55.809Z"
   },
   {
    "duration": 1501,
    "start_time": "2022-03-19T08:03:55.816Z"
   },
   {
    "duration": 0,
    "start_time": "2022-03-19T08:03:57.320Z"
   },
   {
    "duration": 0,
    "start_time": "2022-03-19T08:03:57.322Z"
   },
   {
    "duration": 0,
    "start_time": "2022-03-19T08:03:57.323Z"
   },
   {
    "duration": 0,
    "start_time": "2022-03-19T08:03:57.325Z"
   },
   {
    "duration": 0,
    "start_time": "2022-03-19T08:03:57.326Z"
   },
   {
    "duration": 0,
    "start_time": "2022-03-19T08:03:57.327Z"
   },
   {
    "duration": 0,
    "start_time": "2022-03-19T08:03:57.328Z"
   },
   {
    "duration": 0,
    "start_time": "2022-03-19T08:03:57.330Z"
   },
   {
    "duration": 0,
    "start_time": "2022-03-19T08:03:57.331Z"
   },
   {
    "duration": 0,
    "start_time": "2022-03-19T08:03:57.332Z"
   },
   {
    "duration": 0,
    "start_time": "2022-03-19T08:03:57.333Z"
   },
   {
    "duration": 0,
    "start_time": "2022-03-19T08:03:57.334Z"
   },
   {
    "duration": 1433,
    "start_time": "2022-03-19T08:04:31.827Z"
   },
   {
    "duration": 4,
    "start_time": "2022-03-19T08:04:33.262Z"
   },
   {
    "duration": 137,
    "start_time": "2022-03-19T08:04:33.268Z"
   },
   {
    "duration": 15,
    "start_time": "2022-03-19T08:04:33.407Z"
   },
   {
    "duration": 13,
    "start_time": "2022-03-19T08:04:33.424Z"
   },
   {
    "duration": 129,
    "start_time": "2022-03-19T08:04:33.439Z"
   },
   {
    "duration": 11,
    "start_time": "2022-03-19T08:04:33.570Z"
   },
   {
    "duration": 26,
    "start_time": "2022-03-19T08:04:33.583Z"
   },
   {
    "duration": 122,
    "start_time": "2022-03-19T08:04:33.611Z"
   },
   {
    "duration": 11,
    "start_time": "2022-03-19T08:04:33.736Z"
   },
   {
    "duration": 16,
    "start_time": "2022-03-19T08:04:33.749Z"
   },
   {
    "duration": 53,
    "start_time": "2022-03-19T08:04:33.767Z"
   },
   {
    "duration": 33,
    "start_time": "2022-03-19T08:04:33.822Z"
   },
   {
    "duration": 33,
    "start_time": "2022-03-19T08:04:33.857Z"
   },
   {
    "duration": 205,
    "start_time": "2022-03-19T08:04:33.891Z"
   },
   {
    "duration": 156,
    "start_time": "2022-03-19T08:04:34.098Z"
   },
   {
    "duration": 176,
    "start_time": "2022-03-19T08:04:34.255Z"
   },
   {
    "duration": 158,
    "start_time": "2022-03-19T08:04:34.433Z"
   },
   {
    "duration": 180,
    "start_time": "2022-03-19T08:04:34.593Z"
   },
   {
    "duration": 153,
    "start_time": "2022-03-19T08:04:34.775Z"
   },
   {
    "duration": 3,
    "start_time": "2022-03-19T08:04:34.929Z"
   },
   {
    "duration": 17,
    "start_time": "2022-03-19T08:04:34.934Z"
   },
   {
    "duration": 17,
    "start_time": "2022-03-19T08:04:34.953Z"
   },
   {
    "duration": 17,
    "start_time": "2022-03-19T08:04:34.971Z"
   },
   {
    "duration": 107,
    "start_time": "2022-03-19T08:04:35.009Z"
   },
   {
    "duration": 194,
    "start_time": "2022-03-19T08:04:35.118Z"
   },
   {
    "duration": 107,
    "start_time": "2022-03-19T08:04:35.314Z"
   },
   {
    "duration": 86,
    "start_time": "2022-03-19T08:04:35.427Z"
   },
   {
    "duration": 108,
    "start_time": "2022-03-19T08:04:35.516Z"
   },
   {
    "duration": 16,
    "start_time": "2022-03-19T08:04:35.625Z"
   },
   {
    "duration": 16,
    "start_time": "2022-03-19T08:04:35.643Z"
   },
   {
    "duration": 3,
    "start_time": "2022-03-19T08:04:35.661Z"
   },
   {
    "duration": 7,
    "start_time": "2022-03-19T08:04:35.665Z"
   },
   {
    "duration": 41,
    "start_time": "2022-03-19T08:04:35.673Z"
   },
   {
    "duration": 6,
    "start_time": "2022-03-19T08:04:35.716Z"
   },
   {
    "duration": 1531,
    "start_time": "2022-03-19T08:04:35.723Z"
   },
   {
    "duration": 1501,
    "start_time": "2022-03-19T08:04:37.255Z"
   },
   {
    "duration": 1466,
    "start_time": "2022-03-19T08:04:38.758Z"
   },
   {
    "duration": 1532,
    "start_time": "2022-03-19T08:04:40.226Z"
   },
   {
    "duration": 185,
    "start_time": "2022-03-19T08:04:41.760Z"
   },
   {
    "duration": 348,
    "start_time": "2022-03-19T08:04:41.947Z"
   },
   {
    "duration": 259,
    "start_time": "2022-03-19T08:04:42.297Z"
   },
   {
    "duration": 258,
    "start_time": "2022-03-19T08:04:42.557Z"
   },
   {
    "duration": 4,
    "start_time": "2022-03-19T08:04:42.816Z"
   },
   {
    "duration": 4,
    "start_time": "2022-03-19T08:04:42.822Z"
   },
   {
    "duration": 12,
    "start_time": "2022-03-19T08:04:42.828Z"
   },
   {
    "duration": 9,
    "start_time": "2022-03-19T08:04:42.841Z"
   },
   {
    "duration": 5,
    "start_time": "2022-03-19T08:04:42.852Z"
   },
   {
    "duration": 1390,
    "start_time": "2022-03-19T08:07:07.370Z"
   },
   {
    "duration": 139,
    "start_time": "2022-03-19T08:07:08.762Z"
   },
   {
    "duration": 18,
    "start_time": "2022-03-19T08:07:08.903Z"
   },
   {
    "duration": 16,
    "start_time": "2022-03-19T08:07:08.923Z"
   },
   {
    "duration": 139,
    "start_time": "2022-03-19T08:07:08.941Z"
   },
   {
    "duration": 13,
    "start_time": "2022-03-19T08:07:09.082Z"
   },
   {
    "duration": 25,
    "start_time": "2022-03-19T08:07:09.097Z"
   },
   {
    "duration": 136,
    "start_time": "2022-03-19T08:07:09.123Z"
   },
   {
    "duration": 15,
    "start_time": "2022-03-19T08:07:09.260Z"
   },
   {
    "duration": 32,
    "start_time": "2022-03-19T08:07:09.278Z"
   },
   {
    "duration": 36,
    "start_time": "2022-03-19T08:07:09.312Z"
   },
   {
    "duration": 34,
    "start_time": "2022-03-19T08:07:09.349Z"
   },
   {
    "duration": 56,
    "start_time": "2022-03-19T08:07:09.385Z"
   },
   {
    "duration": 198,
    "start_time": "2022-03-19T08:07:09.443Z"
   },
   {
    "duration": 167,
    "start_time": "2022-03-19T08:07:09.643Z"
   },
   {
    "duration": 182,
    "start_time": "2022-03-19T08:07:09.812Z"
   },
   {
    "duration": 173,
    "start_time": "2022-03-19T08:07:09.996Z"
   },
   {
    "duration": 198,
    "start_time": "2022-03-19T08:07:10.171Z"
   },
   {
    "duration": 158,
    "start_time": "2022-03-19T08:07:10.370Z"
   },
   {
    "duration": 2,
    "start_time": "2022-03-19T08:07:10.530Z"
   },
   {
    "duration": 20,
    "start_time": "2022-03-19T08:07:10.534Z"
   },
   {
    "duration": 18,
    "start_time": "2022-03-19T08:07:10.556Z"
   },
   {
    "duration": 18,
    "start_time": "2022-03-19T08:07:10.576Z"
   },
   {
    "duration": 123,
    "start_time": "2022-03-19T08:07:10.595Z"
   },
   {
    "duration": 289,
    "start_time": "2022-03-19T08:07:10.720Z"
   },
   {
    "duration": 104,
    "start_time": "2022-03-19T08:07:11.012Z"
   },
   {
    "duration": 5,
    "start_time": "2022-03-19T08:07:11.118Z"
   },
   {
    "duration": 18,
    "start_time": "2022-03-19T08:07:11.308Z"
   },
   {
    "duration": 15,
    "start_time": "2022-03-19T08:07:11.327Z"
   },
   {
    "duration": 14,
    "start_time": "2022-03-19T08:07:11.344Z"
   },
   {
    "duration": 2,
    "start_time": "2022-03-19T08:07:11.360Z"
   },
   {
    "duration": 4,
    "start_time": "2022-03-19T08:07:11.364Z"
   },
   {
    "duration": 8,
    "start_time": "2022-03-19T08:07:11.370Z"
   },
   {
    "duration": 6,
    "start_time": "2022-03-19T08:07:11.379Z"
   },
   {
    "duration": 1690,
    "start_time": "2022-03-19T08:07:11.409Z"
   },
   {
    "duration": 1552,
    "start_time": "2022-03-19T08:07:13.101Z"
   },
   {
    "duration": 1579,
    "start_time": "2022-03-19T08:07:14.654Z"
   },
   {
    "duration": 1596,
    "start_time": "2022-03-19T08:07:16.235Z"
   },
   {
    "duration": 191,
    "start_time": "2022-03-19T08:07:17.833Z"
   },
   {
    "duration": 369,
    "start_time": "2022-03-19T08:07:18.025Z"
   },
   {
    "duration": 270,
    "start_time": "2022-03-19T08:07:18.396Z"
   },
   {
    "duration": 266,
    "start_time": "2022-03-19T08:07:18.667Z"
   },
   {
    "duration": 5,
    "start_time": "2022-03-19T08:07:18.935Z"
   },
   {
    "duration": 7,
    "start_time": "2022-03-19T08:07:18.942Z"
   },
   {
    "duration": 14,
    "start_time": "2022-03-19T08:07:18.950Z"
   },
   {
    "duration": 8,
    "start_time": "2022-03-19T08:07:18.966Z"
   }
  ],
  "kernelspec": {
   "display_name": "Python 3 (ipykernel)",
   "language": "python",
   "name": "python3"
  },
  "language_info": {
   "codemirror_mode": {
    "name": "ipython",
    "version": 3
   },
   "file_extension": ".py",
   "mimetype": "text/x-python",
   "name": "python",
   "nbconvert_exporter": "python",
   "pygments_lexer": "ipython3",
   "version": "3.9.5"
  },
  "toc": {
   "base_numbering": 1,
   "nav_menu": {},
   "number_sections": true,
   "sideBar": true,
   "skip_h1_title": true,
   "title_cell": "Table of Contents",
   "title_sidebar": "Contents",
   "toc_cell": false,
   "toc_position": {},
   "toc_section_display": true,
   "toc_window_display": true
  }
 },
 "nbformat": 4,
 "nbformat_minor": 2
}
