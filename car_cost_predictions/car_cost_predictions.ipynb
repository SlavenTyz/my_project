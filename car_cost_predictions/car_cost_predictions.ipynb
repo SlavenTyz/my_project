{
 "cells": [
  {
   "cell_type": "markdown",
   "metadata": {},
   "source": [
    "# Определение стоимости автомобилей"
   ]
  },
  {
   "cell_type": "markdown",
   "metadata": {},
   "source": [
    "Сервис по продаже автомобилей с пробегом «Не бит, не крашен» разрабатывает приложение для привлечения новых клиентов. В нём можно быстро узнать рыночную стоимость своего автомобиля. В вашем распоряжении исторические данные: технические характеристики, комплектации и цены автомобилей. Вам нужно построить модель для определения стоимости. \n",
    "\n",
    "Заказчику важны:\n",
    "\n",
    "- качество предсказания;\n",
    "- скорость предсказания;\n",
    "- время обучения."
   ]
  },
  {
   "cell_type": "markdown",
   "metadata": {},
   "source": [
    "## Подготовка данных"
   ]
  },
  {
   "cell_type": "code",
   "execution_count": 1,
   "metadata": {},
   "outputs": [],
   "source": [
    "import pandas as pd\n",
    "from sklearn.preprocessing import OrdinalEncoder\n",
    "from sklearn.tree import DecisionTreeRegressor\n",
    "from sklearn.model_selection import train_test_split\n",
    "from sklearn.metrics import mean_squared_error\n",
    "from sklearn.linear_model import LinearRegression\n",
    "from sklearn.ensemble import RandomForestRegressor\n",
    "from catboost import CatBoostClassifier\n",
    "from time import process_time\n",
    "from lightgbm import LGBMRegressor\n",
    "import lightgbm as lgb\n",
    "import matplotlib.pyplot as plt\n",
    "import seaborn as sns\n",
    "\n",
    "\n"
   ]
  },
  {
   "cell_type": "code",
   "execution_count": 2,
   "metadata": {},
   "outputs": [
    {
     "data": {
      "text/html": [
       "<div>\n",
       "<style scoped>\n",
       "    .dataframe tbody tr th:only-of-type {\n",
       "        vertical-align: middle;\n",
       "    }\n",
       "\n",
       "    .dataframe tbody tr th {\n",
       "        vertical-align: top;\n",
       "    }\n",
       "\n",
       "    .dataframe thead th {\n",
       "        text-align: right;\n",
       "    }\n",
       "</style>\n",
       "<table border=\"1\" class=\"dataframe\">\n",
       "  <thead>\n",
       "    <tr style=\"text-align: right;\">\n",
       "      <th></th>\n",
       "      <th>DateCrawled</th>\n",
       "      <th>Price</th>\n",
       "      <th>VehicleType</th>\n",
       "      <th>RegistrationYear</th>\n",
       "      <th>Gearbox</th>\n",
       "      <th>Power</th>\n",
       "      <th>Model</th>\n",
       "      <th>Kilometer</th>\n",
       "      <th>RegistrationMonth</th>\n",
       "      <th>FuelType</th>\n",
       "      <th>Brand</th>\n",
       "      <th>NotRepaired</th>\n",
       "      <th>DateCreated</th>\n",
       "      <th>NumberOfPictures</th>\n",
       "      <th>PostalCode</th>\n",
       "      <th>LastSeen</th>\n",
       "    </tr>\n",
       "  </thead>\n",
       "  <tbody>\n",
       "    <tr>\n",
       "      <th>0</th>\n",
       "      <td>2016-03-24 11:52:17</td>\n",
       "      <td>480</td>\n",
       "      <td>NaN</td>\n",
       "      <td>1993</td>\n",
       "      <td>manual</td>\n",
       "      <td>0</td>\n",
       "      <td>golf</td>\n",
       "      <td>150000</td>\n",
       "      <td>0</td>\n",
       "      <td>petrol</td>\n",
       "      <td>volkswagen</td>\n",
       "      <td>NaN</td>\n",
       "      <td>2016-03-24 00:00:00</td>\n",
       "      <td>0</td>\n",
       "      <td>70435</td>\n",
       "      <td>2016-04-07 03:16:57</td>\n",
       "    </tr>\n",
       "    <tr>\n",
       "      <th>1</th>\n",
       "      <td>2016-03-24 10:58:45</td>\n",
       "      <td>18300</td>\n",
       "      <td>coupe</td>\n",
       "      <td>2011</td>\n",
       "      <td>manual</td>\n",
       "      <td>190</td>\n",
       "      <td>NaN</td>\n",
       "      <td>125000</td>\n",
       "      <td>5</td>\n",
       "      <td>gasoline</td>\n",
       "      <td>audi</td>\n",
       "      <td>yes</td>\n",
       "      <td>2016-03-24 00:00:00</td>\n",
       "      <td>0</td>\n",
       "      <td>66954</td>\n",
       "      <td>2016-04-07 01:46:50</td>\n",
       "    </tr>\n",
       "    <tr>\n",
       "      <th>2</th>\n",
       "      <td>2016-03-14 12:52:21</td>\n",
       "      <td>9800</td>\n",
       "      <td>suv</td>\n",
       "      <td>2004</td>\n",
       "      <td>auto</td>\n",
       "      <td>163</td>\n",
       "      <td>grand</td>\n",
       "      <td>125000</td>\n",
       "      <td>8</td>\n",
       "      <td>gasoline</td>\n",
       "      <td>jeep</td>\n",
       "      <td>NaN</td>\n",
       "      <td>2016-03-14 00:00:00</td>\n",
       "      <td>0</td>\n",
       "      <td>90480</td>\n",
       "      <td>2016-04-05 12:47:46</td>\n",
       "    </tr>\n",
       "    <tr>\n",
       "      <th>3</th>\n",
       "      <td>2016-03-17 16:54:04</td>\n",
       "      <td>1500</td>\n",
       "      <td>small</td>\n",
       "      <td>2001</td>\n",
       "      <td>manual</td>\n",
       "      <td>75</td>\n",
       "      <td>golf</td>\n",
       "      <td>150000</td>\n",
       "      <td>6</td>\n",
       "      <td>petrol</td>\n",
       "      <td>volkswagen</td>\n",
       "      <td>no</td>\n",
       "      <td>2016-03-17 00:00:00</td>\n",
       "      <td>0</td>\n",
       "      <td>91074</td>\n",
       "      <td>2016-03-17 17:40:17</td>\n",
       "    </tr>\n",
       "    <tr>\n",
       "      <th>4</th>\n",
       "      <td>2016-03-31 17:25:20</td>\n",
       "      <td>3600</td>\n",
       "      <td>small</td>\n",
       "      <td>2008</td>\n",
       "      <td>manual</td>\n",
       "      <td>69</td>\n",
       "      <td>fabia</td>\n",
       "      <td>90000</td>\n",
       "      <td>7</td>\n",
       "      <td>gasoline</td>\n",
       "      <td>skoda</td>\n",
       "      <td>no</td>\n",
       "      <td>2016-03-31 00:00:00</td>\n",
       "      <td>0</td>\n",
       "      <td>60437</td>\n",
       "      <td>2016-04-06 10:17:21</td>\n",
       "    </tr>\n",
       "  </tbody>\n",
       "</table>\n",
       "</div>"
      ],
      "text/plain": [
       "           DateCrawled  Price VehicleType  RegistrationYear Gearbox  Power  \\\n",
       "0  2016-03-24 11:52:17    480         NaN              1993  manual      0   \n",
       "1  2016-03-24 10:58:45  18300       coupe              2011  manual    190   \n",
       "2  2016-03-14 12:52:21   9800         suv              2004    auto    163   \n",
       "3  2016-03-17 16:54:04   1500       small              2001  manual     75   \n",
       "4  2016-03-31 17:25:20   3600       small              2008  manual     69   \n",
       "\n",
       "   Model  Kilometer  RegistrationMonth  FuelType       Brand NotRepaired  \\\n",
       "0   golf     150000                  0    petrol  volkswagen         NaN   \n",
       "1    NaN     125000                  5  gasoline        audi         yes   \n",
       "2  grand     125000                  8  gasoline        jeep         NaN   \n",
       "3   golf     150000                  6    petrol  volkswagen          no   \n",
       "4  fabia      90000                  7  gasoline       skoda          no   \n",
       "\n",
       "           DateCreated  NumberOfPictures  PostalCode             LastSeen  \n",
       "0  2016-03-24 00:00:00                 0       70435  2016-04-07 03:16:57  \n",
       "1  2016-03-24 00:00:00                 0       66954  2016-04-07 01:46:50  \n",
       "2  2016-03-14 00:00:00                 0       90480  2016-04-05 12:47:46  \n",
       "3  2016-03-17 00:00:00                 0       91074  2016-03-17 17:40:17  \n",
       "4  2016-03-31 00:00:00                 0       60437  2016-04-06 10:17:21  "
      ]
     },
     "execution_count": 2,
     "metadata": {},
     "output_type": "execute_result"
    }
   ],
   "source": [
    "df= pd.read_csv('/datasets/autos.csv')\n",
    "df.head(5)"
   ]
  },
  {
   "cell_type": "markdown",
   "metadata": {},
   "source": [
    "### Описание признаков"
   ]
  },
  {
   "cell_type": "markdown",
   "metadata": {},
   "source": [
    "**Признаки**\n",
    "\n",
    "DateCrawled — дата скачивания анкеты из базы\n",
    "\n",
    "VehicleType — тип автомобильного кузова\n",
    "\n",
    "RegistrationYear — год регистрации автомобиля\n",
    "\n",
    "Gearbox — тип коробки передач\n",
    "\n",
    "Power — мощность (л. с.)\n",
    "\n",
    "Model — модель автомобиля\n",
    "\n",
    "Kilometer — пробег (км)\n",
    "\n",
    "RegistrationMonth — месяц регистрации автомобиля\n",
    "\n",
    "FuelType — тип топлива\n",
    "\n",
    "Brand — марка автомобиля\n",
    "\n",
    "NotRepaired — была машина в ремонте или нет\n",
    "\n",
    "DateCreated — дата создания анкеты\n",
    "\n",
    "NumberOfPictures — количество фотографий автомобиля\n",
    "\n",
    "PostalCode — почтовый индекс владельца анкеты (пользователя)\n",
    "\n",
    "LastSeen — дата последней активности пользователя\n",
    "\n",
    "\n",
    "**Целевой признак**\n",
    "\n",
    "Price — цена (евро)"
   ]
  },
  {
   "cell_type": "code",
   "execution_count": 3,
   "metadata": {},
   "outputs": [
    {
     "name": "stdout",
     "output_type": "stream",
     "text": [
      "<class 'pandas.core.frame.DataFrame'>\n",
      "RangeIndex: 354369 entries, 0 to 354368\n",
      "Data columns (total 16 columns):\n",
      " #   Column             Non-Null Count   Dtype \n",
      "---  ------             --------------   ----- \n",
      " 0   DateCrawled        354369 non-null  object\n",
      " 1   Price              354369 non-null  int64 \n",
      " 2   VehicleType        316879 non-null  object\n",
      " 3   RegistrationYear   354369 non-null  int64 \n",
      " 4   Gearbox            334536 non-null  object\n",
      " 5   Power              354369 non-null  int64 \n",
      " 6   Model              334664 non-null  object\n",
      " 7   Kilometer          354369 non-null  int64 \n",
      " 8   RegistrationMonth  354369 non-null  int64 \n",
      " 9   FuelType           321474 non-null  object\n",
      " 10  Brand              354369 non-null  object\n",
      " 11  NotRepaired        283215 non-null  object\n",
      " 12  DateCreated        354369 non-null  object\n",
      " 13  NumberOfPictures   354369 non-null  int64 \n",
      " 14  PostalCode         354369 non-null  int64 \n",
      " 15  LastSeen           354369 non-null  object\n",
      "dtypes: int64(7), object(9)\n",
      "memory usage: 43.3+ MB\n"
     ]
    }
   ],
   "source": [
    "df.info()"
   ]
  },
  {
   "cell_type": "markdown",
   "metadata": {},
   "source": [
    "Посмотрю сколько дубликатов"
   ]
  },
  {
   "cell_type": "code",
   "execution_count": 4,
   "metadata": {},
   "outputs": [
    {
     "data": {
      "text/plain": [
       "4"
      ]
     },
     "execution_count": 4,
     "metadata": {},
     "output_type": "execute_result"
    }
   ],
   "source": [
    "df.duplicated().sum()"
   ]
  },
  {
   "cell_type": "code",
   "execution_count": 5,
   "metadata": {},
   "outputs": [],
   "source": [
    "# Уберу дубликаты\n",
    "df = df.drop_duplicates().reset_index(drop=True)"
   ]
  },
  {
   "cell_type": "code",
   "execution_count": 6,
   "metadata": {},
   "outputs": [
    {
     "data": {
      "text/plain": [
       "0"
      ]
     },
     "execution_count": 6,
     "metadata": {},
     "output_type": "execute_result"
    }
   ],
   "source": [
    "# Проверю удалось убрать дубликаты\n",
    "df.duplicated().sum()"
   ]
  },
  {
   "cell_type": "markdown",
   "metadata": {},
   "source": [
    "### Посмотрим на кол-во пропусков и заполним их"
   ]
  },
  {
   "cell_type": "code",
   "execution_count": 7,
   "metadata": {},
   "outputs": [
    {
     "data": {
      "text/html": [
       "<div>\n",
       "<style scoped>\n",
       "    .dataframe tbody tr th:only-of-type {\n",
       "        vertical-align: middle;\n",
       "    }\n",
       "\n",
       "    .dataframe tbody tr th {\n",
       "        vertical-align: top;\n",
       "    }\n",
       "\n",
       "    .dataframe thead th {\n",
       "        text-align: right;\n",
       "    }\n",
       "</style>\n",
       "<table border=\"1\" class=\"dataframe\">\n",
       "  <thead>\n",
       "    <tr style=\"text-align: right;\">\n",
       "      <th></th>\n",
       "      <th>Total</th>\n",
       "      <th>Percent</th>\n",
       "    </tr>\n",
       "  </thead>\n",
       "  <tbody>\n",
       "    <tr>\n",
       "      <th>NotRepaired</th>\n",
       "      <td>71154</td>\n",
       "      <td>0.200793</td>\n",
       "    </tr>\n",
       "    <tr>\n",
       "      <th>VehicleType</th>\n",
       "      <td>37490</td>\n",
       "      <td>0.105795</td>\n",
       "    </tr>\n",
       "    <tr>\n",
       "      <th>FuelType</th>\n",
       "      <td>32895</td>\n",
       "      <td>0.092828</td>\n",
       "    </tr>\n",
       "    <tr>\n",
       "      <th>Gearbox</th>\n",
       "      <td>19833</td>\n",
       "      <td>0.055968</td>\n",
       "    </tr>\n",
       "    <tr>\n",
       "      <th>Model</th>\n",
       "      <td>19705</td>\n",
       "      <td>0.055607</td>\n",
       "    </tr>\n",
       "    <tr>\n",
       "      <th>DateCrawled</th>\n",
       "      <td>0</td>\n",
       "      <td>0.000000</td>\n",
       "    </tr>\n",
       "    <tr>\n",
       "      <th>Price</th>\n",
       "      <td>0</td>\n",
       "      <td>0.000000</td>\n",
       "    </tr>\n",
       "    <tr>\n",
       "      <th>RegistrationYear</th>\n",
       "      <td>0</td>\n",
       "      <td>0.000000</td>\n",
       "    </tr>\n",
       "    <tr>\n",
       "      <th>Power</th>\n",
       "      <td>0</td>\n",
       "      <td>0.000000</td>\n",
       "    </tr>\n",
       "    <tr>\n",
       "      <th>Kilometer</th>\n",
       "      <td>0</td>\n",
       "      <td>0.000000</td>\n",
       "    </tr>\n",
       "    <tr>\n",
       "      <th>RegistrationMonth</th>\n",
       "      <td>0</td>\n",
       "      <td>0.000000</td>\n",
       "    </tr>\n",
       "    <tr>\n",
       "      <th>Brand</th>\n",
       "      <td>0</td>\n",
       "      <td>0.000000</td>\n",
       "    </tr>\n",
       "    <tr>\n",
       "      <th>DateCreated</th>\n",
       "      <td>0</td>\n",
       "      <td>0.000000</td>\n",
       "    </tr>\n",
       "    <tr>\n",
       "      <th>NumberOfPictures</th>\n",
       "      <td>0</td>\n",
       "      <td>0.000000</td>\n",
       "    </tr>\n",
       "    <tr>\n",
       "      <th>PostalCode</th>\n",
       "      <td>0</td>\n",
       "      <td>0.000000</td>\n",
       "    </tr>\n",
       "    <tr>\n",
       "      <th>LastSeen</th>\n",
       "      <td>0</td>\n",
       "      <td>0.000000</td>\n",
       "    </tr>\n",
       "  </tbody>\n",
       "</table>\n",
       "</div>"
      ],
      "text/plain": [
       "                   Total   Percent\n",
       "NotRepaired        71154  0.200793\n",
       "VehicleType        37490  0.105795\n",
       "FuelType           32895  0.092828\n",
       "Gearbox            19833  0.055968\n",
       "Model              19705  0.055607\n",
       "DateCrawled            0  0.000000\n",
       "Price                  0  0.000000\n",
       "RegistrationYear       0  0.000000\n",
       "Power                  0  0.000000\n",
       "Kilometer              0  0.000000\n",
       "RegistrationMonth      0  0.000000\n",
       "Brand                  0  0.000000\n",
       "DateCreated            0  0.000000\n",
       "NumberOfPictures       0  0.000000\n",
       "PostalCode             0  0.000000\n",
       "LastSeen               0  0.000000"
      ]
     },
     "execution_count": 7,
     "metadata": {},
     "output_type": "execute_result"
    }
   ],
   "source": [
    "total = df.isnull().sum().sort_values(ascending=False)\n",
    "percent = (df.isnull().sum()/df.isnull().count()).sort_values(ascending=False)\n",
    "missing_data = pd.concat([total, percent], axis=1, keys=['Total', 'Percent'])\n",
    "missing_data"
   ]
  },
  {
   "cell_type": "markdown",
   "metadata": {},
   "source": [
    "Как видно очень много пропусков в следующих признаках\n",
    "\n",
    "VehicleType — тип автомобильного кузова\n",
    "\n",
    "Gearbox — тип коробки передач\n",
    "\n",
    "Model — модель автомобиля\n",
    "\n",
    "FuelType — тип топлива\n",
    "\n",
    "NotRepaired — была машина в ремонте или нет"
   ]
  },
  {
   "cell_type": "code",
   "execution_count": 8,
   "metadata": {},
   "outputs": [
    {
     "name": "stdout",
     "output_type": "stream",
     "text": [
      "<class 'pandas.core.frame.DataFrame'>\n",
      "RangeIndex: 354365 entries, 0 to 354364\n",
      "Data columns (total 5 columns):\n",
      " #   Column       Non-Null Count   Dtype \n",
      "---  ------       --------------   ----- \n",
      " 0   NotRepaired  283211 non-null  object\n",
      " 1   VehicleType  316875 non-null  object\n",
      " 2   FuelType     321470 non-null  object\n",
      " 3   Gearbox      334532 non-null  object\n",
      " 4   Model        334660 non-null  object\n",
      "dtypes: object(5)\n",
      "memory usage: 13.5+ MB\n"
     ]
    }
   ],
   "source": [
    "# проверю тип данных\n",
    "df[['NotRepaired','VehicleType','FuelType','Gearbox','Model']].info()"
   ]
  },
  {
   "cell_type": "markdown",
   "metadata": {},
   "source": [
    "Заменим все пропуски на значение unknown(неизвестно)"
   ]
  },
  {
   "cell_type": "code",
   "execution_count": 9,
   "metadata": {},
   "outputs": [],
   "source": [
    "df[['NotRepaired','VehicleType','FuelType','Gearbox','Model']]=df[['NotRepaired','VehicleType','FuelType','Gearbox','Model']].fillna('unknown')"
   ]
  },
  {
   "cell_type": "code",
   "execution_count": 10,
   "metadata": {},
   "outputs": [
    {
     "data": {
      "text/html": [
       "<div>\n",
       "<style scoped>\n",
       "    .dataframe tbody tr th:only-of-type {\n",
       "        vertical-align: middle;\n",
       "    }\n",
       "\n",
       "    .dataframe tbody tr th {\n",
       "        vertical-align: top;\n",
       "    }\n",
       "\n",
       "    .dataframe thead th {\n",
       "        text-align: right;\n",
       "    }\n",
       "</style>\n",
       "<table border=\"1\" class=\"dataframe\">\n",
       "  <thead>\n",
       "    <tr style=\"text-align: right;\">\n",
       "      <th></th>\n",
       "      <th>DateCrawled</th>\n",
       "      <th>Price</th>\n",
       "      <th>VehicleType</th>\n",
       "      <th>RegistrationYear</th>\n",
       "      <th>Gearbox</th>\n",
       "      <th>Power</th>\n",
       "      <th>Model</th>\n",
       "      <th>Kilometer</th>\n",
       "      <th>RegistrationMonth</th>\n",
       "      <th>FuelType</th>\n",
       "      <th>Brand</th>\n",
       "      <th>NotRepaired</th>\n",
       "      <th>DateCreated</th>\n",
       "      <th>NumberOfPictures</th>\n",
       "      <th>PostalCode</th>\n",
       "      <th>LastSeen</th>\n",
       "    </tr>\n",
       "  </thead>\n",
       "  <tbody>\n",
       "    <tr>\n",
       "      <th>0</th>\n",
       "      <td>2016-03-24 11:52:17</td>\n",
       "      <td>480</td>\n",
       "      <td>unknown</td>\n",
       "      <td>1993</td>\n",
       "      <td>manual</td>\n",
       "      <td>0</td>\n",
       "      <td>golf</td>\n",
       "      <td>150000</td>\n",
       "      <td>0</td>\n",
       "      <td>petrol</td>\n",
       "      <td>volkswagen</td>\n",
       "      <td>unknown</td>\n",
       "      <td>2016-03-24 00:00:00</td>\n",
       "      <td>0</td>\n",
       "      <td>70435</td>\n",
       "      <td>2016-04-07 03:16:57</td>\n",
       "    </tr>\n",
       "    <tr>\n",
       "      <th>1</th>\n",
       "      <td>2016-03-24 10:58:45</td>\n",
       "      <td>18300</td>\n",
       "      <td>coupe</td>\n",
       "      <td>2011</td>\n",
       "      <td>manual</td>\n",
       "      <td>190</td>\n",
       "      <td>unknown</td>\n",
       "      <td>125000</td>\n",
       "      <td>5</td>\n",
       "      <td>gasoline</td>\n",
       "      <td>audi</td>\n",
       "      <td>yes</td>\n",
       "      <td>2016-03-24 00:00:00</td>\n",
       "      <td>0</td>\n",
       "      <td>66954</td>\n",
       "      <td>2016-04-07 01:46:50</td>\n",
       "    </tr>\n",
       "    <tr>\n",
       "      <th>2</th>\n",
       "      <td>2016-03-14 12:52:21</td>\n",
       "      <td>9800</td>\n",
       "      <td>suv</td>\n",
       "      <td>2004</td>\n",
       "      <td>auto</td>\n",
       "      <td>163</td>\n",
       "      <td>grand</td>\n",
       "      <td>125000</td>\n",
       "      <td>8</td>\n",
       "      <td>gasoline</td>\n",
       "      <td>jeep</td>\n",
       "      <td>unknown</td>\n",
       "      <td>2016-03-14 00:00:00</td>\n",
       "      <td>0</td>\n",
       "      <td>90480</td>\n",
       "      <td>2016-04-05 12:47:46</td>\n",
       "    </tr>\n",
       "    <tr>\n",
       "      <th>3</th>\n",
       "      <td>2016-03-17 16:54:04</td>\n",
       "      <td>1500</td>\n",
       "      <td>small</td>\n",
       "      <td>2001</td>\n",
       "      <td>manual</td>\n",
       "      <td>75</td>\n",
       "      <td>golf</td>\n",
       "      <td>150000</td>\n",
       "      <td>6</td>\n",
       "      <td>petrol</td>\n",
       "      <td>volkswagen</td>\n",
       "      <td>no</td>\n",
       "      <td>2016-03-17 00:00:00</td>\n",
       "      <td>0</td>\n",
       "      <td>91074</td>\n",
       "      <td>2016-03-17 17:40:17</td>\n",
       "    </tr>\n",
       "    <tr>\n",
       "      <th>4</th>\n",
       "      <td>2016-03-31 17:25:20</td>\n",
       "      <td>3600</td>\n",
       "      <td>small</td>\n",
       "      <td>2008</td>\n",
       "      <td>manual</td>\n",
       "      <td>69</td>\n",
       "      <td>fabia</td>\n",
       "      <td>90000</td>\n",
       "      <td>7</td>\n",
       "      <td>gasoline</td>\n",
       "      <td>skoda</td>\n",
       "      <td>no</td>\n",
       "      <td>2016-03-31 00:00:00</td>\n",
       "      <td>0</td>\n",
       "      <td>60437</td>\n",
       "      <td>2016-04-06 10:17:21</td>\n",
       "    </tr>\n",
       "    <tr>\n",
       "      <th>...</th>\n",
       "      <td>...</td>\n",
       "      <td>...</td>\n",
       "      <td>...</td>\n",
       "      <td>...</td>\n",
       "      <td>...</td>\n",
       "      <td>...</td>\n",
       "      <td>...</td>\n",
       "      <td>...</td>\n",
       "      <td>...</td>\n",
       "      <td>...</td>\n",
       "      <td>...</td>\n",
       "      <td>...</td>\n",
       "      <td>...</td>\n",
       "      <td>...</td>\n",
       "      <td>...</td>\n",
       "      <td>...</td>\n",
       "    </tr>\n",
       "    <tr>\n",
       "      <th>354360</th>\n",
       "      <td>2016-03-21 09:50:58</td>\n",
       "      <td>0</td>\n",
       "      <td>unknown</td>\n",
       "      <td>2005</td>\n",
       "      <td>manual</td>\n",
       "      <td>0</td>\n",
       "      <td>colt</td>\n",
       "      <td>150000</td>\n",
       "      <td>7</td>\n",
       "      <td>petrol</td>\n",
       "      <td>mitsubishi</td>\n",
       "      <td>yes</td>\n",
       "      <td>2016-03-21 00:00:00</td>\n",
       "      <td>0</td>\n",
       "      <td>2694</td>\n",
       "      <td>2016-03-21 10:42:49</td>\n",
       "    </tr>\n",
       "    <tr>\n",
       "      <th>354361</th>\n",
       "      <td>2016-03-14 17:48:27</td>\n",
       "      <td>2200</td>\n",
       "      <td>unknown</td>\n",
       "      <td>2005</td>\n",
       "      <td>unknown</td>\n",
       "      <td>0</td>\n",
       "      <td>unknown</td>\n",
       "      <td>20000</td>\n",
       "      <td>1</td>\n",
       "      <td>unknown</td>\n",
       "      <td>sonstige_autos</td>\n",
       "      <td>unknown</td>\n",
       "      <td>2016-03-14 00:00:00</td>\n",
       "      <td>0</td>\n",
       "      <td>39576</td>\n",
       "      <td>2016-04-06 00:46:52</td>\n",
       "    </tr>\n",
       "    <tr>\n",
       "      <th>354362</th>\n",
       "      <td>2016-03-05 19:56:21</td>\n",
       "      <td>1199</td>\n",
       "      <td>convertible</td>\n",
       "      <td>2000</td>\n",
       "      <td>auto</td>\n",
       "      <td>101</td>\n",
       "      <td>fortwo</td>\n",
       "      <td>125000</td>\n",
       "      <td>3</td>\n",
       "      <td>petrol</td>\n",
       "      <td>smart</td>\n",
       "      <td>no</td>\n",
       "      <td>2016-03-05 00:00:00</td>\n",
       "      <td>0</td>\n",
       "      <td>26135</td>\n",
       "      <td>2016-03-11 18:17:12</td>\n",
       "    </tr>\n",
       "    <tr>\n",
       "      <th>354363</th>\n",
       "      <td>2016-03-19 18:57:12</td>\n",
       "      <td>9200</td>\n",
       "      <td>bus</td>\n",
       "      <td>1996</td>\n",
       "      <td>manual</td>\n",
       "      <td>102</td>\n",
       "      <td>transporter</td>\n",
       "      <td>150000</td>\n",
       "      <td>3</td>\n",
       "      <td>gasoline</td>\n",
       "      <td>volkswagen</td>\n",
       "      <td>no</td>\n",
       "      <td>2016-03-19 00:00:00</td>\n",
       "      <td>0</td>\n",
       "      <td>87439</td>\n",
       "      <td>2016-04-07 07:15:26</td>\n",
       "    </tr>\n",
       "    <tr>\n",
       "      <th>354364</th>\n",
       "      <td>2016-03-20 19:41:08</td>\n",
       "      <td>3400</td>\n",
       "      <td>wagon</td>\n",
       "      <td>2002</td>\n",
       "      <td>manual</td>\n",
       "      <td>100</td>\n",
       "      <td>golf</td>\n",
       "      <td>150000</td>\n",
       "      <td>6</td>\n",
       "      <td>gasoline</td>\n",
       "      <td>volkswagen</td>\n",
       "      <td>unknown</td>\n",
       "      <td>2016-03-20 00:00:00</td>\n",
       "      <td>0</td>\n",
       "      <td>40764</td>\n",
       "      <td>2016-03-24 12:45:21</td>\n",
       "    </tr>\n",
       "  </tbody>\n",
       "</table>\n",
       "<p>354365 rows × 16 columns</p>\n",
       "</div>"
      ],
      "text/plain": [
       "                DateCrawled  Price  VehicleType  RegistrationYear  Gearbox  \\\n",
       "0       2016-03-24 11:52:17    480      unknown              1993   manual   \n",
       "1       2016-03-24 10:58:45  18300        coupe              2011   manual   \n",
       "2       2016-03-14 12:52:21   9800          suv              2004     auto   \n",
       "3       2016-03-17 16:54:04   1500        small              2001   manual   \n",
       "4       2016-03-31 17:25:20   3600        small              2008   manual   \n",
       "...                     ...    ...          ...               ...      ...   \n",
       "354360  2016-03-21 09:50:58      0      unknown              2005   manual   \n",
       "354361  2016-03-14 17:48:27   2200      unknown              2005  unknown   \n",
       "354362  2016-03-05 19:56:21   1199  convertible              2000     auto   \n",
       "354363  2016-03-19 18:57:12   9200          bus              1996   manual   \n",
       "354364  2016-03-20 19:41:08   3400        wagon              2002   manual   \n",
       "\n",
       "        Power        Model  Kilometer  RegistrationMonth  FuelType  \\\n",
       "0           0         golf     150000                  0    petrol   \n",
       "1         190      unknown     125000                  5  gasoline   \n",
       "2         163        grand     125000                  8  gasoline   \n",
       "3          75         golf     150000                  6    petrol   \n",
       "4          69        fabia      90000                  7  gasoline   \n",
       "...       ...          ...        ...                ...       ...   \n",
       "354360      0         colt     150000                  7    petrol   \n",
       "354361      0      unknown      20000                  1   unknown   \n",
       "354362    101       fortwo     125000                  3    petrol   \n",
       "354363    102  transporter     150000                  3  gasoline   \n",
       "354364    100         golf     150000                  6  gasoline   \n",
       "\n",
       "                 Brand NotRepaired          DateCreated  NumberOfPictures  \\\n",
       "0           volkswagen     unknown  2016-03-24 00:00:00                 0   \n",
       "1                 audi         yes  2016-03-24 00:00:00                 0   \n",
       "2                 jeep     unknown  2016-03-14 00:00:00                 0   \n",
       "3           volkswagen          no  2016-03-17 00:00:00                 0   \n",
       "4                skoda          no  2016-03-31 00:00:00                 0   \n",
       "...                ...         ...                  ...               ...   \n",
       "354360      mitsubishi         yes  2016-03-21 00:00:00                 0   \n",
       "354361  sonstige_autos     unknown  2016-03-14 00:00:00                 0   \n",
       "354362           smart          no  2016-03-05 00:00:00                 0   \n",
       "354363      volkswagen          no  2016-03-19 00:00:00                 0   \n",
       "354364      volkswagen     unknown  2016-03-20 00:00:00                 0   \n",
       "\n",
       "        PostalCode             LastSeen  \n",
       "0            70435  2016-04-07 03:16:57  \n",
       "1            66954  2016-04-07 01:46:50  \n",
       "2            90480  2016-04-05 12:47:46  \n",
       "3            91074  2016-03-17 17:40:17  \n",
       "4            60437  2016-04-06 10:17:21  \n",
       "...            ...                  ...  \n",
       "354360        2694  2016-03-21 10:42:49  \n",
       "354361       39576  2016-04-06 00:46:52  \n",
       "354362       26135  2016-03-11 18:17:12  \n",
       "354363       87439  2016-04-07 07:15:26  \n",
       "354364       40764  2016-03-24 12:45:21  \n",
       "\n",
       "[354365 rows x 16 columns]"
      ]
     },
     "execution_count": 10,
     "metadata": {},
     "output_type": "execute_result"
    }
   ],
   "source": [
    "df"
   ]
  },
  {
   "cell_type": "markdown",
   "metadata": {},
   "source": [
    "### Расмотрю влияние признаков на цену"
   ]
  },
  {
   "cell_type": "markdown",
   "metadata": {},
   "source": [
    "Посмотрю зависимость выкладывания обьявления от месяца"
   ]
  },
  {
   "cell_type": "code",
   "execution_count": 11,
   "metadata": {},
   "outputs": [
    {
     "data": {
      "image/png": "[encoded data removed]",
      "text/plain": [
       "<Figure size 432x288 with 1 Axes>"
      ]
     },
     "metadata": {
      "needs_background": "light"
     },
     "output_type": "display_data"
    }
   ],
   "source": [
    "df_RegistrationMonth=df.groupby('RegistrationMonth').size().plot()\n"
   ]
  },
  {
   "cell_type": "code",
   "execution_count": 12,
   "metadata": {},
   "outputs": [
    {
     "data": {
      "image/png": "[encoded data removed]",
      "text/plain": [
       "<Figure size 648x648 with 1 Axes>"
      ]
     },
     "metadata": {},
     "output_type": "display_data"
    }
   ],
   "source": [
    "import matplotlib.pyplot as plt\n",
    "df_RegistrationMonth=df.groupby('RegistrationMonth').size().plot(kind='pie', figsize=(9,9),autopct='%1.1f%%')\n",
    "plt.title(\"Доли строк по месяцам\")\n",
    "plt.ylabel(\"\")\n",
    "plt.show()"
   ]
  },
  {
   "cell_type": "markdown",
   "metadata": {},
   "source": [
    "Рассмотрим корреляцию признаков от цены"
   ]
  },
  {
   "cell_type": "code",
   "execution_count": 13,
   "metadata": {},
   "outputs": [],
   "source": [
    "data=df[['Price','RegistrationYear','Power','Kilometer','RegistrationMonth']]"
   ]
  },
  {
   "cell_type": "code",
   "execution_count": 14,
   "metadata": {},
   "outputs": [],
   "source": [
    "#sns.pairplot(data)"
   ]
  },
  {
   "cell_type": "code",
   "execution_count": 15,
   "metadata": {},
   "outputs": [
    {
     "data": {
      "text/html": [
       "<div>\n",
       "<style scoped>\n",
       "    .dataframe tbody tr th:only-of-type {\n",
       "        vertical-align: middle;\n",
       "    }\n",
       "\n",
       "    .dataframe tbody tr th {\n",
       "        vertical-align: top;\n",
       "    }\n",
       "\n",
       "    .dataframe thead th {\n",
       "        text-align: right;\n",
       "    }\n",
       "</style>\n",
       "<table border=\"1\" class=\"dataframe\">\n",
       "  <thead>\n",
       "    <tr style=\"text-align: right;\">\n",
       "      <th></th>\n",
       "      <th>Price</th>\n",
       "      <th>RegistrationYear</th>\n",
       "      <th>Power</th>\n",
       "      <th>Kilometer</th>\n",
       "      <th>RegistrationMonth</th>\n",
       "    </tr>\n",
       "  </thead>\n",
       "  <tbody>\n",
       "    <tr>\n",
       "      <th>Price</th>\n",
       "      <td>1.000000</td>\n",
       "      <td>0.026916</td>\n",
       "      <td>0.158872</td>\n",
       "      <td>-0.333207</td>\n",
       "      <td>0.110580</td>\n",
       "    </tr>\n",
       "    <tr>\n",
       "      <th>RegistrationYear</th>\n",
       "      <td>0.026916</td>\n",
       "      <td>1.000000</td>\n",
       "      <td>-0.000828</td>\n",
       "      <td>-0.053448</td>\n",
       "      <td>-0.011619</td>\n",
       "    </tr>\n",
       "    <tr>\n",
       "      <th>Power</th>\n",
       "      <td>0.158872</td>\n",
       "      <td>-0.000828</td>\n",
       "      <td>1.000000</td>\n",
       "      <td>0.024006</td>\n",
       "      <td>0.043379</td>\n",
       "    </tr>\n",
       "    <tr>\n",
       "      <th>Kilometer</th>\n",
       "      <td>-0.333207</td>\n",
       "      <td>-0.053448</td>\n",
       "      <td>0.024006</td>\n",
       "      <td>1.000000</td>\n",
       "      <td>0.009575</td>\n",
       "    </tr>\n",
       "    <tr>\n",
       "      <th>RegistrationMonth</th>\n",
       "      <td>0.110580</td>\n",
       "      <td>-0.011619</td>\n",
       "      <td>0.043379</td>\n",
       "      <td>0.009575</td>\n",
       "      <td>1.000000</td>\n",
       "    </tr>\n",
       "  </tbody>\n",
       "</table>\n",
       "</div>"
      ],
      "text/plain": [
       "                      Price  RegistrationYear     Power  Kilometer  \\\n",
       "Price              1.000000          0.026916  0.158872  -0.333207   \n",
       "RegistrationYear   0.026916          1.000000 -0.000828  -0.053448   \n",
       "Power              0.158872         -0.000828  1.000000   0.024006   \n",
       "Kilometer         -0.333207         -0.053448  0.024006   1.000000   \n",
       "RegistrationMonth  0.110580         -0.011619  0.043379   0.009575   \n",
       "\n",
       "                   RegistrationMonth  \n",
       "Price                       0.110580  \n",
       "RegistrationYear           -0.011619  \n",
       "Power                       0.043379  \n",
       "Kilometer                   0.009575  \n",
       "RegistrationMonth           1.000000  "
      ]
     },
     "execution_count": 15,
     "metadata": {},
     "output_type": "execute_result"
    }
   ],
   "source": [
    "data.corr()"
   ]
  },
  {
   "cell_type": "code",
   "execution_count": 16,
   "metadata": {},
   "outputs": [
    {
     "data": {
      "text/html": [
       "<div>\n",
       "<style scoped>\n",
       "    .dataframe tbody tr th:only-of-type {\n",
       "        vertical-align: middle;\n",
       "    }\n",
       "\n",
       "    .dataframe tbody tr th {\n",
       "        vertical-align: top;\n",
       "    }\n",
       "\n",
       "    .dataframe thead th {\n",
       "        text-align: right;\n",
       "    }\n",
       "</style>\n",
       "<table border=\"1\" class=\"dataframe\">\n",
       "  <thead>\n",
       "    <tr style=\"text-align: right;\">\n",
       "      <th></th>\n",
       "      <th>Price</th>\n",
       "      <th>RegistrationYear</th>\n",
       "      <th>Power</th>\n",
       "      <th>Kilometer</th>\n",
       "      <th>RegistrationMonth</th>\n",
       "    </tr>\n",
       "  </thead>\n",
       "  <tbody>\n",
       "    <tr>\n",
       "      <th>count</th>\n",
       "      <td>354365.000000</td>\n",
       "      <td>354365.000000</td>\n",
       "      <td>354365.000000</td>\n",
       "      <td>354365.000000</td>\n",
       "      <td>354365.000000</td>\n",
       "    </tr>\n",
       "    <tr>\n",
       "      <th>mean</th>\n",
       "      <td>4416.679830</td>\n",
       "      <td>2004.234481</td>\n",
       "      <td>110.093816</td>\n",
       "      <td>128211.363989</td>\n",
       "      <td>5.714650</td>\n",
       "    </tr>\n",
       "    <tr>\n",
       "      <th>std</th>\n",
       "      <td>4514.176349</td>\n",
       "      <td>90.228466</td>\n",
       "      <td>189.851330</td>\n",
       "      <td>37905.083858</td>\n",
       "      <td>3.726432</td>\n",
       "    </tr>\n",
       "    <tr>\n",
       "      <th>min</th>\n",
       "      <td>0.000000</td>\n",
       "      <td>1000.000000</td>\n",
       "      <td>0.000000</td>\n",
       "      <td>5000.000000</td>\n",
       "      <td>0.000000</td>\n",
       "    </tr>\n",
       "    <tr>\n",
       "      <th>25%</th>\n",
       "      <td>1050.000000</td>\n",
       "      <td>1999.000000</td>\n",
       "      <td>69.000000</td>\n",
       "      <td>125000.000000</td>\n",
       "      <td>3.000000</td>\n",
       "    </tr>\n",
       "    <tr>\n",
       "      <th>50%</th>\n",
       "      <td>2700.000000</td>\n",
       "      <td>2003.000000</td>\n",
       "      <td>105.000000</td>\n",
       "      <td>150000.000000</td>\n",
       "      <td>6.000000</td>\n",
       "    </tr>\n",
       "    <tr>\n",
       "      <th>75%</th>\n",
       "      <td>6400.000000</td>\n",
       "      <td>2008.000000</td>\n",
       "      <td>143.000000</td>\n",
       "      <td>150000.000000</td>\n",
       "      <td>9.000000</td>\n",
       "    </tr>\n",
       "    <tr>\n",
       "      <th>max</th>\n",
       "      <td>20000.000000</td>\n",
       "      <td>9999.000000</td>\n",
       "      <td>20000.000000</td>\n",
       "      <td>150000.000000</td>\n",
       "      <td>12.000000</td>\n",
       "    </tr>\n",
       "  </tbody>\n",
       "</table>\n",
       "</div>"
      ],
      "text/plain": [
       "               Price  RegistrationYear          Power      Kilometer  \\\n",
       "count  354365.000000     354365.000000  354365.000000  354365.000000   \n",
       "mean     4416.679830       2004.234481     110.093816  128211.363989   \n",
       "std      4514.176349         90.228466     189.851330   37905.083858   \n",
       "min         0.000000       1000.000000       0.000000    5000.000000   \n",
       "25%      1050.000000       1999.000000      69.000000  125000.000000   \n",
       "50%      2700.000000       2003.000000     105.000000  150000.000000   \n",
       "75%      6400.000000       2008.000000     143.000000  150000.000000   \n",
       "max     20000.000000       9999.000000   20000.000000  150000.000000   \n",
       "\n",
       "       RegistrationMonth  \n",
       "count      354365.000000  \n",
       "mean            5.714650  \n",
       "std             3.726432  \n",
       "min             0.000000  \n",
       "25%             3.000000  \n",
       "50%             6.000000  \n",
       "75%             9.000000  \n",
       "max            12.000000  "
      ]
     },
     "execution_count": 16,
     "metadata": {},
     "output_type": "execute_result"
    }
   ],
   "source": [
    "data.describe()"
   ]
  },
  {
   "cell_type": "markdown",
   "metadata": {},
   "source": [
    "Лучшая зависимость от цены у признака Power и обратная зависимость у киллометрожа"
   ]
  },
  {
   "cell_type": "code",
   "execution_count": 17,
   "metadata": {},
   "outputs": [
    {
     "data": {
      "text/html": [
       "<div>\n",
       "<style scoped>\n",
       "    .dataframe tbody tr th:only-of-type {\n",
       "        vertical-align: middle;\n",
       "    }\n",
       "\n",
       "    .dataframe tbody tr th {\n",
       "        vertical-align: top;\n",
       "    }\n",
       "\n",
       "    .dataframe thead th {\n",
       "        text-align: right;\n",
       "    }\n",
       "</style>\n",
       "<table border=\"1\" class=\"dataframe\">\n",
       "  <thead>\n",
       "    <tr style=\"text-align: right;\">\n",
       "      <th></th>\n",
       "      <th>Price</th>\n",
       "    </tr>\n",
       "    <tr>\n",
       "      <th>VehicleType</th>\n",
       "      <th></th>\n",
       "    </tr>\n",
       "  </thead>\n",
       "  <tbody>\n",
       "    <tr>\n",
       "      <th>bus</th>\n",
       "      <td>5487.071347</td>\n",
       "    </tr>\n",
       "    <tr>\n",
       "      <th>convertible</th>\n",
       "      <td>6807.014305</td>\n",
       "    </tr>\n",
       "    <tr>\n",
       "      <th>coupe</th>\n",
       "      <td>6011.226409</td>\n",
       "    </tr>\n",
       "    <tr>\n",
       "      <th>other</th>\n",
       "      <td>3563.838200</td>\n",
       "    </tr>\n",
       "    <tr>\n",
       "      <th>sedan</th>\n",
       "      <td>4722.660496</td>\n",
       "    </tr>\n",
       "    <tr>\n",
       "      <th>small</th>\n",
       "      <td>2677.672454</td>\n",
       "    </tr>\n",
       "    <tr>\n",
       "      <th>suv</th>\n",
       "      <td>9009.206485</td>\n",
       "    </tr>\n",
       "    <tr>\n",
       "      <th>unknown</th>\n",
       "      <td>2375.427954</td>\n",
       "    </tr>\n",
       "    <tr>\n",
       "      <th>wagon</th>\n",
       "      <td>4880.390424</td>\n",
       "    </tr>\n",
       "  </tbody>\n",
       "</table>\n",
       "</div>"
      ],
      "text/plain": [
       "                   Price\n",
       "VehicleType             \n",
       "bus          5487.071347\n",
       "convertible  6807.014305\n",
       "coupe        6011.226409\n",
       "other        3563.838200\n",
       "sedan        4722.660496\n",
       "small        2677.672454\n",
       "suv          9009.206485\n",
       "unknown      2375.427954\n",
       "wagon        4880.390424"
      ]
     },
     "execution_count": 17,
     "metadata": {},
     "output_type": "execute_result"
    }
   ],
   "source": [
    "df.pivot_table(index='VehicleType',values='Price',aggfunc='mean')"
   ]
  },
  {
   "cell_type": "markdown",
   "metadata": {},
   "source": [
    "#### Функция для анализа признаков"
   ]
  },
  {
   "cell_type": "markdown",
   "metadata": {},
   "source": [
    "#### Функция для виуализации распределение признаков"
   ]
  },
  {
   "cell_type": "code",
   "execution_count": 18,
   "metadata": {},
   "outputs": [],
   "source": [
    "# Функция для виуализации распределение признаков\n",
    "def print_hist(row,colum):\n",
    "    print('Признак',colum)\n",
    "    print(row[colum].describe())\n",
    "    row[colum].hist(figsize=(15,9))\n",
    "    plt.show()\n",
    "    plt.figure(figsize=(15,9))\n",
    "    sns.boxplot(x = row[colum])"
   ]
  },
  {
   "cell_type": "markdown",
   "metadata": {},
   "source": [
    "####  Функция зависимости корреляции с целевым признаком"
   ]
  },
  {
   "cell_type": "code",
   "execution_count": 19,
   "metadata": {},
   "outputs": [],
   "source": [
    "# Функция зависимости корреляции с целевым признаком\n",
    "def corr_columns(row,columns_target,columns):\n",
    "    print(\"Оцениваю зависимость признака\",columns, \"От Целевого признака\",columns_target)\n",
    "    row.pivot_table(index=columns,values=columns_target,aggfunc='mean').plot()\n",
    "    plt.show()\n",
    "    \n",
    "\n"
   ]
  },
  {
   "cell_type": "markdown",
   "metadata": {},
   "source": [
    "#### Запуск функций"
   ]
  },
  {
   "cell_type": "code",
   "execution_count": 20,
   "metadata": {},
   "outputs": [],
   "source": [
    "# Определяю численые признаки\n",
    "num_columns = df.dtypes[df.dtypes!=\"object\"].index.values"
   ]
  },
  {
   "cell_type": "code",
   "execution_count": 21,
   "metadata": {
    "scrolled": false
   },
   "outputs": [
    {
     "name": "stdout",
     "output_type": "stream",
     "text": [
      "Признак Price\n",
      "count    354365.000000\n",
      "mean       4416.679830\n",
      "std        4514.176349\n",
      "min           0.000000\n",
      "25%        1050.000000\n",
      "50%        2700.000000\n",
      "75%        6400.000000\n",
      "max       20000.000000\n",
      "Name: Price, dtype: float64\n"
     ]
    },
    {
     "data": {
      "image/png": "[encoded data removed]",
      "text/plain": [
       "<Figure size 1080x648 with 1 Axes>"
      ]
     },
     "metadata": {
      "needs_background": "light"
     },
     "output_type": "display_data"
    },
    {
     "data": {
      "image/png": "[encoded data removed]",
      "text/plain": [
       "<Figure size 1080x648 with 1 Axes>"
      ]
     },
     "metadata": {
      "needs_background": "light"
     },
     "output_type": "display_data"
    },
    {
     "name": "stdout",
     "output_type": "stream",
     "text": [
      "Признак RegistrationYear\n",
      "count    354365.000000\n",
      "mean       2004.234481\n",
      "std          90.228466\n",
      "min        1000.000000\n",
      "25%        1999.000000\n",
      "50%        2003.000000\n",
      "75%        2008.000000\n",
      "max        9999.000000\n",
      "Name: RegistrationYear, dtype: float64\n"
     ]
    },
    {
     "data": {
      "image/png": "[encoded data removed]",
      "text/plain": [
       "<Figure size 1080x648 with 1 Axes>"
      ]
     },
     "metadata": {
      "needs_background": "light"
     },
     "output_type": "display_data"
    },
    {
     "data": {
      "image/png": "[encoded data removed]",
      "text/plain": [
       "<Figure size 1080x648 with 1 Axes>"
      ]
     },
     "metadata": {
      "needs_background": "light"
     },
     "output_type": "display_data"
    },
    {
     "name": "stdout",
     "output_type": "stream",
     "text": [
      "Признак Power\n",
      "count    354365.000000\n",
      "mean        110.093816\n",
      "std         189.851330\n",
      "min           0.000000\n",
      "25%          69.000000\n",
      "50%         105.000000\n",
      "75%         143.000000\n",
      "max       20000.000000\n",
      "Name: Power, dtype: float64\n"
     ]
    },
    {
     "data": {
      "image/png": "[encoded data removed]",
      "text/plain": [
       "<Figure size 1080x648 with 1 Axes>"
      ]
     },
     "metadata": {
      "needs_background": "light"
     },
     "output_type": "display_data"
    },
    {
     "data": {
      "image/png": "[encoded data removed]",
      "text/plain": [
       "<Figure size 1080x648 with 1 Axes>"
      ]
     },
     "metadata": {
      "needs_background": "light"
     },
     "output_type": "display_data"
    },
    {
     "name": "stdout",
     "output_type": "stream",
     "text": [
      "Признак Kilometer\n",
      "count    354365.000000\n",
      "mean     128211.363989\n",
      "std       37905.083858\n",
      "min        5000.000000\n",
      "25%      125000.000000\n",
      "50%      150000.000000\n",
      "75%      150000.000000\n",
      "max      150000.000000\n",
      "Name: Kilometer, dtype: float64\n"
     ]
    },
    {
     "data": {
      "image/png": "[encoded data removed]",
      "text/plain": [
       "<Figure size 1080x648 with 1 Axes>"
      ]
     },
     "metadata": {
      "needs_background": "light"
     },
     "output_type": "display_data"
    },
    {
     "data": {
      "image/png": "[encoded data removed]",
      "text/plain": [
       "<Figure size 1080x648 with 1 Axes>"
      ]
     },
     "metadata": {
      "needs_background": "light"
     },
     "output_type": "display_data"
    },
    {
     "name": "stdout",
     "output_type": "stream",
     "text": [
      "Признак RegistrationMonth\n",
      "count    354365.000000\n",
      "mean          5.714650\n",
      "std           3.726432\n",
      "min           0.000000\n",
      "25%           3.000000\n",
      "50%           6.000000\n",
      "75%           9.000000\n",
      "max          12.000000\n",
      "Name: RegistrationMonth, dtype: float64\n"
     ]
    },
    {
     "data": {
      "image/png": "[encoded data removed]",
      "text/plain": [
       "<Figure size 1080x648 with 1 Axes>"
      ]
     },
     "metadata": {
      "needs_background": "light"
     },
     "output_type": "display_data"
    },
    {
     "data": {
      "image/png": "[encoded data removed]",
      "text/plain": [
       "<Figure size 1080x648 with 1 Axes>"
      ]
     },
     "metadata": {
      "needs_background": "light"
     },
     "output_type": "display_data"
    },
    {
     "name": "stdout",
     "output_type": "stream",
     "text": [
      "Признак NumberOfPictures\n",
      "count    354365.0\n",
      "mean          0.0\n",
      "std           0.0\n",
      "min           0.0\n",
      "25%           0.0\n",
      "50%           0.0\n",
      "75%           0.0\n",
      "max           0.0\n",
      "Name: NumberOfPictures, dtype: float64\n"
     ]
    },
    {
     "data": {
      "image/png": "[encoded data removed]",
      "text/plain": [
       "<Figure size 1080x648 with 1 Axes>"
      ]
     },
     "metadata": {
      "needs_background": "light"
     },
     "output_type": "display_data"
    },
    {
     "data": {
      "image/png": "[encoded data removed]",
      "text/plain": [
       "<Figure size 1080x648 with 1 Axes>"
      ]
     },
     "metadata": {
      "needs_background": "light"
     },
     "output_type": "display_data"
    },
    {
     "name": "stdout",
     "output_type": "stream",
     "text": [
      "Признак PostalCode\n",
      "count    354365.000000\n",
      "mean      50508.503800\n",
      "std       25783.100078\n",
      "min        1067.000000\n",
      "25%       30165.000000\n",
      "50%       49413.000000\n",
      "75%       71083.000000\n",
      "max       99998.000000\n",
      "Name: PostalCode, dtype: float64\n"
     ]
    },
    {
     "data": {
      "image/png": "[encoded data removed]",
      "text/plain": [
       "<Figure size 1080x648 with 1 Axes>"
      ]
     },
     "metadata": {
      "needs_background": "light"
     },
     "output_type": "display_data"
    },
    {
     "data": {
      "image/png": "[encoded data removed]",
      "text/plain": [
       "<Figure size 1080x648 with 1 Axes>"
      ]
     },
     "metadata": {
      "needs_background": "light"
     },
     "output_type": "display_data"
    }
   ],
   "source": [
    "# функция print_hist\n",
    "for i in num_columns:\n",
    "    print_hist(df,i)\n",
    "    plt.show()\n",
    "\n",
    "#print_hist(df,'Price') "
   ]
  },
  {
   "cell_type": "code",
   "execution_count": 22,
   "metadata": {},
   "outputs": [
    {
     "data": {
      "text/plain": [
       "['RegistrationYear',\n",
       " 'Power',\n",
       " 'Kilometer',\n",
       " 'RegistrationMonth',\n",
       " 'NumberOfPictures',\n",
       " 'PostalCode']"
      ]
     },
     "execution_count": 22,
     "metadata": {},
     "output_type": "execute_result"
    }
   ],
   "source": [
    "\n",
    "new_num_columns=[]\n",
    "for i in num_columns:\n",
    "    if i=='Price':\n",
    "        i=i\n",
    "    else:\n",
    "        new_num_columns.append(i)\n",
    "new_num_columns"
   ]
  },
  {
   "cell_type": "code",
   "execution_count": 23,
   "metadata": {},
   "outputs": [
    {
     "data": {
      "text/plain": [
       "['RegistrationYear',\n",
       " 'Power',\n",
       " 'Kilometer',\n",
       " 'RegistrationMonth',\n",
       " 'NumberOfPictures',\n",
       " 'PostalCode']"
      ]
     },
     "execution_count": 23,
     "metadata": {},
     "output_type": "execute_result"
    }
   ],
   "source": [
    "# Чищу список, что бы целевой признак не попадался\n",
    "target='Price' #Задаю целевой признак\n",
    "new_num_columns = [i for i in num_columns if i != target]\n",
    "new_num_columns"
   ]
  },
  {
   "cell_type": "code",
   "execution_count": 24,
   "metadata": {
    "scrolled": false
   },
   "outputs": [
    {
     "name": "stdout",
     "output_type": "stream",
     "text": [
      "Оцениваю зависимость признака RegistrationYear От Целевого признака Price\n"
     ]
    },
    {
     "data": {
      "image/png": "[encoded data removed]",
      "text/plain": [
       "<Figure size 432x288 with 1 Axes>"
      ]
     },
     "metadata": {
      "needs_background": "light"
     },
     "output_type": "display_data"
    },
    {
     "name": "stdout",
     "output_type": "stream",
     "text": [
      "Оцениваю зависимость признака Power От Целевого признака Price\n"
     ]
    },
    {
     "data": {
      "image/png": "[encoded data removed]",
      "text/plain": [
       "<Figure size 432x288 with 1 Axes>"
      ]
     },
     "metadata": {
      "needs_background": "light"
     },
     "output_type": "display_data"
    },
    {
     "name": "stdout",
     "output_type": "stream",
     "text": [
      "Оцениваю зависимость признака Kilometer От Целевого признака Price\n"
     ]
    },
    {
     "data": {
      "image/png": "[encoded data removed]",
      "text/plain": [
       "<Figure size 432x288 with 1 Axes>"
      ]
     },
     "metadata": {
      "needs_background": "light"
     },
     "output_type": "display_data"
    },
    {
     "name": "stdout",
     "output_type": "stream",
     "text": [
      "Оцениваю зависимость признака RegistrationMonth От Целевого признака Price\n"
     ]
    },
    {
     "data": {
      "image/png": "[encoded data removed]",
      "text/plain": [
       "<Figure size 432x288 with 1 Axes>"
      ]
     },
     "metadata": {
      "needs_background": "light"
     },
     "output_type": "display_data"
    },
    {
     "name": "stdout",
     "output_type": "stream",
     "text": [
      "Оцениваю зависимость признака NumberOfPictures От Целевого признака Price\n"
     ]
    },
    {
     "data": {
      "image/png": "[encoded data removed]",
      "text/plain": [
       "<Figure size 432x288 with 1 Axes>"
      ]
     },
     "metadata": {
      "needs_background": "light"
     },
     "output_type": "display_data"
    },
    {
     "name": "stdout",
     "output_type": "stream",
     "text": [
      "Оцениваю зависимость признака PostalCode От Целевого признака Price\n"
     ]
    },
    {
     "data": {
      "image/png": "[encoded data removed]",
      "text/plain": [
       "<Figure size 432x288 with 1 Axes>"
      ]
     },
     "metadata": {
      "needs_background": "light"
     },
     "output_type": "display_data"
    }
   ],
   "source": [
    "# функция corr_columns(df,'VehicleType')\n",
    "\n",
    "for i in new_num_columns:\n",
    "    corr_columns(df,target,i)\n",
    "    plt.show()\n",
    "    "
   ]
  },
  {
   "cell_type": "markdown",
   "metadata": {},
   "source": [
    "### Рассмотрим аномальные значения"
   ]
  },
  {
   "cell_type": "markdown",
   "metadata": {},
   "source": [
    "Price - цена"
   ]
  },
  {
   "cell_type": "code",
   "execution_count": 25,
   "metadata": {},
   "outputs": [
    {
     "data": {
      "text/plain": [
       "<AxesSubplot:>"
      ]
     },
     "execution_count": 25,
     "metadata": {},
     "output_type": "execute_result"
    },
    {
     "data": {
      "image/png": "[encoded data removed]",
      "text/plain": [
       "<Figure size 432x288 with 1 Axes>"
      ]
     },
     "metadata": {
      "needs_background": "light"
     },
     "output_type": "display_data"
    }
   ],
   "source": [
    "df['Price'].hist(range=(0, 1000))"
   ]
  },
  {
   "cell_type": "markdown",
   "metadata": {},
   "source": [
    "Как видно очень много обьявлений с  маленькими ценами, автомобиль меньше 100 евро не может стоить. Так как фактическое состояние автомобили может быть очень плохим, по этому лучше удалить эти значения"
   ]
  },
  {
   "cell_type": "code",
   "execution_count": 26,
   "metadata": {},
   "outputs": [],
   "source": [
    "df=df.query('Price>99')"
   ]
  },
  {
   "cell_type": "markdown",
   "metadata": {},
   "source": [
    "Power -мощьность автомобиля в л.с"
   ]
  },
  {
   "cell_type": "code",
   "execution_count": 27,
   "metadata": {},
   "outputs": [
    {
     "data": {
      "text/plain": [
       "<AxesSubplot:>"
      ]
     },
     "execution_count": 27,
     "metadata": {},
     "output_type": "execute_result"
    },
    {
     "data": {
      "image/png": "[encoded data removed]",
      "text/plain": [
       "<Figure size 432x288 with 1 Axes>"
      ]
     },
     "metadata": {
      "needs_background": "light"
     },
     "output_type": "display_data"
    }
   ],
   "source": [
    "df['Power'].hist(range=(0, 50))"
   ]
  },
  {
   "cell_type": "code",
   "execution_count": 28,
   "metadata": {},
   "outputs": [
    {
     "data": {
      "text/plain": [
       "<AxesSubplot:>"
      ]
     },
     "execution_count": 28,
     "metadata": {},
     "output_type": "execute_result"
    },
    {
     "data": {
      "image/png": "[encoded data removed]",
      "text/plain": [
       "<Figure size 432x288 with 1 Axes>"
      ]
     },
     "metadata": {
      "needs_background": "light"
     },
     "output_type": "display_data"
    }
   ],
   "source": [
    "df['Power'].hist(range=(1000,1500))"
   ]
  },
  {
   "cell_type": "code",
   "execution_count": 29,
   "metadata": {
    "scrolled": true
   },
   "outputs": [
    {
     "data": {
      "text/plain": [
       "<AxesSubplot:>"
      ]
     },
     "execution_count": 29,
     "metadata": {},
     "output_type": "execute_result"
    },
    {
     "data": {
      "image/png": "[encoded data removed]",
      "text/plain": [
       "<Figure size 432x288 with 1 Axes>"
      ]
     },
     "metadata": {
      "needs_background": "light"
     },
     "output_type": "display_data"
    }
   ],
   "source": [
    "df['Power'].hist(range=(0,30))"
   ]
  },
  {
   "cell_type": "markdown",
   "metadata": {},
   "source": [
    "### Заполнение аномальных значений"
   ]
  },
  {
   "cell_type": "markdown",
   "metadata": {},
   "source": [
    "### Посмотрим на год регистрации автомобиля\n"
   ]
  },
  {
   "cell_type": "code",
   "execution_count": 30,
   "metadata": {},
   "outputs": [
    {
     "data": {
      "text/plain": [
       "array([1000, 1001, 1039, 1111, 1234, 1255, 1300, 1400, 1500, 1600, 1602,\n",
       "       1800, 1910, 1923, 1925, 1927, 1928, 1929, 1930, 1931, 1932, 1933,\n",
       "       1934, 1935, 1936, 1937, 1938, 1940, 1941, 1942, 1943, 1944, 1945,\n",
       "       1946, 1947, 1948, 1949, 1950, 1951, 1952, 1953, 1954, 1955, 1956,\n",
       "       1957, 1958, 1959, 1960, 1961, 1962, 1963, 1964, 1965, 1966, 1967,\n",
       "       1968, 1969, 1970, 1971, 1972, 1973, 1974, 1975, 1976, 1977, 1978,\n",
       "       1979, 1980, 1981, 1982, 1983, 1984, 1985, 1986, 1987, 1988, 1989,\n",
       "       1990, 1991, 1992, 1993, 1994, 1995, 1996, 1997, 1998, 1999, 2000,\n",
       "       2001, 2002, 2003, 2004, 2005, 2006, 2007, 2008, 2009, 2010, 2011,\n",
       "       2012, 2013, 2014, 2015, 2016, 2017, 2018, 2019, 2066, 2200, 2222,\n",
       "       2290, 2500, 2800, 2900, 3000, 3200, 3700, 3800, 4000, 4100, 4500,\n",
       "       4800, 5000, 5300, 5555, 5600, 5900, 5911, 6000, 7000, 7100, 7800,\n",
       "       8200, 8500, 8888, 9000, 9450, 9999])"
      ]
     },
     "execution_count": 30,
     "metadata": {},
     "output_type": "execute_result"
    }
   ],
   "source": [
    "\n",
    "df_RegistrationYear=df.sort_values(by='RegistrationYear')\n",
    "df_RegistrationYear['RegistrationYear'].unique()"
   ]
  },
  {
   "cell_type": "code",
   "execution_count": 31,
   "metadata": {},
   "outputs": [],
   "source": [
    "df = df.copy()"
   ]
  },
  {
   "cell_type": "code",
   "execution_count": 32,
   "metadata": {},
   "outputs": [],
   "source": [
    "df.loc[(df['RegistrationYear'] > 2020) | (df['RegistrationYear'] <= 1922), 'RegistrationYear'] = None"
   ]
  },
  {
   "cell_type": "code",
   "execution_count": 33,
   "metadata": {},
   "outputs": [
    {
     "data": {
      "text/plain": [
       "149"
      ]
     },
     "execution_count": 33,
     "metadata": {},
     "output_type": "execute_result"
    }
   ],
   "source": [
    "len(df[df['RegistrationYear'].isna()])"
   ]
  },
  {
   "cell_type": "code",
   "execution_count": 34,
   "metadata": {},
   "outputs": [],
   "source": [
    "df['RegistrationYear'] = df['RegistrationYear'].fillna(df.groupby(['VehicleType','Power','Model'])['RegistrationYear'].transform('mean'))"
   ]
  },
  {
   "cell_type": "code",
   "execution_count": 35,
   "metadata": {},
   "outputs": [
    {
     "data": {
      "text/plain": [
       "15"
      ]
     },
     "execution_count": 35,
     "metadata": {},
     "output_type": "execute_result"
    }
   ],
   "source": [
    "len(df[df['RegistrationYear'].isna()])"
   ]
  },
  {
   "cell_type": "code",
   "execution_count": 36,
   "metadata": {},
   "outputs": [],
   "source": [
    "df.loc[(df['RegistrationYear'] > 2020) | (df['RegistrationYear'] <= 1922), 'RegistrationYear'] = None\n",
    "df['RegistrationYear'] = df['RegistrationYear'].fillna(df.groupby(['Model'])['RegistrationYear'].transform('mean'))"
   ]
  },
  {
   "cell_type": "code",
   "execution_count": 37,
   "metadata": {},
   "outputs": [
    {
     "data": {
      "text/plain": [
       "0"
      ]
     },
     "execution_count": 37,
     "metadata": {},
     "output_type": "execute_result"
    }
   ],
   "source": [
    "len(df[df['RegistrationYear'].isna()])"
   ]
  },
  {
   "cell_type": "code",
   "execution_count": 38,
   "metadata": {},
   "outputs": [
    {
     "data": {
      "text/html": [
       "<div>\n",
       "<style scoped>\n",
       "    .dataframe tbody tr th:only-of-type {\n",
       "        vertical-align: middle;\n",
       "    }\n",
       "\n",
       "    .dataframe tbody tr th {\n",
       "        vertical-align: top;\n",
       "    }\n",
       "\n",
       "    .dataframe thead th {\n",
       "        text-align: right;\n",
       "    }\n",
       "</style>\n",
       "<table border=\"1\" class=\"dataframe\">\n",
       "  <thead>\n",
       "    <tr style=\"text-align: right;\">\n",
       "      <th></th>\n",
       "      <th>DateCrawled</th>\n",
       "      <th>Price</th>\n",
       "      <th>VehicleType</th>\n",
       "      <th>RegistrationYear</th>\n",
       "      <th>Gearbox</th>\n",
       "      <th>Power</th>\n",
       "      <th>Model</th>\n",
       "      <th>Kilometer</th>\n",
       "      <th>RegistrationMonth</th>\n",
       "      <th>FuelType</th>\n",
       "      <th>Brand</th>\n",
       "      <th>NotRepaired</th>\n",
       "      <th>DateCreated</th>\n",
       "      <th>NumberOfPictures</th>\n",
       "      <th>PostalCode</th>\n",
       "      <th>LastSeen</th>\n",
       "    </tr>\n",
       "  </thead>\n",
       "  <tbody>\n",
       "  </tbody>\n",
       "</table>\n",
       "</div>"
      ],
      "text/plain": [
       "Empty DataFrame\n",
       "Columns: [DateCrawled, Price, VehicleType, RegistrationYear, Gearbox, Power, Model, Kilometer, RegistrationMonth, FuelType, Brand, NotRepaired, DateCreated, NumberOfPictures, PostalCode, LastSeen]\n",
       "Index: []"
      ]
     },
     "execution_count": 38,
     "metadata": {},
     "output_type": "execute_result"
    }
   ],
   "source": [
    "df.query('RegistrationYear>2020 or RegistrationYear<1922')"
   ]
  },
  {
   "cell_type": "markdown",
   "metadata": {},
   "source": [
    "Как видно все возможные значения по году регистрации мы заполнили остались только неизвестные модели"
   ]
  },
  {
   "cell_type": "code",
   "execution_count": 39,
   "metadata": {},
   "outputs": [
    {
     "data": {
      "text/html": [
       "<div>\n",
       "<style scoped>\n",
       "    .dataframe tbody tr th:only-of-type {\n",
       "        vertical-align: middle;\n",
       "    }\n",
       "\n",
       "    .dataframe tbody tr th {\n",
       "        vertical-align: top;\n",
       "    }\n",
       "\n",
       "    .dataframe thead th {\n",
       "        text-align: right;\n",
       "    }\n",
       "</style>\n",
       "<table border=\"1\" class=\"dataframe\">\n",
       "  <thead>\n",
       "    <tr style=\"text-align: right;\">\n",
       "      <th></th>\n",
       "      <th>DateCrawled</th>\n",
       "      <th>Price</th>\n",
       "      <th>VehicleType</th>\n",
       "      <th>RegistrationYear</th>\n",
       "      <th>Gearbox</th>\n",
       "      <th>Power</th>\n",
       "      <th>Model</th>\n",
       "      <th>Kilometer</th>\n",
       "      <th>RegistrationMonth</th>\n",
       "      <th>FuelType</th>\n",
       "      <th>Brand</th>\n",
       "      <th>NotRepaired</th>\n",
       "      <th>DateCreated</th>\n",
       "      <th>NumberOfPictures</th>\n",
       "      <th>PostalCode</th>\n",
       "      <th>LastSeen</th>\n",
       "    </tr>\n",
       "  </thead>\n",
       "  <tbody>\n",
       "  </tbody>\n",
       "</table>\n",
       "</div>"
      ],
      "text/plain": [
       "Empty DataFrame\n",
       "Columns: [DateCrawled, Price, VehicleType, RegistrationYear, Gearbox, Power, Model, Kilometer, RegistrationMonth, FuelType, Brand, NotRepaired, DateCreated, NumberOfPictures, PostalCode, LastSeen]\n",
       "Index: []"
      ]
     },
     "execution_count": 39,
     "metadata": {},
     "output_type": "execute_result"
    }
   ],
   "source": [
    "df.loc[(df['RegistrationYear'].isna())]"
   ]
  },
  {
   "cell_type": "markdown",
   "metadata": {},
   "source": [
    "Проверю на сколько корректно заменились значения"
   ]
  },
  {
   "cell_type": "code",
   "execution_count": 40,
   "metadata": {},
   "outputs": [
    {
     "data": {
      "text/plain": [
       "array([1923.        , 1925.        , 1927.        , 1928.        ,\n",
       "       1929.        , 1930.        , 1931.        , 1932.        ,\n",
       "       1933.        , 1934.        , 1935.        , 1936.        ,\n",
       "       1937.        , 1938.        , 1940.        , 1941.        ,\n",
       "       1942.        , 1943.        , 1944.        , 1945.        ,\n",
       "       1946.        , 1947.        , 1948.        , 1949.        ,\n",
       "       1950.        , 1951.        , 1952.        , 1953.        ,\n",
       "       1954.        , 1955.        , 1956.        , 1957.        ,\n",
       "       1958.        , 1959.        , 1960.        , 1961.        ,\n",
       "       1962.        , 1963.        , 1964.        , 1965.        ,\n",
       "       1966.        , 1967.        , 1968.        , 1969.        ,\n",
       "       1970.        , 1971.        , 1972.        , 1973.        ,\n",
       "       1974.        , 1975.        , 1976.        , 1977.        ,\n",
       "       1978.        , 1979.        , 1980.        , 1980.11627907,\n",
       "       1981.        , 1982.        , 1982.6       , 1982.85714286,\n",
       "       1983.        , 1984.        , 1985.        , 1985.69158879,\n",
       "       1986.        , 1987.        , 1988.        , 1989.        ,\n",
       "       1990.        , 1991.        , 1992.        , 1993.        ,\n",
       "       1993.30136986, 1993.90820312, 1994.        , 1994.98300971,\n",
       "       1995.        , 1996.        , 1996.66666667, 1996.94736842,\n",
       "       1997.        , 1998.        , 1998.5       , 1998.86697248,\n",
       "       1999.        , 1999.31419084, 2000.        , 2000.28571429,\n",
       "       2001.        , 2001.36102236, 2001.44131455, 2001.74391101,\n",
       "       2002.        , 2002.09756098, 2002.754215  , 2003.        ,\n",
       "       2003.06666667, 2003.14603616, 2003.39130435, 2003.5       ,\n",
       "       2003.75      , 2004.        , 2004.06837607, 2004.5       ,\n",
       "       2005.        , 2005.375     , 2005.5       , 2005.69317236,\n",
       "       2006.        , 2006.48706897, 2007.        , 2007.22336329,\n",
       "       2007.875     , 2008.        , 2008.54782609, 2008.59598854,\n",
       "       2009.        , 2009.02222222, 2009.19787234, 2009.24338624,\n",
       "       2009.40764331, 2009.4516129 , 2009.9625    , 2009.96529968,\n",
       "       2010.        , 2010.26470588, 2010.375     , 2010.39417476,\n",
       "       2010.71428571, 2010.76491228, 2011.        , 2011.23976608,\n",
       "       2011.43589744, 2011.5862069 , 2011.67973856, 2011.71165644,\n",
       "       2011.90697674, 2012.        , 2012.13      , 2012.48586118,\n",
       "       2012.62962963, 2012.78181818, 2012.8       , 2012.87837838,\n",
       "       2013.        , 2013.51219512, 2014.        , 2014.25      ,\n",
       "       2015.        , 2015.16666667, 2016.        , 2017.        ,\n",
       "       2018.        , 2019.        ])"
      ]
     },
     "execution_count": 40,
     "metadata": {},
     "output_type": "execute_result"
    }
   ],
   "source": [
    "df_RegistrationYear=df.sort_values(by='RegistrationYear')\n",
    "df_RegistrationYear['RegistrationYear'].unique()"
   ]
  },
  {
   "cell_type": "markdown",
   "metadata": {},
   "source": [
    "Значения изминились на дробные, на обучение это не повлияет"
   ]
  },
  {
   "cell_type": "code",
   "execution_count": 41,
   "metadata": {},
   "outputs": [],
   "source": [
    "# Удалю аномальные значения года выпуска автомобиля\n",
    "df=df.dropna(subset=['RegistrationYear'])"
   ]
  },
  {
   "cell_type": "markdown",
   "metadata": {},
   "source": [
    "### Посмотрим на мощьность"
   ]
  },
  {
   "cell_type": "code",
   "execution_count": 42,
   "metadata": {},
   "outputs": [],
   "source": [
    "df['RegistrationYear'] = df['RegistrationYear'].fillna(df.groupby(['Model'])['Power'].transform('mean'))"
   ]
  },
  {
   "cell_type": "code",
   "execution_count": 43,
   "metadata": {},
   "outputs": [
    {
     "data": {
      "text/plain": [
       "0"
      ]
     },
     "execution_count": 43,
     "metadata": {},
     "output_type": "execute_result"
    }
   ],
   "source": [
    "len(df[df['RegistrationYear'].isna()])"
   ]
  },
  {
   "cell_type": "markdown",
   "metadata": {},
   "source": [
    "Видно что имеются анамальные значения Power заменим их на медиану по аналогичным автомобилям"
   ]
  },
  {
   "cell_type": "code",
   "execution_count": 44,
   "metadata": {},
   "outputs": [],
   "source": [
    "df.loc[(df['Power'] > 1000) | (df['Power'] <= 10), 'Power'] = None"
   ]
  },
  {
   "cell_type": "code",
   "execution_count": 45,
   "metadata": {},
   "outputs": [
    {
     "data": {
      "text/html": [
       "<div>\n",
       "<style scoped>\n",
       "    .dataframe tbody tr th:only-of-type {\n",
       "        vertical-align: middle;\n",
       "    }\n",
       "\n",
       "    .dataframe tbody tr th {\n",
       "        vertical-align: top;\n",
       "    }\n",
       "\n",
       "    .dataframe thead th {\n",
       "        text-align: right;\n",
       "    }\n",
       "</style>\n",
       "<table border=\"1\" class=\"dataframe\">\n",
       "  <thead>\n",
       "    <tr style=\"text-align: right;\">\n",
       "      <th></th>\n",
       "      <th>DateCrawled</th>\n",
       "      <th>Price</th>\n",
       "      <th>VehicleType</th>\n",
       "      <th>RegistrationYear</th>\n",
       "      <th>Gearbox</th>\n",
       "      <th>Power</th>\n",
       "      <th>Model</th>\n",
       "      <th>Kilometer</th>\n",
       "      <th>RegistrationMonth</th>\n",
       "      <th>FuelType</th>\n",
       "      <th>Brand</th>\n",
       "      <th>NotRepaired</th>\n",
       "      <th>DateCreated</th>\n",
       "      <th>NumberOfPictures</th>\n",
       "      <th>PostalCode</th>\n",
       "      <th>LastSeen</th>\n",
       "    </tr>\n",
       "  </thead>\n",
       "  <tbody>\n",
       "    <tr>\n",
       "      <th>0</th>\n",
       "      <td>2016-03-24 11:52:17</td>\n",
       "      <td>480</td>\n",
       "      <td>unknown</td>\n",
       "      <td>1993.000000</td>\n",
       "      <td>manual</td>\n",
       "      <td>NaN</td>\n",
       "      <td>golf</td>\n",
       "      <td>150000</td>\n",
       "      <td>0</td>\n",
       "      <td>petrol</td>\n",
       "      <td>volkswagen</td>\n",
       "      <td>unknown</td>\n",
       "      <td>2016-03-24 00:00:00</td>\n",
       "      <td>0</td>\n",
       "      <td>70435</td>\n",
       "      <td>2016-04-07 03:16:57</td>\n",
       "    </tr>\n",
       "    <tr>\n",
       "      <th>15</th>\n",
       "      <td>2016-03-11 21:39:15</td>\n",
       "      <td>450</td>\n",
       "      <td>small</td>\n",
       "      <td>2001.361022</td>\n",
       "      <td>unknown</td>\n",
       "      <td>NaN</td>\n",
       "      <td>ka</td>\n",
       "      <td>5000</td>\n",
       "      <td>0</td>\n",
       "      <td>petrol</td>\n",
       "      <td>ford</td>\n",
       "      <td>unknown</td>\n",
       "      <td>2016-03-11 00:00:00</td>\n",
       "      <td>0</td>\n",
       "      <td>24148</td>\n",
       "      <td>2016-03-19 08:46:47</td>\n",
       "    </tr>\n",
       "    <tr>\n",
       "      <th>32</th>\n",
       "      <td>2016-03-15 20:59:01</td>\n",
       "      <td>245</td>\n",
       "      <td>sedan</td>\n",
       "      <td>1994.000000</td>\n",
       "      <td>unknown</td>\n",
       "      <td>NaN</td>\n",
       "      <td>golf</td>\n",
       "      <td>150000</td>\n",
       "      <td>2</td>\n",
       "      <td>petrol</td>\n",
       "      <td>volkswagen</td>\n",
       "      <td>no</td>\n",
       "      <td>2016-03-15 00:00:00</td>\n",
       "      <td>0</td>\n",
       "      <td>44145</td>\n",
       "      <td>2016-03-17 18:17:43</td>\n",
       "    </tr>\n",
       "    <tr>\n",
       "      <th>37</th>\n",
       "      <td>2016-03-28 17:50:15</td>\n",
       "      <td>1500</td>\n",
       "      <td>unknown</td>\n",
       "      <td>2016.000000</td>\n",
       "      <td>unknown</td>\n",
       "      <td>NaN</td>\n",
       "      <td>kangoo</td>\n",
       "      <td>150000</td>\n",
       "      <td>1</td>\n",
       "      <td>gasoline</td>\n",
       "      <td>renault</td>\n",
       "      <td>no</td>\n",
       "      <td>2016-03-28 00:00:00</td>\n",
       "      <td>0</td>\n",
       "      <td>46483</td>\n",
       "      <td>2016-03-30 09:18:02</td>\n",
       "    </tr>\n",
       "    <tr>\n",
       "      <th>54</th>\n",
       "      <td>2016-03-17 07:56:40</td>\n",
       "      <td>4700</td>\n",
       "      <td>wagon</td>\n",
       "      <td>2005.000000</td>\n",
       "      <td>manual</td>\n",
       "      <td>NaN</td>\n",
       "      <td>signum</td>\n",
       "      <td>150000</td>\n",
       "      <td>0</td>\n",
       "      <td>unknown</td>\n",
       "      <td>opel</td>\n",
       "      <td>no</td>\n",
       "      <td>2016-03-17 00:00:00</td>\n",
       "      <td>0</td>\n",
       "      <td>88433</td>\n",
       "      <td>2016-04-04 04:17:32</td>\n",
       "    </tr>\n",
       "    <tr>\n",
       "      <th>...</th>\n",
       "      <td>...</td>\n",
       "      <td>...</td>\n",
       "      <td>...</td>\n",
       "      <td>...</td>\n",
       "      <td>...</td>\n",
       "      <td>...</td>\n",
       "      <td>...</td>\n",
       "      <td>...</td>\n",
       "      <td>...</td>\n",
       "      <td>...</td>\n",
       "      <td>...</td>\n",
       "      <td>...</td>\n",
       "      <td>...</td>\n",
       "      <td>...</td>\n",
       "      <td>...</td>\n",
       "      <td>...</td>\n",
       "    </tr>\n",
       "    <tr>\n",
       "      <th>354334</th>\n",
       "      <td>2016-03-31 19:52:33</td>\n",
       "      <td>180</td>\n",
       "      <td>unknown</td>\n",
       "      <td>1995.000000</td>\n",
       "      <td>unknown</td>\n",
       "      <td>NaN</td>\n",
       "      <td>unknown</td>\n",
       "      <td>125000</td>\n",
       "      <td>3</td>\n",
       "      <td>petrol</td>\n",
       "      <td>opel</td>\n",
       "      <td>unknown</td>\n",
       "      <td>2016-03-31 00:00:00</td>\n",
       "      <td>0</td>\n",
       "      <td>41470</td>\n",
       "      <td>2016-04-06 14:18:04</td>\n",
       "    </tr>\n",
       "    <tr>\n",
       "      <th>354342</th>\n",
       "      <td>2016-03-07 17:06:35</td>\n",
       "      <td>2600</td>\n",
       "      <td>unknown</td>\n",
       "      <td>2005.000000</td>\n",
       "      <td>auto</td>\n",
       "      <td>NaN</td>\n",
       "      <td>c_klasse</td>\n",
       "      <td>150000</td>\n",
       "      <td>9</td>\n",
       "      <td>unknown</td>\n",
       "      <td>mercedes_benz</td>\n",
       "      <td>unknown</td>\n",
       "      <td>2016-03-07 00:00:00</td>\n",
       "      <td>0</td>\n",
       "      <td>61169</td>\n",
       "      <td>2016-03-08 21:28:38</td>\n",
       "    </tr>\n",
       "    <tr>\n",
       "      <th>354356</th>\n",
       "      <td>2016-04-02 20:37:03</td>\n",
       "      <td>3999</td>\n",
       "      <td>wagon</td>\n",
       "      <td>2005.000000</td>\n",
       "      <td>manual</td>\n",
       "      <td>NaN</td>\n",
       "      <td>3er</td>\n",
       "      <td>150000</td>\n",
       "      <td>5</td>\n",
       "      <td>gasoline</td>\n",
       "      <td>bmw</td>\n",
       "      <td>no</td>\n",
       "      <td>2016-04-02 00:00:00</td>\n",
       "      <td>0</td>\n",
       "      <td>81825</td>\n",
       "      <td>2016-04-06 20:47:12</td>\n",
       "    </tr>\n",
       "    <tr>\n",
       "      <th>354359</th>\n",
       "      <td>2016-03-27 20:36:20</td>\n",
       "      <td>1150</td>\n",
       "      <td>bus</td>\n",
       "      <td>2000.000000</td>\n",
       "      <td>manual</td>\n",
       "      <td>NaN</td>\n",
       "      <td>zafira</td>\n",
       "      <td>150000</td>\n",
       "      <td>3</td>\n",
       "      <td>petrol</td>\n",
       "      <td>opel</td>\n",
       "      <td>no</td>\n",
       "      <td>2016-03-27 00:00:00</td>\n",
       "      <td>0</td>\n",
       "      <td>26624</td>\n",
       "      <td>2016-03-29 10:17:23</td>\n",
       "    </tr>\n",
       "    <tr>\n",
       "      <th>354361</th>\n",
       "      <td>2016-03-14 17:48:27</td>\n",
       "      <td>2200</td>\n",
       "      <td>unknown</td>\n",
       "      <td>2005.000000</td>\n",
       "      <td>unknown</td>\n",
       "      <td>NaN</td>\n",
       "      <td>unknown</td>\n",
       "      <td>20000</td>\n",
       "      <td>1</td>\n",
       "      <td>unknown</td>\n",
       "      <td>sonstige_autos</td>\n",
       "      <td>unknown</td>\n",
       "      <td>2016-03-14 00:00:00</td>\n",
       "      <td>0</td>\n",
       "      <td>39576</td>\n",
       "      <td>2016-04-06 00:46:52</td>\n",
       "    </tr>\n",
       "  </tbody>\n",
       "</table>\n",
       "<p>35559 rows × 16 columns</p>\n",
       "</div>"
      ],
      "text/plain": [
       "                DateCrawled  Price VehicleType  RegistrationYear  Gearbox  \\\n",
       "0       2016-03-24 11:52:17    480     unknown       1993.000000   manual   \n",
       "15      2016-03-11 21:39:15    450       small       2001.361022  unknown   \n",
       "32      2016-03-15 20:59:01    245       sedan       1994.000000  unknown   \n",
       "37      2016-03-28 17:50:15   1500     unknown       2016.000000  unknown   \n",
       "54      2016-03-17 07:56:40   4700       wagon       2005.000000   manual   \n",
       "...                     ...    ...         ...               ...      ...   \n",
       "354334  2016-03-31 19:52:33    180     unknown       1995.000000  unknown   \n",
       "354342  2016-03-07 17:06:35   2600     unknown       2005.000000     auto   \n",
       "354356  2016-04-02 20:37:03   3999       wagon       2005.000000   manual   \n",
       "354359  2016-03-27 20:36:20   1150         bus       2000.000000   manual   \n",
       "354361  2016-03-14 17:48:27   2200     unknown       2005.000000  unknown   \n",
       "\n",
       "        Power     Model  Kilometer  RegistrationMonth  FuelType  \\\n",
       "0         NaN      golf     150000                  0    petrol   \n",
       "15        NaN        ka       5000                  0    petrol   \n",
       "32        NaN      golf     150000                  2    petrol   \n",
       "37        NaN    kangoo     150000                  1  gasoline   \n",
       "54        NaN    signum     150000                  0   unknown   \n",
       "...       ...       ...        ...                ...       ...   \n",
       "354334    NaN   unknown     125000                  3    petrol   \n",
       "354342    NaN  c_klasse     150000                  9   unknown   \n",
       "354356    NaN       3er     150000                  5  gasoline   \n",
       "354359    NaN    zafira     150000                  3    petrol   \n",
       "354361    NaN   unknown      20000                  1   unknown   \n",
       "\n",
       "                 Brand NotRepaired          DateCreated  NumberOfPictures  \\\n",
       "0           volkswagen     unknown  2016-03-24 00:00:00                 0   \n",
       "15                ford     unknown  2016-03-11 00:00:00                 0   \n",
       "32          volkswagen          no  2016-03-15 00:00:00                 0   \n",
       "37             renault          no  2016-03-28 00:00:00                 0   \n",
       "54                opel          no  2016-03-17 00:00:00                 0   \n",
       "...                ...         ...                  ...               ...   \n",
       "354334            opel     unknown  2016-03-31 00:00:00                 0   \n",
       "354342   mercedes_benz     unknown  2016-03-07 00:00:00                 0   \n",
       "354356             bmw          no  2016-04-02 00:00:00                 0   \n",
       "354359            opel          no  2016-03-27 00:00:00                 0   \n",
       "354361  sonstige_autos     unknown  2016-03-14 00:00:00                 0   \n",
       "\n",
       "        PostalCode             LastSeen  \n",
       "0            70435  2016-04-07 03:16:57  \n",
       "15           24148  2016-03-19 08:46:47  \n",
       "32           44145  2016-03-17 18:17:43  \n",
       "37           46483  2016-03-30 09:18:02  \n",
       "54           88433  2016-04-04 04:17:32  \n",
       "...            ...                  ...  \n",
       "354334       41470  2016-04-06 14:18:04  \n",
       "354342       61169  2016-03-08 21:28:38  \n",
       "354356       81825  2016-04-06 20:47:12  \n",
       "354359       26624  2016-03-29 10:17:23  \n",
       "354361       39576  2016-04-06 00:46:52  \n",
       "\n",
       "[35559 rows x 16 columns]"
      ]
     },
     "execution_count": 45,
     "metadata": {},
     "output_type": "execute_result"
    }
   ],
   "source": [
    "df[df['Power'].isna()]"
   ]
  },
  {
   "cell_type": "markdown",
   "metadata": {},
   "source": [
    "За счет уменьшения влияющих признаков, заменю аномальные значения на более провдаподобные мощьности 'VehicleType','RegistrationYear','Model','FuelType'"
   ]
  },
  {
   "cell_type": "code",
   "execution_count": 46,
   "metadata": {},
   "outputs": [
    {
     "data": {
      "text/plain": [
       "35559"
      ]
     },
     "execution_count": 46,
     "metadata": {},
     "output_type": "execute_result"
    }
   ],
   "source": [
    "len(df[df['Power'].isna()])"
   ]
  },
  {
   "cell_type": "code",
   "execution_count": 47,
   "metadata": {},
   "outputs": [],
   "source": [
    "df['Power'] = df['Power'].fillna(df.groupby(['VehicleType','RegistrationYear','Model','FuelType'])['Power'].transform('median'))"
   ]
  },
  {
   "cell_type": "code",
   "execution_count": 48,
   "metadata": {},
   "outputs": [
    {
     "data": {
      "text/plain": [
       "2858"
      ]
     },
     "execution_count": 48,
     "metadata": {},
     "output_type": "execute_result"
    }
   ],
   "source": [
    "len(df[df['Power'].isna()])"
   ]
  },
  {
   "cell_type": "code",
   "execution_count": 49,
   "metadata": {},
   "outputs": [],
   "source": [
    "df['Power'] = df['Power'].fillna(df.groupby(['VehicleType','Model','FuelType'])['Power'].transform('median'))"
   ]
  },
  {
   "cell_type": "code",
   "execution_count": 50,
   "metadata": {},
   "outputs": [
    {
     "data": {
      "text/plain": [
       "320"
      ]
     },
     "execution_count": 50,
     "metadata": {},
     "output_type": "execute_result"
    }
   ],
   "source": [
    "len(df[df['Power'].isna()])"
   ]
  },
  {
   "cell_type": "code",
   "execution_count": 51,
   "metadata": {},
   "outputs": [],
   "source": [
    "df['Power'] = df['Power'].fillna(df.groupby(['VehicleType','Model'])['Power'].transform('median'))"
   ]
  },
  {
   "cell_type": "code",
   "execution_count": 52,
   "metadata": {},
   "outputs": [
    {
     "data": {
      "text/plain": [
       "130"
      ]
     },
     "execution_count": 52,
     "metadata": {},
     "output_type": "execute_result"
    }
   ],
   "source": [
    "len(df[df['Power'].isna()])"
   ]
  },
  {
   "cell_type": "code",
   "execution_count": 53,
   "metadata": {},
   "outputs": [],
   "source": [
    "df['Power'] = df['Power'].fillna(df.groupby(['Model'])['Power'].transform('median'))"
   ]
  },
  {
   "cell_type": "code",
   "execution_count": 54,
   "metadata": {},
   "outputs": [
    {
     "data": {
      "text/plain": [
       "1"
      ]
     },
     "execution_count": 54,
     "metadata": {},
     "output_type": "execute_result"
    }
   ],
   "source": [
    "len(df[df['Power'].isna()])"
   ]
  },
  {
   "cell_type": "code",
   "execution_count": 55,
   "metadata": {},
   "outputs": [],
   "source": [
    "# Удалю пропуски\n",
    "df=df.dropna(subset=['Power'])"
   ]
  },
  {
   "cell_type": "markdown",
   "metadata": {},
   "source": [
    "В интернете нашел автомобили с минимальной мощьностью в л.с и там значения больше 10л.с, по этому значения меньше 10 л.с удаляю"
   ]
  },
  {
   "cell_type": "code",
   "execution_count": 56,
   "metadata": {},
   "outputs": [],
   "source": [
    "df=df.query('Power>10')"
   ]
  },
  {
   "cell_type": "code",
   "execution_count": 57,
   "metadata": {},
   "outputs": [
    {
     "data": {
      "text/plain": [
       "<AxesSubplot:>"
      ]
     },
     "execution_count": 57,
     "metadata": {},
     "output_type": "execute_result"
    },
    {
     "data": {
      "image/png": "[encoded data removed]",
      "text/plain": [
       "<Figure size 432x288 with 1 Axes>"
      ]
     },
     "metadata": {
      "needs_background": "light"
     },
     "output_type": "display_data"
    }
   ],
   "source": [
    "df['Power'].hist(range=(0, 50))"
   ]
  },
  {
   "cell_type": "markdown",
   "metadata": {},
   "source": [
    "### Кодирование признаков Ordinal Encoding"
   ]
  },
  {
   "cell_type": "code",
   "execution_count": 58,
   "metadata": {},
   "outputs": [],
   "source": [
    "df = df.copy()\n",
    "df = df.drop(['DateCrawled','DateCreated','NumberOfPictures','PostalCode','LastSeen'], axis=1) # извлеките признаки "
   ]
  },
  {
   "cell_type": "code",
   "execution_count": 59,
   "metadata": {},
   "outputs": [],
   "source": [
    "encoder = OrdinalEncoder()\n",
    "df1 = df.copy()\n",
    "cat_list = ['VehicleType','Gearbox','Model','NotRepaired','FuelType','Brand']\n",
    "df1.loc[:,cat_list] =encoder.fit_transform(df1.loc[:,cat_list])\n"
   ]
  },
  {
   "cell_type": "code",
   "execution_count": 60,
   "metadata": {},
   "outputs": [
    {
     "data": {
      "text/plain": [
       "<AxesSubplot:>"
      ]
     },
     "execution_count": 60,
     "metadata": {},
     "output_type": "execute_result"
    },
    {
     "data": {
      "image/png": "[encoded data removed]",
      "text/plain": [
       "<Figure size 432x288 with 1 Axes>"
      ]
     },
     "metadata": {
      "needs_background": "light"
     },
     "output_type": "display_data"
    }
   ],
   "source": [
    "df1['Price'].hist()"
   ]
  },
  {
   "cell_type": "markdown",
   "metadata": {},
   "source": [
    "## Обучение моделей"
   ]
  },
  {
   "cell_type": "markdown",
   "metadata": {},
   "source": [
    "### Разделяю признаки"
   ]
  },
  {
   "cell_type": "code",
   "execution_count": 61,
   "metadata": {},
   "outputs": [],
   "source": [
    "target = df1['Price']\n",
    "\n",
    "features = df1.drop(['Price'], axis=1)\n",
    "\n",
    "features_train, features_test_valid1, target_train, target_test_valid1 = train_test_split(features, target, \n",
    "                                                                              test_size=0.4, \n",
    "                                                                              random_state=12345)\n",
    "# ОБУЧАЮЩИЮ ВЫБОРКУ Делю на валидную и тестовую выборку\n",
    "features_test_valid, features_valid, target_test_valid, target_valid = train_test_split(features_test_valid1, target_test_valid1, \n",
    "                                                                              test_size=0.5, \n",
    "                                                                              random_state=12345)"
   ]
  },
  {
   "cell_type": "code",
   "execution_count": 62,
   "metadata": {},
   "outputs": [
    {
     "name": "stdout",
     "output_type": "stream",
     "text": [
      "(204630, 10)\n",
      "(68210, 10)\n",
      "(204630,)\n",
      "(68210,)\n",
      "(68210, 10)\n",
      "(68210,)\n"
     ]
    }
   ],
   "source": [
    "for i in [features_train, features_valid, target_train, target_valid,features_test_valid,target_test_valid]:\n",
    "    print(i.shape)"
   ]
  },
  {
   "cell_type": "code",
   "execution_count": 63,
   "metadata": {},
   "outputs": [
    {
     "data": {
      "text/plain": [
       "(341050, 11)"
      ]
     },
     "execution_count": 63,
     "metadata": {},
     "output_type": "execute_result"
    }
   ],
   "source": [
    "df1.shape"
   ]
  },
  {
   "cell_type": "code",
   "execution_count": 64,
   "metadata": {},
   "outputs": [
    {
     "data": {
      "text/plain": [
       "(341050, 11)"
      ]
     },
     "execution_count": 64,
     "metadata": {},
     "output_type": "execute_result"
    }
   ],
   "source": [
    "df.shape"
   ]
  },
  {
   "cell_type": "markdown",
   "metadata": {},
   "source": [
    "### Подготовка данных для линейной регрессии"
   ]
  },
  {
   "cell_type": "markdown",
   "metadata": {},
   "source": [
    "#### Кодирование признаков OHE"
   ]
  },
  {
   "cell_type": "code",
   "execution_count": 65,
   "metadata": {},
   "outputs": [
    {
     "data": {
      "text/html": [
       "<div>\n",
       "<style scoped>\n",
       "    .dataframe tbody tr th:only-of-type {\n",
       "        vertical-align: middle;\n",
       "    }\n",
       "\n",
       "    .dataframe tbody tr th {\n",
       "        vertical-align: top;\n",
       "    }\n",
       "\n",
       "    .dataframe thead th {\n",
       "        text-align: right;\n",
       "    }\n",
       "</style>\n",
       "<table border=\"1\" class=\"dataframe\">\n",
       "  <thead>\n",
       "    <tr style=\"text-align: right;\">\n",
       "      <th></th>\n",
       "      <th>Price</th>\n",
       "      <th>Power</th>\n",
       "      <th>RegistrationYear</th>\n",
       "      <th>Kilometer</th>\n",
       "      <th>VehicleType_convertible</th>\n",
       "      <th>VehicleType_coupe</th>\n",
       "      <th>VehicleType_other</th>\n",
       "      <th>VehicleType_sedan</th>\n",
       "      <th>VehicleType_small</th>\n",
       "      <th>VehicleType_suv</th>\n",
       "      <th>...</th>\n",
       "      <th>Brand_smart</th>\n",
       "      <th>Brand_sonstige_autos</th>\n",
       "      <th>Brand_subaru</th>\n",
       "      <th>Brand_suzuki</th>\n",
       "      <th>Brand_toyota</th>\n",
       "      <th>Brand_trabant</th>\n",
       "      <th>Brand_volkswagen</th>\n",
       "      <th>Brand_volvo</th>\n",
       "      <th>NotRepaired_unknown</th>\n",
       "      <th>NotRepaired_yes</th>\n",
       "    </tr>\n",
       "  </thead>\n",
       "  <tbody>\n",
       "    <tr>\n",
       "      <th>0</th>\n",
       "      <td>480</td>\n",
       "      <td>98.0</td>\n",
       "      <td>1993.0</td>\n",
       "      <td>150000</td>\n",
       "      <td>0</td>\n",
       "      <td>0</td>\n",
       "      <td>0</td>\n",
       "      <td>0</td>\n",
       "      <td>0</td>\n",
       "      <td>0</td>\n",
       "      <td>...</td>\n",
       "      <td>0</td>\n",
       "      <td>0</td>\n",
       "      <td>0</td>\n",
       "      <td>0</td>\n",
       "      <td>0</td>\n",
       "      <td>0</td>\n",
       "      <td>1</td>\n",
       "      <td>0</td>\n",
       "      <td>1</td>\n",
       "      <td>0</td>\n",
       "    </tr>\n",
       "    <tr>\n",
       "      <th>1</th>\n",
       "      <td>18300</td>\n",
       "      <td>190.0</td>\n",
       "      <td>2011.0</td>\n",
       "      <td>125000</td>\n",
       "      <td>0</td>\n",
       "      <td>1</td>\n",
       "      <td>0</td>\n",
       "      <td>0</td>\n",
       "      <td>0</td>\n",
       "      <td>0</td>\n",
       "      <td>...</td>\n",
       "      <td>0</td>\n",
       "      <td>0</td>\n",
       "      <td>0</td>\n",
       "      <td>0</td>\n",
       "      <td>0</td>\n",
       "      <td>0</td>\n",
       "      <td>0</td>\n",
       "      <td>0</td>\n",
       "      <td>0</td>\n",
       "      <td>1</td>\n",
       "    </tr>\n",
       "    <tr>\n",
       "      <th>2</th>\n",
       "      <td>9800</td>\n",
       "      <td>163.0</td>\n",
       "      <td>2004.0</td>\n",
       "      <td>125000</td>\n",
       "      <td>0</td>\n",
       "      <td>0</td>\n",
       "      <td>0</td>\n",
       "      <td>0</td>\n",
       "      <td>0</td>\n",
       "      <td>1</td>\n",
       "      <td>...</td>\n",
       "      <td>0</td>\n",
       "      <td>0</td>\n",
       "      <td>0</td>\n",
       "      <td>0</td>\n",
       "      <td>0</td>\n",
       "      <td>0</td>\n",
       "      <td>0</td>\n",
       "      <td>0</td>\n",
       "      <td>1</td>\n",
       "      <td>0</td>\n",
       "    </tr>\n",
       "    <tr>\n",
       "      <th>3</th>\n",
       "      <td>1500</td>\n",
       "      <td>75.0</td>\n",
       "      <td>2001.0</td>\n",
       "      <td>150000</td>\n",
       "      <td>0</td>\n",
       "      <td>0</td>\n",
       "      <td>0</td>\n",
       "      <td>0</td>\n",
       "      <td>1</td>\n",
       "      <td>0</td>\n",
       "      <td>...</td>\n",
       "      <td>0</td>\n",
       "      <td>0</td>\n",
       "      <td>0</td>\n",
       "      <td>0</td>\n",
       "      <td>0</td>\n",
       "      <td>0</td>\n",
       "      <td>1</td>\n",
       "      <td>0</td>\n",
       "      <td>0</td>\n",
       "      <td>0</td>\n",
       "    </tr>\n",
       "    <tr>\n",
       "      <th>4</th>\n",
       "      <td>3600</td>\n",
       "      <td>69.0</td>\n",
       "      <td>2008.0</td>\n",
       "      <td>90000</td>\n",
       "      <td>0</td>\n",
       "      <td>0</td>\n",
       "      <td>0</td>\n",
       "      <td>0</td>\n",
       "      <td>1</td>\n",
       "      <td>0</td>\n",
       "      <td>...</td>\n",
       "      <td>0</td>\n",
       "      <td>0</td>\n",
       "      <td>0</td>\n",
       "      <td>0</td>\n",
       "      <td>0</td>\n",
       "      <td>0</td>\n",
       "      <td>0</td>\n",
       "      <td>0</td>\n",
       "      <td>0</td>\n",
       "      <td>0</td>\n",
       "    </tr>\n",
       "  </tbody>\n",
       "</table>\n",
       "<p>5 rows × 304 columns</p>\n",
       "</div>"
      ],
      "text/plain": [
       "   Price  Power  RegistrationYear  Kilometer  VehicleType_convertible  \\\n",
       "0    480   98.0            1993.0     150000                        0   \n",
       "1  18300  190.0            2011.0     125000                        0   \n",
       "2   9800  163.0            2004.0     125000                        0   \n",
       "3   1500   75.0            2001.0     150000                        0   \n",
       "4   3600   69.0            2008.0      90000                        0   \n",
       "\n",
       "   VehicleType_coupe  VehicleType_other  VehicleType_sedan  VehicleType_small  \\\n",
       "0                  0                  0                  0                  0   \n",
       "1                  1                  0                  0                  0   \n",
       "2                  0                  0                  0                  0   \n",
       "3                  0                  0                  0                  1   \n",
       "4                  0                  0                  0                  1   \n",
       "\n",
       "   VehicleType_suv  ...  Brand_smart  Brand_sonstige_autos  Brand_subaru  \\\n",
       "0                0  ...            0                     0             0   \n",
       "1                0  ...            0                     0             0   \n",
       "2                1  ...            0                     0             0   \n",
       "3                0  ...            0                     0             0   \n",
       "4                0  ...            0                     0             0   \n",
       "\n",
       "   Brand_suzuki  Brand_toyota  Brand_trabant  Brand_volkswagen  Brand_volvo  \\\n",
       "0             0             0              0                 1            0   \n",
       "1             0             0              0                 0            0   \n",
       "2             0             0              0                 0            0   \n",
       "3             0             0              0                 1            0   \n",
       "4             0             0              0                 0            0   \n",
       "\n",
       "   NotRepaired_unknown  NotRepaired_yes  \n",
       "0                    1                0  \n",
       "1                    0                1  \n",
       "2                    1                0  \n",
       "3                    0                0  \n",
       "4                    0                0  \n",
       "\n",
       "[5 rows x 304 columns]"
      ]
     },
     "execution_count": 65,
     "metadata": {},
     "output_type": "execute_result"
    }
   ],
   "source": [
    "### Кодирование признаков OHE\n",
    "data=df[['Price','VehicleType','Gearbox','Model','Brand','NotRepaired','Power','RegistrationYear','Kilometer']]\n",
    "\n",
    "data_ohe = pd.get_dummies(data, drop_first=True)\n",
    "data_ohe.head(5)"
   ]
  },
  {
   "cell_type": "code",
   "execution_count": 66,
   "metadata": {},
   "outputs": [
    {
     "name": "stdout",
     "output_type": "stream",
     "text": [
      "<class 'pandas.core.frame.DataFrame'>\n",
      "Int64Index: 341050 entries, 0 to 354364\n",
      "Columns: 304 entries, Price to NotRepaired_yes\n",
      "dtypes: float64(2), int64(2), uint8(300)\n",
      "memory usage: 110.6 MB\n"
     ]
    }
   ],
   "source": [
    "data_ohe.info()"
   ]
  },
  {
   "cell_type": "markdown",
   "metadata": {},
   "source": [
    "#### Разделяю признаки"
   ]
  },
  {
   "cell_type": "code",
   "execution_count": 67,
   "metadata": {},
   "outputs": [],
   "source": [
    "target_ohe = data_ohe['Price']\n",
    "\n",
    "#features = df1.drop(['Price','DateCrawled','DateCreated','NumberOfPictures'], axis=1)\n",
    "\n",
    "features_ohe = data_ohe.drop('Price', axis=1)\n",
    "\n",
    "features_train_ohe, features_test_valid1_ohe, target_train_ohe, target_test_valid1_ohe = train_test_split(features_ohe, target_ohe, \n",
    "                                                                              test_size=0.4, \n",
    "                                                                              random_state=12345)\n",
    "# ОБУЧАЮЩИЮ ВЫБОРКУ Делю на валидную и тестовую выборку\n",
    "features_test_valid_ohe, features_valid_ohe, target_test_valid_ohe, target_valid_ohe = train_test_split(features_test_valid1_ohe, target_test_valid1_ohe, \n",
    "                                                                              test_size=0.5, \n",
    "                                                                              random_state=12345)"
   ]
  },
  {
   "cell_type": "markdown",
   "metadata": {},
   "source": [
    "#### Масштабирование\n",
    "\n",
    "Применю для того что бы значение всех признаков были в одном масштабе\n"
   ]
  },
  {
   "cell_type": "code",
   "execution_count": 68,
   "metadata": {},
   "outputs": [
    {
     "data": {
      "text/plain": [
       "['Power', 'RegistrationYear', 'Kilometer']"
      ]
     },
     "execution_count": 68,
     "metadata": {},
     "output_type": "execute_result"
    }
   ],
   "source": [
    "\n",
    "col=['Power','RegistrationYear','Kilometer']\n",
    "col"
   ]
  },
  {
   "cell_type": "code",
   "execution_count": 69,
   "metadata": {},
   "outputs": [
    {
     "name": "stderr",
     "output_type": "stream",
     "text": [
      "/tmp/ipykernel_84/2451963128.py:5: SettingWithCopyWarning: \n",
      "A value is trying to be set on a copy of a slice from a DataFrame.\n",
      "Try using .loc[row_indexer,col_indexer] = value instead\n",
      "\n",
      "See the caveats in the documentation: https://pandas.pydata.org/pandas-docs/stable/user_guide/indexing.html#returning-a-view-versus-a-copy\n",
      "  features_train_ohe[col] = scaler.transform(features_train_ohe[col])\n",
      "/opt/conda/lib/python3.9/site-packages/pandas/core/indexing.py:1738: SettingWithCopyWarning: \n",
      "A value is trying to be set on a copy of a slice from a DataFrame.\n",
      "Try using .loc[row_indexer,col_indexer] = value instead\n",
      "\n",
      "See the caveats in the documentation: https://pandas.pydata.org/pandas-docs/stable/user_guide/indexing.html#returning-a-view-versus-a-copy\n",
      "  self._setitem_single_column(loc, value[:, i].tolist(), pi)\n",
      "/tmp/ipykernel_84/2451963128.py:6: SettingWithCopyWarning: \n",
      "A value is trying to be set on a copy of a slice from a DataFrame.\n",
      "Try using .loc[row_indexer,col_indexer] = value instead\n",
      "\n",
      "See the caveats in the documentation: https://pandas.pydata.org/pandas-docs/stable/user_guide/indexing.html#returning-a-view-versus-a-copy\n",
      "  features_valid_ohe[col] = scaler.transform(features_valid_ohe[col])\n",
      "/opt/conda/lib/python3.9/site-packages/pandas/core/indexing.py:1738: SettingWithCopyWarning: \n",
      "A value is trying to be set on a copy of a slice from a DataFrame.\n",
      "Try using .loc[row_indexer,col_indexer] = value instead\n",
      "\n",
      "See the caveats in the documentation: https://pandas.pydata.org/pandas-docs/stable/user_guide/indexing.html#returning-a-view-versus-a-copy\n",
      "  self._setitem_single_column(loc, value[:, i].tolist(), pi)\n",
      "/tmp/ipykernel_84/2451963128.py:7: SettingWithCopyWarning: \n",
      "A value is trying to be set on a copy of a slice from a DataFrame.\n",
      "Try using .loc[row_indexer,col_indexer] = value instead\n",
      "\n",
      "See the caveats in the documentation: https://pandas.pydata.org/pandas-docs/stable/user_guide/indexing.html#returning-a-view-versus-a-copy\n",
      "  features_test_valid_ohe[col] = scaler.transform(features_test_valid_ohe[col])\n",
      "/opt/conda/lib/python3.9/site-packages/pandas/core/indexing.py:1738: SettingWithCopyWarning: \n",
      "A value is trying to be set on a copy of a slice from a DataFrame.\n",
      "Try using .loc[row_indexer,col_indexer] = value instead\n",
      "\n",
      "See the caveats in the documentation: https://pandas.pydata.org/pandas-docs/stable/user_guide/indexing.html#returning-a-view-versus-a-copy\n",
      "  self._setitem_single_column(loc, value[:, i].tolist(), pi)\n"
     ]
    }
   ],
   "source": [
    "from sklearn.preprocessing import StandardScaler\n",
    "scaler = StandardScaler()\n",
    "scaler.fit(features_train[col])\n",
    "\n",
    "features_train_ohe[col] = scaler.transform(features_train_ohe[col])\n",
    "features_valid_ohe[col] = scaler.transform(features_valid_ohe[col])\n",
    "features_test_valid_ohe[col] = scaler.transform(features_test_valid_ohe[col])"
   ]
  },
  {
   "cell_type": "code",
   "execution_count": 70,
   "metadata": {},
   "outputs": [
    {
     "data": {
      "text/html": [
       "<div>\n",
       "<style scoped>\n",
       "    .dataframe tbody tr th:only-of-type {\n",
       "        vertical-align: middle;\n",
       "    }\n",
       "\n",
       "    .dataframe tbody tr th {\n",
       "        vertical-align: top;\n",
       "    }\n",
       "\n",
       "    .dataframe thead th {\n",
       "        text-align: right;\n",
       "    }\n",
       "</style>\n",
       "<table border=\"1\" class=\"dataframe\">\n",
       "  <thead>\n",
       "    <tr style=\"text-align: right;\">\n",
       "      <th></th>\n",
       "      <th>Power</th>\n",
       "      <th>RegistrationYear</th>\n",
       "      <th>Kilometer</th>\n",
       "      <th>VehicleType_convertible</th>\n",
       "      <th>VehicleType_coupe</th>\n",
       "      <th>VehicleType_other</th>\n",
       "      <th>VehicleType_sedan</th>\n",
       "      <th>VehicleType_small</th>\n",
       "      <th>VehicleType_suv</th>\n",
       "      <th>VehicleType_unknown</th>\n",
       "      <th>...</th>\n",
       "      <th>Brand_smart</th>\n",
       "      <th>Brand_sonstige_autos</th>\n",
       "      <th>Brand_subaru</th>\n",
       "      <th>Brand_suzuki</th>\n",
       "      <th>Brand_toyota</th>\n",
       "      <th>Brand_trabant</th>\n",
       "      <th>Brand_volkswagen</th>\n",
       "      <th>Brand_volvo</th>\n",
       "      <th>NotRepaired_unknown</th>\n",
       "      <th>NotRepaired_yes</th>\n",
       "    </tr>\n",
       "  </thead>\n",
       "  <tbody>\n",
       "    <tr>\n",
       "      <th>172969</th>\n",
       "      <td>0.824103</td>\n",
       "      <td>0.383624</td>\n",
       "      <td>0.576271</td>\n",
       "      <td>0</td>\n",
       "      <td>0</td>\n",
       "      <td>0</td>\n",
       "      <td>1</td>\n",
       "      <td>0</td>\n",
       "      <td>0</td>\n",
       "      <td>0</td>\n",
       "      <td>...</td>\n",
       "      <td>0</td>\n",
       "      <td>0</td>\n",
       "      <td>0</td>\n",
       "      <td>0</td>\n",
       "      <td>0</td>\n",
       "      <td>0</td>\n",
       "      <td>0</td>\n",
       "      <td>0</td>\n",
       "      <td>0</td>\n",
       "      <td>0</td>\n",
       "    </tr>\n",
       "    <tr>\n",
       "      <th>123616</th>\n",
       "      <td>-0.440133</td>\n",
       "      <td>-0.306182</td>\n",
       "      <td>0.576271</td>\n",
       "      <td>0</td>\n",
       "      <td>0</td>\n",
       "      <td>0</td>\n",
       "      <td>1</td>\n",
       "      <td>0</td>\n",
       "      <td>0</td>\n",
       "      <td>0</td>\n",
       "      <td>...</td>\n",
       "      <td>0</td>\n",
       "      <td>0</td>\n",
       "      <td>0</td>\n",
       "      <td>0</td>\n",
       "      <td>0</td>\n",
       "      <td>0</td>\n",
       "      <td>0</td>\n",
       "      <td>0</td>\n",
       "      <td>0</td>\n",
       "      <td>0</td>\n",
       "    </tr>\n",
       "    <tr>\n",
       "      <th>119382</th>\n",
       "      <td>-0.681825</td>\n",
       "      <td>0.659546</td>\n",
       "      <td>-2.110077</td>\n",
       "      <td>0</td>\n",
       "      <td>0</td>\n",
       "      <td>0</td>\n",
       "      <td>0</td>\n",
       "      <td>0</td>\n",
       "      <td>1</td>\n",
       "      <td>0</td>\n",
       "      <td>...</td>\n",
       "      <td>0</td>\n",
       "      <td>0</td>\n",
       "      <td>0</td>\n",
       "      <td>0</td>\n",
       "      <td>0</td>\n",
       "      <td>0</td>\n",
       "      <td>0</td>\n",
       "      <td>0</td>\n",
       "      <td>0</td>\n",
       "      <td>0</td>\n",
       "    </tr>\n",
       "    <tr>\n",
       "      <th>109894</th>\n",
       "      <td>0.117618</td>\n",
       "      <td>-0.582105</td>\n",
       "      <td>0.576271</td>\n",
       "      <td>0</td>\n",
       "      <td>0</td>\n",
       "      <td>0</td>\n",
       "      <td>1</td>\n",
       "      <td>0</td>\n",
       "      <td>0</td>\n",
       "      <td>0</td>\n",
       "      <td>...</td>\n",
       "      <td>0</td>\n",
       "      <td>0</td>\n",
       "      <td>0</td>\n",
       "      <td>0</td>\n",
       "      <td>0</td>\n",
       "      <td>0</td>\n",
       "      <td>1</td>\n",
       "      <td>0</td>\n",
       "      <td>1</td>\n",
       "      <td>0</td>\n",
       "    </tr>\n",
       "    <tr>\n",
       "      <th>318665</th>\n",
       "      <td>-1.090842</td>\n",
       "      <td>-0.720066</td>\n",
       "      <td>0.576271</td>\n",
       "      <td>0</td>\n",
       "      <td>0</td>\n",
       "      <td>0</td>\n",
       "      <td>0</td>\n",
       "      <td>1</td>\n",
       "      <td>0</td>\n",
       "      <td>0</td>\n",
       "      <td>...</td>\n",
       "      <td>0</td>\n",
       "      <td>0</td>\n",
       "      <td>0</td>\n",
       "      <td>0</td>\n",
       "      <td>0</td>\n",
       "      <td>0</td>\n",
       "      <td>0</td>\n",
       "      <td>0</td>\n",
       "      <td>0</td>\n",
       "      <td>0</td>\n",
       "    </tr>\n",
       "    <tr>\n",
       "      <th>...</th>\n",
       "      <td>...</td>\n",
       "      <td>...</td>\n",
       "      <td>...</td>\n",
       "      <td>...</td>\n",
       "      <td>...</td>\n",
       "      <td>...</td>\n",
       "      <td>...</td>\n",
       "      <td>...</td>\n",
       "      <td>...</td>\n",
       "      <td>...</td>\n",
       "      <td>...</td>\n",
       "      <td>...</td>\n",
       "      <td>...</td>\n",
       "      <td>...</td>\n",
       "      <td>...</td>\n",
       "      <td>...</td>\n",
       "      <td>...</td>\n",
       "      <td>...</td>\n",
       "      <td>...</td>\n",
       "      <td>...</td>\n",
       "      <td>...</td>\n",
       "    </tr>\n",
       "    <tr>\n",
       "      <th>165093</th>\n",
       "      <td>-0.904925</td>\n",
       "      <td>-2.099678</td>\n",
       "      <td>0.576271</td>\n",
       "      <td>0</td>\n",
       "      <td>0</td>\n",
       "      <td>0</td>\n",
       "      <td>0</td>\n",
       "      <td>0</td>\n",
       "      <td>0</td>\n",
       "      <td>0</td>\n",
       "      <td>...</td>\n",
       "      <td>0</td>\n",
       "      <td>0</td>\n",
       "      <td>0</td>\n",
       "      <td>0</td>\n",
       "      <td>0</td>\n",
       "      <td>0</td>\n",
       "      <td>1</td>\n",
       "      <td>0</td>\n",
       "      <td>0</td>\n",
       "      <td>0</td>\n",
       "    </tr>\n",
       "    <tr>\n",
       "      <th>49737</th>\n",
       "      <td>-0.533091</td>\n",
       "      <td>-0.858027</td>\n",
       "      <td>0.576271</td>\n",
       "      <td>0</td>\n",
       "      <td>0</td>\n",
       "      <td>0</td>\n",
       "      <td>1</td>\n",
       "      <td>0</td>\n",
       "      <td>0</td>\n",
       "      <td>0</td>\n",
       "      <td>...</td>\n",
       "      <td>0</td>\n",
       "      <td>0</td>\n",
       "      <td>0</td>\n",
       "      <td>0</td>\n",
       "      <td>0</td>\n",
       "      <td>0</td>\n",
       "      <td>0</td>\n",
       "      <td>0</td>\n",
       "      <td>0</td>\n",
       "      <td>0</td>\n",
       "    </tr>\n",
       "    <tr>\n",
       "      <th>89782</th>\n",
       "      <td>-0.811966</td>\n",
       "      <td>-0.582105</td>\n",
       "      <td>0.576271</td>\n",
       "      <td>0</td>\n",
       "      <td>0</td>\n",
       "      <td>0</td>\n",
       "      <td>0</td>\n",
       "      <td>1</td>\n",
       "      <td>0</td>\n",
       "      <td>0</td>\n",
       "      <td>...</td>\n",
       "      <td>0</td>\n",
       "      <td>0</td>\n",
       "      <td>0</td>\n",
       "      <td>0</td>\n",
       "      <td>0</td>\n",
       "      <td>0</td>\n",
       "      <td>0</td>\n",
       "      <td>0</td>\n",
       "      <td>0</td>\n",
       "      <td>0</td>\n",
       "    </tr>\n",
       "    <tr>\n",
       "      <th>80306</th>\n",
       "      <td>0.396494</td>\n",
       "      <td>0.245663</td>\n",
       "      <td>0.576271</td>\n",
       "      <td>0</td>\n",
       "      <td>0</td>\n",
       "      <td>0</td>\n",
       "      <td>0</td>\n",
       "      <td>0</td>\n",
       "      <td>0</td>\n",
       "      <td>0</td>\n",
       "      <td>...</td>\n",
       "      <td>0</td>\n",
       "      <td>0</td>\n",
       "      <td>0</td>\n",
       "      <td>0</td>\n",
       "      <td>0</td>\n",
       "      <td>0</td>\n",
       "      <td>0</td>\n",
       "      <td>0</td>\n",
       "      <td>1</td>\n",
       "      <td>0</td>\n",
       "    </tr>\n",
       "    <tr>\n",
       "      <th>226168</th>\n",
       "      <td>-0.402949</td>\n",
       "      <td>1.349352</td>\n",
       "      <td>-2.647346</td>\n",
       "      <td>0</td>\n",
       "      <td>0</td>\n",
       "      <td>0</td>\n",
       "      <td>0</td>\n",
       "      <td>1</td>\n",
       "      <td>0</td>\n",
       "      <td>0</td>\n",
       "      <td>...</td>\n",
       "      <td>0</td>\n",
       "      <td>0</td>\n",
       "      <td>0</td>\n",
       "      <td>0</td>\n",
       "      <td>0</td>\n",
       "      <td>0</td>\n",
       "      <td>0</td>\n",
       "      <td>0</td>\n",
       "      <td>1</td>\n",
       "      <td>0</td>\n",
       "    </tr>\n",
       "  </tbody>\n",
       "</table>\n",
       "<p>204630 rows × 303 columns</p>\n",
       "</div>"
      ],
      "text/plain": [
       "           Power  RegistrationYear  Kilometer  VehicleType_convertible  \\\n",
       "172969  0.824103          0.383624   0.576271                        0   \n",
       "123616 -0.440133         -0.306182   0.576271                        0   \n",
       "119382 -0.681825          0.659546  -2.110077                        0   \n",
       "109894  0.117618         -0.582105   0.576271                        0   \n",
       "318665 -1.090842         -0.720066   0.576271                        0   \n",
       "...          ...               ...        ...                      ...   \n",
       "165093 -0.904925         -2.099678   0.576271                        0   \n",
       "49737  -0.533091         -0.858027   0.576271                        0   \n",
       "89782  -0.811966         -0.582105   0.576271                        0   \n",
       "80306   0.396494          0.245663   0.576271                        0   \n",
       "226168 -0.402949          1.349352  -2.647346                        0   \n",
       "\n",
       "        VehicleType_coupe  VehicleType_other  VehicleType_sedan  \\\n",
       "172969                  0                  0                  1   \n",
       "123616                  0                  0                  1   \n",
       "119382                  0                  0                  0   \n",
       "109894                  0                  0                  1   \n",
       "318665                  0                  0                  0   \n",
       "...                   ...                ...                ...   \n",
       "165093                  0                  0                  0   \n",
       "49737                   0                  0                  1   \n",
       "89782                   0                  0                  0   \n",
       "80306                   0                  0                  0   \n",
       "226168                  0                  0                  0   \n",
       "\n",
       "        VehicleType_small  VehicleType_suv  VehicleType_unknown  ...  \\\n",
       "172969                  0                0                    0  ...   \n",
       "123616                  0                0                    0  ...   \n",
       "119382                  0                1                    0  ...   \n",
       "109894                  0                0                    0  ...   \n",
       "318665                  1                0                    0  ...   \n",
       "...                   ...              ...                  ...  ...   \n",
       "165093                  0                0                    0  ...   \n",
       "49737                   0                0                    0  ...   \n",
       "89782                   1                0                    0  ...   \n",
       "80306                   0                0                    0  ...   \n",
       "226168                  1                0                    0  ...   \n",
       "\n",
       "        Brand_smart  Brand_sonstige_autos  Brand_subaru  Brand_suzuki  \\\n",
       "172969            0                     0             0             0   \n",
       "123616            0                     0             0             0   \n",
       "119382            0                     0             0             0   \n",
       "109894            0                     0             0             0   \n",
       "318665            0                     0             0             0   \n",
       "...             ...                   ...           ...           ...   \n",
       "165093            0                     0             0             0   \n",
       "49737             0                     0             0             0   \n",
       "89782             0                     0             0             0   \n",
       "80306             0                     0             0             0   \n",
       "226168            0                     0             0             0   \n",
       "\n",
       "        Brand_toyota  Brand_trabant  Brand_volkswagen  Brand_volvo  \\\n",
       "172969             0              0                 0            0   \n",
       "123616             0              0                 0            0   \n",
       "119382             0              0                 0            0   \n",
       "109894             0              0                 1            0   \n",
       "318665             0              0                 0            0   \n",
       "...              ...            ...               ...          ...   \n",
       "165093             0              0                 1            0   \n",
       "49737              0              0                 0            0   \n",
       "89782              0              0                 0            0   \n",
       "80306              0              0                 0            0   \n",
       "226168             0              0                 0            0   \n",
       "\n",
       "        NotRepaired_unknown  NotRepaired_yes  \n",
       "172969                    0                0  \n",
       "123616                    0                0  \n",
       "119382                    0                0  \n",
       "109894                    1                0  \n",
       "318665                    0                0  \n",
       "...                     ...              ...  \n",
       "165093                    0                0  \n",
       "49737                     0                0  \n",
       "89782                     0                0  \n",
       "80306                     1                0  \n",
       "226168                    1                0  \n",
       "\n",
       "[204630 rows x 303 columns]"
      ]
     },
     "execution_count": 70,
     "metadata": {},
     "output_type": "execute_result"
    }
   ],
   "source": [
    "features_train_ohe"
   ]
  },
  {
   "cell_type": "markdown",
   "metadata": {},
   "source": [
    "### Дерево решений"
   ]
  },
  {
   "cell_type": "code",
   "execution_count": 71,
   "metadata": {},
   "outputs": [
    {
     "name": "stdout",
     "output_type": "stream",
     "text": [
      "RMSE наилучшей модели на валидационной выборке: 1973.8046371110236 Глубина дерева: 13 RMSE модели на тестовой выборке 2111.63\n",
      "Время обучения 8.12673 Время предсказания 0.02137\n"
     ]
    }
   ],
   "source": [
    "start = process_time()\n",
    "best_model = None\n",
    "best_result = 10000\n",
    "best_depth = 0\n",
    "for depth in range(1, 20):\n",
    "    model = DecisionTreeRegressor(random_state=12345,max_depth=depth)# инициализируйте модель DecisionTreeRegressor с параметром random_state=12345 и #max_depth=depth\n",
    "    model.fit(features_train,target_train) # обучите модель на тренировочной выборке\n",
    "    predictions_valid = model.predict(features_valid) # получите предсказания модели на валидационной выборке\n",
    "    result =mean_squared_error(target_valid, predictions_valid)**0.5# посчитайте значение метрики rmse на валидационной выборке # посчитайте значение #метрики rmse на валидационной выборке\n",
    "    if result < best_result:\n",
    "        best_model = model\n",
    "        best_result = result\n",
    "        best_depth = depth\n",
    "stop = process_time()  \n",
    "start1 = process_time()\n",
    "predictions_valid = model.predict(features_test_valid) \n",
    "stop1 = process_time() \n",
    "result =mean_squared_error(target_test_valid, predictions_valid)**0.5\n",
    "\n",
    "DecisionTreeRMSE=round(best_result, 2)#best_result\n",
    "DecisionTreeRMSE_test=round(result, 2)#result\n",
    "DecisionTree_training=round(stop-start, 5)#\n",
    "DecisionTree_predict=round(stop1-start1, 5)\n",
    "print(\"RMSE наилучшей модели на валидационной выборке:\", best_result, \"Глубина дерева:\", best_depth,\"RMSE модели на тестовой выборке\",DecisionTreeRMSE_test)\n",
    "print(\"Время обучения\", DecisionTree_training,\"Время предсказания\",DecisionTree_predict)"
   ]
  },
  {
   "cell_type": "markdown",
   "metadata": {},
   "source": [
    "### Линейная регрессия c кодированием   OHE и масштабированием"
   ]
  },
  {
   "cell_type": "code",
   "execution_count": 72,
   "metadata": {},
   "outputs": [
    {
     "name": "stdout",
     "output_type": "stream",
     "text": [
      "RMSE= 2722.06\n",
      "Время обучения 23.23071 Время предсказания 0.24473\n"
     ]
    }
   ],
   "source": [
    "\n",
    "start = process_time()\n",
    "model = LinearRegression()# инициализируйте модель LinearRegression\n",
    "model.fit(features_train_ohe,target_train_ohe) # обучите модель на тренировочной выборке\n",
    "stop = process_time()  \n",
    "start1 = process_time()\n",
    "predictions_valid = model.predict(features_test_valid_ohe) # получите предсказания модели на валидационной выборке\n",
    "stop1 = process_time() \n",
    "\n",
    "LinearRegression_RMSE =mean_squared_error(target_test_valid_ohe, predictions_valid)**0.5# посчитайте значение метрики rmse на валидационной выборке # посчитайте значение #метрики rmse на валидационной выборке # посчитайте значение метрики RMSE на валидационной выборке#print(\"RMSE модели линейной регрессии на валидационной выборке:\", result)\n",
    "LinearRegression_RMSE=round(LinearRegression_RMSE, 2)\n",
    "LinearRegression_training=round(stop-start, 5)\n",
    "LinearRegression_predict=round(stop1-start1, 5)\n",
    "print(\"RMSE=\",LinearRegression_RMSE)\n",
    "print(\"Время обучения\", LinearRegression_training,\"Время предсказания\",LinearRegression_predict)"
   ]
  },
  {
   "cell_type": "markdown",
   "metadata": {},
   "source": [
    "### Линейная регрессия с кодированием Ordinal Encoding"
   ]
  },
  {
   "cell_type": "code",
   "execution_count": 73,
   "metadata": {},
   "outputs": [
    {
     "name": "stdout",
     "output_type": "stream",
     "text": [
      "RMSE= 3009.60088\n",
      "Время обучения 0.13121 Время предсказания 0.01877\n"
     ]
    }
   ],
   "source": [
    "start = process_time()\n",
    "model = LinearRegression()# инициализируйте модель LinearRegression\n",
    "model.fit(features_train,target_train) # обучите модель на тренировочной выборке\n",
    "stop = process_time()  \n",
    "start1 = process_time()\n",
    "predictions_valid = model.predict(features_test_valid) # получите предсказания модели на валидационной выборке\n",
    "stop1 = process_time() \n",
    "\n",
    "LinearRegression_RMSE_new =mean_squared_error(target_test_valid, predictions_valid)**0.5# посчитайте значение метрики rmse на валидационной выборке # посчитайте значение #метрики rmse на валидационной выборке # посчитайте значение метрики RMSE на валидационной выборке#print(\"RMSE модели линейной регрессии на валидационной выборке:\", result)\n",
    "LinearRegression_RMSE_new=round(LinearRegression_RMSE_new, 5)\n",
    "LinearRegression_training_new=round(stop-start, 5)\n",
    "LinearRegression_predict_new=round(stop1-start1, 5)\n",
    "print(\"RMSE=\",LinearRegression_RMSE_new)\n",
    "print(\"Время обучения\", LinearRegression_training_new,\"Время предсказания\",LinearRegression_predict_new)"
   ]
  },
  {
   "cell_type": "markdown",
   "metadata": {},
   "source": [
    "### Случайный лес"
   ]
  },
  {
   "cell_type": "code",
   "execution_count": 74,
   "metadata": {},
   "outputs": [
    {
     "name": "stdout",
     "output_type": "stream",
     "text": [
      "RMSE наилучшей модели на валидационной выборке: 1924.0703276706827 Глубина дерева: 10 RMSE модели на тестовой выборке\n",
      "Время обучения 8.12673 Время предсказания 0.02137\n",
      "RMSE наилучшей модели на валидационной выборке: 1924.0703276706827 Количество деревьев: 50 Максимальная глубина: 10 RMSE модели на тестовой выборке 1937.8644018693822\n"
     ]
    }
   ],
   "source": [
    "start = process_time()\n",
    "best_model = None\n",
    "best_result = 10000\n",
    "best_est = 0\n",
    "best_depth = 0\n",
    "for est in range(10, 51, 10):\n",
    "    for depth in range (1, 11):\n",
    "        model =RandomForestRegressor(random_state=12345, n_estimators=est,max_depth=depth) # инициализируйте модель RandomForestRegressor с параметрами #random_state=12345, n_estimators=est и max_depth=depth\n",
    "        model.fit(features_train,target_train) # обучите модель на тренировочной выборке\n",
    "        predictions_valid = model.predict(features_valid) # получите предсказания модели на валидационной выборке\n",
    "        result =mean_squared_error(target_valid, predictions_valid)**0.5 # посчитайте значение метрики rmse на валидационной выборке\n",
    "        if result < best_result:\n",
    "            best_model = model\n",
    "            best_result = result\n",
    "            best_est = est\n",
    "            best_depth = depth\n",
    "stop = process_time() \n",
    "\n",
    "start1 = process_time()\n",
    "predictions_valid = model.predict(features_test_valid) \n",
    "stop1 = process_time() \n",
    "result =mean_squared_error(target_test_valid, predictions_valid)**0.5\n",
    "\n",
    "ForestRegressorRMSE=round(best_result, 2)\n",
    "ForestRegressorRMSE_test=round(result, 2)\n",
    "ForestRegressor_training=round(stop-start, 5)\n",
    "ForestRegressor_predict=round(stop1-start1, 5)\n",
    "print(\"RMSE наилучшей модели на валидационной выборке:\", best_result, \"Глубина дерева:\", best_depth,\"RMSE модели на тестовой выборке\")\n",
    "print(\"Время обучения\", DecisionTree_training,\"Время предсказания\",DecisionTree_predict)\n",
    "\n",
    "print(\"RMSE наилучшей модели на валидационной выборке:\", best_result, \"Количество деревьев:\", best_est, \"Максимальная глубина:\", depth,\"RMSE модели на тестовой выборке\" ,result)"
   ]
  },
  {
   "cell_type": "markdown",
   "metadata": {},
   "source": [
    "### LightGBM "
   ]
  },
  {
   "cell_type": "code",
   "execution_count": 75,
   "metadata": {},
   "outputs": [],
   "source": [
    "start = process_time()\n",
    "model_LGMB = lgb.LGBMRegressor(max_depth = 20, num_leaves = 202,  random_state = 12345)\n",
    "model_LGMB.fit(features_train, target_train)\n",
    "stop = process_time() "
   ]
  },
  {
   "cell_type": "code",
   "execution_count": 76,
   "metadata": {},
   "outputs": [],
   "source": [
    "start1 = process_time()\n",
    "predict_LGMB = model_LGMB.predict(features_test_valid)\n",
    "stop1 = process_time() "
   ]
  },
  {
   "cell_type": "code",
   "execution_count": 77,
   "metadata": {},
   "outputs": [
    {
     "name": "stdout",
     "output_type": "stream",
     "text": [
      "RMSE градиента бустинга LightGBM= 1626.06\n",
      "Время обучения 296.99518\n",
      "Время предсказания 0.80147\n"
     ]
    }
   ],
   "source": [
    "rsme_LGMB = mean_squared_error(target_test_valid, predict_LGMB) ** 0.5\n",
    "rsme_LGMB=round(rsme_LGMB, 2)\n",
    "LGMB_training=round(stop-start, 5)\n",
    "LGMB_predict=round(stop1-start1, 5)\n",
    "\n",
    "print(\"RMSE градиента бустинга LightGBM=\",rsme_LGMB)\n",
    "print(\"Время обучения\",LGMB_training)\n",
    "print(\"Время предсказания\",LGMB_predict)"
   ]
  },
  {
   "cell_type": "markdown",
   "metadata": {},
   "source": [
    "### CatBoostRegressor \n",
    "\n"
   ]
  },
  {
   "cell_type": "code",
   "execution_count": 78,
   "metadata": {},
   "outputs": [
    {
     "name": "stdout",
     "output_type": "stream",
     "text": [
      "0:\tlearn: 2172.7792453\ttotal: 1.99s\tremaining: 37.9s\n",
      "1:\tlearn: 1950.2274805\ttotal: 3.82s\tremaining: 34.4s\n",
      "2:\tlearn: 1851.6851733\ttotal: 5.56s\tremaining: 31.5s\n",
      "3:\tlearn: 1783.5843065\ttotal: 7.34s\tremaining: 29.4s\n",
      "4:\tlearn: 1724.9378334\ttotal: 9.15s\tremaining: 27.4s\n",
      "5:\tlearn: 1693.2152334\ttotal: 10.9s\tremaining: 25.3s\n",
      "6:\tlearn: 1654.4106017\ttotal: 12.6s\tremaining: 23.4s\n",
      "7:\tlearn: 1615.0088847\ttotal: 14.4s\tremaining: 21.6s\n",
      "8:\tlearn: 1589.3657219\ttotal: 16.2s\tremaining: 19.8s\n",
      "9:\tlearn: 1554.9734330\ttotal: 17.9s\tremaining: 17.9s\n",
      "10:\tlearn: 1533.5865827\ttotal: 19.7s\tremaining: 16.1s\n",
      "11:\tlearn: 1515.2160823\ttotal: 21.5s\tremaining: 14.3s\n",
      "12:\tlearn: 1499.7949671\ttotal: 23.2s\tremaining: 12.5s\n",
      "13:\tlearn: 1474.0099889\ttotal: 25s\tremaining: 10.7s\n",
      "14:\tlearn: 1459.5447428\ttotal: 26.7s\tremaining: 8.91s\n",
      "15:\tlearn: 1448.5555611\ttotal: 28.5s\tremaining: 7.12s\n",
      "16:\tlearn: 1417.3235925\ttotal: 30.3s\tremaining: 5.34s\n",
      "17:\tlearn: 1400.9142944\ttotal: 32s\tremaining: 3.56s\n",
      "18:\tlearn: 1382.8059349\ttotal: 33.8s\tremaining: 1.78s\n",
      "19:\tlearn: 1371.2983730\ttotal: 35.5s\tremaining: 0us\n",
      "RMSE градиента бустинга CatBoostRegressor= 1794.78\n",
      "Время обучения 35.70367\n",
      "Время предсказания 0.02221\n"
     ]
    }
   ],
   "source": [
    "start = process_time()\n",
    "import numpy as np\n",
    "from catboost import Pool, CatBoostRegressor\n",
    "model = CatBoostRegressor(iterations=20, \n",
    "                          depth=16, \n",
    "                          learning_rate=1, \n",
    "                          loss_function='RMSE')\n",
    "\n",
    "model.fit(features_train,target_train)\n",
    "stop = process_time() \n",
    "\n",
    "start1 = process_time()\n",
    "preds = model.predict(features_test_valid)\n",
    "stop1 = process_time() \n",
    "CatBoostRegressor_RMSE =mean_squared_error(target_test_valid, preds)**0.5# посчитайте значение метрики rmse на валидационной выборке # посчитайте значение #метрики rmse на валидационной выборке # посчитайте значение метрики RMSE на валидационной выборке#print(\"RMSE модели линейной регрессии на валидационной выборке:\", result)\n",
    "CatBoostRegressor_RMSE=round(CatBoostRegressor_RMSE, 2)#\n",
    "CatBoostRegressor_training = round(stop-start, 5)#\n",
    "CatBoostRegressor_predict=round(stop1-start1, 5)#\n",
    "print(\"RMSE градиента бустинга CatBoostRegressor=\",CatBoostRegressor_RMSE)\n",
    "print(\"Время обучения\",CatBoostRegressor_training)\n",
    "print(\"Время предсказания\",CatBoostRegressor_predict)"
   ]
  },
  {
   "cell_type": "markdown",
   "metadata": {},
   "source": [
    "## Анализ моделей"
   ]
  },
  {
   "cell_type": "code",
   "execution_count": 79,
   "metadata": {},
   "outputs": [],
   "source": [
    "table = pd.DataFrame({'name': ['Дерево решений', 'Линейная регресия кодирование OHE и масштабирование', 'Линейная регресия кодирование ОЕ','Случайный лес','Градиентный бустинг LGMB','Градиентный бустинг CatBoost']\n",
    "                      , 'rsme': [DecisionTreeRMSE_test, LinearRegression_RMSE,LinearRegression_RMSE_new, ForestRegressorRMSE_test,rsme_LGMB,CatBoostRegressor_RMSE], \n",
    "                      'Время обучения': [DecisionTree_training, LinearRegression_training,LinearRegression_training_new, ForestRegressor_training,LGMB_training,CatBoostRegressor_training]\n",
    "                     ,'Время предсказания':[DecisionTree_predict,LinearRegression_predict,LinearRegression_predict_new,ForestRegressor_predict,LGMB_predict,CatBoostRegressor_predict]})"
   ]
  },
  {
   "cell_type": "code",
   "execution_count": 80,
   "metadata": {},
   "outputs": [
    {
     "data": {
      "text/html": [
       "<div>\n",
       "<style scoped>\n",
       "    .dataframe tbody tr th:only-of-type {\n",
       "        vertical-align: middle;\n",
       "    }\n",
       "\n",
       "    .dataframe tbody tr th {\n",
       "        vertical-align: top;\n",
       "    }\n",
       "\n",
       "    .dataframe thead th {\n",
       "        text-align: right;\n",
       "    }\n",
       "</style>\n",
       "<table border=\"1\" class=\"dataframe\">\n",
       "  <thead>\n",
       "    <tr style=\"text-align: right;\">\n",
       "      <th></th>\n",
       "      <th>name</th>\n",
       "      <th>rsme</th>\n",
       "      <th>Время обучения</th>\n",
       "      <th>Время предсказания</th>\n",
       "    </tr>\n",
       "  </thead>\n",
       "  <tbody>\n",
       "    <tr>\n",
       "      <th>0</th>\n",
       "      <td>Дерево решений</td>\n",
       "      <td>2111.63000</td>\n",
       "      <td>8.12673</td>\n",
       "      <td>0.02137</td>\n",
       "    </tr>\n",
       "    <tr>\n",
       "      <th>1</th>\n",
       "      <td>Линейная регресия кодирование OHE и масштабиро...</td>\n",
       "      <td>2722.06000</td>\n",
       "      <td>23.23071</td>\n",
       "      <td>0.24473</td>\n",
       "    </tr>\n",
       "    <tr>\n",
       "      <th>2</th>\n",
       "      <td>Линейная регресия кодирование ОЕ</td>\n",
       "      <td>3009.60088</td>\n",
       "      <td>0.13121</td>\n",
       "      <td>0.01877</td>\n",
       "    </tr>\n",
       "    <tr>\n",
       "      <th>3</th>\n",
       "      <td>Случайный лес</td>\n",
       "      <td>1937.86000</td>\n",
       "      <td>263.05287</td>\n",
       "      <td>0.27346</td>\n",
       "    </tr>\n",
       "    <tr>\n",
       "      <th>4</th>\n",
       "      <td>Градиентный бустинг LGMB</td>\n",
       "      <td>1626.06000</td>\n",
       "      <td>296.99518</td>\n",
       "      <td>0.80147</td>\n",
       "    </tr>\n",
       "    <tr>\n",
       "      <th>5</th>\n",
       "      <td>Градиентный бустинг CatBoost</td>\n",
       "      <td>1794.78000</td>\n",
       "      <td>35.70367</td>\n",
       "      <td>0.02221</td>\n",
       "    </tr>\n",
       "  </tbody>\n",
       "</table>\n",
       "</div>"
      ],
      "text/plain": [
       "                                                name        rsme  \\\n",
       "0                                     Дерево решений  2111.63000   \n",
       "1  Линейная регресия кодирование OHE и масштабиро...  2722.06000   \n",
       "2                   Линейная регресия кодирование ОЕ  3009.60088   \n",
       "3                                      Случайный лес  1937.86000   \n",
       "4                           Градиентный бустинг LGMB  1626.06000   \n",
       "5                       Градиентный бустинг CatBoost  1794.78000   \n",
       "\n",
       "   Время обучения  Время предсказания  \n",
       "0         8.12673             0.02137  \n",
       "1        23.23071             0.24473  \n",
       "2         0.13121             0.01877  \n",
       "3       263.05287             0.27346  \n",
       "4       296.99518             0.80147  \n",
       "5        35.70367             0.02221  "
      ]
     },
     "execution_count": 80,
     "metadata": {},
     "output_type": "execute_result"
    }
   ],
   "source": [
    "table"
   ]
  },
  {
   "cell_type": "markdown",
   "metadata": {},
   "source": [
    "Как видно у Линейной регресии самое большое rsme, удалим ее из анализа"
   ]
  },
  {
   "cell_type": "markdown",
   "metadata": {},
   "source": [
    "График RMSE"
   ]
  },
  {
   "cell_type": "code",
   "execution_count": 81,
   "metadata": {},
   "outputs": [
    {
     "data": {
      "text/plain": [
       "<AxesSubplot:xlabel='name'>"
      ]
     },
     "execution_count": 81,
     "metadata": {},
     "output_type": "execute_result"
    },
    {
     "data": {
      "image/png": "[encoded data removed]",
      "text/plain": [
       "<Figure size 1224x648 with 1 Axes>"
      ]
     },
     "metadata": {
      "needs_background": "light"
     },
     "output_type": "display_data"
    }
   ],
   "source": [
    "table.plot(x='name',y='rsme',kind='bar',figsize=(17,9),fontsize=12)"
   ]
  },
  {
   "cell_type": "markdown",
   "metadata": {},
   "source": [
    "График Время обучения"
   ]
  },
  {
   "cell_type": "code",
   "execution_count": 82,
   "metadata": {},
   "outputs": [
    {
     "data": {
      "text/plain": [
       "<AxesSubplot:xlabel='name'>"
      ]
     },
     "execution_count": 82,
     "metadata": {},
     "output_type": "execute_result"
    },
    {
     "data": {
      "image/png": "[encoded data removed]",
      "text/plain": [
       "<Figure size 1224x648 with 1 Axes>"
      ]
     },
     "metadata": {
      "needs_background": "light"
     },
     "output_type": "display_data"
    }
   ],
   "source": [
    "table.plot(x='name',y='Время обучения',kind='bar',figsize=(17,9),fontsize=12)\n"
   ]
  },
  {
   "cell_type": "code",
   "execution_count": 83,
   "metadata": {},
   "outputs": [
    {
     "data": {
      "text/plain": [
       "<AxesSubplot:xlabel='name'>"
      ]
     },
     "execution_count": 83,
     "metadata": {},
     "output_type": "execute_result"
    },
    {
     "data": {
      "image/png": "[encoded data removed]",
      "text/plain": [
       "<Figure size 1224x648 with 1 Axes>"
      ]
     },
     "metadata": {
      "needs_background": "light"
     },
     "output_type": "display_data"
    }
   ],
   "source": [
    "table.plot(x='name',y='Время предсказания',kind='bar',figsize=(17,9),fontsize=12)"
   ]
  },
  {
   "cell_type": "markdown",
   "metadata": {},
   "source": [
    "## Заключение \n",
    "Самое лучше RMSE у модели градинтного бустинга  LightGBM, но у CatBoostRegressor время обучения и предсказания на порядок лучше, при этом значение RMSE больше около 10%. \n",
    "По этому рекомендую модель градиентного бустинга CatBoostRegressor"
   ]
  }
 ],
 "metadata": {
  "ExecuteTimeLog": [
   {
    "duration": 406,
    "start_time": "2022-04-20T08:14:11.577Z"
   },
   {
    "duration": 725,
    "start_time": "2022-04-20T08:14:18.419Z"
   },
   {
    "duration": 713,
    "start_time": "2022-04-20T08:14:34.120Z"
   },
   {
    "duration": 382,
    "start_time": "2022-04-21T09:11:15.866Z"
   },
   {
    "duration": 734,
    "start_time": "2022-04-21T09:11:16.425Z"
   },
   {
    "duration": 125,
    "start_time": "2022-04-21T09:11:44.371Z"
   },
   {
    "duration": 135,
    "start_time": "2022-04-21T09:14:22.326Z"
   },
   {
    "duration": 458,
    "start_time": "2022-04-21T09:15:20.184Z"
   },
   {
    "duration": 526,
    "start_time": "2022-04-21T09:16:08.282Z"
   },
   {
    "duration": 452,
    "start_time": "2022-04-21T09:16:17.683Z"
   },
   {
    "duration": 18702,
    "start_time": "2022-04-21T09:49:43.162Z"
   },
   {
    "duration": 143,
    "start_time": "2022-04-21T09:50:12.132Z"
   },
   {
    "duration": 120,
    "start_time": "2022-04-21T09:50:22.134Z"
   },
   {
    "duration": 191,
    "start_time": "2022-04-21T09:50:33.236Z"
   },
   {
    "duration": 188,
    "start_time": "2022-04-21T09:51:05.840Z"
   },
   {
    "duration": 10,
    "start_time": "2022-04-21T09:51:22.520Z"
   },
   {
    "duration": 7,
    "start_time": "2022-04-21T09:51:30.767Z"
   },
   {
    "duration": 190,
    "start_time": "2022-04-21T09:51:35.022Z"
   },
   {
    "duration": 189,
    "start_time": "2022-04-21T09:52:24.497Z"
   },
   {
    "duration": 241,
    "start_time": "2022-04-21T09:52:30.121Z"
   },
   {
    "duration": 265,
    "start_time": "2022-04-21T09:52:52.648Z"
   },
   {
    "duration": 8,
    "start_time": "2022-04-21T09:58:21.152Z"
   },
   {
    "duration": 230,
    "start_time": "2022-04-21T10:00:06.404Z"
   },
   {
    "duration": 226,
    "start_time": "2022-04-21T10:00:10.095Z"
   },
   {
    "duration": 110,
    "start_time": "2022-04-21T10:06:55.493Z"
   },
   {
    "duration": 113,
    "start_time": "2022-04-21T10:06:59.876Z"
   },
   {
    "duration": 5,
    "start_time": "2022-04-21T10:08:04.375Z"
   },
   {
    "duration": 9,
    "start_time": "2022-04-21T10:08:08.815Z"
   },
   {
    "duration": 112,
    "start_time": "2022-04-21T10:08:32.583Z"
   },
   {
    "duration": 217,
    "start_time": "2022-04-21T10:08:33.165Z"
   },
   {
    "duration": 110,
    "start_time": "2022-04-21T10:09:19.711Z"
   },
   {
    "duration": 111,
    "start_time": "2022-04-21T10:09:59.796Z"
   },
   {
    "duration": 5,
    "start_time": "2022-04-21T10:10:31.640Z"
   },
   {
    "duration": 6,
    "start_time": "2022-04-21T10:10:50.952Z"
   },
   {
    "duration": 5,
    "start_time": "2022-04-21T10:11:09.180Z"
   },
   {
    "duration": 4,
    "start_time": "2022-04-21T10:11:33.139Z"
   },
   {
    "duration": 9,
    "start_time": "2022-04-21T10:14:47.825Z"
   },
   {
    "duration": 626,
    "start_time": "2022-04-21T10:20:29.615Z"
   },
   {
    "duration": 12,
    "start_time": "2022-04-21T10:20:39.344Z"
   },
   {
    "duration": 589,
    "start_time": "2022-04-21T10:20:52.966Z"
   },
   {
    "duration": 10,
    "start_time": "2022-04-21T10:20:55.390Z"
   },
   {
    "duration": 588,
    "start_time": "2022-04-21T10:21:01.757Z"
   },
   {
    "duration": 11,
    "start_time": "2022-04-21T10:21:03.797Z"
   },
   {
    "duration": 640,
    "start_time": "2022-04-21T10:21:15.826Z"
   },
   {
    "duration": 11,
    "start_time": "2022-04-21T10:21:18.259Z"
   },
   {
    "duration": 47643,
    "start_time": "2022-04-21T10:25:37.579Z"
   },
   {
    "duration": 13,
    "start_time": "2022-04-21T10:26:25.224Z"
   },
   {
    "duration": 21508,
    "start_time": "2022-04-21T10:26:33.279Z"
   },
   {
    "duration": 11,
    "start_time": "2022-04-21T10:27:14.030Z"
   },
   {
    "duration": 589,
    "start_time": "2022-04-21T10:31:51.446Z"
   },
   {
    "duration": 609,
    "start_time": "2022-04-21T10:32:32.684Z"
   },
   {
    "duration": 590,
    "start_time": "2022-04-21T10:33:59.178Z"
   },
   {
    "duration": 60393,
    "start_time": "2022-04-21T10:34:05.225Z"
   },
   {
    "duration": 6556,
    "start_time": "2022-04-21T10:35:13.044Z"
   },
   {
    "duration": 588,
    "start_time": "2022-04-21T10:35:29.410Z"
   },
   {
    "duration": 58,
    "start_time": "2022-04-21T10:36:01.439Z"
   },
   {
    "duration": 79,
    "start_time": "2022-04-21T10:36:37.724Z"
   },
   {
    "duration": 21,
    "start_time": "2022-04-21T10:37:16.024Z"
   },
   {
    "duration": 10,
    "start_time": "2022-04-21T10:38:26.317Z"
   },
   {
    "duration": 1864,
    "start_time": "2022-04-21T10:38:31.226Z"
   },
   {
    "duration": 25,
    "start_time": "2022-04-21T10:39:43.803Z"
   },
   {
    "duration": 20,
    "start_time": "2022-04-21T10:40:00.896Z"
   },
   {
    "duration": 53,
    "start_time": "2022-04-21T10:41:58.373Z"
   },
   {
    "duration": 37,
    "start_time": "2022-04-21T10:43:32.716Z"
   },
   {
    "duration": 2747,
    "start_time": "2022-04-21T10:57:32.554Z"
   },
   {
    "duration": 1949,
    "start_time": "2022-04-21T10:57:39.171Z"
   },
   {
    "duration": 1820,
    "start_time": "2022-04-21T10:58:40.325Z"
   },
   {
    "duration": 24,
    "start_time": "2022-04-21T10:59:04.137Z"
   },
   {
    "duration": 1989,
    "start_time": "2022-04-21T10:59:30.818Z"
   },
   {
    "duration": 112,
    "start_time": "2022-04-21T11:00:06.740Z"
   },
   {
    "duration": 77,
    "start_time": "2022-04-21T11:00:12.866Z"
   },
   {
    "duration": 337,
    "start_time": "2022-04-21T11:00:28.350Z"
   },
   {
    "duration": 20,
    "start_time": "2022-04-21T11:09:02.536Z"
   },
   {
    "duration": 3,
    "start_time": "2022-04-21T11:30:17.025Z"
   },
   {
    "duration": 6,
    "start_time": "2022-04-21T11:30:18.831Z"
   },
   {
    "duration": 4,
    "start_time": "2022-04-21T11:30:23.294Z"
   },
   {
    "duration": 4,
    "start_time": "2022-04-21T11:30:28.187Z"
   },
   {
    "duration": 4,
    "start_time": "2022-04-21T11:30:31.963Z"
   },
   {
    "duration": 6,
    "start_time": "2022-04-21T11:34:27.981Z"
   },
   {
    "duration": 6,
    "start_time": "2022-04-21T11:34:34.301Z"
   },
   {
    "duration": 20,
    "start_time": "2022-04-21T11:34:46.197Z"
   },
   {
    "duration": 3,
    "start_time": "2022-04-21T11:39:16.801Z"
   },
   {
    "duration": 3,
    "start_time": "2022-04-21T11:39:20.226Z"
   },
   {
    "duration": 2,
    "start_time": "2022-04-21T11:39:32.289Z"
   },
   {
    "duration": 4,
    "start_time": "2022-04-21T11:39:35.543Z"
   },
   {
    "duration": 7,
    "start_time": "2022-04-21T11:44:40.045Z"
   },
   {
    "duration": 42,
    "start_time": "2022-04-21T11:44:48.385Z"
   },
   {
    "duration": 705,
    "start_time": "2022-04-21T12:21:51.252Z"
   },
   {
    "duration": 2,
    "start_time": "2022-04-21T12:22:04.321Z"
   },
   {
    "duration": 35,
    "start_time": "2022-04-21T12:22:22.415Z"
   },
   {
    "duration": 8,
    "start_time": "2022-04-21T12:22:25.870Z"
   },
   {
    "duration": 811,
    "start_time": "2022-04-21T12:22:31.208Z"
   },
   {
    "duration": 2581,
    "start_time": "2022-04-21T12:23:29.244Z"
   },
   {
    "duration": 117,
    "start_time": "2022-04-21T12:23:56.871Z"
   },
   {
    "duration": 2184,
    "start_time": "2022-04-21T12:24:03.270Z"
   },
   {
    "duration": 25,
    "start_time": "2022-04-21T12:24:09.869Z"
   },
   {
    "duration": 21,
    "start_time": "2022-04-21T12:24:35.773Z"
   },
   {
    "duration": 4,
    "start_time": "2022-04-21T12:24:55.433Z"
   },
   {
    "duration": 3,
    "start_time": "2022-04-21T12:24:58.232Z"
   },
   {
    "duration": 4,
    "start_time": "2022-04-21T12:25:02.113Z"
   },
   {
    "duration": 2114,
    "start_time": "2022-04-21T12:25:29.877Z"
   },
   {
    "duration": 3,
    "start_time": "2022-04-21T12:26:11.394Z"
   },
   {
    "duration": 4,
    "start_time": "2022-04-21T12:33:01.860Z"
   },
   {
    "duration": 8,
    "start_time": "2022-04-21T12:33:17.377Z"
   },
   {
    "duration": 2132,
    "start_time": "2022-04-21T12:34:03.821Z"
   },
   {
    "duration": 33,
    "start_time": "2022-04-21T12:34:08.270Z"
   },
   {
    "duration": 2203,
    "start_time": "2022-04-21T12:34:44.239Z"
   },
   {
    "duration": 2007,
    "start_time": "2022-04-21T12:35:05.408Z"
   },
   {
    "duration": 18,
    "start_time": "2022-04-21T12:35:19.102Z"
   },
   {
    "duration": 20,
    "start_time": "2022-04-21T12:36:05.443Z"
   },
   {
    "duration": 239,
    "start_time": "2022-04-21T12:36:07.357Z"
   },
   {
    "duration": 3092,
    "start_time": "2022-04-21T12:38:27.575Z"
   },
   {
    "duration": 20,
    "start_time": "2022-04-21T12:38:32.385Z"
   },
   {
    "duration": 238,
    "start_time": "2022-04-21T12:38:34.819Z"
   },
   {
    "duration": 9,
    "start_time": "2022-04-21T12:39:11.062Z"
   },
   {
    "duration": 26,
    "start_time": "2022-04-21T12:39:17.062Z"
   },
   {
    "duration": 120,
    "start_time": "2022-04-21T12:41:59.463Z"
   },
   {
    "duration": 17057,
    "start_time": "2022-04-21T12:44:53.158Z"
   },
   {
    "duration": 6,
    "start_time": "2022-04-21T12:45:13.477Z"
   },
   {
    "duration": 132,
    "start_time": "2022-04-21T12:45:30.361Z"
   },
   {
    "duration": 56,
    "start_time": "2022-04-21T12:46:17.670Z"
   },
   {
    "duration": 47,
    "start_time": "2022-04-21T12:47:06.090Z"
   },
   {
    "duration": 46,
    "start_time": "2022-04-21T12:47:20.208Z"
   },
   {
    "duration": 47,
    "start_time": "2022-04-21T12:47:25.174Z"
   },
   {
    "duration": 27,
    "start_time": "2022-04-21T12:47:39.214Z"
   },
   {
    "duration": 24,
    "start_time": "2022-04-21T12:47:44.350Z"
   },
   {
    "duration": 32,
    "start_time": "2022-04-21T12:47:48.596Z"
   },
   {
    "duration": 14,
    "start_time": "2022-04-21T12:47:56.143Z"
   },
   {
    "duration": 21,
    "start_time": "2022-04-21T12:47:59.547Z"
   },
   {
    "duration": 111,
    "start_time": "2022-04-21T12:51:04.508Z"
   },
   {
    "duration": 112,
    "start_time": "2022-04-21T12:51:11.118Z"
   },
   {
    "duration": 107,
    "start_time": "2022-04-21T12:52:12.170Z"
   },
   {
    "duration": 122,
    "start_time": "2022-04-21T12:52:18.680Z"
   },
   {
    "duration": 125,
    "start_time": "2022-04-21T12:53:06.596Z"
   },
   {
    "duration": 107,
    "start_time": "2022-04-21T12:53:13.757Z"
   },
   {
    "duration": 124,
    "start_time": "2022-04-21T12:53:34.352Z"
   },
   {
    "duration": 124,
    "start_time": "2022-04-21T12:53:45.808Z"
   },
   {
    "duration": 46,
    "start_time": "2022-04-21T12:53:59.930Z"
   },
   {
    "duration": 119,
    "start_time": "2022-04-21T12:54:48.834Z"
   },
   {
    "duration": 108,
    "start_time": "2022-04-21T12:54:55.210Z"
   },
   {
    "duration": 116,
    "start_time": "2022-04-21T12:55:01.880Z"
   },
   {
    "duration": 123,
    "start_time": "2022-04-21T12:55:12.151Z"
   },
   {
    "duration": 108,
    "start_time": "2022-04-21T12:55:28.629Z"
   },
   {
    "duration": 113,
    "start_time": "2022-04-21T12:56:10.010Z"
   },
   {
    "duration": 105,
    "start_time": "2022-04-21T12:56:17.089Z"
   },
   {
    "duration": 13,
    "start_time": "2022-04-21T12:56:34.697Z"
   },
   {
    "duration": 102,
    "start_time": "2022-04-21T12:56:39.656Z"
   },
   {
    "duration": 17,
    "start_time": "2022-04-21T12:57:19.939Z"
   },
   {
    "duration": 126,
    "start_time": "2022-04-21T12:58:30.790Z"
   },
   {
    "duration": 102,
    "start_time": "2022-04-21T12:58:58.683Z"
   },
   {
    "duration": 128,
    "start_time": "2022-04-21T12:59:05.962Z"
   },
   {
    "duration": 108,
    "start_time": "2022-04-21T12:59:20.960Z"
   },
   {
    "duration": 124,
    "start_time": "2022-04-21T12:59:25.343Z"
   },
   {
    "duration": 106,
    "start_time": "2022-04-21T12:59:31.823Z"
   },
   {
    "duration": 125,
    "start_time": "2022-04-21T12:59:44.614Z"
   },
   {
    "duration": 35,
    "start_time": "2022-04-21T13:00:12.916Z"
   },
   {
    "duration": 113,
    "start_time": "2022-04-21T13:04:25.091Z"
   },
   {
    "duration": 7,
    "start_time": "2022-04-21T13:06:02.814Z"
   },
   {
    "duration": 107,
    "start_time": "2022-04-21T13:06:04.465Z"
   },
   {
    "duration": 7,
    "start_time": "2022-04-21T13:06:17.704Z"
   },
   {
    "duration": 128,
    "start_time": "2022-04-21T13:06:19.341Z"
   },
   {
    "duration": 2,
    "start_time": "2022-04-21T13:06:32.474Z"
   },
   {
    "duration": 738,
    "start_time": "2022-04-21T13:06:33.064Z"
   },
   {
    "duration": 120,
    "start_time": "2022-04-21T13:06:34.965Z"
   },
   {
    "duration": 396,
    "start_time": "2022-04-21T13:06:36.207Z"
   },
   {
    "duration": 459,
    "start_time": "2022-04-21T13:06:36.917Z"
   },
   {
    "duration": 376,
    "start_time": "2022-04-21T13:06:37.391Z"
   },
   {
    "duration": 114,
    "start_time": "2022-04-21T13:06:38.304Z"
   },
   {
    "duration": 353,
    "start_time": "2022-04-21T13:06:39.958Z"
   },
   {
    "duration": 80,
    "start_time": "2022-04-21T13:06:41.734Z"
   },
   {
    "duration": 94,
    "start_time": "2022-04-21T13:06:43.853Z"
   },
   {
    "duration": 109,
    "start_time": "2022-04-21T13:06:46.885Z"
   },
   {
    "duration": 45,
    "start_time": "2022-04-21T13:06:56.533Z"
   },
   {
    "duration": 124,
    "start_time": "2022-04-21T13:07:00.253Z"
   },
   {
    "duration": 52,
    "start_time": "2022-04-21T13:07:02.548Z"
   },
   {
    "duration": 6,
    "start_time": "2022-04-21T13:07:27.888Z"
   },
   {
    "duration": 5,
    "start_time": "2022-04-21T13:07:36.920Z"
   },
   {
    "duration": 135,
    "start_time": "2022-04-21T13:07:43.007Z"
   },
   {
    "duration": 115,
    "start_time": "2022-04-21T13:07:54.270Z"
   },
   {
    "duration": 200,
    "start_time": "2022-04-21T13:08:07.630Z"
   },
   {
    "duration": 308,
    "start_time": "2022-04-21T13:08:28.722Z"
   },
   {
    "duration": 159,
    "start_time": "2022-04-21T13:08:37.697Z"
   },
   {
    "duration": 112,
    "start_time": "2022-04-21T13:08:50.626Z"
   },
   {
    "duration": 6,
    "start_time": "2022-04-21T13:09:27.782Z"
   },
   {
    "duration": 11,
    "start_time": "2022-04-21T13:09:40.011Z"
   },
   {
    "duration": 127,
    "start_time": "2022-04-21T13:09:51.220Z"
   },
   {
    "duration": 11084,
    "start_time": "2022-04-21T13:10:09.654Z"
   },
   {
    "duration": 6,
    "start_time": "2022-04-21T13:10:22.234Z"
   },
   {
    "duration": 4345,
    "start_time": "2022-04-21T13:10:35.390Z"
   },
   {
    "duration": 58,
    "start_time": "2022-04-21T13:10:41.894Z"
   },
   {
    "duration": 197,
    "start_time": "2022-04-21T13:10:43.365Z"
   },
   {
    "duration": 1325,
    "start_time": "2022-04-22T04:06:21.081Z"
   },
   {
    "duration": 850,
    "start_time": "2022-04-22T04:06:22.408Z"
   },
   {
    "duration": 149,
    "start_time": "2022-04-22T04:06:23.260Z"
   },
   {
    "duration": 505,
    "start_time": "2022-04-22T04:06:23.411Z"
   },
   {
    "duration": 594,
    "start_time": "2022-04-22T04:06:23.918Z"
   },
   {
    "duration": 466,
    "start_time": "2022-04-22T04:06:24.514Z"
   },
   {
    "duration": 137,
    "start_time": "2022-04-22T04:06:24.982Z"
   },
   {
    "duration": 398,
    "start_time": "2022-04-22T04:06:25.121Z"
   },
   {
    "duration": 98,
    "start_time": "2022-04-22T04:06:25.521Z"
   },
   {
    "duration": 119,
    "start_time": "2022-04-22T04:06:25.622Z"
   },
   {
    "duration": 411,
    "start_time": "2022-04-22T04:06:25.743Z"
   },
   {
    "duration": 64,
    "start_time": "2022-04-22T04:06:26.155Z"
   },
   {
    "duration": 140,
    "start_time": "2022-04-22T04:06:26.221Z"
   },
   {
    "duration": 61,
    "start_time": "2022-04-22T04:06:26.363Z"
   },
   {
    "duration": 2859,
    "start_time": "2022-04-22T04:06:26.425Z"
   },
   {
    "duration": 58,
    "start_time": "2022-04-22T04:06:29.286Z"
   },
   {
    "duration": 241,
    "start_time": "2022-04-22T04:06:29.345Z"
   },
   {
    "duration": 123,
    "start_time": "2022-04-22T04:06:29.592Z"
   },
   {
    "duration": 31,
    "start_time": "2022-04-22T04:06:29.716Z"
   },
   {
    "duration": 88,
    "start_time": "2022-04-22T04:06:29.749Z"
   },
   {
    "duration": 223,
    "start_time": "2022-04-22T04:39:23.970Z"
   },
   {
    "duration": 26,
    "start_time": "2022-04-22T04:40:23.742Z"
   },
   {
    "duration": 24,
    "start_time": "2022-04-22T04:40:49.009Z"
   },
   {
    "duration": 1302,
    "start_time": "2022-04-22T04:44:37.379Z"
   },
   {
    "duration": 828,
    "start_time": "2022-04-22T04:44:38.683Z"
   },
   {
    "duration": 146,
    "start_time": "2022-04-22T04:44:39.513Z"
   },
   {
    "duration": 485,
    "start_time": "2022-04-22T04:44:39.661Z"
   },
   {
    "duration": 556,
    "start_time": "2022-04-22T04:44:40.149Z"
   },
   {
    "duration": 458,
    "start_time": "2022-04-22T04:44:40.707Z"
   },
   {
    "duration": 136,
    "start_time": "2022-04-22T04:44:41.167Z"
   },
   {
    "duration": 390,
    "start_time": "2022-04-22T04:44:41.305Z"
   },
   {
    "duration": 84,
    "start_time": "2022-04-22T04:44:41.696Z"
   },
   {
    "duration": 117,
    "start_time": "2022-04-22T04:44:41.782Z"
   },
   {
    "duration": 432,
    "start_time": "2022-04-22T04:44:41.901Z"
   },
   {
    "duration": 62,
    "start_time": "2022-04-22T04:44:42.335Z"
   },
   {
    "duration": 170,
    "start_time": "2022-04-22T04:44:42.398Z"
   },
   {
    "duration": 64,
    "start_time": "2022-04-22T04:44:42.572Z"
   },
   {
    "duration": 105,
    "start_time": "2022-04-22T04:44:42.637Z"
   },
   {
    "duration": 0,
    "start_time": "2022-04-22T04:44:42.743Z"
   },
   {
    "duration": 0,
    "start_time": "2022-04-22T04:44:42.744Z"
   },
   {
    "duration": 0,
    "start_time": "2022-04-22T04:44:42.745Z"
   },
   {
    "duration": 0,
    "start_time": "2022-04-22T04:44:42.746Z"
   },
   {
    "duration": 0,
    "start_time": "2022-04-22T04:44:42.748Z"
   },
   {
    "duration": 0,
    "start_time": "2022-04-22T04:44:42.748Z"
   },
   {
    "duration": 23,
    "start_time": "2022-04-22T04:47:03.766Z"
   },
   {
    "duration": 117,
    "start_time": "2022-04-22T04:48:44.864Z"
   },
   {
    "duration": 5,
    "start_time": "2022-04-22T04:49:39.971Z"
   },
   {
    "duration": 8,
    "start_time": "2022-04-22T04:52:49.968Z"
   },
   {
    "duration": 3,
    "start_time": "2022-04-22T04:52:53.088Z"
   },
   {
    "duration": 4,
    "start_time": "2022-04-22T04:52:54.672Z"
   },
   {
    "duration": 9,
    "start_time": "2022-04-22T04:53:10.933Z"
   },
   {
    "duration": 68,
    "start_time": "2022-04-22T04:53:25.548Z"
   },
   {
    "duration": 20,
    "start_time": "2022-04-22T04:56:10.393Z"
   },
   {
    "duration": 93,
    "start_time": "2022-04-22T04:56:13.565Z"
   },
   {
    "duration": 4,
    "start_time": "2022-04-22T04:56:47.665Z"
   },
   {
    "duration": 5,
    "start_time": "2022-04-22T04:56:48.517Z"
   },
   {
    "duration": 22,
    "start_time": "2022-04-22T04:56:49.001Z"
   },
   {
    "duration": 2734,
    "start_time": "2022-04-22T05:01:10.671Z"
   },
   {
    "duration": 24,
    "start_time": "2022-04-22T05:01:19.967Z"
   },
   {
    "duration": 23,
    "start_time": "2022-04-22T05:01:28.861Z"
   },
   {
    "duration": 120,
    "start_time": "2022-04-22T05:02:11.162Z"
   },
   {
    "duration": 6,
    "start_time": "2022-04-22T05:02:21.435Z"
   },
   {
    "duration": 10,
    "start_time": "2022-04-22T05:05:12.712Z"
   },
   {
    "duration": 25,
    "start_time": "2022-04-22T05:05:19.696Z"
   },
   {
    "duration": 5,
    "start_time": "2022-04-22T05:05:30.700Z"
   },
   {
    "duration": 134,
    "start_time": "2022-04-22T05:05:41.709Z"
   },
   {
    "duration": 555,
    "start_time": "2022-04-22T05:05:52.989Z"
   },
   {
    "duration": 136,
    "start_time": "2022-04-22T05:06:12.221Z"
   },
   {
    "duration": 122,
    "start_time": "2022-04-22T05:06:16.601Z"
   },
   {
    "duration": 136,
    "start_time": "2022-04-22T05:06:30.921Z"
   },
   {
    "duration": 141,
    "start_time": "2022-04-22T05:06:35.160Z"
   },
   {
    "duration": 134,
    "start_time": "2022-04-22T05:06:49.193Z"
   },
   {
    "duration": 112,
    "start_time": "2022-04-22T05:06:55.421Z"
   },
   {
    "duration": 112,
    "start_time": "2022-04-22T05:07:07.109Z"
   },
   {
    "duration": 118,
    "start_time": "2022-04-22T05:07:13.369Z"
   },
   {
    "duration": 1330,
    "start_time": "2022-04-22T05:07:28.866Z"
   },
   {
    "duration": 830,
    "start_time": "2022-04-22T05:07:30.198Z"
   },
   {
    "duration": 146,
    "start_time": "2022-04-22T05:07:31.030Z"
   },
   {
    "duration": 473,
    "start_time": "2022-04-22T05:07:31.178Z"
   },
   {
    "duration": 542,
    "start_time": "2022-04-22T05:07:31.652Z"
   },
   {
    "duration": 452,
    "start_time": "2022-04-22T05:07:32.196Z"
   },
   {
    "duration": 134,
    "start_time": "2022-04-22T05:07:32.650Z"
   },
   {
    "duration": 387,
    "start_time": "2022-04-22T05:07:32.785Z"
   },
   {
    "duration": 88,
    "start_time": "2022-04-22T05:07:33.174Z"
   },
   {
    "duration": 105,
    "start_time": "2022-04-22T05:07:33.265Z"
   },
   {
    "duration": 397,
    "start_time": "2022-04-22T05:07:33.372Z"
   },
   {
    "duration": 64,
    "start_time": "2022-04-22T05:07:33.771Z"
   },
   {
    "duration": 105,
    "start_time": "2022-04-22T05:07:33.836Z"
   },
   {
    "duration": 0,
    "start_time": "2022-04-22T05:07:33.943Z"
   },
   {
    "duration": 0,
    "start_time": "2022-04-22T05:07:33.944Z"
   },
   {
    "duration": 0,
    "start_time": "2022-04-22T05:07:33.945Z"
   },
   {
    "duration": 0,
    "start_time": "2022-04-22T05:07:33.946Z"
   },
   {
    "duration": 0,
    "start_time": "2022-04-22T05:07:33.947Z"
   },
   {
    "duration": 0,
    "start_time": "2022-04-22T05:07:33.949Z"
   },
   {
    "duration": 0,
    "start_time": "2022-04-22T05:07:33.949Z"
   },
   {
    "duration": 0,
    "start_time": "2022-04-22T05:07:33.951Z"
   },
   {
    "duration": 0,
    "start_time": "2022-04-22T05:07:33.952Z"
   },
   {
    "duration": 112,
    "start_time": "2022-04-22T05:08:51.707Z"
   },
   {
    "duration": 112,
    "start_time": "2022-04-22T05:09:11.423Z"
   },
   {
    "duration": 133,
    "start_time": "2022-04-22T05:09:15.007Z"
   },
   {
    "duration": 60,
    "start_time": "2022-04-22T05:09:20.663Z"
   },
   {
    "duration": 141,
    "start_time": "2022-04-22T05:09:22.462Z"
   },
   {
    "duration": 131,
    "start_time": "2022-04-22T05:09:31.011Z"
   },
   {
    "duration": 44,
    "start_time": "2022-04-22T05:09:32.802Z"
   },
   {
    "duration": 132,
    "start_time": "2022-04-22T05:09:39.629Z"
   },
   {
    "duration": 2818,
    "start_time": "2022-04-22T05:09:47.399Z"
   },
   {
    "duration": 27,
    "start_time": "2022-04-22T05:10:08.961Z"
   },
   {
    "duration": 137,
    "start_time": "2022-04-22T05:10:13.240Z"
   },
   {
    "duration": 202,
    "start_time": "2022-04-22T05:10:25.144Z"
   },
   {
    "duration": 49,
    "start_time": "2022-04-22T05:11:52.911Z"
   },
   {
    "duration": 133,
    "start_time": "2022-04-22T05:11:57.277Z"
   },
   {
    "duration": 24,
    "start_time": "2022-04-22T05:12:04.892Z"
   },
   {
    "duration": 17,
    "start_time": "2022-04-22T05:12:42.828Z"
   },
   {
    "duration": 138,
    "start_time": "2022-04-22T05:12:45.584Z"
   },
   {
    "duration": 54,
    "start_time": "2022-04-22T05:13:24.644Z"
   },
   {
    "duration": 45,
    "start_time": "2022-04-22T05:14:38.942Z"
   },
   {
    "duration": 1822,
    "start_time": "2022-04-22T05:16:55.762Z"
   },
   {
    "duration": 85745,
    "start_time": "2022-04-22T05:17:17.432Z"
   },
   {
    "duration": 12,
    "start_time": "2022-04-22T05:19:12.806Z"
   },
   {
    "duration": 99,
    "start_time": "2022-04-22T05:19:18.911Z"
   },
   {
    "duration": 641758,
    "start_time": "2022-04-22T05:19:59.977Z"
   },
   {
    "duration": 120,
    "start_time": "2022-04-22T06:27:22.922Z"
   },
   {
    "duration": 22,
    "start_time": "2022-04-22T06:28:27.542Z"
   },
   {
    "duration": 33,
    "start_time": "2022-04-22T06:29:44.541Z"
   },
   {
    "duration": 28,
    "start_time": "2022-04-22T06:30:11.350Z"
   },
   {
    "duration": 9,
    "start_time": "2022-04-22T06:31:48.924Z"
   },
   {
    "duration": 5149,
    "start_time": "2022-04-22T06:32:21.791Z"
   },
   {
    "duration": 4358,
    "start_time": "2022-04-22T06:39:07.483Z"
   },
   {
    "duration": 2460,
    "start_time": "2022-04-22T06:40:12.707Z"
   },
   {
    "duration": 2400,
    "start_time": "2022-04-22T06:40:17.370Z"
   },
   {
    "duration": 148,
    "start_time": "2022-04-22T06:41:12.727Z"
   },
   {
    "duration": 2263,
    "start_time": "2022-04-22T06:41:17.123Z"
   },
   {
    "duration": 13,
    "start_time": "2022-04-22T06:41:27.402Z"
   },
   {
    "duration": 12,
    "start_time": "2022-04-22T06:41:36.000Z"
   },
   {
    "duration": 15,
    "start_time": "2022-04-22T06:41:39.195Z"
   },
   {
    "duration": 17,
    "start_time": "2022-04-22T06:41:42.651Z"
   },
   {
    "duration": 47,
    "start_time": "2022-04-22T06:42:41.052Z"
   },
   {
    "duration": 4279,
    "start_time": "2022-04-22T06:42:55.243Z"
   },
   {
    "duration": 13,
    "start_time": "2022-04-22T06:43:27.040Z"
   },
   {
    "duration": 5,
    "start_time": "2022-04-22T06:43:31.383Z"
   },
   {
    "duration": 4,
    "start_time": "2022-04-22T06:43:42.728Z"
   },
   {
    "duration": 10,
    "start_time": "2022-04-22T06:43:56.379Z"
   },
   {
    "duration": 5,
    "start_time": "2022-04-22T06:44:09.107Z"
   },
   {
    "duration": 2267,
    "start_time": "2022-04-22T06:45:56.128Z"
   },
   {
    "duration": 2261,
    "start_time": "2022-04-22T06:57:42.868Z"
   },
   {
    "duration": 1262,
    "start_time": "2022-04-22T06:57:45.132Z"
   },
   {
    "duration": 268,
    "start_time": "2022-04-22T06:57:46.396Z"
   },
   {
    "duration": 770,
    "start_time": "2022-04-22T06:57:46.666Z"
   },
   {
    "duration": 882,
    "start_time": "2022-04-22T06:57:47.439Z"
   },
   {
    "duration": 739,
    "start_time": "2022-04-22T06:57:48.324Z"
   },
   {
    "duration": 256,
    "start_time": "2022-04-22T06:57:49.065Z"
   },
   {
    "duration": 776,
    "start_time": "2022-04-22T06:57:49.323Z"
   },
   {
    "duration": 164,
    "start_time": "2022-04-22T06:57:50.102Z"
   },
   {
    "duration": 192,
    "start_time": "2022-04-22T06:57:50.269Z"
   },
   {
    "duration": 443,
    "start_time": "2022-04-22T06:57:50.464Z"
   },
   {
    "duration": 54,
    "start_time": "2022-04-22T06:57:50.910Z"
   },
   {
    "duration": 155,
    "start_time": "2022-04-22T06:57:50.966Z"
   },
   {
    "duration": 150,
    "start_time": "2022-04-22T06:57:51.124Z"
   },
   {
    "duration": 0,
    "start_time": "2022-04-22T06:57:51.277Z"
   },
   {
    "duration": 0,
    "start_time": "2022-04-22T06:57:51.278Z"
   },
   {
    "duration": 0,
    "start_time": "2022-04-22T06:57:51.280Z"
   },
   {
    "duration": 0,
    "start_time": "2022-04-22T06:57:51.281Z"
   },
   {
    "duration": 0,
    "start_time": "2022-04-22T06:57:51.283Z"
   },
   {
    "duration": 0,
    "start_time": "2022-04-22T06:57:51.284Z"
   },
   {
    "duration": 0,
    "start_time": "2022-04-22T06:57:51.286Z"
   },
   {
    "duration": 0,
    "start_time": "2022-04-22T06:57:51.287Z"
   },
   {
    "duration": 0,
    "start_time": "2022-04-22T06:57:51.289Z"
   },
   {
    "duration": 0,
    "start_time": "2022-04-22T06:57:51.290Z"
   },
   {
    "duration": 0,
    "start_time": "2022-04-22T06:57:51.292Z"
   },
   {
    "duration": 0,
    "start_time": "2022-04-22T06:57:51.294Z"
   },
   {
    "duration": 0,
    "start_time": "2022-04-22T06:57:51.295Z"
   },
   {
    "duration": 0,
    "start_time": "2022-04-22T06:57:51.297Z"
   },
   {
    "duration": 0,
    "start_time": "2022-04-22T06:57:51.298Z"
   },
   {
    "duration": 0,
    "start_time": "2022-04-22T06:57:51.300Z"
   },
   {
    "duration": 0,
    "start_time": "2022-04-22T06:57:51.301Z"
   },
   {
    "duration": 0,
    "start_time": "2022-04-22T06:57:51.303Z"
   },
   {
    "duration": 0,
    "start_time": "2022-04-22T06:57:51.304Z"
   },
   {
    "duration": 0,
    "start_time": "2022-04-22T06:57:51.306Z"
   },
   {
    "duration": 0,
    "start_time": "2022-04-22T06:57:51.307Z"
   },
   {
    "duration": 0,
    "start_time": "2022-04-22T06:57:51.309Z"
   },
   {
    "duration": 118,
    "start_time": "2022-04-22T07:03:46.642Z"
   },
   {
    "duration": 10,
    "start_time": "2022-04-22T07:03:52.794Z"
   },
   {
    "duration": 16,
    "start_time": "2022-04-22T07:03:58.922Z"
   },
   {
    "duration": 25,
    "start_time": "2022-04-22T07:04:09.750Z"
   },
   {
    "duration": 13,
    "start_time": "2022-04-22T07:04:44.655Z"
   },
   {
    "duration": 11,
    "start_time": "2022-04-22T07:04:55.219Z"
   },
   {
    "duration": 46,
    "start_time": "2022-04-22T07:05:49.935Z"
   },
   {
    "duration": 11,
    "start_time": "2022-04-22T07:06:24.943Z"
   },
   {
    "duration": 54,
    "start_time": "2022-04-22T07:06:27.891Z"
   },
   {
    "duration": 58,
    "start_time": "2022-04-22T07:45:36.686Z"
   },
   {
    "duration": 48,
    "start_time": "2022-04-22T07:46:10.198Z"
   },
   {
    "duration": 57,
    "start_time": "2022-04-22T07:46:19.701Z"
   },
   {
    "duration": 23,
    "start_time": "2022-04-22T07:49:59.111Z"
   },
   {
    "duration": 109,
    "start_time": "2022-04-22T07:51:58.232Z"
   },
   {
    "duration": 1762,
    "start_time": "2022-04-22T07:53:21.597Z"
   },
   {
    "duration": 1320,
    "start_time": "2022-04-22T07:53:23.362Z"
   },
   {
    "duration": 266,
    "start_time": "2022-04-22T07:53:24.685Z"
   },
   {
    "duration": 759,
    "start_time": "2022-04-22T07:53:24.953Z"
   },
   {
    "duration": 878,
    "start_time": "2022-04-22T07:53:25.715Z"
   },
   {
    "duration": 726,
    "start_time": "2022-04-22T07:53:26.595Z"
   },
   {
    "duration": 260,
    "start_time": "2022-04-22T07:53:27.323Z"
   },
   {
    "duration": 784,
    "start_time": "2022-04-22T07:53:27.592Z"
   },
   {
    "duration": 95,
    "start_time": "2022-04-22T07:53:28.379Z"
   },
   {
    "duration": 205,
    "start_time": "2022-04-22T07:53:28.476Z"
   },
   {
    "duration": 687,
    "start_time": "2022-04-22T07:53:28.684Z"
   },
   {
    "duration": 81,
    "start_time": "2022-04-22T07:53:29.373Z"
   },
   {
    "duration": 227,
    "start_time": "2022-04-22T07:53:29.457Z"
   },
   {
    "duration": 201,
    "start_time": "2022-04-22T07:53:29.693Z"
   },
   {
    "duration": 0,
    "start_time": "2022-04-22T07:53:29.896Z"
   },
   {
    "duration": 0,
    "start_time": "2022-04-22T07:53:29.897Z"
   },
   {
    "duration": 0,
    "start_time": "2022-04-22T07:53:29.899Z"
   },
   {
    "duration": 0,
    "start_time": "2022-04-22T07:53:29.900Z"
   },
   {
    "duration": 0,
    "start_time": "2022-04-22T07:53:29.901Z"
   },
   {
    "duration": 0,
    "start_time": "2022-04-22T07:53:29.903Z"
   },
   {
    "duration": 0,
    "start_time": "2022-04-22T07:53:29.904Z"
   },
   {
    "duration": 0,
    "start_time": "2022-04-22T07:53:29.905Z"
   },
   {
    "duration": 0,
    "start_time": "2022-04-22T07:53:29.907Z"
   },
   {
    "duration": 0,
    "start_time": "2022-04-22T07:53:29.908Z"
   },
   {
    "duration": 0,
    "start_time": "2022-04-22T07:53:29.909Z"
   },
   {
    "duration": 0,
    "start_time": "2022-04-22T07:53:29.911Z"
   },
   {
    "duration": 0,
    "start_time": "2022-04-22T07:53:29.912Z"
   },
   {
    "duration": 0,
    "start_time": "2022-04-22T07:53:29.913Z"
   },
   {
    "duration": 0,
    "start_time": "2022-04-22T07:53:29.915Z"
   },
   {
    "duration": 0,
    "start_time": "2022-04-22T07:53:29.916Z"
   },
   {
    "duration": 0,
    "start_time": "2022-04-22T07:53:29.917Z"
   },
   {
    "duration": 0,
    "start_time": "2022-04-22T07:53:29.919Z"
   },
   {
    "duration": 0,
    "start_time": "2022-04-22T07:53:29.920Z"
   },
   {
    "duration": 0,
    "start_time": "2022-04-22T07:53:29.922Z"
   },
   {
    "duration": 0,
    "start_time": "2022-04-22T07:53:29.923Z"
   },
   {
    "duration": 0,
    "start_time": "2022-04-22T07:53:29.924Z"
   },
   {
    "duration": 0,
    "start_time": "2022-04-22T07:53:29.925Z"
   },
   {
    "duration": 0,
    "start_time": "2022-04-22T07:53:29.927Z"
   },
   {
    "duration": 0,
    "start_time": "2022-04-22T07:53:29.928Z"
   },
   {
    "duration": 24,
    "start_time": "2022-04-22T07:55:30.510Z"
   },
   {
    "duration": 14,
    "start_time": "2022-04-22T07:57:35.474Z"
   },
   {
    "duration": 15,
    "start_time": "2022-04-22T07:57:53.214Z"
   },
   {
    "duration": 33,
    "start_time": "2022-04-22T07:57:55.098Z"
   },
   {
    "duration": 108,
    "start_time": "2022-04-22T07:58:28.199Z"
   },
   {
    "duration": 99,
    "start_time": "2022-04-22T07:59:11.365Z"
   },
   {
    "duration": 26,
    "start_time": "2022-04-22T07:59:13.667Z"
   },
   {
    "duration": 42,
    "start_time": "2022-04-22T07:59:24.678Z"
   },
   {
    "duration": 10,
    "start_time": "2022-04-22T07:59:40.247Z"
   },
   {
    "duration": 1561,
    "start_time": "2022-04-22T07:59:48.119Z"
   },
   {
    "duration": 864,
    "start_time": "2022-04-22T07:59:49.682Z"
   },
   {
    "duration": 146,
    "start_time": "2022-04-22T07:59:50.548Z"
   },
   {
    "duration": 490,
    "start_time": "2022-04-22T07:59:50.696Z"
   },
   {
    "duration": 609,
    "start_time": "2022-04-22T07:59:51.188Z"
   },
   {
    "duration": 494,
    "start_time": "2022-04-22T07:59:51.799Z"
   },
   {
    "duration": 136,
    "start_time": "2022-04-22T07:59:52.295Z"
   },
   {
    "duration": 399,
    "start_time": "2022-04-22T07:59:52.433Z"
   },
   {
    "duration": 89,
    "start_time": "2022-04-22T07:59:52.834Z"
   },
   {
    "duration": 119,
    "start_time": "2022-04-22T07:59:52.925Z"
   },
   {
    "duration": 457,
    "start_time": "2022-04-22T07:59:53.046Z"
   },
   {
    "duration": 55,
    "start_time": "2022-04-22T07:59:53.505Z"
   },
   {
    "duration": 158,
    "start_time": "2022-04-22T07:59:53.562Z"
   },
   {
    "duration": 123,
    "start_time": "2022-04-22T07:59:53.724Z"
   },
   {
    "duration": 0,
    "start_time": "2022-04-22T07:59:53.849Z"
   },
   {
    "duration": 0,
    "start_time": "2022-04-22T07:59:53.850Z"
   },
   {
    "duration": 0,
    "start_time": "2022-04-22T07:59:53.851Z"
   },
   {
    "duration": 0,
    "start_time": "2022-04-22T07:59:53.852Z"
   },
   {
    "duration": 0,
    "start_time": "2022-04-22T07:59:53.853Z"
   },
   {
    "duration": 0,
    "start_time": "2022-04-22T07:59:53.854Z"
   },
   {
    "duration": 0,
    "start_time": "2022-04-22T07:59:53.855Z"
   },
   {
    "duration": 0,
    "start_time": "2022-04-22T07:59:53.856Z"
   },
   {
    "duration": 0,
    "start_time": "2022-04-22T07:59:53.857Z"
   },
   {
    "duration": 0,
    "start_time": "2022-04-22T07:59:53.858Z"
   },
   {
    "duration": 0,
    "start_time": "2022-04-22T07:59:53.859Z"
   },
   {
    "duration": 0,
    "start_time": "2022-04-22T07:59:53.860Z"
   },
   {
    "duration": 0,
    "start_time": "2022-04-22T07:59:53.861Z"
   },
   {
    "duration": 0,
    "start_time": "2022-04-22T07:59:53.862Z"
   },
   {
    "duration": 0,
    "start_time": "2022-04-22T07:59:53.863Z"
   },
   {
    "duration": 0,
    "start_time": "2022-04-22T07:59:53.892Z"
   },
   {
    "duration": 0,
    "start_time": "2022-04-22T07:59:53.894Z"
   },
   {
    "duration": 0,
    "start_time": "2022-04-22T07:59:53.895Z"
   },
   {
    "duration": 0,
    "start_time": "2022-04-22T07:59:53.896Z"
   },
   {
    "duration": 0,
    "start_time": "2022-04-22T07:59:53.897Z"
   },
   {
    "duration": 0,
    "start_time": "2022-04-22T07:59:53.898Z"
   },
   {
    "duration": 0,
    "start_time": "2022-04-22T07:59:53.899Z"
   },
   {
    "duration": 0,
    "start_time": "2022-04-22T07:59:53.899Z"
   },
   {
    "duration": 0,
    "start_time": "2022-04-22T07:59:53.900Z"
   },
   {
    "duration": 0,
    "start_time": "2022-04-22T07:59:53.901Z"
   },
   {
    "duration": 0,
    "start_time": "2022-04-22T07:59:53.902Z"
   },
   {
    "duration": 0,
    "start_time": "2022-04-22T07:59:53.903Z"
   },
   {
    "duration": 0,
    "start_time": "2022-04-22T07:59:53.904Z"
   },
   {
    "duration": 6,
    "start_time": "2022-04-22T08:00:13.321Z"
   },
   {
    "duration": 16,
    "start_time": "2022-04-22T08:00:15.739Z"
   },
   {
    "duration": 18,
    "start_time": "2022-04-22T08:00:17.707Z"
   },
   {
    "duration": 32,
    "start_time": "2022-04-22T08:00:22.527Z"
   },
   {
    "duration": 100,
    "start_time": "2022-04-22T08:00:52.351Z"
   },
   {
    "duration": 131,
    "start_time": "2022-04-22T08:01:09.310Z"
   },
   {
    "duration": 33,
    "start_time": "2022-04-22T08:01:18.915Z"
   },
   {
    "duration": 106,
    "start_time": "2022-04-22T08:01:28.786Z"
   },
   {
    "duration": 10,
    "start_time": "2022-04-22T08:01:30.481Z"
   },
   {
    "duration": 10,
    "start_time": "2022-04-22T08:01:46.391Z"
   },
   {
    "duration": 89,
    "start_time": "2022-04-22T08:02:37.115Z"
   },
   {
    "duration": 6,
    "start_time": "2022-04-22T08:02:40.636Z"
   },
   {
    "duration": 63,
    "start_time": "2022-04-22T08:03:01.401Z"
   },
   {
    "duration": 5,
    "start_time": "2022-04-22T08:03:01.843Z"
   },
   {
    "duration": 41,
    "start_time": "2022-04-22T08:03:27.200Z"
   },
   {
    "duration": 5,
    "start_time": "2022-04-22T08:03:27.737Z"
   },
   {
    "duration": 61,
    "start_time": "2022-04-22T08:12:20.372Z"
   },
   {
    "duration": 6,
    "start_time": "2022-04-22T08:12:22.932Z"
   },
   {
    "duration": 234,
    "start_time": "2022-04-22T08:18:38.350Z"
   },
   {
    "duration": 217,
    "start_time": "2022-04-22T08:19:00.887Z"
   },
   {
    "duration": 146,
    "start_time": "2022-04-22T08:19:09.482Z"
   },
   {
    "duration": 241,
    "start_time": "2022-04-22T08:19:12.498Z"
   },
   {
    "duration": 391,
    "start_time": "2022-04-22T08:19:25.258Z"
   },
   {
    "duration": 233,
    "start_time": "2022-04-22T08:19:32.027Z"
   },
   {
    "duration": 209,
    "start_time": "2022-04-22T08:19:54.415Z"
   },
   {
    "duration": 206,
    "start_time": "2022-04-22T08:20:01.027Z"
   },
   {
    "duration": 135,
    "start_time": "2022-04-22T09:39:58.226Z"
   },
   {
    "duration": 136,
    "start_time": "2022-04-22T09:40:21.646Z"
   },
   {
    "duration": 3187,
    "start_time": "2022-04-22T09:40:43.841Z"
   },
   {
    "duration": 28,
    "start_time": "2022-04-22T09:40:47.978Z"
   },
   {
    "duration": 54,
    "start_time": "2022-04-22T09:41:02.935Z"
   },
   {
    "duration": 7,
    "start_time": "2022-04-22T09:41:06.199Z"
   },
   {
    "duration": 4,
    "start_time": "2022-04-22T09:47:41.571Z"
   },
   {
    "duration": 5,
    "start_time": "2022-04-22T09:47:48.921Z"
   },
   {
    "duration": 4,
    "start_time": "2022-04-22T09:48:18.984Z"
   },
   {
    "duration": 10,
    "start_time": "2022-04-22T09:49:15.240Z"
   },
   {
    "duration": 70,
    "start_time": "2022-04-22T09:49:19.752Z"
   },
   {
    "duration": 686,
    "start_time": "2022-04-22T09:49:21.320Z"
   },
   {
    "duration": 24,
    "start_time": "2022-04-22T09:49:29.439Z"
   },
   {
    "duration": 1457,
    "start_time": "2022-04-22T09:58:05.900Z"
   },
   {
    "duration": 898,
    "start_time": "2022-04-22T09:58:07.359Z"
   },
   {
    "duration": 271,
    "start_time": "2022-04-22T09:58:08.259Z"
   },
   {
    "duration": 752,
    "start_time": "2022-04-22T09:58:08.533Z"
   },
   {
    "duration": 865,
    "start_time": "2022-04-22T09:58:09.292Z"
   },
   {
    "duration": 746,
    "start_time": "2022-04-22T09:58:10.159Z"
   },
   {
    "duration": 267,
    "start_time": "2022-04-22T09:58:10.907Z"
   },
   {
    "duration": 781,
    "start_time": "2022-04-22T09:58:11.176Z"
   },
   {
    "duration": 167,
    "start_time": "2022-04-22T09:58:11.960Z"
   },
   {
    "duration": 324,
    "start_time": "2022-04-22T09:58:12.130Z"
   },
   {
    "duration": 839,
    "start_time": "2022-04-22T09:58:12.457Z"
   },
   {
    "duration": 122,
    "start_time": "2022-04-22T09:58:13.299Z"
   },
   {
    "duration": 146,
    "start_time": "2022-04-22T09:58:13.424Z"
   },
   {
    "duration": 125,
    "start_time": "2022-04-22T09:58:13.574Z"
   },
   {
    "duration": 0,
    "start_time": "2022-04-22T09:58:13.701Z"
   },
   {
    "duration": 0,
    "start_time": "2022-04-22T09:58:13.702Z"
   },
   {
    "duration": 0,
    "start_time": "2022-04-22T09:58:13.703Z"
   },
   {
    "duration": 0,
    "start_time": "2022-04-22T09:58:13.704Z"
   },
   {
    "duration": 0,
    "start_time": "2022-04-22T09:58:13.705Z"
   },
   {
    "duration": 0,
    "start_time": "2022-04-22T09:58:13.705Z"
   },
   {
    "duration": 0,
    "start_time": "2022-04-22T09:58:13.706Z"
   },
   {
    "duration": 0,
    "start_time": "2022-04-22T09:58:13.707Z"
   },
   {
    "duration": 0,
    "start_time": "2022-04-22T09:58:13.708Z"
   },
   {
    "duration": 0,
    "start_time": "2022-04-22T09:58:13.709Z"
   },
   {
    "duration": 0,
    "start_time": "2022-04-22T09:58:13.711Z"
   },
   {
    "duration": 0,
    "start_time": "2022-04-22T09:58:13.712Z"
   },
   {
    "duration": 0,
    "start_time": "2022-04-22T09:58:13.713Z"
   },
   {
    "duration": 0,
    "start_time": "2022-04-22T09:58:13.714Z"
   },
   {
    "duration": 0,
    "start_time": "2022-04-22T09:58:13.715Z"
   },
   {
    "duration": 0,
    "start_time": "2022-04-22T09:58:13.716Z"
   },
   {
    "duration": 0,
    "start_time": "2022-04-22T09:58:13.718Z"
   },
   {
    "duration": 0,
    "start_time": "2022-04-22T09:58:13.720Z"
   },
   {
    "duration": 0,
    "start_time": "2022-04-22T09:58:13.721Z"
   },
   {
    "duration": 0,
    "start_time": "2022-04-22T09:58:13.722Z"
   },
   {
    "duration": 0,
    "start_time": "2022-04-22T09:58:13.724Z"
   },
   {
    "duration": 0,
    "start_time": "2022-04-22T09:58:13.725Z"
   },
   {
    "duration": 0,
    "start_time": "2022-04-22T09:58:13.726Z"
   },
   {
    "duration": 0,
    "start_time": "2022-04-22T09:58:13.728Z"
   },
   {
    "duration": 0,
    "start_time": "2022-04-22T09:58:13.729Z"
   },
   {
    "duration": 0,
    "start_time": "2022-04-22T09:58:13.730Z"
   },
   {
    "duration": 0,
    "start_time": "2022-04-22T09:58:13.732Z"
   },
   {
    "duration": 0,
    "start_time": "2022-04-22T09:58:13.733Z"
   },
   {
    "duration": 0,
    "start_time": "2022-04-22T09:58:13.734Z"
   },
   {
    "duration": 0,
    "start_time": "2022-04-22T09:58:13.736Z"
   },
   {
    "duration": 0,
    "start_time": "2022-04-22T09:58:13.793Z"
   },
   {
    "duration": 0,
    "start_time": "2022-04-22T09:58:13.794Z"
   },
   {
    "duration": 0,
    "start_time": "2022-04-22T09:58:13.795Z"
   },
   {
    "duration": 0,
    "start_time": "2022-04-22T09:58:13.797Z"
   },
   {
    "duration": 0,
    "start_time": "2022-04-22T09:58:13.798Z"
   },
   {
    "duration": 0,
    "start_time": "2022-04-22T09:58:13.800Z"
   },
   {
    "duration": 0,
    "start_time": "2022-04-22T09:58:13.801Z"
   },
   {
    "duration": 0,
    "start_time": "2022-04-22T09:58:13.803Z"
   },
   {
    "duration": 0,
    "start_time": "2022-04-22T09:58:13.804Z"
   },
   {
    "duration": 1529,
    "start_time": "2022-04-22T09:58:38.252Z"
   },
   {
    "duration": 892,
    "start_time": "2022-04-22T09:58:39.783Z"
   },
   {
    "duration": 147,
    "start_time": "2022-04-22T09:58:40.677Z"
   },
   {
    "duration": 508,
    "start_time": "2022-04-22T09:58:40.825Z"
   },
   {
    "duration": 593,
    "start_time": "2022-04-22T09:58:41.336Z"
   },
   {
    "duration": 485,
    "start_time": "2022-04-22T09:58:41.930Z"
   },
   {
    "duration": 143,
    "start_time": "2022-04-22T09:58:42.417Z"
   },
   {
    "duration": 409,
    "start_time": "2022-04-22T09:58:42.562Z"
   },
   {
    "duration": 165,
    "start_time": "2022-04-22T09:58:42.974Z"
   },
   {
    "duration": 197,
    "start_time": "2022-04-22T09:58:43.141Z"
   },
   {
    "duration": 613,
    "start_time": "2022-04-22T09:58:43.340Z"
   },
   {
    "duration": 77,
    "start_time": "2022-04-22T09:58:43.955Z"
   },
   {
    "duration": 224,
    "start_time": "2022-04-22T09:58:44.034Z"
   },
   {
    "duration": 192,
    "start_time": "2022-04-22T09:58:44.263Z"
   },
   {
    "duration": 280,
    "start_time": "2022-04-22T09:58:44.458Z"
   },
   {
    "duration": 20,
    "start_time": "2022-04-22T09:58:44.741Z"
   },
   {
    "duration": 70,
    "start_time": "2022-04-22T09:58:44.764Z"
   },
   {
    "duration": 25,
    "start_time": "2022-04-22T09:58:44.837Z"
   },
   {
    "duration": 132,
    "start_time": "2022-04-22T09:58:44.865Z"
   },
   {
    "duration": 12,
    "start_time": "2022-04-22T09:58:45.000Z"
   },
   {
    "duration": 116,
    "start_time": "2022-04-22T09:58:45.014Z"
   },
   {
    "duration": 7,
    "start_time": "2022-04-22T09:58:45.132Z"
   },
   {
    "duration": 95,
    "start_time": "2022-04-22T09:58:45.142Z"
   },
   {
    "duration": 7,
    "start_time": "2022-04-22T09:58:45.239Z"
   },
   {
    "duration": 62,
    "start_time": "2022-04-22T09:58:45.248Z"
   },
   {
    "duration": 10,
    "start_time": "2022-04-22T09:58:45.312Z"
   },
   {
    "duration": 63,
    "start_time": "2022-04-22T09:58:45.323Z"
   },
   {
    "duration": 85,
    "start_time": "2022-04-22T09:58:45.388Z"
   },
   {
    "duration": 291,
    "start_time": "2022-04-22T09:58:45.476Z"
   },
   {
    "duration": 5260,
    "start_time": "2022-04-22T09:58:45.770Z"
   },
   {
    "duration": 27,
    "start_time": "2022-04-22T09:58:51.032Z"
   },
   {
    "duration": 138,
    "start_time": "2022-04-22T09:58:51.061Z"
   },
   {
    "duration": 3,
    "start_time": "2022-04-22T09:58:51.201Z"
   },
   {
    "duration": 18,
    "start_time": "2022-04-22T09:58:51.207Z"
   },
   {
    "duration": 8,
    "start_time": "2022-04-22T09:58:51.227Z"
   },
   {
    "duration": 136,
    "start_time": "2022-04-22T09:58:51.237Z"
   },
   {
    "duration": 0,
    "start_time": "2022-04-22T09:58:51.376Z"
   },
   {
    "duration": 0,
    "start_time": "2022-04-22T09:58:51.377Z"
   },
   {
    "duration": 0,
    "start_time": "2022-04-22T09:58:51.378Z"
   },
   {
    "duration": 0,
    "start_time": "2022-04-22T09:58:51.379Z"
   },
   {
    "duration": 0,
    "start_time": "2022-04-22T09:58:51.380Z"
   },
   {
    "duration": 0,
    "start_time": "2022-04-22T09:58:51.381Z"
   },
   {
    "duration": 0,
    "start_time": "2022-04-22T09:58:51.382Z"
   },
   {
    "duration": 0,
    "start_time": "2022-04-22T09:58:51.393Z"
   },
   {
    "duration": 0,
    "start_time": "2022-04-22T09:58:51.394Z"
   },
   {
    "duration": 0,
    "start_time": "2022-04-22T09:58:51.395Z"
   },
   {
    "duration": 0,
    "start_time": "2022-04-22T09:58:51.396Z"
   },
   {
    "duration": 0,
    "start_time": "2022-04-22T09:58:51.397Z"
   },
   {
    "duration": 0,
    "start_time": "2022-04-22T09:58:51.398Z"
   },
   {
    "duration": 0,
    "start_time": "2022-04-22T09:58:51.399Z"
   },
   {
    "duration": 0,
    "start_time": "2022-04-22T09:58:51.400Z"
   },
   {
    "duration": 0,
    "start_time": "2022-04-22T09:58:51.401Z"
   },
   {
    "duration": 25,
    "start_time": "2022-04-22T10:39:47.755Z"
   },
   {
    "duration": 146,
    "start_time": "2022-04-22T10:39:53.848Z"
   },
   {
    "duration": 33,
    "start_time": "2022-04-22T10:39:58.896Z"
   },
   {
    "duration": 5,
    "start_time": "2022-04-22T10:40:10.840Z"
   },
   {
    "duration": 13,
    "start_time": "2022-04-22T10:41:22.909Z"
   },
   {
    "duration": 5,
    "start_time": "2022-04-22T10:41:27.063Z"
   },
   {
    "duration": 30,
    "start_time": "2022-04-22T10:41:47.095Z"
   },
   {
    "duration": 80,
    "start_time": "2022-04-22T10:41:54.505Z"
   },
   {
    "duration": 24,
    "start_time": "2022-04-22T10:41:57.055Z"
   },
   {
    "duration": 22,
    "start_time": "2022-04-22T10:42:13.715Z"
   },
   {
    "duration": 44,
    "start_time": "2022-04-22T10:42:32.170Z"
   },
   {
    "duration": 3,
    "start_time": "2022-04-22T10:44:09.513Z"
   },
   {
    "duration": 4,
    "start_time": "2022-04-22T10:44:11.258Z"
   },
   {
    "duration": 750,
    "start_time": "2022-04-22T10:46:42.803Z"
   },
   {
    "duration": 26,
    "start_time": "2022-04-22T10:46:46.618Z"
   },
   {
    "duration": 19,
    "start_time": "2022-04-22T10:47:03.507Z"
   },
   {
    "duration": 27,
    "start_time": "2022-04-22T10:47:12.726Z"
   },
   {
    "duration": 4940,
    "start_time": "2022-04-22T10:48:35.470Z"
   },
   {
    "duration": 19,
    "start_time": "2022-04-22T10:49:05.566Z"
   },
   {
    "duration": 51,
    "start_time": "2022-04-22T10:49:06.788Z"
   },
   {
    "duration": 3,
    "start_time": "2022-04-22T10:49:23.724Z"
   },
   {
    "duration": 12,
    "start_time": "2022-04-22T10:58:09.990Z"
   },
   {
    "duration": 11,
    "start_time": "2022-04-22T10:58:24.846Z"
   },
   {
    "duration": 103,
    "start_time": "2022-04-22T10:58:45.550Z"
   },
   {
    "duration": 5,
    "start_time": "2022-04-22T10:58:49.422Z"
   },
   {
    "duration": 6,
    "start_time": "2022-04-22T10:58:54.754Z"
   },
   {
    "duration": 179,
    "start_time": "2022-04-22T11:02:46.649Z"
   },
   {
    "duration": 119,
    "start_time": "2022-04-22T11:03:14.994Z"
   },
   {
    "duration": 4,
    "start_time": "2022-04-22T11:03:28.289Z"
   },
   {
    "duration": 3,
    "start_time": "2022-04-22T11:03:41.080Z"
   },
   {
    "duration": 3,
    "start_time": "2022-04-22T11:03:46.408Z"
   },
   {
    "duration": 4,
    "start_time": "2022-04-22T11:03:48.264Z"
   },
   {
    "duration": 171,
    "start_time": "2022-04-22T11:04:04.582Z"
   },
   {
    "duration": 7,
    "start_time": "2022-04-22T11:05:24.127Z"
   },
   {
    "duration": 194,
    "start_time": "2022-04-22T11:06:07.068Z"
   },
   {
    "duration": 88,
    "start_time": "2022-04-22T11:06:20.193Z"
   },
   {
    "duration": 17,
    "start_time": "2022-04-22T11:06:27.016Z"
   },
   {
    "duration": 21,
    "start_time": "2022-04-22T11:06:43.331Z"
   },
   {
    "duration": 105,
    "start_time": "2022-04-22T11:07:16.869Z"
   },
   {
    "duration": 36,
    "start_time": "2022-04-22T11:07:47.706Z"
   },
   {
    "duration": 103,
    "start_time": "2022-04-22T11:08:05.200Z"
   },
   {
    "duration": 28,
    "start_time": "2022-04-22T11:08:08.576Z"
   },
   {
    "duration": 23,
    "start_time": "2022-04-22T11:08:17.438Z"
   },
   {
    "duration": 108,
    "start_time": "2022-04-22T11:08:20.078Z"
   },
   {
    "duration": 18,
    "start_time": "2022-04-22T11:08:22.764Z"
   },
   {
    "duration": 114,
    "start_time": "2022-04-22T11:08:25.294Z"
   },
   {
    "duration": 17,
    "start_time": "2022-04-22T11:08:26.662Z"
   },
   {
    "duration": 3,
    "start_time": "2022-04-22T11:09:37.540Z"
   },
   {
    "duration": 162,
    "start_time": "2022-04-22T11:11:53.605Z"
   },
   {
    "duration": 418,
    "start_time": "2022-04-22T11:13:45.567Z"
   },
   {
    "duration": 462,
    "start_time": "2022-04-22T11:13:54.966Z"
   },
   {
    "duration": 310,
    "start_time": "2022-04-22T11:14:11.614Z"
   },
   {
    "duration": 493,
    "start_time": "2022-04-22T11:15:13.542Z"
   },
   {
    "duration": 104,
    "start_time": "2022-04-22T11:16:42.919Z"
   },
   {
    "duration": 112,
    "start_time": "2022-04-22T11:16:56.319Z"
   },
   {
    "duration": 245,
    "start_time": "2022-04-22T11:17:19.850Z"
   },
   {
    "duration": 168,
    "start_time": "2022-04-22T11:17:41.432Z"
   },
   {
    "duration": 15349,
    "start_time": "2022-04-22T11:18:27.163Z"
   },
   {
    "duration": 25008,
    "start_time": "2022-04-22T11:19:04.447Z"
   },
   {
    "duration": 1324,
    "start_time": "2022-04-23T07:22:56.298Z"
   },
   {
    "duration": 731,
    "start_time": "2022-04-23T07:22:57.624Z"
   },
   {
    "duration": 131,
    "start_time": "2022-04-23T07:22:58.356Z"
   },
   {
    "duration": 434,
    "start_time": "2022-04-23T07:22:58.489Z"
   },
   {
    "duration": 557,
    "start_time": "2022-04-23T07:22:58.925Z"
   },
   {
    "duration": 416,
    "start_time": "2022-04-23T07:22:59.484Z"
   },
   {
    "duration": 119,
    "start_time": "2022-04-23T07:22:59.902Z"
   },
   {
    "duration": 360,
    "start_time": "2022-04-23T07:23:00.022Z"
   },
   {
    "duration": 96,
    "start_time": "2022-04-23T07:23:00.383Z"
   },
   {
    "duration": 112,
    "start_time": "2022-04-23T07:23:00.482Z"
   },
   {
    "duration": 587,
    "start_time": "2022-04-23T07:23:00.596Z"
   },
   {
    "duration": 87,
    "start_time": "2022-04-23T07:23:01.184Z"
   },
   {
    "duration": 129,
    "start_time": "2022-04-23T07:23:01.273Z"
   },
   {
    "duration": 115,
    "start_time": "2022-04-23T07:23:01.404Z"
   },
   {
    "duration": 135,
    "start_time": "2022-04-23T07:23:01.521Z"
   },
   {
    "duration": 16,
    "start_time": "2022-04-23T07:23:01.658Z"
   },
   {
    "duration": 129,
    "start_time": "2022-04-23T07:23:01.675Z"
   },
   {
    "duration": 18,
    "start_time": "2022-04-23T07:23:01.806Z"
   },
   {
    "duration": 113,
    "start_time": "2022-04-23T07:23:01.826Z"
   },
   {
    "duration": 18,
    "start_time": "2022-04-23T07:23:01.941Z"
   },
   {
    "duration": 102,
    "start_time": "2022-04-23T07:23:01.961Z"
   },
   {
    "duration": 7,
    "start_time": "2022-04-23T07:23:02.064Z"
   },
   {
    "duration": 89,
    "start_time": "2022-04-23T07:23:02.072Z"
   },
   {
    "duration": 6,
    "start_time": "2022-04-23T07:23:02.163Z"
   },
   {
    "duration": 43,
    "start_time": "2022-04-23T07:23:02.170Z"
   },
   {
    "duration": 5,
    "start_time": "2022-04-23T07:23:02.214Z"
   },
   {
    "duration": 80,
    "start_time": "2022-04-23T07:23:02.221Z"
   },
   {
    "duration": 52,
    "start_time": "2022-04-23T07:23:02.305Z"
   },
   {
    "duration": 132,
    "start_time": "2022-04-23T07:23:02.358Z"
   },
   {
    "duration": 2834,
    "start_time": "2022-04-23T07:23:02.492Z"
   },
   {
    "duration": 28,
    "start_time": "2022-04-23T07:23:05.328Z"
   },
   {
    "duration": 64,
    "start_time": "2022-04-23T07:23:05.358Z"
   },
   {
    "duration": 33,
    "start_time": "2022-04-23T07:23:05.424Z"
   },
   {
    "duration": 187,
    "start_time": "2022-04-23T07:23:05.459Z"
   },
   {
    "duration": 0,
    "start_time": "2022-04-23T07:23:05.648Z"
   },
   {
    "duration": 0,
    "start_time": "2022-04-23T07:23:05.650Z"
   },
   {
    "duration": 0,
    "start_time": "2022-04-23T07:23:05.655Z"
   },
   {
    "duration": 0,
    "start_time": "2022-04-23T07:23:05.656Z"
   },
   {
    "duration": 0,
    "start_time": "2022-04-23T07:23:05.657Z"
   },
   {
    "duration": 0,
    "start_time": "2022-04-23T07:23:05.659Z"
   },
   {
    "duration": 0,
    "start_time": "2022-04-23T07:23:05.660Z"
   },
   {
    "duration": 0,
    "start_time": "2022-04-23T07:23:05.662Z"
   },
   {
    "duration": 0,
    "start_time": "2022-04-23T07:23:05.663Z"
   },
   {
    "duration": 0,
    "start_time": "2022-04-23T07:23:05.665Z"
   },
   {
    "duration": 0,
    "start_time": "2022-04-23T07:23:05.666Z"
   },
   {
    "duration": 0,
    "start_time": "2022-04-23T07:23:05.668Z"
   },
   {
    "duration": 0,
    "start_time": "2022-04-23T07:23:05.669Z"
   },
   {
    "duration": 0,
    "start_time": "2022-04-23T07:23:05.671Z"
   },
   {
    "duration": 0,
    "start_time": "2022-04-23T07:23:05.672Z"
   },
   {
    "duration": 0,
    "start_time": "2022-04-23T07:23:05.674Z"
   },
   {
    "duration": 0,
    "start_time": "2022-04-23T07:23:05.675Z"
   },
   {
    "duration": 0,
    "start_time": "2022-04-23T07:23:05.676Z"
   },
   {
    "duration": 0,
    "start_time": "2022-04-23T07:23:05.678Z"
   },
   {
    "duration": 0,
    "start_time": "2022-04-23T07:23:05.679Z"
   },
   {
    "duration": 0,
    "start_time": "2022-04-23T07:23:05.681Z"
   },
   {
    "duration": 0,
    "start_time": "2022-04-23T07:23:05.682Z"
   },
   {
    "duration": 0,
    "start_time": "2022-04-23T07:23:05.683Z"
   },
   {
    "duration": 0,
    "start_time": "2022-04-23T07:23:05.685Z"
   },
   {
    "duration": 0,
    "start_time": "2022-04-23T07:23:05.686Z"
   },
   {
    "duration": 2824,
    "start_time": "2022-04-23T07:28:12.574Z"
   },
   {
    "duration": 4,
    "start_time": "2022-04-23T07:28:34.929Z"
   },
   {
    "duration": 113,
    "start_time": "2022-04-23T07:29:40.658Z"
   },
   {
    "duration": 24,
    "start_time": "2022-04-23T07:29:44.226Z"
   },
   {
    "duration": 30,
    "start_time": "2022-04-23T07:30:00.998Z"
   },
   {
    "duration": 50,
    "start_time": "2022-04-23T07:30:01.720Z"
   },
   {
    "duration": 4,
    "start_time": "2022-04-23T07:30:02.513Z"
   },
   {
    "duration": 10,
    "start_time": "2022-04-23T07:30:15.878Z"
   },
   {
    "duration": 5,
    "start_time": "2022-04-23T07:30:19.110Z"
   },
   {
    "duration": 89,
    "start_time": "2022-04-23T07:30:22.886Z"
   },
   {
    "duration": 95,
    "start_time": "2022-04-23T07:30:30.623Z"
   },
   {
    "duration": 15,
    "start_time": "2022-04-23T07:30:31.447Z"
   },
   {
    "duration": 21519,
    "start_time": "2022-04-23T07:30:44.443Z"
   },
   {
    "duration": 2,
    "start_time": "2022-04-23T07:31:15.447Z"
   },
   {
    "duration": 304,
    "start_time": "2022-04-23T07:31:15.961Z"
   },
   {
    "duration": 1729,
    "start_time": "2022-04-23T07:35:14.028Z"
   },
   {
    "duration": 1725,
    "start_time": "2022-04-23T07:35:35.024Z"
   },
   {
    "duration": 2,
    "start_time": "2022-04-23T07:36:11.797Z"
   },
   {
    "duration": 1663,
    "start_time": "2022-04-23T07:36:15.481Z"
   },
   {
    "duration": 4,
    "start_time": "2022-04-23T07:38:51.574Z"
   },
   {
    "duration": 11,
    "start_time": "2022-04-23T07:42:11.211Z"
   },
   {
    "duration": 3,
    "start_time": "2022-04-23T07:42:37.267Z"
   },
   {
    "duration": 6,
    "start_time": "2022-04-23T07:42:42.443Z"
   },
   {
    "duration": 3,
    "start_time": "2022-04-23T07:42:50.563Z"
   },
   {
    "duration": 10,
    "start_time": "2022-04-23T07:42:52.177Z"
   },
   {
    "duration": 3,
    "start_time": "2022-04-23T07:43:07.250Z"
   },
   {
    "duration": 6,
    "start_time": "2022-04-23T07:43:08.753Z"
   },
   {
    "duration": 5,
    "start_time": "2022-04-23T07:43:12.546Z"
   },
   {
    "duration": 4,
    "start_time": "2022-04-23T07:43:31.871Z"
   },
   {
    "duration": 2068,
    "start_time": "2022-04-23T07:44:24.169Z"
   },
   {
    "duration": 14,
    "start_time": "2022-04-23T07:44:57.480Z"
   },
   {
    "duration": 15,
    "start_time": "2022-04-23T07:45:16.152Z"
   },
   {
    "duration": 16,
    "start_time": "2022-04-23T07:45:48.412Z"
   },
   {
    "duration": 1430,
    "start_time": "2022-04-23T07:46:01.913Z"
   },
   {
    "duration": 1307,
    "start_time": "2022-04-23T07:48:34.157Z"
   },
   {
    "duration": 1292,
    "start_time": "2022-04-23T07:48:49.919Z"
   },
   {
    "duration": 1667,
    "start_time": "2022-04-23T07:48:56.353Z"
   },
   {
    "duration": 2483,
    "start_time": "2022-04-23T07:49:06.330Z"
   },
   {
    "duration": 1233,
    "start_time": "2022-04-23T07:49:13.446Z"
   },
   {
    "duration": 55023,
    "start_time": "2022-04-23T07:49:25.294Z"
   },
   {
    "duration": 29967,
    "start_time": "2022-04-23T07:50:33.749Z"
   },
   {
    "duration": 17833,
    "start_time": "2022-04-23T07:51:19.527Z"
   },
   {
    "duration": 51434,
    "start_time": "2022-04-23T07:51:42.978Z"
   },
   {
    "duration": 189,
    "start_time": "2022-04-23T08:11:47.995Z"
   },
   {
    "duration": 3,
    "start_time": "2022-04-23T08:12:01.195Z"
   },
   {
    "duration": 10,
    "start_time": "2022-04-23T08:12:06.874Z"
   },
   {
    "duration": 2,
    "start_time": "2022-04-23T08:12:11.883Z"
   },
   {
    "duration": 1444,
    "start_time": "2022-04-23T08:13:58.687Z"
   },
   {
    "duration": 3,
    "start_time": "2022-04-23T08:14:09.439Z"
   },
   {
    "duration": 95,
    "start_time": "2022-04-23T08:15:04.700Z"
   },
   {
    "duration": 9,
    "start_time": "2022-04-23T08:15:23.616Z"
   },
   {
    "duration": 9,
    "start_time": "2022-04-23T08:15:37.244Z"
   },
   {
    "duration": 1479,
    "start_time": "2022-04-23T08:16:05.682Z"
   },
   {
    "duration": 831,
    "start_time": "2022-04-23T08:16:07.163Z"
   },
   {
    "duration": 136,
    "start_time": "2022-04-23T08:16:07.996Z"
   },
   {
    "duration": 507,
    "start_time": "2022-04-23T08:16:08.135Z"
   },
   {
    "duration": 601,
    "start_time": "2022-04-23T08:16:08.643Z"
   },
   {
    "duration": 491,
    "start_time": "2022-04-23T08:16:09.246Z"
   },
   {
    "duration": 127,
    "start_time": "2022-04-23T08:16:09.739Z"
   },
   {
    "duration": 369,
    "start_time": "2022-04-23T08:16:09.868Z"
   },
   {
    "duration": 84,
    "start_time": "2022-04-23T08:16:10.239Z"
   },
   {
    "duration": 115,
    "start_time": "2022-04-23T08:16:10.325Z"
   },
   {
    "duration": 427,
    "start_time": "2022-04-23T08:16:10.442Z"
   },
   {
    "duration": 60,
    "start_time": "2022-04-23T08:16:10.871Z"
   },
   {
    "duration": 141,
    "start_time": "2022-04-23T08:16:10.933Z"
   },
   {
    "duration": 127,
    "start_time": "2022-04-23T08:16:11.076Z"
   },
   {
    "duration": 139,
    "start_time": "2022-04-23T08:16:11.205Z"
   },
   {
    "duration": 25,
    "start_time": "2022-04-23T08:16:11.345Z"
   },
   {
    "duration": 131,
    "start_time": "2022-04-23T08:16:11.371Z"
   },
   {
    "duration": 19,
    "start_time": "2022-04-23T08:16:11.504Z"
   },
   {
    "duration": 134,
    "start_time": "2022-04-23T08:16:11.524Z"
   },
   {
    "duration": 12,
    "start_time": "2022-04-23T08:16:11.660Z"
   },
   {
    "duration": 100,
    "start_time": "2022-04-23T08:16:11.674Z"
   },
   {
    "duration": 6,
    "start_time": "2022-04-23T08:16:11.777Z"
   },
   {
    "duration": 84,
    "start_time": "2022-04-23T08:16:11.785Z"
   },
   {
    "duration": 7,
    "start_time": "2022-04-23T08:16:11.871Z"
   },
   {
    "duration": 39,
    "start_time": "2022-04-23T08:16:11.880Z"
   },
   {
    "duration": 6,
    "start_time": "2022-04-23T08:16:11.920Z"
   },
   {
    "duration": 83,
    "start_time": "2022-04-23T08:16:11.927Z"
   },
   {
    "duration": 60,
    "start_time": "2022-04-23T08:16:12.016Z"
   },
   {
    "duration": 145,
    "start_time": "2022-04-23T08:16:12.078Z"
   },
   {
    "duration": 3283,
    "start_time": "2022-04-23T08:16:12.225Z"
   },
   {
    "duration": 24,
    "start_time": "2022-04-23T08:16:15.509Z"
   },
   {
    "duration": 84,
    "start_time": "2022-04-23T08:16:15.535Z"
   },
   {
    "duration": 23,
    "start_time": "2022-04-23T08:16:15.621Z"
   },
   {
    "duration": 176,
    "start_time": "2022-04-23T08:16:15.645Z"
   },
   {
    "duration": 0,
    "start_time": "2022-04-23T08:16:15.822Z"
   },
   {
    "duration": 0,
    "start_time": "2022-04-23T08:16:15.824Z"
   },
   {
    "duration": 0,
    "start_time": "2022-04-23T08:16:15.825Z"
   },
   {
    "duration": 0,
    "start_time": "2022-04-23T08:16:15.826Z"
   },
   {
    "duration": 1,
    "start_time": "2022-04-23T08:16:15.826Z"
   },
   {
    "duration": 0,
    "start_time": "2022-04-23T08:16:15.828Z"
   },
   {
    "duration": 0,
    "start_time": "2022-04-23T08:16:15.829Z"
   },
   {
    "duration": 0,
    "start_time": "2022-04-23T08:16:15.830Z"
   },
   {
    "duration": 0,
    "start_time": "2022-04-23T08:16:15.831Z"
   },
   {
    "duration": 0,
    "start_time": "2022-04-23T08:16:15.832Z"
   },
   {
    "duration": 0,
    "start_time": "2022-04-23T08:16:15.833Z"
   },
   {
    "duration": 0,
    "start_time": "2022-04-23T08:16:15.854Z"
   },
   {
    "duration": 0,
    "start_time": "2022-04-23T08:16:15.856Z"
   },
   {
    "duration": 0,
    "start_time": "2022-04-23T08:16:15.857Z"
   },
   {
    "duration": 0,
    "start_time": "2022-04-23T08:16:15.858Z"
   },
   {
    "duration": 0,
    "start_time": "2022-04-23T08:16:15.858Z"
   },
   {
    "duration": 0,
    "start_time": "2022-04-23T08:16:15.859Z"
   },
   {
    "duration": 0,
    "start_time": "2022-04-23T08:16:15.860Z"
   },
   {
    "duration": 0,
    "start_time": "2022-04-23T08:16:15.861Z"
   },
   {
    "duration": 0,
    "start_time": "2022-04-23T08:16:15.862Z"
   },
   {
    "duration": 0,
    "start_time": "2022-04-23T08:16:15.863Z"
   },
   {
    "duration": 0,
    "start_time": "2022-04-23T08:16:15.864Z"
   },
   {
    "duration": 0,
    "start_time": "2022-04-23T08:16:15.864Z"
   },
   {
    "duration": 0,
    "start_time": "2022-04-23T08:16:15.865Z"
   },
   {
    "duration": 0,
    "start_time": "2022-04-23T08:16:15.866Z"
   },
   {
    "duration": 0,
    "start_time": "2022-04-23T08:16:15.867Z"
   },
   {
    "duration": 0,
    "start_time": "2022-04-23T08:16:15.868Z"
   },
   {
    "duration": 0,
    "start_time": "2022-04-23T08:16:15.870Z"
   },
   {
    "duration": 0,
    "start_time": "2022-04-23T08:16:15.870Z"
   },
   {
    "duration": 0,
    "start_time": "2022-04-23T08:16:15.872Z"
   },
   {
    "duration": 0,
    "start_time": "2022-04-23T08:16:15.873Z"
   },
   {
    "duration": 0,
    "start_time": "2022-04-23T08:16:15.874Z"
   },
   {
    "duration": 1569,
    "start_time": "2022-04-23T08:19:21.998Z"
   },
   {
    "duration": 914,
    "start_time": "2022-04-23T08:19:23.569Z"
   },
   {
    "duration": 149,
    "start_time": "2022-04-23T08:19:24.485Z"
   },
   {
    "duration": 547,
    "start_time": "2022-04-23T08:19:24.636Z"
   },
   {
    "duration": 646,
    "start_time": "2022-04-23T08:19:25.187Z"
   },
   {
    "duration": 727,
    "start_time": "2022-04-23T08:19:25.834Z"
   },
   {
    "duration": 224,
    "start_time": "2022-04-23T08:19:26.564Z"
   },
   {
    "duration": 628,
    "start_time": "2022-04-23T08:19:26.790Z"
   },
   {
    "duration": 95,
    "start_time": "2022-04-23T08:19:27.420Z"
   },
   {
    "duration": 131,
    "start_time": "2022-04-23T08:19:27.517Z"
   },
   {
    "duration": 430,
    "start_time": "2022-04-23T08:19:27.649Z"
   },
   {
    "duration": 56,
    "start_time": "2022-04-23T08:19:28.081Z"
   },
   {
    "duration": 148,
    "start_time": "2022-04-23T08:19:28.139Z"
   },
   {
    "duration": 132,
    "start_time": "2022-04-23T08:19:28.292Z"
   },
   {
    "duration": 139,
    "start_time": "2022-04-23T08:19:28.426Z"
   },
   {
    "duration": 16,
    "start_time": "2022-04-23T08:19:28.567Z"
   },
   {
    "duration": 31,
    "start_time": "2022-04-23T08:19:28.584Z"
   },
   {
    "duration": 37,
    "start_time": "2022-04-23T08:19:28.617Z"
   },
   {
    "duration": 113,
    "start_time": "2022-04-23T08:19:28.658Z"
   },
   {
    "duration": 11,
    "start_time": "2022-04-23T08:19:28.772Z"
   },
   {
    "duration": 92,
    "start_time": "2022-04-23T08:19:28.784Z"
   },
   {
    "duration": 7,
    "start_time": "2022-04-23T08:19:28.877Z"
   },
   {
    "duration": 71,
    "start_time": "2022-04-23T08:19:28.885Z"
   },
   {
    "duration": 10,
    "start_time": "2022-04-23T08:19:28.959Z"
   },
   {
    "duration": 38,
    "start_time": "2022-04-23T08:19:28.971Z"
   },
   {
    "duration": 5,
    "start_time": "2022-04-23T08:19:29.010Z"
   },
   {
    "duration": 76,
    "start_time": "2022-04-23T08:19:29.017Z"
   },
   {
    "duration": 68,
    "start_time": "2022-04-23T08:19:29.094Z"
   },
   {
    "duration": 134,
    "start_time": "2022-04-23T08:19:29.164Z"
   },
   {
    "duration": 3349,
    "start_time": "2022-04-23T08:19:29.300Z"
   },
   {
    "duration": 26,
    "start_time": "2022-04-23T08:19:32.654Z"
   },
   {
    "duration": 168,
    "start_time": "2022-04-23T08:19:32.682Z"
   },
   {
    "duration": 34,
    "start_time": "2022-04-23T08:19:32.852Z"
   },
   {
    "duration": 3338,
    "start_time": "2022-04-23T08:19:32.888Z"
   },
   {
    "duration": 13,
    "start_time": "2022-04-23T08:19:36.228Z"
   },
   {
    "duration": 75,
    "start_time": "2022-04-23T08:19:36.243Z"
   },
   {
    "duration": 3,
    "start_time": "2022-04-23T08:19:36.320Z"
   },
   {
    "duration": 7,
    "start_time": "2022-04-23T08:19:36.325Z"
   },
   {
    "duration": 122,
    "start_time": "2022-04-23T08:19:36.334Z"
   },
   {
    "duration": 108,
    "start_time": "2022-04-23T08:19:36.458Z"
   },
   {
    "duration": 17,
    "start_time": "2022-04-23T08:19:36.571Z"
   },
   {
    "duration": 21077,
    "start_time": "2022-04-23T08:19:36.589Z"
   },
   {
    "duration": 3,
    "start_time": "2022-04-23T08:19:57.668Z"
   },
   {
    "duration": 194,
    "start_time": "2022-04-23T08:19:57.673Z"
   },
   {
    "duration": 281,
    "start_time": "2022-04-23T08:19:57.873Z"
   },
   {
    "duration": 0,
    "start_time": "2022-04-23T08:19:58.162Z"
   },
   {
    "duration": 0,
    "start_time": "2022-04-23T08:19:58.164Z"
   },
   {
    "duration": 0,
    "start_time": "2022-04-23T08:19:58.165Z"
   },
   {
    "duration": 0,
    "start_time": "2022-04-23T08:19:58.166Z"
   },
   {
    "duration": 0,
    "start_time": "2022-04-23T08:19:58.167Z"
   },
   {
    "duration": 0,
    "start_time": "2022-04-23T08:19:58.169Z"
   },
   {
    "duration": 0,
    "start_time": "2022-04-23T08:19:58.171Z"
   },
   {
    "duration": 0,
    "start_time": "2022-04-23T08:19:58.172Z"
   },
   {
    "duration": 0,
    "start_time": "2022-04-23T08:19:58.173Z"
   },
   {
    "duration": 0,
    "start_time": "2022-04-23T08:19:58.174Z"
   },
   {
    "duration": 0,
    "start_time": "2022-04-23T08:19:58.175Z"
   },
   {
    "duration": 203,
    "start_time": "2022-04-23T08:20:44.731Z"
   },
   {
    "duration": 93,
    "start_time": "2022-04-23T08:20:45.276Z"
   },
   {
    "duration": 3,
    "start_time": "2022-04-23T08:20:47.094Z"
   },
   {
    "duration": 33,
    "start_time": "2022-04-23T08:22:08.014Z"
   },
   {
    "duration": 121,
    "start_time": "2022-04-23T08:22:56.943Z"
   },
   {
    "duration": 147,
    "start_time": "2022-04-23T08:23:17.415Z"
   },
   {
    "duration": 3,
    "start_time": "2022-04-23T08:23:19.382Z"
   },
   {
    "duration": 32,
    "start_time": "2022-04-23T08:23:35.939Z"
   },
   {
    "duration": 3,
    "start_time": "2022-04-23T08:25:28.800Z"
   },
   {
    "duration": 46,
    "start_time": "2022-04-23T08:26:05.389Z"
   },
   {
    "duration": 1835,
    "start_time": "2022-04-23T08:27:28.641Z"
   },
   {
    "duration": 1214,
    "start_time": "2022-04-23T08:27:30.478Z"
   },
   {
    "duration": 239,
    "start_time": "2022-04-23T08:27:31.694Z"
   },
   {
    "duration": 721,
    "start_time": "2022-04-23T08:27:31.936Z"
   },
   {
    "duration": 838,
    "start_time": "2022-04-23T08:27:32.659Z"
   },
   {
    "duration": 681,
    "start_time": "2022-04-23T08:27:33.499Z"
   },
   {
    "duration": 237,
    "start_time": "2022-04-23T08:27:34.182Z"
   },
   {
    "duration": 690,
    "start_time": "2022-04-23T08:27:34.421Z"
   },
   {
    "duration": 142,
    "start_time": "2022-04-23T08:27:35.113Z"
   },
   {
    "duration": 175,
    "start_time": "2022-04-23T08:27:35.259Z"
   },
   {
    "duration": 621,
    "start_time": "2022-04-23T08:27:35.436Z"
   },
   {
    "duration": 72,
    "start_time": "2022-04-23T08:27:36.059Z"
   },
   {
    "duration": 213,
    "start_time": "2022-04-23T08:27:36.133Z"
   },
   {
    "duration": 185,
    "start_time": "2022-04-23T08:27:36.348Z"
   },
   {
    "duration": 215,
    "start_time": "2022-04-23T08:27:36.536Z"
   },
   {
    "duration": 18,
    "start_time": "2022-04-23T08:27:36.755Z"
   },
   {
    "duration": 164,
    "start_time": "2022-04-23T08:27:36.775Z"
   },
   {
    "duration": 30,
    "start_time": "2022-04-23T08:27:36.941Z"
   },
   {
    "duration": 162,
    "start_time": "2022-04-23T08:27:36.974Z"
   },
   {
    "duration": 19,
    "start_time": "2022-04-23T08:27:37.138Z"
   },
   {
    "duration": 137,
    "start_time": "2022-04-23T08:27:37.160Z"
   },
   {
    "duration": 6,
    "start_time": "2022-04-23T08:27:37.299Z"
   },
   {
    "duration": 71,
    "start_time": "2022-04-23T08:27:37.306Z"
   },
   {
    "duration": 6,
    "start_time": "2022-04-23T08:27:37.379Z"
   },
   {
    "duration": 36,
    "start_time": "2022-04-23T08:27:37.387Z"
   },
   {
    "duration": 5,
    "start_time": "2022-04-23T08:27:37.424Z"
   },
   {
    "duration": 78,
    "start_time": "2022-04-23T08:27:37.431Z"
   },
   {
    "duration": 54,
    "start_time": "2022-04-23T08:27:37.513Z"
   },
   {
    "duration": 136,
    "start_time": "2022-04-23T08:27:37.569Z"
   },
   {
    "duration": 3109,
    "start_time": "2022-04-23T08:27:37.706Z"
   },
   {
    "duration": 37,
    "start_time": "2022-04-23T08:27:40.817Z"
   },
   {
    "duration": 56,
    "start_time": "2022-04-23T08:27:40.856Z"
   },
   {
    "duration": 24,
    "start_time": "2022-04-23T08:27:40.913Z"
   },
   {
    "duration": 2962,
    "start_time": "2022-04-23T08:27:40.955Z"
   },
   {
    "duration": 12,
    "start_time": "2022-04-23T08:27:43.919Z"
   },
   {
    "duration": 73,
    "start_time": "2022-04-23T08:27:43.933Z"
   },
   {
    "duration": 4,
    "start_time": "2022-04-23T08:27:44.008Z"
   },
   {
    "duration": 16,
    "start_time": "2022-04-23T08:27:44.013Z"
   },
   {
    "duration": 99,
    "start_time": "2022-04-23T08:27:44.031Z"
   },
   {
    "duration": 105,
    "start_time": "2022-04-23T08:27:44.132Z"
   },
   {
    "duration": 20,
    "start_time": "2022-04-23T08:27:44.239Z"
   },
   {
    "duration": 20172,
    "start_time": "2022-04-23T08:27:44.261Z"
   },
   {
    "duration": 3,
    "start_time": "2022-04-23T08:28:04.435Z"
   },
   {
    "duration": 224,
    "start_time": "2022-04-23T08:28:04.439Z"
   },
   {
    "duration": 200,
    "start_time": "2022-04-23T08:28:04.666Z"
   },
   {
    "duration": 1,
    "start_time": "2022-04-23T08:28:04.867Z"
   },
   {
    "duration": 0,
    "start_time": "2022-04-23T08:28:04.868Z"
   },
   {
    "duration": 0,
    "start_time": "2022-04-23T08:28:04.870Z"
   },
   {
    "duration": 1,
    "start_time": "2022-04-23T08:28:04.870Z"
   },
   {
    "duration": 0,
    "start_time": "2022-04-23T08:28:04.871Z"
   },
   {
    "duration": 0,
    "start_time": "2022-04-23T08:28:04.872Z"
   },
   {
    "duration": 0,
    "start_time": "2022-04-23T08:28:04.873Z"
   },
   {
    "duration": 0,
    "start_time": "2022-04-23T08:28:04.874Z"
   },
   {
    "duration": 0,
    "start_time": "2022-04-23T08:28:04.875Z"
   },
   {
    "duration": 0,
    "start_time": "2022-04-23T08:28:04.876Z"
   },
   {
    "duration": 0,
    "start_time": "2022-04-23T08:28:04.878Z"
   },
   {
    "duration": 0,
    "start_time": "2022-04-23T08:28:04.879Z"
   },
   {
    "duration": 0,
    "start_time": "2022-04-23T08:28:04.880Z"
   },
   {
    "duration": 0,
    "start_time": "2022-04-23T08:28:04.881Z"
   },
   {
    "duration": 0,
    "start_time": "2022-04-23T08:28:04.882Z"
   },
   {
    "duration": 178,
    "start_time": "2022-04-23T08:28:28.586Z"
   },
   {
    "duration": 50,
    "start_time": "2022-04-23T08:28:34.906Z"
   },
   {
    "duration": 102,
    "start_time": "2022-04-23T08:28:42.466Z"
   },
   {
    "duration": 3,
    "start_time": "2022-04-23T08:29:21.966Z"
   },
   {
    "duration": 68,
    "start_time": "2022-04-23T08:29:23.894Z"
   },
   {
    "duration": 10,
    "start_time": "2022-04-23T08:29:59.202Z"
   },
   {
    "duration": 692329,
    "start_time": "2022-04-23T08:31:33.731Z"
   },
   {
    "duration": 2,
    "start_time": "2022-04-23T08:45:24.593Z"
   },
   {
    "duration": 1383,
    "start_time": "2022-04-23T08:50:20.388Z"
   },
   {
    "duration": 847,
    "start_time": "2022-04-23T08:50:21.773Z"
   },
   {
    "duration": 152,
    "start_time": "2022-04-23T08:50:22.621Z"
   },
   {
    "duration": 535,
    "start_time": "2022-04-23T08:50:22.775Z"
   },
   {
    "duration": 634,
    "start_time": "2022-04-23T08:50:23.313Z"
   },
   {
    "duration": 489,
    "start_time": "2022-04-23T08:50:23.950Z"
   },
   {
    "duration": 144,
    "start_time": "2022-04-23T08:50:24.441Z"
   },
   {
    "duration": 394,
    "start_time": "2022-04-23T08:50:24.587Z"
   },
   {
    "duration": 91,
    "start_time": "2022-04-23T08:50:24.982Z"
   },
   {
    "duration": 115,
    "start_time": "2022-04-23T08:50:25.075Z"
   },
   {
    "duration": 438,
    "start_time": "2022-04-23T08:50:25.191Z"
   },
   {
    "duration": 62,
    "start_time": "2022-04-23T08:50:25.631Z"
   },
   {
    "duration": 136,
    "start_time": "2022-04-23T08:50:25.695Z"
   },
   {
    "duration": 124,
    "start_time": "2022-04-23T08:50:25.834Z"
   },
   {
    "duration": 149,
    "start_time": "2022-04-23T08:50:25.960Z"
   },
   {
    "duration": 16,
    "start_time": "2022-04-23T08:50:26.111Z"
   },
   {
    "duration": 39,
    "start_time": "2022-04-23T08:50:26.129Z"
   },
   {
    "duration": 16,
    "start_time": "2022-04-23T08:50:26.170Z"
   },
   {
    "duration": 123,
    "start_time": "2022-04-23T08:50:26.187Z"
   },
   {
    "duration": 10,
    "start_time": "2022-04-23T08:50:26.312Z"
   },
   {
    "duration": 96,
    "start_time": "2022-04-23T08:50:26.324Z"
   },
   {
    "duration": 6,
    "start_time": "2022-04-23T08:50:26.422Z"
   },
   {
    "duration": 80,
    "start_time": "2022-04-23T08:50:26.429Z"
   },
   {
    "duration": 6,
    "start_time": "2022-04-23T08:50:26.510Z"
   },
   {
    "duration": 53,
    "start_time": "2022-04-23T08:50:26.517Z"
   },
   {
    "duration": 5,
    "start_time": "2022-04-23T08:50:26.571Z"
   },
   {
    "duration": 55,
    "start_time": "2022-04-23T08:50:26.578Z"
   },
   {
    "duration": 63,
    "start_time": "2022-04-23T08:50:26.635Z"
   },
   {
    "duration": 142,
    "start_time": "2022-04-23T08:50:26.700Z"
   },
   {
    "duration": 3195,
    "start_time": "2022-04-23T08:50:26.844Z"
   },
   {
    "duration": 33,
    "start_time": "2022-04-23T08:50:30.042Z"
   },
   {
    "duration": 147,
    "start_time": "2022-04-23T08:50:30.077Z"
   },
   {
    "duration": 29,
    "start_time": "2022-04-23T08:50:30.225Z"
   },
   {
    "duration": 3284,
    "start_time": "2022-04-23T08:50:30.256Z"
   },
   {
    "duration": 21,
    "start_time": "2022-04-23T08:50:33.542Z"
   },
   {
    "duration": 88,
    "start_time": "2022-04-23T08:50:33.565Z"
   },
   {
    "duration": 5,
    "start_time": "2022-04-23T08:50:33.656Z"
   },
   {
    "duration": 20,
    "start_time": "2022-04-23T08:50:33.669Z"
   },
   {
    "duration": 111,
    "start_time": "2022-04-23T08:50:33.690Z"
   },
   {
    "duration": 111,
    "start_time": "2022-04-23T08:50:33.803Z"
   },
   {
    "duration": 16,
    "start_time": "2022-04-23T08:50:33.919Z"
   },
   {
    "duration": 21615,
    "start_time": "2022-04-23T08:50:33.936Z"
   },
   {
    "duration": 8,
    "start_time": "2022-04-23T08:50:55.555Z"
   },
   {
    "duration": 209,
    "start_time": "2022-04-23T08:50:55.564Z"
   },
   {
    "duration": 119,
    "start_time": "2022-04-23T08:50:55.859Z"
   },
   {
    "duration": 0,
    "start_time": "2022-04-23T08:50:55.980Z"
   },
   {
    "duration": 0,
    "start_time": "2022-04-23T08:50:55.981Z"
   },
   {
    "duration": 0,
    "start_time": "2022-04-23T08:50:55.983Z"
   },
   {
    "duration": 0,
    "start_time": "2022-04-23T08:50:55.984Z"
   },
   {
    "duration": 0,
    "start_time": "2022-04-23T08:50:55.984Z"
   },
   {
    "duration": 0,
    "start_time": "2022-04-23T08:50:55.985Z"
   },
   {
    "duration": 0,
    "start_time": "2022-04-23T08:50:55.986Z"
   },
   {
    "duration": 0,
    "start_time": "2022-04-23T08:50:55.988Z"
   },
   {
    "duration": 0,
    "start_time": "2022-04-23T08:50:55.988Z"
   },
   {
    "duration": 0,
    "start_time": "2022-04-23T08:50:55.989Z"
   },
   {
    "duration": 0,
    "start_time": "2022-04-23T08:50:55.990Z"
   },
   {
    "duration": 0,
    "start_time": "2022-04-23T08:50:55.991Z"
   },
   {
    "duration": 0,
    "start_time": "2022-04-23T08:50:55.992Z"
   },
   {
    "duration": 0,
    "start_time": "2022-04-23T08:50:55.993Z"
   },
   {
    "duration": 0,
    "start_time": "2022-04-23T08:50:55.994Z"
   },
   {
    "duration": 0,
    "start_time": "2022-04-23T08:50:55.995Z"
   },
   {
    "duration": 0,
    "start_time": "2022-04-23T08:50:55.996Z"
   },
   {
    "duration": 202,
    "start_time": "2022-04-23T08:51:08.945Z"
   },
   {
    "duration": 56,
    "start_time": "2022-04-23T09:39:24.952Z"
   },
   {
    "duration": 15,
    "start_time": "2022-04-23T09:54:27.940Z"
   },
   {
    "duration": 4,
    "start_time": "2022-04-23T09:54:54.312Z"
   },
   {
    "duration": 51573,
    "start_time": "2022-04-23T09:54:56.217Z"
   },
   {
    "duration": 5,
    "start_time": "2022-04-23T09:57:25.090Z"
   },
   {
    "duration": 43475,
    "start_time": "2022-04-23T09:58:00.106Z"
   },
   {
    "duration": 4,
    "start_time": "2022-04-23T10:04:23.720Z"
   },
   {
    "duration": 3,
    "start_time": "2022-04-23T10:05:32.804Z"
   },
   {
    "duration": 3,
    "start_time": "2022-04-23T10:05:44.000Z"
   },
   {
    "duration": 62509,
    "start_time": "2022-04-23T10:06:18.832Z"
   },
   {
    "duration": 3,
    "start_time": "2022-04-23T10:07:31.344Z"
   },
   {
    "duration": 64791,
    "start_time": "2022-04-23T10:07:40.173Z"
   },
   {
    "duration": 965,
    "start_time": "2022-04-23T10:09:47.212Z"
   },
   {
    "duration": 4,
    "start_time": "2022-04-23T10:09:49.250Z"
   },
   {
    "duration": 6,
    "start_time": "2022-04-23T10:09:53.507Z"
   },
   {
    "duration": 51,
    "start_time": "2022-04-23T10:24:49.245Z"
   },
   {
    "duration": 4,
    "start_time": "2022-04-23T10:24:51.821Z"
   },
   {
    "duration": 67,
    "start_time": "2022-04-23T10:31:30.984Z"
   },
   {
    "duration": 3,
    "start_time": "2022-04-23T10:32:08.842Z"
   },
   {
    "duration": 31,
    "start_time": "2022-04-23T10:35:31.301Z"
   },
   {
    "duration": 5,
    "start_time": "2022-04-23T10:36:13.930Z"
   },
   {
    "duration": 2143,
    "start_time": "2022-04-23T10:38:02.853Z"
   },
   {
    "duration": 1100,
    "start_time": "2022-04-23T10:38:04.998Z"
   },
   {
    "duration": 245,
    "start_time": "2022-04-23T10:38:06.100Z"
   },
   {
    "duration": 727,
    "start_time": "2022-04-23T10:38:06.355Z"
   },
   {
    "duration": 839,
    "start_time": "2022-04-23T10:38:07.084Z"
   },
   {
    "duration": 474,
    "start_time": "2022-04-23T10:38:07.924Z"
   },
   {
    "duration": 136,
    "start_time": "2022-04-23T10:38:08.400Z"
   },
   {
    "duration": 405,
    "start_time": "2022-04-23T10:38:08.537Z"
   },
   {
    "duration": 93,
    "start_time": "2022-04-23T10:38:08.944Z"
   },
   {
    "duration": 119,
    "start_time": "2022-04-23T10:38:09.040Z"
   },
   {
    "duration": 275,
    "start_time": "2022-04-23T10:38:09.165Z"
   },
   {
    "duration": 64,
    "start_time": "2022-04-23T10:38:09.442Z"
   },
   {
    "duration": 135,
    "start_time": "2022-04-23T10:38:09.508Z"
   },
   {
    "duration": 135,
    "start_time": "2022-04-23T10:38:09.644Z"
   },
   {
    "duration": 132,
    "start_time": "2022-04-23T10:38:09.781Z"
   },
   {
    "duration": 17,
    "start_time": "2022-04-23T10:38:09.915Z"
   },
   {
    "duration": 50,
    "start_time": "2022-04-23T10:38:09.934Z"
   },
   {
    "duration": 17,
    "start_time": "2022-04-23T10:38:09.986Z"
   },
   {
    "duration": 126,
    "start_time": "2022-04-23T10:38:10.005Z"
   },
   {
    "duration": 11,
    "start_time": "2022-04-23T10:38:10.132Z"
   },
   {
    "duration": 176,
    "start_time": "2022-04-23T10:38:10.145Z"
   },
   {
    "duration": 6,
    "start_time": "2022-04-23T10:38:10.323Z"
   },
   {
    "duration": 76,
    "start_time": "2022-04-23T10:38:10.331Z"
   },
   {
    "duration": 6,
    "start_time": "2022-04-23T10:38:10.409Z"
   },
   {
    "duration": 56,
    "start_time": "2022-04-23T10:38:10.416Z"
   },
   {
    "duration": 7,
    "start_time": "2022-04-23T10:38:10.474Z"
   },
   {
    "duration": 79,
    "start_time": "2022-04-23T10:38:10.483Z"
   },
   {
    "duration": 49,
    "start_time": "2022-04-23T10:38:10.568Z"
   },
   {
    "duration": 136,
    "start_time": "2022-04-23T10:38:10.618Z"
   },
   {
    "duration": 3313,
    "start_time": "2022-04-23T10:38:10.756Z"
   },
   {
    "duration": 24,
    "start_time": "2022-04-23T10:38:14.071Z"
   },
   {
    "duration": 69,
    "start_time": "2022-04-23T10:38:14.097Z"
   },
   {
    "duration": 23,
    "start_time": "2022-04-23T10:38:14.168Z"
   },
   {
    "duration": 3400,
    "start_time": "2022-04-23T10:38:14.193Z"
   },
   {
    "duration": 14,
    "start_time": "2022-04-23T10:38:17.594Z"
   },
   {
    "duration": 94,
    "start_time": "2022-04-23T10:38:17.609Z"
   },
   {
    "duration": 5,
    "start_time": "2022-04-23T10:38:17.705Z"
   },
   {
    "duration": 105,
    "start_time": "2022-04-23T10:38:17.711Z"
   },
   {
    "duration": 90,
    "start_time": "2022-04-23T10:38:17.817Z"
   },
   {
    "duration": 16,
    "start_time": "2022-04-23T10:38:17.909Z"
   },
   {
    "duration": 49,
    "start_time": "2022-04-23T10:38:17.927Z"
   },
   {
    "duration": 33,
    "start_time": "2022-04-23T10:38:17.978Z"
   },
   {
    "duration": 16646,
    "start_time": "2022-04-23T10:38:18.012Z"
   },
   {
    "duration": 3,
    "start_time": "2022-04-23T10:38:34.660Z"
   },
   {
    "duration": 202,
    "start_time": "2022-04-23T10:38:34.664Z"
   },
   {
    "duration": 98,
    "start_time": "2022-04-23T10:38:34.868Z"
   },
   {
    "duration": 63000,
    "start_time": "2022-04-23T10:38:34.968Z"
   },
   {
    "duration": 804,
    "start_time": "2022-04-23T10:39:37.970Z"
   },
   {
    "duration": 8,
    "start_time": "2022-04-23T10:39:38.776Z"
   },
   {
    "duration": 75,
    "start_time": "2022-04-23T10:39:38.786Z"
   },
   {
    "duration": 18,
    "start_time": "2022-04-23T10:39:38.863Z"
   },
   {
    "duration": 85159,
    "start_time": "2022-04-23T10:39:38.883Z"
   },
   {
    "duration": 244325,
    "start_time": "2022-04-23T10:41:04.043Z"
   },
   {
    "duration": 0,
    "start_time": "2022-04-23T10:45:08.370Z"
   },
   {
    "duration": 0,
    "start_time": "2022-04-23T10:45:08.371Z"
   },
   {
    "duration": 0,
    "start_time": "2022-04-23T10:45:08.372Z"
   },
   {
    "duration": 0,
    "start_time": "2022-04-23T10:45:08.373Z"
   },
   {
    "duration": 0,
    "start_time": "2022-04-23T10:45:08.374Z"
   },
   {
    "duration": 0,
    "start_time": "2022-04-23T10:45:08.376Z"
   },
   {
    "duration": 0,
    "start_time": "2022-04-23T10:45:08.376Z"
   },
   {
    "duration": 0,
    "start_time": "2022-04-23T10:45:08.377Z"
   },
   {
    "duration": 0,
    "start_time": "2022-04-23T10:45:08.378Z"
   },
   {
    "duration": 0,
    "start_time": "2022-04-23T10:45:08.379Z"
   },
   {
    "duration": 0,
    "start_time": "2022-04-23T10:45:08.380Z"
   },
   {
    "duration": 0,
    "start_time": "2022-04-23T10:45:08.381Z"
   },
   {
    "duration": 0,
    "start_time": "2022-04-23T10:45:08.382Z"
   },
   {
    "duration": 0,
    "start_time": "2022-04-23T10:45:08.383Z"
   },
   {
    "duration": 221,
    "start_time": "2022-04-23T10:51:21.141Z"
   },
   {
    "duration": 34692,
    "start_time": "2022-04-23T11:07:41.470Z"
   },
   {
    "duration": 1833,
    "start_time": "2022-04-23T11:21:50.979Z"
   },
   {
    "duration": 850,
    "start_time": "2022-04-23T11:21:52.813Z"
   },
   {
    "duration": 140,
    "start_time": "2022-04-23T11:21:53.665Z"
   },
   {
    "duration": 501,
    "start_time": "2022-04-23T11:21:53.806Z"
   },
   {
    "duration": 693,
    "start_time": "2022-04-23T11:21:54.309Z"
   },
   {
    "duration": 477,
    "start_time": "2022-04-23T11:21:55.004Z"
   },
   {
    "duration": 136,
    "start_time": "2022-04-23T11:21:55.482Z"
   },
   {
    "duration": 401,
    "start_time": "2022-04-23T11:21:55.620Z"
   },
   {
    "duration": 100,
    "start_time": "2022-04-23T11:21:56.023Z"
   },
   {
    "duration": 121,
    "start_time": "2022-04-23T11:21:56.125Z"
   },
   {
    "duration": 269,
    "start_time": "2022-04-23T11:21:56.248Z"
   },
   {
    "duration": 69,
    "start_time": "2022-04-23T11:21:56.518Z"
   },
   {
    "duration": 137,
    "start_time": "2022-04-23T11:21:56.589Z"
   },
   {
    "duration": 112,
    "start_time": "2022-04-23T11:21:56.729Z"
   },
   {
    "duration": 133,
    "start_time": "2022-04-23T11:21:56.854Z"
   },
   {
    "duration": 16,
    "start_time": "2022-04-23T11:21:56.989Z"
   },
   {
    "duration": 30,
    "start_time": "2022-04-23T11:21:57.007Z"
   },
   {
    "duration": 33,
    "start_time": "2022-04-23T11:21:57.039Z"
   },
   {
    "duration": 114,
    "start_time": "2022-04-23T11:21:57.074Z"
   },
   {
    "duration": 10,
    "start_time": "2022-04-23T11:21:57.190Z"
   },
   {
    "duration": 177,
    "start_time": "2022-04-23T11:21:57.201Z"
   },
   {
    "duration": 6,
    "start_time": "2022-04-23T11:21:57.379Z"
   },
   {
    "duration": 69,
    "start_time": "2022-04-23T11:21:57.387Z"
   },
   {
    "duration": 10,
    "start_time": "2022-04-23T11:21:57.458Z"
   },
   {
    "duration": 39,
    "start_time": "2022-04-23T11:21:57.470Z"
   },
   {
    "duration": 5,
    "start_time": "2022-04-23T11:21:57.510Z"
   },
   {
    "duration": 86,
    "start_time": "2022-04-23T11:21:57.517Z"
   },
   {
    "duration": 48,
    "start_time": "2022-04-23T11:21:57.605Z"
   },
   {
    "duration": 129,
    "start_time": "2022-04-23T11:21:57.657Z"
   },
   {
    "duration": 3146,
    "start_time": "2022-04-23T11:21:57.787Z"
   },
   {
    "duration": 34,
    "start_time": "2022-04-23T11:22:00.935Z"
   },
   {
    "duration": 64,
    "start_time": "2022-04-23T11:22:00.971Z"
   },
   {
    "duration": 43,
    "start_time": "2022-04-23T11:22:01.037Z"
   },
   {
    "duration": 3258,
    "start_time": "2022-04-23T11:22:01.082Z"
   },
   {
    "duration": 16,
    "start_time": "2022-04-23T11:22:04.342Z"
   },
   {
    "duration": 89,
    "start_time": "2022-04-23T11:22:04.360Z"
   },
   {
    "duration": 6,
    "start_time": "2022-04-23T11:22:04.451Z"
   },
   {
    "duration": 107,
    "start_time": "2022-04-23T11:22:04.459Z"
   },
   {
    "duration": 80,
    "start_time": "2022-04-23T11:22:04.568Z"
   },
   {
    "duration": 25,
    "start_time": "2022-04-23T11:22:04.650Z"
   },
   {
    "duration": 16693,
    "start_time": "2022-04-23T11:22:04.678Z"
   },
   {
    "duration": 0,
    "start_time": "2022-04-23T11:22:21.373Z"
   },
   {
    "duration": 0,
    "start_time": "2022-04-23T11:22:21.375Z"
   },
   {
    "duration": 0,
    "start_time": "2022-04-23T11:22:21.376Z"
   },
   {
    "duration": 0,
    "start_time": "2022-04-23T11:22:21.378Z"
   },
   {
    "duration": 0,
    "start_time": "2022-04-23T11:22:21.379Z"
   },
   {
    "duration": 0,
    "start_time": "2022-04-23T11:22:21.380Z"
   },
   {
    "duration": 0,
    "start_time": "2022-04-23T11:22:21.382Z"
   },
   {
    "duration": 0,
    "start_time": "2022-04-23T11:22:21.384Z"
   },
   {
    "duration": 0,
    "start_time": "2022-04-23T11:22:21.385Z"
   },
   {
    "duration": 0,
    "start_time": "2022-04-23T11:22:21.387Z"
   },
   {
    "duration": 0,
    "start_time": "2022-04-23T11:22:21.388Z"
   },
   {
    "duration": 0,
    "start_time": "2022-04-23T11:22:21.389Z"
   },
   {
    "duration": 0,
    "start_time": "2022-04-23T11:22:21.391Z"
   },
   {
    "duration": 0,
    "start_time": "2022-04-23T11:22:21.392Z"
   },
   {
    "duration": 1840,
    "start_time": "2022-04-23T11:25:50.092Z"
   },
   {
    "duration": 853,
    "start_time": "2022-04-23T11:25:51.934Z"
   },
   {
    "duration": 140,
    "start_time": "2022-04-23T11:25:52.789Z"
   },
   {
    "duration": 512,
    "start_time": "2022-04-23T11:25:52.931Z"
   },
   {
    "duration": 611,
    "start_time": "2022-04-23T11:25:53.446Z"
   },
   {
    "duration": 466,
    "start_time": "2022-04-23T11:25:54.060Z"
   },
   {
    "duration": 133,
    "start_time": "2022-04-23T11:25:54.528Z"
   },
   {
    "duration": 390,
    "start_time": "2022-04-23T11:25:54.663Z"
   },
   {
    "duration": 83,
    "start_time": "2022-04-23T11:25:55.055Z"
   },
   {
    "duration": 127,
    "start_time": "2022-04-23T11:25:55.140Z"
   },
   {
    "duration": 260,
    "start_time": "2022-04-23T11:25:55.269Z"
   },
   {
    "duration": 70,
    "start_time": "2022-04-23T11:25:55.531Z"
   },
   {
    "duration": 129,
    "start_time": "2022-04-23T11:25:55.602Z"
   },
   {
    "duration": 124,
    "start_time": "2022-04-23T11:25:55.734Z"
   },
   {
    "duration": 138,
    "start_time": "2022-04-23T11:25:55.860Z"
   },
   {
    "duration": 17,
    "start_time": "2022-04-23T11:25:56.000Z"
   },
   {
    "duration": 41,
    "start_time": "2022-04-23T11:25:56.019Z"
   },
   {
    "duration": 18,
    "start_time": "2022-04-23T11:25:56.063Z"
   },
   {
    "duration": 116,
    "start_time": "2022-04-23T11:25:56.083Z"
   },
   {
    "duration": 10,
    "start_time": "2022-04-23T11:25:56.201Z"
   },
   {
    "duration": 184,
    "start_time": "2022-04-23T11:25:56.213Z"
   },
   {
    "duration": 6,
    "start_time": "2022-04-23T11:25:56.399Z"
   },
   {
    "duration": 89,
    "start_time": "2022-04-23T11:25:56.406Z"
   },
   {
    "duration": 6,
    "start_time": "2022-04-23T11:25:56.496Z"
   },
   {
    "duration": 64,
    "start_time": "2022-04-23T11:25:56.503Z"
   },
   {
    "duration": 8,
    "start_time": "2022-04-23T11:25:56.569Z"
   },
   {
    "duration": 75,
    "start_time": "2022-04-23T11:25:56.578Z"
   },
   {
    "duration": 50,
    "start_time": "2022-04-23T11:25:56.655Z"
   },
   {
    "duration": 136,
    "start_time": "2022-04-23T11:25:56.707Z"
   },
   {
    "duration": 3443,
    "start_time": "2022-04-23T11:25:56.845Z"
   },
   {
    "duration": 24,
    "start_time": "2022-04-23T11:26:00.290Z"
   },
   {
    "duration": 74,
    "start_time": "2022-04-23T11:26:00.316Z"
   },
   {
    "duration": 23,
    "start_time": "2022-04-23T11:26:00.392Z"
   },
   {
    "duration": 3353,
    "start_time": "2022-04-23T11:26:00.417Z"
   },
   {
    "duration": 12,
    "start_time": "2022-04-23T11:26:03.772Z"
   },
   {
    "duration": 92,
    "start_time": "2022-04-23T11:26:03.786Z"
   },
   {
    "duration": 5,
    "start_time": "2022-04-23T11:26:03.880Z"
   },
   {
    "duration": 101,
    "start_time": "2022-04-23T11:26:03.886Z"
   },
   {
    "duration": 95,
    "start_time": "2022-04-23T11:26:03.989Z"
   },
   {
    "duration": 16,
    "start_time": "2022-04-23T11:26:04.086Z"
   },
   {
    "duration": 16587,
    "start_time": "2022-04-23T11:26:04.107Z"
   },
   {
    "duration": 4,
    "start_time": "2022-04-23T11:26:20.696Z"
   },
   {
    "duration": 252,
    "start_time": "2022-04-23T11:26:20.702Z"
   },
   {
    "duration": 388956,
    "start_time": "2022-04-23T11:26:20.959Z"
   },
   {
    "duration": 0,
    "start_time": "2022-04-23T11:32:49.917Z"
   },
   {
    "duration": 0,
    "start_time": "2022-04-23T11:32:49.918Z"
   },
   {
    "duration": 0,
    "start_time": "2022-04-23T11:32:49.919Z"
   },
   {
    "duration": 0,
    "start_time": "2022-04-23T11:32:49.920Z"
   },
   {
    "duration": 0,
    "start_time": "2022-04-23T11:32:49.921Z"
   },
   {
    "duration": 0,
    "start_time": "2022-04-23T11:32:49.922Z"
   },
   {
    "duration": 0,
    "start_time": "2022-04-23T11:32:49.923Z"
   },
   {
    "duration": 0,
    "start_time": "2022-04-23T11:32:49.924Z"
   },
   {
    "duration": 0,
    "start_time": "2022-04-23T11:32:49.925Z"
   },
   {
    "duration": 0,
    "start_time": "2022-04-23T11:32:49.926Z"
   },
   {
    "duration": 0,
    "start_time": "2022-04-23T11:32:49.927Z"
   },
   {
    "duration": 547098,
    "start_time": "2022-04-23T11:33:43.068Z"
   },
   {
    "duration": 57094,
    "start_time": "2022-04-23T11:42:50.169Z"
   },
   {
    "duration": 906,
    "start_time": "2022-04-23T11:43:47.265Z"
   },
   {
    "duration": 5,
    "start_time": "2022-04-23T11:43:48.174Z"
   },
   {
    "duration": 25,
    "start_time": "2022-04-23T11:43:48.181Z"
   },
   {
    "duration": 43366,
    "start_time": "2022-04-23T11:43:48.208Z"
   },
   {
    "duration": 5,
    "start_time": "2022-04-23T11:44:31.575Z"
   },
   {
    "duration": 9,
    "start_time": "2022-04-23T11:47:19.923Z"
   },
   {
    "duration": 8,
    "start_time": "2022-04-23T11:47:55.482Z"
   },
   {
    "duration": 746,
    "start_time": "2022-04-23T11:48:13.417Z"
   },
   {
    "duration": 6,
    "start_time": "2022-04-23T11:48:16.580Z"
   },
   {
    "duration": 5,
    "start_time": "2022-04-23T11:48:27.085Z"
   },
   {
    "duration": 8,
    "start_time": "2022-04-23T11:48:27.625Z"
   },
   {
    "duration": 1958,
    "start_time": "2022-04-24T04:33:25.563Z"
   },
   {
    "duration": 1189,
    "start_time": "2022-04-24T04:33:27.524Z"
   },
   {
    "duration": 177,
    "start_time": "2022-04-24T04:33:28.716Z"
   },
   {
    "duration": 804,
    "start_time": "2022-04-24T04:33:28.896Z"
   },
   {
    "duration": 957,
    "start_time": "2022-04-24T04:33:29.703Z"
   },
   {
    "duration": 790,
    "start_time": "2022-04-24T04:33:30.662Z"
   },
   {
    "duration": 175,
    "start_time": "2022-04-24T04:33:31.454Z"
   },
   {
    "duration": 526,
    "start_time": "2022-04-24T04:33:31.631Z"
   },
   {
    "duration": 140,
    "start_time": "2022-04-24T04:33:32.160Z"
   },
   {
    "duration": 171,
    "start_time": "2022-04-24T04:33:32.303Z"
   },
   {
    "duration": 748,
    "start_time": "2022-04-24T04:33:32.476Z"
   },
   {
    "duration": 134,
    "start_time": "2022-04-24T04:33:33.227Z"
   },
   {
    "duration": 244,
    "start_time": "2022-04-24T04:33:33.364Z"
   },
   {
    "duration": 229,
    "start_time": "2022-04-24T04:33:33.613Z"
   },
   {
    "duration": 341,
    "start_time": "2022-04-24T04:33:33.844Z"
   },
   {
    "duration": 20,
    "start_time": "2022-04-24T04:33:34.187Z"
   },
   {
    "duration": 50,
    "start_time": "2022-04-24T04:33:34.226Z"
   },
   {
    "duration": 23,
    "start_time": "2022-04-24T04:33:34.278Z"
   },
   {
    "duration": 172,
    "start_time": "2022-04-24T04:33:34.325Z"
   },
   {
    "duration": 25,
    "start_time": "2022-04-24T04:33:34.499Z"
   },
   {
    "duration": 143,
    "start_time": "2022-04-24T04:33:34.527Z"
   },
   {
    "duration": 8,
    "start_time": "2022-04-24T04:33:34.672Z"
   },
   {
    "duration": 116,
    "start_time": "2022-04-24T04:33:34.682Z"
   },
   {
    "duration": 9,
    "start_time": "2022-04-24T04:33:34.801Z"
   },
   {
    "duration": 69,
    "start_time": "2022-04-24T04:33:34.812Z"
   },
   {
    "duration": 7,
    "start_time": "2022-04-24T04:33:34.883Z"
   },
   {
    "duration": 103,
    "start_time": "2022-04-24T04:33:34.924Z"
   },
   {
    "duration": 82,
    "start_time": "2022-04-24T04:33:35.029Z"
   },
   {
    "duration": 242,
    "start_time": "2022-04-24T04:33:35.125Z"
   },
   {
    "duration": 4719,
    "start_time": "2022-04-24T04:33:35.370Z"
   },
   {
    "duration": 45,
    "start_time": "2022-04-24T04:33:40.091Z"
   },
   {
    "duration": 88,
    "start_time": "2022-04-24T04:33:40.138Z"
   },
   {
    "duration": 36,
    "start_time": "2022-04-24T04:33:40.229Z"
   },
   {
    "duration": 4508,
    "start_time": "2022-04-24T04:33:40.268Z"
   },
   {
    "duration": 21,
    "start_time": "2022-04-24T04:33:44.779Z"
   },
   {
    "duration": 123,
    "start_time": "2022-04-24T04:33:44.802Z"
   },
   {
    "duration": 6,
    "start_time": "2022-04-24T04:33:44.927Z"
   },
   {
    "duration": 126,
    "start_time": "2022-04-24T04:33:44.936Z"
   },
   {
    "duration": 126,
    "start_time": "2022-04-24T04:33:45.064Z"
   },
   {
    "duration": 33,
    "start_time": "2022-04-24T04:33:45.193Z"
   },
   {
    "duration": 188,
    "start_time": "2022-04-24T04:33:45.232Z"
   },
   {
    "duration": 0,
    "start_time": "2022-04-24T04:33:45.423Z"
   },
   {
    "duration": 0,
    "start_time": "2022-04-24T04:33:45.426Z"
   },
   {
    "duration": 0,
    "start_time": "2022-04-24T04:33:45.428Z"
   },
   {
    "duration": 0,
    "start_time": "2022-04-24T04:33:45.431Z"
   },
   {
    "duration": 0,
    "start_time": "2022-04-24T04:33:45.434Z"
   },
   {
    "duration": 0,
    "start_time": "2022-04-24T04:33:45.436Z"
   },
   {
    "duration": 0,
    "start_time": "2022-04-24T04:33:45.438Z"
   },
   {
    "duration": 0,
    "start_time": "2022-04-24T04:33:45.440Z"
   },
   {
    "duration": 0,
    "start_time": "2022-04-24T04:33:45.443Z"
   },
   {
    "duration": 0,
    "start_time": "2022-04-24T04:33:45.446Z"
   },
   {
    "duration": 0,
    "start_time": "2022-04-24T04:33:45.448Z"
   },
   {
    "duration": 17135,
    "start_time": "2022-04-24T05:07:50.007Z"
   },
   {
    "duration": 1598,
    "start_time": "2022-04-24T05:08:07.144Z"
   },
   {
    "duration": 9,
    "start_time": "2022-04-24T05:08:08.745Z"
   },
   {
    "duration": 14,
    "start_time": "2022-04-24T05:11:43.047Z"
   },
   {
    "duration": 1338,
    "start_time": "2022-04-24T05:21:53.448Z"
   },
   {
    "duration": 287,
    "start_time": "2022-04-24T05:25:12.264Z"
   },
   {
    "duration": 1362,
    "start_time": "2022-04-24T05:25:34.459Z"
   },
   {
    "duration": 1370,
    "start_time": "2022-04-24T05:25:38.213Z"
   },
   {
    "duration": 15,
    "start_time": "2022-04-24T06:14:52.063Z"
   },
   {
    "duration": 38,
    "start_time": "2022-04-24T06:27:34.466Z"
   },
   {
    "duration": 16,
    "start_time": "2022-04-24T06:30:01.644Z"
   },
   {
    "duration": 14,
    "start_time": "2022-04-24T06:30:06.996Z"
   },
   {
    "duration": 130,
    "start_time": "2022-04-24T06:31:34.866Z"
   },
   {
    "duration": 189,
    "start_time": "2022-04-24T06:31:42.353Z"
   },
   {
    "duration": 20,
    "start_time": "2022-04-24T06:31:45.401Z"
   },
   {
    "duration": 215,
    "start_time": "2022-04-24T06:32:31.069Z"
   },
   {
    "duration": 195,
    "start_time": "2022-04-24T06:32:57.605Z"
   },
   {
    "duration": 218,
    "start_time": "2022-04-24T06:33:10.209Z"
   },
   {
    "duration": 192,
    "start_time": "2022-04-24T06:33:41.477Z"
   },
   {
    "duration": 239,
    "start_time": "2022-04-24T06:34:17.593Z"
   },
   {
    "duration": 265,
    "start_time": "2022-04-24T06:34:35.138Z"
   },
   {
    "duration": 268,
    "start_time": "2022-04-24T06:34:52.314Z"
   },
   {
    "duration": 398,
    "start_time": "2022-04-24T06:34:58.358Z"
   },
   {
    "duration": 424,
    "start_time": "2022-04-24T06:35:08.230Z"
   },
   {
    "duration": 12,
    "start_time": "2022-04-24T06:55:21.784Z"
   },
   {
    "duration": 155,
    "start_time": "2022-04-24T06:55:33.212Z"
   },
   {
    "duration": 138735,
    "start_time": "2022-04-24T06:55:44.164Z"
   },
   {
    "duration": 38,
    "start_time": "2022-04-24T06:58:20.253Z"
   },
   {
    "duration": 7744,
    "start_time": "2022-04-24T06:59:47.857Z"
   },
   {
    "duration": 53846,
    "start_time": "2022-04-24T07:01:01.822Z"
   },
   {
    "duration": 0,
    "start_time": "2022-04-24T07:01:55.674Z"
   },
   {
    "duration": 1913,
    "start_time": "2022-04-24T07:01:58.022Z"
   },
   {
    "duration": 9,
    "start_time": "2022-04-24T07:02:18.446Z"
   },
   {
    "duration": 2109,
    "start_time": "2022-04-24T07:02:30.750Z"
   },
   {
    "duration": 22,
    "start_time": "2022-04-24T07:02:38.077Z"
   },
   {
    "duration": 26,
    "start_time": "2022-04-24T07:02:45.407Z"
   },
   {
    "duration": 28,
    "start_time": "2022-04-24T07:02:52.519Z"
   },
   {
    "duration": 12,
    "start_time": "2022-04-24T07:03:11.343Z"
   },
   {
    "duration": 15,
    "start_time": "2022-04-24T07:03:13.606Z"
   },
   {
    "duration": 120184,
    "start_time": "2022-04-24T07:03:15.600Z"
   },
   {
    "duration": 11,
    "start_time": "2022-04-24T07:05:55.051Z"
   },
   {
    "duration": 132392,
    "start_time": "2022-04-24T07:05:57.540Z"
   },
   {
    "duration": 22,
    "start_time": "2022-04-24T07:08:09.952Z"
   },
   {
    "duration": 94,
    "start_time": "2022-04-24T07:08:37.480Z"
   },
   {
    "duration": 50,
    "start_time": "2022-04-24T07:09:17.420Z"
   },
   {
    "duration": 42,
    "start_time": "2022-04-24T07:11:37.145Z"
   },
   {
    "duration": 62,
    "start_time": "2022-04-24T07:12:52.458Z"
   },
   {
    "duration": 284,
    "start_time": "2022-04-24T07:13:00.773Z"
   },
   {
    "duration": 63,
    "start_time": "2022-04-24T07:13:23.982Z"
   },
   {
    "duration": 66,
    "start_time": "2022-04-24T07:13:53.038Z"
   },
   {
    "duration": 89,
    "start_time": "2022-04-24T07:15:02.336Z"
   },
   {
    "duration": 61,
    "start_time": "2022-04-24T07:15:10.976Z"
   },
   {
    "duration": 285,
    "start_time": "2022-04-24T07:15:21.571Z"
   },
   {
    "duration": 336,
    "start_time": "2022-04-24T07:16:17.296Z"
   },
   {
    "duration": 299,
    "start_time": "2022-04-24T07:16:36.645Z"
   },
   {
    "duration": 474,
    "start_time": "2022-04-24T07:17:04.753Z"
   },
   {
    "duration": 44,
    "start_time": "2022-04-24T07:17:25.389Z"
   },
   {
    "duration": 51,
    "start_time": "2022-04-24T07:18:16.277Z"
   },
   {
    "duration": 44,
    "start_time": "2022-04-24T07:18:28.203Z"
   },
   {
    "duration": 341,
    "start_time": "2022-04-24T07:18:49.778Z"
   },
   {
    "duration": 2197,
    "start_time": "2022-04-24T07:19:37.438Z"
   },
   {
    "duration": 370,
    "start_time": "2022-04-24T07:19:52.766Z"
   },
   {
    "duration": 432,
    "start_time": "2022-04-24T07:20:11.313Z"
   },
   {
    "duration": 362,
    "start_time": "2022-04-24T07:21:49.386Z"
   },
   {
    "duration": 55,
    "start_time": "2022-04-24T07:22:17.562Z"
   },
   {
    "duration": 593,
    "start_time": "2022-04-24T07:22:26.265Z"
   },
   {
    "duration": 344,
    "start_time": "2022-04-24T07:22:40.946Z"
   },
   {
    "duration": 388,
    "start_time": "2022-04-24T07:23:11.498Z"
   },
   {
    "duration": 323,
    "start_time": "2022-04-24T07:23:24.910Z"
   },
   {
    "duration": 6897,
    "start_time": "2022-04-24T07:25:21.250Z"
   },
   {
    "duration": 481,
    "start_time": "2022-04-24T07:25:40.544Z"
   },
   {
    "duration": 327,
    "start_time": "2022-04-24T07:27:35.166Z"
   },
   {
    "duration": 418,
    "start_time": "2022-04-24T07:27:40.418Z"
   },
   {
    "duration": 67,
    "start_time": "2022-04-24T07:29:29.991Z"
   },
   {
    "duration": 66,
    "start_time": "2022-04-24T07:30:12.738Z"
   },
   {
    "duration": 527,
    "start_time": "2022-04-24T07:30:35.068Z"
   },
   {
    "duration": 75,
    "start_time": "2022-04-24T07:31:17.663Z"
   },
   {
    "duration": 263,
    "start_time": "2022-04-24T07:31:34.089Z"
   },
   {
    "duration": 257,
    "start_time": "2022-04-24T07:32:21.557Z"
   },
   {
    "duration": 358,
    "start_time": "2022-04-24T07:32:29.373Z"
   },
   {
    "duration": 331,
    "start_time": "2022-04-24T07:33:23.140Z"
   },
   {
    "duration": 7,
    "start_time": "2022-04-24T08:42:14.702Z"
   },
   {
    "duration": 344,
    "start_time": "2022-04-24T08:42:44.720Z"
   },
   {
    "duration": 394,
    "start_time": "2022-04-24T08:43:57.143Z"
   },
   {
    "duration": 106,
    "start_time": "2022-04-24T08:44:42.711Z"
   },
   {
    "duration": 7,
    "start_time": "2022-04-24T08:44:49.960Z"
   },
   {
    "duration": 2389,
    "start_time": "2022-04-24T08:44:56.215Z"
   },
   {
    "duration": 38,
    "start_time": "2022-04-24T08:45:54.101Z"
   },
   {
    "duration": 114,
    "start_time": "2022-04-24T08:49:31.857Z"
   },
   {
    "duration": 16,
    "start_time": "2022-04-24T08:49:47.466Z"
   },
   {
    "duration": 247,
    "start_time": "2022-04-24T08:49:57.754Z"
   },
   {
    "duration": 246,
    "start_time": "2022-04-24T08:50:23.126Z"
   },
   {
    "duration": 369,
    "start_time": "2022-04-24T08:50:39.445Z"
   },
   {
    "duration": 249,
    "start_time": "2022-04-24T08:50:44.462Z"
   },
   {
    "duration": 353,
    "start_time": "2022-04-24T08:55:27.971Z"
   },
   {
    "duration": 273,
    "start_time": "2022-04-24T08:55:40.014Z"
   },
   {
    "duration": 12,
    "start_time": "2022-04-24T08:57:37.019Z"
   },
   {
    "duration": 13,
    "start_time": "2022-04-24T08:58:02.136Z"
   },
   {
    "duration": 213,
    "start_time": "2022-04-24T08:58:13.640Z"
   },
   {
    "duration": 358,
    "start_time": "2022-04-24T08:59:02.373Z"
   },
   {
    "duration": 253,
    "start_time": "2022-04-24T08:59:11.988Z"
   },
   {
    "duration": 324,
    "start_time": "2022-04-24T08:59:30.465Z"
   },
   {
    "duration": 277,
    "start_time": "2022-04-24T08:59:37.657Z"
   },
   {
    "duration": 114,
    "start_time": "2022-04-24T08:59:51.581Z"
   },
   {
    "duration": 492,
    "start_time": "2022-04-24T09:00:01.517Z"
   },
   {
    "duration": 476,
    "start_time": "2022-04-24T09:00:18.589Z"
   },
   {
    "duration": 545,
    "start_time": "2022-04-24T09:01:09.753Z"
   },
   {
    "duration": 892,
    "start_time": "2022-04-24T09:01:31.861Z"
   },
   {
    "duration": 633,
    "start_time": "2022-04-24T09:02:40.093Z"
   },
   {
    "duration": 9,
    "start_time": "2022-04-24T09:07:22.247Z"
   },
   {
    "duration": 7,
    "start_time": "2022-04-24T09:11:38.009Z"
   },
   {
    "duration": 2741,
    "start_time": "2022-04-24T09:12:07.617Z"
   },
   {
    "duration": 4308,
    "start_time": "2022-04-24T09:13:06.781Z"
   },
   {
    "duration": 7,
    "start_time": "2022-04-24T09:14:27.225Z"
   },
   {
    "duration": 279,
    "start_time": "2022-04-24T09:25:51.191Z"
   },
   {
    "duration": 143,
    "start_time": "2022-04-24T09:32:50.670Z"
   },
   {
    "duration": 49,
    "start_time": "2022-04-24T09:32:57.663Z"
   },
   {
    "duration": 33,
    "start_time": "2022-04-24T09:33:51.697Z"
   },
   {
    "duration": 2669,
    "start_time": "2022-04-24T09:34:03.920Z"
   },
   {
    "duration": 33,
    "start_time": "2022-04-24T09:34:16.687Z"
   },
   {
    "duration": 400,
    "start_time": "2022-04-24T09:35:02.116Z"
   },
   {
    "duration": 42,
    "start_time": "2022-04-24T09:35:17.596Z"
   },
   {
    "duration": 18,
    "start_time": "2022-04-24T09:36:30.378Z"
   },
   {
    "duration": 297,
    "start_time": "2022-04-24T09:36:42.347Z"
   },
   {
    "duration": 41,
    "start_time": "2022-04-24T09:37:00.847Z"
   },
   {
    "duration": 8,
    "start_time": "2022-04-24T09:37:49.749Z"
   },
   {
    "duration": 250,
    "start_time": "2022-04-24T09:38:36.502Z"
   },
   {
    "duration": 34,
    "start_time": "2022-04-24T09:38:44.972Z"
   },
   {
    "duration": 17,
    "start_time": "2022-04-24T09:40:01.599Z"
   },
   {
    "duration": 120,
    "start_time": "2022-04-24T09:42:01.980Z"
   },
   {
    "duration": 49,
    "start_time": "2022-04-24T09:42:07.361Z"
   },
   {
    "duration": 4,
    "start_time": "2022-04-24T09:43:05.676Z"
   },
   {
    "duration": 10,
    "start_time": "2022-04-24T09:43:10.783Z"
   },
   {
    "duration": 16,
    "start_time": "2022-04-24T09:43:45.392Z"
   },
   {
    "duration": 46,
    "start_time": "2022-04-24T09:43:56.775Z"
   },
   {
    "duration": 2006,
    "start_time": "2022-04-24T09:44:23.424Z"
   },
   {
    "duration": 1999,
    "start_time": "2022-04-24T09:44:51.308Z"
   },
   {
    "duration": 423,
    "start_time": "2022-04-24T09:48:45.201Z"
   },
   {
    "duration": 2483,
    "start_time": "2022-04-24T09:49:13.927Z"
   },
   {
    "duration": 2168,
    "start_time": "2022-04-24T09:49:48.870Z"
   },
   {
    "duration": 82,
    "start_time": "2022-04-24T09:53:49.530Z"
   },
   {
    "duration": 17,
    "start_time": "2022-04-24T09:54:13.386Z"
   },
   {
    "duration": 20,
    "start_time": "2022-04-24T09:54:20.639Z"
   },
   {
    "duration": 25,
    "start_time": "2022-04-24T09:59:50.663Z"
   },
   {
    "duration": 14,
    "start_time": "2022-04-24T09:59:53.769Z"
   },
   {
    "duration": 16,
    "start_time": "2022-04-24T09:59:58.025Z"
   },
   {
    "duration": 27,
    "start_time": "2022-04-24T10:01:20.217Z"
   },
   {
    "duration": 204,
    "start_time": "2022-04-24T10:46:51.408Z"
   },
   {
    "duration": 231,
    "start_time": "2022-04-24T10:47:07.681Z"
   },
   {
    "duration": 105,
    "start_time": "2022-04-24T10:47:17.478Z"
   },
   {
    "duration": 108,
    "start_time": "2022-04-24T10:47:29.044Z"
   },
   {
    "duration": 114,
    "start_time": "2022-04-24T10:47:35.067Z"
   },
   {
    "duration": 345,
    "start_time": "2022-04-24T10:50:29.845Z"
   },
   {
    "duration": 2002,
    "start_time": "2022-04-24T10:50:46.442Z"
   },
   {
    "duration": 16,
    "start_time": "2022-04-24T10:52:10.788Z"
   },
   {
    "duration": 23,
    "start_time": "2022-04-24T10:52:18.278Z"
   },
   {
    "duration": 345,
    "start_time": "2022-04-24T10:52:27.683Z"
   },
   {
    "duration": 105,
    "start_time": "2022-04-24T10:52:43.887Z"
   },
   {
    "duration": 111,
    "start_time": "2022-04-24T10:53:00.995Z"
   },
   {
    "duration": 100,
    "start_time": "2022-04-24T10:53:10.484Z"
   },
   {
    "duration": 5,
    "start_time": "2022-04-24T10:53:59.590Z"
   },
   {
    "duration": 16,
    "start_time": "2022-04-24T10:54:19.955Z"
   },
   {
    "duration": 5,
    "start_time": "2022-04-24T10:54:32.793Z"
   },
   {
    "duration": 17,
    "start_time": "2022-04-24T10:54:34.292Z"
   },
   {
    "duration": 4,
    "start_time": "2022-04-24T10:54:43.353Z"
   },
   {
    "duration": 14,
    "start_time": "2022-04-24T10:54:45.066Z"
   },
   {
    "duration": 5,
    "start_time": "2022-04-24T10:55:25.341Z"
   },
   {
    "duration": 12,
    "start_time": "2022-04-24T10:55:26.954Z"
   },
   {
    "duration": 4,
    "start_time": "2022-04-24T10:55:37.972Z"
   },
   {
    "duration": 13,
    "start_time": "2022-04-24T10:55:39.599Z"
   },
   {
    "duration": 4,
    "start_time": "2022-04-24T11:03:32.318Z"
   },
   {
    "duration": 8,
    "start_time": "2022-04-24T11:03:47.533Z"
   },
   {
    "duration": 17,
    "start_time": "2022-04-24T11:03:55.139Z"
   },
   {
    "duration": 14,
    "start_time": "2022-04-24T11:04:12.907Z"
   },
   {
    "duration": 13,
    "start_time": "2022-04-24T11:05:54.170Z"
   },
   {
    "duration": 5,
    "start_time": "2022-04-24T11:09:11.285Z"
   },
   {
    "duration": 2268,
    "start_time": "2022-04-24T11:11:36.638Z"
   },
   {
    "duration": 1614,
    "start_time": "2022-04-24T11:11:38.909Z"
   },
   {
    "duration": 354,
    "start_time": "2022-04-24T11:11:40.541Z"
   },
   {
    "duration": 1198,
    "start_time": "2022-04-24T11:11:40.899Z"
   },
   {
    "duration": 1315,
    "start_time": "2022-04-24T11:11:42.100Z"
   },
   {
    "duration": 1030,
    "start_time": "2022-04-24T11:11:43.419Z"
   },
   {
    "duration": 174,
    "start_time": "2022-04-24T11:11:44.452Z"
   },
   {
    "duration": 486,
    "start_time": "2022-04-24T11:11:44.628Z"
   },
   {
    "duration": 193,
    "start_time": "2022-04-24T11:11:45.118Z"
   },
   {
    "duration": 419,
    "start_time": "2022-04-24T11:11:45.329Z"
   },
   {
    "duration": 99,
    "start_time": "2022-04-24T11:11:45.751Z"
   },
   {
    "duration": 673,
    "start_time": "2022-04-24T11:11:45.854Z"
   },
   {
    "duration": 899,
    "start_time": "2022-04-24T11:11:46.530Z"
   },
   {
    "duration": 9,
    "start_time": "2022-04-24T11:11:47.432Z"
   },
   {
    "duration": 169646,
    "start_time": "2022-04-24T11:11:47.444Z"
   },
   {
    "duration": 130,
    "start_time": "2022-04-24T11:14:37.094Z"
   },
   {
    "duration": 154,
    "start_time": "2022-04-24T11:14:37.228Z"
   },
   {
    "duration": 108,
    "start_time": "2022-04-24T11:14:37.386Z"
   },
   {
    "duration": 8,
    "start_time": "2022-04-24T11:14:37.497Z"
   },
   {
    "duration": 6,
    "start_time": "2022-04-24T11:14:37.525Z"
   },
   {
    "duration": 10,
    "start_time": "2022-04-24T11:14:37.534Z"
   },
   {
    "duration": 7995,
    "start_time": "2022-04-24T11:14:37.548Z"
   },
   {
    "duration": 7,
    "start_time": "2022-04-24T11:14:45.546Z"
   },
   {
    "duration": 370,
    "start_time": "2022-04-24T11:14:45.556Z"
   },
   {
    "duration": 0,
    "start_time": "2022-04-24T11:14:45.934Z"
   },
   {
    "duration": 0,
    "start_time": "2022-04-24T11:14:45.937Z"
   },
   {
    "duration": 0,
    "start_time": "2022-04-24T11:14:45.939Z"
   },
   {
    "duration": 0,
    "start_time": "2022-04-24T11:14:45.941Z"
   },
   {
    "duration": 0,
    "start_time": "2022-04-24T11:14:45.943Z"
   },
   {
    "duration": 0,
    "start_time": "2022-04-24T11:14:45.946Z"
   },
   {
    "duration": 0,
    "start_time": "2022-04-24T11:14:45.948Z"
   },
   {
    "duration": 0,
    "start_time": "2022-04-24T11:14:45.950Z"
   },
   {
    "duration": 0,
    "start_time": "2022-04-24T11:14:45.952Z"
   },
   {
    "duration": 0,
    "start_time": "2022-04-24T11:14:45.954Z"
   },
   {
    "duration": 0,
    "start_time": "2022-04-24T11:14:45.956Z"
   },
   {
    "duration": 0,
    "start_time": "2022-04-24T11:14:45.959Z"
   },
   {
    "duration": 0,
    "start_time": "2022-04-24T11:14:45.961Z"
   },
   {
    "duration": 0,
    "start_time": "2022-04-24T11:14:45.963Z"
   },
   {
    "duration": 0,
    "start_time": "2022-04-24T11:14:45.965Z"
   },
   {
    "duration": 0,
    "start_time": "2022-04-24T11:14:45.967Z"
   },
   {
    "duration": 0,
    "start_time": "2022-04-24T11:14:45.970Z"
   },
   {
    "duration": 0,
    "start_time": "2022-04-24T11:14:45.971Z"
   },
   {
    "duration": 0,
    "start_time": "2022-04-24T11:14:46.027Z"
   },
   {
    "duration": 0,
    "start_time": "2022-04-24T11:14:46.029Z"
   },
   {
    "duration": 0,
    "start_time": "2022-04-24T11:14:46.030Z"
   },
   {
    "duration": 1,
    "start_time": "2022-04-24T11:14:46.031Z"
   },
   {
    "duration": 0,
    "start_time": "2022-04-24T11:14:46.033Z"
   },
   {
    "duration": 0,
    "start_time": "2022-04-24T11:14:46.035Z"
   },
   {
    "duration": 0,
    "start_time": "2022-04-24T11:14:46.037Z"
   },
   {
    "duration": 0,
    "start_time": "2022-04-24T11:14:46.039Z"
   },
   {
    "duration": 0,
    "start_time": "2022-04-24T11:14:46.040Z"
   },
   {
    "duration": 0,
    "start_time": "2022-04-24T11:14:46.042Z"
   },
   {
    "duration": 0,
    "start_time": "2022-04-24T11:14:46.044Z"
   },
   {
    "duration": 0,
    "start_time": "2022-04-24T11:14:46.045Z"
   },
   {
    "duration": 0,
    "start_time": "2022-04-24T11:14:46.047Z"
   },
   {
    "duration": 0,
    "start_time": "2022-04-24T11:14:46.048Z"
   },
   {
    "duration": 0,
    "start_time": "2022-04-24T11:14:46.050Z"
   },
   {
    "duration": 0,
    "start_time": "2022-04-24T11:14:46.051Z"
   },
   {
    "duration": 0,
    "start_time": "2022-04-24T11:14:46.053Z"
   },
   {
    "duration": 0,
    "start_time": "2022-04-24T11:14:46.055Z"
   },
   {
    "duration": 0,
    "start_time": "2022-04-24T11:14:46.056Z"
   },
   {
    "duration": 0,
    "start_time": "2022-04-24T11:14:46.058Z"
   },
   {
    "duration": 0,
    "start_time": "2022-04-24T11:14:46.059Z"
   },
   {
    "duration": 0,
    "start_time": "2022-04-24T11:14:46.060Z"
   },
   {
    "duration": 0,
    "start_time": "2022-04-24T11:14:46.061Z"
   },
   {
    "duration": 0,
    "start_time": "2022-04-24T11:14:46.062Z"
   },
   {
    "duration": 2141,
    "start_time": "2022-04-24T11:20:56.571Z"
   },
   {
    "duration": 365,
    "start_time": "2022-04-24T11:21:05.504Z"
   },
   {
    "duration": 118,
    "start_time": "2022-04-24T11:21:06.000Z"
   },
   {
    "duration": 240,
    "start_time": "2022-04-24T11:21:06.436Z"
   },
   {
    "duration": 364,
    "start_time": "2022-04-24T11:21:06.886Z"
   },
   {
    "duration": 369,
    "start_time": "2022-04-24T11:21:07.255Z"
   },
   {
    "duration": 25,
    "start_time": "2022-04-24T11:21:07.629Z"
   },
   {
    "duration": 76,
    "start_time": "2022-04-24T11:21:07.770Z"
   },
   {
    "duration": 47,
    "start_time": "2022-04-24T11:21:08.166Z"
   },
   {
    "duration": 184,
    "start_time": "2022-04-24T11:21:08.390Z"
   },
   {
    "duration": 14,
    "start_time": "2022-04-24T11:21:08.598Z"
   },
   {
    "duration": 180,
    "start_time": "2022-04-24T11:21:08.798Z"
   },
   {
    "duration": 10,
    "start_time": "2022-04-24T11:21:09.013Z"
   },
   {
    "duration": 101,
    "start_time": "2022-04-24T11:21:09.229Z"
   },
   {
    "duration": 8,
    "start_time": "2022-04-24T11:21:09.441Z"
   },
   {
    "duration": 80,
    "start_time": "2022-04-24T11:21:09.677Z"
   },
   {
    "duration": 10,
    "start_time": "2022-04-24T11:21:09.884Z"
   },
   {
    "duration": 92,
    "start_time": "2022-04-24T11:21:10.108Z"
   },
   {
    "duration": 84,
    "start_time": "2022-04-24T11:21:10.524Z"
   },
   {
    "duration": 471,
    "start_time": "2022-04-24T11:21:49.424Z"
   },
   {
    "duration": 3713,
    "start_time": "2022-04-24T11:22:01.546Z"
   },
   {
    "duration": 2370,
    "start_time": "2022-04-24T11:22:05.263Z"
   },
   {
    "duration": 328,
    "start_time": "2022-04-24T11:22:07.636Z"
   },
   {
    "duration": 1205,
    "start_time": "2022-04-24T11:22:07.967Z"
   },
   {
    "duration": 1242,
    "start_time": "2022-04-24T11:22:09.176Z"
   },
   {
    "duration": 793,
    "start_time": "2022-04-24T11:22:10.424Z"
   },
   {
    "duration": 168,
    "start_time": "2022-04-24T11:22:11.226Z"
   },
   {
    "duration": 503,
    "start_time": "2022-04-24T11:22:11.397Z"
   },
   {
    "duration": 190,
    "start_time": "2022-04-24T11:22:11.904Z"
   },
   {
    "duration": 254,
    "start_time": "2022-04-24T11:22:12.097Z"
   },
   {
    "duration": 51,
    "start_time": "2022-04-24T11:22:12.354Z"
   },
   {
    "duration": 378,
    "start_time": "2022-04-24T11:22:12.407Z"
   },
   {
    "duration": 330,
    "start_time": "2022-04-24T11:22:12.788Z"
   },
   {
    "duration": 11,
    "start_time": "2022-04-24T11:22:13.128Z"
   },
   {
    "duration": 183325,
    "start_time": "2022-04-24T11:22:13.141Z"
   },
   {
    "duration": 85,
    "start_time": "2022-04-24T11:25:16.469Z"
   },
   {
    "duration": 110,
    "start_time": "2022-04-24T11:25:16.557Z"
   },
   {
    "duration": 77,
    "start_time": "2022-04-24T11:25:16.670Z"
   },
   {
    "duration": 6,
    "start_time": "2022-04-24T11:25:16.750Z"
   },
   {
    "duration": 26,
    "start_time": "2022-04-24T11:25:16.758Z"
   },
   {
    "duration": 22,
    "start_time": "2022-04-24T11:25:16.787Z"
   },
   {
    "duration": 8586,
    "start_time": "2022-04-24T11:25:16.814Z"
   },
   {
    "duration": 10,
    "start_time": "2022-04-24T11:25:25.402Z"
   },
   {
    "duration": 2223,
    "start_time": "2022-04-24T11:25:25.427Z"
   },
   {
    "duration": 365,
    "start_time": "2022-04-24T11:25:27.655Z"
   },
   {
    "duration": 110,
    "start_time": "2022-04-24T11:25:28.030Z"
   },
   {
    "duration": 293,
    "start_time": "2022-04-24T11:25:28.143Z"
   },
   {
    "duration": 373,
    "start_time": "2022-04-24T11:25:28.441Z"
   },
   {
    "duration": 399,
    "start_time": "2022-04-24T11:25:28.817Z"
   },
   {
    "duration": 24,
    "start_time": "2022-04-24T11:25:29.226Z"
   },
   {
    "duration": 97,
    "start_time": "2022-04-24T11:25:29.254Z"
   },
   {
    "duration": 33,
    "start_time": "2022-04-24T11:25:29.355Z"
   },
   {
    "duration": 254,
    "start_time": "2022-04-24T11:25:29.391Z"
   },
   {
    "duration": 14,
    "start_time": "2022-04-24T11:25:29.648Z"
   },
   {
    "duration": 201,
    "start_time": "2022-04-24T11:25:29.666Z"
   },
   {
    "duration": 11,
    "start_time": "2022-04-24T11:25:29.870Z"
   },
   {
    "duration": 162,
    "start_time": "2022-04-24T11:25:29.884Z"
   },
   {
    "duration": 11,
    "start_time": "2022-04-24T11:25:30.050Z"
   },
   {
    "duration": 121,
    "start_time": "2022-04-24T11:25:30.065Z"
   },
   {
    "duration": 11,
    "start_time": "2022-04-24T11:25:30.189Z"
   },
   {
    "duration": 127,
    "start_time": "2022-04-24T11:25:30.232Z"
   },
   {
    "duration": 114,
    "start_time": "2022-04-24T11:25:30.363Z"
   },
   {
    "duration": 383,
    "start_time": "2022-04-24T11:25:30.480Z"
   },
   {
    "duration": 7483,
    "start_time": "2022-04-24T11:25:30.867Z"
   },
   {
    "duration": 41,
    "start_time": "2022-04-24T11:25:38.354Z"
   },
   {
    "duration": 101,
    "start_time": "2022-04-24T11:25:38.398Z"
   },
   {
    "duration": 65,
    "start_time": "2022-04-24T11:25:38.502Z"
   },
   {
    "duration": 37,
    "start_time": "2022-04-24T11:25:38.570Z"
   },
   {
    "duration": 116,
    "start_time": "2022-04-24T11:25:38.626Z"
   },
   {
    "duration": 9,
    "start_time": "2022-04-24T11:25:38.745Z"
   },
   {
    "duration": 129,
    "start_time": "2022-04-24T11:25:38.756Z"
   },
   {
    "duration": 125,
    "start_time": "2022-04-24T11:25:38.888Z"
   },
   {
    "duration": 31,
    "start_time": "2022-04-24T11:25:39.016Z"
   },
   {
    "duration": 23346,
    "start_time": "2022-04-24T11:25:39.051Z"
   },
   {
    "duration": 7,
    "start_time": "2022-04-24T11:26:02.399Z"
   },
   {
    "duration": 233,
    "start_time": "2022-04-24T11:26:02.425Z"
   },
   {
    "duration": 971823,
    "start_time": "2022-04-24T11:26:02.727Z"
   },
   {
    "duration": 498871,
    "start_time": "2022-04-24T11:42:14.554Z"
   },
   {
    "duration": 1510,
    "start_time": "2022-04-24T11:50:33.427Z"
   },
   {
    "duration": 87,
    "start_time": "2022-04-24T11:50:34.939Z"
   },
   {
    "duration": 60567,
    "start_time": "2022-04-24T11:50:35.029Z"
   },
   {
    "duration": 6,
    "start_time": "2022-04-24T11:51:35.599Z"
   },
   {
    "duration": 23,
    "start_time": "2022-04-24T11:51:35.608Z"
   },
   {
    "duration": 238,
    "start_time": "2022-04-24T11:52:41.051Z"
   },
   {
    "duration": 482,
    "start_time": "2022-04-24T11:53:07.362Z"
   },
   {
    "duration": 509,
    "start_time": "2022-04-24T11:54:32.288Z"
   },
   {
    "duration": 465,
    "start_time": "2022-04-24T11:54:42.832Z"
   },
   {
    "duration": 531,
    "start_time": "2022-04-24T11:55:16.153Z"
   },
   {
    "duration": 1858,
    "start_time": "2022-04-24T11:56:21.416Z"
   },
   {
    "duration": 560,
    "start_time": "2022-04-24T11:56:31.069Z"
   },
   {
    "duration": 1178,
    "start_time": "2022-04-24T11:56:49.747Z"
   },
   {
    "duration": 1041,
    "start_time": "2022-04-24T11:57:21.173Z"
   },
   {
    "duration": 1061,
    "start_time": "2022-04-24T11:57:30.526Z"
   },
   {
    "duration": 952,
    "start_time": "2022-04-24T11:57:43.637Z"
   },
   {
    "duration": 1021,
    "start_time": "2022-04-24T11:57:54.549Z"
   },
   {
    "duration": 491,
    "start_time": "2022-04-24T11:59:30.959Z"
   },
   {
    "duration": 407,
    "start_time": "2022-04-24T11:59:40.778Z"
   },
   {
    "duration": 372,
    "start_time": "2022-04-24T11:59:49.135Z"
   },
   {
    "duration": 508,
    "start_time": "2022-04-24T12:00:14.335Z"
   },
   {
    "duration": 465,
    "start_time": "2022-04-24T12:00:47.037Z"
   },
   {
    "duration": 10,
    "start_time": "2022-04-24T12:02:04.644Z"
   },
   {
    "duration": 391,
    "start_time": "2022-04-24T12:02:11.014Z"
   },
   {
    "duration": 352,
    "start_time": "2022-04-24T12:03:02.739Z"
   },
   {
    "duration": 397,
    "start_time": "2022-04-24T12:03:07.296Z"
   },
   {
    "duration": 308,
    "start_time": "2022-04-24T12:03:42.524Z"
   },
   {
    "duration": 364,
    "start_time": "2022-04-24T12:03:50.530Z"
   },
   {
    "duration": 325,
    "start_time": "2022-04-24T12:03:55.968Z"
   },
   {
    "duration": 413,
    "start_time": "2022-04-24T12:04:05.760Z"
   },
   {
    "duration": 360,
    "start_time": "2022-04-24T12:04:16.047Z"
   },
   {
    "duration": 399,
    "start_time": "2022-04-24T12:04:32.168Z"
   },
   {
    "duration": 448,
    "start_time": "2022-04-24T12:04:39.267Z"
   },
   {
    "duration": 229,
    "start_time": "2022-04-24T12:13:50.016Z"
   },
   {
    "duration": 331,
    "start_time": "2022-04-24T12:14:10.711Z"
   },
   {
    "duration": 13,
    "start_time": "2022-04-24T12:14:24.916Z"
   },
   {
    "duration": 269,
    "start_time": "2022-04-24T12:15:17.701Z"
   },
   {
    "duration": 337,
    "start_time": "2022-04-24T12:15:33.741Z"
   },
   {
    "duration": 255,
    "start_time": "2022-04-24T12:16:01.106Z"
   },
   {
    "duration": 360,
    "start_time": "2022-04-24T12:16:16.497Z"
   },
   {
    "duration": 321,
    "start_time": "2022-04-24T12:16:30.590Z"
   },
   {
    "duration": 231,
    "start_time": "2022-04-24T12:16:36.480Z"
   },
   {
    "duration": 21,
    "start_time": "2022-04-24T12:17:09.244Z"
   },
   {
    "duration": 36,
    "start_time": "2022-04-24T12:17:26.185Z"
   },
   {
    "duration": 522,
    "start_time": "2022-04-24T12:17:37.631Z"
   },
   {
    "duration": 241,
    "start_time": "2022-04-24T12:17:54.492Z"
   },
   {
    "duration": 278,
    "start_time": "2022-04-24T12:18:12.743Z"
   },
   {
    "duration": 224,
    "start_time": "2022-04-24T12:24:50.462Z"
   },
   {
    "duration": 13,
    "start_time": "2022-04-24T12:25:34.096Z"
   },
   {
    "duration": 11,
    "start_time": "2022-04-24T12:25:40.313Z"
   },
   {
    "duration": 227,
    "start_time": "2022-04-24T12:25:49.929Z"
   },
   {
    "duration": 8,
    "start_time": "2022-04-24T12:25:58.433Z"
   },
   {
    "duration": 148,
    "start_time": "2022-04-24T12:26:09.438Z"
   },
   {
    "duration": 160,
    "start_time": "2022-04-24T12:26:28.165Z"
   },
   {
    "duration": 6,
    "start_time": "2022-04-24T12:26:33.268Z"
   },
   {
    "duration": 8,
    "start_time": "2022-04-24T12:26:37.452Z"
   },
   {
    "duration": 211,
    "start_time": "2022-04-24T12:26:40.811Z"
   },
   {
    "duration": 1143,
    "start_time": "2022-04-24T12:27:18.012Z"
   },
   {
    "duration": 241,
    "start_time": "2022-04-24T12:27:24.832Z"
   },
   {
    "duration": 16,
    "start_time": "2022-04-24T12:27:27.224Z"
   },
   {
    "duration": 324,
    "start_time": "2022-04-24T12:27:29.064Z"
   },
   {
    "duration": 134,
    "start_time": "2022-04-24T12:27:38.015Z"
   },
   {
    "duration": 280,
    "start_time": "2022-04-24T12:27:39.981Z"
   },
   {
    "duration": 10,
    "start_time": "2022-04-24T12:27:46.500Z"
   },
   {
    "duration": 178,
    "start_time": "2022-04-24T12:28:02.812Z"
   },
   {
    "duration": 11,
    "start_time": "2022-04-24T12:28:04.468Z"
   },
   {
    "duration": 301,
    "start_time": "2022-04-24T12:28:07.765Z"
   },
   {
    "duration": 10,
    "start_time": "2022-04-24T12:28:12.082Z"
   },
   {
    "duration": 11,
    "start_time": "2022-04-24T12:28:14.186Z"
   },
   {
    "duration": 227,
    "start_time": "2022-04-24T12:28:18.165Z"
   },
   {
    "duration": 10,
    "start_time": "2022-04-24T12:28:19.823Z"
   },
   {
    "duration": 106,
    "start_time": "2022-04-24T12:28:38.943Z"
   },
   {
    "duration": 8,
    "start_time": "2022-04-24T12:28:42.950Z"
   },
   {
    "duration": 50,
    "start_time": "2022-04-24T12:28:49.636Z"
   },
   {
    "duration": 7,
    "start_time": "2022-04-24T12:28:50.266Z"
   },
   {
    "duration": 243,
    "start_time": "2022-04-24T12:28:52.191Z"
   },
   {
    "duration": 25,
    "start_time": "2022-04-24T12:30:31.245Z"
   },
   {
    "duration": 114,
    "start_time": "2022-04-24T12:30:40.734Z"
   },
   {
    "duration": 43,
    "start_time": "2022-04-24T12:31:20.510Z"
   },
   {
    "duration": 1109,
    "start_time": "2022-04-24T12:32:32.350Z"
   },
   {
    "duration": 318,
    "start_time": "2022-04-24T12:32:38.967Z"
   },
   {
    "duration": 19,
    "start_time": "2022-04-24T12:32:41.919Z"
   },
   {
    "duration": 9,
    "start_time": "2022-04-24T12:32:44.139Z"
   },
   {
    "duration": 99,
    "start_time": "2022-04-24T12:32:45.905Z"
   },
   {
    "duration": 10,
    "start_time": "2022-04-24T12:32:46.855Z"
   },
   {
    "duration": 46,
    "start_time": "2022-04-24T12:32:49.519Z"
   },
   {
    "duration": 8,
    "start_time": "2022-04-24T12:32:50.143Z"
   },
   {
    "duration": 19,
    "start_time": "2022-04-24T12:32:56.817Z"
   },
   {
    "duration": 52,
    "start_time": "2022-04-24T12:33:39.930Z"
   },
   {
    "duration": 51,
    "start_time": "2022-04-24T12:33:40.916Z"
   },
   {
    "duration": 8,
    "start_time": "2022-04-24T12:33:41.402Z"
   },
   {
    "duration": 19,
    "start_time": "2022-04-24T12:33:42.677Z"
   },
   {
    "duration": 20,
    "start_time": "2022-04-24T12:34:43.282Z"
   },
   {
    "duration": 6,
    "start_time": "2022-04-24T12:35:11.664Z"
   },
   {
    "duration": 6,
    "start_time": "2022-04-24T12:35:15.065Z"
   },
   {
    "duration": 15,
    "start_time": "2022-04-24T12:35:24.609Z"
   },
   {
    "duration": 319,
    "start_time": "2022-04-24T12:35:32.813Z"
   },
   {
    "duration": 37,
    "start_time": "2022-04-24T12:35:56.403Z"
   },
   {
    "duration": 19,
    "start_time": "2022-04-24T12:37:06.335Z"
   },
   {
    "duration": 59,
    "start_time": "2022-04-24T12:38:26.824Z"
   },
   {
    "duration": 42,
    "start_time": "2022-04-24T12:38:36.920Z"
   },
   {
    "duration": 42,
    "start_time": "2022-04-24T12:39:12.692Z"
   },
   {
    "duration": 32,
    "start_time": "2022-04-24T12:41:28.045Z"
   },
   {
    "duration": 31,
    "start_time": "2022-04-24T12:41:52.346Z"
   },
   {
    "duration": 78,
    "start_time": "2022-04-24T12:43:05.828Z"
   },
   {
    "duration": 291,
    "start_time": "2022-04-24T12:43:09.753Z"
   },
   {
    "duration": 3249,
    "start_time": "2022-04-24T12:44:00.821Z"
   },
   {
    "duration": 1740,
    "start_time": "2022-04-24T12:44:04.074Z"
   },
   {
    "duration": 289,
    "start_time": "2022-04-24T12:44:05.826Z"
   },
   {
    "duration": 1062,
    "start_time": "2022-04-24T12:44:06.117Z"
   },
   {
    "duration": 1162,
    "start_time": "2022-04-24T12:44:07.184Z"
   },
   {
    "duration": 1076,
    "start_time": "2022-04-24T12:44:08.349Z"
   },
   {
    "duration": 249,
    "start_time": "2022-04-24T12:44:09.428Z"
   },
   {
    "duration": 826,
    "start_time": "2022-04-24T12:44:09.680Z"
   },
   {
    "duration": 190,
    "start_time": "2022-04-24T12:44:10.508Z"
   },
   {
    "duration": 232,
    "start_time": "2022-04-24T12:44:10.701Z"
   },
   {
    "duration": 47,
    "start_time": "2022-04-24T12:44:10.936Z"
   },
   {
    "duration": 364,
    "start_time": "2022-04-24T12:44:10.985Z"
   },
   {
    "duration": 312,
    "start_time": "2022-04-24T12:44:11.352Z"
   },
   {
    "duration": 11,
    "start_time": "2022-04-24T12:44:11.671Z"
   },
   {
    "duration": 155206,
    "start_time": "2022-04-24T12:44:11.685Z"
   },
   {
    "duration": 76,
    "start_time": "2022-04-24T12:46:46.893Z"
   },
   {
    "duration": 114,
    "start_time": "2022-04-24T12:46:46.972Z"
   },
   {
    "duration": 75,
    "start_time": "2022-04-24T12:46:47.088Z"
   },
   {
    "duration": 6,
    "start_time": "2022-04-24T12:46:47.165Z"
   },
   {
    "duration": 12,
    "start_time": "2022-04-24T12:46:47.173Z"
   },
   {
    "duration": 18,
    "start_time": "2022-04-24T12:46:47.188Z"
   },
   {
    "duration": 6647,
    "start_time": "2022-04-24T12:46:47.209Z"
   },
   {
    "duration": 7,
    "start_time": "2022-04-24T12:46:53.859Z"
   },
   {
    "duration": 1586,
    "start_time": "2022-04-24T12:46:53.868Z"
   },
   {
    "duration": 282,
    "start_time": "2022-04-24T12:46:55.457Z"
   },
   {
    "duration": 94,
    "start_time": "2022-04-24T12:46:55.743Z"
   },
   {
    "duration": 281,
    "start_time": "2022-04-24T12:46:55.840Z"
   },
   {
    "duration": 317,
    "start_time": "2022-04-24T12:46:56.123Z"
   },
   {
    "duration": 336,
    "start_time": "2022-04-24T12:46:56.443Z"
   },
   {
    "duration": 231,
    "start_time": "2022-04-24T12:46:56.783Z"
   },
   {
    "duration": 25,
    "start_time": "2022-04-24T12:46:57.025Z"
   },
   {
    "duration": 11,
    "start_time": "2022-04-24T12:46:57.053Z"
   },
   {
    "duration": 182,
    "start_time": "2022-04-24T12:46:57.066Z"
   },
   {
    "duration": 9,
    "start_time": "2022-04-24T12:46:57.252Z"
   },
   {
    "duration": 81,
    "start_time": "2022-04-24T12:46:57.264Z"
   },
   {
    "duration": 9,
    "start_time": "2022-04-24T12:46:57.347Z"
   },
   {
    "duration": 28,
    "start_time": "2022-04-24T12:46:57.359Z"
   },
   {
    "duration": 40,
    "start_time": "2022-04-24T12:46:57.389Z"
   },
   {
    "duration": 117,
    "start_time": "2022-04-24T12:46:57.432Z"
   },
   {
    "duration": 51,
    "start_time": "2022-04-24T12:46:57.552Z"
   },
   {
    "duration": 9,
    "start_time": "2022-04-24T12:46:57.625Z"
   },
   {
    "duration": 41,
    "start_time": "2022-04-24T12:46:57.637Z"
   },
   {
    "duration": 64,
    "start_time": "2022-04-24T12:46:57.681Z"
   },
   {
    "duration": 26,
    "start_time": "2022-04-24T12:46:57.748Z"
   },
   {
    "duration": 214,
    "start_time": "2022-04-24T12:46:57.777Z"
   },
   {
    "duration": 32,
    "start_time": "2022-04-24T12:46:57.994Z"
   },
   {
    "duration": 150,
    "start_time": "2022-04-24T12:46:58.029Z"
   },
   {
    "duration": 9,
    "start_time": "2022-04-24T12:46:58.181Z"
   },
   {
    "duration": 134,
    "start_time": "2022-04-24T12:46:58.193Z"
   },
   {
    "duration": 11,
    "start_time": "2022-04-24T12:46:58.330Z"
   },
   {
    "duration": 82,
    "start_time": "2022-04-24T12:46:58.343Z"
   },
   {
    "duration": 9,
    "start_time": "2022-04-24T12:46:58.428Z"
   },
   {
    "duration": 125,
    "start_time": "2022-04-24T12:46:58.440Z"
   },
   {
    "duration": 107,
    "start_time": "2022-04-24T12:46:58.568Z"
   },
   {
    "duration": 331,
    "start_time": "2022-04-24T12:46:58.679Z"
   },
   {
    "duration": 5344,
    "start_time": "2022-04-24T12:46:59.013Z"
   },
   {
    "duration": 81,
    "start_time": "2022-04-24T12:47:04.359Z"
   },
   {
    "duration": 50,
    "start_time": "2022-04-24T12:47:04.443Z"
   },
   {
    "duration": 39,
    "start_time": "2022-04-24T12:47:04.496Z"
   },
   {
    "duration": 125,
    "start_time": "2022-04-24T12:47:04.538Z"
   },
   {
    "duration": 10,
    "start_time": "2022-04-24T12:47:04.666Z"
   },
   {
    "duration": 153,
    "start_time": "2022-04-24T12:47:04.679Z"
   },
   {
    "duration": 157,
    "start_time": "2022-04-24T12:47:04.835Z"
   },
   {
    "duration": 45,
    "start_time": "2022-04-24T12:47:04.996Z"
   },
   {
    "duration": 27438,
    "start_time": "2022-04-24T12:47:05.044Z"
   },
   {
    "duration": 11,
    "start_time": "2022-04-24T12:47:32.484Z"
   },
   {
    "duration": 336,
    "start_time": "2022-04-24T12:47:32.497Z"
   },
   {
    "duration": 869428,
    "start_time": "2022-04-24T12:47:32.837Z"
   },
   {
    "duration": 2688859,
    "start_time": "2022-04-24T13:02:02.268Z"
   },
   {
    "duration": 1609,
    "start_time": "2022-04-24T13:46:51.130Z"
   },
   {
    "duration": 13,
    "start_time": "2022-04-24T13:46:52.741Z"
   },
   {
    "duration": 78953,
    "start_time": "2022-04-24T13:46:52.761Z"
   },
   {
    "duration": 14,
    "start_time": "2022-04-24T13:48:11.717Z"
   },
   {
    "duration": 33,
    "start_time": "2022-04-24T13:48:11.735Z"
   },
   {
    "duration": 17,
    "start_time": "2022-04-24T13:48:11.771Z"
   },
   {
    "duration": 412,
    "start_time": "2022-04-24T13:48:11.791Z"
   },
   {
    "duration": 520,
    "start_time": "2022-04-24T13:48:12.205Z"
   },
   {
    "duration": 402,
    "start_time": "2022-04-24T13:48:12.727Z"
   },
   {
    "duration": 236,
    "start_time": "2022-04-24T15:05:21.598Z"
   },
   {
    "duration": 144,
    "start_time": "2022-04-25T09:05:03.052Z"
   },
   {
    "duration": 1,
    "start_time": "2022-04-25T09:05:03.200Z"
   },
   {
    "duration": 0,
    "start_time": "2022-04-25T09:05:03.203Z"
   },
   {
    "duration": 0,
    "start_time": "2022-04-25T09:05:03.205Z"
   },
   {
    "duration": 0,
    "start_time": "2022-04-25T09:05:03.207Z"
   },
   {
    "duration": 0,
    "start_time": "2022-04-25T09:05:03.209Z"
   },
   {
    "duration": 0,
    "start_time": "2022-04-25T09:05:03.211Z"
   },
   {
    "duration": 0,
    "start_time": "2022-04-25T09:05:03.213Z"
   },
   {
    "duration": 0,
    "start_time": "2022-04-25T09:05:03.215Z"
   },
   {
    "duration": 0,
    "start_time": "2022-04-25T09:05:03.254Z"
   },
   {
    "duration": 0,
    "start_time": "2022-04-25T09:05:03.256Z"
   },
   {
    "duration": 0,
    "start_time": "2022-04-25T09:05:03.258Z"
   },
   {
    "duration": 0,
    "start_time": "2022-04-25T09:05:03.261Z"
   },
   {
    "duration": 0,
    "start_time": "2022-04-25T09:05:03.263Z"
   },
   {
    "duration": 0,
    "start_time": "2022-04-25T09:05:03.265Z"
   },
   {
    "duration": 0,
    "start_time": "2022-04-25T09:05:03.270Z"
   },
   {
    "duration": 0,
    "start_time": "2022-04-25T09:05:03.272Z"
   },
   {
    "duration": 0,
    "start_time": "2022-04-25T09:05:03.274Z"
   },
   {
    "duration": 0,
    "start_time": "2022-04-25T09:05:03.276Z"
   },
   {
    "duration": 0,
    "start_time": "2022-04-25T09:05:03.278Z"
   },
   {
    "duration": 0,
    "start_time": "2022-04-25T09:05:03.282Z"
   },
   {
    "duration": 0,
    "start_time": "2022-04-25T09:05:03.286Z"
   },
   {
    "duration": 0,
    "start_time": "2022-04-25T09:05:03.288Z"
   },
   {
    "duration": 0,
    "start_time": "2022-04-25T09:05:03.290Z"
   },
   {
    "duration": 0,
    "start_time": "2022-04-25T09:05:03.292Z"
   },
   {
    "duration": 0,
    "start_time": "2022-04-25T09:05:03.294Z"
   },
   {
    "duration": 0,
    "start_time": "2022-04-25T09:05:03.296Z"
   },
   {
    "duration": 0,
    "start_time": "2022-04-25T09:05:03.297Z"
   },
   {
    "duration": 0,
    "start_time": "2022-04-25T09:05:03.351Z"
   },
   {
    "duration": 0,
    "start_time": "2022-04-25T09:05:03.353Z"
   },
   {
    "duration": 17,
    "start_time": "2022-04-25T09:05:03.361Z"
   },
   {
    "duration": 0,
    "start_time": "2022-04-25T09:05:03.381Z"
   },
   {
    "duration": 0,
    "start_time": "2022-04-25T09:05:03.383Z"
   },
   {
    "duration": 0,
    "start_time": "2022-04-25T09:05:03.384Z"
   },
   {
    "duration": 0,
    "start_time": "2022-04-25T09:05:03.386Z"
   },
   {
    "duration": 0,
    "start_time": "2022-04-25T09:05:03.388Z"
   },
   {
    "duration": 0,
    "start_time": "2022-04-25T09:05:03.390Z"
   },
   {
    "duration": 0,
    "start_time": "2022-04-25T09:05:03.392Z"
   },
   {
    "duration": 0,
    "start_time": "2022-04-25T09:05:03.394Z"
   },
   {
    "duration": 0,
    "start_time": "2022-04-25T09:05:03.396Z"
   },
   {
    "duration": 0,
    "start_time": "2022-04-25T09:05:03.456Z"
   },
   {
    "duration": 0,
    "start_time": "2022-04-25T09:05:03.458Z"
   },
   {
    "duration": 0,
    "start_time": "2022-04-25T09:05:03.461Z"
   },
   {
    "duration": 0,
    "start_time": "2022-04-25T09:05:03.463Z"
   },
   {
    "duration": 0,
    "start_time": "2022-04-25T09:05:03.464Z"
   },
   {
    "duration": 0,
    "start_time": "2022-04-25T09:05:03.466Z"
   },
   {
    "duration": 0,
    "start_time": "2022-04-25T09:05:03.467Z"
   },
   {
    "duration": 0,
    "start_time": "2022-04-25T09:05:03.469Z"
   },
   {
    "duration": 0,
    "start_time": "2022-04-25T09:05:03.470Z"
   },
   {
    "duration": 2091,
    "start_time": "2022-04-25T09:05:35.412Z"
   },
   {
    "duration": 1119,
    "start_time": "2022-04-25T09:05:37.506Z"
   },
   {
    "duration": 198,
    "start_time": "2022-04-25T09:05:38.627Z"
   },
   {
    "duration": 688,
    "start_time": "2022-04-25T09:05:38.828Z"
   },
   {
    "duration": 863,
    "start_time": "2022-04-25T09:05:39.518Z"
   },
   {
    "duration": 732,
    "start_time": "2022-04-25T09:05:40.383Z"
   },
   {
    "duration": 187,
    "start_time": "2022-04-25T09:05:41.117Z"
   },
   {
    "duration": 588,
    "start_time": "2022-04-25T09:05:41.306Z"
   },
   {
    "duration": 158,
    "start_time": "2022-04-25T09:05:41.896Z"
   },
   {
    "duration": 164,
    "start_time": "2022-04-25T09:05:42.060Z"
   },
   {
    "duration": 47,
    "start_time": "2022-04-25T09:05:42.226Z"
   },
   {
    "duration": 299,
    "start_time": "2022-04-25T09:05:42.275Z"
   },
   {
    "duration": 464,
    "start_time": "2022-04-25T09:05:42.577Z"
   },
   {
    "duration": 13,
    "start_time": "2022-04-25T09:05:43.043Z"
   },
   {
    "duration": 140043,
    "start_time": "2022-04-25T09:05:43.058Z"
   },
   {
    "duration": 65,
    "start_time": "2022-04-25T09:08:03.103Z"
   },
   {
    "duration": 122,
    "start_time": "2022-04-25T09:08:03.170Z"
   },
   {
    "duration": 80,
    "start_time": "2022-04-25T09:08:03.294Z"
   },
   {
    "duration": 6,
    "start_time": "2022-04-25T09:08:03.376Z"
   },
   {
    "duration": 10,
    "start_time": "2022-04-25T09:08:03.384Z"
   },
   {
    "duration": 10,
    "start_time": "2022-04-25T09:08:03.396Z"
   },
   {
    "duration": 6131,
    "start_time": "2022-04-25T09:08:03.409Z"
   },
   {
    "duration": 8,
    "start_time": "2022-04-25T09:08:09.552Z"
   },
   {
    "duration": 1724,
    "start_time": "2022-04-25T09:08:09.562Z"
   },
   {
    "duration": 273,
    "start_time": "2022-04-25T09:08:11.289Z"
   },
   {
    "duration": 91,
    "start_time": "2022-04-25T09:08:11.563Z"
   },
   {
    "duration": 233,
    "start_time": "2022-04-25T09:08:11.657Z"
   },
   {
    "duration": 220,
    "start_time": "2022-04-25T09:08:11.896Z"
   },
   {
    "duration": 249,
    "start_time": "2022-04-25T09:08:12.118Z"
   },
   {
    "duration": 207,
    "start_time": "2022-04-25T09:08:12.370Z"
   },
   {
    "duration": 20,
    "start_time": "2022-04-25T09:08:12.580Z"
   },
   {
    "duration": 9,
    "start_time": "2022-04-25T09:08:12.603Z"
   },
   {
    "duration": 153,
    "start_time": "2022-04-25T09:08:12.614Z"
   },
   {
    "duration": 8,
    "start_time": "2022-04-25T09:08:12.769Z"
   },
   {
    "duration": 80,
    "start_time": "2022-04-25T09:08:12.779Z"
   },
   {
    "duration": 7,
    "start_time": "2022-04-25T09:08:12.864Z"
   },
   {
    "duration": 34,
    "start_time": "2022-04-25T09:08:12.873Z"
   },
   {
    "duration": 13,
    "start_time": "2022-04-25T09:08:12.909Z"
   },
   {
    "duration": 237,
    "start_time": "2022-04-25T09:08:12.924Z"
   },
   {
    "duration": 92,
    "start_time": "2022-04-25T09:08:13.164Z"
   },
   {
    "duration": 53,
    "start_time": "2022-04-25T09:08:13.259Z"
   },
   {
    "duration": 7,
    "start_time": "2022-04-25T09:08:13.314Z"
   },
   {
    "duration": 44,
    "start_time": "2022-04-25T09:08:13.324Z"
   },
   {
    "duration": 57,
    "start_time": "2022-04-25T09:08:13.371Z"
   },
   {
    "duration": 37,
    "start_time": "2022-04-25T09:08:13.431Z"
   },
   {
    "duration": 174,
    "start_time": "2022-04-25T09:08:13.471Z"
   },
   {
    "duration": 16,
    "start_time": "2022-04-25T09:08:13.647Z"
   },
   {
    "duration": 146,
    "start_time": "2022-04-25T09:08:13.664Z"
   },
   {
    "duration": 8,
    "start_time": "2022-04-25T09:08:13.812Z"
   },
   {
    "duration": 112,
    "start_time": "2022-04-25T09:08:13.822Z"
   },
   {
    "duration": 7,
    "start_time": "2022-04-25T09:08:13.937Z"
   },
   {
    "duration": 58,
    "start_time": "2022-04-25T09:08:13.952Z"
   },
   {
    "duration": 7,
    "start_time": "2022-04-25T09:08:14.013Z"
   },
   {
    "duration": 120,
    "start_time": "2022-04-25T09:08:14.022Z"
   },
   {
    "duration": 85,
    "start_time": "2022-04-25T09:08:14.144Z"
   },
   {
    "duration": 251,
    "start_time": "2022-04-25T09:08:14.231Z"
   },
   {
    "duration": 4383,
    "start_time": "2022-04-25T09:08:14.485Z"
   },
   {
    "duration": 81,
    "start_time": "2022-04-25T09:08:18.871Z"
   },
   {
    "duration": 39,
    "start_time": "2022-04-25T09:08:18.956Z"
   },
   {
    "duration": 27,
    "start_time": "2022-04-25T09:08:18.998Z"
   },
   {
    "duration": 106,
    "start_time": "2022-04-25T09:08:19.027Z"
   },
   {
    "duration": 17,
    "start_time": "2022-04-25T09:08:19.136Z"
   },
   {
    "duration": 120,
    "start_time": "2022-04-25T09:08:19.155Z"
   },
   {
    "duration": 111,
    "start_time": "2022-04-25T09:08:19.277Z"
   },
   {
    "duration": 26,
    "start_time": "2022-04-25T09:08:19.391Z"
   },
   {
    "duration": 21034,
    "start_time": "2022-04-25T09:08:19.420Z"
   },
   {
    "duration": 10,
    "start_time": "2022-04-25T09:08:40.456Z"
   },
   {
    "duration": 196,
    "start_time": "2022-04-25T09:08:40.469Z"
   },
   {
    "duration": 682384,
    "start_time": "2022-04-25T09:08:40.667Z"
   },
   {
    "duration": 1308309,
    "start_time": "2022-04-25T09:20:03.054Z"
   },
   {
    "duration": 1530,
    "start_time": "2022-04-25T09:41:51.366Z"
   },
   {
    "duration": 13,
    "start_time": "2022-04-25T09:41:52.953Z"
   },
   {
    "duration": 62539,
    "start_time": "2022-04-25T09:41:52.969Z"
   },
   {
    "duration": 6,
    "start_time": "2022-04-25T09:42:55.510Z"
   },
   {
    "duration": 48,
    "start_time": "2022-04-25T09:42:55.518Z"
   },
   {
    "duration": 24,
    "start_time": "2022-04-25T09:42:55.568Z"
   },
   {
    "duration": 450,
    "start_time": "2022-04-25T09:42:55.594Z"
   },
   {
    "duration": 505,
    "start_time": "2022-04-25T09:42:56.046Z"
   },
   {
    "duration": 380,
    "start_time": "2022-04-25T09:42:56.554Z"
   },
   {
    "duration": 9,
    "start_time": "2022-04-25T09:44:16.561Z"
   },
   {
    "duration": 8,
    "start_time": "2022-04-25T09:44:45.222Z"
   },
   {
    "duration": 1143,
    "start_time": "2022-04-25T09:44:45.233Z"
   },
   {
    "duration": 186,
    "start_time": "2022-04-25T09:44:46.378Z"
   },
   {
    "duration": 645,
    "start_time": "2022-04-25T09:44:46.567Z"
   },
   {
    "duration": 871,
    "start_time": "2022-04-25T09:44:47.214Z"
   },
   {
    "duration": 646,
    "start_time": "2022-04-25T09:44:48.087Z"
   },
   {
    "duration": 183,
    "start_time": "2022-04-25T09:44:48.736Z"
   },
   {
    "duration": 538,
    "start_time": "2022-04-25T09:44:48.921Z"
   },
   {
    "duration": 131,
    "start_time": "2022-04-25T09:44:49.465Z"
   },
   {
    "duration": 163,
    "start_time": "2022-04-25T09:44:49.599Z"
   },
   {
    "duration": 52,
    "start_time": "2022-04-25T09:44:49.764Z"
   },
   {
    "duration": 244,
    "start_time": "2022-04-25T09:44:49.818Z"
   },
   {
    "duration": 413,
    "start_time": "2022-04-25T09:44:50.064Z"
   },
   {
    "duration": 9,
    "start_time": "2022-04-25T09:44:50.479Z"
   },
   {
    "duration": 144358,
    "start_time": "2022-04-25T09:44:50.491Z"
   },
   {
    "duration": 58,
    "start_time": "2022-04-25T09:47:14.852Z"
   },
   {
    "duration": 116,
    "start_time": "2022-04-25T09:47:14.913Z"
   },
   {
    "duration": 75,
    "start_time": "2022-04-25T09:47:15.031Z"
   },
   {
    "duration": 6,
    "start_time": "2022-04-25T09:47:15.108Z"
   },
   {
    "duration": 11,
    "start_time": "2022-04-25T09:47:15.116Z"
   },
   {
    "duration": 23,
    "start_time": "2022-04-25T09:47:15.129Z"
   },
   {
    "duration": 4108,
    "start_time": "2022-04-25T09:47:15.154Z"
   },
   {
    "duration": 7,
    "start_time": "2022-04-25T09:47:19.265Z"
   },
   {
    "duration": 1515,
    "start_time": "2022-04-25T09:47:19.279Z"
   },
   {
    "duration": 250,
    "start_time": "2022-04-25T09:47:20.796Z"
   },
   {
    "duration": 68,
    "start_time": "2022-04-25T09:47:21.052Z"
   },
   {
    "duration": 248,
    "start_time": "2022-04-25T09:47:21.123Z"
   },
   {
    "duration": 221,
    "start_time": "2022-04-25T09:47:21.374Z"
   },
   {
    "duration": 245,
    "start_time": "2022-04-25T09:47:21.597Z"
   },
   {
    "duration": 241,
    "start_time": "2022-04-25T09:47:21.844Z"
   },
   {
    "duration": 17,
    "start_time": "2022-04-25T09:47:22.088Z"
   },
   {
    "duration": 10,
    "start_time": "2022-04-25T10:04:07.304Z"
   },
   {
    "duration": 5,
    "start_time": "2022-04-25T10:04:24.476Z"
   },
   {
    "duration": 5,
    "start_time": "2022-04-25T10:06:40.093Z"
   },
   {
    "duration": 13,
    "start_time": "2022-04-25T10:07:19.888Z"
   },
   {
    "duration": 16,
    "start_time": "2022-04-25T10:07:24.734Z"
   },
   {
    "duration": 5,
    "start_time": "2022-04-25T10:08:50.093Z"
   },
   {
    "duration": 5,
    "start_time": "2022-04-25T10:12:23.029Z"
   },
   {
    "duration": 4,
    "start_time": "2022-04-25T10:13:13.852Z"
   },
   {
    "duration": 4,
    "start_time": "2022-04-25T10:13:21.841Z"
   },
   {
    "duration": 2058,
    "start_time": "2022-04-27T04:46:39.226Z"
   },
   {
    "duration": 781,
    "start_time": "2022-04-27T04:46:41.286Z"
   },
   {
    "duration": 140,
    "start_time": "2022-04-27T04:46:42.069Z"
   },
   {
    "duration": 458,
    "start_time": "2022-04-27T04:46:42.211Z"
   },
   {
    "duration": 545,
    "start_time": "2022-04-27T04:46:42.670Z"
   },
   {
    "duration": 460,
    "start_time": "2022-04-27T04:46:43.217Z"
   },
   {
    "duration": 130,
    "start_time": "2022-04-27T04:46:43.679Z"
   },
   {
    "duration": 377,
    "start_time": "2022-04-27T04:46:43.810Z"
   },
   {
    "duration": 84,
    "start_time": "2022-04-27T04:46:44.189Z"
   },
   {
    "duration": 112,
    "start_time": "2022-04-27T04:46:44.276Z"
   },
   {
    "duration": 20,
    "start_time": "2022-04-27T04:46:44.390Z"
   },
   {
    "duration": 146,
    "start_time": "2022-04-27T04:46:44.411Z"
   },
   {
    "duration": 183,
    "start_time": "2022-04-27T04:46:44.559Z"
   },
   {
    "duration": 7,
    "start_time": "2022-04-27T04:46:44.744Z"
   },
   {
    "duration": 77643,
    "start_time": "2022-04-27T04:46:44.752Z"
   },
   {
    "duration": 43,
    "start_time": "2022-04-27T04:48:02.397Z"
   },
   {
    "duration": 61,
    "start_time": "2022-04-27T04:48:02.442Z"
   },
   {
    "duration": 43,
    "start_time": "2022-04-27T04:48:02.504Z"
   },
   {
    "duration": 4,
    "start_time": "2022-04-27T04:48:02.549Z"
   },
   {
    "duration": 8,
    "start_time": "2022-04-27T04:48:02.554Z"
   },
   {
    "duration": 8,
    "start_time": "2022-04-27T04:48:02.564Z"
   },
   {
    "duration": 4196,
    "start_time": "2022-04-27T04:48:02.573Z"
   },
   {
    "duration": 5,
    "start_time": "2022-04-27T04:48:06.771Z"
   },
   {
    "duration": 854,
    "start_time": "2022-04-27T04:48:06.778Z"
   },
   {
    "duration": 135,
    "start_time": "2022-04-27T04:48:07.634Z"
   },
   {
    "duration": 52,
    "start_time": "2022-04-27T04:48:07.770Z"
   },
   {
    "duration": 133,
    "start_time": "2022-04-27T04:48:07.824Z"
   },
   {
    "duration": 121,
    "start_time": "2022-04-27T04:48:07.962Z"
   },
   {
    "duration": 143,
    "start_time": "2022-04-27T04:48:08.085Z"
   },
   {
    "duration": 126,
    "start_time": "2022-04-27T04:48:08.229Z"
   },
   {
    "duration": 55,
    "start_time": "2022-04-27T04:48:08.357Z"
   },
   {
    "duration": 11,
    "start_time": "2022-04-27T04:48:08.422Z"
   },
   {
    "duration": 5,
    "start_time": "2022-04-27T04:48:08.435Z"
   },
   {
    "duration": 64,
    "start_time": "2022-04-27T04:48:08.441Z"
   },
   {
    "duration": 20,
    "start_time": "2022-04-27T04:48:08.506Z"
   },
   {
    "duration": 34,
    "start_time": "2022-04-27T04:48:08.527Z"
   },
   {
    "duration": 5,
    "start_time": "2022-04-27T04:48:08.562Z"
   },
   {
    "duration": 14,
    "start_time": "2022-04-27T04:48:08.569Z"
   },
   {
    "duration": 8,
    "start_time": "2022-04-27T04:48:08.585Z"
   },
   {
    "duration": 132,
    "start_time": "2022-04-27T04:48:08.623Z"
   },
   {
    "duration": 45,
    "start_time": "2022-04-27T04:48:08.756Z"
   },
   {
    "duration": 44,
    "start_time": "2022-04-27T04:48:08.803Z"
   },
   {
    "duration": 6,
    "start_time": "2022-04-27T04:48:08.848Z"
   },
   {
    "duration": 12,
    "start_time": "2022-04-27T04:48:08.856Z"
   },
   {
    "duration": 54,
    "start_time": "2022-04-27T04:48:08.870Z"
   },
   {
    "duration": 18,
    "start_time": "2022-04-27T04:48:08.925Z"
   },
   {
    "duration": 103,
    "start_time": "2022-04-27T04:48:08.945Z"
   },
   {
    "duration": 10,
    "start_time": "2022-04-27T04:48:09.050Z"
   },
   {
    "duration": 96,
    "start_time": "2022-04-27T04:48:09.061Z"
   },
   {
    "duration": 7,
    "start_time": "2022-04-27T04:48:09.158Z"
   },
   {
    "duration": 73,
    "start_time": "2022-04-27T04:48:09.167Z"
   },
   {
    "duration": 5,
    "start_time": "2022-04-27T04:48:09.242Z"
   },
   {
    "duration": 35,
    "start_time": "2022-04-27T04:48:09.248Z"
   },
   {
    "duration": 5,
    "start_time": "2022-04-27T04:48:09.285Z"
   },
   {
    "duration": 66,
    "start_time": "2022-04-27T04:48:09.292Z"
   },
   {
    "duration": 45,
    "start_time": "2022-04-27T04:48:09.359Z"
   },
   {
    "duration": 151,
    "start_time": "2022-04-27T04:48:09.405Z"
   },
   {
    "duration": 3086,
    "start_time": "2022-04-27T04:48:09.557Z"
   },
   {
    "duration": 52,
    "start_time": "2022-04-27T04:48:12.645Z"
   },
   {
    "duration": 43,
    "start_time": "2022-04-27T04:48:12.699Z"
   },
   {
    "duration": 117,
    "start_time": "2022-04-27T04:48:12.743Z"
   },
   {
    "duration": 0,
    "start_time": "2022-04-27T04:48:12.861Z"
   },
   {
    "duration": 0,
    "start_time": "2022-04-27T04:48:12.862Z"
   },
   {
    "duration": 0,
    "start_time": "2022-04-27T04:48:12.864Z"
   },
   {
    "duration": 0,
    "start_time": "2022-04-27T04:48:12.865Z"
   },
   {
    "duration": 0,
    "start_time": "2022-04-27T04:48:12.866Z"
   },
   {
    "duration": 0,
    "start_time": "2022-04-27T04:48:12.867Z"
   },
   {
    "duration": 0,
    "start_time": "2022-04-27T04:48:12.868Z"
   },
   {
    "duration": 0,
    "start_time": "2022-04-27T04:48:12.870Z"
   },
   {
    "duration": 0,
    "start_time": "2022-04-27T04:48:12.871Z"
   },
   {
    "duration": 0,
    "start_time": "2022-04-27T04:48:12.872Z"
   },
   {
    "duration": 0,
    "start_time": "2022-04-27T04:48:12.873Z"
   },
   {
    "duration": 0,
    "start_time": "2022-04-27T04:48:12.875Z"
   },
   {
    "duration": 0,
    "start_time": "2022-04-27T04:48:12.876Z"
   },
   {
    "duration": 0,
    "start_time": "2022-04-27T04:48:12.877Z"
   },
   {
    "duration": 0,
    "start_time": "2022-04-27T04:48:12.879Z"
   },
   {
    "duration": 0,
    "start_time": "2022-04-27T04:48:12.880Z"
   },
   {
    "duration": 0,
    "start_time": "2022-04-27T04:48:12.882Z"
   },
   {
    "duration": 0,
    "start_time": "2022-04-27T04:48:12.883Z"
   },
   {
    "duration": 0,
    "start_time": "2022-04-27T04:48:12.923Z"
   },
   {
    "duration": 0,
    "start_time": "2022-04-27T04:48:12.924Z"
   },
   {
    "duration": 5,
    "start_time": "2022-04-27T05:50:44.747Z"
   },
   {
    "duration": 6,
    "start_time": "2022-04-27T05:51:04.768Z"
   },
   {
    "duration": 25,
    "start_time": "2022-04-27T05:52:36.298Z"
   },
   {
    "duration": 158,
    "start_time": "2022-04-27T05:52:46.821Z"
   },
   {
    "duration": 834,
    "start_time": "2022-04-27T05:53:17.818Z"
   },
   {
    "duration": 693,
    "start_time": "2022-04-27T05:53:24.730Z"
   },
   {
    "duration": 725,
    "start_time": "2022-04-27T05:53:48.326Z"
   },
   {
    "duration": 165,
    "start_time": "2022-04-27T05:54:14.818Z"
   },
   {
    "duration": 764,
    "start_time": "2022-04-27T05:54:50.055Z"
   },
   {
    "duration": 168,
    "start_time": "2022-04-27T06:01:35.142Z"
   },
   {
    "duration": 41,
    "start_time": "2022-04-27T06:02:01.438Z"
   },
   {
    "duration": 44,
    "start_time": "2022-04-27T06:02:19.842Z"
   },
   {
    "duration": 2,
    "start_time": "2022-04-27T06:02:36.963Z"
   },
   {
    "duration": 718,
    "start_time": "2022-04-27T06:15:58.755Z"
   },
   {
    "duration": 17,
    "start_time": "2022-04-27T06:18:36.368Z"
   },
   {
    "duration": 12,
    "start_time": "2022-04-27T06:33:00.847Z"
   },
   {
    "duration": 78,
    "start_time": "2022-04-27T06:33:30.780Z"
   },
   {
    "duration": 10,
    "start_time": "2022-04-27T06:33:57.479Z"
   },
   {
    "duration": 762,
    "start_time": "2022-04-27T06:34:06.975Z"
   },
   {
    "duration": 607,
    "start_time": "2022-04-27T06:34:50.456Z"
   },
   {
    "duration": 4,
    "start_time": "2022-04-27T07:17:46.304Z"
   },
   {
    "duration": 10,
    "start_time": "2022-04-27T07:20:47.420Z"
   },
   {
    "duration": 170,
    "start_time": "2022-04-27T07:21:04.971Z"
   },
   {
    "duration": 22,
    "start_time": "2022-04-27T07:21:19.050Z"
   },
   {
    "duration": 22,
    "start_time": "2022-04-27T07:51:58.724Z"
   },
   {
    "duration": 28,
    "start_time": "2022-04-27T07:52:18.728Z"
   },
   {
    "duration": 196,
    "start_time": "2022-04-27T07:54:15.089Z"
   },
   {
    "duration": 3,
    "start_time": "2022-04-27T08:21:03.851Z"
   },
   {
    "duration": 4,
    "start_time": "2022-04-27T08:21:55.035Z"
   },
   {
    "duration": 4,
    "start_time": "2022-04-27T08:22:27.411Z"
   },
   {
    "duration": 4,
    "start_time": "2022-04-27T08:22:46.735Z"
   },
   {
    "duration": 4,
    "start_time": "2022-04-27T08:22:49.472Z"
   },
   {
    "duration": 19294,
    "start_time": "2022-04-27T08:40:41.829Z"
   },
   {
    "duration": 76,
    "start_time": "2022-04-27T09:20:49.817Z"
   },
   {
    "duration": 139,
    "start_time": "2022-04-27T09:20:55.793Z"
   },
   {
    "duration": 62,
    "start_time": "2022-04-27T09:43:03.595Z"
   },
   {
    "duration": 86,
    "start_time": "2022-04-27T09:43:09.851Z"
   },
   {
    "duration": 71,
    "start_time": "2022-04-27T09:43:26.369Z"
   },
   {
    "duration": 134,
    "start_time": "2022-04-27T09:43:59.496Z"
   },
   {
    "duration": 227,
    "start_time": "2022-04-27T09:58:47.598Z"
   },
   {
    "duration": 100,
    "start_time": "2022-04-27T10:04:57.630Z"
   },
   {
    "duration": 76,
    "start_time": "2022-04-27T10:05:05.355Z"
   },
   {
    "duration": 42,
    "start_time": "2022-04-27T10:11:28.939Z"
   },
   {
    "duration": 2026,
    "start_time": "2022-04-27T10:19:25.457Z"
   },
   {
    "duration": 869,
    "start_time": "2022-04-27T10:19:27.485Z"
   },
   {
    "duration": 152,
    "start_time": "2022-04-27T10:19:28.356Z"
   },
   {
    "duration": 505,
    "start_time": "2022-04-27T10:19:28.510Z"
   },
   {
    "duration": 589,
    "start_time": "2022-04-27T10:19:29.022Z"
   },
   {
    "duration": 468,
    "start_time": "2022-04-27T10:19:29.612Z"
   },
   {
    "duration": 129,
    "start_time": "2022-04-27T10:19:30.082Z"
   },
   {
    "duration": 396,
    "start_time": "2022-04-27T10:19:30.212Z"
   },
   {
    "duration": 93,
    "start_time": "2022-04-27T10:19:30.609Z"
   },
   {
    "duration": 111,
    "start_time": "2022-04-27T10:19:30.704Z"
   },
   {
    "duration": 29,
    "start_time": "2022-04-27T10:19:30.817Z"
   },
   {
    "duration": 155,
    "start_time": "2022-04-27T10:19:30.847Z"
   },
   {
    "duration": 180,
    "start_time": "2022-04-27T10:19:31.004Z"
   },
   {
    "duration": 6,
    "start_time": "2022-04-27T10:19:31.188Z"
   },
   {
    "duration": 86895,
    "start_time": "2022-04-27T10:19:31.196Z"
   },
   {
    "duration": 54,
    "start_time": "2022-04-27T10:20:58.093Z"
   },
   {
    "duration": 70,
    "start_time": "2022-04-27T10:20:58.149Z"
   },
   {
    "duration": 56,
    "start_time": "2022-04-27T10:20:58.227Z"
   },
   {
    "duration": 4,
    "start_time": "2022-04-27T10:20:58.285Z"
   },
   {
    "duration": 7,
    "start_time": "2022-04-27T10:20:58.291Z"
   },
   {
    "duration": 6,
    "start_time": "2022-04-27T10:20:58.300Z"
   },
   {
    "duration": 4778,
    "start_time": "2022-04-27T10:20:58.308Z"
   },
   {
    "duration": 5,
    "start_time": "2022-04-27T10:21:03.087Z"
   },
   {
    "duration": 1013,
    "start_time": "2022-04-27T10:21:03.094Z"
   },
   {
    "duration": 162,
    "start_time": "2022-04-27T10:21:04.109Z"
   },
   {
    "duration": 54,
    "start_time": "2022-04-27T10:21:04.273Z"
   },
   {
    "duration": 144,
    "start_time": "2022-04-27T10:21:04.329Z"
   },
   {
    "duration": 155,
    "start_time": "2022-04-27T10:21:04.475Z"
   },
   {
    "duration": 244,
    "start_time": "2022-04-27T10:21:04.635Z"
   },
   {
    "duration": 135,
    "start_time": "2022-04-27T10:21:04.881Z"
   },
   {
    "duration": 58,
    "start_time": "2022-04-27T10:21:05.017Z"
   },
   {
    "duration": 11,
    "start_time": "2022-04-27T10:21:05.077Z"
   },
   {
    "duration": 6,
    "start_time": "2022-04-27T10:21:05.090Z"
   },
   {
    "duration": 81,
    "start_time": "2022-04-27T10:21:05.122Z"
   },
   {
    "duration": 5,
    "start_time": "2022-04-27T10:21:05.205Z"
   },
   {
    "duration": 61,
    "start_time": "2022-04-27T10:21:05.212Z"
   },
   {
    "duration": 4,
    "start_time": "2022-04-27T10:21:05.275Z"
   },
   {
    "duration": 17,
    "start_time": "2022-04-27T10:21:05.281Z"
   },
   {
    "duration": 10,
    "start_time": "2022-04-27T10:21:05.300Z"
   },
   {
    "duration": 169,
    "start_time": "2022-04-27T10:21:05.311Z"
   },
   {
    "duration": 65,
    "start_time": "2022-04-27T10:21:05.486Z"
   },
   {
    "duration": 33,
    "start_time": "2022-04-27T10:21:05.553Z"
   },
   {
    "duration": 7,
    "start_time": "2022-04-27T10:21:05.588Z"
   },
   {
    "duration": 35,
    "start_time": "2022-04-27T10:21:05.597Z"
   },
   {
    "duration": 44,
    "start_time": "2022-04-27T10:21:05.634Z"
   },
   {
    "duration": 18,
    "start_time": "2022-04-27T10:21:05.680Z"
   },
   {
    "duration": 131,
    "start_time": "2022-04-27T10:21:05.699Z"
   },
   {
    "duration": 12,
    "start_time": "2022-04-27T10:21:05.832Z"
   },
   {
    "duration": 103,
    "start_time": "2022-04-27T10:21:05.846Z"
   },
   {
    "duration": 7,
    "start_time": "2022-04-27T10:21:05.951Z"
   },
   {
    "duration": 83,
    "start_time": "2022-04-27T10:21:05.959Z"
   },
   {
    "duration": 10,
    "start_time": "2022-04-27T10:21:06.044Z"
   },
   {
    "duration": 39,
    "start_time": "2022-04-27T10:21:06.056Z"
   },
   {
    "duration": 5,
    "start_time": "2022-04-27T10:21:06.097Z"
   },
   {
    "duration": 65,
    "start_time": "2022-04-27T10:21:06.104Z"
   },
   {
    "duration": 59,
    "start_time": "2022-04-27T10:21:06.170Z"
   },
   {
    "duration": 155,
    "start_time": "2022-04-27T10:21:06.231Z"
   },
   {
    "duration": 3780,
    "start_time": "2022-04-27T10:21:06.388Z"
   },
   {
    "duration": 60,
    "start_time": "2022-04-27T10:21:10.170Z"
   },
   {
    "duration": 29,
    "start_time": "2022-04-27T10:21:10.232Z"
   },
   {
    "duration": 93,
    "start_time": "2022-04-27T10:21:10.263Z"
   },
   {
    "duration": 4,
    "start_time": "2022-04-27T10:21:10.358Z"
   },
   {
    "duration": 83,
    "start_time": "2022-04-27T10:21:10.364Z"
   },
   {
    "duration": 16,
    "start_time": "2022-04-27T10:21:10.451Z"
   },
   {
    "duration": 90,
    "start_time": "2022-04-27T10:21:10.469Z"
   },
   {
    "duration": 4,
    "start_time": "2022-04-27T10:21:10.560Z"
   },
   {
    "duration": 75,
    "start_time": "2022-04-27T10:21:10.566Z"
   },
   {
    "duration": 16,
    "start_time": "2022-04-27T10:21:10.646Z"
   },
   {
    "duration": 17994,
    "start_time": "2022-04-27T10:21:10.664Z"
   },
   {
    "duration": 75,
    "start_time": "2022-04-27T10:21:28.660Z"
   },
   {
    "duration": 315,
    "start_time": "2022-04-27T10:21:28.737Z"
   },
   {
    "duration": 570386,
    "start_time": "2022-04-27T10:21:29.123Z"
   },
   {
    "duration": 286930,
    "start_time": "2022-04-27T10:30:59.511Z"
   },
   {
    "duration": 896,
    "start_time": "2022-04-27T10:35:46.443Z"
   },
   {
    "duration": 7,
    "start_time": "2022-04-27T10:35:47.341Z"
   },
   {
    "duration": 43886,
    "start_time": "2022-04-27T10:35:47.352Z"
   },
   {
    "duration": 4,
    "start_time": "2022-04-27T10:36:31.240Z"
   },
   {
    "duration": 15,
    "start_time": "2022-04-27T10:36:31.246Z"
   },
   {
    "duration": 233,
    "start_time": "2022-04-27T10:36:31.262Z"
   },
   {
    "duration": 221,
    "start_time": "2022-04-27T10:36:31.497Z"
   },
   {
    "duration": 217,
    "start_time": "2022-04-27T10:36:31.722Z"
   },
   {
    "duration": 4,
    "start_time": "2022-04-27T10:47:48.224Z"
   },
   {
    "duration": 2204,
    "start_time": "2022-04-27T10:47:55.687Z"
   },
   {
    "duration": 4,
    "start_time": "2022-04-27T10:48:56.626Z"
   },
   {
    "duration": 126,
    "start_time": "2022-04-27T10:49:05.192Z"
   },
   {
    "duration": 5,
    "start_time": "2022-04-27T10:49:22.539Z"
   },
   {
    "duration": 5,
    "start_time": "2022-04-27T10:49:28.045Z"
   },
   {
    "duration": 1874,
    "start_time": "2022-04-27T10:50:24.759Z"
   },
   {
    "duration": 875,
    "start_time": "2022-04-27T10:50:26.636Z"
   },
   {
    "duration": 154,
    "start_time": "2022-04-27T10:50:27.512Z"
   },
   {
    "duration": 515,
    "start_time": "2022-04-27T10:50:27.668Z"
   },
   {
    "duration": 611,
    "start_time": "2022-04-27T10:50:28.185Z"
   },
   {
    "duration": 501,
    "start_time": "2022-04-27T10:50:28.798Z"
   },
   {
    "duration": 138,
    "start_time": "2022-04-27T10:50:29.301Z"
   },
   {
    "duration": 395,
    "start_time": "2022-04-27T10:50:29.441Z"
   },
   {
    "duration": 81,
    "start_time": "2022-04-27T10:50:29.837Z"
   },
   {
    "duration": 114,
    "start_time": "2022-04-27T10:50:29.923Z"
   },
   {
    "duration": 21,
    "start_time": "2022-04-27T10:50:30.039Z"
   },
   {
    "duration": 149,
    "start_time": "2022-04-27T10:50:30.062Z"
   },
   {
    "duration": 178,
    "start_time": "2022-04-27T10:50:30.213Z"
   },
   {
    "duration": 7,
    "start_time": "2022-04-27T10:50:30.393Z"
   },
   {
    "duration": 80562,
    "start_time": "2022-04-27T10:50:30.402Z"
   },
   {
    "duration": 59,
    "start_time": "2022-04-27T10:51:50.966Z"
   },
   {
    "duration": 68,
    "start_time": "2022-04-27T10:51:51.027Z"
   },
   {
    "duration": 54,
    "start_time": "2022-04-27T10:51:51.097Z"
   },
   {
    "duration": 4,
    "start_time": "2022-04-27T10:51:51.152Z"
   },
   {
    "duration": 7,
    "start_time": "2022-04-27T10:51:51.157Z"
   },
   {
    "duration": 5,
    "start_time": "2022-04-27T10:51:51.166Z"
   },
   {
    "duration": 4437,
    "start_time": "2022-04-27T10:51:51.173Z"
   },
   {
    "duration": 4,
    "start_time": "2022-04-27T10:51:55.612Z"
   },
   {
    "duration": 9,
    "start_time": "2022-04-27T10:51:55.617Z"
   },
   {
    "duration": 917,
    "start_time": "2022-04-27T10:51:55.630Z"
   },
   {
    "duration": 149,
    "start_time": "2022-04-27T10:51:56.548Z"
   },
   {
    "duration": 62,
    "start_time": "2022-04-27T10:51:56.698Z"
   },
   {
    "duration": 142,
    "start_time": "2022-04-27T10:51:56.766Z"
   },
   {
    "duration": 138,
    "start_time": "2022-04-27T10:51:56.910Z"
   },
   {
    "duration": 150,
    "start_time": "2022-04-27T10:51:57.050Z"
   },
   {
    "duration": 139,
    "start_time": "2022-04-27T10:51:57.202Z"
   },
   {
    "duration": 56,
    "start_time": "2022-04-27T10:51:57.343Z"
   },
   {
    "duration": 34,
    "start_time": "2022-04-27T10:51:57.400Z"
   },
   {
    "duration": 7,
    "start_time": "2022-04-27T10:51:57.436Z"
   },
   {
    "duration": 85,
    "start_time": "2022-04-27T10:51:57.445Z"
   },
   {
    "duration": 7,
    "start_time": "2022-04-27T10:51:57.532Z"
   },
   {
    "duration": 48,
    "start_time": "2022-04-27T10:51:57.541Z"
   },
   {
    "duration": 6,
    "start_time": "2022-04-27T10:51:57.592Z"
   },
   {
    "duration": 30,
    "start_time": "2022-04-27T10:51:57.600Z"
   },
   {
    "duration": 10,
    "start_time": "2022-04-27T10:51:57.632Z"
   },
   {
    "duration": 197,
    "start_time": "2022-04-27T10:51:57.643Z"
   },
   {
    "duration": 46,
    "start_time": "2022-04-27T10:51:57.841Z"
   },
   {
    "duration": 41,
    "start_time": "2022-04-27T10:51:57.888Z"
   },
   {
    "duration": 9,
    "start_time": "2022-04-27T10:51:57.931Z"
   },
   {
    "duration": 13,
    "start_time": "2022-04-27T10:51:57.941Z"
   },
   {
    "duration": 33,
    "start_time": "2022-04-27T10:51:57.955Z"
   },
   {
    "duration": 50,
    "start_time": "2022-04-27T10:51:57.990Z"
   },
   {
    "duration": 109,
    "start_time": "2022-04-27T10:51:58.042Z"
   },
   {
    "duration": 11,
    "start_time": "2022-04-27T10:51:58.153Z"
   },
   {
    "duration": 98,
    "start_time": "2022-04-27T10:51:58.166Z"
   },
   {
    "duration": 7,
    "start_time": "2022-04-27T10:51:58.266Z"
   },
   {
    "duration": 76,
    "start_time": "2022-04-27T10:51:58.275Z"
   },
   {
    "duration": 7,
    "start_time": "2022-04-27T10:51:58.353Z"
   },
   {
    "duration": 41,
    "start_time": "2022-04-27T10:51:58.362Z"
   },
   {
    "duration": 22,
    "start_time": "2022-04-27T10:51:58.405Z"
   },
   {
    "duration": 46,
    "start_time": "2022-04-27T10:51:58.429Z"
   },
   {
    "duration": 62,
    "start_time": "2022-04-27T10:51:58.477Z"
   },
   {
    "duration": 150,
    "start_time": "2022-04-27T10:51:58.541Z"
   },
   {
    "duration": 3441,
    "start_time": "2022-04-27T10:51:58.694Z"
   },
   {
    "duration": 51,
    "start_time": "2022-04-27T10:52:02.137Z"
   },
   {
    "duration": 37,
    "start_time": "2022-04-27T10:52:02.190Z"
   },
   {
    "duration": 75,
    "start_time": "2022-04-27T10:52:02.229Z"
   },
   {
    "duration": 18,
    "start_time": "2022-04-27T10:52:02.306Z"
   },
   {
    "duration": 58,
    "start_time": "2022-04-27T10:52:02.331Z"
   },
   {
    "duration": 14,
    "start_time": "2022-04-27T10:52:02.390Z"
   },
   {
    "duration": 82,
    "start_time": "2022-04-27T10:52:02.406Z"
   },
   {
    "duration": 3,
    "start_time": "2022-04-27T10:52:02.490Z"
   },
   {
    "duration": 75,
    "start_time": "2022-04-27T10:52:02.495Z"
   },
   {
    "duration": 16,
    "start_time": "2022-04-27T10:52:02.572Z"
   },
   {
    "duration": 17572,
    "start_time": "2022-04-27T10:52:02.589Z"
   },
   {
    "duration": 89,
    "start_time": "2022-04-27T10:52:20.163Z"
   },
   {
    "duration": 304,
    "start_time": "2022-04-27T10:52:20.327Z"
   },
   {
    "duration": 554643,
    "start_time": "2022-04-27T10:52:20.634Z"
   },
   {
    "duration": 234051,
    "start_time": "2022-04-27T11:01:35.278Z"
   },
   {
    "duration": 809,
    "start_time": "2022-04-27T11:05:29.331Z"
   },
   {
    "duration": 81,
    "start_time": "2022-04-27T11:05:30.142Z"
   },
   {
    "duration": 44184,
    "start_time": "2022-04-27T11:05:30.226Z"
   },
   {
    "duration": 11,
    "start_time": "2022-04-27T11:06:14.411Z"
   },
   {
    "duration": 14,
    "start_time": "2022-04-27T11:06:14.431Z"
   },
   {
    "duration": 238,
    "start_time": "2022-04-27T11:06:14.446Z"
   },
   {
    "duration": 233,
    "start_time": "2022-04-27T11:06:14.686Z"
   },
   {
    "duration": 246,
    "start_time": "2022-04-27T11:06:14.925Z"
   },
   {
    "duration": 1995,
    "start_time": "2022-04-28T02:20:35.798Z"
   },
   {
    "duration": 971,
    "start_time": "2022-04-28T02:20:37.797Z"
   },
   {
    "duration": 161,
    "start_time": "2022-04-28T02:20:38.773Z"
   },
   {
    "duration": 581,
    "start_time": "2022-04-28T02:20:38.936Z"
   },
   {
    "duration": 708,
    "start_time": "2022-04-28T02:20:39.519Z"
   },
   {
    "duration": 543,
    "start_time": "2022-04-28T02:20:40.229Z"
   },
   {
    "duration": 147,
    "start_time": "2022-04-28T02:20:40.774Z"
   },
   {
    "duration": 417,
    "start_time": "2022-04-28T02:20:40.923Z"
   },
   {
    "duration": 104,
    "start_time": "2022-04-28T02:20:41.342Z"
   },
   {
    "duration": 131,
    "start_time": "2022-04-28T02:20:41.449Z"
   },
   {
    "duration": 27,
    "start_time": "2022-04-28T02:20:41.583Z"
   },
   {
    "duration": 189,
    "start_time": "2022-04-28T02:20:41.612Z"
   },
   {
    "duration": 207,
    "start_time": "2022-04-28T02:20:41.803Z"
   },
   {
    "duration": 8,
    "start_time": "2022-04-28T02:20:42.012Z"
   },
   {
    "duration": 91617,
    "start_time": "2022-04-28T02:20:42.022Z"
   },
   {
    "duration": 55,
    "start_time": "2022-04-28T02:22:13.640Z"
   },
   {
    "duration": 91,
    "start_time": "2022-04-28T02:22:13.697Z"
   },
   {
    "duration": 40,
    "start_time": "2022-04-28T02:22:13.791Z"
   },
   {
    "duration": 4,
    "start_time": "2022-04-28T02:22:13.832Z"
   },
   {
    "duration": 8,
    "start_time": "2022-04-28T02:22:13.838Z"
   },
   {
    "duration": 7,
    "start_time": "2022-04-28T02:22:13.848Z"
   },
   {
    "duration": 4997,
    "start_time": "2022-04-28T02:22:13.857Z"
   },
   {
    "duration": 5,
    "start_time": "2022-04-28T02:22:18.856Z"
   },
   {
    "duration": 32,
    "start_time": "2022-04-28T02:22:18.862Z"
   },
   {
    "duration": 996,
    "start_time": "2022-04-28T02:22:18.895Z"
   },
   {
    "duration": 170,
    "start_time": "2022-04-28T02:22:19.893Z"
   },
   {
    "duration": 51,
    "start_time": "2022-04-28T02:22:20.064Z"
   },
   {
    "duration": 172,
    "start_time": "2022-04-28T02:22:20.120Z"
   },
   {
    "duration": 148,
    "start_time": "2022-04-28T02:22:20.293Z"
   },
   {
    "duration": 164,
    "start_time": "2022-04-28T02:22:20.443Z"
   },
   {
    "duration": 155,
    "start_time": "2022-04-28T02:22:20.608Z"
   },
   {
    "duration": 73,
    "start_time": "2022-04-28T02:22:20.765Z"
   },
   {
    "duration": 13,
    "start_time": "2022-04-28T02:22:20.840Z"
   },
   {
    "duration": 24,
    "start_time": "2022-04-28T02:22:20.855Z"
   },
   {
    "duration": 77,
    "start_time": "2022-04-28T02:22:20.880Z"
   },
   {
    "duration": 17,
    "start_time": "2022-04-28T02:22:20.959Z"
   },
   {
    "duration": 39,
    "start_time": "2022-04-28T02:22:20.978Z"
   },
   {
    "duration": 6,
    "start_time": "2022-04-28T02:22:21.022Z"
   },
   {
    "duration": 18,
    "start_time": "2022-04-28T02:22:21.030Z"
   },
   {
    "duration": 16,
    "start_time": "2022-04-28T02:22:21.075Z"
   },
   {
    "duration": 193,
    "start_time": "2022-04-28T02:22:21.095Z"
   },
   {
    "duration": 56,
    "start_time": "2022-04-28T02:22:21.290Z"
   },
   {
    "duration": 55,
    "start_time": "2022-04-28T02:22:21.348Z"
   },
   {
    "duration": 6,
    "start_time": "2022-04-28T02:22:21.405Z"
   },
   {
    "duration": 14,
    "start_time": "2022-04-28T02:22:21.413Z"
   },
   {
    "duration": 54,
    "start_time": "2022-04-28T02:22:21.430Z"
   },
   {
    "duration": 22,
    "start_time": "2022-04-28T02:22:21.488Z"
   },
   {
    "duration": 131,
    "start_time": "2022-04-28T02:22:21.512Z"
   },
   {
    "duration": 13,
    "start_time": "2022-04-28T02:22:21.645Z"
   },
   {
    "duration": 92,
    "start_time": "2022-04-28T02:22:21.673Z"
   },
   {
    "duration": 9,
    "start_time": "2022-04-28T02:22:21.773Z"
   },
   {
    "duration": 94,
    "start_time": "2022-04-28T02:22:21.786Z"
   },
   {
    "duration": 11,
    "start_time": "2022-04-28T02:22:21.882Z"
   },
   {
    "duration": 44,
    "start_time": "2022-04-28T02:22:21.894Z"
   },
   {
    "duration": 6,
    "start_time": "2022-04-28T02:22:21.940Z"
   },
   {
    "duration": 69,
    "start_time": "2022-04-28T02:22:21.947Z"
   },
   {
    "duration": 66,
    "start_time": "2022-04-28T02:22:22.017Z"
   },
   {
    "duration": 176,
    "start_time": "2022-04-28T02:22:22.086Z"
   },
   {
    "duration": 3625,
    "start_time": "2022-04-28T02:22:22.264Z"
   },
   {
    "duration": 64,
    "start_time": "2022-04-28T02:22:25.891Z"
   },
   {
    "duration": 40,
    "start_time": "2022-04-28T02:22:25.957Z"
   },
   {
    "duration": 107,
    "start_time": "2022-04-28T02:22:25.999Z"
   },
   {
    "duration": 4,
    "start_time": "2022-04-28T02:22:26.108Z"
   },
   {
    "duration": 140,
    "start_time": "2022-04-28T02:22:26.115Z"
   },
   {
    "duration": 0,
    "start_time": "2022-04-28T02:22:26.257Z"
   },
   {
    "duration": 0,
    "start_time": "2022-04-28T02:22:26.258Z"
   },
   {
    "duration": 0,
    "start_time": "2022-04-28T02:22:26.259Z"
   },
   {
    "duration": 0,
    "start_time": "2022-04-28T02:22:26.260Z"
   },
   {
    "duration": 0,
    "start_time": "2022-04-28T02:22:26.261Z"
   },
   {
    "duration": 0,
    "start_time": "2022-04-28T02:22:26.262Z"
   },
   {
    "duration": 1,
    "start_time": "2022-04-28T02:22:26.263Z"
   },
   {
    "duration": 0,
    "start_time": "2022-04-28T02:22:26.264Z"
   },
   {
    "duration": 0,
    "start_time": "2022-04-28T02:22:26.275Z"
   },
   {
    "duration": 0,
    "start_time": "2022-04-28T02:22:26.276Z"
   },
   {
    "duration": 0,
    "start_time": "2022-04-28T02:22:26.278Z"
   },
   {
    "duration": 0,
    "start_time": "2022-04-28T02:22:26.280Z"
   },
   {
    "duration": 0,
    "start_time": "2022-04-28T02:22:26.281Z"
   },
   {
    "duration": 0,
    "start_time": "2022-04-28T02:22:26.282Z"
   },
   {
    "duration": 0,
    "start_time": "2022-04-28T02:22:26.286Z"
   },
   {
    "duration": 0,
    "start_time": "2022-04-28T02:22:26.288Z"
   },
   {
    "duration": 0,
    "start_time": "2022-04-28T02:22:26.289Z"
   },
   {
    "duration": 0,
    "start_time": "2022-04-28T02:22:26.290Z"
   },
   {
    "duration": 0,
    "start_time": "2022-04-28T02:22:26.292Z"
   },
   {
    "duration": 1117,
    "start_time": "2022-04-28T02:22:47.897Z"
   },
   {
    "duration": 1152,
    "start_time": "2022-04-28T02:23:04.961Z"
   },
   {
    "duration": 20,
    "start_time": "2022-04-28T02:23:10.517Z"
   },
   {
    "duration": 678,
    "start_time": "2022-04-28T02:23:14.732Z"
   },
   {
    "duration": 13,
    "start_time": "2022-04-28T02:23:43.708Z"
   },
   {
    "duration": 5,
    "start_time": "2022-04-28T02:23:48.987Z"
   },
   {
    "duration": 199,
    "start_time": "2022-04-28T02:23:49.617Z"
   },
   {
    "duration": 31534,
    "start_time": "2022-04-28T02:24:06.555Z"
   },
   {
    "duration": 386,
    "start_time": "2022-04-28T02:24:38.092Z"
   },
   {
    "duration": 22,
    "start_time": "2022-04-28T02:30:39.015Z"
   },
   {
    "duration": 1739,
    "start_time": "2022-04-28T02:39:31.921Z"
   },
   {
    "duration": 947,
    "start_time": "2022-04-28T02:39:33.663Z"
   },
   {
    "duration": 143,
    "start_time": "2022-04-28T02:39:34.611Z"
   },
   {
    "duration": 583,
    "start_time": "2022-04-28T02:39:34.756Z"
   },
   {
    "duration": 688,
    "start_time": "2022-04-28T02:39:35.341Z"
   },
   {
    "duration": 569,
    "start_time": "2022-04-28T02:39:36.041Z"
   },
   {
    "duration": 125,
    "start_time": "2022-04-28T02:39:36.611Z"
   },
   {
    "duration": 411,
    "start_time": "2022-04-28T02:39:36.737Z"
   },
   {
    "duration": 110,
    "start_time": "2022-04-28T02:39:37.150Z"
   },
   {
    "duration": 139,
    "start_time": "2022-04-28T02:39:37.263Z"
   },
   {
    "duration": 20,
    "start_time": "2022-04-28T02:39:37.404Z"
   },
   {
    "duration": 176,
    "start_time": "2022-04-28T02:39:37.425Z"
   },
   {
    "duration": 211,
    "start_time": "2022-04-28T02:39:37.603Z"
   },
   {
    "duration": 7,
    "start_time": "2022-04-28T02:39:37.816Z"
   },
   {
    "duration": 92472,
    "start_time": "2022-04-28T02:39:37.825Z"
   },
   {
    "duration": 47,
    "start_time": "2022-04-28T02:41:10.299Z"
   },
   {
    "duration": 87,
    "start_time": "2022-04-28T02:41:10.347Z"
   },
   {
    "duration": 55,
    "start_time": "2022-04-28T02:41:10.436Z"
   },
   {
    "duration": 3,
    "start_time": "2022-04-28T02:41:10.494Z"
   },
   {
    "duration": 10,
    "start_time": "2022-04-28T02:41:10.499Z"
   },
   {
    "duration": 7,
    "start_time": "2022-04-28T02:41:10.511Z"
   },
   {
    "duration": 5198,
    "start_time": "2022-04-28T02:41:10.520Z"
   },
   {
    "duration": 5,
    "start_time": "2022-04-28T02:41:15.719Z"
   },
   {
    "duration": 9,
    "start_time": "2022-04-28T02:41:15.726Z"
   },
   {
    "duration": 1058,
    "start_time": "2022-04-28T02:41:15.737Z"
   },
   {
    "duration": 174,
    "start_time": "2022-04-28T02:41:16.797Z"
   },
   {
    "duration": 50,
    "start_time": "2022-04-28T02:41:16.973Z"
   },
   {
    "duration": 178,
    "start_time": "2022-04-28T02:41:17.029Z"
   },
   {
    "duration": 152,
    "start_time": "2022-04-28T02:41:17.209Z"
   },
   {
    "duration": 179,
    "start_time": "2022-04-28T02:41:17.362Z"
   },
   {
    "duration": 160,
    "start_time": "2022-04-28T02:41:17.543Z"
   },
   {
    "duration": 85,
    "start_time": "2022-04-28T02:41:17.706Z"
   },
   {
    "duration": 13,
    "start_time": "2022-04-28T02:41:17.793Z"
   },
   {
    "duration": 6,
    "start_time": "2022-04-28T02:41:17.809Z"
   },
   {
    "duration": 94,
    "start_time": "2022-04-28T02:41:17.817Z"
   },
   {
    "duration": 6,
    "start_time": "2022-04-28T02:41:17.914Z"
   },
   {
    "duration": 53,
    "start_time": "2022-04-28T02:41:17.922Z"
   },
   {
    "duration": 8,
    "start_time": "2022-04-28T02:41:17.977Z"
   },
   {
    "duration": 26,
    "start_time": "2022-04-28T02:41:17.987Z"
   },
   {
    "duration": 9,
    "start_time": "2022-04-28T02:41:18.015Z"
   },
   {
    "duration": 181,
    "start_time": "2022-04-28T02:41:18.025Z"
   },
   {
    "duration": 73,
    "start_time": "2022-04-28T02:41:18.208Z"
   },
   {
    "duration": 32,
    "start_time": "2022-04-28T02:41:18.284Z"
   },
   {
    "duration": 5,
    "start_time": "2022-04-28T02:41:18.318Z"
   },
   {
    "duration": 20,
    "start_time": "2022-04-28T02:41:18.325Z"
   },
   {
    "duration": 57,
    "start_time": "2022-04-28T02:41:18.347Z"
   },
   {
    "duration": 19,
    "start_time": "2022-04-28T02:41:18.406Z"
   },
   {
    "duration": 118,
    "start_time": "2022-04-28T02:41:18.426Z"
   },
   {
    "duration": 11,
    "start_time": "2022-04-28T02:41:18.546Z"
   },
   {
    "duration": 101,
    "start_time": "2022-04-28T02:41:18.559Z"
   },
   {
    "duration": 19,
    "start_time": "2022-04-28T02:41:18.661Z"
   },
   {
    "duration": 69,
    "start_time": "2022-04-28T02:41:18.681Z"
   },
   {
    "duration": 21,
    "start_time": "2022-04-28T02:41:18.752Z"
   },
   {
    "duration": 47,
    "start_time": "2022-04-28T02:41:18.775Z"
   },
   {
    "duration": 5,
    "start_time": "2022-04-28T02:41:18.824Z"
   },
   {
    "duration": 85,
    "start_time": "2022-04-28T02:41:18.831Z"
   },
   {
    "duration": 56,
    "start_time": "2022-04-28T02:41:18.918Z"
   },
   {
    "duration": 174,
    "start_time": "2022-04-28T02:41:18.977Z"
   },
   {
    "duration": 3629,
    "start_time": "2022-04-28T02:41:19.153Z"
   },
   {
    "duration": 68,
    "start_time": "2022-04-28T02:41:22.784Z"
   },
   {
    "duration": 43,
    "start_time": "2022-04-28T02:41:22.854Z"
   },
   {
    "duration": 25,
    "start_time": "2022-04-28T02:41:22.899Z"
   },
   {
    "duration": 124,
    "start_time": "2022-04-28T02:41:22.926Z"
   },
   {
    "duration": 6,
    "start_time": "2022-04-28T02:41:23.052Z"
   },
   {
    "duration": 1250,
    "start_time": "2022-04-28T02:41:23.060Z"
   },
   {
    "duration": 18,
    "start_time": "2022-04-28T02:41:24.311Z"
   },
   {
    "duration": 745,
    "start_time": "2022-04-28T02:41:24.331Z"
   },
   {
    "duration": 6,
    "start_time": "2022-04-28T02:41:25.079Z"
   },
   {
    "duration": 221,
    "start_time": "2022-04-28T02:41:25.087Z"
   },
   {
    "duration": 34,
    "start_time": "2022-04-28T02:41:25.310Z"
   },
   {
    "duration": 18010,
    "start_time": "2022-04-28T02:41:25.346Z"
   },
   {
    "duration": 37815,
    "start_time": "2022-04-28T02:41:43.358Z"
   },
   {
    "duration": 208,
    "start_time": "2022-04-28T02:42:21.179Z"
   },
   {
    "duration": 547621,
    "start_time": "2022-04-28T02:42:21.389Z"
   },
   {
    "duration": 2558966,
    "start_time": "2022-04-28T02:51:29.013Z"
   },
   {
    "duration": 900,
    "start_time": "2022-04-28T03:34:07.981Z"
   },
   {
    "duration": 8,
    "start_time": "2022-04-28T03:34:08.883Z"
   },
   {
    "duration": 48171,
    "start_time": "2022-04-28T03:34:08.893Z"
   },
   {
    "duration": 6,
    "start_time": "2022-04-28T03:34:57.065Z"
   },
   {
    "duration": 17,
    "start_time": "2022-04-28T03:34:57.073Z"
   },
   {
    "duration": 255,
    "start_time": "2022-04-28T03:34:57.092Z"
   },
   {
    "duration": 240,
    "start_time": "2022-04-28T03:34:57.353Z"
   },
   {
    "duration": 228,
    "start_time": "2022-04-28T03:34:57.594Z"
   },
   {
    "duration": 6,
    "start_time": "2022-04-28T04:25:02.363Z"
   },
   {
    "duration": 5,
    "start_time": "2022-04-28T04:25:05.575Z"
   },
   {
    "duration": 15,
    "start_time": "2022-04-28T04:25:06.269Z"
   },
   {
    "duration": 235,
    "start_time": "2022-04-28T04:25:10.232Z"
   },
   {
    "duration": 1753,
    "start_time": "2022-04-28T06:08:42.210Z"
   },
   {
    "duration": 797,
    "start_time": "2022-04-28T06:08:43.965Z"
   },
   {
    "duration": 141,
    "start_time": "2022-04-28T06:08:44.764Z"
   },
   {
    "duration": 467,
    "start_time": "2022-04-28T06:08:44.908Z"
   },
   {
    "duration": 558,
    "start_time": "2022-04-28T06:08:45.376Z"
   },
   {
    "duration": 436,
    "start_time": "2022-04-28T06:08:45.935Z"
   },
   {
    "duration": 129,
    "start_time": "2022-04-28T06:08:46.373Z"
   },
   {
    "duration": 376,
    "start_time": "2022-04-28T06:08:46.503Z"
   },
   {
    "duration": 91,
    "start_time": "2022-04-28T06:08:46.880Z"
   },
   {
    "duration": 106,
    "start_time": "2022-04-28T06:08:46.974Z"
   },
   {
    "duration": 25,
    "start_time": "2022-04-28T06:08:47.082Z"
   },
   {
    "duration": 147,
    "start_time": "2022-04-28T06:08:47.109Z"
   },
   {
    "duration": 176,
    "start_time": "2022-04-28T06:08:47.257Z"
   },
   {
    "duration": 6,
    "start_time": "2022-04-28T06:08:47.435Z"
   },
   {
    "duration": 80954,
    "start_time": "2022-04-28T06:08:47.443Z"
   },
   {
    "duration": 48,
    "start_time": "2022-04-28T06:10:08.399Z"
   },
   {
    "duration": 90,
    "start_time": "2022-04-28T06:10:08.449Z"
   },
   {
    "duration": 54,
    "start_time": "2022-04-28T06:10:08.540Z"
   },
   {
    "duration": 4,
    "start_time": "2022-04-28T06:10:08.595Z"
   },
   {
    "duration": 6,
    "start_time": "2022-04-28T06:10:08.601Z"
   },
   {
    "duration": 5,
    "start_time": "2022-04-28T06:10:08.609Z"
   },
   {
    "duration": 4451,
    "start_time": "2022-04-28T06:10:08.615Z"
   },
   {
    "duration": 5,
    "start_time": "2022-04-28T06:10:13.068Z"
   },
   {
    "duration": 20,
    "start_time": "2022-04-28T06:10:13.075Z"
   },
   {
    "duration": 866,
    "start_time": "2022-04-28T06:10:13.096Z"
   },
   {
    "duration": 152,
    "start_time": "2022-04-28T06:10:13.964Z"
   },
   {
    "duration": 39,
    "start_time": "2022-04-28T06:10:14.118Z"
   },
   {
    "duration": 146,
    "start_time": "2022-04-28T06:10:14.162Z"
   },
   {
    "duration": 131,
    "start_time": "2022-04-28T06:10:14.310Z"
   },
   {
    "duration": 149,
    "start_time": "2022-04-28T06:10:14.443Z"
   },
   {
    "duration": 132,
    "start_time": "2022-04-28T06:10:14.594Z"
   },
   {
    "duration": 55,
    "start_time": "2022-04-28T06:10:14.728Z"
   },
   {
    "duration": 15,
    "start_time": "2022-04-28T06:10:14.785Z"
   },
   {
    "duration": 6,
    "start_time": "2022-04-28T06:10:14.801Z"
   },
   {
    "duration": 67,
    "start_time": "2022-04-28T06:10:14.808Z"
   },
   {
    "duration": 5,
    "start_time": "2022-04-28T06:10:14.894Z"
   },
   {
    "duration": 40,
    "start_time": "2022-04-28T06:10:14.901Z"
   },
   {
    "duration": 5,
    "start_time": "2022-04-28T06:10:14.942Z"
   },
   {
    "duration": 14,
    "start_time": "2022-04-28T06:10:14.949Z"
   },
   {
    "duration": 34,
    "start_time": "2022-04-28T06:10:14.965Z"
   },
   {
    "duration": 155,
    "start_time": "2022-04-28T06:10:15.001Z"
   },
   {
    "duration": 62,
    "start_time": "2022-04-28T06:10:15.158Z"
   },
   {
    "duration": 33,
    "start_time": "2022-04-28T06:10:15.222Z"
   },
   {
    "duration": 7,
    "start_time": "2022-04-28T06:10:15.257Z"
   },
   {
    "duration": 37,
    "start_time": "2022-04-28T06:10:15.266Z"
   },
   {
    "duration": 32,
    "start_time": "2022-04-28T06:10:15.304Z"
   },
   {
    "duration": 15,
    "start_time": "2022-04-28T06:10:15.338Z"
   },
   {
    "duration": 107,
    "start_time": "2022-04-28T06:10:15.355Z"
   },
   {
    "duration": 8,
    "start_time": "2022-04-28T06:10:15.464Z"
   },
   {
    "duration": 100,
    "start_time": "2022-04-28T06:10:15.474Z"
   },
   {
    "duration": 17,
    "start_time": "2022-04-28T06:10:15.575Z"
   },
   {
    "duration": 63,
    "start_time": "2022-04-28T06:10:15.594Z"
   },
   {
    "duration": 6,
    "start_time": "2022-04-28T06:10:15.658Z"
   },
   {
    "duration": 53,
    "start_time": "2022-04-28T06:10:15.665Z"
   },
   {
    "duration": 5,
    "start_time": "2022-04-28T06:10:15.720Z"
   },
   {
    "duration": 48,
    "start_time": "2022-04-28T06:10:15.726Z"
   },
   {
    "duration": 58,
    "start_time": "2022-04-28T06:10:15.776Z"
   },
   {
    "duration": 147,
    "start_time": "2022-04-28T06:10:15.836Z"
   },
   {
    "duration": 3129,
    "start_time": "2022-04-28T06:10:15.993Z"
   },
   {
    "duration": 53,
    "start_time": "2022-04-28T06:10:19.124Z"
   },
   {
    "duration": 35,
    "start_time": "2022-04-28T06:10:19.178Z"
   },
   {
    "duration": 36,
    "start_time": "2022-04-28T06:10:19.215Z"
   },
   {
    "duration": 88,
    "start_time": "2022-04-28T06:10:19.252Z"
   },
   {
    "duration": 4,
    "start_time": "2022-04-28T06:10:19.342Z"
   },
   {
    "duration": 900,
    "start_time": "2022-04-28T06:10:19.348Z"
   },
   {
    "duration": 18,
    "start_time": "2022-04-28T06:10:20.250Z"
   },
   {
    "duration": 612,
    "start_time": "2022-04-28T06:10:20.270Z"
   },
   {
    "duration": 8,
    "start_time": "2022-04-28T06:10:20.884Z"
   },
   {
    "duration": 175,
    "start_time": "2022-04-28T06:10:20.894Z"
   },
   {
    "duration": 40,
    "start_time": "2022-04-28T06:10:21.071Z"
   },
   {
    "duration": 16028,
    "start_time": "2022-04-28T06:10:21.113Z"
   },
   {
    "duration": 17411,
    "start_time": "2022-04-28T06:10:42.482Z"
   },
   {
    "duration": 16,
    "start_time": "2022-04-28T06:11:07.963Z"
   },
   {
    "duration": 23,
    "start_time": "2022-04-28T06:11:31.197Z"
   },
   {
    "duration": 164,
    "start_time": "2022-04-28T06:14:08.713Z"
   },
   {
    "duration": 147,
    "start_time": "2022-04-28T06:15:08.052Z"
   },
   {
    "duration": 193,
    "start_time": "2022-04-28T06:15:53.149Z"
   },
   {
    "duration": 146,
    "start_time": "2022-04-28T06:16:31.994Z"
   },
   {
    "duration": 16262,
    "start_time": "2022-04-28T06:17:04.938Z"
   },
   {
    "duration": 16,
    "start_time": "2022-04-28T06:17:57.374Z"
   },
   {
    "duration": 9,
    "start_time": "2022-04-28T06:18:17.737Z"
   },
   {
    "duration": 4,
    "start_time": "2022-04-28T06:18:31.878Z"
   },
   {
    "duration": 28,
    "start_time": "2022-04-28T06:19:10.513Z"
   },
   {
    "duration": 5,
    "start_time": "2022-04-28T06:19:30.901Z"
   },
   {
    "duration": 4,
    "start_time": "2022-04-28T06:19:44.171Z"
   },
   {
    "duration": 5,
    "start_time": "2022-04-28T06:20:03.442Z"
   },
   {
    "duration": 10,
    "start_time": "2022-04-28T06:20:09.266Z"
   },
   {
    "duration": 4,
    "start_time": "2022-04-28T06:20:29.630Z"
   },
   {
    "duration": 7,
    "start_time": "2022-04-28T06:22:25.052Z"
   },
   {
    "duration": 21,
    "start_time": "2022-04-28T06:28:19.531Z"
   },
   {
    "duration": 27,
    "start_time": "2022-04-28T06:28:43.861Z"
   },
   {
    "duration": 19,
    "start_time": "2022-04-28T06:29:54.275Z"
   },
   {
    "duration": 18,
    "start_time": "2022-04-28T06:30:00.269Z"
   },
   {
    "duration": 4,
    "start_time": "2022-04-28T06:30:31.029Z"
   },
   {
    "duration": 3,
    "start_time": "2022-04-28T06:30:37.070Z"
   },
   {
    "duration": 1587,
    "start_time": "2022-04-28T07:34:52.889Z"
   },
   {
    "duration": 785,
    "start_time": "2022-04-28T07:34:54.478Z"
   },
   {
    "duration": 136,
    "start_time": "2022-04-28T07:34:55.265Z"
   },
   {
    "duration": 463,
    "start_time": "2022-04-28T07:34:55.402Z"
   },
   {
    "duration": 527,
    "start_time": "2022-04-28T07:34:55.867Z"
   },
   {
    "duration": 422,
    "start_time": "2022-04-28T07:34:56.395Z"
   },
   {
    "duration": 123,
    "start_time": "2022-04-28T07:34:56.819Z"
   },
   {
    "duration": 357,
    "start_time": "2022-04-28T07:34:56.943Z"
   },
   {
    "duration": 86,
    "start_time": "2022-04-28T07:34:57.301Z"
   },
   {
    "duration": 104,
    "start_time": "2022-04-28T07:34:57.388Z"
   },
   {
    "duration": 20,
    "start_time": "2022-04-28T07:34:57.494Z"
   },
   {
    "duration": 149,
    "start_time": "2022-04-28T07:34:57.515Z"
   },
   {
    "duration": 184,
    "start_time": "2022-04-28T07:34:57.665Z"
   },
   {
    "duration": 6,
    "start_time": "2022-04-28T07:34:57.852Z"
   },
   {
    "duration": 81538,
    "start_time": "2022-04-28T07:34:57.860Z"
   },
   {
    "duration": 48,
    "start_time": "2022-04-28T07:36:19.400Z"
   },
   {
    "duration": 70,
    "start_time": "2022-04-28T07:36:19.449Z"
   },
   {
    "duration": 37,
    "start_time": "2022-04-28T07:36:19.520Z"
   },
   {
    "duration": 16,
    "start_time": "2022-04-28T07:36:19.559Z"
   },
   {
    "duration": 8,
    "start_time": "2022-04-28T07:36:19.577Z"
   },
   {
    "duration": 6,
    "start_time": "2022-04-28T07:36:19.586Z"
   },
   {
    "duration": 4242,
    "start_time": "2022-04-28T07:36:19.593Z"
   },
   {
    "duration": 5,
    "start_time": "2022-04-28T07:36:23.837Z"
   },
   {
    "duration": 11,
    "start_time": "2022-04-28T07:36:23.843Z"
   },
   {
    "duration": 949,
    "start_time": "2022-04-28T07:36:23.856Z"
   },
   {
    "duration": 152,
    "start_time": "2022-04-28T07:36:24.806Z"
   },
   {
    "duration": 50,
    "start_time": "2022-04-28T07:36:24.960Z"
   },
   {
    "duration": 147,
    "start_time": "2022-04-28T07:36:25.012Z"
   },
   {
    "duration": 141,
    "start_time": "2022-04-28T07:36:25.161Z"
   },
   {
    "duration": 151,
    "start_time": "2022-04-28T07:36:25.304Z"
   },
   {
    "duration": 137,
    "start_time": "2022-04-28T07:36:25.457Z"
   },
   {
    "duration": 59,
    "start_time": "2022-04-28T07:36:25.596Z"
   },
   {
    "duration": 20,
    "start_time": "2022-04-28T07:36:25.657Z"
   },
   {
    "duration": 6,
    "start_time": "2022-04-28T07:36:25.679Z"
   },
   {
    "duration": 62,
    "start_time": "2022-04-28T07:36:25.686Z"
   },
   {
    "duration": 24,
    "start_time": "2022-04-28T07:36:25.750Z"
   },
   {
    "duration": 33,
    "start_time": "2022-04-28T07:36:25.776Z"
   },
   {
    "duration": 5,
    "start_time": "2022-04-28T07:36:25.811Z"
   },
   {
    "duration": 17,
    "start_time": "2022-04-28T07:36:25.818Z"
   },
   {
    "duration": 8,
    "start_time": "2022-04-28T07:36:25.836Z"
   },
   {
    "duration": 150,
    "start_time": "2022-04-28T07:36:25.877Z"
   },
   {
    "duration": 58,
    "start_time": "2022-04-28T07:36:26.028Z"
   },
   {
    "duration": 30,
    "start_time": "2022-04-28T07:36:26.088Z"
   },
   {
    "duration": 5,
    "start_time": "2022-04-28T07:36:26.120Z"
   },
   {
    "duration": 15,
    "start_time": "2022-04-28T07:36:26.127Z"
   },
   {
    "duration": 58,
    "start_time": "2022-04-28T07:36:26.144Z"
   },
   {
    "duration": 17,
    "start_time": "2022-04-28T07:36:26.203Z"
   },
   {
    "duration": 105,
    "start_time": "2022-04-28T07:36:26.222Z"
   },
   {
    "duration": 10,
    "start_time": "2022-04-28T07:36:26.329Z"
   },
   {
    "duration": 93,
    "start_time": "2022-04-28T07:36:26.340Z"
   },
   {
    "duration": 6,
    "start_time": "2022-04-28T07:36:26.434Z"
   },
   {
    "duration": 72,
    "start_time": "2022-04-28T07:36:26.442Z"
   },
   {
    "duration": 5,
    "start_time": "2022-04-28T07:36:26.516Z"
   },
   {
    "duration": 37,
    "start_time": "2022-04-28T07:36:26.523Z"
   },
   {
    "duration": 6,
    "start_time": "2022-04-28T07:36:26.573Z"
   },
   {
    "duration": 52,
    "start_time": "2022-04-28T07:36:26.580Z"
   },
   {
    "duration": 61,
    "start_time": "2022-04-28T07:36:26.633Z"
   },
   {
    "duration": 146,
    "start_time": "2022-04-28T07:36:26.696Z"
   },
   {
    "duration": 3014,
    "start_time": "2022-04-28T07:36:26.843Z"
   },
   {
    "duration": 65,
    "start_time": "2022-04-28T07:36:29.859Z"
   },
   {
    "duration": 20,
    "start_time": "2022-04-28T07:36:29.926Z"
   },
   {
    "duration": 39,
    "start_time": "2022-04-28T07:36:29.947Z"
   },
   {
    "duration": 96,
    "start_time": "2022-04-28T07:36:29.987Z"
   },
   {
    "duration": 4,
    "start_time": "2022-04-28T07:36:30.085Z"
   },
   {
    "duration": 1246,
    "start_time": "2022-04-28T07:36:30.091Z"
   },
   {
    "duration": 17,
    "start_time": "2022-04-28T07:36:31.339Z"
   },
   {
    "duration": 4173,
    "start_time": "2022-04-28T07:36:31.358Z"
   },
   {
    "duration": 4,
    "start_time": "2022-04-28T07:36:35.533Z"
   },
   {
    "duration": 184,
    "start_time": "2022-04-28T07:36:35.539Z"
   },
   {
    "duration": 163,
    "start_time": "2022-04-28T07:36:35.725Z"
   },
   {
    "duration": 31,
    "start_time": "2022-04-28T07:36:35.890Z"
   },
   {
    "duration": 16073,
    "start_time": "2022-04-28T07:36:35.923Z"
   },
   {
    "duration": 19077,
    "start_time": "2022-04-28T07:36:51.998Z"
   },
   {
    "duration": 297,
    "start_time": "2022-04-28T07:37:11.078Z"
   },
   {
    "duration": 5,
    "start_time": "2022-04-28T07:37:11.377Z"
   },
   {
    "duration": 95,
    "start_time": "2022-04-28T07:37:11.384Z"
   },
   {
    "duration": 526466,
    "start_time": "2022-04-28T07:37:11.480Z"
   },
   {
    "duration": 17731,
    "start_time": "2022-04-28T07:45:57.947Z"
   },
   {
    "duration": 893,
    "start_time": "2022-04-28T07:46:15.680Z"
   },
   {
    "duration": 7,
    "start_time": "2022-04-28T07:46:16.575Z"
   },
   {
    "duration": 46033,
    "start_time": "2022-04-28T07:46:16.583Z"
   },
   {
    "duration": 4,
    "start_time": "2022-04-28T07:47:02.618Z"
   },
   {
    "duration": 38,
    "start_time": "2022-04-28T07:47:02.624Z"
   },
   {
    "duration": 247,
    "start_time": "2022-04-28T07:47:02.664Z"
   },
   {
    "duration": 229,
    "start_time": "2022-04-28T07:47:02.913Z"
   },
   {
    "duration": 253,
    "start_time": "2022-04-28T07:47:03.144Z"
   },
   {
    "duration": 154,
    "start_time": "2022-04-28T07:56:13.408Z"
   },
   {
    "duration": 125,
    "start_time": "2022-04-28T07:56:28.302Z"
   },
   {
    "duration": 143,
    "start_time": "2022-04-28T07:56:41.286Z"
   },
   {
    "duration": 134,
    "start_time": "2022-04-28T07:57:01.802Z"
   },
   {
    "duration": 232,
    "start_time": "2022-04-28T07:57:05.270Z"
   },
   {
    "duration": 235,
    "start_time": "2022-04-28T07:57:14.559Z"
   },
   {
    "duration": 3109,
    "start_time": "2022-04-28T07:57:21.209Z"
   },
   {
    "duration": 399,
    "start_time": "2022-04-28T07:57:30.085Z"
   },
   {
    "duration": 214,
    "start_time": "2022-04-28T07:57:35.118Z"
   },
   {
    "duration": 154,
    "start_time": "2022-04-28T07:57:41.051Z"
   },
   {
    "duration": 141,
    "start_time": "2022-04-28T07:57:51.122Z"
   },
   {
    "duration": 151,
    "start_time": "2022-04-28T07:57:57.670Z"
   },
   {
    "duration": 141,
    "start_time": "2022-04-28T07:58:05.209Z"
   },
   {
    "duration": 126,
    "start_time": "2022-04-28T12:53:20.541Z"
   },
   {
    "duration": 4,
    "start_time": "2022-04-28T13:01:54.778Z"
   },
   {
    "duration": 822,
    "start_time": "2022-04-28T13:01:54.786Z"
   },
   {
    "duration": 167,
    "start_time": "2022-04-28T13:01:55.610Z"
   },
   {
    "duration": 462,
    "start_time": "2022-04-28T13:01:55.779Z"
   },
   {
    "duration": 558,
    "start_time": "2022-04-28T13:01:56.243Z"
   },
   {
    "duration": 483,
    "start_time": "2022-04-28T13:01:56.803Z"
   },
   {
    "duration": 161,
    "start_time": "2022-04-28T13:01:57.293Z"
   },
   {
    "duration": 443,
    "start_time": "2022-04-28T13:01:57.457Z"
   },
   {
    "duration": 128,
    "start_time": "2022-04-28T13:01:57.902Z"
   },
   {
    "duration": 119,
    "start_time": "2022-04-28T13:01:58.032Z"
   },
   {
    "duration": 24,
    "start_time": "2022-04-28T13:01:58.155Z"
   },
   {
    "duration": 166,
    "start_time": "2022-04-28T13:01:58.193Z"
   },
   {
    "duration": 209,
    "start_time": "2022-04-28T13:01:58.361Z"
   },
   {
    "duration": 10,
    "start_time": "2022-04-28T13:01:58.572Z"
   },
   {
    "duration": 86912,
    "start_time": "2022-04-28T13:01:58.593Z"
   },
   {
    "duration": 48,
    "start_time": "2022-04-28T13:03:25.507Z"
   },
   {
    "duration": 88,
    "start_time": "2022-04-28T13:03:25.557Z"
   },
   {
    "duration": 46,
    "start_time": "2022-04-28T13:03:25.647Z"
   },
   {
    "duration": 4,
    "start_time": "2022-04-28T13:03:25.695Z"
   },
   {
    "duration": 8,
    "start_time": "2022-04-28T13:03:25.701Z"
   },
   {
    "duration": 20,
    "start_time": "2022-04-28T13:03:25.711Z"
   },
   {
    "duration": 2297,
    "start_time": "2022-04-28T13:03:25.733Z"
   },
   {
    "duration": 4,
    "start_time": "2022-04-28T13:03:28.032Z"
   },
   {
    "duration": 9,
    "start_time": "2022-04-28T13:03:28.038Z"
   },
   {
    "duration": 948,
    "start_time": "2022-04-28T13:03:28.049Z"
   },
   {
    "duration": 149,
    "start_time": "2022-04-28T13:03:28.999Z"
   },
   {
    "duration": 48,
    "start_time": "2022-04-28T13:03:29.150Z"
   },
   {
    "duration": 150,
    "start_time": "2022-04-28T13:03:29.200Z"
   },
   {
    "duration": 148,
    "start_time": "2022-04-28T13:03:29.356Z"
   },
   {
    "duration": 157,
    "start_time": "2022-04-28T13:03:29.506Z"
   },
   {
    "duration": 145,
    "start_time": "2022-04-28T13:03:29.664Z"
   },
   {
    "duration": 50,
    "start_time": "2022-04-28T13:03:29.811Z"
   },
   {
    "duration": 11,
    "start_time": "2022-04-28T13:03:29.863Z"
   },
   {
    "duration": 28,
    "start_time": "2022-04-28T13:03:29.876Z"
   },
   {
    "duration": 104,
    "start_time": "2022-04-28T13:03:29.906Z"
   },
   {
    "duration": 6,
    "start_time": "2022-04-28T13:03:30.012Z"
   },
   {
    "duration": 58,
    "start_time": "2022-04-28T13:03:30.020Z"
   },
   {
    "duration": 5,
    "start_time": "2022-04-28T13:03:30.080Z"
   },
   {
    "duration": 38,
    "start_time": "2022-04-28T13:03:30.087Z"
   },
   {
    "duration": 19,
    "start_time": "2022-04-28T13:03:30.126Z"
   },
   {
    "duration": 150,
    "start_time": "2022-04-28T13:03:30.147Z"
   },
   {
    "duration": 49,
    "start_time": "2022-04-28T13:03:30.299Z"
   },
   {
    "duration": 58,
    "start_time": "2022-04-28T13:03:30.350Z"
   },
   {
    "duration": 6,
    "start_time": "2022-04-28T13:03:30.410Z"
   },
   {
    "duration": 33,
    "start_time": "2022-04-28T13:03:30.418Z"
   },
   {
    "duration": 84,
    "start_time": "2022-04-28T13:03:30.452Z"
   },
   {
    "duration": 21,
    "start_time": "2022-04-28T13:03:30.538Z"
   },
   {
    "duration": 119,
    "start_time": "2022-04-28T13:03:30.561Z"
   },
   {
    "duration": 12,
    "start_time": "2022-04-28T13:03:30.682Z"
   },
   {
    "duration": 111,
    "start_time": "2022-04-28T13:03:30.696Z"
   },
   {
    "duration": 7,
    "start_time": "2022-04-28T13:03:30.809Z"
   },
   {
    "duration": 126,
    "start_time": "2022-04-28T13:03:30.818Z"
   },
   {
    "duration": 6,
    "start_time": "2022-04-28T13:03:30.946Z"
   },
   {
    "duration": 78,
    "start_time": "2022-04-28T13:03:30.953Z"
   },
   {
    "duration": 5,
    "start_time": "2022-04-28T13:03:31.034Z"
   },
   {
    "duration": 88,
    "start_time": "2022-04-28T13:03:31.041Z"
   },
   {
    "duration": 63,
    "start_time": "2022-04-28T13:03:31.130Z"
   },
   {
    "duration": 153,
    "start_time": "2022-04-28T13:03:31.195Z"
   },
   {
    "duration": 3119,
    "start_time": "2022-04-28T13:03:31.349Z"
   },
   {
    "duration": 55,
    "start_time": "2022-04-28T13:03:34.470Z"
   },
   {
    "duration": 21,
    "start_time": "2022-04-28T13:03:34.526Z"
   },
   {
    "duration": 39,
    "start_time": "2022-04-28T13:03:34.548Z"
   },
   {
    "duration": 147,
    "start_time": "2022-04-28T13:03:34.588Z"
   },
   {
    "duration": 47,
    "start_time": "2022-04-28T13:21:50.059Z"
   },
   {
    "duration": 2213,
    "start_time": "2022-04-29T03:50:02.218Z"
   },
   {
    "duration": 805,
    "start_time": "2022-04-29T03:50:04.434Z"
   },
   {
    "duration": 146,
    "start_time": "2022-04-29T03:50:05.241Z"
   },
   {
    "duration": 481,
    "start_time": "2022-04-29T03:50:05.392Z"
   },
   {
    "duration": 587,
    "start_time": "2022-04-29T03:50:05.874Z"
   },
   {
    "duration": 457,
    "start_time": "2022-04-29T03:50:06.463Z"
   },
   {
    "duration": 131,
    "start_time": "2022-04-29T03:50:06.922Z"
   },
   {
    "duration": 381,
    "start_time": "2022-04-29T03:50:07.054Z"
   },
   {
    "duration": 93,
    "start_time": "2022-04-29T03:50:07.436Z"
   },
   {
    "duration": 115,
    "start_time": "2022-04-29T03:50:07.532Z"
   },
   {
    "duration": 21,
    "start_time": "2022-04-29T03:50:07.649Z"
   },
   {
    "duration": 151,
    "start_time": "2022-04-29T03:50:07.672Z"
   },
   {
    "duration": 174,
    "start_time": "2022-04-29T03:50:07.825Z"
   },
   {
    "duration": 7,
    "start_time": "2022-04-29T03:50:08.001Z"
   },
   {
    "duration": 77674,
    "start_time": "2022-04-29T03:50:08.010Z"
   },
   {
    "duration": 44,
    "start_time": "2022-04-29T03:51:25.686Z"
   },
   {
    "duration": 71,
    "start_time": "2022-04-29T03:51:25.732Z"
   },
   {
    "duration": 38,
    "start_time": "2022-04-29T03:51:25.805Z"
   },
   {
    "duration": 4,
    "start_time": "2022-04-29T03:51:25.845Z"
   },
   {
    "duration": 12,
    "start_time": "2022-04-29T03:51:25.850Z"
   },
   {
    "duration": 4,
    "start_time": "2022-04-29T03:51:25.864Z"
   },
   {
    "duration": 4098,
    "start_time": "2022-04-29T03:51:25.870Z"
   },
   {
    "duration": 4,
    "start_time": "2022-04-29T03:51:29.969Z"
   },
   {
    "duration": 8,
    "start_time": "2022-04-29T03:51:29.975Z"
   },
   {
    "duration": 911,
    "start_time": "2022-04-29T03:51:29.992Z"
   },
   {
    "duration": 162,
    "start_time": "2022-04-29T03:51:30.906Z"
   },
   {
    "duration": 52,
    "start_time": "2022-04-29T03:51:31.070Z"
   },
   {
    "duration": 154,
    "start_time": "2022-04-29T03:51:31.128Z"
   },
   {
    "duration": 133,
    "start_time": "2022-04-29T03:51:31.284Z"
   },
   {
    "duration": 156,
    "start_time": "2022-04-29T03:51:31.419Z"
   },
   {
    "duration": 133,
    "start_time": "2022-04-29T03:51:31.577Z"
   },
   {
    "duration": 58,
    "start_time": "2022-04-29T03:51:31.712Z"
   },
   {
    "duration": 21,
    "start_time": "2022-04-29T03:51:31.772Z"
   },
   {
    "duration": 5,
    "start_time": "2022-04-29T03:51:31.795Z"
   },
   {
    "duration": 65,
    "start_time": "2022-04-29T03:51:31.801Z"
   },
   {
    "duration": 26,
    "start_time": "2022-04-29T03:51:31.867Z"
   },
   {
    "duration": 34,
    "start_time": "2022-04-29T03:51:31.895Z"
   },
   {
    "duration": 5,
    "start_time": "2022-04-29T03:51:31.931Z"
   },
   {
    "duration": 59,
    "start_time": "2022-04-29T03:51:31.938Z"
   },
   {
    "duration": 10,
    "start_time": "2022-04-29T03:51:31.999Z"
   },
   {
    "duration": 141,
    "start_time": "2022-04-29T03:51:32.011Z"
   },
   {
    "duration": 52,
    "start_time": "2022-04-29T03:51:32.154Z"
   },
   {
    "duration": 32,
    "start_time": "2022-04-29T03:51:32.208Z"
   },
   {
    "duration": 5,
    "start_time": "2022-04-29T03:51:32.242Z"
   },
   {
    "duration": 14,
    "start_time": "2022-04-29T03:51:32.248Z"
   },
   {
    "duration": 38,
    "start_time": "2022-04-29T03:51:32.263Z"
   },
   {
    "duration": 16,
    "start_time": "2022-04-29T03:51:32.302Z"
   },
   {
    "duration": 102,
    "start_time": "2022-04-29T03:51:32.320Z"
   },
   {
    "duration": 10,
    "start_time": "2022-04-29T03:51:32.424Z"
   },
   {
    "duration": 96,
    "start_time": "2022-04-29T03:51:32.436Z"
   },
   {
    "duration": 7,
    "start_time": "2022-04-29T03:51:32.533Z"
   },
   {
    "duration": 67,
    "start_time": "2022-04-29T03:51:32.541Z"
   },
   {
    "duration": 6,
    "start_time": "2022-04-29T03:51:32.610Z"
   },
   {
    "duration": 40,
    "start_time": "2022-04-29T03:51:32.617Z"
   },
   {
    "duration": 5,
    "start_time": "2022-04-29T03:51:32.659Z"
   },
   {
    "duration": 50,
    "start_time": "2022-04-29T03:51:32.665Z"
   },
   {
    "duration": 47,
    "start_time": "2022-04-29T03:51:32.717Z"
   },
   {
    "duration": 166,
    "start_time": "2022-04-29T03:51:32.766Z"
   },
   {
    "duration": 3345,
    "start_time": "2022-04-29T03:51:32.934Z"
   },
   {
    "duration": 56,
    "start_time": "2022-04-29T03:51:36.281Z"
   },
   {
    "duration": 19,
    "start_time": "2022-04-29T03:51:36.339Z"
   },
   {
    "duration": 36,
    "start_time": "2022-04-29T03:51:36.359Z"
   },
   {
    "duration": 129,
    "start_time": "2022-04-29T03:51:36.396Z"
   },
   {
    "duration": 81,
    "start_time": "2022-04-29T03:51:36.527Z"
   },
   {
    "duration": 4,
    "start_time": "2022-04-29T03:51:36.609Z"
   },
   {
    "duration": 116,
    "start_time": "2022-04-29T03:51:36.615Z"
   },
   {
    "duration": 0,
    "start_time": "2022-04-29T03:51:36.733Z"
   },
   {
    "duration": 0,
    "start_time": "2022-04-29T03:51:36.734Z"
   },
   {
    "duration": 0,
    "start_time": "2022-04-29T03:51:36.736Z"
   },
   {
    "duration": 0,
    "start_time": "2022-04-29T03:51:36.737Z"
   },
   {
    "duration": 0,
    "start_time": "2022-04-29T03:51:36.738Z"
   },
   {
    "duration": 0,
    "start_time": "2022-04-29T03:51:36.739Z"
   },
   {
    "duration": 0,
    "start_time": "2022-04-29T03:51:36.740Z"
   },
   {
    "duration": 0,
    "start_time": "2022-04-29T03:51:36.742Z"
   },
   {
    "duration": 0,
    "start_time": "2022-04-29T03:51:36.743Z"
   },
   {
    "duration": 0,
    "start_time": "2022-04-29T03:51:36.744Z"
   },
   {
    "duration": 0,
    "start_time": "2022-04-29T03:51:36.745Z"
   },
   {
    "duration": 0,
    "start_time": "2022-04-29T03:51:36.746Z"
   },
   {
    "duration": 0,
    "start_time": "2022-04-29T03:51:36.747Z"
   },
   {
    "duration": 0,
    "start_time": "2022-04-29T03:51:36.748Z"
   },
   {
    "duration": 0,
    "start_time": "2022-04-29T03:51:36.749Z"
   },
   {
    "duration": 0,
    "start_time": "2022-04-29T03:51:36.750Z"
   },
   {
    "duration": 0,
    "start_time": "2022-04-29T03:51:36.751Z"
   },
   {
    "duration": 0,
    "start_time": "2022-04-29T03:51:36.752Z"
   },
   {
    "duration": 0,
    "start_time": "2022-04-29T03:51:36.753Z"
   },
   {
    "duration": 0,
    "start_time": "2022-04-29T03:51:36.754Z"
   },
   {
    "duration": 0,
    "start_time": "2022-04-29T03:51:36.793Z"
   },
   {
    "duration": 0,
    "start_time": "2022-04-29T03:51:36.794Z"
   },
   {
    "duration": 4,
    "start_time": "2022-04-29T03:55:25.629Z"
   },
   {
    "duration": 4,
    "start_time": "2022-04-29T03:55:31.504Z"
   },
   {
    "duration": 3,
    "start_time": "2022-04-29T03:56:26.852Z"
   },
   {
    "duration": 1983,
    "start_time": "2022-04-29T03:56:43.710Z"
   },
   {
    "duration": 837,
    "start_time": "2022-04-29T03:56:45.696Z"
   },
   {
    "duration": 151,
    "start_time": "2022-04-29T03:56:46.536Z"
   },
   {
    "duration": 492,
    "start_time": "2022-04-29T03:56:46.694Z"
   },
   {
    "duration": 705,
    "start_time": "2022-04-29T03:56:47.192Z"
   },
   {
    "duration": 484,
    "start_time": "2022-04-29T03:56:47.898Z"
   },
   {
    "duration": 132,
    "start_time": "2022-04-29T03:56:48.384Z"
   },
   {
    "duration": 403,
    "start_time": "2022-04-29T03:56:48.518Z"
   },
   {
    "duration": 95,
    "start_time": "2022-04-29T03:56:48.923Z"
   },
   {
    "duration": 113,
    "start_time": "2022-04-29T03:56:49.021Z"
   },
   {
    "duration": 25,
    "start_time": "2022-04-29T03:56:49.136Z"
   },
   {
    "duration": 161,
    "start_time": "2022-04-29T03:56:49.163Z"
   },
   {
    "duration": 182,
    "start_time": "2022-04-29T03:56:49.326Z"
   },
   {
    "duration": 8,
    "start_time": "2022-04-29T03:56:49.510Z"
   },
   {
    "duration": 79953,
    "start_time": "2022-04-29T03:56:49.520Z"
   },
   {
    "duration": 48,
    "start_time": "2022-04-29T03:58:09.475Z"
   },
   {
    "duration": 81,
    "start_time": "2022-04-29T03:58:09.524Z"
   },
   {
    "duration": 38,
    "start_time": "2022-04-29T03:58:09.607Z"
   },
   {
    "duration": 4,
    "start_time": "2022-04-29T03:58:09.647Z"
   },
   {
    "duration": 23,
    "start_time": "2022-04-29T03:58:09.653Z"
   },
   {
    "duration": 20,
    "start_time": "2022-04-29T03:58:09.677Z"
   },
   {
    "duration": 4096,
    "start_time": "2022-04-29T03:58:09.699Z"
   },
   {
    "duration": 4,
    "start_time": "2022-04-29T03:58:13.797Z"
   },
   {
    "duration": 7,
    "start_time": "2022-04-29T03:58:13.803Z"
   },
   {
    "duration": 905,
    "start_time": "2022-04-29T03:58:13.812Z"
   },
   {
    "duration": 147,
    "start_time": "2022-04-29T03:58:14.719Z"
   },
   {
    "duration": 48,
    "start_time": "2022-04-29T03:58:14.868Z"
   },
   {
    "duration": 147,
    "start_time": "2022-04-29T03:58:14.921Z"
   },
   {
    "duration": 139,
    "start_time": "2022-04-29T03:58:15.070Z"
   },
   {
    "duration": 141,
    "start_time": "2022-04-29T03:58:15.211Z"
   },
   {
    "duration": 132,
    "start_time": "2022-04-29T03:58:15.354Z"
   },
   {
    "duration": 57,
    "start_time": "2022-04-29T03:58:15.488Z"
   },
   {
    "duration": 12,
    "start_time": "2022-04-29T03:58:15.547Z"
   },
   {
    "duration": 6,
    "start_time": "2022-04-29T03:58:15.560Z"
   },
   {
    "duration": 88,
    "start_time": "2022-04-29T03:58:15.568Z"
   },
   {
    "duration": 5,
    "start_time": "2022-04-29T03:58:15.658Z"
   },
   {
    "duration": 50,
    "start_time": "2022-04-29T03:58:15.665Z"
   },
   {
    "duration": 6,
    "start_time": "2022-04-29T03:58:15.717Z"
   },
   {
    "duration": 15,
    "start_time": "2022-04-29T03:58:15.724Z"
   },
   {
    "duration": 8,
    "start_time": "2022-04-29T03:58:15.742Z"
   },
   {
    "duration": 158,
    "start_time": "2022-04-29T03:58:15.751Z"
   },
   {
    "duration": 45,
    "start_time": "2022-04-29T03:58:15.911Z"
   },
   {
    "duration": 48,
    "start_time": "2022-04-29T03:58:15.958Z"
   },
   {
    "duration": 5,
    "start_time": "2022-04-29T03:58:16.008Z"
   },
   {
    "duration": 13,
    "start_time": "2022-04-29T03:58:16.014Z"
   },
   {
    "duration": 34,
    "start_time": "2022-04-29T03:58:16.028Z"
   },
   {
    "duration": 42,
    "start_time": "2022-04-29T03:58:16.063Z"
   },
   {
    "duration": 106,
    "start_time": "2022-04-29T03:58:16.106Z"
   },
   {
    "duration": 10,
    "start_time": "2022-04-29T03:58:16.214Z"
   },
   {
    "duration": 92,
    "start_time": "2022-04-29T03:58:16.225Z"
   },
   {
    "duration": 6,
    "start_time": "2022-04-29T03:58:16.319Z"
   },
   {
    "duration": 74,
    "start_time": "2022-04-29T03:58:16.327Z"
   },
   {
    "duration": 6,
    "start_time": "2022-04-29T03:58:16.403Z"
   },
   {
    "duration": 38,
    "start_time": "2022-04-29T03:58:16.411Z"
   },
   {
    "duration": 5,
    "start_time": "2022-04-29T03:58:16.451Z"
   },
   {
    "duration": 71,
    "start_time": "2022-04-29T03:58:16.457Z"
   },
   {
    "duration": 46,
    "start_time": "2022-04-29T03:58:16.530Z"
   },
   {
    "duration": 151,
    "start_time": "2022-04-29T03:58:16.578Z"
   },
   {
    "duration": 2,
    "start_time": "2022-04-29T03:58:16.731Z"
   },
   {
    "duration": 147,
    "start_time": "2022-04-29T03:58:16.735Z"
   },
   {
    "duration": 0,
    "start_time": "2022-04-29T03:58:16.884Z"
   },
   {
    "duration": 0,
    "start_time": "2022-04-29T03:58:16.885Z"
   },
   {
    "duration": 0,
    "start_time": "2022-04-29T03:58:16.886Z"
   },
   {
    "duration": 0,
    "start_time": "2022-04-29T03:58:16.887Z"
   },
   {
    "duration": 0,
    "start_time": "2022-04-29T03:58:16.889Z"
   },
   {
    "duration": 0,
    "start_time": "2022-04-29T03:58:16.889Z"
   },
   {
    "duration": 0,
    "start_time": "2022-04-29T03:58:16.892Z"
   },
   {
    "duration": 0,
    "start_time": "2022-04-29T03:58:16.893Z"
   },
   {
    "duration": 0,
    "start_time": "2022-04-29T03:58:16.894Z"
   },
   {
    "duration": 0,
    "start_time": "2022-04-29T03:58:16.895Z"
   },
   {
    "duration": 0,
    "start_time": "2022-04-29T03:58:16.896Z"
   },
   {
    "duration": 0,
    "start_time": "2022-04-29T03:58:16.898Z"
   },
   {
    "duration": 0,
    "start_time": "2022-04-29T03:58:16.899Z"
   },
   {
    "duration": 0,
    "start_time": "2022-04-29T03:58:16.899Z"
   },
   {
    "duration": 0,
    "start_time": "2022-04-29T03:58:16.900Z"
   },
   {
    "duration": 0,
    "start_time": "2022-04-29T03:58:16.901Z"
   },
   {
    "duration": 0,
    "start_time": "2022-04-29T03:58:16.902Z"
   },
   {
    "duration": 0,
    "start_time": "2022-04-29T03:58:16.903Z"
   },
   {
    "duration": 0,
    "start_time": "2022-04-29T03:58:16.904Z"
   },
   {
    "duration": 0,
    "start_time": "2022-04-29T03:58:16.905Z"
   },
   {
    "duration": 0,
    "start_time": "2022-04-29T03:58:16.906Z"
   },
   {
    "duration": 0,
    "start_time": "2022-04-29T03:58:16.907Z"
   },
   {
    "duration": 0,
    "start_time": "2022-04-29T03:58:16.908Z"
   },
   {
    "duration": 0,
    "start_time": "2022-04-29T03:58:16.909Z"
   },
   {
    "duration": 0,
    "start_time": "2022-04-29T03:58:16.910Z"
   },
   {
    "duration": 0,
    "start_time": "2022-04-29T03:58:16.911Z"
   },
   {
    "duration": 0,
    "start_time": "2022-04-29T03:58:16.912Z"
   },
   {
    "duration": 0,
    "start_time": "2022-04-29T03:58:16.913Z"
   },
   {
    "duration": 0,
    "start_time": "2022-04-29T03:58:16.914Z"
   },
   {
    "duration": 0,
    "start_time": "2022-04-29T03:58:16.915Z"
   },
   {
    "duration": 0,
    "start_time": "2022-04-29T03:58:16.916Z"
   },
   {
    "duration": 3,
    "start_time": "2022-04-29T04:00:20.957Z"
   },
   {
    "duration": 2,
    "start_time": "2022-04-29T04:00:22.830Z"
   },
   {
    "duration": 24,
    "start_time": "2022-04-29T04:00:23.696Z"
   },
   {
    "duration": 1874,
    "start_time": "2022-04-29T04:00:54.965Z"
   },
   {
    "duration": 908,
    "start_time": "2022-04-29T04:00:56.841Z"
   },
   {
    "duration": 146,
    "start_time": "2022-04-29T04:00:57.750Z"
   },
   {
    "duration": 480,
    "start_time": "2022-04-29T04:00:57.898Z"
   },
   {
    "duration": 542,
    "start_time": "2022-04-29T04:00:58.380Z"
   },
   {
    "duration": 427,
    "start_time": "2022-04-29T04:00:58.924Z"
   },
   {
    "duration": 127,
    "start_time": "2022-04-29T04:00:59.353Z"
   },
   {
    "duration": 386,
    "start_time": "2022-04-29T04:00:59.482Z"
   },
   {
    "duration": 92,
    "start_time": "2022-04-29T04:00:59.869Z"
   },
   {
    "duration": 120,
    "start_time": "2022-04-29T04:00:59.964Z"
   },
   {
    "duration": 25,
    "start_time": "2022-04-29T04:01:00.085Z"
   },
   {
    "duration": 151,
    "start_time": "2022-04-29T04:01:00.112Z"
   },
   {
    "duration": 177,
    "start_time": "2022-04-29T04:01:00.265Z"
   },
   {
    "duration": 7,
    "start_time": "2022-04-29T04:01:00.444Z"
   },
   {
    "duration": 14392,
    "start_time": "2022-04-29T04:01:00.453Z"
   },
   {
    "duration": 0,
    "start_time": "2022-04-29T04:01:15.587Z"
   },
   {
    "duration": 0,
    "start_time": "2022-04-29T04:01:15.593Z"
   },
   {
    "duration": 0,
    "start_time": "2022-04-29T04:01:15.595Z"
   },
   {
    "duration": 0,
    "start_time": "2022-04-29T04:01:15.596Z"
   },
   {
    "duration": 0,
    "start_time": "2022-04-29T04:01:15.597Z"
   },
   {
    "duration": 0,
    "start_time": "2022-04-29T04:01:15.599Z"
   },
   {
    "duration": 0,
    "start_time": "2022-04-29T04:01:15.600Z"
   },
   {
    "duration": 0,
    "start_time": "2022-04-29T04:01:15.602Z"
   },
   {
    "duration": 0,
    "start_time": "2022-04-29T04:01:15.603Z"
   },
   {
    "duration": 0,
    "start_time": "2022-04-29T04:01:15.605Z"
   },
   {
    "duration": 0,
    "start_time": "2022-04-29T04:01:15.606Z"
   },
   {
    "duration": 0,
    "start_time": "2022-04-29T04:01:15.607Z"
   },
   {
    "duration": 0,
    "start_time": "2022-04-29T04:01:15.609Z"
   },
   {
    "duration": 0,
    "start_time": "2022-04-29T04:01:15.610Z"
   },
   {
    "duration": 1,
    "start_time": "2022-04-29T04:01:15.611Z"
   },
   {
    "duration": 0,
    "start_time": "2022-04-29T04:01:15.613Z"
   },
   {
    "duration": 0,
    "start_time": "2022-04-29T04:01:15.614Z"
   },
   {
    "duration": 0,
    "start_time": "2022-04-29T04:01:15.616Z"
   },
   {
    "duration": 0,
    "start_time": "2022-04-29T04:01:15.617Z"
   },
   {
    "duration": 0,
    "start_time": "2022-04-29T04:01:15.618Z"
   },
   {
    "duration": 0,
    "start_time": "2022-04-29T04:01:15.620Z"
   },
   {
    "duration": 0,
    "start_time": "2022-04-29T04:01:15.621Z"
   },
   {
    "duration": 0,
    "start_time": "2022-04-29T04:01:15.622Z"
   },
   {
    "duration": 0,
    "start_time": "2022-04-29T04:01:15.624Z"
   },
   {
    "duration": 0,
    "start_time": "2022-04-29T04:01:15.625Z"
   },
   {
    "duration": 0,
    "start_time": "2022-04-29T04:01:15.627Z"
   },
   {
    "duration": 0,
    "start_time": "2022-04-29T04:01:15.628Z"
   },
   {
    "duration": 0,
    "start_time": "2022-04-29T04:01:15.629Z"
   },
   {
    "duration": 0,
    "start_time": "2022-04-29T04:01:15.631Z"
   },
   {
    "duration": 0,
    "start_time": "2022-04-29T04:01:15.632Z"
   },
   {
    "duration": 0,
    "start_time": "2022-04-29T04:01:15.693Z"
   },
   {
    "duration": 0,
    "start_time": "2022-04-29T04:01:15.694Z"
   },
   {
    "duration": 0,
    "start_time": "2022-04-29T04:01:15.696Z"
   },
   {
    "duration": 0,
    "start_time": "2022-04-29T04:01:15.697Z"
   },
   {
    "duration": 0,
    "start_time": "2022-04-29T04:01:15.699Z"
   },
   {
    "duration": 0,
    "start_time": "2022-04-29T04:01:15.700Z"
   },
   {
    "duration": 0,
    "start_time": "2022-04-29T04:01:15.702Z"
   },
   {
    "duration": 0,
    "start_time": "2022-04-29T04:01:15.703Z"
   },
   {
    "duration": 0,
    "start_time": "2022-04-29T04:01:15.705Z"
   },
   {
    "duration": 0,
    "start_time": "2022-04-29T04:01:15.707Z"
   },
   {
    "duration": 0,
    "start_time": "2022-04-29T04:01:15.708Z"
   },
   {
    "duration": 0,
    "start_time": "2022-04-29T04:01:15.709Z"
   },
   {
    "duration": 0,
    "start_time": "2022-04-29T04:01:15.711Z"
   },
   {
    "duration": 0,
    "start_time": "2022-04-29T04:01:15.713Z"
   },
   {
    "duration": 0,
    "start_time": "2022-04-29T04:01:15.714Z"
   },
   {
    "duration": 0,
    "start_time": "2022-04-29T04:01:15.716Z"
   },
   {
    "duration": 0,
    "start_time": "2022-04-29T04:01:15.717Z"
   },
   {
    "duration": 0,
    "start_time": "2022-04-29T04:01:15.718Z"
   },
   {
    "duration": 0,
    "start_time": "2022-04-29T04:01:15.720Z"
   },
   {
    "duration": 0,
    "start_time": "2022-04-29T04:01:15.721Z"
   },
   {
    "duration": 0,
    "start_time": "2022-04-29T04:01:15.723Z"
   },
   {
    "duration": 0,
    "start_time": "2022-04-29T04:01:15.724Z"
   },
   {
    "duration": 0,
    "start_time": "2022-04-29T04:01:15.725Z"
   },
   {
    "duration": 0,
    "start_time": "2022-04-29T04:01:15.726Z"
   },
   {
    "duration": 0,
    "start_time": "2022-04-29T04:01:15.728Z"
   },
   {
    "duration": 0,
    "start_time": "2022-04-29T04:01:15.728Z"
   },
   {
    "duration": 0,
    "start_time": "2022-04-29T04:01:15.729Z"
   },
   {
    "duration": 0,
    "start_time": "2022-04-29T04:01:15.730Z"
   },
   {
    "duration": 0,
    "start_time": "2022-04-29T04:01:15.731Z"
   },
   {
    "duration": 0,
    "start_time": "2022-04-29T04:01:15.794Z"
   },
   {
    "duration": 0,
    "start_time": "2022-04-29T04:01:15.795Z"
   },
   {
    "duration": 0,
    "start_time": "2022-04-29T04:01:15.797Z"
   },
   {
    "duration": 0,
    "start_time": "2022-04-29T04:01:15.798Z"
   },
   {
    "duration": 0,
    "start_time": "2022-04-29T04:01:15.799Z"
   },
   {
    "duration": 0,
    "start_time": "2022-04-29T04:01:15.801Z"
   },
   {
    "duration": 0,
    "start_time": "2022-04-29T04:01:15.802Z"
   },
   {
    "duration": 0,
    "start_time": "2022-04-29T04:01:15.803Z"
   },
   {
    "duration": 0,
    "start_time": "2022-04-29T04:01:15.804Z"
   },
   {
    "duration": 0,
    "start_time": "2022-04-29T04:01:15.805Z"
   },
   {
    "duration": 0,
    "start_time": "2022-04-29T04:01:15.806Z"
   },
   {
    "duration": 0,
    "start_time": "2022-04-29T04:01:15.807Z"
   },
   {
    "duration": 0,
    "start_time": "2022-04-29T04:01:15.808Z"
   },
   {
    "duration": 0,
    "start_time": "2022-04-29T04:01:15.809Z"
   },
   {
    "duration": 0,
    "start_time": "2022-04-29T04:01:15.809Z"
   },
   {
    "duration": 0,
    "start_time": "2022-04-29T04:01:15.810Z"
   },
   {
    "duration": 0,
    "start_time": "2022-04-29T04:01:15.811Z"
   },
   {
    "duration": 0,
    "start_time": "2022-04-29T04:01:15.812Z"
   },
   {
    "duration": 1929,
    "start_time": "2022-04-29T04:01:25.873Z"
   },
   {
    "duration": 821,
    "start_time": "2022-04-29T04:01:27.804Z"
   },
   {
    "duration": 138,
    "start_time": "2022-04-29T04:01:28.627Z"
   },
   {
    "duration": 462,
    "start_time": "2022-04-29T04:01:28.767Z"
   },
   {
    "duration": 523,
    "start_time": "2022-04-29T04:01:29.230Z"
   },
   {
    "duration": 440,
    "start_time": "2022-04-29T04:01:29.755Z"
   },
   {
    "duration": 134,
    "start_time": "2022-04-29T04:01:30.197Z"
   },
   {
    "duration": 370,
    "start_time": "2022-04-29T04:01:30.333Z"
   },
   {
    "duration": 87,
    "start_time": "2022-04-29T04:01:30.705Z"
   },
   {
    "duration": 114,
    "start_time": "2022-04-29T04:01:30.796Z"
   },
   {
    "duration": 22,
    "start_time": "2022-04-29T04:01:30.912Z"
   },
   {
    "duration": 162,
    "start_time": "2022-04-29T04:01:30.935Z"
   },
   {
    "duration": 186,
    "start_time": "2022-04-29T04:01:31.099Z"
   },
   {
    "duration": 7,
    "start_time": "2022-04-29T04:01:31.286Z"
   },
   {
    "duration": 7,
    "start_time": "2022-04-29T04:01:31.295Z"
   },
   {
    "duration": 50,
    "start_time": "2022-04-29T04:01:31.303Z"
   },
   {
    "duration": 81,
    "start_time": "2022-04-29T04:01:31.354Z"
   },
   {
    "duration": 38,
    "start_time": "2022-04-29T04:01:31.437Z"
   },
   {
    "duration": 16,
    "start_time": "2022-04-29T04:01:31.477Z"
   },
   {
    "duration": 11,
    "start_time": "2022-04-29T04:01:31.495Z"
   },
   {
    "duration": 14,
    "start_time": "2022-04-29T04:01:31.507Z"
   },
   {
    "duration": 2439,
    "start_time": "2022-04-29T04:01:31.523Z"
   },
   {
    "duration": 4,
    "start_time": "2022-04-29T04:01:33.964Z"
   },
   {
    "duration": 7,
    "start_time": "2022-04-29T04:01:33.970Z"
   },
   {
    "duration": 965,
    "start_time": "2022-04-29T04:01:33.978Z"
   },
   {
    "duration": 149,
    "start_time": "2022-04-29T04:01:34.945Z"
   },
   {
    "duration": 41,
    "start_time": "2022-04-29T04:01:35.096Z"
   },
   {
    "duration": 135,
    "start_time": "2022-04-29T04:01:35.141Z"
   },
   {
    "duration": 120,
    "start_time": "2022-04-29T04:01:35.278Z"
   },
   {
    "duration": 144,
    "start_time": "2022-04-29T04:01:35.399Z"
   },
   {
    "duration": 125,
    "start_time": "2022-04-29T04:01:35.545Z"
   },
   {
    "duration": 64,
    "start_time": "2022-04-29T04:01:35.672Z"
   },
   {
    "duration": 11,
    "start_time": "2022-04-29T04:01:35.738Z"
   },
   {
    "duration": 6,
    "start_time": "2022-04-29T04:01:35.751Z"
   },
   {
    "duration": 86,
    "start_time": "2022-04-29T04:01:35.758Z"
   },
   {
    "duration": 5,
    "start_time": "2022-04-29T04:01:35.846Z"
   },
   {
    "duration": 47,
    "start_time": "2022-04-29T04:01:35.853Z"
   },
   {
    "duration": 5,
    "start_time": "2022-04-29T04:01:35.902Z"
   },
   {
    "duration": 16,
    "start_time": "2022-04-29T04:01:35.909Z"
   },
   {
    "duration": 9,
    "start_time": "2022-04-29T04:01:35.926Z"
   },
   {
    "duration": 151,
    "start_time": "2022-04-29T04:01:35.937Z"
   },
   {
    "duration": 47,
    "start_time": "2022-04-29T04:01:36.090Z"
   },
   {
    "duration": 30,
    "start_time": "2022-04-29T04:01:36.138Z"
   },
   {
    "duration": 25,
    "start_time": "2022-04-29T04:01:36.169Z"
   },
   {
    "duration": 11,
    "start_time": "2022-04-29T04:01:36.195Z"
   },
   {
    "duration": 34,
    "start_time": "2022-04-29T04:01:36.208Z"
   },
   {
    "duration": 18,
    "start_time": "2022-04-29T04:01:36.243Z"
   },
   {
    "duration": 130,
    "start_time": "2022-04-29T04:01:36.262Z"
   },
   {
    "duration": 10,
    "start_time": "2022-04-29T04:01:36.394Z"
   },
   {
    "duration": 97,
    "start_time": "2022-04-29T04:01:36.406Z"
   },
   {
    "duration": 5,
    "start_time": "2022-04-29T04:01:36.505Z"
   },
   {
    "duration": 64,
    "start_time": "2022-04-29T04:01:36.512Z"
   },
   {
    "duration": 15,
    "start_time": "2022-04-29T04:01:36.578Z"
   },
   {
    "duration": 40,
    "start_time": "2022-04-29T04:01:36.595Z"
   },
   {
    "duration": 5,
    "start_time": "2022-04-29T04:01:36.637Z"
   },
   {
    "duration": 68,
    "start_time": "2022-04-29T04:01:36.644Z"
   },
   {
    "duration": 45,
    "start_time": "2022-04-29T04:01:36.713Z"
   },
   {
    "duration": 137,
    "start_time": "2022-04-29T04:01:36.760Z"
   },
   {
    "duration": 115,
    "start_time": "2022-04-29T04:01:36.899Z"
   },
   {
    "duration": 0,
    "start_time": "2022-04-29T04:01:37.016Z"
   },
   {
    "duration": 1,
    "start_time": "2022-04-29T04:01:37.017Z"
   },
   {
    "duration": 0,
    "start_time": "2022-04-29T04:01:37.019Z"
   },
   {
    "duration": 0,
    "start_time": "2022-04-29T04:01:37.020Z"
   },
   {
    "duration": 0,
    "start_time": "2022-04-29T04:01:37.021Z"
   },
   {
    "duration": 0,
    "start_time": "2022-04-29T04:01:37.022Z"
   },
   {
    "duration": 0,
    "start_time": "2022-04-29T04:01:37.024Z"
   },
   {
    "duration": 0,
    "start_time": "2022-04-29T04:01:37.024Z"
   },
   {
    "duration": 0,
    "start_time": "2022-04-29T04:01:37.025Z"
   },
   {
    "duration": 0,
    "start_time": "2022-04-29T04:01:37.027Z"
   },
   {
    "duration": 0,
    "start_time": "2022-04-29T04:01:37.028Z"
   },
   {
    "duration": 0,
    "start_time": "2022-04-29T04:01:37.029Z"
   },
   {
    "duration": 0,
    "start_time": "2022-04-29T04:01:37.030Z"
   },
   {
    "duration": 0,
    "start_time": "2022-04-29T04:01:37.031Z"
   },
   {
    "duration": 0,
    "start_time": "2022-04-29T04:01:37.032Z"
   },
   {
    "duration": 0,
    "start_time": "2022-04-29T04:01:37.033Z"
   },
   {
    "duration": 0,
    "start_time": "2022-04-29T04:01:37.034Z"
   },
   {
    "duration": 0,
    "start_time": "2022-04-29T04:01:37.035Z"
   },
   {
    "duration": 0,
    "start_time": "2022-04-29T04:01:37.036Z"
   },
   {
    "duration": 0,
    "start_time": "2022-04-29T04:01:37.037Z"
   },
   {
    "duration": 0,
    "start_time": "2022-04-29T04:01:37.038Z"
   },
   {
    "duration": 0,
    "start_time": "2022-04-29T04:01:37.039Z"
   },
   {
    "duration": 0,
    "start_time": "2022-04-29T04:01:37.040Z"
   },
   {
    "duration": 0,
    "start_time": "2022-04-29T04:01:37.041Z"
   },
   {
    "duration": 0,
    "start_time": "2022-04-29T04:01:37.042Z"
   },
   {
    "duration": 0,
    "start_time": "2022-04-29T04:01:37.043Z"
   },
   {
    "duration": 0,
    "start_time": "2022-04-29T04:01:37.044Z"
   },
   {
    "duration": 0,
    "start_time": "2022-04-29T04:01:37.092Z"
   },
   {
    "duration": 0,
    "start_time": "2022-04-29T04:01:37.094Z"
   },
   {
    "duration": 0,
    "start_time": "2022-04-29T04:01:37.094Z"
   },
   {
    "duration": 0,
    "start_time": "2022-04-29T04:01:37.096Z"
   },
   {
    "duration": 0,
    "start_time": "2022-04-29T04:01:37.097Z"
   },
   {
    "duration": 0,
    "start_time": "2022-04-29T04:01:37.098Z"
   },
   {
    "duration": 2939,
    "start_time": "2022-04-29T04:01:56.417Z"
   },
   {
    "duration": 2,
    "start_time": "2022-04-29T04:02:10.117Z"
   },
   {
    "duration": 35,
    "start_time": "2022-04-29T04:02:12.005Z"
   },
   {
    "duration": 9,
    "start_time": "2022-04-29T04:05:14.667Z"
   },
   {
    "duration": 10,
    "start_time": "2022-04-29T04:07:20.175Z"
   },
   {
    "duration": 10,
    "start_time": "2022-04-29T04:07:42.836Z"
   },
   {
    "duration": 9,
    "start_time": "2022-04-29T04:07:59.044Z"
   },
   {
    "duration": 8,
    "start_time": "2022-04-29T04:08:22.216Z"
   },
   {
    "duration": 78,
    "start_time": "2022-04-29T04:08:35.680Z"
   },
   {
    "duration": 9,
    "start_time": "2022-04-29T04:09:11.765Z"
   },
   {
    "duration": 18,
    "start_time": "2022-04-29T04:09:35.753Z"
   },
   {
    "duration": 9,
    "start_time": "2022-04-29T04:09:39.897Z"
   },
   {
    "duration": 1687,
    "start_time": "2022-04-29T04:10:08.197Z"
   },
   {
    "duration": 801,
    "start_time": "2022-04-29T04:10:09.886Z"
   },
   {
    "duration": 150,
    "start_time": "2022-04-29T04:10:10.689Z"
   },
   {
    "duration": 508,
    "start_time": "2022-04-29T04:10:10.843Z"
   },
   {
    "duration": 579,
    "start_time": "2022-04-29T04:10:11.354Z"
   },
   {
    "duration": 460,
    "start_time": "2022-04-29T04:10:11.934Z"
   },
   {
    "duration": 126,
    "start_time": "2022-04-29T04:10:12.395Z"
   },
   {
    "duration": 379,
    "start_time": "2022-04-29T04:10:12.522Z"
   },
   {
    "duration": 94,
    "start_time": "2022-04-29T04:10:12.902Z"
   },
   {
    "duration": 111,
    "start_time": "2022-04-29T04:10:12.999Z"
   },
   {
    "duration": 22,
    "start_time": "2022-04-29T04:10:13.111Z"
   },
   {
    "duration": 160,
    "start_time": "2022-04-29T04:10:13.134Z"
   },
   {
    "duration": 181,
    "start_time": "2022-04-29T04:10:13.296Z"
   },
   {
    "duration": 14,
    "start_time": "2022-04-29T04:10:13.479Z"
   },
   {
    "duration": 2,
    "start_time": "2022-04-29T04:10:13.495Z"
   },
   {
    "duration": 51,
    "start_time": "2022-04-29T04:10:13.498Z"
   },
   {
    "duration": 85,
    "start_time": "2022-04-29T04:10:13.551Z"
   },
   {
    "duration": 36,
    "start_time": "2022-04-29T04:10:13.638Z"
   },
   {
    "duration": 3,
    "start_time": "2022-04-29T04:10:13.692Z"
   },
   {
    "duration": 8,
    "start_time": "2022-04-29T04:10:13.697Z"
   },
   {
    "duration": 5,
    "start_time": "2022-04-29T04:10:13.707Z"
   },
   {
    "duration": 2318,
    "start_time": "2022-04-29T04:10:13.713Z"
   },
   {
    "duration": 5,
    "start_time": "2022-04-29T04:10:16.033Z"
   },
   {
    "duration": 6,
    "start_time": "2022-04-29T04:10:16.039Z"
   },
   {
    "duration": 971,
    "start_time": "2022-04-29T04:10:16.046Z"
   },
   {
    "duration": 141,
    "start_time": "2022-04-29T04:10:17.018Z"
   },
   {
    "duration": 50,
    "start_time": "2022-04-29T04:10:17.161Z"
   },
   {
    "duration": 131,
    "start_time": "2022-04-29T04:10:17.216Z"
   },
   {
    "duration": 125,
    "start_time": "2022-04-29T04:10:17.349Z"
   },
   {
    "duration": 143,
    "start_time": "2022-04-29T04:10:17.475Z"
   },
   {
    "duration": 131,
    "start_time": "2022-04-29T04:10:17.620Z"
   },
   {
    "duration": 70,
    "start_time": "2022-04-29T04:10:17.752Z"
   },
   {
    "duration": 11,
    "start_time": "2022-04-29T04:10:17.823Z"
   },
   {
    "duration": 5,
    "start_time": "2022-04-29T04:10:17.836Z"
   },
   {
    "duration": 83,
    "start_time": "2022-04-29T04:10:17.843Z"
   },
   {
    "duration": 5,
    "start_time": "2022-04-29T04:10:17.928Z"
   },
   {
    "duration": 31,
    "start_time": "2022-04-29T04:10:17.934Z"
   },
   {
    "duration": 26,
    "start_time": "2022-04-29T04:10:17.967Z"
   },
   {
    "duration": 13,
    "start_time": "2022-04-29T04:10:17.994Z"
   },
   {
    "duration": 8,
    "start_time": "2022-04-29T04:10:18.008Z"
   },
   {
    "duration": 164,
    "start_time": "2022-04-29T04:10:18.018Z"
   },
   {
    "duration": 52,
    "start_time": "2022-04-29T04:10:18.183Z"
   },
   {
    "duration": 30,
    "start_time": "2022-04-29T04:10:18.237Z"
   },
   {
    "duration": 24,
    "start_time": "2022-04-29T04:10:18.269Z"
   },
   {
    "duration": 11,
    "start_time": "2022-04-29T04:10:18.295Z"
   },
   {
    "duration": 33,
    "start_time": "2022-04-29T04:10:18.308Z"
   },
   {
    "duration": 16,
    "start_time": "2022-04-29T04:10:18.343Z"
   },
   {
    "duration": 133,
    "start_time": "2022-04-29T04:10:18.361Z"
   },
   {
    "duration": 10,
    "start_time": "2022-04-29T04:10:18.496Z"
   },
   {
    "duration": 101,
    "start_time": "2022-04-29T04:10:18.508Z"
   },
   {
    "duration": 7,
    "start_time": "2022-04-29T04:10:18.611Z"
   },
   {
    "duration": 76,
    "start_time": "2022-04-29T04:10:18.619Z"
   },
   {
    "duration": 5,
    "start_time": "2022-04-29T04:10:18.697Z"
   },
   {
    "duration": 37,
    "start_time": "2022-04-29T04:10:18.704Z"
   },
   {
    "duration": 5,
    "start_time": "2022-04-29T04:10:18.743Z"
   },
   {
    "duration": 76,
    "start_time": "2022-04-29T04:10:18.750Z"
   },
   {
    "duration": 46,
    "start_time": "2022-04-29T04:10:18.829Z"
   },
   {
    "duration": 159,
    "start_time": "2022-04-29T04:10:18.877Z"
   },
   {
    "duration": 129,
    "start_time": "2022-04-29T04:10:19.038Z"
   },
   {
    "duration": 0,
    "start_time": "2022-04-29T04:10:19.169Z"
   },
   {
    "duration": 0,
    "start_time": "2022-04-29T04:10:19.171Z"
   },
   {
    "duration": 0,
    "start_time": "2022-04-29T04:10:19.172Z"
   },
   {
    "duration": 0,
    "start_time": "2022-04-29T04:10:19.174Z"
   },
   {
    "duration": 0,
    "start_time": "2022-04-29T04:10:19.175Z"
   },
   {
    "duration": 0,
    "start_time": "2022-04-29T04:10:19.176Z"
   },
   {
    "duration": 0,
    "start_time": "2022-04-29T04:10:19.178Z"
   },
   {
    "duration": 0,
    "start_time": "2022-04-29T04:10:19.193Z"
   },
   {
    "duration": 0,
    "start_time": "2022-04-29T04:10:19.194Z"
   },
   {
    "duration": 0,
    "start_time": "2022-04-29T04:10:19.195Z"
   },
   {
    "duration": 0,
    "start_time": "2022-04-29T04:10:19.197Z"
   },
   {
    "duration": 0,
    "start_time": "2022-04-29T04:10:19.199Z"
   },
   {
    "duration": 0,
    "start_time": "2022-04-29T04:10:19.200Z"
   },
   {
    "duration": 0,
    "start_time": "2022-04-29T04:10:19.201Z"
   },
   {
    "duration": 0,
    "start_time": "2022-04-29T04:10:19.202Z"
   },
   {
    "duration": 0,
    "start_time": "2022-04-29T04:10:19.204Z"
   },
   {
    "duration": 0,
    "start_time": "2022-04-29T04:10:19.205Z"
   },
   {
    "duration": 0,
    "start_time": "2022-04-29T04:10:19.207Z"
   },
   {
    "duration": 0,
    "start_time": "2022-04-29T04:10:19.208Z"
   },
   {
    "duration": 0,
    "start_time": "2022-04-29T04:10:19.210Z"
   },
   {
    "duration": 0,
    "start_time": "2022-04-29T04:10:19.211Z"
   },
   {
    "duration": 0,
    "start_time": "2022-04-29T04:10:19.213Z"
   },
   {
    "duration": 0,
    "start_time": "2022-04-29T04:10:19.214Z"
   },
   {
    "duration": 0,
    "start_time": "2022-04-29T04:10:19.216Z"
   },
   {
    "duration": 0,
    "start_time": "2022-04-29T04:10:19.217Z"
   },
   {
    "duration": 0,
    "start_time": "2022-04-29T04:10:19.219Z"
   },
   {
    "duration": 0,
    "start_time": "2022-04-29T04:10:19.220Z"
   },
   {
    "duration": 0,
    "start_time": "2022-04-29T04:10:19.222Z"
   },
   {
    "duration": 0,
    "start_time": "2022-04-29T04:10:19.223Z"
   },
   {
    "duration": 0,
    "start_time": "2022-04-29T04:10:19.225Z"
   },
   {
    "duration": 0,
    "start_time": "2022-04-29T04:10:19.226Z"
   },
   {
    "duration": 0,
    "start_time": "2022-04-29T04:10:19.227Z"
   },
   {
    "duration": 0,
    "start_time": "2022-04-29T04:10:19.229Z"
   },
   {
    "duration": 0,
    "start_time": "2022-04-29T04:10:19.292Z"
   },
   {
    "duration": 0,
    "start_time": "2022-04-29T04:10:19.294Z"
   },
   {
    "duration": 20,
    "start_time": "2022-04-29T04:10:43.510Z"
   },
   {
    "duration": 36,
    "start_time": "2022-04-29T04:10:52.206Z"
   },
   {
    "duration": 29,
    "start_time": "2022-04-29T04:10:55.509Z"
   },
   {
    "duration": 2,
    "start_time": "2022-04-29T04:10:57.878Z"
   },
   {
    "duration": 23,
    "start_time": "2022-04-29T04:10:59.638Z"
   },
   {
    "duration": 1747,
    "start_time": "2022-04-29T04:12:14.544Z"
   },
   {
    "duration": 795,
    "start_time": "2022-04-29T04:12:16.293Z"
   },
   {
    "duration": 138,
    "start_time": "2022-04-29T04:12:17.089Z"
   },
   {
    "duration": 478,
    "start_time": "2022-04-29T04:12:17.229Z"
   },
   {
    "duration": 562,
    "start_time": "2022-04-29T04:12:17.709Z"
   },
   {
    "duration": 456,
    "start_time": "2022-04-29T04:12:18.273Z"
   },
   {
    "duration": 135,
    "start_time": "2022-04-29T04:12:18.731Z"
   },
   {
    "duration": 382,
    "start_time": "2022-04-29T04:12:18.867Z"
   },
   {
    "duration": 91,
    "start_time": "2022-04-29T04:12:19.250Z"
   },
   {
    "duration": 120,
    "start_time": "2022-04-29T04:12:19.344Z"
   },
   {
    "duration": 31,
    "start_time": "2022-04-29T04:12:19.466Z"
   },
   {
    "duration": 168,
    "start_time": "2022-04-29T04:12:19.499Z"
   },
   {
    "duration": 177,
    "start_time": "2022-04-29T04:12:19.669Z"
   },
   {
    "duration": 6,
    "start_time": "2022-04-29T04:12:19.848Z"
   },
   {
    "duration": 42,
    "start_time": "2022-04-29T04:12:19.855Z"
   },
   {
    "duration": 77,
    "start_time": "2022-04-29T04:12:19.898Z"
   },
   {
    "duration": 64,
    "start_time": "2022-04-29T04:12:19.977Z"
   },
   {
    "duration": 50,
    "start_time": "2022-04-29T04:12:20.043Z"
   },
   {
    "duration": 3,
    "start_time": "2022-04-29T04:12:20.095Z"
   },
   {
    "duration": 19,
    "start_time": "2022-04-29T04:12:20.100Z"
   },
   {
    "duration": 31,
    "start_time": "2022-04-29T04:12:20.120Z"
   },
   {
    "duration": 2251,
    "start_time": "2022-04-29T04:12:20.152Z"
   },
   {
    "duration": 4,
    "start_time": "2022-04-29T04:12:22.405Z"
   },
   {
    "duration": 34,
    "start_time": "2022-04-29T04:12:22.411Z"
   },
   {
    "duration": 969,
    "start_time": "2022-04-29T04:12:22.447Z"
   },
   {
    "duration": 142,
    "start_time": "2022-04-29T04:12:23.418Z"
   },
   {
    "duration": 54,
    "start_time": "2022-04-29T04:12:23.562Z"
   },
   {
    "duration": 132,
    "start_time": "2022-04-29T04:12:23.621Z"
   },
   {
    "duration": 120,
    "start_time": "2022-04-29T04:12:23.755Z"
   },
   {
    "duration": 139,
    "start_time": "2022-04-29T04:12:23.877Z"
   },
   {
    "duration": 135,
    "start_time": "2022-04-29T04:12:24.018Z"
   },
   {
    "duration": 65,
    "start_time": "2022-04-29T04:12:24.155Z"
   },
   {
    "duration": 11,
    "start_time": "2022-04-29T04:12:24.221Z"
   },
   {
    "duration": 6,
    "start_time": "2022-04-29T04:12:24.234Z"
   },
   {
    "duration": 88,
    "start_time": "2022-04-29T04:12:24.241Z"
   },
   {
    "duration": 6,
    "start_time": "2022-04-29T04:12:24.330Z"
   },
   {
    "duration": 32,
    "start_time": "2022-04-29T04:12:24.338Z"
   },
   {
    "duration": 23,
    "start_time": "2022-04-29T04:12:24.372Z"
   },
   {
    "duration": 18,
    "start_time": "2022-04-29T04:12:24.397Z"
   },
   {
    "duration": 10,
    "start_time": "2022-04-29T04:12:24.416Z"
   },
   {
    "duration": 160,
    "start_time": "2022-04-29T04:12:24.427Z"
   },
   {
    "duration": 47,
    "start_time": "2022-04-29T04:12:24.588Z"
   },
   {
    "duration": 31,
    "start_time": "2022-04-29T04:12:24.637Z"
   },
   {
    "duration": 24,
    "start_time": "2022-04-29T04:12:24.670Z"
   },
   {
    "duration": 12,
    "start_time": "2022-04-29T04:12:24.695Z"
   },
   {
    "duration": 33,
    "start_time": "2022-04-29T04:12:24.709Z"
   },
   {
    "duration": 50,
    "start_time": "2022-04-29T04:12:24.744Z"
   },
   {
    "duration": 104,
    "start_time": "2022-04-29T04:12:24.796Z"
   },
   {
    "duration": 9,
    "start_time": "2022-04-29T04:12:24.902Z"
   },
   {
    "duration": 100,
    "start_time": "2022-04-29T04:12:24.913Z"
   },
   {
    "duration": 6,
    "start_time": "2022-04-29T04:12:25.014Z"
   },
   {
    "duration": 77,
    "start_time": "2022-04-29T04:12:25.022Z"
   },
   {
    "duration": 6,
    "start_time": "2022-04-29T04:12:25.100Z"
   },
   {
    "duration": 36,
    "start_time": "2022-04-29T04:12:25.107Z"
   },
   {
    "duration": 5,
    "start_time": "2022-04-29T04:12:25.144Z"
   },
   {
    "duration": 69,
    "start_time": "2022-04-29T04:12:25.151Z"
   },
   {
    "duration": 45,
    "start_time": "2022-04-29T04:12:25.222Z"
   },
   {
    "duration": 146,
    "start_time": "2022-04-29T04:12:25.269Z"
   },
   {
    "duration": 115,
    "start_time": "2022-04-29T04:12:25.417Z"
   },
   {
    "duration": 0,
    "start_time": "2022-04-29T04:12:25.534Z"
   },
   {
    "duration": 0,
    "start_time": "2022-04-29T04:12:25.535Z"
   },
   {
    "duration": 0,
    "start_time": "2022-04-29T04:12:25.536Z"
   },
   {
    "duration": 0,
    "start_time": "2022-04-29T04:12:25.537Z"
   },
   {
    "duration": 0,
    "start_time": "2022-04-29T04:12:25.539Z"
   },
   {
    "duration": 0,
    "start_time": "2022-04-29T04:12:25.540Z"
   },
   {
    "duration": 0,
    "start_time": "2022-04-29T04:12:25.541Z"
   },
   {
    "duration": 0,
    "start_time": "2022-04-29T04:12:25.542Z"
   },
   {
    "duration": 0,
    "start_time": "2022-04-29T04:12:25.544Z"
   },
   {
    "duration": 0,
    "start_time": "2022-04-29T04:12:25.545Z"
   },
   {
    "duration": 0,
    "start_time": "2022-04-29T04:12:25.545Z"
   },
   {
    "duration": 0,
    "start_time": "2022-04-29T04:12:25.547Z"
   },
   {
    "duration": 0,
    "start_time": "2022-04-29T04:12:25.548Z"
   },
   {
    "duration": 0,
    "start_time": "2022-04-29T04:12:25.549Z"
   },
   {
    "duration": 0,
    "start_time": "2022-04-29T04:12:25.550Z"
   },
   {
    "duration": 0,
    "start_time": "2022-04-29T04:12:25.551Z"
   },
   {
    "duration": 0,
    "start_time": "2022-04-29T04:12:25.553Z"
   },
   {
    "duration": 0,
    "start_time": "2022-04-29T04:12:25.554Z"
   },
   {
    "duration": 0,
    "start_time": "2022-04-29T04:12:25.555Z"
   },
   {
    "duration": 0,
    "start_time": "2022-04-29T04:12:25.593Z"
   },
   {
    "duration": 0,
    "start_time": "2022-04-29T04:12:25.594Z"
   },
   {
    "duration": 0,
    "start_time": "2022-04-29T04:12:25.595Z"
   },
   {
    "duration": 0,
    "start_time": "2022-04-29T04:12:25.597Z"
   },
   {
    "duration": 0,
    "start_time": "2022-04-29T04:12:25.598Z"
   },
   {
    "duration": 0,
    "start_time": "2022-04-29T04:12:25.599Z"
   },
   {
    "duration": 0,
    "start_time": "2022-04-29T04:12:25.600Z"
   },
   {
    "duration": 0,
    "start_time": "2022-04-29T04:12:25.601Z"
   },
   {
    "duration": 0,
    "start_time": "2022-04-29T04:12:25.602Z"
   },
   {
    "duration": 0,
    "start_time": "2022-04-29T04:12:25.603Z"
   },
   {
    "duration": 0,
    "start_time": "2022-04-29T04:12:25.604Z"
   },
   {
    "duration": 0,
    "start_time": "2022-04-29T04:12:25.606Z"
   },
   {
    "duration": 0,
    "start_time": "2022-04-29T04:12:25.607Z"
   },
   {
    "duration": 0,
    "start_time": "2022-04-29T04:12:25.608Z"
   },
   {
    "duration": 0,
    "start_time": "2022-04-29T04:12:25.609Z"
   },
   {
    "duration": 0,
    "start_time": "2022-04-29T04:12:25.610Z"
   },
   {
    "duration": 26,
    "start_time": "2022-04-29T04:13:58.006Z"
   },
   {
    "duration": 3,
    "start_time": "2022-04-29T04:14:02.782Z"
   },
   {
    "duration": 24,
    "start_time": "2022-04-29T04:14:04.174Z"
   },
   {
    "duration": 1759,
    "start_time": "2022-04-29T04:15:42.513Z"
   },
   {
    "duration": 805,
    "start_time": "2022-04-29T04:15:44.274Z"
   },
   {
    "duration": 153,
    "start_time": "2022-04-29T04:15:45.081Z"
   },
   {
    "duration": 472,
    "start_time": "2022-04-29T04:15:45.236Z"
   },
   {
    "duration": 539,
    "start_time": "2022-04-29T04:15:45.709Z"
   },
   {
    "duration": 432,
    "start_time": "2022-04-29T04:15:46.250Z"
   },
   {
    "duration": 130,
    "start_time": "2022-04-29T04:15:46.684Z"
   },
   {
    "duration": 378,
    "start_time": "2022-04-29T04:15:46.815Z"
   },
   {
    "duration": 83,
    "start_time": "2022-04-29T04:15:47.194Z"
   },
   {
    "duration": 117,
    "start_time": "2022-04-29T04:15:47.280Z"
   },
   {
    "duration": 22,
    "start_time": "2022-04-29T04:15:47.399Z"
   },
   {
    "duration": 155,
    "start_time": "2022-04-29T04:15:47.422Z"
   },
   {
    "duration": 185,
    "start_time": "2022-04-29T04:15:47.579Z"
   },
   {
    "duration": 7,
    "start_time": "2022-04-29T04:15:47.766Z"
   },
   {
    "duration": 18,
    "start_time": "2022-04-29T04:15:47.774Z"
   },
   {
    "duration": 43,
    "start_time": "2022-04-29T04:15:47.793Z"
   },
   {
    "duration": 84,
    "start_time": "2022-04-29T04:15:47.838Z"
   },
   {
    "duration": 37,
    "start_time": "2022-04-29T04:15:47.924Z"
   },
   {
    "duration": 4,
    "start_time": "2022-04-29T04:15:47.963Z"
   },
   {
    "duration": 24,
    "start_time": "2022-04-29T04:15:47.969Z"
   },
   {
    "duration": 5,
    "start_time": "2022-04-29T04:15:47.995Z"
   },
   {
    "duration": 2277,
    "start_time": "2022-04-29T04:15:48.002Z"
   },
   {
    "duration": 13,
    "start_time": "2022-04-29T04:15:50.281Z"
   },
   {
    "duration": 14,
    "start_time": "2022-04-29T04:15:50.296Z"
   },
   {
    "duration": 990,
    "start_time": "2022-04-29T04:15:50.312Z"
   },
   {
    "duration": 144,
    "start_time": "2022-04-29T04:15:51.304Z"
   },
   {
    "duration": 57,
    "start_time": "2022-04-29T04:15:51.450Z"
   },
   {
    "duration": 145,
    "start_time": "2022-04-29T04:15:51.513Z"
   },
   {
    "duration": 126,
    "start_time": "2022-04-29T04:15:51.661Z"
   },
   {
    "duration": 142,
    "start_time": "2022-04-29T04:15:51.793Z"
   },
   {
    "duration": 137,
    "start_time": "2022-04-29T04:15:51.937Z"
   },
   {
    "duration": 61,
    "start_time": "2022-04-29T04:15:52.076Z"
   },
   {
    "duration": 13,
    "start_time": "2022-04-29T04:15:52.139Z"
   },
   {
    "duration": 7,
    "start_time": "2022-04-29T04:15:52.153Z"
   },
   {
    "duration": 94,
    "start_time": "2022-04-29T04:15:52.162Z"
   },
   {
    "duration": 6,
    "start_time": "2022-04-29T04:15:52.258Z"
   },
   {
    "duration": 54,
    "start_time": "2022-04-29T04:15:52.265Z"
   },
   {
    "duration": 5,
    "start_time": "2022-04-29T04:15:52.320Z"
   },
   {
    "duration": 19,
    "start_time": "2022-04-29T04:15:52.326Z"
   },
   {
    "duration": 9,
    "start_time": "2022-04-29T04:15:52.347Z"
   },
   {
    "duration": 154,
    "start_time": "2022-04-29T04:15:52.358Z"
   },
   {
    "duration": 49,
    "start_time": "2022-04-29T04:15:52.514Z"
   },
   {
    "duration": 47,
    "start_time": "2022-04-29T04:15:52.565Z"
   },
   {
    "duration": 5,
    "start_time": "2022-04-29T04:15:52.614Z"
   },
   {
    "duration": 13,
    "start_time": "2022-04-29T04:15:52.620Z"
   },
   {
    "duration": 33,
    "start_time": "2022-04-29T04:15:52.634Z"
   },
   {
    "duration": 36,
    "start_time": "2022-04-29T04:15:52.669Z"
   },
   {
    "duration": 113,
    "start_time": "2022-04-29T04:15:52.707Z"
   },
   {
    "duration": 9,
    "start_time": "2022-04-29T04:15:52.822Z"
   },
   {
    "duration": 92,
    "start_time": "2022-04-29T04:15:52.833Z"
   },
   {
    "duration": 6,
    "start_time": "2022-04-29T04:15:52.926Z"
   },
   {
    "duration": 73,
    "start_time": "2022-04-29T04:15:52.934Z"
   },
   {
    "duration": 5,
    "start_time": "2022-04-29T04:15:53.009Z"
   },
   {
    "duration": 37,
    "start_time": "2022-04-29T04:15:53.016Z"
   },
   {
    "duration": 4,
    "start_time": "2022-04-29T04:15:53.055Z"
   },
   {
    "duration": 73,
    "start_time": "2022-04-29T04:15:53.061Z"
   },
   {
    "duration": 44,
    "start_time": "2022-04-29T04:15:53.136Z"
   },
   {
    "duration": 145,
    "start_time": "2022-04-29T04:15:53.182Z"
   },
   {
    "duration": 121,
    "start_time": "2022-04-29T04:15:53.328Z"
   },
   {
    "duration": 0,
    "start_time": "2022-04-29T04:15:53.452Z"
   },
   {
    "duration": 1,
    "start_time": "2022-04-29T04:15:53.452Z"
   },
   {
    "duration": 0,
    "start_time": "2022-04-29T04:15:53.454Z"
   },
   {
    "duration": 0,
    "start_time": "2022-04-29T04:15:53.454Z"
   },
   {
    "duration": 0,
    "start_time": "2022-04-29T04:15:53.455Z"
   },
   {
    "duration": 0,
    "start_time": "2022-04-29T04:15:53.456Z"
   },
   {
    "duration": 0,
    "start_time": "2022-04-29T04:15:53.457Z"
   },
   {
    "duration": 0,
    "start_time": "2022-04-29T04:15:53.458Z"
   },
   {
    "duration": 0,
    "start_time": "2022-04-29T04:15:53.459Z"
   },
   {
    "duration": 0,
    "start_time": "2022-04-29T04:15:53.460Z"
   },
   {
    "duration": 0,
    "start_time": "2022-04-29T04:15:53.461Z"
   },
   {
    "duration": 0,
    "start_time": "2022-04-29T04:15:53.461Z"
   },
   {
    "duration": 0,
    "start_time": "2022-04-29T04:15:53.462Z"
   },
   {
    "duration": 0,
    "start_time": "2022-04-29T04:15:53.464Z"
   },
   {
    "duration": 0,
    "start_time": "2022-04-29T04:15:53.465Z"
   },
   {
    "duration": 0,
    "start_time": "2022-04-29T04:15:53.466Z"
   },
   {
    "duration": 0,
    "start_time": "2022-04-29T04:15:53.466Z"
   },
   {
    "duration": 0,
    "start_time": "2022-04-29T04:15:53.493Z"
   },
   {
    "duration": 1,
    "start_time": "2022-04-29T04:15:53.493Z"
   },
   {
    "duration": 0,
    "start_time": "2022-04-29T04:15:53.495Z"
   },
   {
    "duration": 0,
    "start_time": "2022-04-29T04:15:53.496Z"
   },
   {
    "duration": 1,
    "start_time": "2022-04-29T04:15:53.496Z"
   },
   {
    "duration": 0,
    "start_time": "2022-04-29T04:15:53.497Z"
   },
   {
    "duration": 0,
    "start_time": "2022-04-29T04:15:53.498Z"
   },
   {
    "duration": 0,
    "start_time": "2022-04-29T04:15:53.499Z"
   },
   {
    "duration": 0,
    "start_time": "2022-04-29T04:15:53.500Z"
   },
   {
    "duration": 0,
    "start_time": "2022-04-29T04:15:53.501Z"
   },
   {
    "duration": 0,
    "start_time": "2022-04-29T04:15:53.502Z"
   },
   {
    "duration": 0,
    "start_time": "2022-04-29T04:15:53.503Z"
   },
   {
    "duration": 0,
    "start_time": "2022-04-29T04:15:53.504Z"
   },
   {
    "duration": 0,
    "start_time": "2022-04-29T04:15:53.505Z"
   },
   {
    "duration": 0,
    "start_time": "2022-04-29T04:15:53.506Z"
   },
   {
    "duration": 0,
    "start_time": "2022-04-29T04:15:53.507Z"
   },
   {
    "duration": 0,
    "start_time": "2022-04-29T04:15:53.508Z"
   },
   {
    "duration": 0,
    "start_time": "2022-04-29T04:15:53.509Z"
   },
   {
    "duration": 9,
    "start_time": "2022-04-29T04:17:46.546Z"
   },
   {
    "duration": 1754,
    "start_time": "2022-04-29T04:18:34.903Z"
   },
   {
    "duration": 789,
    "start_time": "2022-04-29T04:18:36.659Z"
   },
   {
    "duration": 143,
    "start_time": "2022-04-29T04:18:37.450Z"
   },
   {
    "duration": 469,
    "start_time": "2022-04-29T04:18:37.595Z"
   },
   {
    "duration": 577,
    "start_time": "2022-04-29T04:18:38.065Z"
   },
   {
    "duration": 464,
    "start_time": "2022-04-29T04:18:38.644Z"
   },
   {
    "duration": 136,
    "start_time": "2022-04-29T04:18:39.110Z"
   },
   {
    "duration": 378,
    "start_time": "2022-04-29T04:18:39.248Z"
   },
   {
    "duration": 90,
    "start_time": "2022-04-29T04:18:39.627Z"
   },
   {
    "duration": 112,
    "start_time": "2022-04-29T04:18:39.720Z"
   },
   {
    "duration": 22,
    "start_time": "2022-04-29T04:18:39.833Z"
   },
   {
    "duration": 158,
    "start_time": "2022-04-29T04:18:39.856Z"
   },
   {
    "duration": 180,
    "start_time": "2022-04-29T04:18:40.016Z"
   },
   {
    "duration": 6,
    "start_time": "2022-04-29T04:18:40.198Z"
   },
   {
    "duration": 9,
    "start_time": "2022-04-29T04:18:40.206Z"
   },
   {
    "duration": 54,
    "start_time": "2022-04-29T04:18:40.216Z"
   },
   {
    "duration": 73,
    "start_time": "2022-04-29T04:18:40.271Z"
   },
   {
    "duration": 54,
    "start_time": "2022-04-29T04:18:40.346Z"
   },
   {
    "duration": 3,
    "start_time": "2022-04-29T04:18:40.402Z"
   },
   {
    "duration": 25,
    "start_time": "2022-04-29T04:18:40.407Z"
   },
   {
    "duration": 22,
    "start_time": "2022-04-29T04:18:40.434Z"
   },
   {
    "duration": 2274,
    "start_time": "2022-04-29T04:18:40.458Z"
   },
   {
    "duration": 6,
    "start_time": "2022-04-29T04:18:42.734Z"
   },
   {
    "duration": 7,
    "start_time": "2022-04-29T04:18:42.741Z"
   },
   {
    "duration": 966,
    "start_time": "2022-04-29T04:18:42.750Z"
   },
   {
    "duration": 146,
    "start_time": "2022-04-29T04:18:43.718Z"
   },
   {
    "duration": 53,
    "start_time": "2022-04-29T04:18:43.866Z"
   },
   {
    "duration": 137,
    "start_time": "2022-04-29T04:18:43.925Z"
   },
   {
    "duration": 129,
    "start_time": "2022-04-29T04:18:44.065Z"
   },
   {
    "duration": 147,
    "start_time": "2022-04-29T04:18:44.196Z"
   },
   {
    "duration": 128,
    "start_time": "2022-04-29T04:18:44.345Z"
   },
   {
    "duration": 63,
    "start_time": "2022-04-29T04:18:44.475Z"
   },
   {
    "duration": 10,
    "start_time": "2022-04-29T04:18:44.540Z"
   },
   {
    "duration": 5,
    "start_time": "2022-04-29T04:18:44.552Z"
   },
   {
    "duration": 85,
    "start_time": "2022-04-29T04:18:44.559Z"
   },
   {
    "duration": 5,
    "start_time": "2022-04-29T04:18:44.646Z"
   },
   {
    "duration": 49,
    "start_time": "2022-04-29T04:18:44.652Z"
   },
   {
    "duration": 6,
    "start_time": "2022-04-29T04:18:44.702Z"
   },
   {
    "duration": 18,
    "start_time": "2022-04-29T04:18:44.709Z"
   },
   {
    "duration": 9,
    "start_time": "2022-04-29T04:18:44.728Z"
   },
   {
    "duration": 161,
    "start_time": "2022-04-29T04:18:44.739Z"
   },
   {
    "duration": 45,
    "start_time": "2022-04-29T04:18:44.902Z"
   },
   {
    "duration": 46,
    "start_time": "2022-04-29T04:18:44.949Z"
   },
   {
    "duration": 5,
    "start_time": "2022-04-29T04:18:44.997Z"
   },
   {
    "duration": 28,
    "start_time": "2022-04-29T04:18:45.004Z"
   },
   {
    "duration": 35,
    "start_time": "2022-04-29T04:18:45.034Z"
   },
   {
    "duration": 36,
    "start_time": "2022-04-29T04:18:45.071Z"
   },
   {
    "duration": 110,
    "start_time": "2022-04-29T04:18:45.109Z"
   },
   {
    "duration": 10,
    "start_time": "2022-04-29T04:18:45.221Z"
   },
   {
    "duration": 96,
    "start_time": "2022-04-29T04:18:45.232Z"
   },
   {
    "duration": 6,
    "start_time": "2022-04-29T04:18:45.330Z"
   },
   {
    "duration": 76,
    "start_time": "2022-04-29T04:18:45.338Z"
   },
   {
    "duration": 6,
    "start_time": "2022-04-29T04:18:45.415Z"
   },
   {
    "duration": 37,
    "start_time": "2022-04-29T04:18:45.423Z"
   },
   {
    "duration": 5,
    "start_time": "2022-04-29T04:18:45.461Z"
   },
   {
    "duration": 68,
    "start_time": "2022-04-29T04:18:45.468Z"
   },
   {
    "duration": 63,
    "start_time": "2022-04-29T04:18:45.538Z"
   },
   {
    "duration": 140,
    "start_time": "2022-04-29T04:18:45.603Z"
   },
   {
    "duration": 119,
    "start_time": "2022-04-29T04:18:45.745Z"
   },
   {
    "duration": 0,
    "start_time": "2022-04-29T04:18:45.866Z"
   },
   {
    "duration": 0,
    "start_time": "2022-04-29T04:18:45.867Z"
   },
   {
    "duration": 0,
    "start_time": "2022-04-29T04:18:45.869Z"
   },
   {
    "duration": 0,
    "start_time": "2022-04-29T04:18:45.869Z"
   },
   {
    "duration": 0,
    "start_time": "2022-04-29T04:18:45.870Z"
   },
   {
    "duration": 0,
    "start_time": "2022-04-29T04:18:45.871Z"
   },
   {
    "duration": 0,
    "start_time": "2022-04-29T04:18:45.872Z"
   },
   {
    "duration": 0,
    "start_time": "2022-04-29T04:18:45.892Z"
   },
   {
    "duration": 0,
    "start_time": "2022-04-29T04:18:45.893Z"
   },
   {
    "duration": 0,
    "start_time": "2022-04-29T04:18:45.894Z"
   },
   {
    "duration": 0,
    "start_time": "2022-04-29T04:18:45.895Z"
   },
   {
    "duration": 0,
    "start_time": "2022-04-29T04:18:45.896Z"
   },
   {
    "duration": 0,
    "start_time": "2022-04-29T04:18:45.897Z"
   },
   {
    "duration": 0,
    "start_time": "2022-04-29T04:18:45.898Z"
   },
   {
    "duration": 0,
    "start_time": "2022-04-29T04:18:45.899Z"
   },
   {
    "duration": 0,
    "start_time": "2022-04-29T04:18:45.901Z"
   },
   {
    "duration": 0,
    "start_time": "2022-04-29T04:18:45.901Z"
   },
   {
    "duration": 0,
    "start_time": "2022-04-29T04:18:45.902Z"
   },
   {
    "duration": 0,
    "start_time": "2022-04-29T04:18:45.903Z"
   },
   {
    "duration": 0,
    "start_time": "2022-04-29T04:18:45.904Z"
   },
   {
    "duration": 0,
    "start_time": "2022-04-29T04:18:45.906Z"
   },
   {
    "duration": 0,
    "start_time": "2022-04-29T04:18:45.906Z"
   },
   {
    "duration": 1,
    "start_time": "2022-04-29T04:18:45.907Z"
   },
   {
    "duration": 0,
    "start_time": "2022-04-29T04:18:45.908Z"
   },
   {
    "duration": 0,
    "start_time": "2022-04-29T04:18:45.909Z"
   },
   {
    "duration": 0,
    "start_time": "2022-04-29T04:18:45.910Z"
   },
   {
    "duration": 0,
    "start_time": "2022-04-29T04:18:45.911Z"
   },
   {
    "duration": 0,
    "start_time": "2022-04-29T04:18:45.912Z"
   },
   {
    "duration": 0,
    "start_time": "2022-04-29T04:18:45.913Z"
   },
   {
    "duration": 0,
    "start_time": "2022-04-29T04:18:45.914Z"
   },
   {
    "duration": 0,
    "start_time": "2022-04-29T04:18:45.915Z"
   },
   {
    "duration": 3174,
    "start_time": "2022-04-29T04:19:28.469Z"
   },
   {
    "duration": 55,
    "start_time": "2022-04-29T04:19:35.441Z"
   },
   {
    "duration": 24,
    "start_time": "2022-04-29T04:19:45.849Z"
   },
   {
    "duration": 122,
    "start_time": "2022-04-29T04:19:47.057Z"
   },
   {
    "duration": 88,
    "start_time": "2022-04-29T04:20:17.157Z"
   },
   {
    "duration": 122,
    "start_time": "2022-04-29T04:20:20.325Z"
   },
   {
    "duration": 31,
    "start_time": "2022-04-29T04:25:16.295Z"
   },
   {
    "duration": 31,
    "start_time": "2022-04-29T04:25:17.319Z"
   },
   {
    "duration": 3085,
    "start_time": "2022-04-29T04:25:17.816Z"
   },
   {
    "duration": 23,
    "start_time": "2022-04-29T04:31:05.365Z"
   },
   {
    "duration": 128,
    "start_time": "2022-04-29T04:31:08.830Z"
   },
   {
    "duration": 1984,
    "start_time": "2022-04-29T04:31:35.286Z"
   },
   {
    "duration": 824,
    "start_time": "2022-04-29T04:31:37.272Z"
   },
   {
    "duration": 156,
    "start_time": "2022-04-29T04:31:38.097Z"
   },
   {
    "duration": 473,
    "start_time": "2022-04-29T04:31:38.255Z"
   },
   {
    "duration": 564,
    "start_time": "2022-04-29T04:31:38.730Z"
   },
   {
    "duration": 430,
    "start_time": "2022-04-29T04:31:39.296Z"
   },
   {
    "duration": 129,
    "start_time": "2022-04-29T04:31:39.728Z"
   },
   {
    "duration": 394,
    "start_time": "2022-04-29T04:31:39.859Z"
   },
   {
    "duration": 91,
    "start_time": "2022-04-29T04:31:40.254Z"
   },
   {
    "duration": 110,
    "start_time": "2022-04-29T04:31:40.347Z"
   },
   {
    "duration": 23,
    "start_time": "2022-04-29T04:31:40.458Z"
   },
   {
    "duration": 146,
    "start_time": "2022-04-29T04:31:40.492Z"
   },
   {
    "duration": 194,
    "start_time": "2022-04-29T04:31:40.640Z"
   },
   {
    "duration": 8,
    "start_time": "2022-04-29T04:31:40.836Z"
   },
   {
    "duration": 4,
    "start_time": "2022-04-29T04:31:40.845Z"
   },
   {
    "duration": 67,
    "start_time": "2022-04-29T04:31:40.851Z"
   },
   {
    "duration": 78,
    "start_time": "2022-04-29T04:31:40.920Z"
   },
   {
    "duration": 41,
    "start_time": "2022-04-29T04:31:41.000Z"
   },
   {
    "duration": 3,
    "start_time": "2022-04-29T04:31:41.043Z"
   },
   {
    "duration": 6,
    "start_time": "2022-04-29T04:31:41.048Z"
   },
   {
    "duration": 37,
    "start_time": "2022-04-29T04:31:41.056Z"
   },
   {
    "duration": 2439,
    "start_time": "2022-04-29T04:31:41.095Z"
   },
   {
    "duration": 5,
    "start_time": "2022-04-29T04:31:43.536Z"
   },
   {
    "duration": 7,
    "start_time": "2022-04-29T04:31:43.542Z"
   },
   {
    "duration": 1011,
    "start_time": "2022-04-29T04:31:43.551Z"
   },
   {
    "duration": 151,
    "start_time": "2022-04-29T04:31:44.564Z"
   },
   {
    "duration": 41,
    "start_time": "2022-04-29T04:31:44.716Z"
   },
   {
    "duration": 152,
    "start_time": "2022-04-29T04:31:44.762Z"
   },
   {
    "duration": 132,
    "start_time": "2022-04-29T04:31:44.915Z"
   },
   {
    "duration": 155,
    "start_time": "2022-04-29T04:31:45.049Z"
   },
   {
    "duration": 136,
    "start_time": "2022-04-29T04:31:45.206Z"
   },
   {
    "duration": 73,
    "start_time": "2022-04-29T04:31:45.344Z"
   },
   {
    "duration": 12,
    "start_time": "2022-04-29T04:31:45.419Z"
   },
   {
    "duration": 13,
    "start_time": "2022-04-29T04:31:45.433Z"
   },
   {
    "duration": 85,
    "start_time": "2022-04-29T04:31:45.448Z"
   },
   {
    "duration": 6,
    "start_time": "2022-04-29T04:31:45.535Z"
   },
   {
    "duration": 53,
    "start_time": "2022-04-29T04:31:45.543Z"
   },
   {
    "duration": 6,
    "start_time": "2022-04-29T04:31:45.598Z"
   },
   {
    "duration": 21,
    "start_time": "2022-04-29T04:31:45.606Z"
   },
   {
    "duration": 12,
    "start_time": "2022-04-29T04:31:45.629Z"
   },
   {
    "duration": 163,
    "start_time": "2022-04-29T04:31:45.643Z"
   },
   {
    "duration": 51,
    "start_time": "2022-04-29T04:31:45.808Z"
   },
   {
    "duration": 61,
    "start_time": "2022-04-29T04:31:45.861Z"
   },
   {
    "duration": 7,
    "start_time": "2022-04-29T04:31:45.924Z"
   },
   {
    "duration": 18,
    "start_time": "2022-04-29T04:31:45.933Z"
   },
   {
    "duration": 55,
    "start_time": "2022-04-29T04:31:45.953Z"
   },
   {
    "duration": 19,
    "start_time": "2022-04-29T04:31:46.009Z"
   },
   {
    "duration": 127,
    "start_time": "2022-04-29T04:31:46.031Z"
   },
   {
    "duration": 10,
    "start_time": "2022-04-29T04:31:46.160Z"
   },
   {
    "duration": 100,
    "start_time": "2022-04-29T04:31:46.172Z"
   },
   {
    "duration": 19,
    "start_time": "2022-04-29T04:31:46.274Z"
   },
   {
    "duration": 63,
    "start_time": "2022-04-29T04:31:46.295Z"
   },
   {
    "duration": 7,
    "start_time": "2022-04-29T04:31:46.360Z"
   },
   {
    "duration": 39,
    "start_time": "2022-04-29T04:31:46.393Z"
   },
   {
    "duration": 7,
    "start_time": "2022-04-29T04:31:46.434Z"
   },
   {
    "duration": 80,
    "start_time": "2022-04-29T04:31:46.443Z"
   },
   {
    "duration": 48,
    "start_time": "2022-04-29T04:31:46.525Z"
   },
   {
    "duration": 162,
    "start_time": "2022-04-29T04:31:46.575Z"
   },
   {
    "duration": 31,
    "start_time": "2022-04-29T04:31:46.739Z"
   },
   {
    "duration": 3072,
    "start_time": "2022-04-29T04:31:46.772Z"
   },
   {
    "duration": 160,
    "start_time": "2022-04-29T04:31:49.846Z"
   },
   {
    "duration": 48,
    "start_time": "2022-04-29T04:31:50.008Z"
   },
   {
    "duration": 136,
    "start_time": "2022-04-29T04:31:50.057Z"
   },
   {
    "duration": 0,
    "start_time": "2022-04-29T04:31:50.196Z"
   },
   {
    "duration": 0,
    "start_time": "2022-04-29T04:31:50.197Z"
   },
   {
    "duration": 0,
    "start_time": "2022-04-29T04:31:50.199Z"
   },
   {
    "duration": 0,
    "start_time": "2022-04-29T04:31:50.200Z"
   },
   {
    "duration": 0,
    "start_time": "2022-04-29T04:31:50.201Z"
   },
   {
    "duration": 0,
    "start_time": "2022-04-29T04:31:50.202Z"
   },
   {
    "duration": 0,
    "start_time": "2022-04-29T04:31:50.203Z"
   },
   {
    "duration": 0,
    "start_time": "2022-04-29T04:31:50.205Z"
   },
   {
    "duration": 0,
    "start_time": "2022-04-29T04:31:50.206Z"
   },
   {
    "duration": 0,
    "start_time": "2022-04-29T04:31:50.207Z"
   },
   {
    "duration": 0,
    "start_time": "2022-04-29T04:31:50.207Z"
   },
   {
    "duration": 0,
    "start_time": "2022-04-29T04:31:50.208Z"
   },
   {
    "duration": 0,
    "start_time": "2022-04-29T04:31:50.209Z"
   },
   {
    "duration": 0,
    "start_time": "2022-04-29T04:31:50.210Z"
   },
   {
    "duration": 0,
    "start_time": "2022-04-29T04:31:50.211Z"
   },
   {
    "duration": 0,
    "start_time": "2022-04-29T04:31:50.212Z"
   },
   {
    "duration": 0,
    "start_time": "2022-04-29T04:31:50.213Z"
   },
   {
    "duration": 0,
    "start_time": "2022-04-29T04:31:50.214Z"
   },
   {
    "duration": 0,
    "start_time": "2022-04-29T04:31:50.215Z"
   },
   {
    "duration": 0,
    "start_time": "2022-04-29T04:31:50.216Z"
   },
   {
    "duration": 0,
    "start_time": "2022-04-29T04:31:50.217Z"
   },
   {
    "duration": 0,
    "start_time": "2022-04-29T04:31:50.218Z"
   },
   {
    "duration": 0,
    "start_time": "2022-04-29T04:31:50.219Z"
   },
   {
    "duration": 0,
    "start_time": "2022-04-29T04:31:50.220Z"
   },
   {
    "duration": 0,
    "start_time": "2022-04-29T04:31:50.221Z"
   },
   {
    "duration": 0,
    "start_time": "2022-04-29T04:31:50.222Z"
   },
   {
    "duration": 0,
    "start_time": "2022-04-29T04:31:50.222Z"
   },
   {
    "duration": 24,
    "start_time": "2022-04-29T04:31:58.950Z"
   },
   {
    "duration": 128,
    "start_time": "2022-04-29T04:31:59.842Z"
   },
   {
    "duration": 102,
    "start_time": "2022-04-29T04:32:29.238Z"
   },
   {
    "duration": 126,
    "start_time": "2022-04-29T04:32:31.902Z"
   },
   {
    "duration": 116,
    "start_time": "2022-04-29T04:34:15.339Z"
   },
   {
    "duration": 208,
    "start_time": "2022-04-29T04:34:17.976Z"
   },
   {
    "duration": 2082,
    "start_time": "2022-04-29T04:34:25.892Z"
   },
   {
    "duration": 229,
    "start_time": "2022-04-29T04:34:29.643Z"
   },
   {
    "duration": 220,
    "start_time": "2022-04-29T04:34:43.511Z"
   },
   {
    "duration": 218,
    "start_time": "2022-04-29T04:34:54.656Z"
   },
   {
    "duration": 130,
    "start_time": "2022-04-29T04:35:13.072Z"
   },
   {
    "duration": 131,
    "start_time": "2022-04-29T04:35:16.544Z"
   },
   {
    "duration": 9,
    "start_time": "2022-04-29T04:35:35.731Z"
   },
   {
    "duration": 14,
    "start_time": "2022-04-29T04:35:48.684Z"
   },
   {
    "duration": 145,
    "start_time": "2022-04-29T04:36:27.201Z"
   },
   {
    "duration": 7,
    "start_time": "2022-04-29T04:36:51.589Z"
   },
   {
    "duration": 12,
    "start_time": "2022-04-29T04:36:59.341Z"
   },
   {
    "duration": 184,
    "start_time": "2022-04-29T04:37:33.172Z"
   },
   {
    "duration": 139,
    "start_time": "2022-04-29T04:37:36.769Z"
   },
   {
    "duration": 138,
    "start_time": "2022-04-29T04:40:07.337Z"
   },
   {
    "duration": 131,
    "start_time": "2022-04-29T04:40:10.378Z"
   },
   {
    "duration": 13,
    "start_time": "2022-04-29T04:40:29.454Z"
   },
   {
    "duration": 12,
    "start_time": "2022-04-29T04:40:42.023Z"
   },
   {
    "duration": 16,
    "start_time": "2022-04-29T04:40:49.966Z"
   },
   {
    "duration": 12,
    "start_time": "2022-04-29T04:41:40.571Z"
   },
   {
    "duration": 24,
    "start_time": "2022-04-29T04:46:03.449Z"
   },
   {
    "duration": 13,
    "start_time": "2022-04-29T04:46:05.113Z"
   },
   {
    "duration": 6,
    "start_time": "2022-04-29T04:46:23.269Z"
   },
   {
    "duration": 16,
    "start_time": "2022-04-29T04:46:24.185Z"
   },
   {
    "duration": 2965,
    "start_time": "2022-04-29T04:47:35.598Z"
   },
   {
    "duration": 129,
    "start_time": "2022-04-29T04:47:41.230Z"
   },
   {
    "duration": 208,
    "start_time": "2022-04-29T04:47:57.234Z"
   },
   {
    "duration": 226,
    "start_time": "2022-04-29T04:47:59.394Z"
   },
   {
    "duration": 51,
    "start_time": "2022-04-29T04:52:56.489Z"
   },
   {
    "duration": 740,
    "start_time": "2022-04-29T04:52:59.881Z"
   },
   {
    "duration": 17,
    "start_time": "2022-04-29T04:53:14.745Z"
   },
   {
    "duration": 22,
    "start_time": "2022-04-29T04:53:32.945Z"
   },
   {
    "duration": 87,
    "start_time": "2022-04-29T04:53:35.749Z"
   },
   {
    "duration": 1727,
    "start_time": "2022-04-29T04:54:16.015Z"
   },
   {
    "duration": 847,
    "start_time": "2022-04-29T04:54:17.744Z"
   },
   {
    "duration": 163,
    "start_time": "2022-04-29T04:54:18.596Z"
   },
   {
    "duration": 632,
    "start_time": "2022-04-29T04:54:18.761Z"
   },
   {
    "duration": 597,
    "start_time": "2022-04-29T04:54:19.395Z"
   },
   {
    "duration": 492,
    "start_time": "2022-04-29T04:54:19.994Z"
   },
   {
    "duration": 132,
    "start_time": "2022-04-29T04:54:20.487Z"
   },
   {
    "duration": 399,
    "start_time": "2022-04-29T04:54:20.621Z"
   },
   {
    "duration": 98,
    "start_time": "2022-04-29T04:54:21.023Z"
   },
   {
    "duration": 122,
    "start_time": "2022-04-29T04:54:21.122Z"
   },
   {
    "duration": 23,
    "start_time": "2022-04-29T04:54:21.246Z"
   },
   {
    "duration": 173,
    "start_time": "2022-04-29T04:54:21.271Z"
   },
   {
    "duration": 192,
    "start_time": "2022-04-29T04:54:21.446Z"
   },
   {
    "duration": 8,
    "start_time": "2022-04-29T04:54:21.639Z"
   },
   {
    "duration": 10,
    "start_time": "2022-04-29T04:54:21.648Z"
   },
   {
    "duration": 69,
    "start_time": "2022-04-29T04:54:21.659Z"
   },
   {
    "duration": 79,
    "start_time": "2022-04-29T04:54:21.730Z"
   },
   {
    "duration": 40,
    "start_time": "2022-04-29T04:54:21.811Z"
   },
   {
    "duration": 4,
    "start_time": "2022-04-29T04:54:21.853Z"
   },
   {
    "duration": 5,
    "start_time": "2022-04-29T04:54:21.858Z"
   },
   {
    "duration": 28,
    "start_time": "2022-04-29T04:54:21.865Z"
   },
   {
    "duration": 2431,
    "start_time": "2022-04-29T04:54:21.894Z"
   },
   {
    "duration": 5,
    "start_time": "2022-04-29T04:54:24.326Z"
   },
   {
    "duration": 9,
    "start_time": "2022-04-29T04:54:24.333Z"
   },
   {
    "duration": 1025,
    "start_time": "2022-04-29T04:54:24.344Z"
   },
   {
    "duration": 151,
    "start_time": "2022-04-29T04:54:25.371Z"
   },
   {
    "duration": 43,
    "start_time": "2022-04-29T04:54:25.526Z"
   },
   {
    "duration": 156,
    "start_time": "2022-04-29T04:54:25.571Z"
   },
   {
    "duration": 138,
    "start_time": "2022-04-29T04:54:25.729Z"
   },
   {
    "duration": 160,
    "start_time": "2022-04-29T04:54:25.869Z"
   },
   {
    "duration": 139,
    "start_time": "2022-04-29T04:54:26.031Z"
   },
   {
    "duration": 73,
    "start_time": "2022-04-29T04:54:26.172Z"
   },
   {
    "duration": 13,
    "start_time": "2022-04-29T04:54:26.247Z"
   },
   {
    "duration": 12,
    "start_time": "2022-04-29T04:54:26.261Z"
   },
   {
    "duration": 66,
    "start_time": "2022-04-29T04:54:26.293Z"
   },
   {
    "duration": 7,
    "start_time": "2022-04-29T04:54:26.361Z"
   },
   {
    "duration": 57,
    "start_time": "2022-04-29T04:54:26.370Z"
   },
   {
    "duration": 7,
    "start_time": "2022-04-29T04:54:26.429Z"
   },
   {
    "duration": 16,
    "start_time": "2022-04-29T04:54:26.438Z"
   },
   {
    "duration": 46,
    "start_time": "2022-04-29T04:54:26.456Z"
   },
   {
    "duration": 162,
    "start_time": "2022-04-29T04:54:26.504Z"
   },
   {
    "duration": 58,
    "start_time": "2022-04-29T04:54:26.668Z"
   },
   {
    "duration": 34,
    "start_time": "2022-04-29T04:54:26.728Z"
   },
   {
    "duration": 6,
    "start_time": "2022-04-29T04:54:26.764Z"
   },
   {
    "duration": 33,
    "start_time": "2022-04-29T04:54:26.771Z"
   },
   {
    "duration": 36,
    "start_time": "2022-04-29T04:54:26.806Z"
   },
   {
    "duration": 57,
    "start_time": "2022-04-29T04:54:26.844Z"
   },
   {
    "duration": 118,
    "start_time": "2022-04-29T04:54:26.903Z"
   },
   {
    "duration": 11,
    "start_time": "2022-04-29T04:54:27.023Z"
   },
   {
    "duration": 110,
    "start_time": "2022-04-29T04:54:27.036Z"
   },
   {
    "duration": 7,
    "start_time": "2022-04-29T04:54:27.148Z"
   },
   {
    "duration": 84,
    "start_time": "2022-04-29T04:54:27.157Z"
   },
   {
    "duration": 7,
    "start_time": "2022-04-29T04:54:27.243Z"
   },
   {
    "duration": 61,
    "start_time": "2022-04-29T04:54:27.252Z"
   },
   {
    "duration": 6,
    "start_time": "2022-04-29T04:54:27.315Z"
   },
   {
    "duration": 48,
    "start_time": "2022-04-29T04:54:27.324Z"
   },
   {
    "duration": 49,
    "start_time": "2022-04-29T04:54:27.394Z"
   },
   {
    "duration": 163,
    "start_time": "2022-04-29T04:54:27.445Z"
   },
   {
    "duration": 132,
    "start_time": "2022-04-29T04:54:27.611Z"
   },
   {
    "duration": 0,
    "start_time": "2022-04-29T04:54:27.746Z"
   },
   {
    "duration": 0,
    "start_time": "2022-04-29T04:54:27.747Z"
   },
   {
    "duration": 0,
    "start_time": "2022-04-29T04:54:27.749Z"
   },
   {
    "duration": 0,
    "start_time": "2022-04-29T04:54:27.750Z"
   },
   {
    "duration": 0,
    "start_time": "2022-04-29T04:54:27.752Z"
   },
   {
    "duration": 0,
    "start_time": "2022-04-29T04:54:27.753Z"
   },
   {
    "duration": 0,
    "start_time": "2022-04-29T04:54:27.755Z"
   },
   {
    "duration": 0,
    "start_time": "2022-04-29T04:54:27.756Z"
   },
   {
    "duration": 1,
    "start_time": "2022-04-29T04:54:27.757Z"
   },
   {
    "duration": 0,
    "start_time": "2022-04-29T04:54:27.759Z"
   },
   {
    "duration": 0,
    "start_time": "2022-04-29T04:54:27.760Z"
   },
   {
    "duration": 0,
    "start_time": "2022-04-29T04:54:27.762Z"
   },
   {
    "duration": 0,
    "start_time": "2022-04-29T04:54:27.793Z"
   },
   {
    "duration": 0,
    "start_time": "2022-04-29T04:54:27.795Z"
   },
   {
    "duration": 0,
    "start_time": "2022-04-29T04:54:27.796Z"
   },
   {
    "duration": 0,
    "start_time": "2022-04-29T04:54:27.799Z"
   },
   {
    "duration": 0,
    "start_time": "2022-04-29T04:54:27.800Z"
   },
   {
    "duration": 0,
    "start_time": "2022-04-29T04:54:27.802Z"
   },
   {
    "duration": 0,
    "start_time": "2022-04-29T04:54:27.803Z"
   },
   {
    "duration": 0,
    "start_time": "2022-04-29T04:54:27.805Z"
   },
   {
    "duration": 0,
    "start_time": "2022-04-29T04:54:27.806Z"
   },
   {
    "duration": 0,
    "start_time": "2022-04-29T04:54:27.808Z"
   },
   {
    "duration": 0,
    "start_time": "2022-04-29T04:54:27.809Z"
   },
   {
    "duration": 0,
    "start_time": "2022-04-29T04:54:27.810Z"
   },
   {
    "duration": 0,
    "start_time": "2022-04-29T04:54:27.812Z"
   },
   {
    "duration": 0,
    "start_time": "2022-04-29T04:54:27.814Z"
   },
   {
    "duration": 0,
    "start_time": "2022-04-29T04:54:27.815Z"
   },
   {
    "duration": 0,
    "start_time": "2022-04-29T04:54:27.817Z"
   },
   {
    "duration": 0,
    "start_time": "2022-04-29T04:54:27.818Z"
   },
   {
    "duration": 0,
    "start_time": "2022-04-29T04:54:27.819Z"
   },
   {
    "duration": 0,
    "start_time": "2022-04-29T04:54:27.821Z"
   },
   {
    "duration": 0,
    "start_time": "2022-04-29T04:54:27.822Z"
   },
   {
    "duration": 0,
    "start_time": "2022-04-29T04:54:27.824Z"
   },
   {
    "duration": 0,
    "start_time": "2022-04-29T04:54:27.825Z"
   },
   {
    "duration": 0,
    "start_time": "2022-04-29T04:54:27.827Z"
   },
   {
    "duration": 0,
    "start_time": "2022-04-29T04:54:27.828Z"
   },
   {
    "duration": 0,
    "start_time": "2022-04-29T04:54:27.829Z"
   },
   {
    "duration": 54,
    "start_time": "2022-04-29T04:54:45.423Z"
   },
   {
    "duration": 761,
    "start_time": "2022-04-29T04:54:48.535Z"
   },
   {
    "duration": 24,
    "start_time": "2022-04-29T04:54:52.619Z"
   },
   {
    "duration": 90,
    "start_time": "2022-04-29T04:54:55.035Z"
   },
   {
    "duration": 42,
    "start_time": "2022-04-29T04:55:06.008Z"
   },
   {
    "duration": 23,
    "start_time": "2022-04-29T04:55:08.034Z"
   },
   {
    "duration": 55,
    "start_time": "2022-04-29T04:55:13.879Z"
   },
   {
    "duration": 87,
    "start_time": "2022-04-29T04:55:16.215Z"
   },
   {
    "duration": 20,
    "start_time": "2022-04-29T04:55:35.159Z"
   },
   {
    "duration": 65,
    "start_time": "2022-04-29T04:55:43.455Z"
   },
   {
    "duration": 5,
    "start_time": "2022-04-29T04:55:45.231Z"
   },
   {
    "duration": 955,
    "start_time": "2022-04-29T04:55:49.908Z"
   },
   {
    "duration": 703,
    "start_time": "2022-04-29T04:55:55.540Z"
   },
   {
    "duration": 4,
    "start_time": "2022-04-29T04:55:59.619Z"
   },
   {
    "duration": 186,
    "start_time": "2022-04-29T04:56:00.660Z"
   },
   {
    "duration": 32,
    "start_time": "2022-04-29T04:56:06.620Z"
   },
   {
    "duration": 18293,
    "start_time": "2022-04-29T04:56:17.701Z"
   },
   {
    "duration": 298,
    "start_time": "2022-04-29T04:56:35.996Z"
   },
   {
    "duration": 1808,
    "start_time": "2022-04-29T04:57:14.069Z"
   },
   {
    "duration": 827,
    "start_time": "2022-04-29T04:57:15.880Z"
   },
   {
    "duration": 145,
    "start_time": "2022-04-29T04:57:16.709Z"
   },
   {
    "duration": 485,
    "start_time": "2022-04-29T04:57:16.856Z"
   },
   {
    "duration": 580,
    "start_time": "2022-04-29T04:57:17.344Z"
   },
   {
    "duration": 448,
    "start_time": "2022-04-29T04:57:17.925Z"
   },
   {
    "duration": 133,
    "start_time": "2022-04-29T04:57:18.375Z"
   },
   {
    "duration": 390,
    "start_time": "2022-04-29T04:57:18.510Z"
   },
   {
    "duration": 95,
    "start_time": "2022-04-29T04:57:18.902Z"
   },
   {
    "duration": 118,
    "start_time": "2022-04-29T04:57:18.999Z"
   },
   {
    "duration": 23,
    "start_time": "2022-04-29T04:57:19.119Z"
   },
   {
    "duration": 163,
    "start_time": "2022-04-29T04:57:19.143Z"
   },
   {
    "duration": 178,
    "start_time": "2022-04-29T04:57:19.308Z"
   },
   {
    "duration": 7,
    "start_time": "2022-04-29T04:57:19.489Z"
   },
   {
    "duration": 4,
    "start_time": "2022-04-29T04:57:19.498Z"
   },
   {
    "duration": 54,
    "start_time": "2022-04-29T04:57:19.503Z"
   },
   {
    "duration": 93,
    "start_time": "2022-04-29T04:57:19.559Z"
   },
   {
    "duration": 54,
    "start_time": "2022-04-29T04:57:19.654Z"
   },
   {
    "duration": 3,
    "start_time": "2022-04-29T04:57:19.710Z"
   },
   {
    "duration": 8,
    "start_time": "2022-04-29T04:57:19.715Z"
   },
   {
    "duration": 7,
    "start_time": "2022-04-29T04:57:19.724Z"
   },
   {
    "duration": 2317,
    "start_time": "2022-04-29T04:57:19.733Z"
   },
   {
    "duration": 5,
    "start_time": "2022-04-29T04:57:22.051Z"
   },
   {
    "duration": 7,
    "start_time": "2022-04-29T04:57:22.057Z"
   },
   {
    "duration": 998,
    "start_time": "2022-04-29T04:57:22.065Z"
   },
   {
    "duration": 143,
    "start_time": "2022-04-29T04:57:23.064Z"
   },
   {
    "duration": 42,
    "start_time": "2022-04-29T04:57:23.208Z"
   },
   {
    "duration": 144,
    "start_time": "2022-04-29T04:57:23.251Z"
   },
   {
    "duration": 132,
    "start_time": "2022-04-29T04:57:23.397Z"
   },
   {
    "duration": 146,
    "start_time": "2022-04-29T04:57:23.531Z"
   },
   {
    "duration": 143,
    "start_time": "2022-04-29T04:57:23.678Z"
   },
   {
    "duration": 57,
    "start_time": "2022-04-29T04:57:23.823Z"
   },
   {
    "duration": 11,
    "start_time": "2022-04-29T04:57:23.893Z"
   },
   {
    "duration": 8,
    "start_time": "2022-04-29T04:57:23.906Z"
   },
   {
    "duration": 81,
    "start_time": "2022-04-29T04:57:23.915Z"
   },
   {
    "duration": 5,
    "start_time": "2022-04-29T04:57:23.998Z"
   },
   {
    "duration": 41,
    "start_time": "2022-04-29T04:57:24.005Z"
   },
   {
    "duration": 4,
    "start_time": "2022-04-29T04:57:24.048Z"
   },
   {
    "duration": 40,
    "start_time": "2022-04-29T04:57:24.054Z"
   },
   {
    "duration": 9,
    "start_time": "2022-04-29T04:57:24.096Z"
   },
   {
    "duration": 154,
    "start_time": "2022-04-29T04:57:24.110Z"
   },
   {
    "duration": 54,
    "start_time": "2022-04-29T04:57:24.266Z"
   },
   {
    "duration": 31,
    "start_time": "2022-04-29T04:57:24.322Z"
   },
   {
    "duration": 5,
    "start_time": "2022-04-29T04:57:24.355Z"
   },
   {
    "duration": 35,
    "start_time": "2022-04-29T04:57:24.361Z"
   },
   {
    "duration": 35,
    "start_time": "2022-04-29T04:57:24.398Z"
   },
   {
    "duration": 18,
    "start_time": "2022-04-29T04:57:24.434Z"
   },
   {
    "duration": 117,
    "start_time": "2022-04-29T04:57:24.453Z"
   },
   {
    "duration": 27,
    "start_time": "2022-04-29T04:57:24.572Z"
   },
   {
    "duration": 80,
    "start_time": "2022-04-29T04:57:24.601Z"
   },
   {
    "duration": 6,
    "start_time": "2022-04-29T04:57:24.693Z"
   },
   {
    "duration": 62,
    "start_time": "2022-04-29T04:57:24.700Z"
   },
   {
    "duration": 6,
    "start_time": "2022-04-29T04:57:24.763Z"
   },
   {
    "duration": 36,
    "start_time": "2022-04-29T04:57:24.793Z"
   },
   {
    "duration": 6,
    "start_time": "2022-04-29T04:57:24.831Z"
   },
   {
    "duration": 74,
    "start_time": "2022-04-29T04:57:24.838Z"
   },
   {
    "duration": 48,
    "start_time": "2022-04-29T04:57:24.914Z"
   },
   {
    "duration": 147,
    "start_time": "2022-04-29T04:57:24.964Z"
   },
   {
    "duration": 53,
    "start_time": "2022-04-29T04:57:25.112Z"
   },
   {
    "duration": 733,
    "start_time": "2022-04-29T04:57:25.166Z"
   },
   {
    "duration": 147,
    "start_time": "2022-04-29T04:57:25.900Z"
   },
   {
    "duration": 121,
    "start_time": "2022-04-29T04:57:26.048Z"
   },
   {
    "duration": 0,
    "start_time": "2022-04-29T04:57:26.170Z"
   },
   {
    "duration": 0,
    "start_time": "2022-04-29T04:57:26.172Z"
   },
   {
    "duration": 0,
    "start_time": "2022-04-29T04:57:26.173Z"
   },
   {
    "duration": 0,
    "start_time": "2022-04-29T04:57:26.174Z"
   },
   {
    "duration": 0,
    "start_time": "2022-04-29T04:57:26.175Z"
   },
   {
    "duration": 0,
    "start_time": "2022-04-29T04:57:26.176Z"
   },
   {
    "duration": 0,
    "start_time": "2022-04-29T04:57:26.177Z"
   },
   {
    "duration": 0,
    "start_time": "2022-04-29T04:57:26.192Z"
   },
   {
    "duration": 0,
    "start_time": "2022-04-29T04:57:26.194Z"
   },
   {
    "duration": 0,
    "start_time": "2022-04-29T04:57:26.195Z"
   },
   {
    "duration": 0,
    "start_time": "2022-04-29T04:57:26.196Z"
   },
   {
    "duration": 0,
    "start_time": "2022-04-29T04:57:26.197Z"
   },
   {
    "duration": 0,
    "start_time": "2022-04-29T04:57:26.198Z"
   },
   {
    "duration": 0,
    "start_time": "2022-04-29T04:57:26.199Z"
   },
   {
    "duration": 0,
    "start_time": "2022-04-29T04:57:26.200Z"
   },
   {
    "duration": 0,
    "start_time": "2022-04-29T04:57:26.201Z"
   },
   {
    "duration": 0,
    "start_time": "2022-04-29T04:57:26.202Z"
   },
   {
    "duration": 0,
    "start_time": "2022-04-29T04:57:26.203Z"
   },
   {
    "duration": 0,
    "start_time": "2022-04-29T04:57:26.204Z"
   },
   {
    "duration": 0,
    "start_time": "2022-04-29T04:57:26.205Z"
   },
   {
    "duration": 0,
    "start_time": "2022-04-29T04:57:26.206Z"
   },
   {
    "duration": 0,
    "start_time": "2022-04-29T04:57:26.207Z"
   },
   {
    "duration": 0,
    "start_time": "2022-04-29T04:57:26.208Z"
   },
   {
    "duration": 0,
    "start_time": "2022-04-29T04:57:26.209Z"
   },
   {
    "duration": 0,
    "start_time": "2022-04-29T04:57:26.210Z"
   },
   {
    "duration": 0,
    "start_time": "2022-04-29T04:57:26.211Z"
   },
   {
    "duration": 0,
    "start_time": "2022-04-29T04:57:26.212Z"
   },
   {
    "duration": 0,
    "start_time": "2022-04-29T04:57:26.213Z"
   },
   {
    "duration": 0,
    "start_time": "2022-04-29T04:57:26.214Z"
   },
   {
    "duration": 0,
    "start_time": "2022-04-29T04:57:26.215Z"
   },
   {
    "duration": 0,
    "start_time": "2022-04-29T04:57:26.216Z"
   },
   {
    "duration": 0,
    "start_time": "2022-04-29T04:57:26.217Z"
   },
   {
    "duration": 0,
    "start_time": "2022-04-29T04:57:26.218Z"
   },
   {
    "duration": 0,
    "start_time": "2022-04-29T04:57:26.219Z"
   },
   {
    "duration": 23,
    "start_time": "2022-04-29T04:57:46.303Z"
   },
   {
    "duration": 87,
    "start_time": "2022-04-29T04:57:48.635Z"
   },
   {
    "duration": 67,
    "start_time": "2022-04-29T04:57:52.303Z"
   },
   {
    "duration": 4,
    "start_time": "2022-04-29T04:57:55.407Z"
   },
   {
    "duration": 4,
    "start_time": "2022-04-29T04:57:56.946Z"
   },
   {
    "duration": 852,
    "start_time": "2022-04-29T04:57:59.179Z"
   },
   {
    "duration": 18,
    "start_time": "2022-04-29T04:58:04.107Z"
   },
   {
    "duration": 564,
    "start_time": "2022-04-29T04:58:07.339Z"
   },
   {
    "duration": 4,
    "start_time": "2022-04-29T04:58:10.290Z"
   },
   {
    "duration": 178,
    "start_time": "2022-04-29T04:58:13.331Z"
   },
   {
    "duration": 31,
    "start_time": "2022-04-29T04:58:17.419Z"
   },
   {
    "duration": 4,
    "start_time": "2022-04-29T04:58:26.699Z"
   },
   {
    "duration": 4,
    "start_time": "2022-04-29T04:58:28.831Z"
   },
   {
    "duration": 16972,
    "start_time": "2022-04-29T04:58:32.828Z"
   },
   {
    "duration": 391,
    "start_time": "2022-04-29T04:58:49.803Z"
   },
   {
    "duration": 1759,
    "start_time": "2022-04-29T04:59:53.352Z"
   },
   {
    "duration": 800,
    "start_time": "2022-04-29T04:59:55.113Z"
   },
   {
    "duration": 132,
    "start_time": "2022-04-29T04:59:55.915Z"
   },
   {
    "duration": 466,
    "start_time": "2022-04-29T04:59:56.049Z"
   },
   {
    "duration": 554,
    "start_time": "2022-04-29T04:59:56.517Z"
   },
   {
    "duration": 453,
    "start_time": "2022-04-29T04:59:57.073Z"
   },
   {
    "duration": 134,
    "start_time": "2022-04-29T04:59:57.527Z"
   },
   {
    "duration": 381,
    "start_time": "2022-04-29T04:59:57.663Z"
   },
   {
    "duration": 93,
    "start_time": "2022-04-29T04:59:58.045Z"
   },
   {
    "duration": 116,
    "start_time": "2022-04-29T04:59:58.141Z"
   },
   {
    "duration": 35,
    "start_time": "2022-04-29T04:59:58.259Z"
   },
   {
    "duration": 143,
    "start_time": "2022-04-29T04:59:58.295Z"
   },
   {
    "duration": 178,
    "start_time": "2022-04-29T04:59:58.440Z"
   },
   {
    "duration": 8,
    "start_time": "2022-04-29T04:59:58.619Z"
   },
   {
    "duration": 5,
    "start_time": "2022-04-29T04:59:58.628Z"
   },
   {
    "duration": 68,
    "start_time": "2022-04-29T04:59:58.634Z"
   },
   {
    "duration": 68,
    "start_time": "2022-04-29T04:59:58.704Z"
   },
   {
    "duration": 56,
    "start_time": "2022-04-29T04:59:58.773Z"
   },
   {
    "duration": 3,
    "start_time": "2022-04-29T04:59:58.831Z"
   },
   {
    "duration": 5,
    "start_time": "2022-04-29T04:59:58.836Z"
   },
   {
    "duration": 5,
    "start_time": "2022-04-29T04:59:58.843Z"
   },
   {
    "duration": 2309,
    "start_time": "2022-04-29T04:59:58.849Z"
   },
   {
    "duration": 5,
    "start_time": "2022-04-29T05:00:01.160Z"
   },
   {
    "duration": 13,
    "start_time": "2022-04-29T05:00:01.167Z"
   },
   {
    "duration": 1019,
    "start_time": "2022-04-29T05:00:01.192Z"
   },
   {
    "duration": 153,
    "start_time": "2022-04-29T05:00:02.212Z"
   },
   {
    "duration": 57,
    "start_time": "2022-04-29T05:00:02.367Z"
   },
   {
    "duration": 141,
    "start_time": "2022-04-29T05:00:02.429Z"
   },
   {
    "duration": 137,
    "start_time": "2022-04-29T05:00:02.572Z"
   },
   {
    "duration": 151,
    "start_time": "2022-04-29T05:00:02.711Z"
   },
   {
    "duration": 140,
    "start_time": "2022-04-29T05:00:02.863Z"
   },
   {
    "duration": 57,
    "start_time": "2022-04-29T05:00:03.005Z"
   },
   {
    "duration": 28,
    "start_time": "2022-04-29T05:00:03.064Z"
   },
   {
    "duration": 6,
    "start_time": "2022-04-29T05:00:03.094Z"
   },
   {
    "duration": 63,
    "start_time": "2022-04-29T05:00:03.101Z"
   },
   {
    "duration": 27,
    "start_time": "2022-04-29T05:00:03.166Z"
   },
   {
    "duration": 37,
    "start_time": "2022-04-29T05:00:03.195Z"
   },
   {
    "duration": 5,
    "start_time": "2022-04-29T05:00:03.233Z"
   },
   {
    "duration": 15,
    "start_time": "2022-04-29T05:00:03.240Z"
   },
   {
    "duration": 9,
    "start_time": "2022-04-29T05:00:03.256Z"
   },
   {
    "duration": 165,
    "start_time": "2022-04-29T05:00:03.266Z"
   },
   {
    "duration": 60,
    "start_time": "2022-04-29T05:00:03.433Z"
   },
   {
    "duration": 32,
    "start_time": "2022-04-29T05:00:03.495Z"
   },
   {
    "duration": 5,
    "start_time": "2022-04-29T05:00:03.529Z"
   },
   {
    "duration": 14,
    "start_time": "2022-04-29T05:00:03.536Z"
   },
   {
    "duration": 63,
    "start_time": "2022-04-29T05:00:03.552Z"
   },
   {
    "duration": 17,
    "start_time": "2022-04-29T05:00:03.617Z"
   },
   {
    "duration": 120,
    "start_time": "2022-04-29T05:00:03.635Z"
   },
   {
    "duration": 10,
    "start_time": "2022-04-29T05:00:03.757Z"
   },
   {
    "duration": 101,
    "start_time": "2022-04-29T05:00:03.769Z"
   },
   {
    "duration": 7,
    "start_time": "2022-04-29T05:00:03.872Z"
   },
   {
    "duration": 76,
    "start_time": "2022-04-29T05:00:03.880Z"
   },
   {
    "duration": 7,
    "start_time": "2022-04-29T05:00:03.957Z"
   },
   {
    "duration": 59,
    "start_time": "2022-04-29T05:00:03.966Z"
   },
   {
    "duration": 7,
    "start_time": "2022-04-29T05:00:04.027Z"
   },
   {
    "duration": 84,
    "start_time": "2022-04-29T05:00:04.036Z"
   },
   {
    "duration": 50,
    "start_time": "2022-04-29T05:00:04.122Z"
   },
   {
    "duration": 163,
    "start_time": "2022-04-29T05:00:04.174Z"
   },
   {
    "duration": 76,
    "start_time": "2022-04-29T05:00:04.339Z"
   },
   {
    "duration": 861,
    "start_time": "2022-04-29T05:00:04.416Z"
   },
   {
    "duration": 170,
    "start_time": "2022-04-29T05:00:05.279Z"
   },
   {
    "duration": 25,
    "start_time": "2022-04-29T05:00:05.451Z"
   },
   {
    "duration": 118,
    "start_time": "2022-04-29T05:00:05.478Z"
   },
   {
    "duration": 249,
    "start_time": "2022-04-29T05:00:05.598Z"
   },
   {
    "duration": 244,
    "start_time": "2022-04-29T05:00:05.850Z"
   },
   {
    "duration": 152,
    "start_time": "2022-04-29T05:00:06.096Z"
   },
   {
    "duration": 5,
    "start_time": "2022-04-29T05:00:06.250Z"
   },
   {
    "duration": 9,
    "start_time": "2022-04-29T05:00:06.257Z"
   },
   {
    "duration": 84,
    "start_time": "2022-04-29T05:00:06.268Z"
   },
   {
    "duration": 5,
    "start_time": "2022-04-29T05:00:06.353Z"
   },
   {
    "duration": 32,
    "start_time": "2022-04-29T05:00:06.360Z"
   },
   {
    "duration": 4,
    "start_time": "2022-04-29T05:00:06.394Z"
   },
   {
    "duration": 793,
    "start_time": "2022-04-29T05:00:06.400Z"
   },
   {
    "duration": 17,
    "start_time": "2022-04-29T05:00:07.195Z"
   },
   {
    "duration": 585,
    "start_time": "2022-04-29T05:00:07.214Z"
   },
   {
    "duration": 4,
    "start_time": "2022-04-29T05:00:07.800Z"
   },
   {
    "duration": 192,
    "start_time": "2022-04-29T05:00:07.806Z"
   },
   {
    "duration": 29,
    "start_time": "2022-04-29T05:00:07.999Z"
   },
   {
    "duration": 8413,
    "start_time": "2022-04-29T05:00:08.030Z"
   },
   {
    "duration": 16351,
    "start_time": "2022-04-29T05:00:16.445Z"
   },
   {
    "duration": 205,
    "start_time": "2022-04-29T05:00:32.798Z"
   },
   {
    "duration": 5,
    "start_time": "2022-04-29T05:00:33.096Z"
   },
   {
    "duration": 90,
    "start_time": "2022-04-29T05:00:33.104Z"
   },
   {
    "duration": 285267,
    "start_time": "2022-04-29T05:00:33.196Z"
   },
   {
    "duration": 21828,
    "start_time": "2022-04-29T05:05:18.465Z"
   },
   {
    "duration": 902,
    "start_time": "2022-04-29T05:05:40.295Z"
   },
   {
    "duration": 6,
    "start_time": "2022-04-29T05:05:41.199Z"
   },
   {
    "duration": 26641,
    "start_time": "2022-04-29T05:05:41.207Z"
   },
   {
    "duration": 5,
    "start_time": "2022-04-29T05:06:07.849Z"
   },
   {
    "duration": 13,
    "start_time": "2022-04-29T05:06:07.856Z"
   },
   {
    "duration": 224,
    "start_time": "2022-04-29T05:06:07.871Z"
   },
   {
    "duration": 226,
    "start_time": "2022-04-29T05:06:08.097Z"
   },
   {
    "duration": 224,
    "start_time": "2022-04-29T05:06:08.325Z"
   },
   {
    "duration": 45,
    "start_time": "2022-04-29T09:07:07.268Z"
   },
   {
    "duration": 0,
    "start_time": "2022-04-29T09:07:07.315Z"
   },
   {
    "duration": 0,
    "start_time": "2022-04-29T09:07:07.316Z"
   },
   {
    "duration": 0,
    "start_time": "2022-04-29T09:07:07.317Z"
   },
   {
    "duration": 0,
    "start_time": "2022-04-29T09:07:07.318Z"
   },
   {
    "duration": 0,
    "start_time": "2022-04-29T09:07:07.319Z"
   },
   {
    "duration": 0,
    "start_time": "2022-04-29T09:07:07.320Z"
   },
   {
    "duration": 7,
    "start_time": "2022-04-29T09:07:07.321Z"
   },
   {
    "duration": 0,
    "start_time": "2022-04-29T09:07:07.329Z"
   },
   {
    "duration": 7,
    "start_time": "2022-04-29T09:07:07.360Z"
   },
   {
    "duration": 0,
    "start_time": "2022-04-29T09:07:07.370Z"
   },
   {
    "duration": 0,
    "start_time": "2022-04-29T09:07:07.371Z"
   },
   {
    "duration": 1799,
    "start_time": "2022-04-29T09:07:19.851Z"
   },
   {
    "duration": 837,
    "start_time": "2022-04-29T09:07:21.652Z"
   },
   {
    "duration": 144,
    "start_time": "2022-04-29T09:07:22.490Z"
   },
   {
    "duration": 495,
    "start_time": "2022-04-29T09:07:22.636Z"
   },
   {
    "duration": 562,
    "start_time": "2022-04-29T09:07:23.132Z"
   },
   {
    "duration": 447,
    "start_time": "2022-04-29T09:07:23.695Z"
   },
   {
    "duration": 139,
    "start_time": "2022-04-29T09:07:24.144Z"
   },
   {
    "duration": 388,
    "start_time": "2022-04-29T09:07:24.285Z"
   },
   {
    "duration": 85,
    "start_time": "2022-04-29T09:07:24.675Z"
   },
   {
    "duration": 105,
    "start_time": "2022-04-29T09:07:24.763Z"
   },
   {
    "duration": 19,
    "start_time": "2022-04-29T09:07:24.869Z"
   },
   {
    "duration": 149,
    "start_time": "2022-04-29T09:07:24.890Z"
   },
   {
    "duration": 167,
    "start_time": "2022-04-29T09:07:25.040Z"
   },
   {
    "duration": 7,
    "start_time": "2022-04-29T09:07:25.209Z"
   },
   {
    "duration": 30,
    "start_time": "2022-04-29T09:07:25.217Z"
   },
   {
    "duration": 94,
    "start_time": "2022-04-29T09:07:25.248Z"
   },
   {
    "duration": 67,
    "start_time": "2022-04-29T09:07:25.343Z"
   },
   {
    "duration": 47,
    "start_time": "2022-04-29T09:07:25.411Z"
   },
   {
    "duration": 6,
    "start_time": "2022-04-29T09:07:25.460Z"
   },
   {
    "duration": 21,
    "start_time": "2022-04-29T09:07:25.468Z"
   },
   {
    "duration": 20,
    "start_time": "2022-04-29T09:07:25.491Z"
   },
   {
    "duration": 2336,
    "start_time": "2022-04-29T09:07:25.513Z"
   },
   {
    "duration": 7,
    "start_time": "2022-04-29T09:07:27.855Z"
   },
   {
    "duration": 7,
    "start_time": "2022-04-29T09:07:27.866Z"
   },
   {
    "duration": 839,
    "start_time": "2022-04-29T09:07:27.875Z"
   },
   {
    "duration": 130,
    "start_time": "2022-04-29T09:07:28.715Z"
   },
   {
    "duration": 50,
    "start_time": "2022-04-29T09:07:28.847Z"
   },
   {
    "duration": 132,
    "start_time": "2022-04-29T09:07:28.903Z"
   },
   {
    "duration": 131,
    "start_time": "2022-04-29T09:07:29.037Z"
   },
   {
    "duration": 125,
    "start_time": "2022-04-29T09:07:29.170Z"
   },
   {
    "duration": 141,
    "start_time": "2022-04-29T09:07:29.296Z"
   },
   {
    "duration": 57,
    "start_time": "2022-04-29T09:07:29.438Z"
   },
   {
    "duration": 11,
    "start_time": "2022-04-29T09:07:29.496Z"
   },
   {
    "duration": 5,
    "start_time": "2022-04-29T09:07:29.509Z"
   },
   {
    "duration": 84,
    "start_time": "2022-04-29T09:07:29.515Z"
   },
   {
    "duration": 5,
    "start_time": "2022-04-29T09:07:29.600Z"
   },
   {
    "duration": 33,
    "start_time": "2022-04-29T09:07:29.607Z"
   },
   {
    "duration": 4,
    "start_time": "2022-04-29T09:07:29.642Z"
   },
   {
    "duration": 13,
    "start_time": "2022-04-29T09:07:29.654Z"
   },
   {
    "duration": 8,
    "start_time": "2022-04-29T09:07:29.669Z"
   },
   {
    "duration": 166,
    "start_time": "2022-04-29T09:07:29.679Z"
   },
   {
    "duration": 47,
    "start_time": "2022-04-29T09:07:29.847Z"
   },
   {
    "duration": 28,
    "start_time": "2022-04-29T09:07:29.896Z"
   },
   {
    "duration": 4,
    "start_time": "2022-04-29T09:07:29.926Z"
   },
   {
    "duration": 35,
    "start_time": "2022-04-29T09:07:29.931Z"
   },
   {
    "duration": 39,
    "start_time": "2022-04-29T09:07:29.968Z"
   },
   {
    "duration": 16,
    "start_time": "2022-04-29T09:07:30.009Z"
   },
   {
    "duration": 108,
    "start_time": "2022-04-29T09:07:30.027Z"
   },
   {
    "duration": 9,
    "start_time": "2022-04-29T09:07:30.137Z"
   },
   {
    "duration": 88,
    "start_time": "2022-04-29T09:07:30.147Z"
   },
   {
    "duration": 18,
    "start_time": "2022-04-29T09:07:30.237Z"
   },
   {
    "duration": 68,
    "start_time": "2022-04-29T09:07:30.256Z"
   },
   {
    "duration": 5,
    "start_time": "2022-04-29T09:07:30.325Z"
   },
   {
    "duration": 40,
    "start_time": "2022-04-29T09:07:30.332Z"
   },
   {
    "duration": 5,
    "start_time": "2022-04-29T09:07:30.374Z"
   },
   {
    "duration": 67,
    "start_time": "2022-04-29T09:07:30.380Z"
   },
   {
    "duration": 47,
    "start_time": "2022-04-29T09:07:30.448Z"
   },
   {
    "duration": 147,
    "start_time": "2022-04-29T09:07:30.497Z"
   },
   {
    "duration": 61,
    "start_time": "2022-04-29T09:07:30.646Z"
   },
   {
    "duration": 723,
    "start_time": "2022-04-29T09:07:30.708Z"
   },
   {
    "duration": 247,
    "start_time": "2022-04-29T09:07:31.432Z"
   },
   {
    "duration": 3,
    "start_time": "2022-04-29T09:07:31.680Z"
   },
   {
    "duration": 39,
    "start_time": "2022-04-29T09:07:31.684Z"
   },
   {
    "duration": 90,
    "start_time": "2022-04-29T09:07:31.724Z"
   },
   {
    "duration": 78,
    "start_time": "2022-04-29T09:07:31.816Z"
   },
   {
    "duration": 4,
    "start_time": "2022-04-29T09:07:31.895Z"
   },
   {
    "duration": 28,
    "start_time": "2022-04-29T09:07:31.901Z"
   },
   {
    "duration": 11,
    "start_time": "2022-04-29T09:07:31.931Z"
   },
   {
    "duration": 828,
    "start_time": "2022-04-29T09:07:31.944Z"
   },
   {
    "duration": 16,
    "start_time": "2022-04-29T09:07:32.773Z"
   },
   {
    "duration": 649,
    "start_time": "2022-04-29T09:07:32.790Z"
   },
   {
    "duration": 5,
    "start_time": "2022-04-29T09:07:33.441Z"
   },
   {
    "duration": 189,
    "start_time": "2022-04-29T09:07:33.463Z"
   },
   {
    "duration": 29,
    "start_time": "2022-04-29T09:07:33.654Z"
   },
   {
    "duration": 8806,
    "start_time": "2022-04-29T09:07:33.685Z"
   },
   {
    "duration": 26385,
    "start_time": "2022-04-29T09:07:42.492Z"
   },
   {
    "duration": 296,
    "start_time": "2022-04-29T09:08:08.879Z"
   },
   {
    "duration": 10,
    "start_time": "2022-04-29T09:08:09.255Z"
   },
   {
    "duration": 103,
    "start_time": "2022-04-29T09:08:09.271Z"
   },
   {
    "duration": 277698,
    "start_time": "2022-04-29T09:08:09.376Z"
   },
   {
    "duration": 76998,
    "start_time": "2022-04-29T09:12:47.076Z"
   },
   {
    "duration": 888,
    "start_time": "2022-04-29T09:14:04.081Z"
   },
   {
    "duration": 7,
    "start_time": "2022-04-29T09:14:04.971Z"
   },
   {
    "duration": 26151,
    "start_time": "2022-04-29T09:14:04.980Z"
   },
   {
    "duration": 5,
    "start_time": "2022-04-29T09:14:31.133Z"
   },
   {
    "duration": 66,
    "start_time": "2022-04-29T09:14:31.140Z"
   },
   {
    "duration": 226,
    "start_time": "2022-04-29T09:14:31.209Z"
   },
   {
    "duration": 237,
    "start_time": "2022-04-29T09:14:31.437Z"
   },
   {
    "duration": 244,
    "start_time": "2022-04-29T09:14:31.675Z"
   },
   {
    "duration": 5,
    "start_time": "2022-04-29T09:14:56.789Z"
   },
   {
    "duration": 7,
    "start_time": "2022-04-29T09:15:13.755Z"
   },
   {
    "duration": 5,
    "start_time": "2022-04-29T09:15:28.632Z"
   },
   {
    "duration": 6,
    "start_time": "2022-04-29T09:17:47.142Z"
   },
   {
    "duration": 13,
    "start_time": "2022-04-29T09:18:39.540Z"
   },
   {
    "duration": 15,
    "start_time": "2022-04-29T09:19:10.075Z"
   },
   {
    "duration": 12,
    "start_time": "2022-04-29T09:20:27.810Z"
   },
   {
    "duration": 16,
    "start_time": "2022-04-29T09:20:34.026Z"
   },
   {
    "duration": 1641,
    "start_time": "2022-04-29T09:29:37.289Z"
   },
   {
    "duration": 787,
    "start_time": "2022-04-29T09:29:38.932Z"
   },
   {
    "duration": 135,
    "start_time": "2022-04-29T09:29:39.721Z"
   },
   {
    "duration": 485,
    "start_time": "2022-04-29T09:29:39.858Z"
   },
   {
    "duration": 585,
    "start_time": "2022-04-29T09:29:40.345Z"
   },
   {
    "duration": 468,
    "start_time": "2022-04-29T09:29:40.932Z"
   },
   {
    "duration": 128,
    "start_time": "2022-04-29T09:29:41.401Z"
   },
   {
    "duration": 381,
    "start_time": "2022-04-29T09:29:41.531Z"
   },
   {
    "duration": 90,
    "start_time": "2022-04-29T09:29:41.914Z"
   },
   {
    "duration": 121,
    "start_time": "2022-04-29T09:29:42.008Z"
   },
   {
    "duration": 33,
    "start_time": "2022-04-29T09:29:42.131Z"
   },
   {
    "duration": 147,
    "start_time": "2022-04-29T09:29:42.166Z"
   },
   {
    "duration": 215,
    "start_time": "2022-04-29T09:29:42.315Z"
   },
   {
    "duration": 8,
    "start_time": "2022-04-29T09:29:42.532Z"
   },
   {
    "duration": 15,
    "start_time": "2022-04-29T09:29:42.542Z"
   },
   {
    "duration": 50,
    "start_time": "2022-04-29T09:29:42.559Z"
   },
   {
    "duration": 85,
    "start_time": "2022-04-29T09:29:42.611Z"
   },
   {
    "duration": 39,
    "start_time": "2022-04-29T09:29:42.698Z"
   },
   {
    "duration": 15,
    "start_time": "2022-04-29T09:29:42.739Z"
   },
   {
    "duration": 4,
    "start_time": "2022-04-29T09:29:42.756Z"
   },
   {
    "duration": 8,
    "start_time": "2022-04-29T09:29:42.761Z"
   },
   {
    "duration": 2278,
    "start_time": "2022-04-29T09:29:42.771Z"
   },
   {
    "duration": 5,
    "start_time": "2022-04-29T09:29:45.050Z"
   },
   {
    "duration": 8,
    "start_time": "2022-04-29T09:29:45.057Z"
   },
   {
    "duration": 923,
    "start_time": "2022-04-29T09:29:45.067Z"
   },
   {
    "duration": 129,
    "start_time": "2022-04-29T09:29:45.991Z"
   },
   {
    "duration": 49,
    "start_time": "2022-04-29T09:29:46.122Z"
   },
   {
    "duration": 130,
    "start_time": "2022-04-29T09:29:46.175Z"
   },
   {
    "duration": 114,
    "start_time": "2022-04-29T09:29:46.307Z"
   },
   {
    "duration": 142,
    "start_time": "2022-04-29T09:29:46.423Z"
   },
   {
    "duration": 136,
    "start_time": "2022-04-29T09:29:46.567Z"
   },
   {
    "duration": 64,
    "start_time": "2022-04-29T09:29:46.704Z"
   },
   {
    "duration": 12,
    "start_time": "2022-04-29T09:29:46.770Z"
   },
   {
    "duration": 6,
    "start_time": "2022-04-29T09:29:46.784Z"
   },
   {
    "duration": 80,
    "start_time": "2022-04-29T09:29:46.792Z"
   },
   {
    "duration": 6,
    "start_time": "2022-04-29T09:29:46.874Z"
   },
   {
    "duration": 32,
    "start_time": "2022-04-29T09:29:46.882Z"
   },
   {
    "duration": 6,
    "start_time": "2022-04-29T09:29:46.915Z"
   },
   {
    "duration": 37,
    "start_time": "2022-04-29T09:29:46.923Z"
   },
   {
    "duration": 9,
    "start_time": "2022-04-29T09:29:46.962Z"
   },
   {
    "duration": 159,
    "start_time": "2022-04-29T09:29:46.972Z"
   },
   {
    "duration": 58,
    "start_time": "2022-04-29T09:29:47.133Z"
   },
   {
    "duration": 30,
    "start_time": "2022-04-29T09:29:47.193Z"
   },
   {
    "duration": 4,
    "start_time": "2022-04-29T09:29:47.225Z"
   },
   {
    "duration": 27,
    "start_time": "2022-04-29T09:29:47.231Z"
   },
   {
    "duration": 34,
    "start_time": "2022-04-29T09:29:47.260Z"
   },
   {
    "duration": 16,
    "start_time": "2022-04-29T09:29:47.295Z"
   },
   {
    "duration": 112,
    "start_time": "2022-04-29T09:29:47.313Z"
   },
   {
    "duration": 10,
    "start_time": "2022-04-29T09:29:47.426Z"
   },
   {
    "duration": 86,
    "start_time": "2022-04-29T09:29:47.438Z"
   },
   {
    "duration": 6,
    "start_time": "2022-04-29T09:29:47.525Z"
   },
   {
    "duration": 76,
    "start_time": "2022-04-29T09:29:47.532Z"
   },
   {
    "duration": 6,
    "start_time": "2022-04-29T09:29:47.609Z"
   },
   {
    "duration": 45,
    "start_time": "2022-04-29T09:29:47.616Z"
   },
   {
    "duration": 6,
    "start_time": "2022-04-29T09:29:47.663Z"
   },
   {
    "duration": 46,
    "start_time": "2022-04-29T09:29:47.670Z"
   },
   {
    "duration": 63,
    "start_time": "2022-04-29T09:29:47.717Z"
   },
   {
    "duration": 132,
    "start_time": "2022-04-29T09:29:47.781Z"
   },
   {
    "duration": 67,
    "start_time": "2022-04-29T09:29:47.915Z"
   },
   {
    "duration": 2,
    "start_time": "2022-04-29T09:29:47.984Z"
   },
   {
    "duration": 787,
    "start_time": "2022-04-29T09:29:47.988Z"
   },
   {
    "duration": 0,
    "start_time": "2022-04-29T09:29:48.778Z"
   },
   {
    "duration": 0,
    "start_time": "2022-04-29T09:29:48.779Z"
   },
   {
    "duration": 0,
    "start_time": "2022-04-29T09:29:48.781Z"
   },
   {
    "duration": 0,
    "start_time": "2022-04-29T09:29:48.782Z"
   },
   {
    "duration": 0,
    "start_time": "2022-04-29T09:29:48.783Z"
   },
   {
    "duration": 1,
    "start_time": "2022-04-29T09:29:48.784Z"
   },
   {
    "duration": 0,
    "start_time": "2022-04-29T09:29:48.786Z"
   },
   {
    "duration": 0,
    "start_time": "2022-04-29T09:29:48.787Z"
   },
   {
    "duration": 0,
    "start_time": "2022-04-29T09:29:48.788Z"
   },
   {
    "duration": 0,
    "start_time": "2022-04-29T09:29:48.789Z"
   },
   {
    "duration": 0,
    "start_time": "2022-04-29T09:29:48.792Z"
   },
   {
    "duration": 0,
    "start_time": "2022-04-29T09:29:48.793Z"
   },
   {
    "duration": 1,
    "start_time": "2022-04-29T09:29:48.794Z"
   },
   {
    "duration": 0,
    "start_time": "2022-04-29T09:29:48.796Z"
   },
   {
    "duration": 0,
    "start_time": "2022-04-29T09:29:48.797Z"
   },
   {
    "duration": 0,
    "start_time": "2022-04-29T09:29:48.798Z"
   },
   {
    "duration": 0,
    "start_time": "2022-04-29T09:29:48.800Z"
   },
   {
    "duration": 0,
    "start_time": "2022-04-29T09:29:48.801Z"
   },
   {
    "duration": 0,
    "start_time": "2022-04-29T09:29:48.802Z"
   },
   {
    "duration": 0,
    "start_time": "2022-04-29T09:29:48.803Z"
   },
   {
    "duration": 0,
    "start_time": "2022-04-29T09:29:48.805Z"
   },
   {
    "duration": 0,
    "start_time": "2022-04-29T09:29:48.806Z"
   },
   {
    "duration": 0,
    "start_time": "2022-04-29T09:29:48.855Z"
   },
   {
    "duration": 0,
    "start_time": "2022-04-29T09:29:48.856Z"
   },
   {
    "duration": 0,
    "start_time": "2022-04-29T09:29:48.857Z"
   },
   {
    "duration": 0,
    "start_time": "2022-04-29T09:29:48.859Z"
   },
   {
    "duration": 0,
    "start_time": "2022-04-29T09:29:48.860Z"
   },
   {
    "duration": 2678,
    "start_time": "2022-04-29T09:32:10.428Z"
   },
   {
    "duration": 2945,
    "start_time": "2022-04-29T09:34:37.861Z"
   },
   {
    "duration": 2245,
    "start_time": "2022-04-29T09:34:56.860Z"
   },
   {
    "duration": 13,
    "start_time": "2022-04-29T09:35:10.899Z"
   },
   {
    "duration": 146,
    "start_time": "2022-04-29T09:35:36.734Z"
   },
   {
    "duration": 4,
    "start_time": "2022-04-29T09:35:46.777Z"
   },
   {
    "duration": 479,
    "start_time": "2022-04-29T09:35:59.512Z"
   },
   {
    "duration": 464,
    "start_time": "2022-04-29T09:36:41.676Z"
   },
   {
    "duration": 615,
    "start_time": "2022-04-29T09:36:59.626Z"
   },
   {
    "duration": 13,
    "start_time": "2022-04-29T09:37:07.739Z"
   },
   {
    "duration": 13,
    "start_time": "2022-04-29T09:37:30.584Z"
   },
   {
    "duration": 40,
    "start_time": "2022-04-29T09:37:43.514Z"
   },
   {
    "duration": 20,
    "start_time": "2022-04-29T09:37:50.489Z"
   },
   {
    "duration": 1014,
    "start_time": "2022-04-29T09:38:22.609Z"
   },
   {
    "duration": 14,
    "start_time": "2022-04-29T09:38:27.489Z"
   },
   {
    "duration": 1636,
    "start_time": "2022-04-29T09:38:49.828Z"
   },
   {
    "duration": 768,
    "start_time": "2022-04-29T09:38:51.466Z"
   },
   {
    "duration": 132,
    "start_time": "2022-04-29T09:38:52.235Z"
   },
   {
    "duration": 452,
    "start_time": "2022-04-29T09:38:52.369Z"
   },
   {
    "duration": 655,
    "start_time": "2022-04-29T09:38:52.822Z"
   },
   {
    "duration": 460,
    "start_time": "2022-04-29T09:38:53.479Z"
   },
   {
    "duration": 119,
    "start_time": "2022-04-29T09:38:53.941Z"
   },
   {
    "duration": 368,
    "start_time": "2022-04-29T09:38:54.062Z"
   },
   {
    "duration": 83,
    "start_time": "2022-04-29T09:38:54.432Z"
   },
   {
    "duration": 110,
    "start_time": "2022-04-29T09:38:54.518Z"
   },
   {
    "duration": 30,
    "start_time": "2022-04-29T09:38:54.629Z"
   },
   {
    "duration": 142,
    "start_time": "2022-04-29T09:38:54.661Z"
   },
   {
    "duration": 174,
    "start_time": "2022-04-29T09:38:54.805Z"
   },
   {
    "duration": 7,
    "start_time": "2022-04-29T09:38:54.981Z"
   },
   {
    "duration": 15,
    "start_time": "2022-04-29T09:38:54.990Z"
   },
   {
    "duration": 62,
    "start_time": "2022-04-29T09:38:55.007Z"
   },
   {
    "duration": 64,
    "start_time": "2022-04-29T09:38:55.071Z"
   },
   {
    "duration": 48,
    "start_time": "2022-04-29T09:38:55.136Z"
   },
   {
    "duration": 3,
    "start_time": "2022-04-29T09:38:55.186Z"
   },
   {
    "duration": 12,
    "start_time": "2022-04-29T09:38:55.191Z"
   },
   {
    "duration": 19,
    "start_time": "2022-04-29T09:38:55.205Z"
   },
   {
    "duration": 2243,
    "start_time": "2022-04-29T09:38:55.226Z"
   },
   {
    "duration": 6,
    "start_time": "2022-04-29T09:38:57.471Z"
   },
   {
    "duration": 567,
    "start_time": "2022-04-29T09:38:57.478Z"
   },
   {
    "duration": 943,
    "start_time": "2022-04-29T09:38:58.048Z"
   },
   {
    "duration": 139,
    "start_time": "2022-04-29T09:38:58.993Z"
   },
   {
    "duration": 44,
    "start_time": "2022-04-29T09:38:59.134Z"
   },
   {
    "duration": 134,
    "start_time": "2022-04-29T09:38:59.183Z"
   },
   {
    "duration": 121,
    "start_time": "2022-04-29T09:38:59.319Z"
   },
   {
    "duration": 140,
    "start_time": "2022-04-29T09:38:59.442Z"
   },
   {
    "duration": 138,
    "start_time": "2022-04-29T09:38:59.584Z"
   },
   {
    "duration": 65,
    "start_time": "2022-04-29T09:38:59.724Z"
   },
   {
    "duration": 11,
    "start_time": "2022-04-29T09:38:59.791Z"
   },
   {
    "duration": 9,
    "start_time": "2022-04-29T09:38:59.803Z"
   },
   {
    "duration": 73,
    "start_time": "2022-04-29T09:38:59.814Z"
   },
   {
    "duration": 5,
    "start_time": "2022-04-29T09:38:59.889Z"
   },
   {
    "duration": 33,
    "start_time": "2022-04-29T09:38:59.895Z"
   },
   {
    "duration": 5,
    "start_time": "2022-04-29T09:38:59.930Z"
   },
   {
    "duration": 13,
    "start_time": "2022-04-29T09:38:59.955Z"
   },
   {
    "duration": 8,
    "start_time": "2022-04-29T09:38:59.969Z"
   },
   {
    "duration": 165,
    "start_time": "2022-04-29T09:38:59.979Z"
   },
   {
    "duration": 53,
    "start_time": "2022-04-29T09:39:00.146Z"
   },
   {
    "duration": 31,
    "start_time": "2022-04-29T09:39:00.200Z"
   },
   {
    "duration": 6,
    "start_time": "2022-04-29T09:39:00.232Z"
   },
   {
    "duration": 11,
    "start_time": "2022-04-29T09:39:00.255Z"
   },
   {
    "duration": 39,
    "start_time": "2022-04-29T09:39:00.268Z"
   },
   {
    "duration": 18,
    "start_time": "2022-04-29T09:39:00.308Z"
   },
   {
    "duration": 128,
    "start_time": "2022-04-29T09:39:00.327Z"
   },
   {
    "duration": 11,
    "start_time": "2022-04-29T09:39:00.457Z"
   },
   {
    "duration": 91,
    "start_time": "2022-04-29T09:39:00.470Z"
   },
   {
    "duration": 7,
    "start_time": "2022-04-29T09:39:00.563Z"
   },
   {
    "duration": 74,
    "start_time": "2022-04-29T09:39:00.572Z"
   },
   {
    "duration": 11,
    "start_time": "2022-04-29T09:39:00.648Z"
   },
   {
    "duration": 66,
    "start_time": "2022-04-29T09:39:00.662Z"
   },
   {
    "duration": 7,
    "start_time": "2022-04-29T09:39:00.729Z"
   },
   {
    "duration": 69,
    "start_time": "2022-04-29T09:39:00.737Z"
   },
   {
    "duration": 52,
    "start_time": "2022-04-29T09:39:00.807Z"
   },
   {
    "duration": 139,
    "start_time": "2022-04-29T09:39:00.862Z"
   },
   {
    "duration": 70,
    "start_time": "2022-04-29T09:39:01.003Z"
   },
   {
    "duration": 3,
    "start_time": "2022-04-29T09:39:01.075Z"
   },
   {
    "duration": 1133,
    "start_time": "2022-04-29T09:39:01.080Z"
   },
   {
    "duration": 144,
    "start_time": "2022-04-29T09:39:02.215Z"
   },
   {
    "duration": 3,
    "start_time": "2022-04-29T09:39:02.360Z"
   },
   {
    "duration": 55,
    "start_time": "2022-04-29T09:39:02.364Z"
   },
   {
    "duration": 86,
    "start_time": "2022-04-29T09:39:02.421Z"
   },
   {
    "duration": 92,
    "start_time": "2022-04-29T09:39:02.509Z"
   },
   {
    "duration": 4,
    "start_time": "2022-04-29T09:39:02.603Z"
   },
   {
    "duration": 48,
    "start_time": "2022-04-29T09:39:02.608Z"
   },
   {
    "duration": 11,
    "start_time": "2022-04-29T09:39:02.658Z"
   },
   {
    "duration": 1450,
    "start_time": "2022-04-29T09:39:02.671Z"
   },
   {
    "duration": 31,
    "start_time": "2022-04-29T09:39:04.124Z"
   },
   {
    "duration": 631,
    "start_time": "2022-04-29T09:39:04.157Z"
   },
   {
    "duration": 5,
    "start_time": "2022-04-29T09:39:04.790Z"
   },
   {
    "duration": 165,
    "start_time": "2022-04-29T09:39:04.797Z"
   },
   {
    "duration": 31,
    "start_time": "2022-04-29T09:39:04.964Z"
   },
   {
    "duration": 9890,
    "start_time": "2022-04-29T09:39:04.997Z"
   },
   {
    "duration": 20767,
    "start_time": "2022-04-29T09:39:14.890Z"
   },
   {
    "duration": 205,
    "start_time": "2022-04-29T09:39:35.659Z"
   },
   {
    "duration": 53961,
    "start_time": "2022-04-29T09:39:35.866Z"
   },
   {
    "duration": 0,
    "start_time": "2022-04-29T09:40:29.829Z"
   },
   {
    "duration": 0,
    "start_time": "2022-04-29T09:40:29.830Z"
   },
   {
    "duration": 0,
    "start_time": "2022-04-29T09:40:29.831Z"
   },
   {
    "duration": 0,
    "start_time": "2022-04-29T09:40:29.832Z"
   },
   {
    "duration": 0,
    "start_time": "2022-04-29T09:40:29.833Z"
   },
   {
    "duration": 0,
    "start_time": "2022-04-29T09:40:29.834Z"
   },
   {
    "duration": 0,
    "start_time": "2022-04-29T09:40:29.835Z"
   },
   {
    "duration": 0,
    "start_time": "2022-04-29T09:40:29.836Z"
   },
   {
    "duration": 0,
    "start_time": "2022-04-29T09:40:29.855Z"
   },
   {
    "duration": 1043,
    "start_time": "2022-04-29T09:44:42.763Z"
   },
   {
    "duration": 1618,
    "start_time": "2022-04-29T09:45:11.646Z"
   },
   {
    "duration": 802,
    "start_time": "2022-04-29T09:45:13.266Z"
   },
   {
    "duration": 133,
    "start_time": "2022-04-29T09:45:14.070Z"
   },
   {
    "duration": 477,
    "start_time": "2022-04-29T09:45:14.206Z"
   },
   {
    "duration": 591,
    "start_time": "2022-04-29T09:45:14.685Z"
   },
   {
    "duration": 496,
    "start_time": "2022-04-29T09:45:15.278Z"
   },
   {
    "duration": 129,
    "start_time": "2022-04-29T09:45:15.775Z"
   },
   {
    "duration": 393,
    "start_time": "2022-04-29T09:45:15.906Z"
   },
   {
    "duration": 87,
    "start_time": "2022-04-29T09:45:16.301Z"
   },
   {
    "duration": 116,
    "start_time": "2022-04-29T09:45:16.391Z"
   },
   {
    "duration": 22,
    "start_time": "2022-04-29T09:45:16.508Z"
   },
   {
    "duration": 187,
    "start_time": "2022-04-29T09:45:16.532Z"
   },
   {
    "duration": 186,
    "start_time": "2022-04-29T09:45:16.721Z"
   },
   {
    "duration": 8,
    "start_time": "2022-04-29T09:45:16.909Z"
   },
   {
    "duration": 11,
    "start_time": "2022-04-29T09:45:16.918Z"
   },
   {
    "duration": 56,
    "start_time": "2022-04-29T09:45:16.931Z"
   },
   {
    "duration": 75,
    "start_time": "2022-04-29T09:45:16.988Z"
   },
   {
    "duration": 41,
    "start_time": "2022-04-29T09:45:17.064Z"
   },
   {
    "duration": 4,
    "start_time": "2022-04-29T09:45:17.106Z"
   },
   {
    "duration": 8,
    "start_time": "2022-04-29T09:45:17.112Z"
   },
   {
    "duration": 7,
    "start_time": "2022-04-29T09:45:17.122Z"
   },
   {
    "duration": 2303,
    "start_time": "2022-04-29T09:45:17.130Z"
   },
   {
    "duration": 5,
    "start_time": "2022-04-29T09:45:19.435Z"
   },
   {
    "duration": 14,
    "start_time": "2022-04-29T09:45:19.441Z"
   },
   {
    "duration": 1009,
    "start_time": "2022-04-29T09:45:19.457Z"
   },
   {
    "duration": 148,
    "start_time": "2022-04-29T09:45:20.468Z"
   },
   {
    "duration": 45,
    "start_time": "2022-04-29T09:45:20.618Z"
   },
   {
    "duration": 150,
    "start_time": "2022-04-29T09:45:20.668Z"
   },
   {
    "duration": 119,
    "start_time": "2022-04-29T09:45:20.820Z"
   },
   {
    "duration": 137,
    "start_time": "2022-04-29T09:45:20.940Z"
   },
   {
    "duration": 138,
    "start_time": "2022-04-29T09:45:21.079Z"
   },
   {
    "duration": 61,
    "start_time": "2022-04-29T09:45:21.219Z"
   },
   {
    "duration": 11,
    "start_time": "2022-04-29T09:45:21.281Z"
   },
   {
    "duration": 20,
    "start_time": "2022-04-29T09:45:21.294Z"
   },
   {
    "duration": 71,
    "start_time": "2022-04-29T09:45:21.315Z"
   },
   {
    "duration": 5,
    "start_time": "2022-04-29T09:45:21.388Z"
   },
   {
    "duration": 52,
    "start_time": "2022-04-29T09:45:21.394Z"
   },
   {
    "duration": 5,
    "start_time": "2022-04-29T09:45:21.448Z"
   },
   {
    "duration": 27,
    "start_time": "2022-04-29T09:45:21.454Z"
   },
   {
    "duration": 11,
    "start_time": "2022-04-29T09:45:21.482Z"
   },
   {
    "duration": 148,
    "start_time": "2022-04-29T09:45:21.494Z"
   },
   {
    "duration": 48,
    "start_time": "2022-04-29T09:45:21.644Z"
   },
   {
    "duration": 30,
    "start_time": "2022-04-29T09:45:21.694Z"
   },
   {
    "duration": 5,
    "start_time": "2022-04-29T09:45:21.726Z"
   },
   {
    "duration": 32,
    "start_time": "2022-04-29T09:45:21.732Z"
   },
   {
    "duration": 39,
    "start_time": "2022-04-29T09:45:21.766Z"
   },
   {
    "duration": 17,
    "start_time": "2022-04-29T09:45:21.807Z"
   },
   {
    "duration": 109,
    "start_time": "2022-04-29T09:45:21.826Z"
   },
   {
    "duration": 10,
    "start_time": "2022-04-29T09:45:21.937Z"
   },
   {
    "duration": 82,
    "start_time": "2022-04-29T09:45:21.955Z"
   },
   {
    "duration": 16,
    "start_time": "2022-04-29T09:45:22.039Z"
   },
   {
    "duration": 62,
    "start_time": "2022-04-29T09:45:22.057Z"
   },
   {
    "duration": 6,
    "start_time": "2022-04-29T09:45:22.121Z"
   },
   {
    "duration": 54,
    "start_time": "2022-04-29T09:45:22.128Z"
   },
   {
    "duration": 5,
    "start_time": "2022-04-29T09:45:22.184Z"
   },
   {
    "duration": 69,
    "start_time": "2022-04-29T09:45:22.190Z"
   },
   {
    "duration": 51,
    "start_time": "2022-04-29T09:45:22.260Z"
   },
   {
    "duration": 148,
    "start_time": "2022-04-29T09:45:22.313Z"
   },
   {
    "duration": 56,
    "start_time": "2022-04-29T09:45:22.463Z"
   },
   {
    "duration": 706,
    "start_time": "2022-04-29T09:45:22.520Z"
   },
   {
    "duration": 146,
    "start_time": "2022-04-29T09:45:23.228Z"
   },
   {
    "duration": 2,
    "start_time": "2022-04-29T09:45:23.376Z"
   },
   {
    "duration": 44,
    "start_time": "2022-04-29T09:45:23.380Z"
   },
   {
    "duration": 82,
    "start_time": "2022-04-29T09:45:23.426Z"
   },
   {
    "duration": 72,
    "start_time": "2022-04-29T09:45:23.510Z"
   },
   {
    "duration": 4,
    "start_time": "2022-04-29T09:45:23.584Z"
   },
   {
    "duration": 18,
    "start_time": "2022-04-29T09:45:23.589Z"
   },
   {
    "duration": 11,
    "start_time": "2022-04-29T09:45:23.609Z"
   },
   {
    "duration": 1016,
    "start_time": "2022-04-29T09:45:23.623Z"
   },
   {
    "duration": 21,
    "start_time": "2022-04-29T09:45:24.641Z"
   },
   {
    "duration": 643,
    "start_time": "2022-04-29T09:45:24.663Z"
   },
   {
    "duration": 4,
    "start_time": "2022-04-29T09:45:25.308Z"
   },
   {
    "duration": 190,
    "start_time": "2022-04-29T09:45:25.314Z"
   },
   {
    "duration": 31,
    "start_time": "2022-04-29T09:45:25.506Z"
   },
   {
    "duration": 8742,
    "start_time": "2022-04-29T09:45:25.554Z"
   },
   {
    "duration": 19858,
    "start_time": "2022-04-29T09:45:34.298Z"
   },
   {
    "duration": 299,
    "start_time": "2022-04-29T09:45:54.158Z"
   },
   {
    "duration": 299162,
    "start_time": "2022-04-29T09:45:54.459Z"
   },
   {
    "duration": 51542,
    "start_time": "2022-04-29T09:50:53.623Z"
   },
   {
    "duration": 895,
    "start_time": "2022-04-29T09:51:45.167Z"
   },
   {
    "duration": 6,
    "start_time": "2022-04-29T09:51:46.064Z"
   },
   {
    "duration": 25536,
    "start_time": "2022-04-29T09:51:46.076Z"
   },
   {
    "duration": 4,
    "start_time": "2022-04-29T09:52:11.614Z"
   },
   {
    "duration": 14,
    "start_time": "2022-04-29T09:52:11.619Z"
   },
   {
    "duration": 215,
    "start_time": "2022-04-29T09:52:11.634Z"
   },
   {
    "duration": 218,
    "start_time": "2022-04-29T09:52:11.854Z"
   },
   {
    "duration": 248,
    "start_time": "2022-04-29T09:52:12.074Z"
   },
   {
    "duration": 1811,
    "start_time": "2022-04-29T10:06:46.407Z"
   },
   {
    "duration": 846,
    "start_time": "2022-04-29T10:06:48.221Z"
   },
   {
    "duration": 144,
    "start_time": "2022-04-29T10:06:49.069Z"
   },
   {
    "duration": 498,
    "start_time": "2022-04-29T10:06:49.215Z"
   },
   {
    "duration": 591,
    "start_time": "2022-04-29T10:06:49.715Z"
   },
   {
    "duration": 480,
    "start_time": "2022-04-29T10:06:50.308Z"
   },
   {
    "duration": 133,
    "start_time": "2022-04-29T10:06:50.792Z"
   },
   {
    "duration": 404,
    "start_time": "2022-04-29T10:06:50.927Z"
   },
   {
    "duration": 98,
    "start_time": "2022-04-29T10:06:51.333Z"
   },
   {
    "duration": 117,
    "start_time": "2022-04-29T10:06:51.434Z"
   },
   {
    "duration": 23,
    "start_time": "2022-04-29T10:06:51.553Z"
   },
   {
    "duration": 166,
    "start_time": "2022-04-29T10:06:51.578Z"
   },
   {
    "duration": 197,
    "start_time": "2022-04-29T10:06:51.746Z"
   },
   {
    "duration": 7,
    "start_time": "2022-04-29T10:06:51.945Z"
   },
   {
    "duration": 10,
    "start_time": "2022-04-29T10:06:51.954Z"
   },
   {
    "duration": 63,
    "start_time": "2022-04-29T10:06:51.966Z"
   },
   {
    "duration": 78,
    "start_time": "2022-04-29T10:06:52.031Z"
   },
   {
    "duration": 41,
    "start_time": "2022-04-29T10:06:52.111Z"
   },
   {
    "duration": 4,
    "start_time": "2022-04-29T10:06:52.153Z"
   },
   {
    "duration": 24,
    "start_time": "2022-04-29T10:06:52.158Z"
   },
   {
    "duration": 18,
    "start_time": "2022-04-29T10:06:52.184Z"
   },
   {
    "duration": 2454,
    "start_time": "2022-04-29T10:06:52.204Z"
   },
   {
    "duration": 5,
    "start_time": "2022-04-29T10:06:54.660Z"
   },
   {
    "duration": 13,
    "start_time": "2022-04-29T10:06:54.666Z"
   },
   {
    "duration": 1037,
    "start_time": "2022-04-29T10:06:54.681Z"
   },
   {
    "duration": 160,
    "start_time": "2022-04-29T10:06:55.720Z"
   },
   {
    "duration": 61,
    "start_time": "2022-04-29T10:06:55.882Z"
   },
   {
    "duration": 217,
    "start_time": "2022-04-29T10:06:55.950Z"
   },
   {
    "duration": 191,
    "start_time": "2022-04-29T10:06:56.170Z"
   },
   {
    "duration": 163,
    "start_time": "2022-04-29T10:06:56.364Z"
   },
   {
    "duration": 140,
    "start_time": "2022-04-29T10:06:56.529Z"
   },
   {
    "duration": 59,
    "start_time": "2022-04-29T10:06:56.671Z"
   },
   {
    "duration": 11,
    "start_time": "2022-04-29T10:06:56.732Z"
   },
   {
    "duration": 12,
    "start_time": "2022-04-29T10:06:56.745Z"
   },
   {
    "duration": 87,
    "start_time": "2022-04-29T10:06:56.758Z"
   },
   {
    "duration": 6,
    "start_time": "2022-04-29T10:06:56.847Z"
   },
   {
    "duration": 46,
    "start_time": "2022-04-29T10:06:56.855Z"
   },
   {
    "duration": 6,
    "start_time": "2022-04-29T10:06:56.903Z"
   },
   {
    "duration": 15,
    "start_time": "2022-04-29T10:06:56.912Z"
   },
   {
    "duration": 10,
    "start_time": "2022-04-29T10:06:56.929Z"
   },
   {
    "duration": 175,
    "start_time": "2022-04-29T10:06:56.941Z"
   },
   {
    "duration": 48,
    "start_time": "2022-04-29T10:06:57.118Z"
   },
   {
    "duration": 50,
    "start_time": "2022-04-29T10:06:57.168Z"
   },
   {
    "duration": 7,
    "start_time": "2022-04-29T10:06:57.220Z"
   },
   {
    "duration": 13,
    "start_time": "2022-04-29T10:06:57.228Z"
   },
   {
    "duration": 63,
    "start_time": "2022-04-29T10:06:57.243Z"
   },
   {
    "duration": 15,
    "start_time": "2022-04-29T10:06:57.308Z"
   },
   {
    "duration": 115,
    "start_time": "2022-04-29T10:06:57.325Z"
   },
   {
    "duration": 10,
    "start_time": "2022-04-29T10:06:57.442Z"
   },
   {
    "duration": 105,
    "start_time": "2022-04-29T10:06:57.454Z"
   },
   {
    "duration": 7,
    "start_time": "2022-04-29T10:06:57.561Z"
   },
   {
    "duration": 79,
    "start_time": "2022-04-29T10:06:57.569Z"
   },
   {
    "duration": 6,
    "start_time": "2022-04-29T10:06:57.650Z"
   },
   {
    "duration": 51,
    "start_time": "2022-04-29T10:06:57.658Z"
   },
   {
    "duration": 7,
    "start_time": "2022-04-29T10:06:57.710Z"
   },
   {
    "duration": 56,
    "start_time": "2022-04-29T10:06:57.719Z"
   },
   {
    "duration": 56,
    "start_time": "2022-04-29T10:06:57.777Z"
   },
   {
    "duration": 151,
    "start_time": "2022-04-29T10:06:57.835Z"
   },
   {
    "duration": 51,
    "start_time": "2022-04-29T10:06:57.992Z"
   },
   {
    "duration": 1032,
    "start_time": "2022-04-29T10:06:58.045Z"
   },
   {
    "duration": 163,
    "start_time": "2022-04-29T10:06:59.078Z"
   },
   {
    "duration": 3,
    "start_time": "2022-04-29T10:06:59.243Z"
   },
   {
    "duration": 36,
    "start_time": "2022-04-29T10:06:59.247Z"
   },
   {
    "duration": 105,
    "start_time": "2022-04-29T10:06:59.285Z"
   },
   {
    "duration": 86,
    "start_time": "2022-04-29T10:06:59.392Z"
   },
   {
    "duration": 3,
    "start_time": "2022-04-29T10:06:59.481Z"
   },
   {
    "duration": 36,
    "start_time": "2022-04-29T10:06:59.486Z"
   },
   {
    "duration": 36,
    "start_time": "2022-04-29T10:06:59.523Z"
   },
   {
    "duration": 1085,
    "start_time": "2022-04-29T10:06:59.561Z"
   },
   {
    "duration": 18,
    "start_time": "2022-04-29T10:07:00.648Z"
   },
   {
    "duration": 824,
    "start_time": "2022-04-29T10:07:00.668Z"
   },
   {
    "duration": 5,
    "start_time": "2022-04-29T10:07:01.495Z"
   },
   {
    "duration": 272,
    "start_time": "2022-04-29T10:07:01.502Z"
   },
   {
    "duration": 46,
    "start_time": "2022-04-29T10:07:01.776Z"
   },
   {
    "duration": 13249,
    "start_time": "2022-04-29T10:07:01.824Z"
   },
   {
    "duration": 23418,
    "start_time": "2022-04-29T10:07:15.075Z"
   },
   {
    "duration": 315,
    "start_time": "2022-04-29T10:07:38.496Z"
   },
   {
    "duration": 291784,
    "start_time": "2022-04-29T10:07:38.813Z"
   },
   {
    "duration": 15004,
    "start_time": "2022-04-29T10:12:30.599Z"
   },
   {
    "duration": 901,
    "start_time": "2022-04-29T10:12:45.605Z"
   },
   {
    "duration": 85,
    "start_time": "2022-04-29T10:12:46.508Z"
   },
   {
    "duration": 25226,
    "start_time": "2022-04-29T10:12:46.600Z"
   },
   {
    "duration": 5,
    "start_time": "2022-04-29T10:13:11.828Z"
   },
   {
    "duration": 19,
    "start_time": "2022-04-29T10:13:11.834Z"
   },
   {
    "duration": 240,
    "start_time": "2022-04-29T10:13:11.855Z"
   },
   {
    "duration": 244,
    "start_time": "2022-04-29T10:13:12.097Z"
   },
   {
    "duration": 244,
    "start_time": "2022-04-29T10:13:12.342Z"
   },
   {
    "duration": 5,
    "start_time": "2022-04-29T10:15:54.919Z"
   },
   {
    "duration": 1781,
    "start_time": "2022-05-02T05:45:50.020Z"
   },
   {
    "duration": 783,
    "start_time": "2022-05-02T05:45:51.804Z"
   },
   {
    "duration": 123,
    "start_time": "2022-05-02T05:45:52.589Z"
   },
   {
    "duration": 448,
    "start_time": "2022-05-02T05:45:52.713Z"
   },
   {
    "duration": 535,
    "start_time": "2022-05-02T05:45:53.163Z"
   },
   {
    "duration": 428,
    "start_time": "2022-05-02T05:45:53.699Z"
   },
   {
    "duration": 344,
    "start_time": "2022-05-02T05:45:54.128Z"
   },
   {
    "duration": 89,
    "start_time": "2022-05-02T05:45:54.473Z"
   },
   {
    "duration": 99,
    "start_time": "2022-05-02T05:45:54.563Z"
   },
   {
    "duration": 20,
    "start_time": "2022-05-02T05:45:54.664Z"
   },
   {
    "duration": 150,
    "start_time": "2022-05-02T05:45:54.685Z"
   },
   {
    "duration": 163,
    "start_time": "2022-05-02T05:45:54.837Z"
   },
   {
    "duration": 6,
    "start_time": "2022-05-02T05:45:55.002Z"
   },
   {
    "duration": 3,
    "start_time": "2022-05-02T05:45:55.012Z"
   },
   {
    "duration": 64,
    "start_time": "2022-05-02T05:45:55.016Z"
   },
   {
    "duration": 147,
    "start_time": "2022-05-02T05:45:55.082Z"
   },
   {
    "duration": 45,
    "start_time": "2022-05-02T05:45:55.231Z"
   },
   {
    "duration": 4,
    "start_time": "2022-05-02T05:45:55.277Z"
   },
   {
    "duration": 8,
    "start_time": "2022-05-02T05:45:55.282Z"
   },
   {
    "duration": 6,
    "start_time": "2022-05-02T05:45:55.291Z"
   },
   {
    "duration": 2744,
    "start_time": "2022-05-02T05:45:55.298Z"
   },
   {
    "duration": 6,
    "start_time": "2022-05-02T05:45:58.047Z"
   },
   {
    "duration": 7,
    "start_time": "2022-05-02T05:45:58.054Z"
   },
   {
    "duration": 877,
    "start_time": "2022-05-02T05:45:58.063Z"
   },
   {
    "duration": 139,
    "start_time": "2022-05-02T05:45:58.942Z"
   },
   {
    "duration": 42,
    "start_time": "2022-05-02T05:45:59.083Z"
   },
   {
    "duration": 134,
    "start_time": "2022-05-02T05:45:59.128Z"
   },
   {
    "duration": 126,
    "start_time": "2022-05-02T05:45:59.264Z"
   },
   {
    "duration": 132,
    "start_time": "2022-05-02T05:45:59.392Z"
   },
   {
    "duration": 133,
    "start_time": "2022-05-02T05:45:59.526Z"
   },
   {
    "duration": 57,
    "start_time": "2022-05-02T05:45:59.661Z"
   },
   {
    "duration": 29,
    "start_time": "2022-05-02T05:45:59.719Z"
   },
   {
    "duration": 6,
    "start_time": "2022-05-02T05:45:59.749Z"
   },
   {
    "duration": 60,
    "start_time": "2022-05-02T05:45:59.757Z"
   },
   {
    "duration": 5,
    "start_time": "2022-05-02T05:45:59.818Z"
   },
   {
    "duration": 51,
    "start_time": "2022-05-02T05:45:59.825Z"
   },
   {
    "duration": 5,
    "start_time": "2022-05-02T05:45:59.878Z"
   },
   {
    "duration": 14,
    "start_time": "2022-05-02T05:45:59.885Z"
   },
   {
    "duration": 8,
    "start_time": "2022-05-02T05:45:59.901Z"
   },
   {
    "duration": 168,
    "start_time": "2022-05-02T05:45:59.911Z"
   },
   {
    "duration": 43,
    "start_time": "2022-05-02T05:46:00.084Z"
   },
   {
    "duration": 42,
    "start_time": "2022-05-02T05:46:00.128Z"
   },
   {
    "duration": 5,
    "start_time": "2022-05-02T05:46:00.172Z"
   },
   {
    "duration": 27,
    "start_time": "2022-05-02T05:46:00.178Z"
   },
   {
    "duration": 42,
    "start_time": "2022-05-02T05:46:00.207Z"
   },
   {
    "duration": 16,
    "start_time": "2022-05-02T05:46:00.250Z"
   },
   {
    "duration": 104,
    "start_time": "2022-05-02T05:46:00.268Z"
   },
   {
    "duration": 9,
    "start_time": "2022-05-02T05:46:00.374Z"
   },
   {
    "duration": 96,
    "start_time": "2022-05-02T05:46:00.384Z"
   },
   {
    "duration": 6,
    "start_time": "2022-05-02T05:46:00.482Z"
   },
   {
    "duration": 70,
    "start_time": "2022-05-02T05:46:00.490Z"
   },
   {
    "duration": 6,
    "start_time": "2022-05-02T05:46:00.561Z"
   },
   {
    "duration": 43,
    "start_time": "2022-05-02T05:46:00.568Z"
   },
   {
    "duration": 5,
    "start_time": "2022-05-02T05:46:00.613Z"
   },
   {
    "duration": 74,
    "start_time": "2022-05-02T05:46:00.620Z"
   },
   {
    "duration": 68,
    "start_time": "2022-05-02T05:46:00.696Z"
   },
   {
    "duration": 194,
    "start_time": "2022-05-02T05:46:00.766Z"
   },
   {
    "duration": 64,
    "start_time": "2022-05-02T05:46:00.961Z"
   },
   {
    "duration": 1537,
    "start_time": "2022-05-02T05:46:01.028Z"
   },
   {
    "duration": 340,
    "start_time": "2022-05-02T05:46:02.567Z"
   },
   {
    "duration": 126,
    "start_time": "2022-05-02T05:46:02.909Z"
   },
   {
    "duration": 4,
    "start_time": "2022-05-02T05:46:03.037Z"
   },
   {
    "duration": 4,
    "start_time": "2022-05-02T05:46:03.048Z"
   },
   {
    "duration": 5,
    "start_time": "2022-05-02T05:46:03.054Z"
   },
   {
    "duration": 941,
    "start_time": "2022-05-02T05:46:03.060Z"
   },
   {
    "duration": 18,
    "start_time": "2022-05-02T05:46:04.003Z"
   },
   {
    "duration": 624,
    "start_time": "2022-05-02T05:46:04.023Z"
   },
   {
    "duration": 4,
    "start_time": "2022-05-02T05:46:04.649Z"
   },
   {
    "duration": 162,
    "start_time": "2022-05-02T05:46:04.655Z"
   },
   {
    "duration": 38,
    "start_time": "2022-05-02T05:46:04.819Z"
   },
   {
    "duration": 8171,
    "start_time": "2022-05-02T05:46:04.859Z"
   },
   {
    "duration": 23517,
    "start_time": "2022-05-02T05:46:13.032Z"
   },
   {
    "duration": 203,
    "start_time": "2022-05-02T05:46:36.552Z"
   },
   {
    "duration": 264191,
    "start_time": "2022-05-02T05:46:36.758Z"
   },
   {
    "duration": 300601,
    "start_time": "2022-05-02T05:51:00.951Z"
   },
   {
    "duration": 822,
    "start_time": "2022-05-02T05:56:01.554Z"
   },
   {
    "duration": 6,
    "start_time": "2022-05-02T05:56:02.378Z"
   },
   {
    "duration": 36668,
    "start_time": "2022-05-02T05:56:02.387Z"
   },
   {
    "duration": 6,
    "start_time": "2022-05-02T05:56:39.058Z"
   },
   {
    "duration": 13,
    "start_time": "2022-05-02T05:56:39.065Z"
   },
   {
    "duration": 213,
    "start_time": "2022-05-02T05:56:39.079Z"
   },
   {
    "duration": 211,
    "start_time": "2022-05-02T05:56:39.294Z"
   },
   {
    "duration": 218,
    "start_time": "2022-05-02T05:56:39.506Z"
   }
  ],
  "kernelspec": {
   "display_name": "Python 3 (ipykernel)",
   "language": "python",
   "name": "python3"
  },
  "language_info": {
   "codemirror_mode": {
    "name": "ipython",
    "version": 3
   },
   "file_extension": ".py",
   "mimetype": "text/x-python",
   "name": "python",
   "nbconvert_exporter": "python",
   "pygments_lexer": "ipython3",
   "version": "3.9.5"
  },
  "toc": {
   "base_numbering": 1,
   "nav_menu": {},
   "number_sections": true,
   "sideBar": true,
   "skip_h1_title": true,
   "title_cell": "Table of Contents",
   "title_sidebar": "Contents",
   "toc_cell": false,
   "toc_position": {
    "height": "calc(100% - 180px)",
    "left": "10px",
    "top": "150px",
    "width": "409.062px"
   },
   "toc_section_display": true,
   "toc_window_display": true
  }
 },
 "nbformat": 4,
 "nbformat_minor": 2
}
