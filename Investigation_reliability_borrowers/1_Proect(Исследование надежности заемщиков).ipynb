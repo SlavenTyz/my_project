{
 "cells": [
  {
   "cell_type": "markdown",
   "metadata": {},
   "source": [
    "# Исследование надёжности заёмщиков\n",
    "\n",
    "Заказчик — кредитный отдел банка. Нужно разобраться, влияет ли семейное положение и количество детей клиента на факт погашения кредита в срок. Входные данные от банка — статистика о платёжеспособности клиентов.\n",
    "\n",
    "Результаты исследования будут учтены при построении модели **кредитного скоринга** — специальной системы, которая оценивает способность потенциального заёмщика вернуть кредит банку."
   ]
  },
  {
   "cell_type": "markdown",
   "metadata": {},
   "source": [
    "## Шаг 1. Откройте файл с данными и изучите общую информацию"
   ]
  },
  {
   "cell_type": "code",
   "execution_count": 1,
   "metadata": {},
   "outputs": [
    {
     "data": {
      "text/html": [
       "<div>\n",
       "<style scoped>\n",
       "    .dataframe tbody tr th:only-of-type {\n",
       "        vertical-align: middle;\n",
       "    }\n",
       "\n",
       "    .dataframe tbody tr th {\n",
       "        vertical-align: top;\n",
       "    }\n",
       "\n",
       "    .dataframe thead th {\n",
       "        text-align: right;\n",
       "    }\n",
       "</style>\n",
       "<table border=\"1\" class=\"dataframe\">\n",
       "  <thead>\n",
       "    <tr style=\"text-align: right;\">\n",
       "      <th></th>\n",
       "      <th>children</th>\n",
       "      <th>days_employed</th>\n",
       "      <th>dob_years</th>\n",
       "      <th>education</th>\n",
       "      <th>education_id</th>\n",
       "      <th>family_status</th>\n",
       "      <th>family_status_id</th>\n",
       "      <th>gender</th>\n",
       "      <th>income_type</th>\n",
       "      <th>debt</th>\n",
       "      <th>total_income</th>\n",
       "      <th>purpose</th>\n",
       "    </tr>\n",
       "  </thead>\n",
       "  <tbody>\n",
       "    <tr>\n",
       "      <th>0</th>\n",
       "      <td>1</td>\n",
       "      <td>-8437.673028</td>\n",
       "      <td>42</td>\n",
       "      <td>высшее</td>\n",
       "      <td>0</td>\n",
       "      <td>женат / замужем</td>\n",
       "      <td>0</td>\n",
       "      <td>F</td>\n",
       "      <td>сотрудник</td>\n",
       "      <td>0</td>\n",
       "      <td>253875.639453</td>\n",
       "      <td>покупка жилья</td>\n",
       "    </tr>\n",
       "    <tr>\n",
       "      <th>1</th>\n",
       "      <td>1</td>\n",
       "      <td>-4024.803754</td>\n",
       "      <td>36</td>\n",
       "      <td>среднее</td>\n",
       "      <td>1</td>\n",
       "      <td>женат / замужем</td>\n",
       "      <td>0</td>\n",
       "      <td>F</td>\n",
       "      <td>сотрудник</td>\n",
       "      <td>0</td>\n",
       "      <td>112080.014102</td>\n",
       "      <td>приобретение автомобиля</td>\n",
       "    </tr>\n",
       "    <tr>\n",
       "      <th>2</th>\n",
       "      <td>0</td>\n",
       "      <td>-5623.422610</td>\n",
       "      <td>33</td>\n",
       "      <td>среднее</td>\n",
       "      <td>1</td>\n",
       "      <td>женат / замужем</td>\n",
       "      <td>0</td>\n",
       "      <td>M</td>\n",
       "      <td>сотрудник</td>\n",
       "      <td>0</td>\n",
       "      <td>145885.952297</td>\n",
       "      <td>покупка жилья</td>\n",
       "    </tr>\n",
       "    <tr>\n",
       "      <th>3</th>\n",
       "      <td>3</td>\n",
       "      <td>-4124.747207</td>\n",
       "      <td>32</td>\n",
       "      <td>среднее</td>\n",
       "      <td>1</td>\n",
       "      <td>женат / замужем</td>\n",
       "      <td>0</td>\n",
       "      <td>M</td>\n",
       "      <td>сотрудник</td>\n",
       "      <td>0</td>\n",
       "      <td>267628.550329</td>\n",
       "      <td>дополнительное образование</td>\n",
       "    </tr>\n",
       "    <tr>\n",
       "      <th>4</th>\n",
       "      <td>0</td>\n",
       "      <td>340266.072047</td>\n",
       "      <td>53</td>\n",
       "      <td>среднее</td>\n",
       "      <td>1</td>\n",
       "      <td>гражданский брак</td>\n",
       "      <td>1</td>\n",
       "      <td>F</td>\n",
       "      <td>пенсионер</td>\n",
       "      <td>0</td>\n",
       "      <td>158616.077870</td>\n",
       "      <td>сыграть свадьбу</td>\n",
       "    </tr>\n",
       "    <tr>\n",
       "      <th>5</th>\n",
       "      <td>0</td>\n",
       "      <td>-926.185831</td>\n",
       "      <td>27</td>\n",
       "      <td>высшее</td>\n",
       "      <td>0</td>\n",
       "      <td>гражданский брак</td>\n",
       "      <td>1</td>\n",
       "      <td>M</td>\n",
       "      <td>компаньон</td>\n",
       "      <td>0</td>\n",
       "      <td>255763.565419</td>\n",
       "      <td>покупка жилья</td>\n",
       "    </tr>\n",
       "    <tr>\n",
       "      <th>6</th>\n",
       "      <td>0</td>\n",
       "      <td>-2879.202052</td>\n",
       "      <td>43</td>\n",
       "      <td>высшее</td>\n",
       "      <td>0</td>\n",
       "      <td>женат / замужем</td>\n",
       "      <td>0</td>\n",
       "      <td>F</td>\n",
       "      <td>компаньон</td>\n",
       "      <td>0</td>\n",
       "      <td>240525.971920</td>\n",
       "      <td>операции с жильем</td>\n",
       "    </tr>\n",
       "    <tr>\n",
       "      <th>7</th>\n",
       "      <td>0</td>\n",
       "      <td>-152.779569</td>\n",
       "      <td>50</td>\n",
       "      <td>среднее</td>\n",
       "      <td>1</td>\n",
       "      <td>женат / замужем</td>\n",
       "      <td>0</td>\n",
       "      <td>M</td>\n",
       "      <td>сотрудник</td>\n",
       "      <td>0</td>\n",
       "      <td>135823.934197</td>\n",
       "      <td>образование</td>\n",
       "    </tr>\n",
       "    <tr>\n",
       "      <th>8</th>\n",
       "      <td>2</td>\n",
       "      <td>-6929.865299</td>\n",
       "      <td>35</td>\n",
       "      <td>высшее</td>\n",
       "      <td>0</td>\n",
       "      <td>гражданский брак</td>\n",
       "      <td>1</td>\n",
       "      <td>F</td>\n",
       "      <td>сотрудник</td>\n",
       "      <td>0</td>\n",
       "      <td>95856.832424</td>\n",
       "      <td>на проведение свадьбы</td>\n",
       "    </tr>\n",
       "    <tr>\n",
       "      <th>9</th>\n",
       "      <td>0</td>\n",
       "      <td>-2188.756445</td>\n",
       "      <td>41</td>\n",
       "      <td>среднее</td>\n",
       "      <td>1</td>\n",
       "      <td>женат / замужем</td>\n",
       "      <td>0</td>\n",
       "      <td>M</td>\n",
       "      <td>сотрудник</td>\n",
       "      <td>0</td>\n",
       "      <td>144425.938277</td>\n",
       "      <td>покупка жилья для семьи</td>\n",
       "    </tr>\n",
       "    <tr>\n",
       "      <th>10</th>\n",
       "      <td>2</td>\n",
       "      <td>-4171.483647</td>\n",
       "      <td>36</td>\n",
       "      <td>высшее</td>\n",
       "      <td>0</td>\n",
       "      <td>женат / замужем</td>\n",
       "      <td>0</td>\n",
       "      <td>M</td>\n",
       "      <td>компаньон</td>\n",
       "      <td>0</td>\n",
       "      <td>113943.491460</td>\n",
       "      <td>покупка недвижимости</td>\n",
       "    </tr>\n",
       "    <tr>\n",
       "      <th>11</th>\n",
       "      <td>0</td>\n",
       "      <td>-792.701887</td>\n",
       "      <td>40</td>\n",
       "      <td>среднее</td>\n",
       "      <td>1</td>\n",
       "      <td>женат / замужем</td>\n",
       "      <td>0</td>\n",
       "      <td>F</td>\n",
       "      <td>сотрудник</td>\n",
       "      <td>0</td>\n",
       "      <td>77069.234271</td>\n",
       "      <td>покупка коммерческой недвижимости</td>\n",
       "    </tr>\n",
       "    <tr>\n",
       "      <th>12</th>\n",
       "      <td>0</td>\n",
       "      <td>NaN</td>\n",
       "      <td>65</td>\n",
       "      <td>среднее</td>\n",
       "      <td>1</td>\n",
       "      <td>гражданский брак</td>\n",
       "      <td>1</td>\n",
       "      <td>M</td>\n",
       "      <td>пенсионер</td>\n",
       "      <td>0</td>\n",
       "      <td>NaN</td>\n",
       "      <td>сыграть свадьбу</td>\n",
       "    </tr>\n",
       "    <tr>\n",
       "      <th>13</th>\n",
       "      <td>0</td>\n",
       "      <td>-1846.641941</td>\n",
       "      <td>54</td>\n",
       "      <td>неоконченное высшее</td>\n",
       "      <td>2</td>\n",
       "      <td>женат / замужем</td>\n",
       "      <td>0</td>\n",
       "      <td>F</td>\n",
       "      <td>сотрудник</td>\n",
       "      <td>0</td>\n",
       "      <td>130458.228857</td>\n",
       "      <td>приобретение автомобиля</td>\n",
       "    </tr>\n",
       "    <tr>\n",
       "      <th>14</th>\n",
       "      <td>0</td>\n",
       "      <td>-1844.956182</td>\n",
       "      <td>56</td>\n",
       "      <td>высшее</td>\n",
       "      <td>0</td>\n",
       "      <td>гражданский брак</td>\n",
       "      <td>1</td>\n",
       "      <td>F</td>\n",
       "      <td>компаньон</td>\n",
       "      <td>1</td>\n",
       "      <td>165127.911772</td>\n",
       "      <td>покупка жилой недвижимости</td>\n",
       "    </tr>\n",
       "  </tbody>\n",
       "</table>\n",
       "</div>"
      ],
      "text/plain": [
       "    children  days_employed  dob_years            education  education_id  \\\n",
       "0          1   -8437.673028         42               высшее             0   \n",
       "1          1   -4024.803754         36              среднее             1   \n",
       "2          0   -5623.422610         33              среднее             1   \n",
       "3          3   -4124.747207         32              среднее             1   \n",
       "4          0  340266.072047         53              среднее             1   \n",
       "5          0    -926.185831         27               высшее             0   \n",
       "6          0   -2879.202052         43               высшее             0   \n",
       "7          0    -152.779569         50              среднее             1   \n",
       "8          2   -6929.865299         35               высшее             0   \n",
       "9          0   -2188.756445         41              среднее             1   \n",
       "10         2   -4171.483647         36               высшее             0   \n",
       "11         0    -792.701887         40              среднее             1   \n",
       "12         0            NaN         65              среднее             1   \n",
       "13         0   -1846.641941         54  неоконченное высшее             2   \n",
       "14         0   -1844.956182         56               высшее             0   \n",
       "\n",
       "       family_status  family_status_id gender income_type  debt  \\\n",
       "0    женат / замужем                 0      F   сотрудник     0   \n",
       "1    женат / замужем                 0      F   сотрудник     0   \n",
       "2    женат / замужем                 0      M   сотрудник     0   \n",
       "3    женат / замужем                 0      M   сотрудник     0   \n",
       "4   гражданский брак                 1      F   пенсионер     0   \n",
       "5   гражданский брак                 1      M   компаньон     0   \n",
       "6    женат / замужем                 0      F   компаньон     0   \n",
       "7    женат / замужем                 0      M   сотрудник     0   \n",
       "8   гражданский брак                 1      F   сотрудник     0   \n",
       "9    женат / замужем                 0      M   сотрудник     0   \n",
       "10   женат / замужем                 0      M   компаньон     0   \n",
       "11   женат / замужем                 0      F   сотрудник     0   \n",
       "12  гражданский брак                 1      M   пенсионер     0   \n",
       "13   женат / замужем                 0      F   сотрудник     0   \n",
       "14  гражданский брак                 1      F   компаньон     1   \n",
       "\n",
       "     total_income                            purpose  \n",
       "0   253875.639453                      покупка жилья  \n",
       "1   112080.014102            приобретение автомобиля  \n",
       "2   145885.952297                      покупка жилья  \n",
       "3   267628.550329         дополнительное образование  \n",
       "4   158616.077870                    сыграть свадьбу  \n",
       "5   255763.565419                      покупка жилья  \n",
       "6   240525.971920                  операции с жильем  \n",
       "7   135823.934197                        образование  \n",
       "8    95856.832424              на проведение свадьбы  \n",
       "9   144425.938277            покупка жилья для семьи  \n",
       "10  113943.491460               покупка недвижимости  \n",
       "11   77069.234271  покупка коммерческой недвижимости  \n",
       "12            NaN                    сыграть свадьбу  \n",
       "13  130458.228857            приобретение автомобиля  \n",
       "14  165127.911772         покупка жилой недвижимости  "
      ]
     },
     "execution_count": 1,
     "metadata": {},
     "output_type": "execute_result"
    }
   ],
   "source": [
    "import pandas as pd\n",
    "df=pd.read_csv('/datasets/data.csv')\n",
    "df['education']=df['education'].str.lower()\n",
    "df.head(15)\n",
    "\n"
   ]
  },
  {
   "cell_type": "markdown",
   "metadata": {},
   "source": [
    "### Расшифровка столбцов\n"
   ]
  },
  {
   "cell_type": "markdown",
   "metadata": {},
   "source": [
    "children — количество детей в семье\n",
    "days_employed — общий трудовой стаж в днях\n",
    "dob_years — возраст клиента в годах\n",
    "education — уровень образования клиента\n",
    "education_id — идентификатор уровня образования\n",
    "family_status — семейное положение\n",
    "family_status_id — идентификатор семейного положения\n",
    "gender — пол клиента\n",
    "income_type — тип занятости\n",
    "debt — имел ли задолженность по возврату кредитов\n",
    "total_income — ежемесячный доход\n",
    "purpose — цель получения кредита"
   ]
  },
  {
   "cell_type": "code",
   "execution_count": 2,
   "metadata": {},
   "outputs": [
    {
     "name": "stdout",
     "output_type": "stream",
     "text": [
      "<class 'pandas.core.frame.DataFrame'>\n",
      "RangeIndex: 21525 entries, 0 to 21524\n",
      "Data columns (total 12 columns):\n",
      " #   Column            Non-Null Count  Dtype  \n",
      "---  ------            --------------  -----  \n",
      " 0   children          21525 non-null  int64  \n",
      " 1   days_employed     19351 non-null  float64\n",
      " 2   dob_years         21525 non-null  int64  \n",
      " 3   education         21525 non-null  object \n",
      " 4   education_id      21525 non-null  int64  \n",
      " 5   family_status     21525 non-null  object \n",
      " 6   family_status_id  21525 non-null  int64  \n",
      " 7   gender            21525 non-null  object \n",
      " 8   income_type       21525 non-null  object \n",
      " 9   debt              21525 non-null  int64  \n",
      " 10  total_income      19351 non-null  float64\n",
      " 11  purpose           21525 non-null  object \n",
      "dtypes: float64(2), int64(5), object(5)\n",
      "memory usage: 2.0+ MB\n"
     ]
    }
   ],
   "source": [
    "df.info()"
   ]
  },
  {
   "cell_type": "code",
   "execution_count": 3,
   "metadata": {},
   "outputs": [
    {
     "data": {
      "text/html": [
       "<div>\n",
       "<style scoped>\n",
       "    .dataframe tbody tr th:only-of-type {\n",
       "        vertical-align: middle;\n",
       "    }\n",
       "\n",
       "    .dataframe tbody tr th {\n",
       "        vertical-align: top;\n",
       "    }\n",
       "\n",
       "    .dataframe thead th {\n",
       "        text-align: right;\n",
       "    }\n",
       "</style>\n",
       "<table border=\"1\" class=\"dataframe\">\n",
       "  <thead>\n",
       "    <tr style=\"text-align: right;\">\n",
       "      <th></th>\n",
       "      <th>children</th>\n",
       "      <th>days_employed</th>\n",
       "      <th>dob_years</th>\n",
       "      <th>education_id</th>\n",
       "      <th>family_status_id</th>\n",
       "      <th>debt</th>\n",
       "      <th>total_income</th>\n",
       "    </tr>\n",
       "  </thead>\n",
       "  <tbody>\n",
       "    <tr>\n",
       "      <th>count</th>\n",
       "      <td>21525.000000</td>\n",
       "      <td>19351.000000</td>\n",
       "      <td>21525.000000</td>\n",
       "      <td>21525.000000</td>\n",
       "      <td>21525.000000</td>\n",
       "      <td>21525.000000</td>\n",
       "      <td>1.935100e+04</td>\n",
       "    </tr>\n",
       "    <tr>\n",
       "      <th>mean</th>\n",
       "      <td>0.538908</td>\n",
       "      <td>63046.497661</td>\n",
       "      <td>43.293380</td>\n",
       "      <td>0.817236</td>\n",
       "      <td>0.972544</td>\n",
       "      <td>0.080883</td>\n",
       "      <td>1.674223e+05</td>\n",
       "    </tr>\n",
       "    <tr>\n",
       "      <th>std</th>\n",
       "      <td>1.381587</td>\n",
       "      <td>140827.311974</td>\n",
       "      <td>12.574584</td>\n",
       "      <td>0.548138</td>\n",
       "      <td>1.420324</td>\n",
       "      <td>0.272661</td>\n",
       "      <td>1.029716e+05</td>\n",
       "    </tr>\n",
       "    <tr>\n",
       "      <th>min</th>\n",
       "      <td>-1.000000</td>\n",
       "      <td>-18388.949901</td>\n",
       "      <td>0.000000</td>\n",
       "      <td>0.000000</td>\n",
       "      <td>0.000000</td>\n",
       "      <td>0.000000</td>\n",
       "      <td>2.066726e+04</td>\n",
       "    </tr>\n",
       "    <tr>\n",
       "      <th>25%</th>\n",
       "      <td>0.000000</td>\n",
       "      <td>-2747.423625</td>\n",
       "      <td>33.000000</td>\n",
       "      <td>1.000000</td>\n",
       "      <td>0.000000</td>\n",
       "      <td>0.000000</td>\n",
       "      <td>1.030532e+05</td>\n",
       "    </tr>\n",
       "    <tr>\n",
       "      <th>50%</th>\n",
       "      <td>0.000000</td>\n",
       "      <td>-1203.369529</td>\n",
       "      <td>42.000000</td>\n",
       "      <td>1.000000</td>\n",
       "      <td>0.000000</td>\n",
       "      <td>0.000000</td>\n",
       "      <td>1.450179e+05</td>\n",
       "    </tr>\n",
       "    <tr>\n",
       "      <th>75%</th>\n",
       "      <td>1.000000</td>\n",
       "      <td>-291.095954</td>\n",
       "      <td>53.000000</td>\n",
       "      <td>1.000000</td>\n",
       "      <td>1.000000</td>\n",
       "      <td>0.000000</td>\n",
       "      <td>2.034351e+05</td>\n",
       "    </tr>\n",
       "    <tr>\n",
       "      <th>max</th>\n",
       "      <td>20.000000</td>\n",
       "      <td>401755.400475</td>\n",
       "      <td>75.000000</td>\n",
       "      <td>4.000000</td>\n",
       "      <td>4.000000</td>\n",
       "      <td>1.000000</td>\n",
       "      <td>2.265604e+06</td>\n",
       "    </tr>\n",
       "  </tbody>\n",
       "</table>\n",
       "</div>"
      ],
      "text/plain": [
       "           children  days_employed     dob_years  education_id  \\\n",
       "count  21525.000000   19351.000000  21525.000000  21525.000000   \n",
       "mean       0.538908   63046.497661     43.293380      0.817236   \n",
       "std        1.381587  140827.311974     12.574584      0.548138   \n",
       "min       -1.000000  -18388.949901      0.000000      0.000000   \n",
       "25%        0.000000   -2747.423625     33.000000      1.000000   \n",
       "50%        0.000000   -1203.369529     42.000000      1.000000   \n",
       "75%        1.000000    -291.095954     53.000000      1.000000   \n",
       "max       20.000000  401755.400475     75.000000      4.000000   \n",
       "\n",
       "       family_status_id          debt  total_income  \n",
       "count      21525.000000  21525.000000  1.935100e+04  \n",
       "mean           0.972544      0.080883  1.674223e+05  \n",
       "std            1.420324      0.272661  1.029716e+05  \n",
       "min            0.000000      0.000000  2.066726e+04  \n",
       "25%            0.000000      0.000000  1.030532e+05  \n",
       "50%            0.000000      0.000000  1.450179e+05  \n",
       "75%            1.000000      0.000000  2.034351e+05  \n",
       "max            4.000000      1.000000  2.265604e+06  "
      ]
     },
     "execution_count": 3,
     "metadata": {},
     "output_type": "execute_result"
    }
   ],
   "source": [
    "df.describe()"
   ]
  },
  {
   "cell_type": "markdown",
   "metadata": {},
   "source": [
    "**Вывод**"
   ]
  },
  {
   "cell_type": "markdown",
   "metadata": {},
   "source": [
    "1) В колонках purpose,education,education_id,\tfamily_status,family_status_id,gender,income_type\tdebt\t категориальные переменные. В остальных колличественые\n",
    "\n",
    "2) Корректное название колонок, по этому ни чего менять не нужно\n",
    "\n",
    "3) Имеются пропуски в данных в следующих колонка total_income - ежемесячный доход,days_employed - общий трудовой стаж в днях и это колличественые переменные\n",
    "\n",
    "4) в колонке days_employed имеются положительные и отрицательные значения\n",
    "\n",
    "5) в колонке education категория образования в разных регистрах, по этому привел к общему регистру"
   ]
  },
  {
   "cell_type": "markdown",
   "metadata": {},
   "source": [
    "## Шаг 2. Предобработка данных"
   ]
  },
  {
   "cell_type": "markdown",
   "metadata": {},
   "source": [
    "### Обработка пропусков"
   ]
  },
  {
   "cell_type": "code",
   "execution_count": 4,
   "metadata": {},
   "outputs": [
    {
     "data": {
      "text/plain": [
       "children               0\n",
       "days_employed       2174\n",
       "dob_years              0\n",
       "education              0\n",
       "education_id           0\n",
       "family_status          0\n",
       "family_status_id       0\n",
       "gender                 0\n",
       "income_type            0\n",
       "debt                   0\n",
       "total_income        2174\n",
       "purpose                0\n",
       "dtype: int64"
      ]
     },
     "execution_count": 4,
     "metadata": {},
     "output_type": "execute_result"
    }
   ],
   "source": [
    "df.isna().sum()# подсчёт пропусков\n",
    "\n"
   ]
  },
  {
   "cell_type": "markdown",
   "metadata": {},
   "source": [
    "**Вывод**\n"
   ]
  },
  {
   "cell_type": "markdown",
   "metadata": {},
   "source": [
    "Кол-во пропусков в ежемесячном доходе и общем трудовом стаже одинаковые\n"
   ]
  },
  {
   "cell_type": "markdown",
   "metadata": {},
   "source": [
    "### Замена типа данных"
   ]
  },
  {
   "cell_type": "code",
   "execution_count": 5,
   "metadata": {},
   "outputs": [
    {
     "data": {
      "text/html": [
       "<div>\n",
       "<style scoped>\n",
       "    .dataframe tbody tr th:only-of-type {\n",
       "        vertical-align: middle;\n",
       "    }\n",
       "\n",
       "    .dataframe tbody tr th {\n",
       "        vertical-align: top;\n",
       "    }\n",
       "\n",
       "    .dataframe thead th {\n",
       "        text-align: right;\n",
       "    }\n",
       "</style>\n",
       "<table border=\"1\" class=\"dataframe\">\n",
       "  <thead>\n",
       "    <tr style=\"text-align: right;\">\n",
       "      <th></th>\n",
       "      <th>children</th>\n",
       "      <th>days_employed</th>\n",
       "      <th>dob_years</th>\n",
       "      <th>education</th>\n",
       "      <th>education_id</th>\n",
       "      <th>family_status</th>\n",
       "      <th>family_status_id</th>\n",
       "      <th>gender</th>\n",
       "      <th>income_type</th>\n",
       "      <th>debt</th>\n",
       "      <th>total_income</th>\n",
       "      <th>purpose</th>\n",
       "    </tr>\n",
       "  </thead>\n",
       "  <tbody>\n",
       "    <tr>\n",
       "      <th>0</th>\n",
       "      <td>1</td>\n",
       "      <td>-8437.673028</td>\n",
       "      <td>42</td>\n",
       "      <td>высшее</td>\n",
       "      <td>0</td>\n",
       "      <td>женат / замужем</td>\n",
       "      <td>0</td>\n",
       "      <td>F</td>\n",
       "      <td>сотрудник</td>\n",
       "      <td>0</td>\n",
       "      <td>253875.639453</td>\n",
       "      <td>покупка жилья</td>\n",
       "    </tr>\n",
       "    <tr>\n",
       "      <th>1</th>\n",
       "      <td>1</td>\n",
       "      <td>-4024.803754</td>\n",
       "      <td>36</td>\n",
       "      <td>среднее</td>\n",
       "      <td>1</td>\n",
       "      <td>женат / замужем</td>\n",
       "      <td>0</td>\n",
       "      <td>F</td>\n",
       "      <td>сотрудник</td>\n",
       "      <td>0</td>\n",
       "      <td>112080.014102</td>\n",
       "      <td>приобретение автомобиля</td>\n",
       "    </tr>\n",
       "    <tr>\n",
       "      <th>2</th>\n",
       "      <td>0</td>\n",
       "      <td>-5623.42261</td>\n",
       "      <td>33</td>\n",
       "      <td>среднее</td>\n",
       "      <td>1</td>\n",
       "      <td>женат / замужем</td>\n",
       "      <td>0</td>\n",
       "      <td>M</td>\n",
       "      <td>сотрудник</td>\n",
       "      <td>0</td>\n",
       "      <td>145885.952297</td>\n",
       "      <td>покупка жилья</td>\n",
       "    </tr>\n",
       "    <tr>\n",
       "      <th>3</th>\n",
       "      <td>3</td>\n",
       "      <td>-4124.747207</td>\n",
       "      <td>32</td>\n",
       "      <td>среднее</td>\n",
       "      <td>1</td>\n",
       "      <td>женат / замужем</td>\n",
       "      <td>0</td>\n",
       "      <td>M</td>\n",
       "      <td>сотрудник</td>\n",
       "      <td>0</td>\n",
       "      <td>267628.550329</td>\n",
       "      <td>дополнительное образование</td>\n",
       "    </tr>\n",
       "    <tr>\n",
       "      <th>4</th>\n",
       "      <td>0</td>\n",
       "      <td>340266.072047</td>\n",
       "      <td>53</td>\n",
       "      <td>среднее</td>\n",
       "      <td>1</td>\n",
       "      <td>гражданский брак</td>\n",
       "      <td>1</td>\n",
       "      <td>F</td>\n",
       "      <td>пенсионер</td>\n",
       "      <td>0</td>\n",
       "      <td>158616.07787</td>\n",
       "      <td>сыграть свадьбу</td>\n",
       "    </tr>\n",
       "    <tr>\n",
       "      <th>5</th>\n",
       "      <td>0</td>\n",
       "      <td>-926.185831</td>\n",
       "      <td>27</td>\n",
       "      <td>высшее</td>\n",
       "      <td>0</td>\n",
       "      <td>гражданский брак</td>\n",
       "      <td>1</td>\n",
       "      <td>M</td>\n",
       "      <td>компаньон</td>\n",
       "      <td>0</td>\n",
       "      <td>255763.565419</td>\n",
       "      <td>покупка жилья</td>\n",
       "    </tr>\n",
       "    <tr>\n",
       "      <th>6</th>\n",
       "      <td>0</td>\n",
       "      <td>-2879.202052</td>\n",
       "      <td>43</td>\n",
       "      <td>высшее</td>\n",
       "      <td>0</td>\n",
       "      <td>женат / замужем</td>\n",
       "      <td>0</td>\n",
       "      <td>F</td>\n",
       "      <td>компаньон</td>\n",
       "      <td>0</td>\n",
       "      <td>240525.97192</td>\n",
       "      <td>операции с жильем</td>\n",
       "    </tr>\n",
       "    <tr>\n",
       "      <th>7</th>\n",
       "      <td>0</td>\n",
       "      <td>-152.779569</td>\n",
       "      <td>50</td>\n",
       "      <td>среднее</td>\n",
       "      <td>1</td>\n",
       "      <td>женат / замужем</td>\n",
       "      <td>0</td>\n",
       "      <td>M</td>\n",
       "      <td>сотрудник</td>\n",
       "      <td>0</td>\n",
       "      <td>135823.934197</td>\n",
       "      <td>образование</td>\n",
       "    </tr>\n",
       "    <tr>\n",
       "      <th>8</th>\n",
       "      <td>2</td>\n",
       "      <td>-6929.865299</td>\n",
       "      <td>35</td>\n",
       "      <td>высшее</td>\n",
       "      <td>0</td>\n",
       "      <td>гражданский брак</td>\n",
       "      <td>1</td>\n",
       "      <td>F</td>\n",
       "      <td>сотрудник</td>\n",
       "      <td>0</td>\n",
       "      <td>95856.832424</td>\n",
       "      <td>на проведение свадьбы</td>\n",
       "    </tr>\n",
       "    <tr>\n",
       "      <th>9</th>\n",
       "      <td>0</td>\n",
       "      <td>-2188.756445</td>\n",
       "      <td>41</td>\n",
       "      <td>среднее</td>\n",
       "      <td>1</td>\n",
       "      <td>женат / замужем</td>\n",
       "      <td>0</td>\n",
       "      <td>M</td>\n",
       "      <td>сотрудник</td>\n",
       "      <td>0</td>\n",
       "      <td>144425.938277</td>\n",
       "      <td>покупка жилья для семьи</td>\n",
       "    </tr>\n",
       "    <tr>\n",
       "      <th>10</th>\n",
       "      <td>2</td>\n",
       "      <td>-4171.483647</td>\n",
       "      <td>36</td>\n",
       "      <td>высшее</td>\n",
       "      <td>0</td>\n",
       "      <td>женат / замужем</td>\n",
       "      <td>0</td>\n",
       "      <td>M</td>\n",
       "      <td>компаньон</td>\n",
       "      <td>0</td>\n",
       "      <td>113943.49146</td>\n",
       "      <td>покупка недвижимости</td>\n",
       "    </tr>\n",
       "    <tr>\n",
       "      <th>11</th>\n",
       "      <td>0</td>\n",
       "      <td>-792.701887</td>\n",
       "      <td>40</td>\n",
       "      <td>среднее</td>\n",
       "      <td>1</td>\n",
       "      <td>женат / замужем</td>\n",
       "      <td>0</td>\n",
       "      <td>F</td>\n",
       "      <td>сотрудник</td>\n",
       "      <td>0</td>\n",
       "      <td>77069.234271</td>\n",
       "      <td>покупка коммерческой недвижимости</td>\n",
       "    </tr>\n",
       "    <tr>\n",
       "      <th>12</th>\n",
       "      <td>0</td>\n",
       "      <td>NaN</td>\n",
       "      <td>65</td>\n",
       "      <td>среднее</td>\n",
       "      <td>1</td>\n",
       "      <td>гражданский брак</td>\n",
       "      <td>1</td>\n",
       "      <td>M</td>\n",
       "      <td>пенсионер</td>\n",
       "      <td>0</td>\n",
       "      <td>NaN</td>\n",
       "      <td>сыграть свадьбу</td>\n",
       "    </tr>\n",
       "    <tr>\n",
       "      <th>13</th>\n",
       "      <td>0</td>\n",
       "      <td>-1846.641941</td>\n",
       "      <td>54</td>\n",
       "      <td>неоконченное высшее</td>\n",
       "      <td>2</td>\n",
       "      <td>женат / замужем</td>\n",
       "      <td>0</td>\n",
       "      <td>F</td>\n",
       "      <td>сотрудник</td>\n",
       "      <td>0</td>\n",
       "      <td>130458.228857</td>\n",
       "      <td>приобретение автомобиля</td>\n",
       "    </tr>\n",
       "    <tr>\n",
       "      <th>14</th>\n",
       "      <td>0</td>\n",
       "      <td>-1844.956182</td>\n",
       "      <td>56</td>\n",
       "      <td>высшее</td>\n",
       "      <td>0</td>\n",
       "      <td>гражданский брак</td>\n",
       "      <td>1</td>\n",
       "      <td>F</td>\n",
       "      <td>компаньон</td>\n",
       "      <td>1</td>\n",
       "      <td>165127.911772</td>\n",
       "      <td>покупка жилой недвижимости</td>\n",
       "    </tr>\n",
       "  </tbody>\n",
       "</table>\n",
       "</div>"
      ],
      "text/plain": [
       "    children  days_employed  dob_years            education  education_id  \\\n",
       "0          1   -8437.673028         42               высшее             0   \n",
       "1          1   -4024.803754         36              среднее             1   \n",
       "2          0    -5623.42261         33              среднее             1   \n",
       "3          3   -4124.747207         32              среднее             1   \n",
       "4          0  340266.072047         53              среднее             1   \n",
       "5          0    -926.185831         27               высшее             0   \n",
       "6          0   -2879.202052         43               высшее             0   \n",
       "7          0    -152.779569         50              среднее             1   \n",
       "8          2   -6929.865299         35               высшее             0   \n",
       "9          0   -2188.756445         41              среднее             1   \n",
       "10         2   -4171.483647         36               высшее             0   \n",
       "11         0    -792.701887         40              среднее             1   \n",
       "12         0            NaN         65              среднее             1   \n",
       "13         0   -1846.641941         54  неоконченное высшее             2   \n",
       "14         0   -1844.956182         56               высшее             0   \n",
       "\n",
       "       family_status  family_status_id gender income_type  debt  \\\n",
       "0    женат / замужем                 0      F   сотрудник     0   \n",
       "1    женат / замужем                 0      F   сотрудник     0   \n",
       "2    женат / замужем                 0      M   сотрудник     0   \n",
       "3    женат / замужем                 0      M   сотрудник     0   \n",
       "4   гражданский брак                 1      F   пенсионер     0   \n",
       "5   гражданский брак                 1      M   компаньон     0   \n",
       "6    женат / замужем                 0      F   компаньон     0   \n",
       "7    женат / замужем                 0      M   сотрудник     0   \n",
       "8   гражданский брак                 1      F   сотрудник     0   \n",
       "9    женат / замужем                 0      M   сотрудник     0   \n",
       "10   женат / замужем                 0      M   компаньон     0   \n",
       "11   женат / замужем                 0      F   сотрудник     0   \n",
       "12  гражданский брак                 1      M   пенсионер     0   \n",
       "13   женат / замужем                 0      F   сотрудник     0   \n",
       "14  гражданский брак                 1      F   компаньон     1   \n",
       "\n",
       "     total_income                            purpose  \n",
       "0   253875.639453                      покупка жилья  \n",
       "1   112080.014102            приобретение автомобиля  \n",
       "2   145885.952297                      покупка жилья  \n",
       "3   267628.550329         дополнительное образование  \n",
       "4    158616.07787                    сыграть свадьбу  \n",
       "5   255763.565419                      покупка жилья  \n",
       "6    240525.97192                  операции с жильем  \n",
       "7   135823.934197                        образование  \n",
       "8    95856.832424              на проведение свадьбы  \n",
       "9   144425.938277            покупка жилья для семьи  \n",
       "10   113943.49146               покупка недвижимости  \n",
       "11   77069.234271  покупка коммерческой недвижимости  \n",
       "12            NaN                    сыграть свадьбу  \n",
       "13  130458.228857            приобретение автомобиля  \n",
       "14  165127.911772         покупка жилой недвижимости  "
      ]
     },
     "metadata": {},
     "output_type": "display_data"
    },
    {
     "name": "stdout",
     "output_type": "stream",
     "text": [
      "<class 'pandas.core.frame.DataFrame'>\n",
      "RangeIndex: 21525 entries, 0 to 21524\n",
      "Data columns (total 12 columns):\n",
      " #   Column            Non-Null Count  Dtype \n",
      "---  ------            --------------  ----- \n",
      " 0   children          21525 non-null  int64 \n",
      " 1   days_employed     21525 non-null  object\n",
      " 2   dob_years         21525 non-null  int64 \n",
      " 3   education         21525 non-null  object\n",
      " 4   education_id      21525 non-null  int64 \n",
      " 5   family_status     21525 non-null  object\n",
      " 6   family_status_id  21525 non-null  int64 \n",
      " 7   gender            21525 non-null  object\n",
      " 8   income_type       21525 non-null  object\n",
      " 9   debt              21525 non-null  int64 \n",
      " 10  total_income      21525 non-null  object\n",
      " 11  purpose           21525 non-null  object\n",
      "dtypes: int64(5), object(7)\n",
      "memory usage: 2.0+ MB\n",
      "\n",
      "Заменил тип данных в столбце total_income\n",
      "\n",
      "<class 'pandas.core.frame.DataFrame'>\n",
      "RangeIndex: 21525 entries, 0 to 21524\n",
      "Data columns (total 12 columns):\n",
      " #   Column            Non-Null Count  Dtype  \n",
      "---  ------            --------------  -----  \n",
      " 0   children          21525 non-null  int64  \n",
      " 1   days_employed     21525 non-null  object \n",
      " 2   dob_years         21525 non-null  int64  \n",
      " 3   education         21525 non-null  object \n",
      " 4   education_id      21525 non-null  int64  \n",
      " 5   family_status     21525 non-null  object \n",
      " 6   family_status_id  21525 non-null  int64  \n",
      " 7   gender            21525 non-null  object \n",
      " 8   income_type       21525 non-null  object \n",
      " 9   debt              21525 non-null  int64  \n",
      " 10  total_income      19351 non-null  float64\n",
      " 11  purpose           21525 non-null  object \n",
      "dtypes: float64(1), int64(5), object(6)\n",
      "memory usage: 2.0+ MB\n",
      "\n",
      "Делаю проверку, заменил кол-во детей с -1 на 1\n",
      "children            0\n",
      "days_employed       0\n",
      "dob_years           0\n",
      "education           0\n",
      "education_id        0\n",
      "family_status       0\n",
      "family_status_id    0\n",
      "gender              0\n",
      "income_type         0\n",
      "debt                0\n",
      "total_income        0\n",
      "purpose             0\n",
      "dtype: int64\n"
     ]
    }
   ],
   "source": [
    "columns_to_replace=['total_income','days_employed']# перебор названий столбцов в цикле и замена пропущенных значений на 'unknown'\n",
    "for columns in columns_to_replace:\n",
    "    df[columns] = df[columns].fillna('NaN')\n",
    "df.isna().sum()# подсчёт пропусков    \n",
    "display(df.head(15))\n",
    "df.info()\n",
    "print()\n",
    "print('Заменил тип данных в столбце total_income')\n",
    "print()\n",
    "# Так как столбец 'total_income' изменил тип данных object, по этому его нужно перевести в числовой тип данных\n",
    "df['total_income'] = pd.to_numeric(df['total_income'], errors='coerce') \n",
    "df.info()\n",
    "print()\n",
    "# Меняю значение кол-во детей с -1 на 1, потому что это ошибка в записи\n",
    "print('Делаю проверку, заменил кол-во детей с -1 на 1')\n",
    "df.loc[df.loc[:,'children']==-1,'children']=1\n",
    "print(df[df['children']==-1].count()) # Вывожу те строчки, где кол-во детей =-1"
   ]
  },
  {
   "cell_type": "markdown",
   "metadata": {},
   "source": [
    "**Вывод** "
   ]
  },
  {
   "cell_type": "markdown",
   "metadata": {},
   "source": [
    "1) Все пропуски обработал  \n",
    "\n",
    "2) После того как обработал пропуски изменился тип данных в столбце total_income\n",
    "\n",
    "3) В дальнейшем было обнаружено, что имеется 47 строк, в столбце 'children'=-1, уверен что это человечиский фактор и  данное значение нужно заменить на 1\n",
    "\n"
   ]
  },
  {
   "cell_type": "code",
   "execution_count": 6,
   "metadata": {},
   "outputs": [],
   "source": [
    "### определяю какой кол-во возростов имеется, для выявления аномалий,\n"
   ]
  },
  {
   "cell_type": "code",
   "execution_count": 7,
   "metadata": {},
   "outputs": [
    {
     "data": {
      "text/plain": [
       "35    617\n",
       "40    609\n",
       "41    607\n",
       "34    603\n",
       "38    598\n",
       "42    597\n",
       "33    581\n",
       "39    573\n",
       "31    560\n",
       "36    555\n",
       "44    547\n",
       "29    545\n",
       "30    540\n",
       "48    538\n",
       "37    537\n",
       "50    514\n",
       "43    513\n",
       "32    510\n",
       "49    508\n",
       "28    503\n",
       "45    497\n",
       "27    493\n",
       "56    487\n",
       "52    484\n",
       "47    480\n",
       "54    479\n",
       "46    475\n",
       "58    461\n",
       "57    460\n",
       "53    459\n",
       "51    448\n",
       "59    444\n",
       "55    443\n",
       "26    408\n",
       "60    377\n",
       "25    357\n",
       "61    355\n",
       "62    352\n",
       "63    269\n",
       "64    265\n",
       "24    264\n",
       "23    254\n",
       "65    194\n",
       "66    183\n",
       "22    183\n",
       "67    167\n",
       "21    111\n",
       "0     101\n",
       "68     99\n",
       "69     85\n",
       "70     65\n",
       "71     58\n",
       "20     51\n",
       "72     33\n",
       "19     14\n",
       "73      8\n",
       "74      6\n",
       "75      1\n",
       "Name: dob_years, dtype: int64"
      ]
     },
     "execution_count": 7,
     "metadata": {},
     "output_type": "execute_result"
    }
   ],
   "source": [
    "df['dob_years'].value_counts()"
   ]
  },
  {
   "cell_type": "code",
   "execution_count": 8,
   "metadata": {},
   "outputs": [],
   "source": [
    "### Заменяю 0 возрост на пропущенные данные 'NaN'\n"
   ]
  },
  {
   "cell_type": "code",
   "execution_count": 9,
   "metadata": {},
   "outputs": [
    {
     "name": "stdout",
     "output_type": "stream",
     "text": [
      "<class 'pandas.core.frame.DataFrame'>\n",
      "RangeIndex: 21525 entries, 0 to 21524\n",
      "Data columns (total 12 columns):\n",
      " #   Column            Non-Null Count  Dtype  \n",
      "---  ------            --------------  -----  \n",
      " 0   children          21525 non-null  int64  \n",
      " 1   days_employed     21525 non-null  object \n",
      " 2   dob_years         21525 non-null  object \n",
      " 3   education         21525 non-null  object \n",
      " 4   education_id      21525 non-null  int64  \n",
      " 5   family_status     21525 non-null  object \n",
      " 6   family_status_id  21525 non-null  int64  \n",
      " 7   gender            21525 non-null  object \n",
      " 8   income_type       21525 non-null  object \n",
      " 9   debt              21525 non-null  int64  \n",
      " 10  total_income      19351 non-null  float64\n",
      " 11  purpose           21525 non-null  object \n",
      "dtypes: float64(1), int64(4), object(7)\n",
      "memory usage: 2.0+ MB\n"
     ]
    }
   ],
   "source": [
    "df.loc[df['dob_years']==0,'dob_years']='NaN'\n",
    "df.info()"
   ]
  },
  {
   "cell_type": "code",
   "execution_count": 10,
   "metadata": {},
   "outputs": [],
   "source": [
    "### Произошла замена типов данных в колонке dob_years, по этому нужно поменять тип данных на числовой   и делаю проверку       "
   ]
  },
  {
   "cell_type": "code",
   "execution_count": 11,
   "metadata": {},
   "outputs": [
    {
     "name": "stdout",
     "output_type": "stream",
     "text": [
      "<class 'pandas.core.frame.DataFrame'>\n",
      "RangeIndex: 21525 entries, 0 to 21524\n",
      "Data columns (total 12 columns):\n",
      " #   Column            Non-Null Count  Dtype  \n",
      "---  ------            --------------  -----  \n",
      " 0   children          21525 non-null  int64  \n",
      " 1   days_employed     21525 non-null  object \n",
      " 2   dob_years         21424 non-null  float64\n",
      " 3   education         21525 non-null  object \n",
      " 4   education_id      21525 non-null  int64  \n",
      " 5   family_status     21525 non-null  object \n",
      " 6   family_status_id  21525 non-null  int64  \n",
      " 7   gender            21525 non-null  object \n",
      " 8   income_type       21525 non-null  object \n",
      " 9   debt              21525 non-null  int64  \n",
      " 10  total_income      19351 non-null  float64\n",
      " 11  purpose           21525 non-null  object \n",
      "dtypes: float64(2), int64(4), object(6)\n",
      "memory usage: 2.0+ MB\n"
     ]
    }
   ],
   "source": [
    "df['dob_years'] = pd.to_numeric(df['dob_years'], errors='coerce') \n",
    "df.info()"
   ]
  },
  {
   "cell_type": "markdown",
   "metadata": {},
   "source": [
    "### Обработка дубликатов"
   ]
  },
  {
   "cell_type": "code",
   "execution_count": 12,
   "metadata": {},
   "outputs": [
    {
     "data": {
      "text/plain": [
       "0"
      ]
     },
     "execution_count": 12,
     "metadata": {},
     "output_type": "execute_result"
    }
   ],
   "source": [
    "df = df.drop_duplicates().reset_index(drop=True) # удаление явных дубликатов (с удалением старых индексов и формированием новых)\n",
    "df.duplicated().sum()# подсчёт явных дубликатов"
   ]
  },
  {
   "cell_type": "markdown",
   "metadata": {},
   "source": [
    "**Вывод**"
   ]
  },
  {
   "cell_type": "markdown",
   "metadata": {},
   "source": [
    "От явных дубликатов избавились. При это их было 0,25% от общего кол-ва записей или 54 шт  "
   ]
  },
  {
   "cell_type": "markdown",
   "metadata": {},
   "source": [
    "### Лемматизация"
   ]
  },
  {
   "cell_type": "code",
   "execution_count": 13,
   "metadata": {},
   "outputs": [
    {
     "data": {
      "text/html": [
       "<div>\n",
       "<style scoped>\n",
       "    .dataframe tbody tr th:only-of-type {\n",
       "        vertical-align: middle;\n",
       "    }\n",
       "\n",
       "    .dataframe tbody tr th {\n",
       "        vertical-align: top;\n",
       "    }\n",
       "\n",
       "    .dataframe thead th {\n",
       "        text-align: right;\n",
       "    }\n",
       "</style>\n",
       "<table border=\"1\" class=\"dataframe\">\n",
       "  <thead>\n",
       "    <tr style=\"text-align: right;\">\n",
       "      <th></th>\n",
       "      <th>children</th>\n",
       "      <th>days_employed</th>\n",
       "      <th>dob_years</th>\n",
       "      <th>education</th>\n",
       "      <th>education_id</th>\n",
       "      <th>family_status</th>\n",
       "      <th>family_status_id</th>\n",
       "      <th>gender</th>\n",
       "      <th>income_type</th>\n",
       "      <th>debt</th>\n",
       "      <th>total_income</th>\n",
       "      <th>purpose</th>\n",
       "      <th>lemmas</th>\n",
       "    </tr>\n",
       "  </thead>\n",
       "  <tbody>\n",
       "    <tr>\n",
       "      <th>0</th>\n",
       "      <td>1</td>\n",
       "      <td>-8437.673028</td>\n",
       "      <td>42.0</td>\n",
       "      <td>высшее</td>\n",
       "      <td>0</td>\n",
       "      <td>женат / замужем</td>\n",
       "      <td>0</td>\n",
       "      <td>F</td>\n",
       "      <td>сотрудник</td>\n",
       "      <td>0</td>\n",
       "      <td>253875.639453</td>\n",
       "      <td>покупка жилья</td>\n",
       "      <td>покупка, ,жилье,\\n</td>\n",
       "    </tr>\n",
       "    <tr>\n",
       "      <th>1</th>\n",
       "      <td>1</td>\n",
       "      <td>-4024.803754</td>\n",
       "      <td>36.0</td>\n",
       "      <td>среднее</td>\n",
       "      <td>1</td>\n",
       "      <td>женат / замужем</td>\n",
       "      <td>0</td>\n",
       "      <td>F</td>\n",
       "      <td>сотрудник</td>\n",
       "      <td>0</td>\n",
       "      <td>112080.014102</td>\n",
       "      <td>приобретение автомобиля</td>\n",
       "      <td>приобретение, ,автомобиль,\\n</td>\n",
       "    </tr>\n",
       "    <tr>\n",
       "      <th>2</th>\n",
       "      <td>0</td>\n",
       "      <td>-5623.42261</td>\n",
       "      <td>33.0</td>\n",
       "      <td>среднее</td>\n",
       "      <td>1</td>\n",
       "      <td>женат / замужем</td>\n",
       "      <td>0</td>\n",
       "      <td>M</td>\n",
       "      <td>сотрудник</td>\n",
       "      <td>0</td>\n",
       "      <td>145885.952297</td>\n",
       "      <td>покупка жилья</td>\n",
       "      <td>покупка, ,жилье,\\n</td>\n",
       "    </tr>\n",
       "    <tr>\n",
       "      <th>3</th>\n",
       "      <td>3</td>\n",
       "      <td>-4124.747207</td>\n",
       "      <td>32.0</td>\n",
       "      <td>среднее</td>\n",
       "      <td>1</td>\n",
       "      <td>женат / замужем</td>\n",
       "      <td>0</td>\n",
       "      <td>M</td>\n",
       "      <td>сотрудник</td>\n",
       "      <td>0</td>\n",
       "      <td>267628.550329</td>\n",
       "      <td>дополнительное образование</td>\n",
       "      <td>дополнительный, ,образование,\\n</td>\n",
       "    </tr>\n",
       "    <tr>\n",
       "      <th>4</th>\n",
       "      <td>0</td>\n",
       "      <td>340266.072047</td>\n",
       "      <td>53.0</td>\n",
       "      <td>среднее</td>\n",
       "      <td>1</td>\n",
       "      <td>гражданский брак</td>\n",
       "      <td>1</td>\n",
       "      <td>F</td>\n",
       "      <td>пенсионер</td>\n",
       "      <td>0</td>\n",
       "      <td>158616.077870</td>\n",
       "      <td>сыграть свадьбу</td>\n",
       "      <td>сыграть, ,свадьба,\\n</td>\n",
       "    </tr>\n",
       "    <tr>\n",
       "      <th>5</th>\n",
       "      <td>0</td>\n",
       "      <td>-926.185831</td>\n",
       "      <td>27.0</td>\n",
       "      <td>высшее</td>\n",
       "      <td>0</td>\n",
       "      <td>гражданский брак</td>\n",
       "      <td>1</td>\n",
       "      <td>M</td>\n",
       "      <td>компаньон</td>\n",
       "      <td>0</td>\n",
       "      <td>255763.565419</td>\n",
       "      <td>покупка жилья</td>\n",
       "      <td>покупка, ,жилье,\\n</td>\n",
       "    </tr>\n",
       "    <tr>\n",
       "      <th>6</th>\n",
       "      <td>0</td>\n",
       "      <td>-2879.202052</td>\n",
       "      <td>43.0</td>\n",
       "      <td>высшее</td>\n",
       "      <td>0</td>\n",
       "      <td>женат / замужем</td>\n",
       "      <td>0</td>\n",
       "      <td>F</td>\n",
       "      <td>компаньон</td>\n",
       "      <td>0</td>\n",
       "      <td>240525.971920</td>\n",
       "      <td>операции с жильем</td>\n",
       "      <td>операция, ,с, ,жилье,\\n</td>\n",
       "    </tr>\n",
       "    <tr>\n",
       "      <th>7</th>\n",
       "      <td>0</td>\n",
       "      <td>-152.779569</td>\n",
       "      <td>50.0</td>\n",
       "      <td>среднее</td>\n",
       "      <td>1</td>\n",
       "      <td>женат / замужем</td>\n",
       "      <td>0</td>\n",
       "      <td>M</td>\n",
       "      <td>сотрудник</td>\n",
       "      <td>0</td>\n",
       "      <td>135823.934197</td>\n",
       "      <td>образование</td>\n",
       "      <td>образование,\\n</td>\n",
       "    </tr>\n",
       "    <tr>\n",
       "      <th>8</th>\n",
       "      <td>2</td>\n",
       "      <td>-6929.865299</td>\n",
       "      <td>35.0</td>\n",
       "      <td>высшее</td>\n",
       "      <td>0</td>\n",
       "      <td>гражданский брак</td>\n",
       "      <td>1</td>\n",
       "      <td>F</td>\n",
       "      <td>сотрудник</td>\n",
       "      <td>0</td>\n",
       "      <td>95856.832424</td>\n",
       "      <td>на проведение свадьбы</td>\n",
       "      <td>на, ,проведение, ,свадьба,\\n</td>\n",
       "    </tr>\n",
       "    <tr>\n",
       "      <th>9</th>\n",
       "      <td>0</td>\n",
       "      <td>-2188.756445</td>\n",
       "      <td>41.0</td>\n",
       "      <td>среднее</td>\n",
       "      <td>1</td>\n",
       "      <td>женат / замужем</td>\n",
       "      <td>0</td>\n",
       "      <td>M</td>\n",
       "      <td>сотрудник</td>\n",
       "      <td>0</td>\n",
       "      <td>144425.938277</td>\n",
       "      <td>покупка жилья для семьи</td>\n",
       "      <td>покупка, ,жилье, ,для, ,семья,\\n</td>\n",
       "    </tr>\n",
       "    <tr>\n",
       "      <th>10</th>\n",
       "      <td>2</td>\n",
       "      <td>-4171.483647</td>\n",
       "      <td>36.0</td>\n",
       "      <td>высшее</td>\n",
       "      <td>0</td>\n",
       "      <td>женат / замужем</td>\n",
       "      <td>0</td>\n",
       "      <td>M</td>\n",
       "      <td>компаньон</td>\n",
       "      <td>0</td>\n",
       "      <td>113943.491460</td>\n",
       "      <td>покупка недвижимости</td>\n",
       "      <td>покупка, ,недвижимость,\\n</td>\n",
       "    </tr>\n",
       "    <tr>\n",
       "      <th>11</th>\n",
       "      <td>0</td>\n",
       "      <td>-792.701887</td>\n",
       "      <td>40.0</td>\n",
       "      <td>среднее</td>\n",
       "      <td>1</td>\n",
       "      <td>женат / замужем</td>\n",
       "      <td>0</td>\n",
       "      <td>F</td>\n",
       "      <td>сотрудник</td>\n",
       "      <td>0</td>\n",
       "      <td>77069.234271</td>\n",
       "      <td>покупка коммерческой недвижимости</td>\n",
       "      <td>покупка, ,коммерческий, ,недвижимость,\\n</td>\n",
       "    </tr>\n",
       "    <tr>\n",
       "      <th>12</th>\n",
       "      <td>0</td>\n",
       "      <td>NaN</td>\n",
       "      <td>65.0</td>\n",
       "      <td>среднее</td>\n",
       "      <td>1</td>\n",
       "      <td>гражданский брак</td>\n",
       "      <td>1</td>\n",
       "      <td>M</td>\n",
       "      <td>пенсионер</td>\n",
       "      <td>0</td>\n",
       "      <td>NaN</td>\n",
       "      <td>сыграть свадьбу</td>\n",
       "      <td>сыграть, ,свадьба,\\n</td>\n",
       "    </tr>\n",
       "    <tr>\n",
       "      <th>13</th>\n",
       "      <td>0</td>\n",
       "      <td>-1846.641941</td>\n",
       "      <td>54.0</td>\n",
       "      <td>неоконченное высшее</td>\n",
       "      <td>2</td>\n",
       "      <td>женат / замужем</td>\n",
       "      <td>0</td>\n",
       "      <td>F</td>\n",
       "      <td>сотрудник</td>\n",
       "      <td>0</td>\n",
       "      <td>130458.228857</td>\n",
       "      <td>приобретение автомобиля</td>\n",
       "      <td>приобретение, ,автомобиль,\\n</td>\n",
       "    </tr>\n",
       "    <tr>\n",
       "      <th>14</th>\n",
       "      <td>0</td>\n",
       "      <td>-1844.956182</td>\n",
       "      <td>56.0</td>\n",
       "      <td>высшее</td>\n",
       "      <td>0</td>\n",
       "      <td>гражданский брак</td>\n",
       "      <td>1</td>\n",
       "      <td>F</td>\n",
       "      <td>компаньон</td>\n",
       "      <td>1</td>\n",
       "      <td>165127.911772</td>\n",
       "      <td>покупка жилой недвижимости</td>\n",
       "      <td>покупка, ,жилой, ,недвижимость,\\n</td>\n",
       "    </tr>\n",
       "  </tbody>\n",
       "</table>\n",
       "</div>"
      ],
      "text/plain": [
       "    children  days_employed  dob_years            education  education_id  \\\n",
       "0          1   -8437.673028       42.0               высшее             0   \n",
       "1          1   -4024.803754       36.0              среднее             1   \n",
       "2          0    -5623.42261       33.0              среднее             1   \n",
       "3          3   -4124.747207       32.0              среднее             1   \n",
       "4          0  340266.072047       53.0              среднее             1   \n",
       "5          0    -926.185831       27.0               высшее             0   \n",
       "6          0   -2879.202052       43.0               высшее             0   \n",
       "7          0    -152.779569       50.0              среднее             1   \n",
       "8          2   -6929.865299       35.0               высшее             0   \n",
       "9          0   -2188.756445       41.0              среднее             1   \n",
       "10         2   -4171.483647       36.0               высшее             0   \n",
       "11         0    -792.701887       40.0              среднее             1   \n",
       "12         0            NaN       65.0              среднее             1   \n",
       "13         0   -1846.641941       54.0  неоконченное высшее             2   \n",
       "14         0   -1844.956182       56.0               высшее             0   \n",
       "\n",
       "       family_status  family_status_id gender income_type  debt  \\\n",
       "0    женат / замужем                 0      F   сотрудник     0   \n",
       "1    женат / замужем                 0      F   сотрудник     0   \n",
       "2    женат / замужем                 0      M   сотрудник     0   \n",
       "3    женат / замужем                 0      M   сотрудник     0   \n",
       "4   гражданский брак                 1      F   пенсионер     0   \n",
       "5   гражданский брак                 1      M   компаньон     0   \n",
       "6    женат / замужем                 0      F   компаньон     0   \n",
       "7    женат / замужем                 0      M   сотрудник     0   \n",
       "8   гражданский брак                 1      F   сотрудник     0   \n",
       "9    женат / замужем                 0      M   сотрудник     0   \n",
       "10   женат / замужем                 0      M   компаньон     0   \n",
       "11   женат / замужем                 0      F   сотрудник     0   \n",
       "12  гражданский брак                 1      M   пенсионер     0   \n",
       "13   женат / замужем                 0      F   сотрудник     0   \n",
       "14  гражданский брак                 1      F   компаньон     1   \n",
       "\n",
       "     total_income                            purpose  \\\n",
       "0   253875.639453                      покупка жилья   \n",
       "1   112080.014102            приобретение автомобиля   \n",
       "2   145885.952297                      покупка жилья   \n",
       "3   267628.550329         дополнительное образование   \n",
       "4   158616.077870                    сыграть свадьбу   \n",
       "5   255763.565419                      покупка жилья   \n",
       "6   240525.971920                  операции с жильем   \n",
       "7   135823.934197                        образование   \n",
       "8    95856.832424              на проведение свадьбы   \n",
       "9   144425.938277            покупка жилья для семьи   \n",
       "10  113943.491460               покупка недвижимости   \n",
       "11   77069.234271  покупка коммерческой недвижимости   \n",
       "12            NaN                    сыграть свадьбу   \n",
       "13  130458.228857            приобретение автомобиля   \n",
       "14  165127.911772         покупка жилой недвижимости   \n",
       "\n",
       "                                      lemmas  \n",
       "0                         покупка, ,жилье,\\n  \n",
       "1               приобретение, ,автомобиль,\\n  \n",
       "2                         покупка, ,жилье,\\n  \n",
       "3            дополнительный, ,образование,\\n  \n",
       "4                       сыграть, ,свадьба,\\n  \n",
       "5                         покупка, ,жилье,\\n  \n",
       "6                    операция, ,с, ,жилье,\\n  \n",
       "7                             образование,\\n  \n",
       "8               на, ,проведение, ,свадьба,\\n  \n",
       "9           покупка, ,жилье, ,для, ,семья,\\n  \n",
       "10                 покупка, ,недвижимость,\\n  \n",
       "11  покупка, ,коммерческий, ,недвижимость,\\n  \n",
       "12                      сыграть, ,свадьба,\\n  \n",
       "13              приобретение, ,автомобиль,\\n  \n",
       "14         покупка, ,жилой, ,недвижимость,\\n  "
      ]
     },
     "metadata": {},
     "output_type": "display_data"
    }
   ],
   "source": [
    "\n",
    "import pandas as pd\n",
    "from pymystem3 import Mystem\n",
    "m = Mystem() \n",
    "\n",
    "def lemmatiz_funkci(row):\n",
    "    lemmas_spisok = m.lemmatize(row['purpose']) #лемматизируем ячейку с целью кредита \n",
    "    lemmas=','.join(lemmas_spisok)\n",
    "    return lemmas\n",
    "\n",
    "\n",
    "df['lemmas'] = df.apply(lemmatiz_funkci, axis=1) \n",
    "display(df.head(15))"
   ]
  },
  {
   "cell_type": "markdown",
   "metadata": {},
   "source": [
    "Расширю значения в лемотизации"
   ]
  },
  {
   "cell_type": "code",
   "execution_count": 38,
   "metadata": {},
   "outputs": [
    {
     "data": {
      "text/html": [
       "<div>\n",
       "<style scoped>\n",
       "    .dataframe tbody tr th:only-of-type {\n",
       "        vertical-align: middle;\n",
       "    }\n",
       "\n",
       "    .dataframe tbody tr th {\n",
       "        vertical-align: top;\n",
       "    }\n",
       "\n",
       "    .dataframe thead th {\n",
       "        text-align: right;\n",
       "    }\n",
       "</style>\n",
       "<table border=\"1\" class=\"dataframe\">\n",
       "  <thead>\n",
       "    <tr style=\"text-align: right;\">\n",
       "      <th></th>\n",
       "      <th>purpose_lem</th>\n",
       "    </tr>\n",
       "  </thead>\n",
       "  <tbody>\n",
       "    <tr>\n",
       "      <th>[автомобиль, \\n]</th>\n",
       "      <td>972</td>\n",
       "    </tr>\n",
       "    <tr>\n",
       "      <th>[свадьба, \\n]</th>\n",
       "      <td>791</td>\n",
       "    </tr>\n",
       "    <tr>\n",
       "      <th>[на,  , проведение,  , свадьба, \\n]</th>\n",
       "      <td>768</td>\n",
       "    </tr>\n",
       "    <tr>\n",
       "      <th>[сыграть,  , свадьба, \\n]</th>\n",
       "      <td>765</td>\n",
       "    </tr>\n",
       "    <tr>\n",
       "      <th>[операция,  , с,  , недвижимость, \\n]</th>\n",
       "      <td>675</td>\n",
       "    </tr>\n",
       "    <tr>\n",
       "      <th>[покупка,  , коммерческий,  , недвижимость, \\n]</th>\n",
       "      <td>661</td>\n",
       "    </tr>\n",
       "    <tr>\n",
       "      <th>[операция,  , с,  , жилье, \\n]</th>\n",
       "      <td>652</td>\n",
       "    </tr>\n",
       "    <tr>\n",
       "      <th>[покупка,  , жилье,  , для,  , сдача, \\n]</th>\n",
       "      <td>651</td>\n",
       "    </tr>\n",
       "    <tr>\n",
       "      <th>[операция,  , с,  , коммерческий,  , недвижимость, \\n]</th>\n",
       "      <td>650</td>\n",
       "    </tr>\n",
       "    <tr>\n",
       "      <th>[покупка,  , жилье, \\n]</th>\n",
       "      <td>646</td>\n",
       "    </tr>\n",
       "    <tr>\n",
       "      <th>[жилье, \\n]</th>\n",
       "      <td>646</td>\n",
       "    </tr>\n",
       "    <tr>\n",
       "      <th>[покупка,  , жилье,  , для,  , семья, \\n]</th>\n",
       "      <td>638</td>\n",
       "    </tr>\n",
       "    <tr>\n",
       "      <th>[строительство,  , собственный,  , недвижимость, \\n]</th>\n",
       "      <td>635</td>\n",
       "    </tr>\n",
       "    <tr>\n",
       "      <th>[недвижимость, \\n]</th>\n",
       "      <td>633</td>\n",
       "    </tr>\n",
       "    <tr>\n",
       "      <th>[операция,  , со,  , свой,  , недвижимость, \\n]</th>\n",
       "      <td>627</td>\n",
       "    </tr>\n",
       "    <tr>\n",
       "      <th>[строительство,  , жилой,  , недвижимость, \\n]</th>\n",
       "      <td>624</td>\n",
       "    </tr>\n",
       "    <tr>\n",
       "      <th>[покупка,  , недвижимость, \\n]</th>\n",
       "      <td>621</td>\n",
       "    </tr>\n",
       "    <tr>\n",
       "      <th>[покупка,  , свой,  , жилье, \\n]</th>\n",
       "      <td>620</td>\n",
       "    </tr>\n",
       "    <tr>\n",
       "      <th>[строительство,  , недвижимость, \\n]</th>\n",
       "      <td>619</td>\n",
       "    </tr>\n",
       "    <tr>\n",
       "      <th>[ремонт,  , жилье, \\n]</th>\n",
       "      <td>607</td>\n",
       "    </tr>\n",
       "    <tr>\n",
       "      <th>[покупка,  , жилой,  , недвижимость, \\n]</th>\n",
       "      <td>606</td>\n",
       "    </tr>\n",
       "    <tr>\n",
       "      <th>[на,  , покупка,  , свой,  , автомобиль, \\n]</th>\n",
       "      <td>505</td>\n",
       "    </tr>\n",
       "    <tr>\n",
       "      <th>[заниматься,  , высокий,  , образование, \\n]</th>\n",
       "      <td>496</td>\n",
       "    </tr>\n",
       "    <tr>\n",
       "      <th>[сделка,  , с,  , подержанный,  , автомобиль, \\n]</th>\n",
       "      <td>486</td>\n",
       "    </tr>\n",
       "    <tr>\n",
       "      <th>[на,  , покупка,  , подержать,  , автомобиль, \\n]</th>\n",
       "      <td>478</td>\n",
       "    </tr>\n",
       "    <tr>\n",
       "      <th>[свой,  , автомобиль, \\n]</th>\n",
       "      <td>478</td>\n",
       "    </tr>\n",
       "    <tr>\n",
       "      <th>[на,  , покупка,  , автомобиль, \\n]</th>\n",
       "      <td>471</td>\n",
       "    </tr>\n",
       "    <tr>\n",
       "      <th>[приобретение,  , автомобиль, \\n]</th>\n",
       "      <td>461</td>\n",
       "    </tr>\n",
       "    <tr>\n",
       "      <th>[дополнительный,  , образование, \\n]</th>\n",
       "      <td>460</td>\n",
       "    </tr>\n",
       "    <tr>\n",
       "      <th>[сделка,  , с,  , автомобиль, \\n]</th>\n",
       "      <td>455</td>\n",
       "    </tr>\n",
       "    <tr>\n",
       "      <th>[высокий,  , образование, \\n]</th>\n",
       "      <td>452</td>\n",
       "    </tr>\n",
       "    <tr>\n",
       "      <th>[образование, \\n]</th>\n",
       "      <td>447</td>\n",
       "    </tr>\n",
       "    <tr>\n",
       "      <th>[получение,  , дополнительный,  , образование, \\n]</th>\n",
       "      <td>446</td>\n",
       "    </tr>\n",
       "    <tr>\n",
       "      <th>[получение,  , образование, \\n]</th>\n",
       "      <td>442</td>\n",
       "    </tr>\n",
       "    <tr>\n",
       "      <th>[профильный,  , образование, \\n]</th>\n",
       "      <td>436</td>\n",
       "    </tr>\n",
       "    <tr>\n",
       "      <th>[получение,  , высокий,  , образование, \\n]</th>\n",
       "      <td>426</td>\n",
       "    </tr>\n",
       "    <tr>\n",
       "      <th>[заниматься,  , образование, \\n]</th>\n",
       "      <td>408</td>\n",
       "    </tr>\n",
       "  </tbody>\n",
       "</table>\n",
       "</div>"
      ],
      "text/plain": [
       "                                                    purpose_lem\n",
       "[автомобиль, \\n]                                            972\n",
       "[свадьба, \\n]                                               791\n",
       "[на,  , проведение,  , свадьба, \\n]                         768\n",
       "[сыграть,  , свадьба, \\n]                                   765\n",
       "[операция,  , с,  , недвижимость, \\n]                       675\n",
       "[покупка,  , коммерческий,  , недвижимость, \\n]             661\n",
       "[операция,  , с,  , жилье, \\n]                              652\n",
       "[покупка,  , жилье,  , для,  , сдача, \\n]                   651\n",
       "[операция,  , с,  , коммерческий,  , недвижимос...          650\n",
       "[покупка,  , жилье, \\n]                                     646\n",
       "[жилье, \\n]                                                 646\n",
       "[покупка,  , жилье,  , для,  , семья, \\n]                   638\n",
       "[строительство,  , собственный,  , недвижимость...          635\n",
       "[недвижимость, \\n]                                          633\n",
       "[операция,  , со,  , свой,  , недвижимость, \\n]             627\n",
       "[строительство,  , жилой,  , недвижимость, \\n]              624\n",
       "[покупка,  , недвижимость, \\n]                              621\n",
       "[покупка,  , свой,  , жилье, \\n]                            620\n",
       "[строительство,  , недвижимость, \\n]                        619\n",
       "[ремонт,  , жилье, \\n]                                      607\n",
       "[покупка,  , жилой,  , недвижимость, \\n]                    606\n",
       "[на,  , покупка,  , свой,  , автомобиль, \\n]                505\n",
       "[заниматься,  , высокий,  , образование, \\n]                496\n",
       "[сделка,  , с,  , подержанный,  , автомобиль, \\n]           486\n",
       "[на,  , покупка,  , подержать,  , автомобиль, \\n]           478\n",
       "[свой,  , автомобиль, \\n]                                   478\n",
       "[на,  , покупка,  , автомобиль, \\n]                         471\n",
       "[приобретение,  , автомобиль, \\n]                           461\n",
       "[дополнительный,  , образование, \\n]                        460\n",
       "[сделка,  , с,  , автомобиль, \\n]                           455\n",
       "[высокий,  , образование, \\n]                               452\n",
       "[образование, \\n]                                           447\n",
       "[получение,  , дополнительный,  , образование, \\n]          446\n",
       "[получение,  , образование, \\n]                             442\n",
       "[профильный,  , образование, \\n]                            436\n",
       "[получение,  , высокий,  , образование, \\n]                 426\n",
       "[заниматься,  , образование, \\n]                            408"
      ]
     },
     "execution_count": 38,
     "metadata": {},
     "output_type": "execute_result"
    }
   ],
   "source": [
    "df['purpose_lem'] = df['purpose'].apply(lambda x: m.lemmatize(x))\n",
    "df['purpose_lem'].value_counts().to_frame()"
   ]
  },
  {
   "cell_type": "markdown",
   "metadata": {},
   "source": [
    "**Вывод**"
   ]
  },
  {
   "cell_type": "markdown",
   "metadata": {},
   "source": [
    "После лимитизации  видно, что цель кредита можно категоризировать и выдели уникальные значения: свадьба, недвижимость, автомобиль, оброзование"
   ]
  },
  {
   "cell_type": "markdown",
   "metadata": {},
   "source": [
    "### Категоризация данных"
   ]
  },
  {
   "cell_type": "code",
   "execution_count": 14,
   "metadata": {},
   "outputs": [
    {
     "data": {
      "text/html": [
       "<div>\n",
       "<style scoped>\n",
       "    .dataframe tbody tr th:only-of-type {\n",
       "        vertical-align: middle;\n",
       "    }\n",
       "\n",
       "    .dataframe tbody tr th {\n",
       "        vertical-align: top;\n",
       "    }\n",
       "\n",
       "    .dataframe thead th {\n",
       "        text-align: right;\n",
       "    }\n",
       "</style>\n",
       "<table border=\"1\" class=\"dataframe\">\n",
       "  <thead>\n",
       "    <tr style=\"text-align: right;\">\n",
       "      <th></th>\n",
       "      <th>children</th>\n",
       "      <th>days_employed</th>\n",
       "      <th>dob_years</th>\n",
       "      <th>education</th>\n",
       "      <th>education_id</th>\n",
       "      <th>family_status</th>\n",
       "      <th>family_status_id</th>\n",
       "      <th>gender</th>\n",
       "      <th>income_type</th>\n",
       "      <th>debt</th>\n",
       "      <th>total_income</th>\n",
       "      <th>purpose</th>\n",
       "      <th>lemmas</th>\n",
       "    </tr>\n",
       "  </thead>\n",
       "  <tbody>\n",
       "    <tr>\n",
       "      <th>0</th>\n",
       "      <td>1</td>\n",
       "      <td>-8437.673028</td>\n",
       "      <td>42.0</td>\n",
       "      <td>высшее</td>\n",
       "      <td>0</td>\n",
       "      <td>женат / замужем</td>\n",
       "      <td>0</td>\n",
       "      <td>F</td>\n",
       "      <td>сотрудник</td>\n",
       "      <td>0</td>\n",
       "      <td>253875.639453</td>\n",
       "      <td>покупка жилья</td>\n",
       "      <td>недвижимость</td>\n",
       "    </tr>\n",
       "    <tr>\n",
       "      <th>1</th>\n",
       "      <td>1</td>\n",
       "      <td>-4024.803754</td>\n",
       "      <td>36.0</td>\n",
       "      <td>среднее</td>\n",
       "      <td>1</td>\n",
       "      <td>женат / замужем</td>\n",
       "      <td>0</td>\n",
       "      <td>F</td>\n",
       "      <td>сотрудник</td>\n",
       "      <td>0</td>\n",
       "      <td>112080.014102</td>\n",
       "      <td>приобретение автомобиля</td>\n",
       "      <td>автомобиль</td>\n",
       "    </tr>\n",
       "    <tr>\n",
       "      <th>2</th>\n",
       "      <td>0</td>\n",
       "      <td>-5623.42261</td>\n",
       "      <td>33.0</td>\n",
       "      <td>среднее</td>\n",
       "      <td>1</td>\n",
       "      <td>женат / замужем</td>\n",
       "      <td>0</td>\n",
       "      <td>M</td>\n",
       "      <td>сотрудник</td>\n",
       "      <td>0</td>\n",
       "      <td>145885.952297</td>\n",
       "      <td>покупка жилья</td>\n",
       "      <td>недвижимость</td>\n",
       "    </tr>\n",
       "    <tr>\n",
       "      <th>3</th>\n",
       "      <td>3</td>\n",
       "      <td>-4124.747207</td>\n",
       "      <td>32.0</td>\n",
       "      <td>среднее</td>\n",
       "      <td>1</td>\n",
       "      <td>женат / замужем</td>\n",
       "      <td>0</td>\n",
       "      <td>M</td>\n",
       "      <td>сотрудник</td>\n",
       "      <td>0</td>\n",
       "      <td>267628.550329</td>\n",
       "      <td>дополнительное образование</td>\n",
       "      <td>оброзование</td>\n",
       "    </tr>\n",
       "    <tr>\n",
       "      <th>4</th>\n",
       "      <td>0</td>\n",
       "      <td>340266.072047</td>\n",
       "      <td>53.0</td>\n",
       "      <td>среднее</td>\n",
       "      <td>1</td>\n",
       "      <td>гражданский брак</td>\n",
       "      <td>1</td>\n",
       "      <td>F</td>\n",
       "      <td>пенсионер</td>\n",
       "      <td>0</td>\n",
       "      <td>158616.077870</td>\n",
       "      <td>сыграть свадьбу</td>\n",
       "      <td>свадьба</td>\n",
       "    </tr>\n",
       "  </tbody>\n",
       "</table>\n",
       "</div>"
      ],
      "text/plain": [
       "   children  days_employed  dob_years education  education_id  \\\n",
       "0         1   -8437.673028       42.0    высшее             0   \n",
       "1         1   -4024.803754       36.0   среднее             1   \n",
       "2         0    -5623.42261       33.0   среднее             1   \n",
       "3         3   -4124.747207       32.0   среднее             1   \n",
       "4         0  340266.072047       53.0   среднее             1   \n",
       "\n",
       "      family_status  family_status_id gender income_type  debt   total_income  \\\n",
       "0   женат / замужем                 0      F   сотрудник     0  253875.639453   \n",
       "1   женат / замужем                 0      F   сотрудник     0  112080.014102   \n",
       "2   женат / замужем                 0      M   сотрудник     0  145885.952297   \n",
       "3   женат / замужем                 0      M   сотрудник     0  267628.550329   \n",
       "4  гражданский брак                 1      F   пенсионер     0  158616.077870   \n",
       "\n",
       "                      purpose        lemmas  \n",
       "0               покупка жилья  недвижимость  \n",
       "1     приобретение автомобиля    автомобиль  \n",
       "2               покупка жилья  недвижимость  \n",
       "3  дополнительное образование   оброзование  \n",
       "4             сыграть свадьбу       свадьба  "
      ]
     },
     "metadata": {},
     "output_type": "display_data"
    }
   ],
   "source": [
    "\n",
    "df.loc[df.loc[:,'lemmas'].str.contains('автомо'),'lemmas']='автомобиль'\n",
    "df.loc[df.loc[:,'lemmas'].str.contains('свадь'),'lemmas']='свадьба'\n",
    "df.loc[df.loc[:,'lemmas'].str.contains('недвиж'),'lemmas']='недвижимость'\n",
    "df.loc[df.loc[:,'lemmas'].str.contains('жиль'),'lemmas']='недвижимость'\n",
    "df.loc[df.loc[:,'lemmas'].str.contains('образов'),'lemmas']='оброзование'\n",
    "df.loc[df.loc[:,'lemmas'].str.contains('оброзов'),'lemmas']='оброзование'\n",
    "display(df.head(5))\n",
    "\n",
    "\n"
   ]
  },
  {
   "cell_type": "code",
   "execution_count": 15,
   "metadata": {},
   "outputs": [
    {
     "name": "stdout",
     "output_type": "stream",
     "text": [
      "недвижимость    10811\n",
      "автомобиль       4306\n",
      "оброзование      4013\n",
      "свадьба          2324\n",
      "Name: lemmas, dtype: int64\n"
     ]
    }
   ],
   "source": [
    "print(df['lemmas'].value_counts())"
   ]
  },
  {
   "cell_type": "markdown",
   "metadata": {},
   "source": [
    "**Вывод**"
   ]
  },
  {
   "cell_type": "markdown",
   "metadata": {},
   "source": [
    "Всего  4 категории причин заимствования, больше всего люди берут кредит на недвижимость, затем на автомобиль"
   ]
  },
  {
   "cell_type": "code",
   "execution_count": 16,
   "metadata": {},
   "outputs": [],
   "source": [
    "###Категоризацию по уроню дохода произвел ниже, при этом я не понял зачем применять функцию cut\n",
    "### приминение функции qcut я понля, это нужно для того что бы значение интервалов дохода было разное, при этом кол-во людей\n",
    "### по этим интервала распределяется одинаково. Только зачем использовать функцию cut в данной задаче, я не понимаю, потому что\n",
    "### данная фунция делает одинковый интервал между интервалами, а кол-во людей в них будет разное. Именно по этому в данном\n",
    "### примере применима только функци qcut"
   ]
  },
  {
   "cell_type": "markdown",
   "metadata": {},
   "source": [
    "## Шаг 3. Отвечу на вопросы"
   ]
  },
  {
   "cell_type": "markdown",
   "metadata": {},
   "source": [
    "### Есть ли зависимость между наличием детей и возвратом кредита в срок?"
   ]
  },
  {
   "cell_type": "code",
   "execution_count": 18,
   "metadata": {},
   "outputs": [
    {
     "name": "stdout",
     "output_type": "stream",
     "text": [
      "имея детей вернули кредит 9.17\n",
      "имея детей Невернули кредит 90.83\n",
      "Не имея детей вернули кредит 7.54\n",
      "Не имея детей Невернули кредит 92.46\n"
     ]
    }
   ],
   "source": [
    "def prochent_funkc(colums):\n",
    "    returned_credit_children=0# имея детей вернули кредит\n",
    "    no_returned_credit_children=0# имея детей Невернули кредит\n",
    "    sum_children=0\n",
    "\n",
    "    returned_credit_no_children=0# Не имея детей вернули кредит,\n",
    "    no_returned_credit_no_children=0# Не имея детей Невернули кредит\n",
    "    sum_no_children=0\n",
    "\n",
    "\n",
    "    for i in range(df.shape[0]):\n",
    "    #for i in range(50):    \n",
    "\n",
    "        if df[colums][i]==1:\n",
    "            sum_children+=1\n",
    "            if df['debt'][i]==1:\n",
    "                returned_credit_children+=1\n",
    "            else:\n",
    "                no_returned_credit_children+=1\n",
    "        if df[colums][i]==0:\n",
    "            sum_no_children+=1\n",
    "            if df['debt'][i]==1:\n",
    "                returned_credit_no_children+=1\n",
    "            else:\n",
    "                no_returned_credit_no_children+=1             \n",
    "\n",
    "    returned_credit_children1=returned_credit_children/sum_children*100\n",
    "    no_returned_credit_children1=no_returned_credit_children/sum_children*100\n",
    "\n",
    "    returned_credit_no_children1=returned_credit_no_children/sum_no_children*100\n",
    "    no_returned_no_credit__no_children1=no_returned_credit_no_children/sum_no_children*100\n",
    "    returned_credit_children=[returned_credit_children1,no_returned_credit_children1,returned_credit_no_children1,no_returned_no_credit__no_children1]\n",
    "    \n",
    "    #return returned_credit_children\n",
    "    return returned_credit_children1,no_returned_credit_children1,returned_credit_no_children1,no_returned_no_credit__no_children1\n",
    "    \n",
    "\n",
    "######################################################\n",
    "returned_credit_children1,no_returned_credit_children1,returned_credit_no_children1,no_returned_no_credit__no_children1 = prochent_funkc('children')\n",
    "print(\"имея детей вернули кредит %.2f\" % returned_credit_children1)\n",
    "print(\"имея детей Невернули кредит %.2f\" % no_returned_credit_children1)\n",
    "\n",
    "print(\"Не имея детей вернули кредит %.2f\" % returned_credit_no_children1)\n",
    "print(\"Не имея детей Невернули кредит %.2f\" % no_returned_no_credit__no_children1)\n"
   ]
  },
  {
   "cell_type": "code",
   "execution_count": 19,
   "metadata": {},
   "outputs": [
    {
     "data": {
      "text/html": [
       "<style  type=\"text/css\" >\n",
       "</style><table id=\"T_3331f_\" ><thead>    <tr>        <th class=\"blank level0\" ></th>        <th class=\"col_heading level0 col0\" >Кол-во пользователей</th>        <th class=\"col_heading level0 col1\" >Кол-во должников</th>        <th class=\"col_heading level0 col2\" >% должников</th>        <th class=\"col_heading level0 col3\" >% НЕдолжников</th>    </tr>    <tr>        <th class=\"index_name level0\" >children</th>        <th class=\"blank\" ></th>        <th class=\"blank\" ></th>        <th class=\"blank\" ></th>        <th class=\"blank\" ></th>    </tr></thead><tbody>\n",
       "                <tr>\n",
       "                        <th id=\"T_3331f_level0_row0\" class=\"row_heading level0 row0\" >0</th>\n",
       "                        <td id=\"T_3331f_row0_col0\" class=\"data row0 col0\" >14091</td>\n",
       "                        <td id=\"T_3331f_row0_col1\" class=\"data row0 col1\" >1063</td>\n",
       "                        <td id=\"T_3331f_row0_col2\" class=\"data row0 col2\" >7.54%</td>\n",
       "                        <td id=\"T_3331f_row0_col3\" class=\"data row0 col3\" >92.46%</td>\n",
       "            </tr>\n",
       "            <tr>\n",
       "                        <th id=\"T_3331f_level0_row1\" class=\"row_heading level0 row1\" >1</th>\n",
       "                        <td id=\"T_3331f_row1_col0\" class=\"data row1 col0\" >4855</td>\n",
       "                        <td id=\"T_3331f_row1_col1\" class=\"data row1 col1\" >445</td>\n",
       "                        <td id=\"T_3331f_row1_col2\" class=\"data row1 col2\" >9.17%</td>\n",
       "                        <td id=\"T_3331f_row1_col3\" class=\"data row1 col3\" >90.83%</td>\n",
       "            </tr>\n",
       "            <tr>\n",
       "                        <th id=\"T_3331f_level0_row2\" class=\"row_heading level0 row2\" >2</th>\n",
       "                        <td id=\"T_3331f_row2_col0\" class=\"data row2 col0\" >2052</td>\n",
       "                        <td id=\"T_3331f_row2_col1\" class=\"data row2 col1\" >194</td>\n",
       "                        <td id=\"T_3331f_row2_col2\" class=\"data row2 col2\" >9.45%</td>\n",
       "                        <td id=\"T_3331f_row2_col3\" class=\"data row2 col3\" >90.55%</td>\n",
       "            </tr>\n",
       "            <tr>\n",
       "                        <th id=\"T_3331f_level0_row3\" class=\"row_heading level0 row3\" >3</th>\n",
       "                        <td id=\"T_3331f_row3_col0\" class=\"data row3 col0\" >330</td>\n",
       "                        <td id=\"T_3331f_row3_col1\" class=\"data row3 col1\" >27</td>\n",
       "                        <td id=\"T_3331f_row3_col2\" class=\"data row3 col2\" >8.18%</td>\n",
       "                        <td id=\"T_3331f_row3_col3\" class=\"data row3 col3\" >91.82%</td>\n",
       "            </tr>\n",
       "            <tr>\n",
       "                        <th id=\"T_3331f_level0_row4\" class=\"row_heading level0 row4\" >4</th>\n",
       "                        <td id=\"T_3331f_row4_col0\" class=\"data row4 col0\" >41</td>\n",
       "                        <td id=\"T_3331f_row4_col1\" class=\"data row4 col1\" >4</td>\n",
       "                        <td id=\"T_3331f_row4_col2\" class=\"data row4 col2\" >9.76%</td>\n",
       "                        <td id=\"T_3331f_row4_col3\" class=\"data row4 col3\" >90.24%</td>\n",
       "            </tr>\n",
       "            <tr>\n",
       "                        <th id=\"T_3331f_level0_row5\" class=\"row_heading level0 row5\" >5</th>\n",
       "                        <td id=\"T_3331f_row5_col0\" class=\"data row5 col0\" >9</td>\n",
       "                        <td id=\"T_3331f_row5_col1\" class=\"data row5 col1\" >0</td>\n",
       "                        <td id=\"T_3331f_row5_col2\" class=\"data row5 col2\" >0.00%</td>\n",
       "                        <td id=\"T_3331f_row5_col3\" class=\"data row5 col3\" >100.00%</td>\n",
       "            </tr>\n",
       "            <tr>\n",
       "                        <th id=\"T_3331f_level0_row6\" class=\"row_heading level0 row6\" >20</th>\n",
       "                        <td id=\"T_3331f_row6_col0\" class=\"data row6 col0\" >76</td>\n",
       "                        <td id=\"T_3331f_row6_col1\" class=\"data row6 col1\" >8</td>\n",
       "                        <td id=\"T_3331f_row6_col2\" class=\"data row6 col2\" >10.53%</td>\n",
       "                        <td id=\"T_3331f_row6_col3\" class=\"data row6 col3\" >89.47%</td>\n",
       "            </tr>\n",
       "    </tbody></table>"
      ],
      "text/plain": [
       "<pandas.io.formats.style.Styler at 0x7f89e7fe1070>"
      ]
     },
     "execution_count": 19,
     "metadata": {},
     "output_type": "execute_result"
    }
   ],
   "source": [
    "\n",
    "df_example = df.groupby('children')['debt'].agg(['count', 'sum', 'mean', lambda x: 1 - x.mean()])\n",
    "df_example.columns = ['Кол-во пользователей', 'Кол-во должников', '% должников', '% НЕдолжников']\n",
    "df_example.style.format({'% должников': '{:.2%}', '% НЕдолжников': '{:.2%}'})"
   ]
  },
  {
   "cell_type": "markdown",
   "metadata": {},
   "source": [
    "**Вывод**"
   ]
  },
  {
   "cell_type": "markdown",
   "metadata": {},
   "source": [
    "Между наличием детей и возвратом кредита зависимость есть. Так же наблюдается корреляция между количеством детей и вероятностью возврата кредита. Чаще всего кредиты возвращают люди не имеющие детей, а реже всего: люди с двумя детьми. По клиентам с количеством детей больше трех недостаточно данных для выводов."
   ]
  },
  {
   "cell_type": "markdown",
   "metadata": {},
   "source": [
    "### Есть ли зависимость между семейным положением и возвратом кредита в срок?"
   ]
  },
  {
   "cell_type": "code",
   "execution_count": 21,
   "metadata": {},
   "outputs": [
    {
     "data": {
      "text/plain": [
       "family_status          debt\n",
       "Не женат / не замужем  0       0.902491\n",
       "                       1       0.097509\n",
       "в разводе              0       0.928870\n",
       "                       1       0.071130\n",
       "вдовец / вдова         0       0.934307\n",
       "                       1       0.065693\n",
       "гражданский брак       0       0.906529\n",
       "                       1       0.093471\n",
       "женат / замужем        0       0.924548\n",
       "                       1       0.075452\n",
       "Name: debt, dtype: float64"
      ]
     },
     "execution_count": 21,
     "metadata": {},
     "output_type": "execute_result"
    }
   ],
   "source": [
    "  \n",
    "df.groupby('family_status')['debt'].value_counts(normalize=True,dropna=False)\n"
   ]
  },
  {
   "cell_type": "code",
   "execution_count": 22,
   "metadata": {},
   "outputs": [
    {
     "data": {
      "text/html": [
       "<div>\n",
       "<style scoped>\n",
       "    .dataframe tbody tr th:only-of-type {\n",
       "        vertical-align: middle;\n",
       "    }\n",
       "\n",
       "    .dataframe tbody tr th {\n",
       "        vertical-align: top;\n",
       "    }\n",
       "\n",
       "    .dataframe thead tr th {\n",
       "        text-align: left;\n",
       "    }\n",
       "\n",
       "    .dataframe thead tr:last-of-type th {\n",
       "        text-align: right;\n",
       "    }\n",
       "</style>\n",
       "<table border=\"1\" class=\"dataframe\">\n",
       "  <thead>\n",
       "    <tr>\n",
       "      <th></th>\n",
       "      <th>количество должников</th>\n",
       "      <th>количество заемщиков</th>\n",
       "      <th>доля должников</th>\n",
       "    </tr>\n",
       "    <tr>\n",
       "      <th></th>\n",
       "      <th></th>\n",
       "      <th></th>\n",
       "      <th></th>\n",
       "    </tr>\n",
       "    <tr>\n",
       "      <th>семейное положение</th>\n",
       "      <th></th>\n",
       "      <th></th>\n",
       "      <th></th>\n",
       "    </tr>\n",
       "  </thead>\n",
       "  <tbody>\n",
       "    <tr>\n",
       "      <th>Не женат / не замужем</th>\n",
       "      <td>274</td>\n",
       "      <td>2810</td>\n",
       "      <td>9.75%</td>\n",
       "    </tr>\n",
       "    <tr>\n",
       "      <th>в разводе</th>\n",
       "      <td>85</td>\n",
       "      <td>1195</td>\n",
       "      <td>7.11%</td>\n",
       "    </tr>\n",
       "    <tr>\n",
       "      <th>вдовец / вдова</th>\n",
       "      <td>63</td>\n",
       "      <td>959</td>\n",
       "      <td>6.57%</td>\n",
       "    </tr>\n",
       "    <tr>\n",
       "      <th>гражданский брак</th>\n",
       "      <td>388</td>\n",
       "      <td>4151</td>\n",
       "      <td>9.35%</td>\n",
       "    </tr>\n",
       "    <tr>\n",
       "      <th>женат / замужем</th>\n",
       "      <td>931</td>\n",
       "      <td>12339</td>\n",
       "      <td>7.55%</td>\n",
       "    </tr>\n",
       "  </tbody>\n",
       "</table>\n",
       "</div>"
      ],
      "text/plain": [
       "                      количество должников количество заемщиков доля должников\n",
       "                                                                              \n",
       "семейное положение                                                            \n",
       "Не женат / не замужем                  274                 2810          9.75%\n",
       "в разводе                               85                 1195          7.11%\n",
       "вдовец / вдова                          63                  959          6.57%\n",
       "гражданский брак                       388                 4151          9.35%\n",
       "женат / замужем                        931                12339          7.55%"
      ]
     },
     "execution_count": 22,
     "metadata": {},
     "output_type": "execute_result"
    }
   ],
   "source": [
    "family_pivot = df.pivot_table('debt', index='family_status', aggfunc=['sum', 'count', lambda x: '{:.2%}'.format(x[:].mean())],)\n",
    "family_pivot = family_pivot.rename(columns={\"sum\":\"количество должников\", \"count\":\"количество заемщиков\", \"<lambda>\": \"доля должников\", \"debt\": \"\" })\n",
    "family_pivot.index.name = 'семейное положение'\n",
    "family_pivot  "
   ]
  },
  {
   "cell_type": "markdown",
   "metadata": {},
   "source": [
    "**Вывод** \n",
    "Семейное положение влияет на возврат кредита. У не женатых ,и живущих в гражданском браке шанс возврата кредита ниже. Самые надежные заемщики вдовцы."
   ]
  },
  {
   "cell_type": "markdown",
   "metadata": {},
   "source": [
    "### Есть ли зависимость между уровнем дохода и возвратом кредита в срок?"
   ]
  },
  {
   "cell_type": "code",
   "execution_count": 23,
   "metadata": {},
   "outputs": [
    {
     "data": {
      "text/plain": [
       "income_group_rev  debt\n",
       "Низкий            0       0.920176\n",
       "                  1       0.079824\n",
       "Ниже среднего     0       0.916279\n",
       "                  1       0.083721\n",
       "Средний           0       0.913437\n",
       "                  1       0.086563\n",
       "Выше среднего     0       0.914987\n",
       "                  1       0.085013\n",
       "Высокий           0       0.929199\n",
       "                  1       0.070801\n",
       "Name: debt, dtype: float64"
      ]
     },
     "execution_count": 23,
     "metadata": {},
     "output_type": "execute_result"
    }
   ],
   "source": [
    "\n",
    "total_income_labels = ['Низкий', 'Ниже среднего', 'Средний', 'Выше среднего', 'Высокий']\n",
    "\n",
    "df['income_group_rev'] = pd.qcut(df['total_income'],\n",
    "                              q=[0, .2, .4, .6, .8, 1],\n",
    "                              labels=total_income_labels)\n",
    "df['income_group_rev'].value_counts()\n",
    "#print()\n",
    "#print(df.info())\n",
    "df.groupby('income_group_rev')['debt'].value_counts(normalize=True)\n"
   ]
  },
  {
   "cell_type": "code",
   "execution_count": 32,
   "metadata": {},
   "outputs": [
    {
     "name": "stdout",
     "output_type": "stream",
     "text": [
      "total_income\n",
      "total_income\n",
      "total_income\n",
      "total_income\n",
      "total_income\n",
      "total_income\n",
      "total_income\n",
      "total_income\n",
      "total_income\n",
      "total_income\n",
      "total_income\n",
      "total_income\n",
      "total_income\n",
      "total_income\n",
      "total_income\n",
      "total_income\n",
      "total_income\n",
      "total_income\n",
      "total_income\n",
      "total_income\n",
      "total_income\n",
      "total_income\n",
      "total_income\n",
      "total_income\n",
      "total_income\n",
      "total_income\n",
      "total_income\n",
      "total_income\n",
      "total_income\n",
      "total_income\n",
      "total_income\n",
      "total_income\n",
      "total_income\n",
      "total_income\n",
      "total_income\n",
      "total_income\n",
      "total_income\n",
      "total_income\n",
      "total_income\n",
      "total_income\n",
      "total_income\n",
      "total_income\n",
      "total_income\n",
      "total_income\n",
      "total_income\n",
      "total_income\n",
      "total_income\n",
      "total_income\n",
      "total_income\n",
      "total_income\n",
      "total_income\n",
      "total_income\n",
      "total_income\n",
      "total_income\n",
      "total_income\n",
      "total_income\n",
      "total_income\n",
      "total_income\n",
      "total_income\n",
      "total_income\n",
      "total_income\n",
      "total_income\n",
      "total_income\n",
      "total_income\n",
      "total_income\n",
      "total_income\n",
      "total_income\n",
      "total_income\n",
      "total_income\n",
      "total_income\n",
      "total_income\n",
      "total_income\n",
      "total_income\n",
      "total_income\n",
      "total_income\n",
      "total_income\n",
      "total_income\n",
      "total_income\n",
      "total_income\n",
      "total_income\n",
      "total_income\n",
      "total_income\n",
      "total_income\n",
      "total_income\n",
      "total_income\n",
      "total_income\n",
      "total_income\n",
      "total_income\n",
      "total_income\n",
      "total_income\n",
      "total_income\n",
      "total_income\n",
      "total_income\n",
      "total_income\n",
      "total_income\n",
      "total_income\n",
      "total_income\n",
      "total_income\n",
      "total_income\n",
      "total_income\n",
      "total_income\n",
      "total_income\n",
      "total_income\n",
      "total_income\n",
      "total_income\n",
      "total_income\n",
      "total_income\n",
      "total_income\n",
      "total_income\n",
      "total_income\n",
      "total_income\n",
      "total_income\n",
      "total_income\n",
      "total_income\n",
      "total_income\n",
      "total_income\n",
      "total_income\n",
      "total_income\n",
      "total_income\n",
      "total_income\n",
      "total_income\n",
      "total_income\n",
      "total_income\n",
      "total_income\n",
      "total_income\n",
      "total_income\n",
      "total_income\n",
      "total_income\n",
      "total_income\n",
      "total_income\n",
      "total_income\n",
      "total_income\n",
      "total_income\n",
      "total_income\n",
      "total_income\n",
      "total_income\n",
      "total_income\n",
      "total_income\n",
      "total_income\n",
      "total_income\n",
      "total_income\n",
      "total_income\n",
      "total_income\n",
      "total_income\n",
      "total_income\n",
      "total_income\n",
      "total_income\n",
      "total_income\n",
      "total_income\n",
      "total_income\n",
      "total_income\n",
      "total_income\n",
      "total_income\n",
      "total_income\n",
      "total_income\n",
      "total_income\n",
      "total_income\n",
      "total_income\n",
      "total_income\n",
      "total_income\n",
      "total_income\n",
      "total_income\n",
      "total_income\n",
      "total_income\n",
      "total_income\n",
      "total_income\n",
      "total_income\n",
      "total_income\n",
      "total_income\n",
      "total_income\n",
      "total_income\n",
      "total_income\n",
      "total_income\n",
      "total_income\n",
      "total_income\n",
      "total_income\n",
      "total_income\n",
      "total_income\n",
      "total_income\n",
      "total_income\n",
      "total_income\n",
      "total_income\n",
      "total_income\n",
      "total_income\n",
      "total_income\n",
      "total_income\n",
      "total_income\n",
      "total_income\n",
      "total_income\n",
      "total_income\n",
      "total_income\n",
      "total_income\n",
      "total_income\n",
      "total_income\n",
      "total_income\n",
      "total_income\n",
      "total_income\n",
      "total_income\n",
      "total_income\n",
      "total_income\n",
      "total_income\n",
      "total_income\n",
      "total_income\n",
      "total_income\n",
      "total_income\n",
      "total_income\n",
      "total_income\n",
      "total_income\n",
      "total_income\n",
      "total_income\n",
      "total_income\n",
      "total_income\n",
      "total_income\n",
      "total_income\n",
      "total_income\n",
      "total_income\n",
      "total_income\n",
      "total_income\n",
      "total_income\n",
      "total_income\n",
      "total_income\n",
      "total_income\n",
      "total_income\n",
      "total_income\n",
      "total_income\n",
      "total_income\n",
      "total_income\n",
      "total_income\n",
      "total_income\n",
      "total_income\n",
      "total_income\n",
      "total_income\n",
      "total_income\n",
      "total_income\n",
      "total_income\n",
      "total_income\n",
      "total_income\n",
      "total_income\n",
      "total_income\n",
      "total_income\n",
      "total_income\n",
      "total_income\n",
      "total_income\n",
      "total_income\n",
      "total_income\n",
      "total_income\n",
      "total_income\n",
      "total_income\n",
      "total_income\n",
      "total_income\n",
      "total_income\n",
      "total_income\n",
      "total_income\n",
      "total_income\n",
      "total_income\n",
      "total_income\n",
      "total_income\n",
      "total_income\n",
      "total_income\n",
      "total_income\n",
      "total_income\n",
      "total_income\n",
      "total_income\n",
      "total_income\n",
      "total_income\n",
      "total_income\n",
      "total_income\n",
      "total_income\n",
      "total_income\n",
      "total_income\n",
      "total_income\n",
      "total_income\n",
      "total_income\n",
      "total_income\n",
      "total_income\n",
      "total_income\n",
      "total_income\n",
      "total_income\n",
      "total_income\n",
      "total_income\n",
      "total_income\n",
      "total_income\n",
      "total_income\n",
      "total_income\n",
      "total_income\n",
      "total_income\n",
      "total_income\n",
      "total_income\n",
      "total_income\n",
      "total_income\n",
      "total_income\n",
      "total_income\n",
      "total_income\n",
      "total_income\n",
      "total_income\n",
      "total_income\n",
      "total_income\n",
      "total_income\n",
      "total_income\n",
      "total_income\n",
      "total_income\n",
      "total_income\n",
      "total_income\n",
      "total_income\n",
      "total_income\n",
      "total_income\n",
      "total_income\n",
      "total_income\n",
      "total_income\n",
      "total_income\n",
      "total_income\n",
      "total_income\n",
      "total_income\n",
      "total_income\n",
      "total_income\n",
      "total_income\n",
      "total_income\n",
      "total_income\n",
      "total_income\n",
      "total_income\n",
      "total_income\n",
      "total_income\n",
      "total_income\n",
      "total_income\n",
      "total_income\n",
      "total_income\n",
      "total_income\n",
      "total_income\n",
      "total_income\n",
      "total_income\n",
      "total_income\n",
      "total_income\n",
      "total_income\n",
      "total_income\n",
      "total_income\n",
      "total_income\n",
      "total_income\n",
      "total_income\n",
      "total_income\n",
      "total_income\n",
      "total_income\n",
      "total_income\n",
      "total_income\n",
      "total_income\n",
      "total_income\n",
      "total_income\n",
      "total_income\n",
      "total_income\n",
      "total_income\n",
      "total_income\n",
      "total_income\n",
      "total_income\n",
      "total_income\n",
      "total_income\n",
      "total_income\n",
      "total_income\n",
      "total_income\n",
      "total_income\n",
      "total_income\n",
      "total_income\n",
      "total_income\n",
      "total_income\n",
      "total_income\n",
      "total_income\n",
      "total_income\n",
      "total_income\n",
      "total_income\n",
      "total_income\n",
      "total_income\n",
      "total_income\n",
      "total_income\n",
      "total_income\n",
      "total_income\n",
      "total_income\n",
      "total_income\n",
      "total_income\n",
      "total_income\n",
      "total_income\n",
      "total_income\n",
      "total_income\n",
      "total_income\n",
      "total_income\n",
      "total_income\n",
      "total_income\n",
      "total_income\n",
      "total_income\n",
      "total_income\n",
      "total_income\n",
      "total_income\n",
      "total_income\n",
      "total_income\n",
      "total_income\n",
      "total_income\n",
      "total_income\n",
      "total_income\n",
      "total_income\n",
      "total_income\n",
      "total_income\n",
      "total_income\n",
      "total_income\n",
      "total_income\n",
      "total_income\n",
      "total_income\n",
      "total_income\n",
      "total_income\n",
      "total_income\n",
      "total_income\n",
      "total_income\n",
      "total_income\n",
      "total_income\n",
      "total_income\n",
      "total_income\n",
      "total_income\n",
      "total_income\n",
      "total_income\n",
      "total_income\n",
      "total_income\n",
      "total_income\n",
      "total_income\n",
      "total_income\n",
      "total_income\n",
      "total_income\n",
      "total_income\n",
      "total_income\n",
      "total_income\n",
      "total_income\n",
      "total_income\n",
      "total_income\n",
      "total_income\n",
      "total_income\n",
      "total_income\n",
      "total_income\n",
      "total_income\n",
      "total_income\n",
      "total_income\n",
      "total_income\n",
      "total_income\n",
      "total_income\n",
      "total_income\n",
      "total_income\n",
      "total_income\n",
      "total_income\n",
      "total_income\n",
      "total_income\n",
      "total_income\n",
      "total_income\n",
      "total_income\n",
      "total_income\n",
      "total_income\n",
      "total_income\n",
      "total_income\n",
      "total_income\n",
      "total_income\n",
      "total_income\n",
      "total_income\n",
      "total_income\n",
      "total_income\n",
      "total_income\n",
      "total_income\n",
      "total_income\n",
      "total_income\n",
      "total_income\n",
      "total_income\n",
      "total_income\n",
      "total_income\n",
      "total_income\n",
      "total_income\n",
      "total_income\n",
      "total_income\n",
      "total_income\n",
      "total_income\n",
      "total_income\n",
      "total_income\n",
      "total_income\n",
      "total_income\n",
      "total_income\n",
      "total_income\n",
      "total_income\n",
      "total_income\n",
      "total_income\n",
      "total_income\n",
      "total_income\n",
      "total_income\n",
      "total_income\n",
      "total_income\n",
      "total_income\n",
      "total_income\n",
      "total_income\n",
      "total_income\n",
      "total_income\n",
      "total_income\n",
      "total_income\n",
      "total_income\n",
      "total_income\n",
      "total_income\n",
      "total_income\n",
      "total_income\n",
      "total_income\n",
      "total_income\n",
      "total_income\n",
      "total_income\n",
      "total_income\n",
      "total_income\n",
      "total_income\n",
      "total_income\n",
      "total_income\n",
      "total_income\n",
      "total_income\n",
      "total_income\n",
      "total_income\n",
      "total_income\n",
      "total_income\n",
      "total_income\n",
      "total_income\n",
      "total_income\n",
      "total_income\n",
      "total_income\n",
      "total_income\n",
      "total_income\n",
      "total_income\n",
      "total_income\n",
      "total_income\n",
      "total_income\n",
      "total_income\n",
      "total_income\n",
      "total_income\n",
      "total_income\n",
      "total_income\n",
      "total_income\n",
      "total_income\n",
      "total_income\n",
      "total_income\n",
      "total_income\n",
      "total_income\n",
      "total_income\n",
      "total_income\n",
      "total_income\n",
      "total_income\n",
      "total_income\n",
      "total_income\n",
      "total_income\n",
      "total_income\n",
      "total_income\n",
      "total_income\n",
      "total_income\n",
      "total_income\n",
      "total_income\n",
      "total_income\n",
      "total_income\n",
      "total_income\n",
      "total_income\n",
      "total_income\n",
      "total_income\n",
      "total_income\n",
      "total_income\n",
      "total_income\n",
      "total_income\n",
      "total_income\n",
      "total_income\n",
      "total_income\n",
      "total_income\n",
      "total_income\n",
      "total_income\n",
      "total_income\n",
      "total_income\n",
      "total_income\n",
      "total_income\n",
      "total_income\n",
      "total_income\n",
      "total_income\n",
      "total_income\n",
      "total_income\n",
      "total_income\n",
      "total_income\n",
      "total_income\n",
      "total_income\n",
      "total_income\n",
      "total_income\n",
      "total_income\n",
      "total_income\n",
      "total_income\n",
      "total_income\n",
      "total_income\n",
      "total_income\n",
      "total_income\n",
      "total_income\n",
      "total_income\n",
      "total_income\n",
      "total_income\n",
      "total_income\n",
      "total_income\n",
      "total_income\n",
      "total_income\n",
      "total_income\n",
      "total_income\n",
      "total_income\n",
      "total_income\n",
      "total_income\n",
      "total_income\n",
      "total_income\n",
      "total_income\n",
      "total_income\n",
      "total_income\n",
      "total_income\n",
      "total_income\n",
      "total_income\n",
      "total_income\n",
      "total_income\n",
      "total_income\n",
      "total_income\n",
      "total_income\n",
      "total_income\n",
      "total_income\n",
      "total_income\n",
      "total_income\n",
      "total_income\n",
      "total_income\n",
      "total_income\n",
      "total_income\n",
      "total_income\n",
      "total_income\n",
      "total_income\n",
      "total_income\n",
      "total_income\n",
      "total_income\n",
      "total_income\n",
      "total_income\n",
      "total_income\n",
      "total_income\n",
      "total_income\n",
      "total_income\n",
      "total_income\n",
      "total_income\n",
      "total_income\n",
      "total_income\n",
      "total_income\n",
      "total_income\n",
      "total_income\n",
      "total_income\n",
      "total_income\n",
      "total_income\n",
      "total_income\n",
      "total_income\n",
      "total_income\n",
      "total_income\n",
      "total_income\n",
      "total_income\n",
      "total_income\n",
      "total_income\n",
      "total_income\n",
      "total_income\n",
      "total_income\n",
      "total_income\n",
      "total_income\n",
      "total_income\n",
      "total_income\n",
      "total_income\n",
      "total_income\n",
      "total_income\n",
      "total_income\n",
      "total_income\n",
      "total_income\n",
      "total_income\n",
      "total_income\n",
      "total_income\n",
      "total_income\n",
      "total_income\n",
      "total_income\n",
      "total_income\n",
      "total_income\n",
      "total_income\n",
      "total_income\n",
      "total_income\n",
      "total_income\n",
      "total_income\n",
      "total_income\n",
      "total_income\n",
      "total_income\n",
      "total_income\n",
      "total_income\n",
      "total_income\n",
      "total_income\n",
      "total_income\n",
      "total_income\n",
      "total_income\n",
      "total_income\n",
      "total_income\n",
      "total_income\n",
      "total_income\n",
      "total_income\n",
      "total_income\n",
      "total_income\n",
      "total_income\n",
      "total_income\n",
      "total_income\n",
      "total_income\n",
      "total_income\n",
      "total_income\n",
      "total_income\n",
      "total_income\n",
      "total_income\n",
      "total_income\n",
      "total_income\n",
      "total_income\n",
      "total_income\n",
      "total_income\n",
      "total_income\n",
      "total_income\n",
      "total_income\n",
      "total_income\n",
      "total_income\n",
      "total_income\n",
      "total_income\n",
      "total_income\n",
      "total_income\n",
      "total_income\n",
      "total_income\n",
      "total_income\n",
      "total_income\n",
      "total_income\n",
      "total_income\n",
      "total_income\n",
      "total_income\n",
      "total_income\n",
      "total_income\n",
      "total_income\n",
      "total_income\n",
      "total_income\n",
      "total_income\n",
      "total_income\n",
      "total_income\n",
      "total_income\n",
      "total_income\n",
      "total_income\n",
      "total_income\n",
      "total_income\n",
      "total_income\n",
      "total_income\n",
      "total_income\n",
      "total_income\n",
      "total_income\n",
      "total_income\n",
      "total_income\n",
      "total_income\n",
      "total_income\n",
      "total_income\n",
      "total_income\n",
      "total_income\n",
      "total_income\n",
      "total_income\n",
      "total_income\n",
      "total_income\n",
      "total_income\n",
      "total_income\n",
      "total_income\n",
      "total_income\n",
      "total_income\n",
      "total_income\n",
      "total_income\n",
      "total_income\n",
      "total_income\n",
      "total_income\n",
      "total_income\n",
      "total_income\n",
      "total_income\n",
      "total_income\n",
      "total_income\n",
      "total_income\n",
      "total_income\n",
      "total_income\n",
      "total_income\n",
      "total_income\n",
      "total_income\n",
      "total_income\n",
      "total_income\n",
      "total_income\n",
      "total_income\n",
      "total_income\n",
      "total_income\n",
      "total_income\n",
      "total_income\n",
      "total_income\n",
      "total_income\n",
      "total_income\n",
      "total_income\n",
      "total_income\n",
      "total_income\n",
      "total_income\n",
      "total_income\n",
      "total_income\n",
      "total_income\n",
      "total_income\n",
      "total_income\n",
      "total_income\n",
      "total_income\n",
      "total_income\n",
      "total_income\n",
      "total_income\n",
      "total_income\n",
      "total_income\n",
      "total_income\n",
      "total_income\n",
      "total_income\n",
      "total_income\n",
      "total_income\n",
      "total_income\n",
      "total_income\n",
      "total_income\n",
      "total_income\n",
      "total_income\n",
      "total_income\n",
      "total_income\n",
      "total_income\n",
      "total_income\n",
      "total_income\n",
      "total_income\n",
      "total_income\n",
      "total_income\n",
      "total_income\n",
      "total_income\n",
      "total_income\n",
      "total_income\n",
      "total_income\n",
      "total_income\n",
      "total_income\n",
      "total_income\n",
      "total_income\n",
      "total_income\n",
      "total_income\n",
      "total_income\n",
      "total_income\n",
      "total_income\n",
      "total_income\n",
      "total_income\n",
      "total_income\n",
      "total_income\n",
      "total_income\n",
      "total_income\n",
      "total_income\n",
      "total_income\n",
      "total_income\n",
      "total_income\n",
      "total_income\n",
      "total_income\n",
      "total_income\n",
      "total_income\n",
      "total_income\n",
      "total_income\n",
      "total_income\n",
      "total_income\n",
      "total_income\n",
      "total_income\n",
      "total_income\n",
      "total_income\n",
      "total_income\n",
      "total_income\n",
      "total_income\n",
      "total_income\n",
      "total_income\n",
      "total_income\n",
      "total_income\n",
      "total_income\n",
      "total_income\n",
      "total_income\n",
      "total_income\n",
      "total_income\n",
      "total_income\n",
      "total_income\n",
      "total_income\n",
      "total_income\n",
      "total_income\n",
      "total_income\n",
      "total_income\n",
      "total_income\n",
      "total_income\n",
      "total_income\n",
      "total_income\n",
      "total_income\n",
      "total_income\n",
      "total_income\n",
      "total_income\n",
      "total_income\n",
      "total_income\n",
      "total_income\n",
      "total_income\n",
      "total_income\n",
      "total_income\n",
      "total_income\n",
      "total_income\n",
      "total_income\n",
      "total_income\n",
      "total_income\n",
      "total_income\n",
      "total_income\n",
      "total_income\n",
      "total_income\n",
      "total_income\n",
      "total_income\n",
      "total_income\n",
      "total_income\n",
      "total_income\n",
      "total_income\n",
      "total_income\n",
      "total_income\n",
      "total_income\n",
      "total_income\n",
      "total_income\n",
      "total_income\n",
      "total_income\n",
      "total_income\n",
      "total_income\n",
      "total_income\n",
      "total_income\n",
      "total_income\n",
      "total_income\n",
      "total_income\n",
      "total_income\n",
      "total_income\n",
      "total_income\n",
      "total_income\n",
      "total_income\n",
      "total_income\n",
      "total_income\n",
      "total_income\n",
      "total_income\n",
      "total_income\n",
      "total_income\n",
      "total_income\n",
      "total_income\n",
      "total_income\n",
      "total_income\n",
      "total_income\n",
      "total_income\n",
      "total_income\n",
      "total_income\n",
      "total_income\n",
      "total_income\n",
      "total_income\n",
      "total_income\n",
      "total_income\n",
      "total_income\n",
      "total_income\n",
      "total_income\n",
      "total_income\n",
      "total_income\n",
      "total_income\n",
      "total_income\n",
      "total_income\n",
      "total_income\n",
      "total_income\n",
      "total_income\n",
      "total_income\n",
      "total_income\n",
      "total_income\n",
      "total_income\n",
      "total_income\n",
      "total_income\n",
      "total_income\n",
      "total_income\n",
      "total_income\n",
      "total_income\n",
      "total_income\n",
      "total_income\n",
      "total_income\n",
      "total_income\n",
      "total_income\n",
      "total_income\n",
      "total_income\n",
      "total_income\n",
      "total_income\n",
      "total_income\n",
      "total_income\n",
      "total_income\n",
      "total_income\n",
      "total_income\n",
      "total_income\n",
      "total_income\n",
      "total_income\n",
      "total_income\n",
      "total_income\n",
      "total_income\n",
      "total_income\n",
      "total_income\n",
      "total_income\n",
      "total_income\n",
      "total_income\n",
      "total_income\n",
      "total_income\n",
      "total_income\n",
      "total_income\n",
      "total_income\n",
      "total_income\n",
      "total_income\n",
      "total_income\n",
      "total_income\n",
      "total_income\n",
      "total_income\n",
      "total_income\n",
      "total_income\n",
      "total_income\n",
      "total_income\n",
      "total_income\n",
      "total_income\n",
      "total_income\n",
      "total_income\n",
      "total_income\n",
      "total_income\n",
      "total_income\n",
      "total_income\n",
      "total_income\n",
      "total_income\n",
      "total_income\n",
      "total_income\n",
      "total_income\n",
      "total_income\n",
      "total_income\n",
      "total_income\n",
      "total_income\n",
      "total_income\n",
      "total_income\n",
      "total_income\n",
      "total_income\n",
      "total_income\n",
      "total_income\n",
      "total_income\n",
      "total_income\n",
      "total_income\n",
      "total_income\n",
      "total_income\n",
      "total_income\n",
      "total_income\n",
      "total_income\n",
      "total_income\n",
      "total_income\n",
      "total_income\n",
      "total_income\n",
      "total_income\n",
      "total_income\n",
      "total_income\n",
      "total_income\n",
      "total_income\n",
      "total_income\n",
      "total_income\n",
      "total_income\n",
      "total_income\n",
      "total_income\n",
      "total_income\n",
      "total_income\n",
      "total_income\n",
      "total_income\n",
      "total_income\n",
      "total_income\n",
      "total_income\n",
      "total_income\n",
      "total_income\n",
      "total_income\n",
      "total_income\n",
      "total_income\n",
      "total_income\n",
      "total_income\n",
      "total_income\n",
      "total_income\n",
      "total_income\n",
      "total_income\n",
      "total_income\n",
      "total_income\n",
      "total_income\n",
      "total_income\n",
      "total_income\n",
      "total_income\n",
      "total_income\n",
      "total_income\n",
      "total_income\n",
      "total_income\n",
      "total_income\n",
      "total_income\n",
      "total_income\n",
      "total_income\n",
      "total_income\n",
      "total_income\n",
      "total_income\n",
      "total_income\n",
      "total_income\n",
      "total_income\n",
      "total_income\n",
      "total_income\n",
      "total_income\n",
      "total_income\n",
      "total_income\n",
      "total_income\n",
      "total_income\n",
      "total_income\n",
      "total_income\n",
      "total_income\n",
      "total_income\n",
      "total_income\n",
      "total_income\n",
      "total_income\n",
      "total_income\n",
      "total_income\n",
      "total_income\n",
      "total_income\n",
      "total_income\n",
      "total_income\n",
      "total_income\n",
      "total_income\n",
      "total_income\n",
      "total_income\n",
      "total_income\n",
      "total_income\n",
      "total_income\n",
      "total_income\n",
      "total_income\n",
      "total_income\n",
      "total_income\n",
      "total_income\n",
      "total_income\n",
      "total_income\n",
      "total_income\n",
      "total_income\n",
      "total_income\n",
      "total_income\n",
      "total_income\n",
      "total_income\n",
      "total_income\n",
      "total_income\n",
      "total_income\n",
      "total_income\n",
      "total_income\n",
      "total_income\n",
      "total_income\n",
      "total_income\n",
      "total_income\n",
      "total_income\n",
      "total_income\n",
      "total_income\n",
      "total_income\n",
      "total_income\n",
      "total_income\n",
      "total_income\n",
      "total_income\n",
      "total_income\n",
      "total_income\n",
      "total_income\n",
      "total_income\n",
      "total_income\n",
      "total_income\n",
      "total_income\n",
      "total_income\n",
      "total_income\n",
      "total_income\n",
      "total_income\n",
      "total_income\n",
      "total_income\n",
      "total_income\n",
      "total_income\n",
      "total_income\n",
      "total_income\n",
      "total_income\n",
      "total_income\n",
      "total_income\n",
      "total_income\n",
      "total_income\n",
      "total_income\n",
      "total_income\n",
      "total_income\n",
      "total_income\n",
      "total_income\n",
      "total_income\n",
      "total_income\n",
      "total_income\n",
      "total_income\n",
      "total_income\n",
      "total_income\n",
      "total_income\n",
      "total_income\n",
      "total_income\n",
      "total_income\n",
      "total_income\n",
      "total_income\n",
      "total_income\n",
      "total_income\n",
      "total_income\n",
      "total_income\n",
      "total_income\n",
      "total_income\n",
      "total_income\n",
      "total_income\n",
      "total_income\n",
      "total_income\n",
      "total_income\n",
      "total_income\n",
      "total_income\n",
      "total_income\n",
      "total_income\n",
      "total_income\n",
      "total_income\n",
      "total_income\n",
      "total_income\n",
      "total_income\n",
      "total_income\n",
      "total_income\n",
      "total_income\n",
      "total_income\n",
      "total_income\n",
      "total_income\n",
      "total_income\n",
      "total_income\n",
      "total_income\n",
      "total_income\n",
      "total_income\n",
      "total_income\n",
      "total_income\n",
      "total_income\n",
      "total_income\n",
      "total_income\n",
      "total_income\n",
      "total_income\n",
      "total_income\n",
      "total_income\n",
      "total_income\n",
      "total_income\n",
      "total_income\n",
      "total_income\n",
      "total_income\n",
      "total_income\n",
      "total_income\n",
      "total_income\n",
      "total_income\n",
      "total_income\n",
      "total_income\n",
      "total_income\n",
      "total_income\n",
      "total_income\n",
      "total_income\n",
      "total_income\n",
      "total_income\n",
      "total_income\n",
      "total_income\n",
      "total_income\n",
      "total_income\n",
      "total_income\n",
      "total_income\n",
      "total_income\n",
      "total_income\n",
      "total_income\n",
      "total_income\n",
      "total_income\n",
      "total_income\n",
      "total_income\n",
      "total_income\n",
      "total_income\n",
      "total_income\n",
      "total_income\n",
      "total_income\n",
      "total_income\n",
      "total_income\n",
      "total_income\n",
      "total_income\n",
      "total_income\n",
      "total_income\n",
      "total_income\n",
      "total_income\n",
      "total_income\n",
      "total_income\n",
      "total_income\n",
      "total_income\n",
      "total_income\n",
      "total_income\n",
      "total_income\n",
      "total_income\n",
      "total_income\n",
      "total_income\n",
      "total_income\n",
      "total_income\n",
      "total_income\n",
      "total_income\n",
      "total_income\n",
      "total_income\n",
      "total_income\n",
      "total_income\n",
      "total_income\n",
      "total_income\n",
      "total_income\n",
      "total_income\n",
      "total_income\n",
      "total_income\n",
      "total_income\n",
      "total_income\n",
      "total_income\n",
      "total_income\n",
      "total_income\n",
      "total_income\n",
      "total_income\n",
      "total_income\n",
      "total_income\n",
      "total_income\n",
      "total_income\n",
      "total_income\n",
      "total_income\n",
      "total_income\n",
      "total_income\n",
      "total_income\n",
      "total_income\n",
      "total_income\n",
      "total_income\n",
      "total_income\n",
      "total_income\n",
      "total_income\n",
      "total_income\n",
      "total_income\n",
      "total_income\n",
      "total_income\n",
      "total_income\n",
      "total_income\n",
      "total_income\n",
      "total_income\n",
      "total_income\n",
      "total_income\n",
      "total_income\n",
      "total_income\n",
      "total_income\n",
      "total_income\n",
      "total_income\n",
      "total_income\n",
      "total_income\n",
      "total_income\n",
      "total_income\n",
      "total_income\n",
      "total_income\n",
      "total_income\n",
      "total_income\n",
      "total_income\n",
      "total_income\n",
      "total_income\n",
      "total_income\n",
      "total_income\n",
      "total_income\n",
      "total_income\n",
      "total_income\n",
      "total_income\n",
      "total_income\n",
      "total_income\n",
      "total_income\n",
      "total_income\n",
      "total_income\n",
      "total_income\n",
      "total_income\n",
      "total_income\n",
      "total_income\n",
      "total_income\n",
      "total_income\n",
      "total_income\n",
      "total_income\n",
      "total_income\n",
      "total_income\n",
      "total_income\n",
      "total_income\n",
      "total_income\n",
      "total_income\n",
      "total_income\n",
      "total_income\n",
      "total_income\n",
      "total_income\n",
      "total_income\n",
      "total_income\n",
      "total_income\n",
      "total_income\n",
      "total_income\n",
      "total_income\n",
      "total_income\n",
      "total_income\n",
      "total_income\n",
      "total_income\n",
      "total_income\n",
      "total_income\n",
      "total_income\n",
      "total_income\n",
      "total_income\n",
      "total_income\n",
      "total_income\n",
      "total_income\n",
      "total_income\n",
      "total_income\n",
      "total_income\n",
      "total_income\n",
      "total_income\n",
      "total_income\n",
      "total_income\n",
      "total_income\n",
      "total_income\n",
      "total_income\n",
      "total_income\n",
      "total_income\n",
      "total_income\n",
      "total_income\n",
      "total_income\n",
      "total_income\n",
      "total_income\n",
      "total_income\n",
      "total_income\n",
      "total_income\n",
      "total_income\n",
      "total_income\n",
      "total_income\n",
      "total_income\n",
      "total_income\n",
      "total_income\n",
      "total_income\n",
      "total_income\n",
      "total_income\n",
      "total_income\n",
      "total_income\n",
      "total_income\n",
      "total_income\n",
      "total_income\n",
      "total_income\n",
      "total_income\n",
      "total_income\n",
      "total_income\n",
      "total_income\n",
      "total_income\n",
      "total_income\n",
      "total_income\n",
      "total_income\n",
      "total_income\n",
      "total_income\n",
      "total_income\n",
      "total_income\n",
      "total_income\n",
      "total_income\n",
      "total_income\n",
      "total_income\n",
      "total_income\n",
      "total_income\n",
      "total_income\n",
      "total_income\n",
      "total_income\n",
      "total_income\n",
      "total_income\n",
      "total_income\n",
      "total_income\n",
      "total_income\n",
      "total_income\n",
      "total_income\n",
      "total_income\n",
      "total_income\n",
      "total_income\n",
      "total_income\n",
      "total_income\n",
      "total_income\n",
      "total_income\n",
      "total_income\n",
      "total_income\n",
      "total_income\n",
      "total_income\n",
      "total_income\n",
      "total_income\n",
      "total_income\n",
      "total_income\n",
      "total_income\n",
      "total_income\n",
      "total_income\n",
      "total_income\n",
      "total_income\n",
      "total_income\n",
      "total_income\n",
      "total_income\n",
      "total_income\n",
      "total_income\n",
      "total_income\n",
      "total_income\n",
      "total_income\n",
      "total_income\n",
      "total_income\n",
      "total_income\n",
      "total_income\n",
      "total_income\n",
      "total_income\n",
      "total_income\n",
      "total_income\n",
      "total_income\n",
      "total_income\n",
      "total_income\n",
      "total_income\n",
      "total_income\n",
      "total_income\n",
      "total_income\n",
      "total_income\n",
      "total_income\n",
      "total_income\n",
      "total_income\n",
      "total_income\n",
      "total_income\n",
      "total_income\n",
      "total_income\n",
      "total_income\n",
      "total_income\n",
      "total_income\n",
      "total_income\n",
      "total_income\n",
      "total_income\n",
      "total_income\n",
      "total_income\n",
      "total_income\n",
      "total_income\n",
      "total_income\n",
      "total_income\n",
      "total_income\n",
      "total_income\n",
      "total_income\n",
      "total_income\n",
      "total_income\n",
      "total_income\n",
      "total_income\n",
      "total_income\n",
      "total_income\n",
      "total_income\n",
      "total_income\n",
      "total_income\n",
      "total_income\n",
      "total_income\n",
      "total_income\n",
      "total_income\n",
      "total_income\n",
      "total_income\n",
      "total_income\n",
      "total_income\n",
      "total_income\n",
      "total_income\n",
      "total_income\n",
      "total_income\n",
      "total_income\n",
      "total_income\n",
      "total_income\n",
      "total_income\n",
      "total_income\n",
      "total_income\n",
      "total_income\n",
      "total_income\n",
      "total_income\n",
      "total_income\n",
      "total_income\n",
      "total_income\n",
      "total_income\n",
      "total_income\n",
      "total_income\n",
      "total_income\n",
      "total_income\n",
      "total_income\n",
      "total_income\n",
      "total_income\n",
      "total_income\n",
      "total_income\n",
      "total_income\n",
      "total_income\n",
      "total_income\n",
      "total_income\n",
      "total_income\n",
      "total_income\n",
      "total_income\n",
      "total_income\n",
      "total_income\n",
      "total_income\n",
      "total_income\n",
      "total_income\n",
      "total_income\n",
      "total_income\n",
      "total_income\n",
      "total_income\n",
      "total_income\n",
      "total_income\n",
      "total_income\n",
      "total_income\n",
      "total_income\n",
      "total_income\n",
      "total_income\n",
      "total_income\n",
      "total_income\n",
      "total_income\n",
      "total_income\n",
      "total_income\n",
      "total_income\n",
      "total_income\n",
      "total_income\n",
      "total_income\n",
      "total_income\n",
      "total_income\n",
      "total_income\n",
      "total_income\n",
      "total_income\n",
      "total_income\n",
      "total_income\n",
      "total_income\n",
      "total_income\n",
      "total_income\n",
      "total_income\n",
      "total_income\n",
      "total_income\n",
      "total_income\n",
      "total_income\n",
      "total_income\n",
      "total_income\n",
      "total_income\n",
      "total_income\n",
      "total_income\n",
      "total_income\n",
      "total_income\n",
      "total_income\n",
      "total_income\n",
      "total_income\n",
      "total_income\n",
      "total_income\n",
      "total_income\n",
      "total_income\n",
      "total_income\n",
      "total_income\n",
      "total_income\n",
      "total_income\n",
      "total_income\n",
      "total_income\n",
      "total_income\n",
      "total_income\n",
      "total_income\n",
      "total_income\n",
      "total_income\n",
      "total_income\n",
      "total_income\n",
      "total_income\n",
      "total_income\n",
      "total_income\n",
      "total_income\n",
      "total_income\n",
      "total_income\n",
      "total_income\n",
      "total_income\n",
      "total_income\n",
      "total_income\n",
      "total_income\n",
      "total_income\n",
      "total_income\n",
      "total_income\n",
      "total_income\n",
      "total_income\n",
      "total_income\n",
      "total_income\n",
      "total_income\n",
      "total_income\n",
      "total_income\n",
      "total_income\n",
      "total_income\n",
      "total_income\n",
      "total_income\n",
      "total_income\n",
      "total_income\n",
      "total_income\n",
      "total_income\n",
      "total_income\n",
      "total_income\n",
      "total_income\n",
      "total_income\n",
      "total_income\n",
      "total_income\n",
      "total_income\n",
      "total_income\n",
      "total_income\n",
      "total_income\n",
      "total_income\n",
      "total_income\n",
      "total_income\n",
      "total_income\n",
      "total_income\n",
      "total_income\n",
      "total_income\n",
      "total_income\n",
      "total_income\n",
      "total_income\n",
      "total_income\n",
      "total_income\n",
      "total_income\n",
      "total_income\n",
      "total_income\n",
      "total_income\n",
      "total_income\n",
      "total_income\n",
      "total_income\n",
      "total_income\n",
      "total_income\n",
      "total_income\n",
      "total_income\n",
      "total_income\n",
      "total_income\n",
      "total_income\n",
      "total_income\n",
      "total_income\n",
      "total_income\n",
      "total_income\n",
      "total_income\n",
      "total_income\n",
      "total_income\n",
      "total_income\n",
      "total_income\n",
      "total_income\n",
      "total_income\n",
      "total_income\n",
      "total_income\n",
      "total_income\n",
      "total_income\n",
      "total_income\n",
      "total_income\n",
      "total_income\n",
      "total_income\n",
      "total_income\n",
      "total_income\n",
      "total_income\n",
      "total_income\n",
      "total_income\n",
      "total_income\n",
      "total_income\n",
      "total_income\n",
      "total_income\n",
      "total_income\n",
      "total_income\n",
      "total_income\n",
      "total_income\n",
      "total_income\n",
      "total_income\n",
      "total_income\n",
      "total_income\n",
      "total_income\n",
      "total_income\n",
      "total_income\n",
      "total_income\n",
      "total_income\n",
      "total_income\n",
      "total_income\n",
      "total_income\n",
      "total_income\n",
      "total_income\n",
      "total_income\n",
      "total_income\n",
      "total_income\n",
      "total_income\n",
      "total_income\n",
      "total_income\n",
      "total_income\n",
      "total_income\n",
      "total_income\n",
      "total_income\n",
      "total_income\n",
      "total_income\n",
      "total_income\n",
      "total_income\n",
      "total_income\n",
      "total_income\n",
      "total_income\n",
      "total_income\n",
      "total_income\n",
      "total_income\n",
      "total_income\n",
      "total_income\n",
      "total_income\n",
      "total_income\n",
      "total_income\n",
      "total_income\n",
      "total_income\n",
      "total_income\n",
      "total_income\n",
      "total_income\n",
      "total_income\n",
      "total_income\n",
      "total_income\n",
      "total_income\n",
      "total_income\n",
      "total_income\n",
      "total_income\n",
      "total_income\n",
      "total_income\n",
      "total_income\n",
      "total_income\n",
      "total_income\n",
      "total_income\n",
      "total_income\n",
      "total_income\n",
      "total_income\n",
      "total_income\n",
      "total_income\n",
      "total_income\n",
      "total_income\n",
      "total_income\n",
      "total_income\n",
      "total_income\n",
      "total_income\n",
      "total_income\n",
      "total_income\n",
      "total_income\n",
      "total_income\n",
      "total_income\n",
      "total_income\n",
      "total_income\n",
      "total_income\n",
      "total_income\n",
      "total_income\n",
      "total_income\n",
      "total_income\n",
      "total_income\n",
      "total_income\n",
      "total_income\n",
      "total_income\n",
      "total_income\n",
      "total_income\n",
      "total_income\n",
      "total_income\n",
      "total_income\n",
      "total_income\n",
      "total_income\n",
      "total_income\n",
      "total_income\n",
      "total_income\n",
      "total_income\n",
      "total_income\n",
      "total_income\n",
      "total_income\n",
      "total_income\n",
      "total_income\n",
      "total_income\n",
      "total_income\n",
      "total_income\n",
      "total_income\n",
      "total_income\n",
      "total_income\n",
      "total_income\n",
      "total_income\n",
      "total_income\n",
      "total_income\n",
      "total_income\n",
      "total_income\n",
      "total_income\n",
      "total_income\n",
      "total_income\n",
      "total_income\n",
      "total_income\n",
      "total_income\n",
      "total_income\n",
      "total_income\n",
      "total_income\n",
      "total_income\n",
      "total_income\n",
      "total_income\n",
      "total_income\n",
      "total_income\n",
      "total_income\n",
      "total_income\n",
      "total_income\n",
      "total_income\n",
      "total_income\n",
      "total_income\n",
      "total_income\n",
      "total_income\n",
      "total_income\n",
      "total_income\n",
      "total_income\n",
      "total_income\n",
      "total_income\n",
      "total_income\n",
      "total_income\n",
      "total_income\n",
      "total_income\n",
      "total_income\n",
      "total_income\n",
      "total_income\n",
      "total_income\n",
      "total_income\n",
      "total_income\n",
      "total_income\n",
      "total_income\n",
      "total_income\n",
      "total_income\n",
      "total_income\n",
      "total_income\n",
      "total_income\n",
      "total_income\n",
      "total_income\n",
      "total_income\n",
      "total_income\n",
      "total_income\n",
      "total_income\n",
      "total_income\n",
      "total_income\n",
      "total_income\n",
      "total_income\n",
      "total_income\n",
      "total_income\n",
      "total_income\n",
      "total_income\n",
      "total_income\n",
      "total_income\n",
      "total_income\n",
      "total_income\n",
      "total_income\n",
      "total_income\n",
      "total_income\n",
      "total_income\n",
      "total_income\n",
      "total_income\n",
      "total_income\n",
      "total_income\n",
      "total_income\n",
      "total_income\n",
      "total_income\n",
      "total_income\n",
      "total_income\n",
      "total_income\n",
      "total_income\n",
      "total_income\n",
      "total_income\n",
      "total_income\n",
      "total_income\n",
      "total_income\n",
      "total_income\n",
      "total_income\n",
      "total_income\n",
      "total_income\n",
      "total_income\n",
      "total_income\n",
      "total_income\n",
      "total_income\n",
      "total_income\n",
      "total_income\n",
      "total_income\n",
      "total_income\n",
      "total_income\n",
      "total_income\n",
      "total_income\n",
      "total_income\n",
      "total_income\n",
      "total_income\n",
      "total_income\n",
      "total_income\n",
      "total_income\n",
      "total_income\n",
      "total_income\n",
      "total_income\n",
      "total_income\n",
      "total_income\n",
      "total_income\n",
      "total_income\n",
      "total_income\n",
      "total_income\n",
      "total_income\n",
      "total_income\n",
      "total_income\n",
      "total_income\n",
      "total_income\n",
      "total_income\n",
      "total_income\n",
      "total_income\n",
      "total_income\n",
      "total_income\n",
      "total_income\n",
      "total_income\n",
      "total_income\n",
      "total_income\n",
      "total_income\n",
      "total_income\n",
      "total_income\n",
      "total_income\n",
      "total_income\n",
      "total_income\n",
      "total_income\n",
      "total_income\n",
      "total_income\n",
      "total_income\n",
      "total_income\n",
      "total_income\n",
      "total_income\n",
      "total_income\n",
      "total_income\n",
      "total_income\n",
      "total_income\n",
      "total_income\n",
      "total_income\n",
      "total_income\n",
      "total_income\n",
      "total_income\n",
      "total_income\n",
      "total_income\n",
      "total_income\n",
      "total_income\n",
      "total_income\n",
      "total_income\n",
      "total_income\n",
      "total_income\n",
      "total_income\n",
      "total_income\n",
      "total_income\n",
      "total_income\n",
      "total_income\n",
      "total_income\n",
      "total_income\n",
      "total_income\n",
      "total_income\n",
      "total_income\n",
      "total_income\n",
      "total_income\n",
      "total_income\n",
      "total_income\n",
      "total_income\n",
      "total_income\n",
      "total_income\n",
      "total_income\n",
      "total_income\n",
      "total_income\n",
      "total_income\n",
      "total_income\n",
      "total_income\n",
      "total_income\n",
      "total_income\n",
      "total_income\n",
      "total_income\n",
      "total_income\n",
      "total_income\n",
      "total_income\n",
      "total_income\n",
      "total_income\n",
      "total_income\n",
      "total_income\n",
      "total_income\n",
      "total_income\n",
      "total_income\n",
      "total_income\n",
      "total_income\n",
      "total_income\n",
      "total_income\n",
      "total_income\n",
      "total_income\n",
      "total_income\n",
      "total_income\n",
      "total_income\n",
      "total_income\n",
      "total_income\n",
      "total_income\n",
      "total_income\n",
      "total_income\n",
      "total_income\n",
      "total_income\n",
      "total_income\n",
      "total_income\n",
      "total_income\n",
      "total_income\n",
      "total_income\n",
      "total_income\n",
      "total_income\n",
      "total_income\n",
      "total_income\n",
      "total_income\n",
      "total_income\n",
      "total_income\n",
      "total_income\n",
      "total_income\n",
      "total_income\n",
      "total_income\n",
      "total_income\n",
      "total_income\n",
      "total_income\n",
      "total_income\n",
      "total_income\n",
      "total_income\n",
      "total_income\n",
      "total_income\n",
      "total_income\n",
      "total_income\n",
      "total_income\n",
      "total_income\n",
      "total_income\n",
      "total_income\n",
      "total_income\n",
      "total_income\n",
      "total_income\n",
      "total_income\n",
      "total_income\n",
      "total_income\n",
      "total_income\n",
      "total_income\n",
      "total_income\n",
      "total_income\n",
      "total_income\n",
      "total_income\n",
      "total_income\n",
      "total_income\n",
      "total_income\n",
      "total_income\n",
      "total_income\n",
      "total_income\n",
      "total_income\n",
      "total_income\n",
      "total_income\n",
      "total_income\n",
      "total_income\n",
      "total_income\n",
      "total_income\n",
      "total_income\n",
      "total_income\n"
     ]
    }
   ],
   "source": [
    "def income_sorted(total_income):\n",
    "    \n",
    "    if total_income <= 107623:\n",
    "        return 'до 107623 '\n",
    "    if total_income <= 156043:\n",
    "        return 'до 156043'\n",
    "    if total_income <= 195813:\n",
    "        return 'до 195813'\n",
    "    if 195813 < total_income:\n",
    "        return 'от 195813'\n",
    "    else:\n",
    "        print('total_income')\n",
    "\n",
    "income_group = df.loc[:, ('debt','total_income')]\n",
    "income_group['income_id'] = income_group['total_income'].apply(income_sorted)\n"
   ]
  },
  {
   "cell_type": "code",
   "execution_count": 33,
   "metadata": {},
   "outputs": [
    {
     "data": {
      "text/html": [
       "<div>\n",
       "<style scoped>\n",
       "    .dataframe tbody tr th:only-of-type {\n",
       "        vertical-align: middle;\n",
       "    }\n",
       "\n",
       "    .dataframe tbody tr th {\n",
       "        vertical-align: top;\n",
       "    }\n",
       "\n",
       "    .dataframe thead tr th {\n",
       "        text-align: left;\n",
       "    }\n",
       "\n",
       "    .dataframe thead tr:last-of-type th {\n",
       "        text-align: right;\n",
       "    }\n",
       "</style>\n",
       "<table border=\"1\" class=\"dataframe\">\n",
       "  <thead>\n",
       "    <tr>\n",
       "      <th></th>\n",
       "      <th>количество должников</th>\n",
       "      <th>количество заемщиков</th>\n",
       "      <th>доля должников</th>\n",
       "    </tr>\n",
       "    <tr>\n",
       "      <th></th>\n",
       "      <th></th>\n",
       "      <th></th>\n",
       "      <th></th>\n",
       "    </tr>\n",
       "    <tr>\n",
       "      <th>доход</th>\n",
       "      <th></th>\n",
       "      <th></th>\n",
       "      <th></th>\n",
       "    </tr>\n",
       "  </thead>\n",
       "  <tbody>\n",
       "    <tr>\n",
       "      <th>до 107623</th>\n",
       "      <td>427</td>\n",
       "      <td>5364</td>\n",
       "      <td>7.96%</td>\n",
       "    </tr>\n",
       "    <tr>\n",
       "      <th>до 156043</th>\n",
       "      <td>468</td>\n",
       "      <td>5363</td>\n",
       "      <td>8.73%</td>\n",
       "    </tr>\n",
       "    <tr>\n",
       "      <th>до 195813</th>\n",
       "      <td>293</td>\n",
       "      <td>3260</td>\n",
       "      <td>8.99%</td>\n",
       "    </tr>\n",
       "    <tr>\n",
       "      <th>от 195813</th>\n",
       "      <td>383</td>\n",
       "      <td>5364</td>\n",
       "      <td>7.14%</td>\n",
       "    </tr>\n",
       "  </tbody>\n",
       "</table>\n",
       "</div>"
      ],
      "text/plain": [
       "           количество должников количество заемщиков доля должников\n",
       "                                                                   \n",
       "доход                                                              \n",
       "до 107623                   427                 5364          7.96%\n",
       "до 156043                   468                 5363          8.73%\n",
       "до 195813                   293                 3260          8.99%\n",
       "от 195813                   383                 5364          7.14%"
      ]
     },
     "execution_count": 33,
     "metadata": {},
     "output_type": "execute_result"
    }
   ],
   "source": [
    "\n",
    "income_pivot = income_group.pivot_table('debt', index='income_id', aggfunc=['sum', 'count', lambda x: '{:.2%}'.format(x[:].mean())],)\n",
    "income_pivot = income_pivot.rename(columns={\"sum\":\"количество должников\", \"count\":\"количество заемщиков\", \"<lambda>\": \"доля должников\", \"debt\": \"\" })\n",
    "income_pivot.index.name = 'доход'\n",
    "income_pivot  "
   ]
  },
  {
   "cell_type": "markdown",
   "metadata": {},
   "source": [
    "**Вывод**"
   ]
  },
  {
   "cell_type": "markdown",
   "metadata": {},
   "source": [
    "На шанс возврата кредита влияет уровень дохода. Самый высокий шанс вернуть кредит у клиентов с доходом свыше 195 813."
   ]
  },
  {
   "cell_type": "markdown",
   "metadata": {},
   "source": [
    "### Как разные цели кредита влияют на его возврат в срок?"
   ]
  },
  {
   "cell_type": "code",
   "execution_count": 34,
   "metadata": {},
   "outputs": [
    {
     "name": "stdout",
     "output_type": "stream",
     "text": [
      "lemmas        debt\n",
      "автомобиль    0       0.906410\n",
      "              1       0.093590\n",
      "недвижимость  0       0.927666\n",
      "              1       0.072334\n",
      "оброзование   0       0.907800\n",
      "              1       0.092200\n",
      "свадьба       0       0.919966\n",
      "              1       0.080034\n",
      "Name: debt, dtype: float64\n"
     ]
    }
   ],
   "source": [
    "print(df.groupby('lemmas')['debt'].value_counts(normalize=True)) \n",
    "\n",
    "\n"
   ]
  },
  {
   "cell_type": "code",
   "execution_count": 40,
   "metadata": {},
   "outputs": [
    {
     "data": {
      "text/html": [
       "<div>\n",
       "<style scoped>\n",
       "    .dataframe tbody tr th:only-of-type {\n",
       "        vertical-align: middle;\n",
       "    }\n",
       "\n",
       "    .dataframe tbody tr th {\n",
       "        vertical-align: top;\n",
       "    }\n",
       "\n",
       "    .dataframe thead th {\n",
       "        text-align: right;\n",
       "    }\n",
       "</style>\n",
       "<table border=\"1\" class=\"dataframe\">\n",
       "  <thead>\n",
       "    <tr style=\"text-align: right;\">\n",
       "      <th></th>\n",
       "      <th>sum</th>\n",
       "      <th>count</th>\n",
       "      <th>proportion</th>\n",
       "    </tr>\n",
       "    <tr>\n",
       "      <th>purpose_id</th>\n",
       "      <th></th>\n",
       "      <th></th>\n",
       "      <th></th>\n",
       "    </tr>\n",
       "  </thead>\n",
       "  <tbody>\n",
       "    <tr>\n",
       "      <th>автомобиль</th>\n",
       "      <td>403</td>\n",
       "      <td>4306</td>\n",
       "      <td>0.093590</td>\n",
       "    </tr>\n",
       "    <tr>\n",
       "      <th>недвижимость</th>\n",
       "      <td>782</td>\n",
       "      <td>10811</td>\n",
       "      <td>0.072334</td>\n",
       "    </tr>\n",
       "    <tr>\n",
       "      <th>образование</th>\n",
       "      <td>370</td>\n",
       "      <td>4013</td>\n",
       "      <td>0.092200</td>\n",
       "    </tr>\n",
       "    <tr>\n",
       "      <th>свадьба</th>\n",
       "      <td>186</td>\n",
       "      <td>2324</td>\n",
       "      <td>0.080034</td>\n",
       "    </tr>\n",
       "  </tbody>\n",
       "</table>\n",
       "</div>"
      ],
      "text/plain": [
       "              sum  count  proportion\n",
       "purpose_id                          \n",
       "автомобиль    403   4306    0.093590\n",
       "недвижимость  782  10811    0.072334\n",
       "образование   370   4013    0.092200\n",
       "свадьба       186   2324    0.080034"
      ]
     },
     "execution_count": 40,
     "metadata": {},
     "output_type": "execute_result"
    }
   ],
   "source": [
    "def purpose_sorted(purpose_lem):\n",
    "    if 'автомобиль' in purpose_lem:\n",
    "        return 'автомобиль'\n",
    "    if 'жилье' in purpose_lem or 'недвижимость' in purpose_lem:\n",
    "        return 'недвижимость'\n",
    "    if 'свадьба' in purpose_lem:\n",
    "        return 'свадьба'\n",
    "    if 'образование':\n",
    "        return 'образование'\n",
    "    else:\n",
    "        print(purpose_lem)\n",
    "\n",
    "purpose_group = df.loc[:, ('debt','purpose_lem')]\n",
    "purpose_group['purpose_id'] = purpose_group['purpose_lem'].apply(purpose_sorted)\n",
    "purpose_and_debt = purpose_group.groupby('purpose_id')['debt'].agg(['sum', 'count'])\n",
    "purpose_and_debt['proportion'] = purpose_and_debt['sum'] / purpose_and_debt['count']\n",
    "purpose_and_debt"
   ]
  },
  {
   "cell_type": "code",
   "execution_count": 41,
   "metadata": {},
   "outputs": [
    {
     "data": {
      "text/plain": [
       "lemmas\n",
       "автомобиль      0.093590\n",
       "недвижимость    0.072334\n",
       "оброзование     0.092200\n",
       "свадьба         0.080034\n",
       "Name: debt, dtype: float64"
      ]
     },
     "execution_count": 41,
     "metadata": {},
     "output_type": "execute_result"
    }
   ],
   "source": [
    "df.groupby('lemmas')['debt'].agg('mean')"
   ]
  },
  {
   "cell_type": "markdown",
   "metadata": {},
   "source": [
    "**Вывод**"
   ]
  },
  {
   "cell_type": "markdown",
   "metadata": {},
   "source": [
    "Цели кредита также влияют на шанс возврата кредита. Так больше вероятность вернуть кредит у заемщиков берущих кредит на недвижимость, а те кто брал деньги на автомобиль или образование, мене склонны возвращать кредит"
   ]
  },
  {
   "cell_type": "markdown",
   "metadata": {},
   "source": [
    "## Шаг 4. Общий вывод"
   ]
  },
  {
   "cell_type": "markdown",
   "metadata": {},
   "source": [
    "На шанс вернуть кредит влияет семейное положение и количество детей:\n",
    "\n",
    "Так самыми надежными заемщиками являются те кто вообще не имеет детей, они не возвращают кредит всего в 7.54%, в отличие от клиентов имеющих двое детей, которые не так добросовестно относятся к задолженности и не возвращают в 9.49% случаев.\n",
    "Что касается семейного положения то клиенты не состоящие в браке, не платят по кредитам в 9.75% случаев. А вот вдовцы самая надежная категория, кредиторов 6.57% уклоняются от выплат. Так же есть зависимость между возвратом кредита, и целями, и доходом заемщика:\n",
    "По целям самые добросовестные заемщики те кто берет деньги на недвижимость, они не выплачивают в 7.23% случаев. Заёмщики берущие деньги на автомобиль не платят в 9.36% случаев.\n",
    "Клиенты с доходом в диапазоне от 156044 до 195813 не платят по кредиту 8.89% случаях. А те у кого доход свыше 195813 не выплачивают в 7.04%. Надежным заемщиком является, вдовец без детей, взявший кредит на недвижимость и с доходом более 195813.\n",
    "\n",
    "Рекомендую проанализировать зависимость с возрастом возможно он в большей степени влияет на шанс возврата денег и сказывается на остальной статистике, так я могу предположить что вдовцы и люди с большим количеством детей, чаще будут в более высокой возрастной категории, чем холостые. Так же я не смог придумать как с высокой достоверностью восстановить данные из колонки трудового стажа. Хотелось бы более подробно узнать как собирались эти данные, возможно ошибка конвертации."
   ]
  }
 ],
 "metadata": {
  "ExecuteTimeLog": [
   {
    "duration": 834,
    "start_time": "2021-12-12T06:15:09.176Z"
   },
   {
    "duration": 85,
    "start_time": "2021-12-12T06:16:19.402Z"
   },
   {
    "duration": 14,
    "start_time": "2021-12-12T06:26:39.242Z"
   },
   {
    "duration": 37,
    "start_time": "2021-12-12T06:33:18.904Z"
   },
   {
    "duration": 32,
    "start_time": "2021-12-12T06:34:29.401Z"
   },
   {
    "duration": 67,
    "start_time": "2021-12-12T06:36:40.843Z"
   },
   {
    "duration": 6,
    "start_time": "2021-12-12T07:11:28.156Z"
   },
   {
    "duration": 6,
    "start_time": "2021-12-12T07:11:51.307Z"
   },
   {
    "duration": 5,
    "start_time": "2021-12-12T07:12:02.906Z"
   },
   {
    "duration": 9,
    "start_time": "2021-12-12T07:12:15.383Z"
   },
   {
    "duration": 974,
    "start_time": "2021-12-12T07:13:03.892Z"
   },
   {
    "duration": 733,
    "start_time": "2021-12-12T07:14:48.288Z"
   },
   {
    "duration": 1176,
    "start_time": "2021-12-12T07:14:57.909Z"
   },
   {
    "duration": 847,
    "start_time": "2021-12-12T07:15:53.689Z"
   },
   {
    "duration": 1066,
    "start_time": "2021-12-12T07:17:08.594Z"
   },
   {
    "duration": 1020,
    "start_time": "2021-12-12T07:17:22.946Z"
   },
   {
    "duration": 436,
    "start_time": "2021-12-12T07:18:12.342Z"
   },
   {
    "duration": 1266,
    "start_time": "2021-12-12T07:18:23.994Z"
   },
   {
    "duration": 774,
    "start_time": "2021-12-12T07:18:33.832Z"
   },
   {
    "duration": 975,
    "start_time": "2021-12-12T07:18:43.259Z"
   },
   {
    "duration": 86,
    "start_time": "2021-12-12T07:19:02.394Z"
   },
   {
    "duration": 16,
    "start_time": "2021-12-12T07:19:07.870Z"
   },
   {
    "duration": 26,
    "start_time": "2021-12-12T07:19:11.839Z"
   },
   {
    "duration": 88,
    "start_time": "2021-12-12T07:19:14.980Z"
   },
   {
    "duration": 11,
    "start_time": "2021-12-12T07:19:18.629Z"
   },
   {
    "duration": 31,
    "start_time": "2021-12-12T07:20:31.151Z"
   },
   {
    "duration": 508,
    "start_time": "2021-12-12T07:38:24.706Z"
   },
   {
    "duration": 21,
    "start_time": "2021-12-12T07:38:41.167Z"
   },
   {
    "duration": 421,
    "start_time": "2021-12-12T07:38:48.355Z"
   },
   {
    "duration": -1127,
    "start_time": "2021-12-12T07:39:48.586Z"
   },
   {
    "duration": 12440,
    "start_time": "2021-12-12T07:39:50.311Z"
   },
   {
    "duration": 20287,
    "start_time": "2021-12-12T08:02:28.172Z"
   },
   {
    "duration": 1357,
    "start_time": "2021-12-12T08:03:30.821Z"
   },
   {
    "duration": 988,
    "start_time": "2021-12-12T08:04:20.901Z"
   },
   {
    "duration": 141,
    "start_time": "2021-12-12T08:06:15.130Z"
   },
   {
    "duration": 19019,
    "start_time": "2021-12-12T08:06:22.506Z"
   },
   {
    "duration": 19023,
    "start_time": "2021-12-12T08:07:46.202Z"
   },
   {
    "duration": 15,
    "start_time": "2021-12-12T08:10:05.295Z"
   },
   {
    "duration": 927,
    "start_time": "2021-12-12T08:11:49.022Z"
   },
   {
    "duration": 16,
    "start_time": "2021-12-12T08:11:54.966Z"
   },
   {
    "duration": 29,
    "start_time": "2021-12-12T08:11:57.994Z"
   },
   {
    "duration": 69,
    "start_time": "2021-12-12T08:12:02.834Z"
   },
   {
    "duration": 18723,
    "start_time": "2021-12-12T08:12:16.478Z"
   },
   {
    "duration": 16,
    "start_time": "2021-12-12T08:12:46.722Z"
   },
   {
    "duration": 18951,
    "start_time": "2021-12-12T08:19:51.039Z"
   },
   {
    "duration": 961,
    "start_time": "2021-12-12T08:24:28.711Z"
   },
   {
    "duration": 764,
    "start_time": "2021-12-12T08:32:16.095Z"
   },
   {
    "duration": 129,
    "start_time": "2021-12-12T08:33:14.005Z"
   },
   {
    "duration": 673,
    "start_time": "2021-12-12T08:33:27.082Z"
   },
   {
    "duration": 846,
    "start_time": "2021-12-12T08:33:37.650Z"
   },
   {
    "duration": 395,
    "start_time": "2021-12-12T08:35:25.815Z"
   },
   {
    "duration": 464,
    "start_time": "2021-12-12T08:35:57.323Z"
   },
   {
    "duration": 322,
    "start_time": "2021-12-12T08:36:22.952Z"
   },
   {
    "duration": 987,
    "start_time": "2021-12-12T08:39:41.197Z"
   },
   {
    "duration": 1177,
    "start_time": "2021-12-12T08:41:45.530Z"
   },
   {
    "duration": 1440,
    "start_time": "2021-12-12T08:42:51.531Z"
   },
   {
    "duration": 997,
    "start_time": "2021-12-12T08:50:52.478Z"
   },
   {
    "duration": 14,
    "start_time": "2021-12-12T08:52:02.159Z"
   },
   {
    "duration": 1431,
    "start_time": "2021-12-12T08:58:04.948Z"
   },
   {
    "duration": 1526,
    "start_time": "2021-12-12T08:58:17.563Z"
   },
   {
    "duration": 965,
    "start_time": "2021-12-12T08:59:11.812Z"
   },
   {
    "duration": 1818,
    "start_time": "2021-12-12T08:59:30.836Z"
   },
   {
    "duration": 1880,
    "start_time": "2021-12-12T09:02:44.758Z"
   },
   {
    "duration": 1432,
    "start_time": "2021-12-12T09:11:37.344Z"
   },
   {
    "duration": 99,
    "start_time": "2021-12-12T09:11:50.400Z"
   },
   {
    "duration": 14,
    "start_time": "2021-12-12T09:11:57.537Z"
   },
   {
    "duration": 29,
    "start_time": "2021-12-12T09:12:01.056Z"
   },
   {
    "duration": 67,
    "start_time": "2021-12-12T09:12:04.699Z"
   },
   {
    "duration": 1058,
    "start_time": "2021-12-12T09:12:10.074Z"
   },
   {
    "duration": 192,
    "start_time": "2021-12-12T09:12:33.565Z"
   },
   {
    "duration": 8,
    "start_time": "2021-12-12T09:12:57.114Z"
   },
   {
    "duration": 928,
    "start_time": "2021-12-12T09:19:40.894Z"
   },
   {
    "duration": 940,
    "start_time": "2021-12-12T09:19:54.914Z"
   },
   {
    "duration": 47511,
    "start_time": "2021-12-12T09:21:08.031Z"
   },
   {
    "duration": 19,
    "start_time": "2021-12-12T09:21:55.545Z"
   },
   {
    "duration": 262,
    "start_time": "2021-12-12T09:26:27.456Z"
   },
   {
    "duration": 939,
    "start_time": "2021-12-12T09:27:03.553Z"
   },
   {
    "duration": 955,
    "start_time": "2021-12-12T09:27:17.104Z"
   },
   {
    "duration": 1294,
    "start_time": "2021-12-12T09:27:23.888Z"
   },
   {
    "duration": 46595,
    "start_time": "2021-12-12T09:27:56.516Z"
   },
   {
    "duration": 9,
    "start_time": "2021-12-12T09:30:18.517Z"
   },
   {
    "duration": 6,
    "start_time": "2021-12-12T09:30:28.076Z"
   },
   {
    "duration": 6,
    "start_time": "2021-12-12T10:26:57.222Z"
   },
   {
    "duration": 6,
    "start_time": "2021-12-12T10:27:17.677Z"
   },
   {
    "duration": 8,
    "start_time": "2021-12-12T10:27:22.833Z"
   },
   {
    "duration": 10,
    "start_time": "2021-12-12T10:31:19.107Z"
   },
   {
    "duration": 610,
    "start_time": "2021-12-12T10:31:41.320Z"
   },
   {
    "duration": 10,
    "start_time": "2021-12-12T10:33:01.696Z"
   },
   {
    "duration": 7,
    "start_time": "2021-12-12T10:33:08.219Z"
   },
   {
    "duration": 432,
    "start_time": "2021-12-12T10:34:56.179Z"
   },
   {
    "duration": 14,
    "start_time": "2021-12-12T10:35:17.388Z"
   },
   {
    "duration": 146,
    "start_time": "2021-12-12T10:41:21.555Z"
   },
   {
    "duration": 211,
    "start_time": "2021-12-12T10:41:33.911Z"
   },
   {
    "duration": 61,
    "start_time": "2021-12-12T10:41:40.495Z"
   },
   {
    "duration": 18,
    "start_time": "2021-12-12T10:41:47.919Z"
   },
   {
    "duration": 83,
    "start_time": "2021-12-12T10:44:09.068Z"
   },
   {
    "duration": 181,
    "start_time": "2021-12-12T10:44:46.187Z"
   },
   {
    "duration": 49,
    "start_time": "2021-12-12T10:45:01.283Z"
   },
   {
    "duration": 84,
    "start_time": "2021-12-12T10:46:06.553Z"
   },
   {
    "duration": 480,
    "start_time": "2021-12-12T11:02:24.611Z"
   },
   {
    "duration": 31,
    "start_time": "2021-12-12T11:05:02.547Z"
   },
   {
    "duration": 413,
    "start_time": "2021-12-12T11:05:50.501Z"
   },
   {
    "duration": 56,
    "start_time": "2021-12-12T11:08:45.082Z"
   },
   {
    "duration": 81,
    "start_time": "2021-12-12T11:08:54.938Z"
   },
   {
    "duration": 448,
    "start_time": "2021-12-12T11:12:24.123Z"
   },
   {
    "duration": 23,
    "start_time": "2021-12-12T11:14:08.564Z"
   },
   {
    "duration": 63,
    "start_time": "2021-12-12T11:14:16.044Z"
   },
   {
    "duration": 163,
    "start_time": "2021-12-12T11:17:24.845Z"
   },
   {
    "duration": 150,
    "start_time": "2021-12-12T11:17:54.343Z"
   },
   {
    "duration": 271,
    "start_time": "2021-12-12T11:18:51.834Z"
   },
   {
    "duration": 105,
    "start_time": "2021-12-12T11:19:21.180Z"
   },
   {
    "duration": 12,
    "start_time": "2021-12-12T11:19:26.406Z"
   },
   {
    "duration": 29,
    "start_time": "2021-12-12T11:19:29.716Z"
   },
   {
    "duration": 81,
    "start_time": "2021-12-12T11:19:32.910Z"
   },
   {
    "duration": 52191,
    "start_time": "2021-12-12T11:19:34.861Z"
   },
   {
    "duration": 168,
    "start_time": "2021-12-12T11:21:49.535Z"
   },
   {
    "duration": 505,
    "start_time": "2021-12-12T11:50:47.141Z"
   },
   {
    "duration": 14,
    "start_time": "2021-12-12T11:51:30.499Z"
   },
   {
    "duration": 393,
    "start_time": "2021-12-12T12:00:44.565Z"
   },
   {
    "duration": 413,
    "start_time": "2021-12-12T12:01:06.500Z"
   },
   {
    "duration": 407,
    "start_time": "2021-12-12T12:02:08.350Z"
   },
   {
    "duration": 412,
    "start_time": "2021-12-12T12:03:15.785Z"
   },
   {
    "duration": 12,
    "start_time": "2021-12-12T12:03:31.200Z"
   },
   {
    "duration": 12,
    "start_time": "2021-12-12T12:03:43.348Z"
   },
   {
    "duration": 133,
    "start_time": "2021-12-12T12:05:24.677Z"
   },
   {
    "duration": 417,
    "start_time": "2021-12-12T12:08:20.187Z"
   },
   {
    "duration": 9,
    "start_time": "2021-12-12T12:08:33.818Z"
   },
   {
    "duration": 12,
    "start_time": "2021-12-12T12:11:07.177Z"
   },
   {
    "duration": 12,
    "start_time": "2021-12-12T12:13:24.268Z"
   },
   {
    "duration": 135,
    "start_time": "2021-12-12T12:23:53.532Z"
   },
   {
    "duration": 7,
    "start_time": "2021-12-12T12:24:15.733Z"
   },
   {
    "duration": -877,
    "start_time": "2021-12-12T12:25:25.296Z"
   },
   {
    "duration": 11014,
    "start_time": "2021-12-12T12:25:36.841Z"
   },
   {
    "duration": -879,
    "start_time": "2021-12-12T12:28:13.288Z"
   },
   {
    "duration": -883,
    "start_time": "2021-12-12T12:29:33.091Z"
   },
   {
    "duration": -878,
    "start_time": "2021-12-12T12:29:53.793Z"
   },
   {
    "duration": 12908,
    "start_time": "2021-12-12T12:30:15.042Z"
   },
   {
    "duration": -896,
    "start_time": "2021-12-12T12:32:07.259Z"
   },
   {
    "duration": -922,
    "start_time": "2021-12-12T12:35:42.943Z"
   },
   {
    "duration": 10436,
    "start_time": "2021-12-12T12:36:34.466Z"
   },
   {
    "duration": 12,
    "start_time": "2021-12-12T12:37:44.762Z"
   },
   {
    "duration": 8,
    "start_time": "2021-12-12T12:38:32.299Z"
   },
   {
    "duration": 12,
    "start_time": "2021-12-12T12:38:37.392Z"
   },
   {
    "duration": -940,
    "start_time": "2021-12-12T12:41:16.969Z"
   },
   {
    "duration": 10557,
    "start_time": "2021-12-12T12:48:33.678Z"
   },
   {
    "duration": 14,
    "start_time": "2021-12-12T12:49:20.974Z"
   },
   {
    "duration": 17,
    "start_time": "2021-12-12T12:51:26.993Z"
   },
   {
    "duration": 14,
    "start_time": "2021-12-12T12:52:06.515Z"
   },
   {
    "duration": 15,
    "start_time": "2021-12-12T12:52:30.780Z"
   },
   {
    "duration": 1137,
    "start_time": "2021-12-12T12:52:58.002Z"
   },
   {
    "duration": 987,
    "start_time": "2021-12-12T12:53:56.770Z"
   },
   {
    "duration": 989,
    "start_time": "2021-12-12T12:59:10.815Z"
   },
   {
    "duration": 965,
    "start_time": "2021-12-12T12:59:15.655Z"
   },
   {
    "duration": 148,
    "start_time": "2021-12-12T13:09:36.555Z"
   },
   {
    "duration": 2462,
    "start_time": "2021-12-12T13:10:32.322Z"
   },
   {
    "duration": 1404,
    "start_time": "2021-12-12T13:11:17.992Z"
   },
   {
    "duration": 1223,
    "start_time": "2021-12-12T13:11:30.821Z"
   },
   {
    "duration": 1242,
    "start_time": "2021-12-12T13:12:20.432Z"
   },
   {
    "duration": 1174,
    "start_time": "2021-12-12T13:15:44.727Z"
   },
   {
    "duration": 459,
    "start_time": "2021-12-12T13:32:01.394Z"
   },
   {
    "duration": 9,
    "start_time": "2021-12-12T13:32:13.025Z"
   },
   {
    "duration": 9,
    "start_time": "2021-12-12T13:32:33.124Z"
   },
   {
    "duration": 535,
    "start_time": "2021-12-12T13:35:28.134Z"
   },
   {
    "duration": 12617,
    "start_time": "2021-12-12T13:35:38.105Z"
   },
   {
    "duration": 430,
    "start_time": "2021-12-12T13:36:38.740Z"
   },
   {
    "duration": 1058,
    "start_time": "2021-12-12T13:37:16.882Z"
   },
   {
    "duration": 412,
    "start_time": "2021-12-12T13:50:29.792Z"
   },
   {
    "duration": 394,
    "start_time": "2021-12-12T13:50:44.532Z"
   },
   {
    "duration": 134,
    "start_time": "2021-12-12T13:50:55.490Z"
   },
   {
    "duration": 476,
    "start_time": "2021-12-12T13:51:12.130Z"
   },
   {
    "duration": 14,
    "start_time": "2021-12-12T14:03:46.993Z"
   },
   {
    "duration": 15,
    "start_time": "2021-12-12T14:22:24.323Z"
   },
   {
    "duration": 1235,
    "start_time": "2021-12-12T14:24:39.912Z"
   },
   {
    "duration": 893,
    "start_time": "2021-12-13T11:52:13.622Z"
   },
   {
    "duration": 16,
    "start_time": "2021-12-13T11:52:19.422Z"
   },
   {
    "duration": 28,
    "start_time": "2021-12-13T11:52:26.527Z"
   },
   {
    "duration": 69,
    "start_time": "2021-12-13T11:52:31.661Z"
   },
   {
    "duration": 52709,
    "start_time": "2021-12-13T11:53:12.001Z"
   },
   {
    "duration": 13,
    "start_time": "2021-12-13T11:54:51.000Z"
   },
   {
    "duration": 672,
    "start_time": "2021-12-13T11:56:59.970Z"
   },
   {
    "duration": 1356,
    "start_time": "2021-12-13T12:01:04.885Z"
   },
   {
    "duration": 112,
    "start_time": "2021-12-13T12:01:58.409Z"
   },
   {
    "duration": 299,
    "start_time": "2021-12-13T12:02:10.995Z"
   },
   {
    "duration": 320,
    "start_time": "2021-12-13T12:02:36.324Z"
   },
   {
    "duration": 323,
    "start_time": "2021-12-13T12:02:59.751Z"
   },
   {
    "duration": 66683,
    "start_time": "2021-12-13T12:03:43.978Z"
   },
   {
    "duration": 796,
    "start_time": "2021-12-13T12:05:05.923Z"
   },
   {
    "duration": 8999,
    "start_time": "2021-12-13T12:05:16.762Z"
   },
   {
    "duration": 98,
    "start_time": "2021-12-13T12:06:13.200Z"
   },
   {
    "duration": 13,
    "start_time": "2021-12-13T12:06:17.651Z"
   },
   {
    "duration": 30,
    "start_time": "2021-12-13T12:06:20.604Z"
   },
   {
    "duration": 96,
    "start_time": "2021-12-13T12:06:24.125Z"
   },
   {
    "duration": 51448,
    "start_time": "2021-12-13T12:06:28.613Z"
   },
   {
    "duration": 311,
    "start_time": "2021-12-13T12:07:29.309Z"
   },
   {
    "duration": 6,
    "start_time": "2021-12-13T12:09:16.236Z"
   },
   {
    "duration": 109,
    "start_time": "2021-12-13T12:09:49.357Z"
   },
   {
    "duration": 403,
    "start_time": "2021-12-13T12:10:07.334Z"
   },
   {
    "duration": 295,
    "start_time": "2021-12-13T12:10:39.611Z"
   },
   {
    "duration": 10432,
    "start_time": "2021-12-13T12:14:13.135Z"
   },
   {
    "duration": 116,
    "start_time": "2021-12-13T12:14:50.515Z"
   },
   {
    "duration": 8409,
    "start_time": "2021-12-13T12:15:10.152Z"
   },
   {
    "duration": 462,
    "start_time": "2021-12-13T12:16:02.675Z"
   },
   {
    "duration": 12725,
    "start_time": "2021-12-13T12:17:52.851Z"
   },
   {
    "duration": 67,
    "start_time": "2021-12-13T12:30:27.942Z"
   },
   {
    "duration": 91,
    "start_time": "2021-12-13T12:30:44.438Z"
   },
   {
    "duration": 129,
    "start_time": "2021-12-13T12:33:02.812Z"
   },
   {
    "duration": 117,
    "start_time": "2021-12-13T12:33:36.307Z"
   },
   {
    "duration": 125,
    "start_time": "2021-12-13T12:33:59.389Z"
   },
   {
    "duration": 146,
    "start_time": "2021-12-13T12:34:11.747Z"
   },
   {
    "duration": 15,
    "start_time": "2021-12-13T12:38:19.989Z"
   },
   {
    "duration": 13,
    "start_time": "2021-12-13T12:39:30.012Z"
   },
   {
    "duration": 448,
    "start_time": "2021-12-13T12:42:21.432Z"
   },
   {
    "duration": 449,
    "start_time": "2021-12-13T12:42:45.225Z"
   },
   {
    "duration": 117,
    "start_time": "2021-12-13T12:44:05.920Z"
   },
   {
    "duration": 29,
    "start_time": "2021-12-13T12:45:40.241Z"
   },
   {
    "duration": 11,
    "start_time": "2021-12-13T13:02:36.277Z"
   },
   {
    "duration": 7,
    "start_time": "2021-12-13T13:03:17.620Z"
   },
   {
    "duration": 292,
    "start_time": "2021-12-13T13:09:57.741Z"
   },
   {
    "duration": 9,
    "start_time": "2021-12-13T13:12:47.043Z"
   },
   {
    "duration": 14,
    "start_time": "2021-12-13T13:14:34.664Z"
   },
   {
    "duration": 1069,
    "start_time": "2021-12-13T13:15:20.221Z"
   },
   {
    "duration": 8384,
    "start_time": "2021-12-13T13:16:02.057Z"
   },
   {
    "duration": 1380,
    "start_time": "2021-12-13T13:16:44.689Z"
   },
   {
    "duration": 7,
    "start_time": "2021-12-13T13:16:55.525Z"
   },
   {
    "duration": 1311,
    "start_time": "2021-12-13T13:18:02.221Z"
   },
   {
    "duration": 92,
    "start_time": "2021-12-13T13:20:24.715Z"
   },
   {
    "duration": 319,
    "start_time": "2021-12-13T13:20:58.115Z"
   },
   {
    "duration": 850,
    "start_time": "2021-12-13T13:21:25.587Z"
   },
   {
    "duration": 14,
    "start_time": "2021-12-13T13:21:30.503Z"
   },
   {
    "duration": 32,
    "start_time": "2021-12-13T13:21:33.895Z"
   },
   {
    "duration": 117,
    "start_time": "2021-12-13T13:21:36.808Z"
   },
   {
    "duration": 56005,
    "start_time": "2021-12-13T13:21:40.199Z"
   },
   {
    "duration": 318,
    "start_time": "2021-12-13T13:22:36.216Z"
   },
   {
    "duration": 181,
    "start_time": "2021-12-13T13:23:16.885Z"
   },
   {
    "duration": 105,
    "start_time": "2021-12-13T13:23:33.203Z"
   },
   {
    "duration": 129,
    "start_time": "2021-12-13T13:23:42.616Z"
   },
   {
    "duration": 1017,
    "start_time": "2021-12-13T13:23:55.296Z"
   },
   {
    "duration": 109,
    "start_time": "2021-12-13T13:24:35.338Z"
   },
   {
    "duration": 14,
    "start_time": "2021-12-13T13:24:41.360Z"
   },
   {
    "duration": 26,
    "start_time": "2021-12-13T13:24:44.853Z"
   },
   {
    "duration": 84,
    "start_time": "2021-12-13T13:24:48.009Z"
   },
   {
    "duration": 1157,
    "start_time": "2021-12-13T13:25:24.521Z"
   },
   {
    "duration": 25,
    "start_time": "2021-12-13T13:26:27.421Z"
   },
   {
    "duration": 549,
    "start_time": "2021-12-13T13:26:55.385Z"
   },
   {
    "duration": 119,
    "start_time": "2021-12-13T13:27:14.913Z"
   },
   {
    "duration": 14,
    "start_time": "2021-12-13T13:27:21.357Z"
   },
   {
    "duration": 33,
    "start_time": "2021-12-13T13:27:55.746Z"
   },
   {
    "duration": 117,
    "start_time": "2021-12-13T13:28:34.153Z"
   },
   {
    "duration": 13,
    "start_time": "2021-12-13T13:28:41.230Z"
   },
   {
    "duration": 31,
    "start_time": "2021-12-13T13:28:45.150Z"
   },
   {
    "duration": 1095,
    "start_time": "2021-12-13T13:29:09.059Z"
   },
   {
    "duration": 110,
    "start_time": "2021-12-13T13:31:09.779Z"
   },
   {
    "duration": 39,
    "start_time": "2021-12-13T13:31:23.911Z"
   },
   {
    "duration": 129,
    "start_time": "2021-12-13T13:35:00.108Z"
   },
   {
    "duration": 95,
    "start_time": "2021-12-13T13:35:07.829Z"
   },
   {
    "duration": 100,
    "start_time": "2021-12-13T13:35:23.645Z"
   },
   {
    "duration": 88,
    "start_time": "2021-12-13T13:35:34.103Z"
   },
   {
    "duration": 7,
    "start_time": "2021-12-13T13:36:20.609Z"
   },
   {
    "duration": 6,
    "start_time": "2021-12-13T13:36:30.713Z"
   },
   {
    "duration": 7,
    "start_time": "2021-12-13T13:38:42.262Z"
   },
   {
    "duration": 7,
    "start_time": "2021-12-13T13:40:24.242Z"
   },
   {
    "duration": 8,
    "start_time": "2021-12-13T13:40:59.486Z"
   },
   {
    "duration": 14,
    "start_time": "2021-12-13T13:43:33.616Z"
   },
   {
    "duration": 8427,
    "start_time": "2021-12-13T13:43:55.444Z"
   },
   {
    "duration": 11,
    "start_time": "2021-12-13T13:46:11.976Z"
   },
   {
    "duration": 16,
    "start_time": "2021-12-13T13:46:50.436Z"
   },
   {
    "duration": 19,
    "start_time": "2021-12-13T13:47:40.465Z"
   },
   {
    "duration": 6778,
    "start_time": "2021-12-13T13:48:22.410Z"
   },
   {
    "duration": 15,
    "start_time": "2021-12-13T13:49:16.478Z"
   },
   {
    "duration": 15,
    "start_time": "2021-12-13T13:50:44.767Z"
   },
   {
    "duration": 28,
    "start_time": "2021-12-13T13:52:37.602Z"
   },
   {
    "duration": 33,
    "start_time": "2021-12-13T13:53:01.248Z"
   },
   {
    "duration": 30,
    "start_time": "2021-12-13T13:55:12.276Z"
   },
   {
    "duration": 30,
    "start_time": "2021-12-13T13:55:33.827Z"
   },
   {
    "duration": 41,
    "start_time": "2021-12-13T13:56:10.329Z"
   },
   {
    "duration": 23,
    "start_time": "2021-12-13T13:56:21.077Z"
   },
   {
    "duration": 33,
    "start_time": "2021-12-13T13:56:26.613Z"
   },
   {
    "duration": 26,
    "start_time": "2021-12-13T13:56:53.353Z"
   },
   {
    "duration": 31,
    "start_time": "2021-12-13T13:57:12.199Z"
   },
   {
    "duration": 35,
    "start_time": "2021-12-13T13:57:33.125Z"
   },
   {
    "duration": 29,
    "start_time": "2021-12-13T13:58:50.014Z"
   },
   {
    "duration": 19,
    "start_time": "2021-12-13T13:59:05.277Z"
   },
   {
    "duration": 21,
    "start_time": "2021-12-13T14:00:14.710Z"
   },
   {
    "duration": 90,
    "start_time": "2021-12-13T14:01:20.400Z"
   },
   {
    "duration": 273,
    "start_time": "2021-12-13T14:01:40.958Z"
   },
   {
    "duration": 44,
    "start_time": "2021-12-13T14:02:21.083Z"
   },
   {
    "duration": 11047,
    "start_time": "2021-12-13T14:02:52.252Z"
   },
   {
    "duration": 49,
    "start_time": "2021-12-13T14:04:08.092Z"
   },
   {
    "duration": 99,
    "start_time": "2021-12-13T14:05:33.928Z"
   },
   {
    "duration": 111,
    "start_time": "2021-12-13T14:05:42.912Z"
   },
   {
    "duration": 107,
    "start_time": "2021-12-13T14:06:06.962Z"
   },
   {
    "duration": 46,
    "start_time": "2021-12-13T14:06:47.629Z"
   },
   {
    "duration": 47,
    "start_time": "2021-12-13T14:07:54.343Z"
   },
   {
    "duration": 56,
    "start_time": "2021-12-13T14:08:34.489Z"
   },
   {
    "duration": 58,
    "start_time": "2021-12-13T14:09:36.114Z"
   },
   {
    "duration": 51,
    "start_time": "2021-12-13T14:10:08.438Z"
   },
   {
    "duration": 51,
    "start_time": "2021-12-13T14:10:29.078Z"
   },
   {
    "duration": 9566,
    "start_time": "2021-12-13T14:17:12.365Z"
   },
   {
    "duration": 6094,
    "start_time": "2021-12-13T14:17:28.511Z"
   },
   {
    "duration": 2107,
    "start_time": "2021-12-13T14:21:41.779Z"
   },
   {
    "duration": 120,
    "start_time": "2021-12-13T14:24:40.000Z"
   },
   {
    "duration": 34,
    "start_time": "2021-12-13T14:25:09.072Z"
   },
   {
    "duration": 1300,
    "start_time": "2021-12-13T14:25:18.066Z"
   },
   {
    "duration": 1009,
    "start_time": "2021-12-13T14:26:47.253Z"
   },
   {
    "duration": 1078,
    "start_time": "2021-12-13T14:26:52.073Z"
   },
   {
    "duration": 2409,
    "start_time": "2021-12-14T11:39:32.395Z"
   },
   {
    "duration": 2496,
    "start_time": "2021-12-14T11:39:39.832Z"
   },
   {
    "duration": 10,
    "start_time": "2021-12-14T11:39:47.741Z"
   },
   {
    "duration": 29,
    "start_time": "2021-12-14T11:39:52.498Z"
   },
   {
    "duration": 49,
    "start_time": "2021-12-14T11:40:01.945Z"
   },
   {
    "duration": -933,
    "start_time": "2021-12-14T12:41:57.465Z"
   },
   {
    "duration": -945,
    "start_time": "2021-12-14T12:41:57.478Z"
   },
   {
    "duration": 582,
    "start_time": "2021-12-14T16:29:27.751Z"
   },
   {
    "duration": 11,
    "start_time": "2021-12-14T16:29:34.348Z"
   },
   {
    "duration": 28,
    "start_time": "2021-12-14T16:29:38.458Z"
   },
   {
    "duration": 46,
    "start_time": "2021-12-14T16:29:43.039Z"
   },
   {
    "duration": 158,
    "start_time": "2021-12-14T16:29:51.594Z"
   },
   {
    "duration": 731,
    "start_time": "2021-12-14T16:30:04.565Z"
   },
   {
    "duration": 696,
    "start_time": "2021-12-14T16:30:19.939Z"
   },
   {
    "duration": 79,
    "start_time": "2021-12-14T16:30:35.559Z"
   },
   {
    "duration": 28,
    "start_time": "2021-12-14T16:30:42.465Z"
   },
   {
    "duration": 48,
    "start_time": "2021-12-14T16:30:45.874Z"
   },
   {
    "duration": 5039,
    "start_time": "2021-12-14T16:30:54.762Z"
   },
   {
    "duration": 731,
    "start_time": "2021-12-14T16:31:24.301Z"
   },
   {
    "duration": 39622,
    "start_time": "2021-12-14T16:31:34.076Z"
   },
   {
    "duration": 602,
    "start_time": "2021-12-15T03:43:29.436Z"
   },
   {
    "duration": 857,
    "start_time": "2021-12-15T12:01:29.271Z"
   },
   {
    "duration": 14,
    "start_time": "2021-12-15T12:01:34.764Z"
   },
   {
    "duration": 42,
    "start_time": "2021-12-15T12:01:38.232Z"
   },
   {
    "duration": 72,
    "start_time": "2021-12-15T12:01:42.732Z"
   },
   {
    "duration": 959,
    "start_time": "2021-12-15T12:01:47.708Z"
   },
   {
    "duration": 1252,
    "start_time": "2021-12-15T12:01:59.580Z"
   },
   {
    "duration": -641,
    "start_time": "2021-12-15T13:27:56.876Z"
   },
   {
    "duration": 1357,
    "start_time": "2021-12-15T13:46:03.835Z"
   },
   {
    "duration": 16,
    "start_time": "2021-12-15T13:46:10.062Z"
   },
   {
    "duration": 43,
    "start_time": "2021-12-15T13:46:13.990Z"
   },
   {
    "duration": 72,
    "start_time": "2021-12-15T13:46:17.906Z"
   },
   {
    "duration": 2584,
    "start_time": "2021-12-15T13:50:12.565Z"
   },
   {
    "duration": 180,
    "start_time": "2021-12-15T13:51:01.051Z"
   },
   {
    "duration": 121,
    "start_time": "2021-12-15T13:51:13.866Z"
   },
   {
    "duration": 86,
    "start_time": "2021-12-15T14:05:45.230Z"
   },
   {
    "duration": 1419,
    "start_time": "2021-12-15T17:24:45.221Z"
   },
   {
    "duration": 982,
    "start_time": "2021-12-15T17:24:58.637Z"
   },
   {
    "duration": 797,
    "start_time": "2021-12-15T17:27:05.705Z"
   },
   {
    "duration": 812,
    "start_time": "2021-12-15T17:27:14.713Z"
   },
   {
    "duration": 790,
    "start_time": "2021-12-15T17:51:28.379Z"
   },
   {
    "duration": 814,
    "start_time": "2021-12-16T03:15:18.752Z"
   },
   {
    "duration": 13,
    "start_time": "2021-12-16T03:15:26.686Z"
   },
   {
    "duration": 43,
    "start_time": "2021-12-16T03:15:31.431Z"
   },
   {
    "duration": 69,
    "start_time": "2021-12-16T03:15:38.663Z"
   },
   {
    "duration": 11,
    "start_time": "2021-12-16T03:23:01.817Z"
   },
   {
    "duration": 1440,
    "start_time": "2021-12-16T03:26:53.727Z"
   },
   {
    "duration": 1549,
    "start_time": "2021-12-16T03:28:30.228Z"
   },
   {
    "duration": 5538,
    "start_time": "2021-12-16T03:32:10.754Z"
   },
   {
    "duration": 26995,
    "start_time": "2021-12-16T03:32:48.234Z"
   },
   {
    "duration": 27006,
    "start_time": "2021-12-16T03:35:31.400Z"
   },
   {
    "duration": 26927,
    "start_time": "2021-12-16T03:36:18.232Z"
   },
   {
    "duration": 105,
    "start_time": "2021-12-16T03:37:27.547Z"
   },
   {
    "duration": 13,
    "start_time": "2021-12-16T03:37:34.707Z"
   },
   {
    "duration": 41,
    "start_time": "2021-12-16T03:37:38.760Z"
   },
   {
    "duration": 72,
    "start_time": "2021-12-16T03:37:43.975Z"
   },
   {
    "duration": 5625,
    "start_time": "2021-12-16T03:38:09.176Z"
   },
   {
    "duration": 26913,
    "start_time": "2021-12-16T03:38:34.663Z"
   },
   {
    "duration": 305,
    "start_time": "2021-12-16T03:43:26.525Z"
   },
   {
    "duration": 2241,
    "start_time": "2021-12-16T03:43:42.773Z"
   },
   {
    "duration": 1252,
    "start_time": "2021-12-16T03:47:12.646Z"
   },
   {
    "duration": 2652,
    "start_time": "2021-12-16T03:47:47.043Z"
   },
   {
    "duration": 115,
    "start_time": "2021-12-16T03:48:01.603Z"
   },
   {
    "duration": 14,
    "start_time": "2021-12-16T03:48:07.486Z"
   },
   {
    "duration": 40,
    "start_time": "2021-12-16T03:48:11.923Z"
   },
   {
    "duration": 67,
    "start_time": "2021-12-16T03:48:16.267Z"
   },
   {
    "duration": 6765,
    "start_time": "2021-12-16T03:48:22.542Z"
   },
   {
    "duration": 1021,
    "start_time": "2021-12-16T03:53:07.345Z"
   },
   {
    "duration": 60,
    "start_time": "2021-12-16T03:55:22.688Z"
   },
   {
    "duration": 15579,
    "start_time": "2021-12-16T03:56:56.862Z"
   },
   {
    "duration": 105,
    "start_time": "2021-12-16T03:58:03.398Z"
   },
   {
    "duration": 13,
    "start_time": "2021-12-16T03:58:08.857Z"
   },
   {
    "duration": 39,
    "start_time": "2021-12-16T03:58:12.442Z"
   },
   {
    "duration": 66,
    "start_time": "2021-12-16T03:58:17.986Z"
   },
   {
    "duration": 5533,
    "start_time": "2021-12-16T03:58:27.267Z"
   },
   {
    "duration": 5560,
    "start_time": "2021-12-16T04:11:57.804Z"
   },
   {
    "duration": 148,
    "start_time": "2021-12-16T04:12:36.155Z"
   },
   {
    "duration": 355,
    "start_time": "2021-12-16T04:19:31.636Z"
   },
   {
    "duration": 117,
    "start_time": "2021-12-16T04:21:32.559Z"
   },
   {
    "duration": 105,
    "start_time": "2021-12-16T04:21:46.560Z"
   },
   {
    "duration": 353,
    "start_time": "2021-12-16T04:26:33.029Z"
   },
   {
    "duration": 109,
    "start_time": "2021-12-16T04:27:10.229Z"
   },
   {
    "duration": 12,
    "start_time": "2021-12-16T04:28:26.359Z"
   },
   {
    "duration": 240,
    "start_time": "2021-12-16T04:45:27.562Z"
   },
   {
    "duration": 272,
    "start_time": "2021-12-16T04:45:51.480Z"
   },
   {
    "duration": 238,
    "start_time": "2021-12-16T04:46:07.445Z"
   },
   {
    "duration": 260,
    "start_time": "2021-12-16T04:47:22.769Z"
   },
   {
    "duration": 20,
    "start_time": "2021-12-16T04:48:57.745Z"
   },
   {
    "duration": 86,
    "start_time": "2021-12-16T04:49:36.409Z"
   },
   {
    "duration": 19,
    "start_time": "2021-12-16T04:49:48.758Z"
   },
   {
    "duration": 20,
    "start_time": "2021-12-16T04:50:45.422Z"
   },
   {
    "duration": 225,
    "start_time": "2021-12-16T05:10:18.247Z"
   },
   {
    "duration": 4,
    "start_time": "2021-12-16T05:14:07.670Z"
   },
   {
    "duration": 4,
    "start_time": "2021-12-16T05:14:16.360Z"
   },
   {
    "duration": 4,
    "start_time": "2021-12-16T05:15:09.686Z"
   },
   {
    "duration": 345,
    "start_time": "2021-12-16T05:15:38.799Z"
   },
   {
    "duration": 241,
    "start_time": "2021-12-16T05:16:31.947Z"
   },
   {
    "duration": 255,
    "start_time": "2021-12-16T05:16:53.476Z"
   },
   {
    "duration": 6332,
    "start_time": "2021-12-16T05:17:04.244Z"
   },
   {
    "duration": 6017,
    "start_time": "2021-12-16T05:17:19.504Z"
   },
   {
    "duration": 5,
    "start_time": "2021-12-16T05:23:20.356Z"
   },
   {
    "duration": 235,
    "start_time": "2021-12-16T05:25:41.313Z"
   },
   {
    "duration": 5,
    "start_time": "2021-12-16T05:25:59.994Z"
   },
   {
    "duration": 6,
    "start_time": "2021-12-16T05:26:23.907Z"
   },
   {
    "duration": 5,
    "start_time": "2021-12-16T05:26:55.827Z"
   },
   {
    "duration": 5,
    "start_time": "2021-12-16T05:27:12.607Z"
   },
   {
    "duration": 5,
    "start_time": "2021-12-16T05:32:20.346Z"
   },
   {
    "duration": 8,
    "start_time": "2021-12-16T05:35:18.791Z"
   },
   {
    "duration": 14,
    "start_time": "2021-12-16T05:36:13.731Z"
   },
   {
    "duration": 12,
    "start_time": "2021-12-16T05:44:12.242Z"
   },
   {
    "duration": 13,
    "start_time": "2021-12-16T05:46:23.382Z"
   },
   {
    "duration": 978,
    "start_time": "2021-12-16T05:46:37.645Z"
   },
   {
    "duration": 991,
    "start_time": "2021-12-16T05:47:14.592Z"
   },
   {
    "duration": 108,
    "start_time": "2021-12-16T05:47:43.980Z"
   },
   {
    "duration": 15,
    "start_time": "2021-12-16T05:47:49.939Z"
   },
   {
    "duration": 40,
    "start_time": "2021-12-16T05:47:54.144Z"
   },
   {
    "duration": 76,
    "start_time": "2021-12-16T05:48:00.312Z"
   },
   {
    "duration": 5552,
    "start_time": "2021-12-16T05:48:03.548Z"
   },
   {
    "duration": 125,
    "start_time": "2021-12-16T05:48:20.240Z"
   },
   {
    "duration": 955,
    "start_time": "2021-12-16T05:48:35.183Z"
   },
   {
    "duration": 20,
    "start_time": "2021-12-16T05:49:30.389Z"
   },
   {
    "duration": 965,
    "start_time": "2021-12-16T05:50:51.462Z"
   },
   {
    "duration": 811,
    "start_time": "2021-12-16T07:21:36.166Z"
   },
   {
    "duration": 12,
    "start_time": "2021-12-16T07:21:42.662Z"
   },
   {
    "duration": 44,
    "start_time": "2021-12-16T07:21:46.638Z"
   },
   {
    "duration": 70,
    "start_time": "2021-12-16T07:21:51.610Z"
   },
   {
    "duration": 5709,
    "start_time": "2021-12-16T07:21:57.994Z"
   },
   {
    "duration": 128,
    "start_time": "2021-12-16T07:22:12.535Z"
   },
   {
    "duration": 1369,
    "start_time": "2021-12-16T07:22:23.726Z"
   },
   {
    "duration": 1191,
    "start_time": "2021-12-16T07:23:42.492Z"
   },
   {
    "duration": 275,
    "start_time": "2021-12-16T07:24:47.128Z"
   },
   {
    "duration": 266,
    "start_time": "2021-12-16T07:25:39.563Z"
   },
   {
    "duration": 14,
    "start_time": "2021-12-16T07:26:04.596Z"
   },
   {
    "duration": 945,
    "start_time": "2021-12-16T07:26:49.739Z"
   },
   {
    "duration": 11,
    "start_time": "2021-12-16T07:27:24.656Z"
   },
   {
    "duration": 1194,
    "start_time": "2021-12-16T07:30:57.253Z"
   },
   {
    "duration": 1241,
    "start_time": "2021-12-16T07:31:15.340Z"
   },
   {
    "duration": 967,
    "start_time": "2021-12-16T07:31:50.960Z"
   },
   {
    "duration": 935,
    "start_time": "2021-12-16T07:32:01.247Z"
   },
   {
    "duration": 1221,
    "start_time": "2021-12-16T11:31:51.904Z"
   },
   {
    "duration": 963,
    "start_time": "2021-12-16T11:33:27.778Z"
   },
   {
    "duration": 980,
    "start_time": "2021-12-16T11:35:02.710Z"
   },
   {
    "duration": 93,
    "start_time": "2021-12-16T11:35:53.729Z"
   },
   {
    "duration": 1266,
    "start_time": "2021-12-16T11:36:04.303Z"
   },
   {
    "duration": 1342,
    "start_time": "2021-12-16T11:36:28.277Z"
   },
   {
    "duration": 1199,
    "start_time": "2021-12-16T11:36:42.891Z"
   },
   {
    "duration": 1195,
    "start_time": "2021-12-16T11:36:55.836Z"
   },
   {
    "duration": 1199,
    "start_time": "2021-12-16T11:37:26.347Z"
   },
   {
    "duration": 1309,
    "start_time": "2021-12-16T11:38:11.875Z"
   },
   {
    "duration": 1187,
    "start_time": "2021-12-16T11:39:15.917Z"
   },
   {
    "duration": 961,
    "start_time": "2021-12-16T11:39:58.386Z"
   },
   {
    "duration": 944,
    "start_time": "2021-12-16T11:40:56.059Z"
   },
   {
    "duration": 2133,
    "start_time": "2021-12-16T11:45:39.302Z"
   },
   {
    "duration": 1215,
    "start_time": "2021-12-16T11:45:59.918Z"
   },
   {
    "duration": 2121,
    "start_time": "2021-12-16T11:48:15.676Z"
   },
   {
    "duration": 942,
    "start_time": "2021-12-16T11:48:30.416Z"
   },
   {
    "duration": 1178,
    "start_time": "2021-12-16T11:50:35.145Z"
   },
   {
    "duration": 1205,
    "start_time": "2021-12-16T11:51:03.009Z"
   },
   {
    "duration": 966,
    "start_time": "2021-12-16T11:51:32.581Z"
   },
   {
    "duration": 985,
    "start_time": "2021-12-16T11:52:14.293Z"
   },
   {
    "duration": 1036,
    "start_time": "2021-12-16T11:52:44.154Z"
   },
   {
    "duration": 982,
    "start_time": "2021-12-16T11:52:57.750Z"
   },
   {
    "duration": 943,
    "start_time": "2021-12-16T11:56:19.667Z"
   },
   {
    "duration": 12,
    "start_time": "2021-12-16T11:57:49.437Z"
   },
   {
    "duration": 18,
    "start_time": "2021-12-16T11:59:22.976Z"
   },
   {
    "duration": 12,
    "start_time": "2021-12-16T11:59:29.976Z"
   },
   {
    "duration": 83,
    "start_time": "2021-12-16T12:22:14.376Z"
   },
   {
    "duration": 7,
    "start_time": "2021-12-16T12:22:24.593Z"
   },
   {
    "duration": 77,
    "start_time": "2021-12-16T12:22:50.667Z"
   },
   {
    "duration": 85,
    "start_time": "2021-12-16T12:23:06.281Z"
   },
   {
    "duration": 84,
    "start_time": "2021-12-16T12:23:41.587Z"
   },
   {
    "duration": 936,
    "start_time": "2021-12-16T12:24:38.979Z"
   },
   {
    "duration": 1014,
    "start_time": "2021-12-16T12:25:18.448Z"
   },
   {
    "duration": 19,
    "start_time": "2021-12-16T12:25:38.216Z"
   },
   {
    "duration": 101,
    "start_time": "2021-12-16T12:26:31.729Z"
   },
   {
    "duration": 13,
    "start_time": "2021-12-16T12:26:39.912Z"
   },
   {
    "duration": 55,
    "start_time": "2021-12-16T12:26:58.927Z"
   },
   {
    "duration": 101,
    "start_time": "2021-12-16T12:27:52.877Z"
   },
   {
    "duration": 53,
    "start_time": "2021-12-16T12:28:02.193Z"
   },
   {
    "duration": 5761,
    "start_time": "2021-12-16T12:28:22.626Z"
   },
   {
    "duration": 131,
    "start_time": "2021-12-16T12:28:35.398Z"
   },
   {
    "duration": 955,
    "start_time": "2021-12-16T12:28:48.942Z"
   },
   {
    "duration": 275,
    "start_time": "2021-12-16T12:31:57.371Z"
   },
   {
    "duration": 27,
    "start_time": "2021-12-16T12:33:09.667Z"
   },
   {
    "duration": 19,
    "start_time": "2021-12-16T12:33:39.235Z"
   },
   {
    "duration": 25,
    "start_time": "2021-12-16T12:33:57.815Z"
   },
   {
    "duration": 90,
    "start_time": "2021-12-16T12:38:44.243Z"
   },
   {
    "duration": 82,
    "start_time": "2021-12-16T12:39:54.225Z"
   },
   {
    "duration": 981,
    "start_time": "2021-12-16T12:40:24.266Z"
   },
   {
    "duration": 331,
    "start_time": "2021-12-16T12:41:05.315Z"
   },
   {
    "duration": 294,
    "start_time": "2021-12-16T12:43:50.747Z"
   },
   {
    "duration": 271,
    "start_time": "2021-12-16T12:46:38.326Z"
   },
   {
    "duration": 41,
    "start_time": "2021-12-16T12:46:50.014Z"
   },
   {
    "duration": 257,
    "start_time": "2021-12-16T12:47:14.885Z"
   },
   {
    "duration": 968,
    "start_time": "2021-12-16T12:47:22.482Z"
   },
   {
    "duration": 263,
    "start_time": "2021-12-16T12:48:28.165Z"
   },
   {
    "duration": 40,
    "start_time": "2021-12-16T12:48:39.088Z"
   },
   {
    "duration": 21,
    "start_time": "2021-12-16T12:54:56.119Z"
   },
   {
    "duration": 452,
    "start_time": "2021-12-16T12:55:56.095Z"
   },
   {
    "duration": 31,
    "start_time": "2021-12-16T12:57:48.900Z"
   },
   {
    "duration": 38,
    "start_time": "2021-12-16T12:57:58.044Z"
   },
   {
    "duration": 487,
    "start_time": "2021-12-16T12:58:29.740Z"
   },
   {
    "duration": 3796,
    "start_time": "2021-12-16T13:00:01.765Z"
   },
   {
    "duration": 483,
    "start_time": "2021-12-16T13:01:58.333Z"
   },
   {
    "duration": 117,
    "start_time": "2021-12-16T13:02:15.143Z"
   },
   {
    "duration": 12,
    "start_time": "2021-12-16T13:02:19.566Z"
   },
   {
    "duration": 52,
    "start_time": "2021-12-16T13:02:22.534Z"
   },
   {
    "duration": 68,
    "start_time": "2021-12-16T13:02:28.019Z"
   },
   {
    "duration": 5754,
    "start_time": "2021-12-16T13:02:31.446Z"
   },
   {
    "duration": 136,
    "start_time": "2021-12-16T13:03:12.601Z"
   },
   {
    "duration": 985,
    "start_time": "2021-12-16T13:03:30.109Z"
   },
   {
    "duration": 312,
    "start_time": "2021-12-16T13:09:37.757Z"
   },
   {
    "duration": 434,
    "start_time": "2021-12-16T13:11:32.906Z"
   },
   {
    "duration": 102,
    "start_time": "2021-12-16T13:13:30.850Z"
   },
   {
    "duration": 94,
    "start_time": "2021-12-16T13:14:28.451Z"
   },
   {
    "duration": 559,
    "start_time": "2021-12-16T13:15:03.831Z"
   },
   {
    "duration": 471,
    "start_time": "2021-12-16T13:15:20.963Z"
   },
   {
    "duration": 411,
    "start_time": "2021-12-16T13:16:24.942Z"
   },
   {
    "duration": 505,
    "start_time": "2021-12-16T13:18:51.124Z"
   },
   {
    "duration": 9,
    "start_time": "2021-12-16T13:20:00.152Z"
   },
   {
    "duration": 465,
    "start_time": "2021-12-16T13:21:38.668Z"
   },
   {
    "duration": 27,
    "start_time": "2021-12-16T13:22:21.076Z"
   },
   {
    "duration": 432,
    "start_time": "2021-12-16T13:24:24.522Z"
   },
   {
    "duration": 473,
    "start_time": "2021-12-16T13:32:50.969Z"
   },
   {
    "duration": 453,
    "start_time": "2021-12-16T13:33:29.826Z"
   },
   {
    "duration": 524,
    "start_time": "2021-12-16T13:34:31.275Z"
   },
   {
    "duration": 458,
    "start_time": "2021-12-16T13:34:35.269Z"
   },
   {
    "duration": 1124,
    "start_time": "2021-12-16T13:41:49.484Z"
   },
   {
    "duration": 44,
    "start_time": "2021-12-16T13:42:41.757Z"
   },
   {
    "duration": 43,
    "start_time": "2021-12-16T13:45:13.269Z"
   },
   {
    "duration": 57,
    "start_time": "2021-12-16T13:46:21.881Z"
   },
   {
    "duration": 39,
    "start_time": "2021-12-16T13:47:02.911Z"
   },
   {
    "duration": 37,
    "start_time": "2021-12-16T13:47:32.490Z"
   },
   {
    "duration": 38,
    "start_time": "2021-12-16T13:47:45.471Z"
   },
   {
    "duration": 38,
    "start_time": "2021-12-16T13:48:04.807Z"
   },
   {
    "duration": 47,
    "start_time": "2021-12-16T13:49:33.336Z"
   },
   {
    "duration": 355,
    "start_time": "2021-12-16T13:50:02.659Z"
   },
   {
    "duration": 44,
    "start_time": "2021-12-16T13:50:22.443Z"
   },
   {
    "duration": 106,
    "start_time": "2021-12-16T13:55:43.092Z"
   },
   {
    "duration": 14,
    "start_time": "2021-12-16T13:57:34.390Z"
   },
   {
    "duration": 70,
    "start_time": "2021-12-16T13:58:26.367Z"
   },
   {
    "duration": 77,
    "start_time": "2021-12-16T13:59:54.375Z"
   },
   {
    "duration": 88,
    "start_time": "2021-12-16T14:01:51.055Z"
   },
   {
    "duration": 77,
    "start_time": "2021-12-16T14:02:03.892Z"
   },
   {
    "duration": 76,
    "start_time": "2021-12-16T14:02:26.611Z"
   },
   {
    "duration": 79,
    "start_time": "2021-12-16T14:03:19.352Z"
   },
   {
    "duration": 60,
    "start_time": "2021-12-16T14:04:45.779Z"
   },
   {
    "duration": 6251,
    "start_time": "2021-12-16T14:04:54.915Z"
   },
   {
    "duration": 118,
    "start_time": "2021-12-16T14:05:59.673Z"
   },
   {
    "duration": 102,
    "start_time": "2021-12-16T14:06:30.168Z"
   },
   {
    "duration": 119,
    "start_time": "2021-12-16T14:09:15.094Z"
   },
   {
    "duration": 1155,
    "start_time": "2021-12-16T14:09:28.381Z"
   },
   {
    "duration": 10,
    "start_time": "2021-12-16T14:09:34.885Z"
   },
   {
    "duration": 11,
    "start_time": "2021-12-16T14:09:57.501Z"
   },
   {
    "duration": 47,
    "start_time": "2021-12-16T14:10:26.230Z"
   },
   {
    "duration": 44,
    "start_time": "2021-12-16T14:10:47.898Z"
   },
   {
    "duration": 46,
    "start_time": "2021-12-16T14:11:32.566Z"
   },
   {
    "duration": 12,
    "start_time": "2021-12-16T14:11:42.962Z"
   },
   {
    "duration": 956,
    "start_time": "2021-12-17T14:31:18.593Z"
   },
   {
    "duration": 12,
    "start_time": "2021-12-17T14:31:19.552Z"
   },
   {
    "duration": 122,
    "start_time": "2021-12-17T14:31:19.567Z"
   },
   {
    "duration": 84,
    "start_time": "2021-12-17T14:31:19.693Z"
   },
   {
    "duration": 7145,
    "start_time": "2021-12-17T14:31:19.780Z"
   },
   {
    "duration": 153,
    "start_time": "2021-12-17T14:31:26.928Z"
   },
   {
    "duration": 1023,
    "start_time": "2021-12-17T14:31:27.084Z"
   },
   {
    "duration": 17,
    "start_time": "2021-12-17T14:31:28.109Z"
   },
   {
    "duration": 29,
    "start_time": "2021-12-17T14:31:28.131Z"
   },
   {
    "duration": 96,
    "start_time": "2021-12-17T14:31:28.164Z"
   },
   {
    "duration": 12,
    "start_time": "2021-12-17T14:31:28.263Z"
   },
   {
    "duration": 125,
    "start_time": "2021-12-17T14:36:43.481Z"
   },
   {
    "duration": 936,
    "start_time": "2021-12-17T14:36:53.809Z"
   },
   {
    "duration": 901,
    "start_time": "2021-12-17T14:41:12.559Z"
   },
   {
    "duration": 12,
    "start_time": "2021-12-17T14:41:13.463Z"
   },
   {
    "duration": 111,
    "start_time": "2021-12-17T14:41:13.478Z"
   },
   {
    "duration": 81,
    "start_time": "2021-12-17T14:41:13.591Z"
   },
   {
    "duration": 6096,
    "start_time": "2021-12-17T14:41:13.674Z"
   },
   {
    "duration": 148,
    "start_time": "2021-12-17T14:41:19.772Z"
   },
   {
    "duration": 20,
    "start_time": "2021-12-17T14:41:19.922Z"
   },
   {
    "duration": 1032,
    "start_time": "2021-12-17T14:41:19.946Z"
   },
   {
    "duration": 14,
    "start_time": "2021-12-17T14:41:20.981Z"
   },
   {
    "duration": 37,
    "start_time": "2021-12-17T14:41:20.997Z"
   },
   {
    "duration": 54,
    "start_time": "2021-12-17T14:41:21.036Z"
   },
   {
    "duration": 39,
    "start_time": "2021-12-17T14:41:21.093Z"
   },
   {
    "duration": 1093,
    "start_time": "2021-12-17T14:42:39.750Z"
   },
   {
    "duration": 11,
    "start_time": "2021-12-17T14:42:40.846Z"
   },
   {
    "duration": 115,
    "start_time": "2021-12-17T14:42:40.861Z"
   },
   {
    "duration": 49,
    "start_time": "2021-12-17T14:42:40.978Z"
   },
   {
    "duration": 56,
    "start_time": "2021-12-17T14:42:41.030Z"
   },
   {
    "duration": 6754,
    "start_time": "2021-12-17T14:42:41.088Z"
   },
   {
    "duration": 152,
    "start_time": "2021-12-17T14:42:47.846Z"
   },
   {
    "duration": 25,
    "start_time": "2021-12-17T14:42:48.001Z"
   },
   {
    "duration": 1047,
    "start_time": "2021-12-17T14:42:48.030Z"
   },
   {
    "duration": 12,
    "start_time": "2021-12-17T14:42:49.079Z"
   },
   {
    "duration": 29,
    "start_time": "2021-12-17T14:42:49.093Z"
   },
   {
    "duration": 57,
    "start_time": "2021-12-17T14:42:49.125Z"
   },
   {
    "duration": 38,
    "start_time": "2021-12-17T14:42:49.184Z"
   },
   {
    "duration": 327,
    "start_time": "2021-12-18T04:49:54.831Z"
   },
   {
    "duration": 833,
    "start_time": "2021-12-18T04:50:03.835Z"
   },
   {
    "duration": 46,
    "start_time": "2021-12-18T04:50:08.728Z"
   },
   {
    "duration": 92,
    "start_time": "2021-12-18T04:54:05.621Z"
   },
   {
    "duration": 16,
    "start_time": "2021-12-18T04:54:19.290Z"
   },
   {
    "duration": 7,
    "start_time": "2021-12-18T04:58:24.007Z"
   },
   {
    "duration": 9,
    "start_time": "2021-12-18T04:59:27.803Z"
   },
   {
    "duration": -1179,
    "start_time": "2021-12-18T05:05:09.564Z"
   },
   {
    "duration": 4972,
    "start_time": "2021-12-18T05:05:20.637Z"
   },
   {
    "duration": 25,
    "start_time": "2021-12-18T05:06:07.883Z"
   },
   {
    "duration": 3,
    "start_time": "2021-12-18T05:06:36.431Z"
   },
   {
    "duration": 20,
    "start_time": "2021-12-18T05:06:54.508Z"
   },
   {
    "duration": 317,
    "start_time": "2021-12-18T05:10:23.084Z"
   },
   {
    "duration": 280,
    "start_time": "2021-12-18T05:10:25.423Z"
   },
   {
    "duration": 1959,
    "start_time": "2021-12-18T05:10:47.624Z"
   },
   {
    "duration": 23,
    "start_time": "2021-12-18T05:11:22.198Z"
   },
   {
    "duration": 9673,
    "start_time": "2021-12-18T05:13:29.608Z"
   },
   {
    "duration": -1213,
    "start_time": "2021-12-18T05:13:50.800Z"
   },
   {
    "duration": 48,
    "start_time": "2021-12-18T05:14:05.484Z"
   },
   {
    "duration": 5971,
    "start_time": "2021-12-18T05:14:21.868Z"
   },
   {
    "duration": 119,
    "start_time": "2021-12-18T05:14:50.618Z"
   },
   {
    "duration": 10,
    "start_time": "2021-12-18T05:14:54.024Z"
   },
   {
    "duration": 27,
    "start_time": "2021-12-18T05:26:34.938Z"
   },
   {
    "duration": 18,
    "start_time": "2021-12-18T05:26:59.086Z"
   },
   {
    "duration": 23,
    "start_time": "2021-12-18T05:27:27.058Z"
   },
   {
    "duration": 120,
    "start_time": "2021-12-18T05:48:15.563Z"
   },
   {
    "duration": 28,
    "start_time": "2021-12-18T05:48:18.806Z"
   },
   {
    "duration": 26,
    "start_time": "2021-12-18T05:48:37.283Z"
   },
   {
    "duration": 3,
    "start_time": "2021-12-18T05:59:20.868Z"
   },
   {
    "duration": 29,
    "start_time": "2021-12-18T06:05:35.602Z"
   },
   {
    "duration": 5,
    "start_time": "2021-12-18T06:14:26.697Z"
   },
   {
    "duration": 9,
    "start_time": "2021-12-18T06:15:09.777Z"
   },
   {
    "duration": 4,
    "start_time": "2021-12-18T06:16:44.646Z"
   },
   {
    "duration": 118,
    "start_time": "2021-12-18T06:18:23.694Z"
   },
   {
    "duration": 6,
    "start_time": "2021-12-18T06:20:06.919Z"
   },
   {
    "duration": 9,
    "start_time": "2021-12-18T06:22:59.209Z"
   },
   {
    "duration": 299,
    "start_time": "2021-12-18T06:23:11.760Z"
   },
   {
    "duration": 10,
    "start_time": "2021-12-18T06:23:18.779Z"
   },
   {
    "duration": 64,
    "start_time": "2021-12-18T06:23:36.421Z"
   },
   {
    "duration": 22,
    "start_time": "2021-12-18T06:36:10.950Z"
   },
   {
    "duration": 14,
    "start_time": "2021-12-18T06:36:31.898Z"
   },
   {
    "duration": 20,
    "start_time": "2021-12-18T06:37:35.946Z"
   },
   {
    "duration": 107,
    "start_time": "2021-12-18T06:41:06.396Z"
   },
   {
    "duration": 3,
    "start_time": "2021-12-18T06:41:18.756Z"
   },
   {
    "duration": 14,
    "start_time": "2021-12-18T06:51:58.522Z"
   },
   {
    "duration": 90,
    "start_time": "2021-12-18T06:52:07.300Z"
   },
   {
    "duration": 15,
    "start_time": "2021-12-18T06:52:12.260Z"
   },
   {
    "duration": 49,
    "start_time": "2021-12-18T06:52:18.012Z"
   },
   {
    "duration": 12,
    "start_time": "2021-12-18T06:52:21.885Z"
   },
   {
    "duration": 53,
    "start_time": "2021-12-18T06:52:37.972Z"
   },
   {
    "duration": 3,
    "start_time": "2021-12-18T06:53:04.409Z"
   },
   {
    "duration": 23,
    "start_time": "2021-12-18T06:53:07.048Z"
   },
   {
    "duration": 266,
    "start_time": "2021-12-18T06:53:20.833Z"
   },
   {
    "duration": 17,
    "start_time": "2021-12-18T06:53:34.905Z"
   },
   {
    "duration": 13,
    "start_time": "2021-12-18T06:53:49.885Z"
   },
   {
    "duration": 55,
    "start_time": "2021-12-18T06:54:41.831Z"
   },
   {
    "duration": 299,
    "start_time": "2021-12-18T07:01:54.324Z"
   },
   {
    "duration": 257,
    "start_time": "2021-12-18T07:02:00.328Z"
   },
   {
    "duration": 17,
    "start_time": "2021-12-18T07:02:11.581Z"
   },
   {
    "duration": 6252,
    "start_time": "2021-12-18T07:02:18.289Z"
   },
   {
    "duration": 124,
    "start_time": "2021-12-18T07:02:28.692Z"
   },
   {
    "duration": 9,
    "start_time": "2021-12-18T07:02:32.761Z"
   },
   {
    "duration": 859,
    "start_time": "2021-12-18T07:02:36.656Z"
   },
   {
    "duration": 20,
    "start_time": "2021-12-18T07:02:46.145Z"
   },
   {
    "duration": 13,
    "start_time": "2021-12-18T07:02:56.241Z"
   },
   {
    "duration": 22,
    "start_time": "2021-12-18T07:03:02.209Z"
   },
   {
    "duration": 11,
    "start_time": "2021-12-18T07:03:07.705Z"
   },
   {
    "duration": 27,
    "start_time": "2021-12-18T07:03:42.413Z"
   },
   {
    "duration": 642,
    "start_time": "2021-12-18T12:15:00.511Z"
   },
   {
    "duration": 13,
    "start_time": "2021-12-18T12:15:01.155Z"
   },
   {
    "duration": 40,
    "start_time": "2021-12-18T12:15:01.171Z"
   },
   {
    "duration": 14,
    "start_time": "2021-12-18T12:15:01.214Z"
   },
   {
    "duration": 108,
    "start_time": "2021-12-18T12:15:01.230Z"
   },
   {
    "duration": 3,
    "start_time": "2021-12-18T12:15:01.340Z"
   },
   {
    "duration": 23,
    "start_time": "2021-12-18T12:15:01.345Z"
   },
   {
    "duration": 40,
    "start_time": "2021-12-18T12:15:01.369Z"
   },
   {
    "duration": 33,
    "start_time": "2021-12-18T12:15:01.412Z"
   },
   {
    "duration": 3,
    "start_time": "2021-12-18T12:15:01.447Z"
   },
   {
    "duration": 45,
    "start_time": "2021-12-18T12:15:01.452Z"
   },
   {
    "duration": 76,
    "start_time": "2021-12-18T12:15:01.499Z"
   },
   {
    "duration": 4853,
    "start_time": "2021-12-18T12:15:01.577Z"
   },
   {
    "duration": 107,
    "start_time": "2021-12-18T12:15:06.432Z"
   },
   {
    "duration": 6,
    "start_time": "2021-12-18T12:15:06.541Z"
   },
   {
    "duration": 6,
    "start_time": "2021-12-18T12:15:06.549Z"
   },
   {
    "duration": 638,
    "start_time": "2021-12-18T12:15:06.563Z"
   },
   {
    "duration": 764,
    "start_time": "2021-12-18T12:15:07.203Z"
   },
   {
    "duration": 10,
    "start_time": "2021-12-18T12:15:07.969Z"
   },
   {
    "duration": 2,
    "start_time": "2021-12-18T12:15:07.981Z"
   },
   {
    "duration": 21,
    "start_time": "2021-12-18T12:15:07.985Z"
   },
   {
    "duration": 8,
    "start_time": "2021-12-18T12:15:08.008Z"
   },
   {
    "duration": 5,
    "start_time": "2021-12-18T12:15:08.017Z"
   },
   {
    "duration": 112,
    "start_time": "2021-12-18T12:15:58.777Z"
   },
   {
    "duration": 91,
    "start_time": "2021-12-18T12:22:18.173Z"
   },
   {
    "duration": 8,
    "start_time": "2021-12-18T12:22:42.135Z"
   },
   {
    "duration": 91,
    "start_time": "2021-12-18T12:23:46.339Z"
   },
   {
    "duration": 330,
    "start_time": "2021-12-18T12:23:51.468Z"
   },
   {
    "duration": 14,
    "start_time": "2021-12-18T12:24:04.874Z"
   },
   {
    "duration": 9,
    "start_time": "2021-12-18T12:24:23.613Z"
   },
   {
    "duration": 656,
    "start_time": "2022-04-14T10:31:16.302Z"
   },
   {
    "duration": 22,
    "start_time": "2022-04-14T10:31:16.961Z"
   },
   {
    "duration": 75,
    "start_time": "2022-04-14T10:31:16.986Z"
   },
   {
    "duration": 18,
    "start_time": "2022-04-14T10:31:17.066Z"
   },
   {
    "duration": 152,
    "start_time": "2022-04-14T10:31:17.087Z"
   },
   {
    "duration": 4,
    "start_time": "2022-04-14T10:31:17.242Z"
   },
   {
    "duration": 36,
    "start_time": "2022-04-14T10:31:17.249Z"
   },
   {
    "duration": 24,
    "start_time": "2022-04-14T10:31:17.288Z"
   },
   {
    "duration": 37,
    "start_time": "2022-04-14T10:31:17.315Z"
   },
   {
    "duration": 7,
    "start_time": "2022-04-14T10:31:17.355Z"
   },
   {
    "duration": 63,
    "start_time": "2022-04-14T10:31:17.364Z"
   },
   {
    "duration": 69,
    "start_time": "2022-04-14T10:31:17.430Z"
   },
   {
    "duration": 6503,
    "start_time": "2022-04-14T10:31:17.502Z"
   },
   {
    "duration": 134,
    "start_time": "2022-04-14T10:31:24.008Z"
   },
   {
    "duration": 10,
    "start_time": "2022-04-14T10:31:24.145Z"
   },
   {
    "duration": 6,
    "start_time": "2022-04-14T10:31:24.157Z"
   },
   {
    "duration": 105,
    "start_time": "2022-04-14T10:31:24.165Z"
   },
   {
    "duration": 0,
    "start_time": "2022-04-14T10:31:24.273Z"
   },
   {
    "duration": 0,
    "start_time": "2022-04-14T10:31:24.274Z"
   },
   {
    "duration": 0,
    "start_time": "2022-04-14T10:31:24.276Z"
   },
   {
    "duration": 0,
    "start_time": "2022-04-14T10:31:24.277Z"
   },
   {
    "duration": 0,
    "start_time": "2022-04-14T10:31:24.278Z"
   },
   {
    "duration": 0,
    "start_time": "2022-04-14T10:31:24.280Z"
   },
   {
    "duration": 0,
    "start_time": "2022-04-14T10:31:24.281Z"
   },
   {
    "duration": 0,
    "start_time": "2022-04-14T10:31:24.282Z"
   },
   {
    "duration": 440,
    "start_time": "2022-04-14T10:36:21.495Z"
   },
   {
    "duration": 696,
    "start_time": "2022-04-14T10:38:27.461Z"
   },
   {
    "duration": 19,
    "start_time": "2022-04-14T10:38:57.197Z"
   },
   {
    "duration": 16,
    "start_time": "2022-04-14T10:40:41.882Z"
   },
   {
    "duration": 66,
    "start_time": "2022-04-14T10:41:04.018Z"
   },
   {
    "duration": 26,
    "start_time": "2022-04-14T10:42:06.504Z"
   },
   {
    "duration": 117,
    "start_time": "2022-04-14T10:42:21.419Z"
   },
   {
    "duration": 16,
    "start_time": "2022-04-14T10:43:08.591Z"
   },
   {
    "duration": 13,
    "start_time": "2022-04-14T10:43:51.843Z"
   },
   {
    "duration": 15,
    "start_time": "2022-04-14T10:44:01.992Z"
   },
   {
    "duration": 11,
    "start_time": "2022-04-14T10:45:23.129Z"
   },
   {
    "duration": 17,
    "start_time": "2022-04-14T10:45:29.745Z"
   },
   {
    "duration": 22,
    "start_time": "2022-04-14T10:45:32.784Z"
   },
   {
    "duration": 384,
    "start_time": "2022-04-14T10:45:51.401Z"
   },
   {
    "duration": 417,
    "start_time": "2022-04-14T10:46:05.565Z"
   },
   {
    "duration": 85,
    "start_time": "2022-04-14T10:46:17.261Z"
   },
   {
    "duration": 19,
    "start_time": "2022-04-14T10:48:06.418Z"
   },
   {
    "duration": 35,
    "start_time": "2022-04-14T10:49:08.299Z"
   },
   {
    "duration": 24,
    "start_time": "2022-04-14T10:50:29.398Z"
   },
   {
    "duration": 20,
    "start_time": "2022-04-14T10:51:27.053Z"
   },
   {
    "duration": 4750,
    "start_time": "2022-04-14T10:52:23.235Z"
   },
   {
    "duration": 13,
    "start_time": "2022-04-14T10:53:02.600Z"
   },
   {
    "duration": 38,
    "start_time": "2022-04-14T10:53:11.932Z"
   },
   {
    "duration": 13,
    "start_time": "2022-04-14T10:53:45.640Z"
   },
   {
    "duration": 46,
    "start_time": "2022-04-14T10:54:53.773Z"
   }
  ],
  "kernelspec": {
   "display_name": "Python 3 (ipykernel)",
   "language": "python",
   "name": "python3"
  },
  "language_info": {
   "codemirror_mode": {
    "name": "ipython",
    "version": 3
   },
   "file_extension": ".py",
   "mimetype": "text/x-python",
   "name": "python",
   "nbconvert_exporter": "python",
   "pygments_lexer": "ipython3",
   "version": "3.9.5"
  },
  "toc": {
   "base_numbering": 1,
   "nav_menu": {},
   "number_sections": true,
   "sideBar": true,
   "skip_h1_title": true,
   "title_cell": "Table of Contents",
   "title_sidebar": "Contents",
   "toc_cell": false,
   "toc_position": {
    "height": "calc(100% - 180px)",
    "left": "10px",
    "top": "150px",
    "width": "426px"
   },
   "toc_section_display": true,
   "toc_window_display": true
  }
 },
 "nbformat": 4,
 "nbformat_minor": 2
}
